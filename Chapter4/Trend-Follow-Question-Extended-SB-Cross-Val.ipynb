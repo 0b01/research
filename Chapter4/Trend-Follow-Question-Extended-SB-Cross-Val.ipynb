{
 "cells": [
  {
   "cell_type": "markdown",
   "metadata": {},
   "source": [
    "# Trend Following Strategy\n",
    "\n",
    "This notebook answers question 3.4 form the text book Advances in Financial Machine Learning.\n",
    "\n",
    "3.4 Develop a trend-following strategy based on a popular technical analysis statistic (e.g., crossing moving averages). For each observation, the model suggests a side, but not a size of the bet.\n",
    "\n",
    "* (a) Derive meta-labels for ptSl = [1, 2] and t1 where numDays = 1. Use as trgt the daily standard deviation as computed by Snippet 3.1.\n",
    "* (b) Train a random forest to decide whether to trade or not. Note: The decision is whether to trade or not, {0,1}, since the underlying model (the crossing moving average) has decided the side, {-1, 1}.\n",
    "\n",
    "I took some liberties by extending the features to which I use to build the meta model. I also add some performance metrics at the end. \n",
    "\n",
    "In conclusion: Meta Labeling works, SMA strategies suck."
   ]
  },
  {
   "cell_type": "code",
   "execution_count": 1,
   "metadata": {},
   "outputs": [],
   "source": [
    "# Import the Hudson and Thames MlFinLab package\n",
    "import mlfinlab as ml"
   ]
  },
  {
   "cell_type": "code",
   "execution_count": 2,
   "metadata": {},
   "outputs": [],
   "source": [
    "import numpy as np\n",
    "import pandas as pd\n",
    "#import pyfolio as pf\n",
    "import timeit\n",
    "\n",
    "from sklearn.ensemble import RandomForestClassifier, BaggingClassifier\n",
    "from sklearn.tree import DecisionTreeClassifier\n",
    "from sklearn.model_selection import train_test_split\n",
    "from sklearn.metrics import roc_curve, classification_report, confusion_matrix, accuracy_score\n",
    "from sklearn.utils import resample\n",
    "from sklearn.utils import shuffle\n",
    "\n",
    "from sklearn.model_selection import cross_val_score\n",
    "from sklearn.model_selection import GridSearchCV, KFold, StratifiedKFold\n",
    "from mlfinlab.feature_importance import (feature_importance_mean_decrease_impurity, \n",
    "                                        feature_importance_mean_decrease_accuracy, \n",
    "                                        feature_importance_sfi, plot_feature_importance)\n",
    "from mlfinlab.ensemble import SequentiallyBootstrappedBaggingClassifier\n",
    "import matplotlib.pyplot as plt\n",
    "%matplotlib inline"
   ]
  },
  {
   "cell_type": "markdown",
   "metadata": {},
   "source": [
    "### Read in Data\n",
    "We are using the dollar bars based off of the high quality HFT data we purchased. There is a sample of bars available in this branch as well. "
   ]
  },
  {
   "cell_type": "code",
   "execution_count": 3,
   "metadata": {},
   "outputs": [],
   "source": [
    "# Read in data\n",
    "data = pd.read_csv('official_data/dollar_bars.csv')\n",
    "data.index = pd.to_datetime(data['date_time'])\n",
    "data = data.drop('date_time', axis=1)"
   ]
  },
  {
   "cell_type": "code",
   "execution_count": 4,
   "metadata": {},
   "outputs": [],
   "source": [
    "data = data['2011-09-01':]"
   ]
  },
  {
   "cell_type": "markdown",
   "metadata": {},
   "source": [
    "---\n",
    "### Fit a Primary Model: Trend Following\n",
    "Based on the simple moving average cross-over strategy.\n"
   ]
  },
  {
   "cell_type": "code",
   "execution_count": 5,
   "metadata": {},
   "outputs": [],
   "source": [
    "# compute moving averages\n",
    "fast_window = 20\n",
    "slow_window = 50\n",
    "\n",
    "data['fast_mavg'] = data['close'].rolling(window=fast_window, min_periods=fast_window, center=False).mean()\n",
    "data['slow_mavg'] = data['close'].rolling(window=slow_window, min_periods=slow_window, center=False).mean()\n",
    "data.head()\n",
    "\n",
    "# Compute sides\n",
    "data['side'] = np.nan\n",
    "\n",
    "long_signals = data['fast_mavg'] >= data['slow_mavg'] \n",
    "short_signals = data['fast_mavg'] < data['slow_mavg'] \n",
    "data.loc[long_signals, 'side'] = 1\n",
    "data.loc[short_signals, 'side'] = -1\n",
    "\n",
    "# Remove Look ahead biase by lagging the signal\n",
    "data['side'] = data['side'].shift(1)"
   ]
  },
  {
   "cell_type": "code",
   "execution_count": 6,
   "metadata": {},
   "outputs": [],
   "source": [
    "# Save the raw data\n",
    "raw_data = data.copy()\n",
    "\n",
    "# Drop the NaN values from our data set\n",
    "data.dropna(axis=0, how='any', inplace=True)"
   ]
  },
  {
   "cell_type": "code",
   "execution_count": 7,
   "metadata": {},
   "outputs": [
    {
     "data": {
      "text/plain": [
       " 1.0    45136\n",
       "-1.0    38762\n",
       "Name: side, dtype: int64"
      ]
     },
     "execution_count": 7,
     "metadata": {},
     "output_type": "execute_result"
    }
   ],
   "source": [
    "data['side'].value_counts()"
   ]
  },
  {
   "cell_type": "markdown",
   "metadata": {},
   "source": [
    "### Filter Events: CUSUM Filter\n",
    "Predict what will happen when a CUSUM event is triggered. Use the signal from the MAvg Strategy to determine the side of the bet."
   ]
  },
  {
   "cell_type": "code",
   "execution_count": 8,
   "metadata": {},
   "outputs": [],
   "source": [
    "# Compute daily volatility\n",
    "daily_vol = ml.util.get_daily_vol(close=data['close'], lookback=50)\n",
    "\n",
    "# Apply Symmetric CUSUM Filter and get timestamps for events\n",
    "# Note: Only the CUSUM filter needs a point estimate for volatility\n",
    "cusum_events = ml.filters.cusum_filter(data['close'], threshold=daily_vol['2011-09-01':'2018-01-01'].mean()*0.5)\n",
    "\n",
    "# Compute vertical barrier\n",
    "vertical_barriers = ml.labeling.add_vertical_barrier(t_events=cusum_events, close=data['close'], num_days=1)"
   ]
  },
  {
   "cell_type": "code",
   "execution_count": 9,
   "metadata": {},
   "outputs": [
    {
     "name": "stderr",
     "output_type": "stream",
     "text": [
      "/home/alex/anaconda3/envs/research/lib/python3.7/site-packages/mlfinlab/labeling/labeling.py:124: FutureWarning: \n",
      "Passing list-likes to .loc or [] with any missing label will raise\n",
      "KeyError in the future, you can use .reindex() as an alternative.\n",
      "\n",
      "See the documentation here:\n",
      "https://pandas.pydata.org/pandas-docs/stable/user_guide/indexing.html#deprecate-loc-reindex-listlike\n",
      "  target = target.loc[t_events]\n",
      "2019-11-21 17:43:03.200289 100.0% apply_pt_sl_on_t1 done after 0.11 minutes. Remaining 0.0 minutes..\n"
     ]
    }
   ],
   "source": [
    "pt_sl = [1, 2]\n",
    "min_ret = 0.005\n",
    "triple_barrier_events = ml.labeling.get_events(close=data['close'],\n",
    "                                               t_events=cusum_events,\n",
    "                                               pt_sl=pt_sl,\n",
    "                                               target=daily_vol,\n",
    "                                               min_ret=min_ret,\n",
    "                                               num_threads=3,\n",
    "                                               vertical_barrier_times=vertical_barriers,\n",
    "                                               side_prediction=data['side'])"
   ]
  },
  {
   "cell_type": "code",
   "execution_count": 10,
   "metadata": {},
   "outputs": [
    {
     "data": {
      "text/plain": [
       "-1.0    4395\n",
       " 1.0    4023\n",
       "Name: side, dtype: int64"
      ]
     },
     "execution_count": 10,
     "metadata": {},
     "output_type": "execute_result"
    }
   ],
   "source": [
    "labels = ml.labeling.get_bins(triple_barrier_events, data['close'])\n",
    "labels.side.value_counts()"
   ]
  },
  {
   "cell_type": "markdown",
   "metadata": {},
   "source": [
    "---\n",
    "### Results of Primary Model:\n",
    "What is the accuracy of predictions from the primary model (i.e., if the sec- ondary model does not filter the bets)? What are the precision, recall, and F1-scores?"
   ]
  },
  {
   "cell_type": "code",
   "execution_count": 11,
   "metadata": {},
   "outputs": [
    {
     "name": "stdout",
     "output_type": "stream",
     "text": [
      "              precision    recall  f1-score   support\n",
      "\n",
      "           0       0.00      0.00      0.00      5312\n",
      "           1       0.37      1.00      0.54      3106\n",
      "\n",
      "    accuracy                           0.37      8418\n",
      "   macro avg       0.18      0.50      0.27      8418\n",
      "weighted avg       0.14      0.37      0.20      8418\n",
      "\n",
      "Confusion Matrix\n",
      "[[   0 5312]\n",
      " [   0 3106]]\n",
      "\n",
      "Accuracy\n",
      "0.3689712520788786\n"
     ]
    },
    {
     "name": "stderr",
     "output_type": "stream",
     "text": [
      "/home/alex/anaconda3/envs/research/lib/python3.7/site-packages/sklearn/metrics/classification.py:1437: UndefinedMetricWarning: Precision and F-score are ill-defined and being set to 0.0 in labels with no predicted samples.\n",
      "  'precision', 'predicted', average, warn_for)\n"
     ]
    }
   ],
   "source": [
    "primary_forecast = pd.DataFrame(labels['bin'])\n",
    "primary_forecast['pred'] = 1\n",
    "primary_forecast.columns = ['actual', 'pred']\n",
    "\n",
    "# Performance Metrics\n",
    "actual = primary_forecast['actual']\n",
    "pred = primary_forecast['pred']\n",
    "print(classification_report(y_true=actual, y_pred=pred))\n",
    "\n",
    "print(\"Confusion Matrix\")\n",
    "print(confusion_matrix(actual, pred))\n",
    "\n",
    "print('')\n",
    "print(\"Accuracy\")\n",
    "print(accuracy_score(actual, pred))"
   ]
  },
  {
   "cell_type": "markdown",
   "metadata": {},
   "source": [
    "**A few takeaways**\n",
    "* There is an imbalance in the classes - more are classified as \"no trade\"\n",
    "* Meta-labeling says that there are many false-positives  \n",
    "* the sklearn's confusion matrix is [[TN, FP][FN, TP]] "
   ]
  },
  {
   "cell_type": "markdown",
   "metadata": {},
   "source": [
    "---\n",
    "## Fit a Meta Model\n",
    "Train a random forest to decide whether to trade or not (i.e 1 or 0 respectively) since the earlier model has decided the side (-1 or 1)\n",
    "\n",
    "Create the following features: \n",
    "* Volatility\n",
    "* Serial Correlation\n",
    "* The returns at the different lags from the serial correlation\n",
    "* The sides from the SMavg Strategy"
   ]
  },
  {
   "cell_type": "code",
   "execution_count": 12,
   "metadata": {},
   "outputs": [
    {
     "data": {
      "text/html": [
       "<div>\n",
       "<style scoped>\n",
       "    .dataframe tbody tr th:only-of-type {\n",
       "        vertical-align: middle;\n",
       "    }\n",
       "\n",
       "    .dataframe tbody tr th {\n",
       "        vertical-align: top;\n",
       "    }\n",
       "\n",
       "    .dataframe thead th {\n",
       "        text-align: right;\n",
       "    }\n",
       "</style>\n",
       "<table border=\"1\" class=\"dataframe\">\n",
       "  <thead>\n",
       "    <tr style=\"text-align: right;\">\n",
       "      <th></th>\n",
       "      <th>open</th>\n",
       "      <th>high</th>\n",
       "      <th>low</th>\n",
       "      <th>close</th>\n",
       "      <th>cum_vol</th>\n",
       "      <th>cum_dollar</th>\n",
       "      <th>cum_ticks</th>\n",
       "      <th>fast_mavg</th>\n",
       "      <th>slow_mavg</th>\n",
       "      <th>side</th>\n",
       "    </tr>\n",
       "    <tr>\n",
       "      <th>date_time</th>\n",
       "      <th></th>\n",
       "      <th></th>\n",
       "      <th></th>\n",
       "      <th></th>\n",
       "      <th></th>\n",
       "      <th></th>\n",
       "      <th></th>\n",
       "      <th></th>\n",
       "      <th></th>\n",
       "      <th></th>\n",
       "    </tr>\n",
       "  </thead>\n",
       "  <tbody>\n",
       "    <tr>\n",
       "      <th>2011-09-01 06:08:14.750</th>\n",
       "      <td>1217.50</td>\n",
       "      <td>1224.50</td>\n",
       "      <td>1216.5</td>\n",
       "      <td>1220.00</td>\n",
       "      <td>57388</td>\n",
       "      <td>70028257.0</td>\n",
       "      <td>19018</td>\n",
       "      <td>NaN</td>\n",
       "      <td>NaN</td>\n",
       "      <td>NaN</td>\n",
       "    </tr>\n",
       "    <tr>\n",
       "      <th>2011-09-01 07:48:09.398</th>\n",
       "      <td>1220.00</td>\n",
       "      <td>1224.50</td>\n",
       "      <td>1215.5</td>\n",
       "      <td>1215.75</td>\n",
       "      <td>57394</td>\n",
       "      <td>70005670.5</td>\n",
       "      <td>20160</td>\n",
       "      <td>NaN</td>\n",
       "      <td>NaN</td>\n",
       "      <td>NaN</td>\n",
       "    </tr>\n",
       "    <tr>\n",
       "      <th>2011-09-01 09:13:14.311</th>\n",
       "      <td>1215.75</td>\n",
       "      <td>1216.50</td>\n",
       "      <td>1209.5</td>\n",
       "      <td>1210.00</td>\n",
       "      <td>57691</td>\n",
       "      <td>70000560.5</td>\n",
       "      <td>21107</td>\n",
       "      <td>NaN</td>\n",
       "      <td>NaN</td>\n",
       "      <td>NaN</td>\n",
       "    </tr>\n",
       "    <tr>\n",
       "      <th>2011-09-01 10:51:49.085</th>\n",
       "      <td>1210.00</td>\n",
       "      <td>1213.50</td>\n",
       "      <td>1208.5</td>\n",
       "      <td>1212.50</td>\n",
       "      <td>57801</td>\n",
       "      <td>70003237.5</td>\n",
       "      <td>17728</td>\n",
       "      <td>NaN</td>\n",
       "      <td>NaN</td>\n",
       "      <td>NaN</td>\n",
       "    </tr>\n",
       "    <tr>\n",
       "      <th>2011-09-01 12:23:59.756</th>\n",
       "      <td>1212.50</td>\n",
       "      <td>1216.75</td>\n",
       "      <td>1210.5</td>\n",
       "      <td>1215.75</td>\n",
       "      <td>57656</td>\n",
       "      <td>70000722.0</td>\n",
       "      <td>19398</td>\n",
       "      <td>NaN</td>\n",
       "      <td>NaN</td>\n",
       "      <td>NaN</td>\n",
       "    </tr>\n",
       "  </tbody>\n",
       "</table>\n",
       "</div>"
      ],
      "text/plain": [
       "                            open     high     low    close  cum_vol  \\\n",
       "date_time                                                             \n",
       "2011-09-01 06:08:14.750  1217.50  1224.50  1216.5  1220.00    57388   \n",
       "2011-09-01 07:48:09.398  1220.00  1224.50  1215.5  1215.75    57394   \n",
       "2011-09-01 09:13:14.311  1215.75  1216.50  1209.5  1210.00    57691   \n",
       "2011-09-01 10:51:49.085  1210.00  1213.50  1208.5  1212.50    57801   \n",
       "2011-09-01 12:23:59.756  1212.50  1216.75  1210.5  1215.75    57656   \n",
       "\n",
       "                         cum_dollar  cum_ticks  fast_mavg  slow_mavg  side  \n",
       "date_time                                                                   \n",
       "2011-09-01 06:08:14.750  70028257.0      19018        NaN        NaN   NaN  \n",
       "2011-09-01 07:48:09.398  70005670.5      20160        NaN        NaN   NaN  \n",
       "2011-09-01 09:13:14.311  70000560.5      21107        NaN        NaN   NaN  \n",
       "2011-09-01 10:51:49.085  70003237.5      17728        NaN        NaN   NaN  \n",
       "2011-09-01 12:23:59.756  70000722.0      19398        NaN        NaN   NaN  "
      ]
     },
     "execution_count": 12,
     "metadata": {},
     "output_type": "execute_result"
    }
   ],
   "source": [
    "raw_data.head()"
   ]
  },
  {
   "cell_type": "markdown",
   "metadata": {},
   "source": [
    "### Features"
   ]
  },
  {
   "cell_type": "code",
   "execution_count": 13,
   "metadata": {},
   "outputs": [],
   "source": [
    "# Log Returns\n",
    "raw_data['log_ret'] = np.log(raw_data['close']).diff()\n",
    "\n",
    "# Momentum\n",
    "raw_data['mom1'] = raw_data['close'].pct_change(periods=1)\n",
    "raw_data['mom2'] = raw_data['close'].pct_change(periods=2)\n",
    "raw_data['mom3'] = raw_data['close'].pct_change(periods=3)\n",
    "raw_data['mom4'] = raw_data['close'].pct_change(periods=4)\n",
    "raw_data['mom5'] = raw_data['close'].pct_change(periods=5)\n",
    "\n",
    "# Volatility\n",
    "raw_data['volatility_50'] = raw_data['log_ret'].rolling(window=50, min_periods=50, center=False).std()\n",
    "raw_data['volatility_31'] = raw_data['log_ret'].rolling(window=31, min_periods=31, center=False).std()\n",
    "raw_data['volatility_15'] = raw_data['log_ret'].rolling(window=15, min_periods=15, center=False).std()\n",
    "\n",
    "# Serial Correlation (Takes about 4 minutes)\n",
    "window_autocorr = 50\n",
    "\n",
    "raw_data['autocorr_1'] = raw_data['log_ret'].rolling(window=window_autocorr, min_periods=window_autocorr, center=False).apply(lambda x: x.autocorr(lag=1), raw=False)\n",
    "raw_data['autocorr_2'] = raw_data['log_ret'].rolling(window=window_autocorr, min_periods=window_autocorr, center=False).apply(lambda x: x.autocorr(lag=2), raw=False)\n",
    "raw_data['autocorr_3'] = raw_data['log_ret'].rolling(window=window_autocorr, min_periods=window_autocorr, center=False).apply(lambda x: x.autocorr(lag=3), raw=False)\n",
    "raw_data['autocorr_4'] = raw_data['log_ret'].rolling(window=window_autocorr, min_periods=window_autocorr, center=False).apply(lambda x: x.autocorr(lag=4), raw=False)\n",
    "raw_data['autocorr_5'] = raw_data['log_ret'].rolling(window=window_autocorr, min_periods=window_autocorr, center=False).apply(lambda x: x.autocorr(lag=5), raw=False)\n",
    "\n",
    "# Get the various log -t returns\n",
    "raw_data['log_t1'] = raw_data['log_ret'].shift(1)\n",
    "raw_data['log_t2'] = raw_data['log_ret'].shift(2)\n",
    "raw_data['log_t3'] = raw_data['log_ret'].shift(3)\n",
    "raw_data['log_t4'] = raw_data['log_ret'].shift(4)\n",
    "raw_data['log_t5'] = raw_data['log_ret'].shift(5)"
   ]
  },
  {
   "cell_type": "code",
   "execution_count": 14,
   "metadata": {},
   "outputs": [],
   "source": [
    "# Re compute sides\n",
    "raw_data['side'] = np.nan\n",
    "\n",
    "long_signals = raw_data['fast_mavg'] >= raw_data['slow_mavg']\n",
    "short_signals = raw_data['fast_mavg'] < raw_data['slow_mavg']\n",
    "\n",
    "raw_data.loc[long_signals, 'side'] = 1\n",
    "raw_data.loc[short_signals, 'side'] = -1"
   ]
  },
  {
   "cell_type": "code",
   "execution_count": 15,
   "metadata": {},
   "outputs": [],
   "source": [
    "# Remove look ahead bias\n",
    "raw_data = raw_data.shift(1)"
   ]
  },
  {
   "cell_type": "markdown",
   "metadata": {},
   "source": [
    "#### Now get the data at the specified events"
   ]
  },
  {
   "cell_type": "code",
   "execution_count": 16,
   "metadata": {},
   "outputs": [],
   "source": [
    "# Get features at event dates\n",
    "X = raw_data.loc[labels.index, :]\n",
    "\n",
    "# Drop unwanted columns\n",
    "X.drop(['open', 'high', 'low', 'close', 'cum_vol', 'cum_dollar', 'cum_ticks','fast_mavg', 'slow_mavg',], axis=1, inplace=True)\n",
    "\n",
    "y = labels['bin']"
   ]
  },
  {
   "cell_type": "code",
   "execution_count": 17,
   "metadata": {},
   "outputs": [
    {
     "data": {
      "text/plain": [
       "0    5312\n",
       "1    3106\n",
       "Name: bin, dtype: int64"
      ]
     },
     "execution_count": 17,
     "metadata": {},
     "output_type": "execute_result"
    }
   ],
   "source": [
    "y.value_counts()"
   ]
  },
  {
   "cell_type": "code",
   "execution_count": 18,
   "metadata": {},
   "outputs": [],
   "source": [
    "# Split data into training, validation and test sets\n",
    "X_training_validation = X['2011-09-01':'2018-01-01']\n",
    "y_training_validation = y['2011-09-01':'2018-01-01']\n",
    "X_train, X_validate, y_train, y_validate = train_test_split(X_training_validation, y_training_validation, test_size=0.15, shuffle=False)"
   ]
  },
  {
   "cell_type": "markdown",
   "metadata": {},
   "source": [
    "### Cross-Validation"
   ]
  },
  {
   "cell_type": "code",
   "execution_count": 19,
   "metadata": {},
   "outputs": [],
   "source": [
    "parameters = {'max_depth':[2, 3, 4, 5, 7],\n",
    "              'n_estimators':[10, 25, 50, 100, 256, 512]}"
   ]
  },
  {
   "cell_type": "code",
   "execution_count": 20,
   "metadata": {},
   "outputs": [],
   "source": [
    "cv_gen_standard = KFold(4)\n",
    "cv_gen_purged = ml.cross_validation.PurgedKFold(n_splits=4, \n",
    "                                                samples_info_sets=triple_barrier_events.loc[X_train.index].t1)"
   ]
  },
  {
   "cell_type": "code",
   "execution_count": 21,
   "metadata": {},
   "outputs": [],
   "source": [
    "def perform_grid_search(X_data, y_data, cv_gen, scoring, type='standard'):\n",
    "    max_cross_val_score = -np.inf\n",
    "    top_model = None\n",
    "    for m_depth in parameters['max_depth']:\n",
    "        for n_est in parameters['n_estimators']:\n",
    "            clf_base = DecisionTreeClassifier(criterion='entropy', random_state=42, \n",
    "                                              max_depth=m_depth, class_weight='balanced')\n",
    "            if type == 'standard':\n",
    "                clf = BaggingClassifier(n_estimators=n_est, \n",
    "                                        base_estimator=clf_base, \n",
    "                                        random_state=42, n_jobs=-1, \n",
    "                                        oob_score=False, max_features=1.)\n",
    "            elif type == 'random_forest':\n",
    "                clf = RandomForestClassifier(n_estimators=n_est, \n",
    "                                             max_depth=m_depth, \n",
    "                                             random_state=42, \n",
    "                                             n_jobs=-1, \n",
    "                                             oob_score=False, \n",
    "                                            criterion='entropy',\n",
    "                                            class_weight='balanced_subsample', \n",
    "                                            max_features=1.)\n",
    "            elif type == 'sequential_bootstrapping':\n",
    "                clf = SequentiallyBootstrappedBaggingClassifier(samples_info_sets=triple_barrier_events.loc[X_train.index].t1,\n",
    "                                                                price_bars = data.loc[X_train.index.min():X_train.index.max(), 'close'],\n",
    "                                                                n_estimators=n_est, base_estimator=clf_base, \n",
    "                                                                random_state=42, n_jobs=-1, oob_score=False,\n",
    "                                                                max_features=1.)\n",
    "            temp_score_base = ml.cross_validation.ml_cross_val_score(clf, X_train, y_train, cv_gen, scoring=scoring)\n",
    "            if temp_score_base.mean() > max_cross_val_score:\n",
    "                max_cross_val_score = temp_score_base.mean()\n",
    "                print(temp_score_base.mean())\n",
    "                top_model = clf\n",
    "    return top_model, max_cross_val_score"
   ]
  },
  {
   "cell_type": "markdown",
   "metadata": {},
   "source": [
    "Standard cross-validation vs Purged"
   ]
  },
  {
   "cell_type": "code",
   "execution_count": 35,
   "metadata": {},
   "outputs": [
    {
     "name": "stdout",
     "output_type": "stream",
     "text": [
      "0.34982252634951105\n",
      "0.3551269487416243\n",
      "0.3723612143267705\n",
      "0.38297651453225434\n",
      "0.41718437355149246\n",
      "0.4190578273690485\n",
      "0.42472289564835164\n",
      "0.42795545358276454\n"
     ]
    }
   ],
   "source": [
    "top_model, cross_val_score = perform_grid_search(X_train, y_train, cv_gen_purged, 'f1')"
   ]
  },
  {
   "cell_type": "code",
   "execution_count": null,
   "metadata": {},
   "outputs": [],
   "source": [
    "top_model, cross_val_score = perform_grid_search(X_train, y_train, cv_gen_purged, 'f1', type = 'sequential_bootstrapping')"
   ]
  },
  {
   "cell_type": "markdown",
   "metadata": {},
   "source": [
    "# Feature importance"
   ]
  },
  {
   "cell_type": "code",
   "execution_count": 41,
   "metadata": {},
   "outputs": [],
   "source": [
    "# MDI feature importance\n",
    "mdi_feat_imp = feature_importance_mean_decrease_impurity(top_model, X_train.columns)\n",
    "mda_feat_imp = feature_importance_mean_decrease_accuracy(top_model, X_train, y_train, cv_gen_purged, scoring='f1')\n",
    "sfi_feat_imp = feature_importance_sfi(top_model, X_train, y_train, cv_gen_purged, scoring='f1')"
   ]
  },
  {
   "cell_type": "code",
   "execution_count": 43,
   "metadata": {},
   "outputs": [
    {
     "data": {
      "image/png": "[encoded data removed]",
      "text/plain": [
       "<Figure size 720x288 with 1 Axes>"
      ]
     },
     "metadata": {
      "needs_background": "light"
     },
     "output_type": "display_data"
    }
   ],
   "source": [
    "plot_feature_importance(mdi_feat_imp, 0, 0)"
   ]
  },
  {
   "cell_type": "code",
   "execution_count": 44,
   "metadata": {},
   "outputs": [
    {
     "data": {
      "image/png": "[encoded data removed]",
      "text/plain": [
       "<Figure size 720x288 with 1 Axes>"
      ]
     },
     "metadata": {
      "needs_background": "light"
     },
     "output_type": "display_data"
    }
   ],
   "source": [
    "plot_feature_importance(mda_feat_imp, 0, 0)"
   ]
  },
  {
   "cell_type": "code",
   "execution_count": 45,
   "metadata": {},
   "outputs": [
    {
     "data": {
      "image/png": "[encoded data removed]",
      "text/plain": [
       "<Figure size 720x288 with 1 Axes>"
      ]
     },
     "metadata": {
      "needs_background": "light"
     },
     "output_type": "display_data"
    }
   ],
   "source": [
    "plot_feature_importance(sfi_feat_imp, 0, 0)"
   ]
  },
  {
   "cell_type": "markdown",
   "metadata": {},
   "source": [
    "#### Validation Metrics"
   ]
  },
  {
   "cell_type": "code",
   "execution_count": null,
   "metadata": {},
   "outputs": [],
   "source": [
    "# Meta-label\n",
    "# Performance Metrics\n",
    "y_pred_rf = rf.predict_proba(X_validate)[:, 1]\n",
    "y_pred = rf.predict(X_validate)\n",
    "fpr_rf, tpr_rf, _ = roc_curve(y_validate, y_pred_rf)\n",
    "print(classification_report(y_validate, y_pred))\n",
    "\n",
    "print(\"Confusion Matrix\")\n",
    "print(confusion_matrix(y_validate, y_pred))\n",
    "\n",
    "print('')\n",
    "print(\"Accuracy\")\n",
    "print(accuracy_score(y_validate, y_pred))\n",
    "\n",
    "plt.figure(1)\n",
    "plt.plot([0, 1], [0, 1], 'k--')\n",
    "plt.plot(fpr_rf, tpr_rf, label='RF')\n",
    "plt.xlabel('False positive rate')\n",
    "plt.ylabel('True positive rate')\n",
    "plt.title('ROC curve')\n",
    "plt.legend(loc='best')\n",
    "plt.show()"
   ]
  },
  {
   "cell_type": "code",
   "execution_count": null,
   "metadata": {},
   "outputs": [],
   "source": [
    "print(X_validate.index.min())\n",
    "print(X_validate.index.max())"
   ]
  },
  {
   "cell_type": "code",
   "execution_count": null,
   "metadata": {},
   "outputs": [],
   "source": [
    "# Primary model\n",
    "primary_forecast = pd.DataFrame(labels['bin'])\n",
    "primary_forecast['pred'] = 1\n",
    "primary_forecast.columns = ['actual', 'pred']\n",
    "\n",
    "start = primary_forecast.index.get_loc('2016-01-20 14:42:03.869000')\n",
    "end = primary_forecast.index.get_loc('2017-12-04 15:45:10.747000') + 1\n",
    "\n",
    "subset_prim = primary_forecast[start:end]\n",
    "\n",
    "# Performance Metrics\n",
    "actual = subset_prim['actual']\n",
    "pred = subset_prim['pred']\n",
    "print(classification_report(y_true=actual, y_pred=pred))\n",
    "\n",
    "print(\"Confusion Matrix\")\n",
    "print(confusion_matrix(actual, pred))\n",
    "\n",
    "print('')\n",
    "print(\"Accuracy\")\n",
    "print(accuracy_score(actual, pred))"
   ]
  },
  {
   "cell_type": "code",
   "execution_count": null,
   "metadata": {},
   "outputs": [],
   "source": [
    "# Feature Importance\n",
    "title = 'Feature Importance:'\n",
    "figsize = (15, 5)\n",
    "\n",
    "feat_imp = pd.DataFrame({'Importance':rf.feature_importances_})    \n",
    "feat_imp['feature'] = X.columns\n",
    "feat_imp.sort_values(by='Importance', ascending=False, inplace=True)\n",
    "feat_imp = feat_imp\n",
    "\n",
    "feat_imp.sort_values(by='Importance', inplace=True)\n",
    "feat_imp = feat_imp.set_index('feature', drop=True)\n",
    "feat_imp.plot.barh(title=title, figsize=figsize)\n",
    "plt.xlabel('Feature Importance Score')\n",
    "plt.show()"
   ]
  },
  {
   "cell_type": "markdown",
   "metadata": {},
   "source": [
    "---\n",
    "## Performance Tear Sheets (In-sample)\n",
    "\n",
    "### Without Meta Labeling"
   ]
  },
  {
   "cell_type": "code",
   "execution_count": null,
   "metadata": {},
   "outputs": [],
   "source": [
    "def get_daily_returns(intraday_returns):\n",
    "    \"\"\"\n",
    "    This changes returns into daily returns that will work using pyfolio. Its not perfect...\n",
    "    \"\"\"\n",
    "    \n",
    "    cum_rets = ((intraday_returns + 1).cumprod())\n",
    "\n",
    "    # Downsample to daily\n",
    "    daily_rets = cum_rets.resample('B').last()\n",
    "\n",
    "    # Forward fill, Percent Change, Drop NaN\n",
    "    daily_rets = daily_rets.ffill().pct_change().dropna()\n",
    "    \n",
    "    return daily_rets"
   ]
  },
  {
   "cell_type": "code",
   "execution_count": null,
   "metadata": {},
   "outputs": [],
   "source": [
    "valid_dates = X_validate.index\n",
    "base_rets = labels.loc[valid_dates, 'ret']\n",
    "primary_model_rets = get_daily_returns(base_rets)"
   ]
  },
  {
   "cell_type": "code",
   "execution_count": null,
   "metadata": {},
   "outputs": [],
   "source": [
    "# Set-up the function to extract the KPIs from pyfolio\n",
    "perf_func = pf.timeseries.perf_stats"
   ]
  },
  {
   "cell_type": "code",
   "execution_count": null,
   "metadata": {},
   "outputs": [],
   "source": [
    "# Save the statistics in a dataframe\n",
    "perf_stats_all = perf_func(returns=primary_model_rets, \n",
    "                           factor_returns=None, \n",
    "                           positions=None,\n",
    "                           transactions=None,\n",
    "                           turnover_denom=\"AGB\")\n",
    "perf_stats_df = pd.DataFrame(data=perf_stats_all, columns=['Primary Model'])\n",
    "\n",
    "pf.show_perf_stats(primary_model_rets)"
   ]
  },
  {
   "cell_type": "markdown",
   "metadata": {},
   "source": [
    "### With Meta Labeling"
   ]
  },
  {
   "cell_type": "code",
   "execution_count": null,
   "metadata": {},
   "outputs": [],
   "source": [
    "meta_returns = labels.loc[valid_dates, 'ret'] * y_pred\n",
    "daily_meta_rets = get_daily_returns(meta_returns)"
   ]
  },
  {
   "cell_type": "code",
   "execution_count": null,
   "metadata": {},
   "outputs": [],
   "source": [
    "# Save the KPIs in a dataframe\n",
    "perf_stats_all = perf_func(returns=daily_meta_rets, \n",
    "                           factor_returns=None, \n",
    "                           positions=None,\n",
    "                           transactions=None,\n",
    "                           turnover_denom=\"AGB\")\n",
    "\n",
    "perf_stats_df['Meta Model'] = perf_stats_all\n",
    "\n",
    "pf.show_perf_stats(daily_meta_rets)"
   ]
  },
  {
   "cell_type": "markdown",
   "metadata": {},
   "source": [
    "---\n",
    "## Perform out-of-sample test\n",
    "### Meta Model Metrics"
   ]
  },
  {
   "cell_type": "code",
   "execution_count": null,
   "metadata": {},
   "outputs": [],
   "source": [
    "# Extarct data for out-of-sample (OOS)\n",
    "X_oos = X['2018-01-02':]\n",
    "y_oos = y['2018-01-02':]"
   ]
  },
  {
   "cell_type": "code",
   "execution_count": null,
   "metadata": {},
   "outputs": [],
   "source": [
    "# Performance Metrics\n",
    "y_pred_rf = rf.predict_proba(X_oos)[:, 1]\n",
    "y_pred = rf.predict(X_oos)\n",
    "fpr_rf, tpr_rf, _ = roc_curve(y_oos, y_pred_rf)\n",
    "print(classification_report(y_oos, y_pred))\n",
    "\n",
    "print(\"Confusion Matrix\")\n",
    "print(confusion_matrix(y_oos, y_pred))\n",
    "\n",
    "print('')\n",
    "print(\"Accuracy\")\n",
    "print(accuracy_score(y_oos, y_pred))\n",
    "\n",
    "plt.figure(1)\n",
    "plt.plot([0, 1], [0, 1], 'k--')\n",
    "plt.plot(fpr_rf, tpr_rf, label='RF')\n",
    "plt.xlabel('False positive rate')\n",
    "plt.ylabel('True positive rate')\n",
    "plt.title('ROC curve')\n",
    "plt.legend(loc='best')\n",
    "plt.show()"
   ]
  },
  {
   "cell_type": "code",
   "execution_count": null,
   "metadata": {},
   "outputs": [],
   "source": [
    "# Primary model\n",
    "primary_forecast = pd.DataFrame(labels['bin'])\n",
    "primary_forecast['pred'] = 1\n",
    "primary_forecast.columns = ['actual', 'pred']\n",
    "\n",
    "subset_prim = primary_forecast['2018-01-02':]\n",
    "\n",
    "# Performance Metrics\n",
    "actual = subset_prim['actual']\n",
    "pred = subset_prim['pred']\n",
    "print(classification_report(y_true=actual, y_pred=pred))\n",
    "\n",
    "print(\"Confusion Matrix\")\n",
    "print(confusion_matrix(actual, pred))\n",
    "\n",
    "print('')\n",
    "print(\"Accuracy\")\n",
    "print(accuracy_score(actual, pred))"
   ]
  },
  {
   "cell_type": "markdown",
   "metadata": {},
   "source": [
    "## Primary Model (Test Data)"
   ]
  },
  {
   "cell_type": "code",
   "execution_count": null,
   "metadata": {},
   "outputs": [],
   "source": [
    "test_dates = X_oos.index\n",
    "\n",
    "# Downsample to daily\n",
    "prim_rets_test = labels.loc[test_dates, 'ret']\n",
    "daily_rets_prim = get_daily_returns(prim_rets_test)\n",
    "\n",
    "# Save the statistics in a dataframe\n",
    "perf_stats_all = perf_func(returns=daily_rets_prim, \n",
    "                           factor_returns=None, \n",
    "                           positions=None,\n",
    "                           transactions=None,\n",
    "                           turnover_denom=\"AGB\")\n",
    "\n",
    "perf_stats_df['Primary Model OOS'] = perf_stats_all\n",
    "\n",
    "# pf.create_returns_tear_sheet(labels.loc[test_dates, 'ret'], benchmark_rets=None)\n",
    "pf.show_perf_stats(daily_rets_prim)"
   ]
  },
  {
   "cell_type": "markdown",
   "metadata": {},
   "source": [
    "## Meta Model (Test Data)"
   ]
  },
  {
   "cell_type": "code",
   "execution_count": null,
   "metadata": {},
   "outputs": [],
   "source": [
    "meta_returns = labels.loc[test_dates, 'ret'] * y_pred\n",
    "daily_rets_meta = get_daily_returns(meta_returns)\n",
    "\n",
    "# save the KPIs in a dataframe\n",
    "perf_stats_all = perf_func(returns=daily_rets_meta, \n",
    "                           factor_returns=None, \n",
    "                           positions=None,\n",
    "                           transactions=None,\n",
    "                           turnover_denom=\"AGB\")\n",
    "\n",
    "perf_stats_df['Meta Model OOS'] = perf_stats_all\n",
    "\n",
    "pf.create_returns_tear_sheet(daily_rets_meta, benchmark_rets=None)"
   ]
  }
 ],
 "metadata": {
  "kernelspec": {
   "display_name": "Python 3",
   "language": "python",
   "name": "python3"
  },
  "language_info": {
   "codemirror_mode": {
    "name": "ipython",
    "version": 3
   },
   "file_extension": ".py",
   "mimetype": "text/x-python",
   "name": "python",
   "nbconvert_exporter": "python",
   "pygments_lexer": "ipython3",
   "version": "3.7.3"
  }
 },
 "nbformat": 4,
 "nbformat_minor": 2
}
