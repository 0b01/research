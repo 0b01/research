{
 "cells": [
  {
   "cell_type": "markdown",
   "metadata": {},
   "source": [
    "### EF3M Implementation\n",
    "An implementation of the Exact Fit of the first 3 Moments (EF3M) algorithm as described in López de Prado, M. and M. Foreman (2014): \"A mixture of Gaussians approach to mathematical portfolio oversight: The EF3M algorithm.\" _Quantitative Finance_, Vol. 14, No. 5, pp. 913-930."
   ]
  },
  {
   "cell_type": "code",
   "execution_count": null,
   "metadata": {},
   "outputs": [],
   "source": [
    "# imports\n",
    "import importlib\n",
    "import EF3M.ef3m\n",
    "importlib.reload(EF3M.ef3m)\n",
    "import matplotlib.pyplot as plt\n",
    "import numpy as np\n",
    "\n",
    "moments = [0.7, 2.6, 0.4, 25, -59.8]  # about the origin\n",
    "epsilon = 10**-5\n",
    "factor = 5  # this is the 'lambda' referred to in the paper"
   ]
  },
  {
   "cell_type": "code",
   "execution_count": null,
   "metadata": {},
   "outputs": [],
   "source": [
    "from dask.diagnostics import ProgressBar\n",
    "ProgressBar().register()"
   ]
  },
  {
   "cell_type": "code",
   "execution_count": null,
   "metadata": {},
   "outputs": [],
   "source": [
    "m2n = EF3M.ef3m.M2N(moments)\n",
    "\n",
    "df2 = m2n.mpFit(moments, epsilon=10**-5, factor=5, n_runs=10, variant=1, maxIter=100_000)\n",
    "df2 = df2.sort_values('error')\n",
    "print(df2.head())"
   ]
  },
  {
   "cell_type": "code",
   "execution_count": null,
   "metadata": {},
   "outputs": [],
   "source": [
    "plt.scatter(np.log10(df2.error.to_numpy()), df2.mu1.to_numpy())\n",
    "print(\"Actual mixture parameters:\")\n",
    "print(f\"\"\"mu1: 2.00, mu2: 1.00, sigma1: 2.00, sigma2: 1.00, p1: 0.10\"\"\")\n",
    "print(\"Mean fitted parameters:\")\n",
    "print(f\"\"\"mu1: {df2.mu1.mean():.3}, mu2: {df2.mu2.mean():.3}, sigma1: {df2.sigma1.mean():.3}, sigma2: {df2.sigma2.mean():.3}, p1: {df2.p1.mean():.3}\"\"\")\n",
    "print(\"Median fitted parameters:\")\n",
    "print(f\"\"\"mu1: {df2.mu1.median():.3}, mu2: {df2.mu2.median():.3}, sigma1: {df2.sigma1.median():.3}, sigma2: {df2.sigma2.median():.3}, p1: {df2.p1.median():.3}\"\"\")"
   ]
  },
  {
   "cell_type": "code",
   "execution_count": 9,
   "metadata": {},
   "outputs": [
    {
     "data": {
      "text/plain": [
       "False"
      ]
     },
     "execution_count": 9,
     "metadata": {},
     "output_type": "execute_result"
    }
   ],
   "source": [
    "a = np.nan\n",
    "np.iscomplex(a)"
   ]
  },
  {
   "cell_type": "code",
   "execution_count": 10,
   "metadata": {},
   "outputs": [
    {
     "data": {
      "text/plain": [
       "True"
      ]
     },
     "execution_count": 10,
     "metadata": {},
     "output_type": "execute_result"
    }
   ],
   "source": [
    "np.isnan(a)"
   ]
  },
  {
   "cell_type": "code",
   "execution_count": null,
   "metadata": {},
   "outputs": [],
   "source": [
    "# testing algorithm for raw moments\n",
    "central_moments = [0, 2.11, -4.3740, 30.8037, -153.5857]\n",
    "dist_mean = 0.7\n",
    "# central_moments: the first n (1...n) central moments as a list\n",
    "# dist_mean: the mean of the distribution\n",
    "# ====================================\n",
    "# the first n (0...n) raw moments (about the origin) will be \n",
    "# calculated and returned\n",
    "raw_moments = [dist_mean]\n",
    "central_moments = [1] + central_moments  # add the zeroth moment\n",
    "for n in range(2, len(central_moments)):\n",
    "    moment_n_parts = []\n",
    "    for k in range(n+1):\n",
    "        sum_part = comb(n, k) * central_moments[k] * dist_mean**(n-k)\n",
    "        moment_n_parts.append(sum_part)\n",
    "    moment_n = sum(moment_n_parts)\n",
    "    raw_moments.append(moment_n)\n",
    "\n",
    "\n"
   ]
  }
 ],
 "metadata": {
  "kernelspec": {
   "display_name": "Python 3",
   "language": "python",
   "name": "python3"
  },
  "language_info": {
   "codemirror_mode": {
    "name": "ipython",
    "version": 3
   },
   "file_extension": ".py",
   "mimetype": "text/x-python",
   "name": "python",
   "nbconvert_exporter": "python",
   "pygments_lexer": "ipython3",
   "version": "3.7.3"
  }
 },
 "nbformat": 4,
 "nbformat_minor": 2
}
