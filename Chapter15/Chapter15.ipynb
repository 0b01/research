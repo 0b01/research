{
 "cells": [
  {
   "cell_type": "markdown",
   "metadata": {},
   "source": [
    "* By: Illya Barziy\n",
    "* Email: illyabarziy@gmail.com\n",
    "* Reference: Advances in Financial Machine Learning, Chapter-15"
   ]
  },
  {
   "cell_type": "markdown",
   "metadata": {},
   "source": [
    "## Chapter 15 Understanding Strategy Risk"
   ]
  },
  {
   "cell_type": "markdown",
   "metadata": {},
   "source": [
    "## Introduction"
   ]
  },
  {
   "cell_type": "markdown",
   "metadata": {},
   "source": [
    "As the majority of the investment strategies have exit conditions (either in a form of stop loss or take profit), the outcomes can be modeled using a binomial process. This approach shows whether the strategy is sensitive to minor changes in betting frequency, odds and payouts. \n",
    "\n",
    "In this notebook the exercises from Chapter-15 in the book \"Advances in Financial Machine Learning\" are implemented. "
   ]
  },
  {
   "cell_type": "code",
   "execution_count": 132,
   "metadata": {},
   "outputs": [],
   "source": [
    "#import numbers\n",
    "import numpy as np\n",
    "import scipy.stats as ss\n",
    "from random import gauss\n",
    "from itertools import product\n",
    "#import pandas as pd\n",
    "#import random\n",
    "#from scipy.cluster.hierarchy import dendrogram, linkage\n",
    "#from scipy.spatial.distance import pdist, squareform\n",
    "#import matplotlib\n",
    "import matplotlib.pyplot as plt\n",
    "#import seaborn as sns"
   ]
  },
  {
   "cell_type": "markdown",
   "metadata": {},
   "source": [
    "## Question-15.1"
   ]
  },
  {
   "cell_type": "markdown",
   "metadata": {},
   "source": [
    "### A portfolio manager intends to launch a strategy that targets an annualized SR of 2. Bets have a precision rate of 60%, with weekly frequency. The exit conditions are 2% for profit-taking, and –2% for stop-loss.\n",
    "\n",
    "### (a) Is this strategy viable?"
   ]
  },
  {
   "cell_type": "code",
   "execution_count": 12,
   "metadata": {},
   "outputs": [
    {
     "name": "stdout",
     "output_type": "stream",
     "text": [
      "Sharpe Ratio is 1.4681121850602123\n"
     ]
    }
   ],
   "source": [
    "'''\n",
    "We assume the exit conditions to be for log returns, therefore we can assume payouts being symmetric.\n",
    "\n",
    "Using the Snippet 15.1:\n",
    "'''\n",
    "trades_per_year = 52\n",
    "out,p=[],.6\n",
    "\n",
    "for i in range(1000000):\n",
    "    rnd=np.random.binomial(n=1,p=p)\n",
    "    x=(1 if rnd==1 else -1)\n",
    "    out.append(x)\n",
    "print('Sharpe Ratio is' , (np.mean(out)/np.std(out))*(trades_per_year)**(1/2))"
   ]
  },
  {
   "cell_type": "markdown",
   "metadata": {},
   "source": [
    "Wigh given parameters, the Sharpe Ratio of the strategy falls below the desired threshold of 2, therefore the strategy is __not__ viable."
   ]
  },
  {
   "cell_type": "markdown",
   "metadata": {},
   "source": [
    "### (b) _Ceteris paribus_, what is the required precision rate that would make the strategy profitable?"
   ]
  },
  {
   "cell_type": "code",
   "execution_count": 13,
   "metadata": {},
   "outputs": [
    {
     "name": "stdout",
     "output_type": "stream",
     "text": [
      "Required precision is 0.6336306209562121\n"
     ]
    }
   ],
   "source": [
    "'''\n",
    "Using the formula solution:\n",
    "'''\n",
    "n, SR = 52, 2\n",
    "\n",
    "precision = 1/2 * (1 + (1-n/(SR**2+n))**(1/2))\n",
    "\n",
    "print('Required precision is' , precision)"
   ]
  },
  {
   "cell_type": "markdown",
   "metadata": {},
   "source": [
    "So, an increase of precision from 0.6 set by manager to 0.63363 will make the strategy profitable at a required Sharpe Ratio of 2."
   ]
  },
  {
   "cell_type": "markdown",
   "metadata": {},
   "source": [
    "### (c) For what betting frequency is the target achievable?"
   ]
  },
  {
   "cell_type": "markdown",
   "metadata": {},
   "source": [
    "Using the formula solutions:\n",
    "\n",
    "$\\frac{n}{\\theta^2+n}=-4p^2+4p$\n",
    "\n",
    "$n=(-4p^2+4p)*(\\theta^2+n)$\n",
    "\n",
    "$n - n(-4p^2+4p)=(-4p^2+4p)*\\theta^2$\n",
    "\n",
    "$n=\\frac{(-4p^2+4p)*\\theta^2}{1+4p^2-4p}$"
   ]
  },
  {
   "cell_type": "code",
   "execution_count": 16,
   "metadata": {},
   "outputs": [
    {
     "name": "stdout",
     "output_type": "stream",
     "text": [
      "Required frequeny is 95.99999999999991\n"
     ]
    }
   ],
   "source": [
    "p, SR = 0.6, 2\n",
    "\n",
    "n = ((-4*p**2 +4*p) * SR**2) / (1 + 4*p**2 - 4*p)\n",
    "\n",
    "print('Required frequeny is' , n)"
   ]
  },
  {
   "cell_type": "markdown",
   "metadata": {},
   "source": [
    "96 trades per year should be made instead of 52 (or ~85% more trades) to achieve the target Sharpe Ratio."
   ]
  },
  {
   "cell_type": "markdown",
   "metadata": {},
   "source": [
    "### (d) For what profit-taking threshold is the target achievable?"
   ]
  },
  {
   "cell_type": "markdown",
   "metadata": {},
   "source": [
    "Changing the profit-taking threshold will bring us to the asymmetric payouts model, where the solution is:\n",
    "\n",
    "$\\theta=\\frac{(\\pi_{+}-\\pi_{-})p+\\pi_{-}}{(\\pi_{+}-\\pi_{-})\\sqrt{p(1-p)}}\\sqrt{n}$\n",
    "\n",
    "$(\\pi_{+}-\\pi_{-})(\\theta*\\sqrt{p(1-p)})=((\\pi_{+}-\\pi_{-})p+\\pi_{-})\\sqrt{n}$\n",
    "\n",
    "$(\\pi_{+}-\\pi_{-})(\\theta*\\sqrt{p(1-p)}-p\\sqrt{n})=\\pi_{-}\\sqrt{n}$\n",
    "\n",
    "$\\pi_{+}-\\pi_{-}=\\frac{\\pi_{-}\\sqrt{n}}{(\\theta*\\sqrt{p(1-p)}-p\\sqrt{n})}$\n",
    "\n",
    "$\\pi_{+}=\\frac{\\pi_{-}\\sqrt{n}}{(\\theta*\\sqrt{p(1-p)}-p\\sqrt{n})}+\\pi_{-}$"
   ]
  },
  {
   "cell_type": "code",
   "execution_count": 18,
   "metadata": {},
   "outputs": [
    {
     "name": "stdout",
     "output_type": "stream",
     "text": [
      "Required take-profit is 0.023091676456151216\n"
     ]
    }
   ],
   "source": [
    "p, SR, sl, n = 0.6, 2, -0.02, 52\n",
    "\n",
    "tp = (sl * n**(1/2)) / (SR * (p*(1-p))**(1/2) - p * n**(1/2)) + sl\n",
    "\n",
    "print('Required take-profit is' , tp)"
   ]
  },
  {
   "cell_type": "markdown",
   "metadata": {},
   "source": [
    "Achieving the target is possible if the take-profit is moved from 0.02 to ~0.023 (or 15,5% higher)."
   ]
  },
  {
   "cell_type": "markdown",
   "metadata": {},
   "source": [
    "### (e) What would be an alternative stop-loss?"
   ]
  },
  {
   "cell_type": "markdown",
   "metadata": {},
   "source": [
    "Again, using the asymmetric payouts model solution:\n",
    "\n",
    "$\\theta=\\frac{(\\pi_{+}-\\pi_{-})p+\\pi_{-}}{(\\pi_{+}-\\pi_{-})\\sqrt{p(1-p)}}\\sqrt{n}$\n",
    "\n",
    "$(\\pi_{+}-\\pi_{-})(\\theta*\\sqrt{p(1-p)})=((\\pi_{+}-\\pi_{-})p+\\pi_{-})\\sqrt{n}$\n",
    "\n",
    "$(\\pi_{+}-\\pi_{-})(\\theta*\\sqrt{p(1-p)}-p\\sqrt{n})=\\pi_{-}\\sqrt{n}$\n",
    "\n",
    "$\\pi_{-}(\\theta*\\sqrt{p(1-p)}-p\\sqrt{n})+\\pi_{-}\\sqrt{n} = \\pi_{+}(\\theta*\\sqrt{p(1-p)}-p\\sqrt{n})$\n",
    "\n",
    "$\\pi_{-}(\\theta*\\sqrt{p(1-p)}-p\\sqrt{n}+ \\sqrt{n}) = \\pi_{+}(\\theta*\\sqrt{p(1-p)}-p\\sqrt{n})$\n",
    "\n",
    "$\\pi_{-} = \\frac{\\pi_{+}(\\theta*\\sqrt{p(1-p)}-p\\sqrt{n})}{\\theta*\\sqrt{p(1-p)}-p\\sqrt{n}+ \\sqrt{n}}$"
   ]
  },
  {
   "cell_type": "code",
   "execution_count": 19,
   "metadata": {},
   "outputs": [
    {
     "name": "stdout",
     "output_type": "stream",
     "text": [
      "Required stop-loss is -0.017322258986243812\n"
     ]
    }
   ],
   "source": [
    "p, SR, tp, n = 0.6, 2, 0.02, 52\n",
    "\n",
    "sl = (tp * (SR * (p*(1-p))**(1/2) - p * n**(1/2))) / (SR * (p*(1-p))**(1/2) - p * n**(1/2) + n**(1/2))\n",
    "\n",
    "print('Required stop-loss is' , sl)"
   ]
  },
  {
   "cell_type": "markdown",
   "metadata": {},
   "source": [
    "Alternative stop-loss would be ~-0.0173 instead of -0.02 (or 13,4% lower)."
   ]
  },
  {
   "cell_type": "markdown",
   "metadata": {},
   "source": [
    "## Question-15.2"
   ]
  },
  {
   "cell_type": "markdown",
   "metadata": {},
   "source": [
    "### Following up on the strategy from exercise 1.\n",
    "\n",
    "### (a) What is the sensitivity of SR to a 1% change in each parameter?"
   ]
  },
  {
   "cell_type": "code",
   "execution_count": 29,
   "metadata": {},
   "outputs": [
    {
     "name": "stdout",
     "output_type": "stream",
     "text": [
      "Change of 1% in percision rate shifts SR from 1.4719601443879742 to 1.5643110535917948 or 6.274008814431532 %\n",
      "Change of 1% in trading frequency shifts SR from 1.4719601443879742 to 1.4793016370346288 or 0.4987562112089074 %\n",
      "Change of 1% in stop-loss shifts SR from 1.4719601443879746 to 1.435344220398224 or -2.487562189054722 %\n",
      "Change of 1% in take-profit shifts SR from 1.4719601443879746 to 1.5085760683777247 or 2.487562189054692 %\n"
     ]
    }
   ],
   "source": [
    "'''\n",
    "For the original parameters:\n",
    "'''\n",
    "p, n = 0.6, 52\n",
    "\n",
    "SR_sym = lambda p, n: (2*p - 1) / (2 * (p*(1-p))**(1/2)) * (n)**(1/2)\n",
    "\n",
    "#precision rate\n",
    "print('Change of 1% in percision rate shifts SR from' , SR_sym(p, n), 'to',\n",
    "      SR_sym(p * 1.01, n), 'or', (SR_sym(p * 1.01, n)-SR_sym(p, n))/SR_sym(p, n)*100, '%')\n",
    "\n",
    "#trading frequency\n",
    "print('Change of 1% in trading frequency shifts SR from' , SR_sym(p, n), 'to',\n",
    "      SR_sym(p, n * 1.01), 'or', (SR_sym(p, n* 1.01)-SR_sym(p, n))/SR_sym(p, n)*100, '%')\n",
    "\n",
    "sl, tp = -0.02, 0.02\n",
    "\n",
    "SR_asym = lambda p, n, sl, tp: ((tp - sl) * p + sl) / ((tp - sl) * (p*(1-p))**(1/2)) * n**(1/2)\n",
    "\n",
    "#stop-loss\n",
    "print('Change of 1% in stop-loss shifts SR from' , SR_asym(p, n, sl, tp), 'to',\n",
    "      SR_asym(p, n , sl * 1.01, tp), 'or', (SR_asym(p, n, sl * 1.01, tp)-SR_asym(p, n, sl, tp))/SR_asym(p, n, sl, tp)*100, '%')\n",
    "\n",
    "#take-profit\n",
    "print('Change of 1% in take-profit shifts SR from' , SR_asym(p, n, sl, tp), 'to',\n",
    "      SR_asym(p, n , sl , tp * 1.01), 'or', (SR_asym(p, n, sl, tp * 1.01)-SR_asym(p, n, sl, tp))/SR_asym(p, n, sl, tp)*100, '%')"
   ]
  },
  {
   "cell_type": "markdown",
   "metadata": {},
   "source": [
    "The Sharpe Ratio of the original model is most sensitive towards changes in precision rate. The trading frequency 1% change affects SR 12 times less than precision rate change. Changes of SR from changes in stop-loss or take-profit values are symmetric."
   ]
  },
  {
   "cell_type": "markdown",
   "metadata": {},
   "source": [
    "### (b) Given these sensitivities, and assuming that all parameters are equally hard to improve, which one offers the lowest hanging fruit?"
   ]
  },
  {
   "cell_type": "markdown",
   "metadata": {},
   "source": [
    "In this situation improving the precision rate would have the best effect on Sharpe Ratio, next goes both stop-loss decrease and take-profit increase. Trading frequency would have the least effect on SR."
   ]
  },
  {
   "cell_type": "markdown",
   "metadata": {},
   "source": [
    "### (c) Does changing any of the parameters in exercise 1 impact the others? For example, does changing the betting frequency modify the precision rate, etc.?"
   ]
  },
  {
   "cell_type": "markdown",
   "metadata": {},
   "source": [
    "In the model we assumed that changes in the input values - precision rate, fraquency rate, stop-loss and take-profit only affect the Sharpe Ratio. However, in real life examples increase of the betting frequency may decrease the precision rate, as trading opportunities that are less certain are taken."
   ]
  },
  {
   "cell_type": "markdown",
   "metadata": {},
   "source": [
    "## Question-15.3"
   ]
  },
  {
   "cell_type": "markdown",
   "metadata": {},
   "source": [
    "### Suppose a strategy that generates monthly bets over two years, with returns following a mixture of two Gaussian distributions. The first distribution has a mean of –0.1 and a standard deviation of 0.12. The second distribution has a mean of 0.06 and a standard deviation of 0.03. The probability that a draw comes from the first distribution is 0.15.\n",
    "\n",
    "### (a) Following Lopez de Prado and Peijan [2004] and Lopez de Prado and Foreman [2014], derive the first four moments for the mixture’s returns."
   ]
  },
  {
   "cell_type": "markdown",
   "metadata": {},
   "source": [
    "From _\"A mixture of Gaussians approach to mathematicalportfolio oversight: the EF3M algorithm\"_ - Lopez de Prado and Foreman [2014], Appendix 1:\n",
    "\n",
    "$E[r] = \\sum_{j=1}^m p_j\\mu_j$\n",
    "\n",
    "$E[r^2] = \\sum_{j=1}^m p_j (\\sigma_j^2 + \\mu_j^2)$\n",
    "\n",
    "$E[r^3] = \\sum_{j=1}^m p_j (3\\sigma_j^2\\mu_j + \\mu_j^3)$\n",
    "\n",
    "$E[r^4] = \\sum_{j=1}^m p_j (3\\sigma_j^4 + 6\\sigma_j^2\\mu_j^2 + \\mu_j^4)$"
   ]
  },
  {
   "cell_type": "code",
   "execution_count": 30,
   "metadata": {},
   "outputs": [
    {
     "name": "stdout",
     "output_type": "stream",
     "text": [
      "First moment for the returns: 0.036\n",
      "Second moment for the returns: 0.0074849999999999995\n",
      "Third moment for the returns: -0.00047670000000000004\n",
      "Fourth moment for the returns: 0.0002675175\n"
     ]
    }
   ],
   "source": [
    "μ1, μ2, σ1, σ2, p = -0.1, 0.06, 0.12, 0.03, 0.15\n",
    "\n",
    "E_r1 = p*μ1 + (1-p)*μ2\n",
    "print('First moment for the returns:', E_r1)\n",
    "\n",
    "E_r2 = p*(σ1**2 + μ1**2) + (1-p)*(σ2**2 + μ2**2)\n",
    "print('Second moment for the returns:', E_r2)\n",
    "\n",
    "E_r3 = p*(3 * σ1**2 * μ1 + μ1**3) + (1-p)*(3 * σ2**2 * μ2 + μ2**3)\n",
    "print('Third moment for the returns:', E_r3)\n",
    "\n",
    "E_r4 = p*(3 * σ1**4 + 6 * σ1**2 * μ1**2 + μ1**4) + (1-p)*(3 * σ2**4 + 6 * σ2**2 * μ2**2 + μ2**4)\n",
    "print('Fourth moment for the returns:', E_r4)"
   ]
  },
  {
   "cell_type": "markdown",
   "metadata": {},
   "source": [
    "### (b) What is the annualized SR?"
   ]
  },
  {
   "cell_type": "markdown",
   "metadata": {},
   "source": [
    "Sharpe Ratio from moments:\n",
    "\n",
    "$V[r] = E[r^2] - E[r]^2$\n",
    "\n",
    "$\\theta = \\frac{nE[r]}{\\sqrt{nV[r]}}$\n",
    "\n",
    "$\\theta = \\frac{\\sqrt{n}E[r]}{\\sqrt{E[r^2] - E[r]^2}}$"
   ]
  },
  {
   "cell_type": "code",
   "execution_count": 32,
   "metadata": {},
   "outputs": [
    {
     "name": "stdout",
     "output_type": "stream",
     "text": [
      "Annualized Sharpe Ratio: 1.5851956884937564\n"
     ]
    }
   ],
   "source": [
    "n, years = 12, 2\n",
    "\n",
    "SR = (n**(1/2) * E_r1) / (E_r2 - E_r1**2)**(1/2)\n",
    "print('Annualized Sharpe Ratio:', SR)"
   ]
  },
  {
   "cell_type": "markdown",
   "metadata": {},
   "source": [
    "### (c) Using those moments, compute PSR[1] (see Chapter 14). At a 95% confidence level, would you discard this strategy?"
   ]
  },
  {
   "cell_type": "markdown",
   "metadata": {},
   "source": [
    "From Chapter 14:\n",
    "\n",
    "$PSR[SR^*] = z[\\frac{(SR - SR^*)\\sqrt{T-1}}{\\sqrt{1-\\gamma_3SR + \\frac{\\gamma_4-1}{4}SR^2}}]$"
   ]
  },
  {
   "cell_type": "code",
   "execution_count": 46,
   "metadata": {},
   "outputs": [
    {
     "name": "stdout",
     "output_type": "stream",
     "text": [
      "Probabalistic Sharpe Ratio: 0.969142321714641\n"
     ]
    }
   ],
   "source": [
    "'''\n",
    "As our strategy returns are a combination of two Gaussian, they are Gaussian, so skewness = 0, kurtosis = 3.\n",
    "'''\n",
    "γ3, γ4, T, SR_ = 0, 3, years * n, 1\n",
    "\n",
    "PSR = ss.norm.cdf(((SR - SR_) * (T-1)**(1/2)) / (1 - γ3*SR + (γ4-1)/4 * SR**2)**(1/2))\n",
    "print('Probabalistic Sharpe Ratio:', PSR)"
   ]
  },
  {
   "cell_type": "markdown",
   "metadata": {},
   "source": [
    "According to the PSR statistic description in Chapter 14, it should exceed 0.95 for the 5% significance level. Our calculated PSR is above that threshold, therefore we __do not discard__ the strategy."
   ]
  },
  {
   "cell_type": "markdown",
   "metadata": {},
   "source": [
    "## Question-15.4"
   ]
  },
  {
   "cell_type": "markdown",
   "metadata": {},
   "source": [
    "### Using Snippet 15.5, compute $P[p < p_{\\theta^*=1}]$ for the strategy described in exercise 3. At a significance level of 0.05, would you discard this strategy? Is this result consistent with PSR[$\\theta^*$]?"
   ]
  },
  {
   "cell_type": "code",
   "execution_count": 58,
   "metadata": {},
   "outputs": [],
   "source": [
    "'''\n",
    "Snippet 15.5 with needed parameters:\n",
    "'''\n",
    "def binHR(sl,pt,freq,tSR):\n",
    "    '''\n",
    "    Given a trading rule characterized by the parameters {sl,pt,freq},\n",
    "    what's the min precision p required to achieve a Sharpe ratio tSR?\n",
    "    1) Inputs\n",
    "    sl: stop loss threshold\n",
    "    pt: profit taking threshold\n",
    "    freq: number of bets per year\n",
    "    tSR: target annual Sharpe ratio\n",
    "    2) Output\n",
    "    p: the min precision rate p required to achieve tSR\n",
    "    '''\n",
    "    a=(freq+tSR**2)*(pt-sl)**2\n",
    "    b=(2*freq*sl-tSR**2*(pt-sl))*(pt-sl)\n",
    "    c=freq*sl**2\n",
    "    p=(-b+(b**2-4*a*c)**0.5)/(2*a)\n",
    "    return p\n",
    "#———————————————————————————————————————\n",
    "def mixGaussians(mu1,mu2,sigma1,sigma2,prob1,nObs):\n",
    "    # Random draws from a mixture of gaussians\n",
    "    ret1=np.random.normal(mu1,sigma1,size=int(nObs*prob1))\n",
    "    ret2=np.random.normal(mu2,sigma2,size=int(nObs)-ret1.shape[0])\n",
    "    ret=np.append(ret1,ret2,axis=0)\n",
    "    np.random.shuffle(ret)\n",
    "    return ret\n",
    "#———————————————————————————————————————\n",
    "def probFailure(ret,freq,tSR):\n",
    "    # Derive probability that strategy may fail\n",
    "    rPos,rNeg=ret[ret>0].mean(),ret[ret<=0].mean()\n",
    "    p=ret[ret>0].shape[0]/float(ret.shape[0])\n",
    "    thresP=binHR(rNeg,rPos,freq,tSR)\n",
    "    risk=ss.norm.cdf(thresP,p,p*(1-p)) # approximation to bootstrap\n",
    "    return risk\n",
    "#———————————————————————————————————————\n",
    "def main():\n",
    "    #1) Parameters\n",
    "    mu1,mu2,sigma1,sigma2,prob1,nObs=-0.1, 0.06, 0.12, 0.03, 0.15, 24\n",
    "    tSR,freq=1 ,12\n",
    "    #2) Generate sample from mixture\n",
    "    ret=mixGaussians(mu1,mu2,sigma1,sigma2,prob1,nObs)\n",
    "    #3) Compute prob failure\n",
    "    probF=probFailure(ret,freq,tSR)\n",
    "    print('Prob strategy will fail',probF)\n",
    "    return"
   ]
  },
  {
   "cell_type": "code",
   "execution_count": 59,
   "metadata": {},
   "outputs": [
    {
     "name": "stdout",
     "output_type": "stream",
     "text": [
      "Prob strategy will fail 0.25905676556008617\n"
     ]
    }
   ],
   "source": [
    "main()"
   ]
  },
  {
   "cell_type": "markdown",
   "metadata": {},
   "source": [
    "The probability of strategy to fail is higher than the 0.05 threshold, so we should discard the strategy. The result is not consistent with the PSR. One of the reasons for that may be a small number of observations to aproximate the probability."
   ]
  },
  {
   "cell_type": "markdown",
   "metadata": {},
   "source": [
    "## Question-15.5"
   ]
  },
  {
   "cell_type": "markdown",
   "metadata": {},
   "source": [
    "### In general, what result do you expect to be more accurate, PSR[𝜃∗] or P[p < p𝜃∗=1]? How are these two methods complementary?"
   ]
  },
  {
   "cell_type": "markdown",
   "metadata": {},
   "source": [
    "Result from the second algorithm is expected to be more accurate, as it's solely based and includes all the variables that are under the control of a portfolio manager. "
   ]
  },
  {
   "cell_type": "markdown",
   "metadata": {},
   "source": [
    "## Question-15.6"
   ]
  },
  {
   "cell_type": "markdown",
   "metadata": {},
   "source": [
    "### Re-examine the results from Chapter 13, in light of what you have learned in this chapter.\n",
    "\n",
    "### (a) Does the asymmetry between profit taking and stop-loss thresholds in OTRs make sense?"
   ]
  },
  {
   "cell_type": "markdown",
   "metadata": {},
   "source": [
    "From examples in Chapter 13, the SR is maximised when there is an assymetry - take profits are low and stop losses are high. From our sesnitivity analysis, both decrease take-profits and increase in stop-losses will result into decreased Sharpe Ratio."
   ]
  },
  {
   "cell_type": "markdown",
   "metadata": {},
   "source": [
    "### (b) What is the range of p implied by Figure 13.1, for a daily betting frequency?"
   ]
  },
  {
   "cell_type": "code",
   "execution_count": 86,
   "metadata": {},
   "outputs": [],
   "source": [
    "'''\n",
    "From Chapter 13 on OTRs determination:\n",
    "'''\n",
    "\n",
    "def batch(coeffs,nIter=1e5,maxHP=100,rPT=np.linspace(.5,10,20), rSLm=np.linspace(.5,10,20),seed=0):\n",
    "    phi,output1=2**(-1./coeffs['hl']),[] \n",
    "    n = 0\n",
    "    for comb_ in product(rPT,rSLm):\n",
    "        n = n + 1\n",
    "        if n % 20 == 0:\n",
    "            print(n)\n",
    "        output2=[]\n",
    "        for iter_ in range(int(nIter)):\n",
    "            p,hp,count=seed,0,0\n",
    "            while True:\n",
    "                p=(1-phi)*coeffs['forecast']+phi*p+coeffs['sigma']*gauss(0,1)\n",
    "                cP=p-seed;hp+=1\n",
    "                if cP>comb_[0] or cP<-comb_[1] or hp>maxHP:\n",
    "                    output2.append(cP)\n",
    "                    break\n",
    "        mean,std=np.mean(output2),np.std(output2)\n",
    "        #print(comb_[0],comb_[1],mean,std,mean/std)\n",
    "        output1.append((comb_[0],comb_[1],mean,std,mean/std))\n",
    "    return output1"
   ]
  },
  {
   "cell_type": "code",
   "execution_count": 87,
   "metadata": {},
   "outputs": [
    {
     "name": "stdout",
     "output_type": "stream",
     "text": [
      "20\n",
      "40\n",
      "60\n",
      "80\n",
      "100\n",
      "120\n",
      "140\n",
      "160\n",
      "180\n",
      "200\n",
      "220\n",
      "240\n",
      "260\n",
      "280\n",
      "300\n",
      "320\n",
      "340\n",
      "360\n",
      "380\n",
      "400\n",
      "420\n",
      "440\n"
     ]
    }
   ],
   "source": [
    "rPT=rSLm=np.linspace(0,10,21)\n",
    "coeffs={'forecast':0,'hl':5,'sigma':1}\n",
    "output=batch(coeffs,nIter=1e5,maxHP=100,rPT=rPT,rSLm=rSLm)\n"
   ]
  },
  {
   "cell_type": "markdown",
   "metadata": {},
   "source": [
    "From the data used to generate Figure 13.1 (using Snippets in Chapter 13), we can calculate p for each situation using solution from Chapter 15. As we have asymmetric payoffs:\n",
    "\n",
    "$a = (n+\\theta^2)(\\pi_{+}-\\pi_{-})^2$\n",
    "\n",
    "$b = [2n\\pi_{-}-\\theta^2(\\pi_{+}-\\pi_{-})](\\pi_{+}-\\pi_{-})$\n",
    "\n",
    "$c = n\\pi_{-}^2$\n",
    "\n",
    "$p = \\frac{-b+\\sqrt{b^2-4ac}}{2a}$"
   ]
  },
  {
   "cell_type": "code",
   "execution_count": 126,
   "metadata": {},
   "outputs": [
    {
     "name": "stderr",
     "output_type": "stream",
     "text": [
      "D:\\programs\\Anaconda\\lib\\site-packages\\ipykernel_launcher.py:13: RuntimeWarning: invalid value encountered in double_scalars\n",
      "  del sys.path[0]\n"
     ]
    }
   ],
   "source": [
    "n = 252 # assume daily trading\n",
    "\n",
    "p_values = []\n",
    "p_boundary = []\n",
    "for el in output:\n",
    "    tp, sl, _, _, SR = el\n",
    "    sl = -sl\n",
    "    \n",
    "    a = (n + SR**2) * (tp - sl)**2\n",
    "    b = (2 * n * sl - SR**2 * (tp - sl)) * (tp - sl)\n",
    "    c = n * sl**2\n",
    "    \n",
    "    p = (-b + (b**2 - 4 * a * c)**(1/2)) / (2 * a)\n",
    "    if tp == 0 or sl == 0:\n",
    "        p_boundary.append(p)    \n",
    "        continue\n",
    "    p_values.append(p)\n"
   ]
  },
  {
   "cell_type": "code",
   "execution_count": 127,
   "metadata": {},
   "outputs": [
    {
     "name": "stdout",
     "output_type": "stream",
     "text": [
      "For the cases where both SL and TP are above 0:\n",
      "Minimum value is: 0.08581904337486138\n",
      "Maximum value is: 0.9740529648659129\n"
     ]
    },
    {
     "data": {
      "image/png": "[encoded data removed]",
      "text/plain": [
       "<Figure size 432x288 with 1 Axes>"
      ]
     },
     "metadata": {
      "needs_background": "light"
     },
     "output_type": "display_data"
    }
   ],
   "source": [
    "print('For the cases where both SL and TP are above 0:')\n",
    "\n",
    "print('Minimum value is:', min(p_values))\n",
    "print('Maximum value is:', max(p_values))\n",
    "\n",
    "_ = plt.hist(p_values, bins=60)"
   ]
  },
  {
   "cell_type": "code",
   "execution_count": 131,
   "metadata": {},
   "outputs": [
    {
     "name": "stdout",
     "output_type": "stream",
     "text": [
      "In other cases:\n",
      "When SL is 0, the p is close to 0. So the minimum value is: 4.034216117539205e-08\n",
      "When TP is 0, the p is close to 1. So the maximum value is: 1.000000000005052\n"
     ]
    },
    {
     "data": {
      "image/png": "[encoded data removed]",
      "text/plain": [
       "<Figure size 432x288 with 1 Axes>"
      ]
     },
     "metadata": {
      "needs_background": "light"
     },
     "output_type": "display_data"
    }
   ],
   "source": [
    "print('In other cases:')\n",
    "p_boundary = [x for x in p_boundary if str(x) != 'nan']\n",
    "\n",
    "print('When SL is 0, the p is close to 0. So the minimum value is:', min(p_boundary))\n",
    "print('When TP is 0, the p is close to 1. So the maximum value is:', max(p_boundary))\n",
    "\n",
    "_ = plt.hist(p_boundary, bins=60)"
   ]
  },
  {
   "cell_type": "markdown",
   "metadata": {},
   "source": [
    "So, the range of p implied by Figure 13.1 goes from 0.085 to 0.974"
   ]
  },
  {
   "cell_type": "markdown",
   "metadata": {},
   "source": [
    "### (c) What is the range of p implied by Figure 13.5, for a weekly betting frequency?"
   ]
  },
  {
   "cell_type": "code",
   "execution_count": 133,
   "metadata": {},
   "outputs": [
    {
     "name": "stdout",
     "output_type": "stream",
     "text": [
      "20\n",
      "40\n",
      "60\n",
      "80\n",
      "100\n",
      "120\n",
      "140\n",
      "160\n",
      "180\n",
      "200\n",
      "220\n",
      "240\n",
      "260\n",
      "280\n",
      "300\n",
      "320\n",
      "340\n",
      "360\n",
      "380\n",
      "400\n",
      "420\n",
      "440\n"
     ]
    }
   ],
   "source": [
    "rPT=rSLm=np.linspace(0,10,21)\n",
    "coeffs={'forecast':0,'hl':100,'sigma':1}\n",
    "output=batch(coeffs,nIter=1e5,maxHP=100,rPT=rPT,rSLm=rSLm)"
   ]
  },
  {
   "cell_type": "code",
   "execution_count": 134,
   "metadata": {},
   "outputs": [
    {
     "name": "stderr",
     "output_type": "stream",
     "text": [
      "D:\\programs\\Anaconda\\lib\\site-packages\\ipykernel_launcher.py:13: RuntimeWarning: invalid value encountered in double_scalars\n",
      "  del sys.path[0]\n"
     ]
    }
   ],
   "source": [
    "n = 52 # assume weekly trading\n",
    "\n",
    "p_values = []\n",
    "p_boundary = []\n",
    "for el in output:\n",
    "    tp, sl, _, _, SR = el\n",
    "    sl = -sl\n",
    "    \n",
    "    a = (n + SR**2) * (tp - sl)**2\n",
    "    b = (2 * n * sl - SR**2 * (tp - sl)) * (tp - sl)\n",
    "    c = n * sl**2\n",
    "    \n",
    "    p = (-b + (b**2 - 4 * a * c)**(1/2)) / (2 * a)\n",
    "    if tp == 0 or sl == 0:\n",
    "        p_boundary.append(p)    \n",
    "        continue\n",
    "    p_values.append(p)"
   ]
  },
  {
   "cell_type": "code",
   "execution_count": 135,
   "metadata": {},
   "outputs": [
    {
     "name": "stdout",
     "output_type": "stream",
     "text": [
      "For the cases where both SL and TP are above 0:\n",
      "Minimum value is: 0.050196934994055684\n",
      "Maximum value is: 0.954862174441729\n"
     ]
    },
    {
     "data": {
      "image/png": "[encoded data removed]",
      "text/plain": [
       "<Figure size 432x288 with 1 Axes>"
      ]
     },
     "metadata": {
      "needs_background": "light"
     },
     "output_type": "display_data"
    }
   ],
   "source": [
    "print('For the cases where both SL and TP are above 0:')\n",
    "\n",
    "print('Minimum value is:', min(p_values))\n",
    "print('Maximum value is:', max(p_values))\n",
    "\n",
    "_ = plt.hist(p_values, bins=60)"
   ]
  },
  {
   "cell_type": "code",
   "execution_count": 136,
   "metadata": {},
   "outputs": [
    {
     "name": "stdout",
     "output_type": "stream",
     "text": [
      "In other cases:\n",
      "When SL is 0, the p is close to 0. So the minimum value is: 6.200649721765223e-10\n",
      "When TP is 0, the p is close to 1. So the maximum value is: 1.00000000067029\n"
     ]
    },
    {
     "data": {
      "image/png": "[encoded data removed]",
      "text/plain": [
       "<Figure size 432x288 with 1 Axes>"
      ]
     },
     "metadata": {
      "needs_background": "light"
     },
     "output_type": "display_data"
    }
   ],
   "source": [
    "print('In other cases:')\n",
    "p_boundary = [x for x in p_boundary if str(x) != 'nan']\n",
    "\n",
    "print('When SL is 0, the p is close to 0. So the minimum value is:', min(p_boundary))\n",
    "print('When TP is 0, the p is close to 1. So the maximum value is:', max(p_boundary))\n",
    "\n",
    "_ = plt.hist(p_boundary, bins=60)"
   ]
  },
  {
   "cell_type": "markdown",
   "metadata": {},
   "source": [
    "With an increased half-life from 5 to 100 we can see that the p distribution is much more narrow."
   ]
  },
  {
   "cell_type": "code",
   "execution_count": null,
   "metadata": {},
   "outputs": [],
   "source": []
  }
 ],
 "metadata": {
  "kernelspec": {
   "display_name": "Python 3",
   "language": "python",
   "name": "python3"
  },
  "language_info": {
   "codemirror_mode": {
    "name": "ipython",
    "version": 3
   },
   "file_extension": ".py",
   "mimetype": "text/x-python",
   "name": "python",
   "nbconvert_exporter": "python",
   "pygments_lexer": "ipython3",
   "version": "3.7.3"
  }
 },
 "nbformat": 4,
 "nbformat_minor": 2
}
