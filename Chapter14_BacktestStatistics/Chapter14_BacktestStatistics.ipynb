{
 "cells": [
  {
   "cell_type": "markdown",
   "metadata": {},
   "source": [
    "* By: Illya Barziy\n",
    "* Email: illyabarziy@gmail.com\n",
    "* Reference: Advances in Financial Machine Learning, Chapter-14"
   ]
  },
  {
   "cell_type": "markdown",
   "metadata": {},
   "source": [
    "## Chapter 14 Backtest Statistics"
   ]
  },
  {
   "cell_type": "markdown",
   "metadata": {},
   "source": [
    "## Introduction"
   ]
  },
  {
   "cell_type": "markdown",
   "metadata": {},
   "source": [
    "Whenever a strategy is created, it's performance has to be tested and reported. This chapter covers some of the statistics that are used for understanding the charachteristics of a strategy related to levels of risk and return. It also provides tools to test if the strategy satisfies desired profitability benchmarks (Sharpe ratio in particular). Statistics in this chapter cover the following topics:\n",
    "- Drawdown\n",
    "- Time under water\n",
    "- Herfindahl-Hirschman Index or Concentration of returns\n",
    "- Sharpe ratio\n",
    "- Probabalistic Sharpe ratio\n",
    "- Deflated Sharpe ratio\n",
    "\n",
    "In this notebook the exercises from Chapter-14 in the book \"Advances in Financial Machine Learning\" are implemented. "
   ]
  },
  {
   "cell_type": "code",
   "execution_count": 1,
   "metadata": {},
   "outputs": [],
   "source": [
    "import pandas as pd\n",
    "import numpy as np\n",
    "import scipy.stats as ss\n",
    "from random import gauss\n",
    "from itertools import product\n",
    "import matplotlib.pyplot as plt\n",
    "#import mlfinlab\n"
   ]
  },
  {
   "cell_type": "code",
   "execution_count": 2,
   "metadata": {},
   "outputs": [],
   "source": [
    "import sys\n",
    "# insert at 1, 0 is the script path (or '' in REPL)\n",
    "sys.path.insert(1, 'C:/Users/Illya/Projects/ml/mlfinlab')"
   ]
  },
  {
   "cell_type": "code",
   "execution_count": 3,
   "metadata": {},
   "outputs": [],
   "source": [
    "import warnings\n",
    "warnings.filterwarnings('ignore')\n",
    "from mlfinlab import backtest_statistics as bs"
   ]
  },
  {
   "cell_type": "markdown",
   "metadata": {},
   "source": [
    "## Question-14.1"
   ]
  },
  {
   "cell_type": "markdown",
   "metadata": {},
   "source": [
    "### A strategy exhibits a high turnover, high leverage, and high number of bets, with a short holding period, low return on execution costs, and a high Sharpe ratio. Is it likely to have large capacity? What kind of strategy do you think it is?"
   ]
  },
  {
   "cell_type": "markdown",
   "metadata": {},
   "source": [
    "Looking closer to the characteristics:\n",
    "- High turnover means that measures the ratio of the average amount traded per year is higher than the average annual assets under management (AUM). It can occur either when either positions are often tuned or flipped.\n",
    "- High leverage means that the amounts borrowed for strategy execution are high compared to AUM.\n",
    "- High number for bets occurs when positions are changed frequently. That shows that the strategy certainly doesn't have long holding periods.\n",
    "- Short holding periods go in line with the previous characteristic.\n",
    "- low return on execution cases - when the ratio between dollar performance (including brokerage fees and slippage costs) and total execution costs is low, there are high chances that strategy won't survive worse-than-expected execution.\n",
    "- High Sharpe ratio shows that returns are high and have a relatively low level of volatility\n",
    "\n",
    "Capacity is defined as the highest AUM that delivers a target risk-adjusted performance. Since the strategy shows high leverage, it isn't likely to have high capacity since a big portion of resources is borrowed.\n",
    "\n",
    "This results into assuming that this is a High-frequency trading strategy (HFT), that frequently changes it's positions and uses big amounts of borrowed resources so that effects from small changes in price are significant. Shore holding periods fit the description, as well as low return on execution costs, as slippage or delays in execution may vanish the profits. High Sharpe ratio shows that it's successful."
   ]
  },
  {
   "cell_type": "markdown",
   "metadata": {},
   "source": [
    "## Question-14.2"
   ]
  },
  {
   "cell_type": "markdown",
   "metadata": {},
   "source": [
    "### On the dollar bars dataset for E-mini S&P 500 futures, compute\n",
    "### (a) HHI index on positive returns"
   ]
  },
  {
   "cell_type": "code",
   "execution_count": 4,
   "metadata": {},
   "outputs": [],
   "source": [
    "# Read in data\n",
    "data = pd.read_csv('../Sample-Data/dollar_bars.csv')\n",
    "data.index = pd.to_datetime(data['date_time'])\n",
    "data = data.drop('date_time', axis=1)"
   ]
  },
  {
   "cell_type": "code",
   "execution_count": 5,
   "metadata": {},
   "outputs": [
    {
     "data": {
      "text/html": [
       "<div>\n",
       "<style scoped>\n",
       "    .dataframe tbody tr th:only-of-type {\n",
       "        vertical-align: middle;\n",
       "    }\n",
       "\n",
       "    .dataframe tbody tr th {\n",
       "        vertical-align: top;\n",
       "    }\n",
       "\n",
       "    .dataframe thead th {\n",
       "        text-align: right;\n",
       "    }\n",
       "</style>\n",
       "<table border=\"1\" class=\"dataframe\">\n",
       "  <thead>\n",
       "    <tr style=\"text-align: right;\">\n",
       "      <th></th>\n",
       "      <th>open</th>\n",
       "      <th>high</th>\n",
       "      <th>low</th>\n",
       "      <th>close</th>\n",
       "      <th>cum_vol</th>\n",
       "      <th>cum_dollar</th>\n",
       "      <th>cum_ticks</th>\n",
       "    </tr>\n",
       "    <tr>\n",
       "      <th>date_time</th>\n",
       "      <th></th>\n",
       "      <th></th>\n",
       "      <th></th>\n",
       "      <th></th>\n",
       "      <th></th>\n",
       "      <th></th>\n",
       "      <th></th>\n",
       "    </tr>\n",
       "  </thead>\n",
       "  <tbody>\n",
       "    <tr>\n",
       "      <th>2015-01-01 23:00:23.723</th>\n",
       "      <td>2053.00</td>\n",
       "      <td>2056.75</td>\n",
       "      <td>2051.00</td>\n",
       "      <td>2056.75</td>\n",
       "      <td>34102</td>\n",
       "      <td>70001096.75</td>\n",
       "      <td>8478</td>\n",
       "    </tr>\n",
       "    <tr>\n",
       "      <th>2015-01-02 07:07:35.156</th>\n",
       "      <td>2056.75</td>\n",
       "      <td>2067.25</td>\n",
       "      <td>2056.25</td>\n",
       "      <td>2064.00</td>\n",
       "      <td>33968</td>\n",
       "      <td>70010061.25</td>\n",
       "      <td>14514</td>\n",
       "    </tr>\n",
       "    <tr>\n",
       "      <th>2015-01-02 09:35:57.204</th>\n",
       "      <td>2064.00</td>\n",
       "      <td>2067.25</td>\n",
       "      <td>2058.75</td>\n",
       "      <td>2060.50</td>\n",
       "      <td>33972</td>\n",
       "      <td>70087834.25</td>\n",
       "      <td>16152</td>\n",
       "    </tr>\n",
       "    <tr>\n",
       "      <th>2015-01-02 12:59:42.176</th>\n",
       "      <td>2060.50</td>\n",
       "      <td>2062.00</td>\n",
       "      <td>2057.75</td>\n",
       "      <td>2061.00</td>\n",
       "      <td>33985</td>\n",
       "      <td>70006169.75</td>\n",
       "      <td>15502</td>\n",
       "    </tr>\n",
       "    <tr>\n",
       "      <th>2015-01-02 14:19:33.847</th>\n",
       "      <td>2061.00</td>\n",
       "      <td>2064.25</td>\n",
       "      <td>2058.75</td>\n",
       "      <td>2063.75</td>\n",
       "      <td>33958</td>\n",
       "      <td>70000723.25</td>\n",
       "      <td>12332</td>\n",
       "    </tr>\n",
       "    <tr>\n",
       "      <th>...</th>\n",
       "      <td>...</td>\n",
       "      <td>...</td>\n",
       "      <td>...</td>\n",
       "      <td>...</td>\n",
       "      <td>...</td>\n",
       "      <td>...</td>\n",
       "      <td>...</td>\n",
       "    </tr>\n",
       "    <tr>\n",
       "      <th>2016-12-30 20:59:58.848</th>\n",
       "      <td>2236.00</td>\n",
       "      <td>2236.50</td>\n",
       "      <td>2235.75</td>\n",
       "      <td>2236.50</td>\n",
       "      <td>31334</td>\n",
       "      <td>70065316.00</td>\n",
       "      <td>1408</td>\n",
       "    </tr>\n",
       "    <tr>\n",
       "      <th>2016-12-30 21:00:00.352</th>\n",
       "      <td>2236.25</td>\n",
       "      <td>2237.50</td>\n",
       "      <td>2235.75</td>\n",
       "      <td>2235.75</td>\n",
       "      <td>31456</td>\n",
       "      <td>70355994.75</td>\n",
       "      <td>832</td>\n",
       "    </tr>\n",
       "    <tr>\n",
       "      <th>2016-12-30 21:00:24.294</th>\n",
       "      <td>2236.00</td>\n",
       "      <td>2237.00</td>\n",
       "      <td>2235.00</td>\n",
       "      <td>2236.25</td>\n",
       "      <td>31319</td>\n",
       "      <td>70029228.00</td>\n",
       "      <td>1123</td>\n",
       "    </tr>\n",
       "    <tr>\n",
       "      <th>2016-12-30 21:03:03.027</th>\n",
       "      <td>2236.25</td>\n",
       "      <td>2236.50</td>\n",
       "      <td>2233.75</td>\n",
       "      <td>2235.25</td>\n",
       "      <td>31346</td>\n",
       "      <td>70052618.00</td>\n",
       "      <td>1695</td>\n",
       "    </tr>\n",
       "    <tr>\n",
       "      <th>2016-12-30 21:13:31.990</th>\n",
       "      <td>2235.00</td>\n",
       "      <td>2236.00</td>\n",
       "      <td>2234.25</td>\n",
       "      <td>2235.00</td>\n",
       "      <td>31346</td>\n",
       "      <td>70064599.00</td>\n",
       "      <td>1869</td>\n",
       "    </tr>\n",
       "  </tbody>\n",
       "</table>\n",
       "<p>24079 rows × 7 columns</p>\n",
       "</div>"
      ],
      "text/plain": [
       "                            open     high      low    close  cum_vol  \\\n",
       "date_time                                                              \n",
       "2015-01-01 23:00:23.723  2053.00  2056.75  2051.00  2056.75    34102   \n",
       "2015-01-02 07:07:35.156  2056.75  2067.25  2056.25  2064.00    33968   \n",
       "2015-01-02 09:35:57.204  2064.00  2067.25  2058.75  2060.50    33972   \n",
       "2015-01-02 12:59:42.176  2060.50  2062.00  2057.75  2061.00    33985   \n",
       "2015-01-02 14:19:33.847  2061.00  2064.25  2058.75  2063.75    33958   \n",
       "...                          ...      ...      ...      ...      ...   \n",
       "2016-12-30 20:59:58.848  2236.00  2236.50  2235.75  2236.50    31334   \n",
       "2016-12-30 21:00:00.352  2236.25  2237.50  2235.75  2235.75    31456   \n",
       "2016-12-30 21:00:24.294  2236.00  2237.00  2235.00  2236.25    31319   \n",
       "2016-12-30 21:03:03.027  2236.25  2236.50  2233.75  2235.25    31346   \n",
       "2016-12-30 21:13:31.990  2235.00  2236.00  2234.25  2235.00    31346   \n",
       "\n",
       "                          cum_dollar  cum_ticks  \n",
       "date_time                                        \n",
       "2015-01-01 23:00:23.723  70001096.75       8478  \n",
       "2015-01-02 07:07:35.156  70010061.25      14514  \n",
       "2015-01-02 09:35:57.204  70087834.25      16152  \n",
       "2015-01-02 12:59:42.176  70006169.75      15502  \n",
       "2015-01-02 14:19:33.847  70000723.25      12332  \n",
       "...                              ...        ...  \n",
       "2016-12-30 20:59:58.848  70065316.00       1408  \n",
       "2016-12-30 21:00:00.352  70355994.75        832  \n",
       "2016-12-30 21:00:24.294  70029228.00       1123  \n",
       "2016-12-30 21:03:03.027  70052618.00       1695  \n",
       "2016-12-30 21:13:31.990  70064599.00       1869  \n",
       "\n",
       "[24079 rows x 7 columns]"
      ]
     },
     "execution_count": 5,
     "metadata": {},
     "output_type": "execute_result"
    }
   ],
   "source": [
    "data"
   ]
  },
  {
   "cell_type": "code",
   "execution_count": 6,
   "metadata": {},
   "outputs": [],
   "source": [
    "#Transforing to returns from a long position\n",
    "data_series = data['close'].diff()[1:]"
   ]
  },
  {
   "cell_type": "code",
   "execution_count": 7,
   "metadata": {},
   "outputs": [
    {
     "data": {
      "image/png": "[encoded data removed]",
      "text/plain": [
       "<Figure size 432x288 with 1 Axes>"
      ]
     },
     "metadata": {
      "needs_background": "light"
     },
     "output_type": "display_data"
    }
   ],
   "source": [
    "data_series.hist(bins=50)\n",
    "plt.show()"
   ]
  },
  {
   "cell_type": "code",
   "execution_count": 8,
   "metadata": {},
   "outputs": [],
   "source": [
    "#Uning mlfinlab package function for derailed concentration output\n",
    "pos_concentr, neg_concentr, hourly_concentr = bs.all_bets_concentration(data_series, frequency='H')"
   ]
  },
  {
   "cell_type": "code",
   "execution_count": 9,
   "metadata": {},
   "outputs": [
    {
     "name": "stdout",
     "output_type": "stream",
     "text": [
      "HHI index of positive returns is 7.952098928327844e-05\n"
     ]
    }
   ],
   "source": [
    "print('HHI index of positive returns is' , pos_concentr)"
   ]
  },
  {
   "cell_type": "markdown",
   "metadata": {},
   "source": [
    "Concentration (or HHI index) on positive returns is fairly close to zero. From it's properties we can concluse that the returns distribution is likely not to have fat right tail. "
   ]
  },
  {
   "cell_type": "markdown",
   "metadata": {},
   "source": [
    "### (b) HHI index on negative returns."
   ]
  },
  {
   "cell_type": "code",
   "execution_count": 10,
   "metadata": {},
   "outputs": [
    {
     "name": "stdout",
     "output_type": "stream",
     "text": [
      "HHI index of negative returns is 7.913393113578027e-05\n"
     ]
    }
   ],
   "source": [
    "print('HHI index of negative returns is' , neg_concentr)"
   ]
  },
  {
   "cell_type": "markdown",
   "metadata": {},
   "source": [
    "Concentration (or HHI index) on negative returns is fairly close to zero, same as for positive ones. From it's properties we can concluse that the returns distribution is likely not to have fat left tail. "
   ]
  },
  {
   "cell_type": "markdown",
   "metadata": {},
   "source": [
    "### (c) HHI index on time between bars"
   ]
  },
  {
   "cell_type": "code",
   "execution_count": 11,
   "metadata": {},
   "outputs": [
    {
     "name": "stdout",
     "output_type": "stream",
     "text": [
      "HHI index of returns divided by hourly bins is 0.00018884181203148828\n"
     ]
    }
   ],
   "source": [
    "print('HHI index of returns divided by hourly bins is' , hourly_concentr)"
   ]
  },
  {
   "cell_type": "markdown",
   "metadata": {},
   "source": [
    "Concentration (or HHI index) on time between bars (from set, roughly 1h between bars) is low. This means bets are not concentrated in time, or are close to uniformly distributed across time."
   ]
  },
  {
   "cell_type": "markdown",
   "metadata": {},
   "source": [
    "### (d) The 95-percentile DD"
   ]
  },
  {
   "cell_type": "code",
   "execution_count": 12,
   "metadata": {},
   "outputs": [],
   "source": [
    "#Getting series of prices\n",
    "price_series = data['close'][1:]"
   ]
  },
  {
   "cell_type": "code",
   "execution_count": 13,
   "metadata": {},
   "outputs": [],
   "source": [
    "#Uning mlfinlab package function to get drawdowns and time under water series\n",
    "drawdown, tuw = bs.drawdown_and_time_under_water(price_series, dollars = False)\n",
    "drawdown_dollars, _ = bs.drawdown_and_time_under_water(price_series, dollars = True)"
   ]
  },
  {
   "cell_type": "code",
   "execution_count": 14,
   "metadata": {},
   "outputs": [
    {
     "name": "stdout",
     "output_type": "stream",
     "text": [
      "The 95th percentile of Drawdown is 0.026251287963770763\n"
     ]
    }
   ],
   "source": [
    "print('The 95th percentile of Drawdown is' , drawdown.quantile(.95))"
   ]
  },
  {
   "cell_type": "code",
   "execution_count": 15,
   "metadata": {},
   "outputs": [
    {
     "name": "stdout",
     "output_type": "stream",
     "text": [
      "The 95th percentile of Drawdown in dollars is 56.19999999999995\n"
     ]
    }
   ],
   "source": [
    "print('The 95th percentile of Drawdown in dollars is' , drawdown_dollars.quantile(.95))"
   ]
  },
  {
   "cell_type": "markdown",
   "metadata": {},
   "source": [
    "This means that from the observed set, 95% of drawdowns are below 0.026 or 2,6% of portfolio (If assuming long position). In dollar equivalent it is $56.20."
   ]
  },
  {
   "cell_type": "markdown",
   "metadata": {},
   "source": [
    "### (e) The 95-percentile TuW"
   ]
  },
  {
   "cell_type": "code",
   "execution_count": 16,
   "metadata": {},
   "outputs": [
    {
     "name": "stdout",
     "output_type": "stream",
     "text": [
      "The 95th percentile of Time under water 0.04477236987906801\n"
     ]
    }
   ],
   "source": [
    "print('The 95th percentile of Time under water' , tuw.quantile(.95))"
   ]
  },
  {
   "cell_type": "markdown",
   "metadata": {},
   "source": [
    "From the results, 95% of time under water is below 0.044 years, or 16,34 days."
   ]
  },
  {
   "cell_type": "markdown",
   "metadata": {},
   "source": [
    "### (f) Annualized average return."
   ]
  },
  {
   "cell_type": "code",
   "execution_count": 17,
   "metadata": {},
   "outputs": [],
   "source": [
    "# Using simple formula for annual return\n",
    "days_observed = (price_series.index[-1] - price_series.index[0]) / np.timedelta64(1, 'D')\n",
    "cumulated_return = price_series[-1]/price_series[0]\n",
    "annual_return = (cumulated_return)**(365/days_observed) - 1"
   ]
  },
  {
   "cell_type": "code",
   "execution_count": 18,
   "metadata": {},
   "outputs": [
    {
     "name": "stdout",
     "output_type": "stream",
     "text": [
      "Annualized average return from data is 0.04068052208872763\n"
     ]
    }
   ],
   "source": [
    "print('Annualized average return from data is' , annual_return)"
   ]
  },
  {
   "cell_type": "markdown",
   "metadata": {},
   "source": [
    "So, average annual return from given data is 4,068%"
   ]
  },
  {
   "cell_type": "markdown",
   "metadata": {},
   "source": [
    "### (g) Average returns from hits (positive returns)."
   ]
  },
  {
   "cell_type": "code",
   "execution_count": 19,
   "metadata": {},
   "outputs": [
    {
     "name": "stdout",
     "output_type": "stream",
     "text": [
      "Average returns from positive bars in dollars is 2.024980568270144 and counter is 11579\n",
      "Average returns from positive bars grouped by days in dollars is 12.571302816901408 and counter is 284\n"
     ]
    }
   ],
   "source": [
    "print('Average returns from positive bars in dollars is' , data_series[data_series>0].mean(), \n",
    "      'and counter is', data_series[data_series>0].count())\n",
    "#Also looking at results grouped by days\n",
    "returns_by_days = data_series.groupby(pd.Grouper(freq='D')).sum()\n",
    "returns_by_days = returns_by_days[returns_by_days!=0]\n",
    "print('Average returns from positive bars grouped by days in dollars is' , \n",
    "      returns_by_days[returns_by_days>0].mean(), 'and counter is', \n",
    "      returns_by_days[returns_by_days>0].count())"
   ]
  },
  {
   "cell_type": "markdown",
   "metadata": {},
   "source": [
    "Average returns from bar hits is 2,025 and from day hits 12,571. Hits from bars are 40 times more frequent than day"
   ]
  },
  {
   "cell_type": "markdown",
   "metadata": {},
   "source": [
    "### (h) Average return from misses (negative returns)."
   ]
  },
  {
   "cell_type": "code",
   "execution_count": 20,
   "metadata": {},
   "outputs": [
    {
     "name": "stdout",
     "output_type": "stream",
     "text": [
      "Average returns from negative bars in dollars is -2.057200954822739 and counter is 11311\n",
      "Average returns from negative bars grouped by days in dollars is -12.470588235294118 and counter is 272\n"
     ]
    }
   ],
   "source": [
    "print('Average returns from negative bars in dollars is' , data_series[data_series<0].mean(),\n",
    "     'and counter is', data_series[data_series<0].count())\n",
    "print('Average returns from negative bars grouped by days in dollars is' , \n",
    "      returns_by_days[returns_by_days<0].mean(), 'and counter is',\n",
    "      returns_by_days[returns_by_days<0].count())"
   ]
  },
  {
   "cell_type": "markdown",
   "metadata": {},
   "source": [
    "Average returns from bar misses is -2,057 and from day hits -12,447. The number of misses is just slightly lower than number of hits."
   ]
  },
  {
   "cell_type": "markdown",
   "metadata": {},
   "source": [
    "### (i) Annualized SR"
   ]
  },
  {
   "cell_type": "code",
   "execution_count": 21,
   "metadata": {},
   "outputs": [
    {
     "name": "stdout",
     "output_type": "stream",
     "text": [
      "Annualized Sharpe Ratio (with risk-free rate assumed to be zero) is 0.49433639999746987\n"
     ]
    }
   ],
   "source": [
    "#Uning mlfinlab package function to get SR\n",
    "annualized_sr = bs.sharpe_ratio(returns_by_days, cumulative=False, entries_per_year=days_observed, risk_free_rate=0)\n",
    "print('Annualized Sharpe Ratio (with risk-free rate assumed to be zero) is' , annualized_sr)"
   ]
  },
  {
   "cell_type": "markdown",
   "metadata": {},
   "source": [
    "The annualized Sharpe ratio for the long position on the portfolio is fairly low at 0,4318."
   ]
  },
  {
   "cell_type": "markdown",
   "metadata": {},
   "source": [
    "### (j) Information ratio, where the benchmark is the risk-free rate."
   ]
  },
  {
   "cell_type": "markdown",
   "metadata": {},
   "source": [
    "Inforamtion ratio is the relation of mean excess return over a benchmark to the standard deviation of that excess return over a benchmark.\n",
    "\n",
    "For the nenchmark, let's assume the risk-free rate to be the 10 year treasury rate at the beginning of 2020 at 1,8% per year"
   ]
  },
  {
   "cell_type": "code",
   "execution_count": 22,
   "metadata": {},
   "outputs": [
    {
     "name": "stdout",
     "output_type": "stream",
     "text": [
      "Information ratio is 0.3369951835875305\n"
     ]
    }
   ],
   "source": [
    "#Stating the risk-free ratio and trading days per year\n",
    "risk_free_ratio = 0.018\n",
    "trading_days = 252\n",
    "#Getting returns in percentages as return in a day divided by starting price of the day\n",
    "open_by_days = data['close'].groupby(pd.Grouper(freq='D')).first().dropna()\n",
    "percentage_returns = returns_by_days / open_by_days[1:]\n",
    "\n",
    "#Calculating excess returns above the risk-free ratio\n",
    "excess_returns = percentage_returns - risk_free_ratio / trading_days\n",
    "\n",
    "#Now, for the calculation of the Inforamtion ratio, a Sharpe ratio function can be used\n",
    "#with zero risk-free rate parameter.\n",
    "information_ratio = bs.sharpe_ratio(excess_returns, cumulative=False, \n",
    "                                    entries_per_year=days_observed, risk_free_rate=0)\n",
    "print('Information ratio is' , information_ratio)"
   ]
  },
  {
   "cell_type": "markdown",
   "metadata": {},
   "source": [
    "Information ratio is the Sharpe ratio equivalent of a portfolio that measures its performance relative to a benchmark. It is lower than the Sharpe ratio, as expected, as we're measuring a relative performance of a portfolio. It is still positive, which means that portfolio outperforms the benchmark of a risk-free rate."
   ]
  },
  {
   "cell_type": "markdown",
   "metadata": {},
   "source": [
    "### (k) PSR."
   ]
  },
  {
   "cell_type": "markdown",
   "metadata": {},
   "source": [
    "The probabilistic Sharpe ratio (PSR) provides an adjusted estimate of SR, by removing the inflationary effect caused by short series with skewed and/or fat-tailed returns.\n",
    "\n",
    "As no benchmark Sharpe ratio is provided, let's assume it to be at 0.48, a bit lower than the previously calculated Annual SR."
   ]
  },
  {
   "cell_type": "code",
   "execution_count": 23,
   "metadata": {},
   "outputs": [
    {
     "name": "stdout",
     "output_type": "stream",
     "text": [
      "Probabalistic Sharpe Ratio with benchmark SR of 0.48 is 0.6348122154832554\n"
     ]
    }
   ],
   "source": [
    "#Uning mlfinlab package function to get PSR\n",
    "probabalistic_sr = bs.probabalistic_sharpe_ratio(observed_sr=annualized_sr, \n",
    "                                                 benchmark_sr=0.48, \n",
    "                                                 number_of_returns=days_observed, \n",
    "                                                 skewness_of_returns=returns_by_days.skew(), \n",
    "                                                 kurtosis_of_returns=returns_by_days.kurt())\n",
    "print('Probabalistic Sharpe Ratio with benchmark SR of 0.48 is' , probabalistic_sr)"
   ]
  },
  {
   "cell_type": "markdown",
   "metadata": {},
   "source": [
    "As the value is lower than 0.95, we have to reject the hypothesis that Sharpe ratio is 0.49 for the 5% significance level."
   ]
  },
  {
   "cell_type": "code",
   "execution_count": 24,
   "metadata": {},
   "outputs": [
    {
     "name": "stdout",
     "output_type": "stream",
     "text": [
      "Probabalistic Sharpe Ratio with benchmark SR of 0.4259 is 0.9500264835705009\n"
     ]
    }
   ],
   "source": [
    "probabalistic_sr_adj = bs.probabalistic_sharpe_ratio(observed_sr=annualized_sr, \n",
    "                                                     benchmark_sr=0.4259, \n",
    "                                                     number_of_returns=days_observed, \n",
    "                                                     skewness_of_returns=returns_by_days.skew(), \n",
    "                                                     kurtosis_of_returns=returns_by_days.kurt())\n",
    "print('Probabalistic Sharpe Ratio with benchmark SR of 0.4259 is' , probabalistic_sr_adj)"
   ]
  },
  {
   "cell_type": "markdown",
   "metadata": {},
   "source": [
    "Howewer, with the benchmark SR of 0.4259, the PSR is just above 0.95. So, we can assume Sharpe ratio to be 0.4259 for the 5% significance level."
   ]
  },
  {
   "cell_type": "markdown",
   "metadata": {},
   "source": [
    "### (l) DSR, where we assume there were 100 trials, and the variance of the trials’ SR was 0.5."
   ]
  },
  {
   "cell_type": "markdown",
   "metadata": {},
   "source": [
    "Deflated Sharpe Ratio (DSR) is a PSR where the rejection threshold is adjusted to reflect the multiplicity of trials. DSR is estimated as PSR[SR∗], where the benchmark Sharpe ratio, SR∗, is no longer user-defined, but calculated from SR estimate trails.\n",
    "\n",
    "Again taking 0.49 as a benchmark Sharpe ratio."
   ]
  },
  {
   "cell_type": "code",
   "execution_count": 25,
   "metadata": {},
   "outputs": [
    {
     "name": "stdout",
     "output_type": "stream",
     "text": [
      "Deflated Sharpe Ratio with benchmark SR of 0.49 is 1.2234104019953887e-202\n"
     ]
    }
   ],
   "source": [
    "#As the current function accepts only lists of trails, let's generate one and pass it as a parameter.\n",
    "trails_list = np.random.normal(0.49, 0.5**(1/2), 100)\n",
    "\n",
    "#Uning mlfinlab package function to get DSR\n",
    "deflated_sr = bs.deflated_sharpe_ratio(observed_sr=annualized_sr, \n",
    "                                       sr_estimates=trails_list, \n",
    "                                       number_of_returns=days_observed, \n",
    "                                       skewness_of_returns=returns_by_days.skew(), \n",
    "                                       kurtosis_of_returns=returns_by_days.kurt())\n",
    "print('Deflated Sharpe Ratio with benchmark SR of 0.49 is' , deflated_sr)"
   ]
  },
  {
   "cell_type": "markdown",
   "metadata": {},
   "source": [
    "Deflated Sharpe ratio is extremely low. This is because the benchmark in the estimate is set high:"
   ]
  },
  {
   "cell_type": "code",
   "execution_count": 26,
   "metadata": {},
   "outputs": [
    {
     "name": "stdout",
     "output_type": "stream",
     "text": [
      "Benchmark Sharpe ratio used in DSR is 1.7569290498169754\n"
     ]
    }
   ],
   "source": [
    "benchmark_sr_dsr = np.array(trails_list).std() * \\\n",
    "                   ((1 - np.euler_gamma) * ss.norm.ppf(1 - 1 / len(trails_list)) +\n",
    "                    np.euler_gamma * ss.norm.ppf(1 - 1 / len(trails_list) * np.e ** (-1)))\n",
    "\n",
    "print('Benchmark Sharpe ratio used in DSR is' , benchmark_sr_dsr)"
   ]
  },
  {
   "cell_type": "markdown",
   "metadata": {},
   "source": [
    "If the number of trails was smaller, the results would be different:"
   ]
  },
  {
   "cell_type": "code",
   "execution_count": 27,
   "metadata": {},
   "outputs": [
    {
     "name": "stdout",
     "output_type": "stream",
     "text": [
      "Deflated Sharpe Ratio with benchmark SR of 0.49 is 0.9815966859130163\n"
     ]
    }
   ],
   "source": [
    "trails_list_adj = np.random.normal(0.49, 0.5**(1/2), 4)\n",
    "\n",
    "benchmark_sr_dsr_adj = np.array(trails_list_adj).std() * \\\n",
    "                       ((1 - np.euler_gamma) * ss.norm.ppf(1 - 1 / len(trails_list_adj)) +\n",
    "                       np.euler_gamma * ss.norm.ppf(1 - 1 / len(trails_list_adj) * np.e ** (-1)))\n",
    "\n",
    "print('Deflated Sharpe Ratio with benchmark SR of 0.49 is' , benchmark_sr_dsr_adj)"
   ]
  },
  {
   "cell_type": "markdown",
   "metadata": {},
   "source": [
    "## Question-14.3"
   ]
  },
  {
   "cell_type": "markdown",
   "metadata": {},
   "source": [
    "### Consider a strategy that is long one futures contract on even years, and is short one futures contract on odd years.\n",
    "\n",
    "### (a) Repeat the calculations from exercise 2."
   ]
  },
  {
   "cell_type": "code",
   "execution_count": null,
   "metadata": {},
   "outputs": [],
   "source": []
  },
  {
   "cell_type": "code",
   "execution_count": null,
   "metadata": {},
   "outputs": [],
   "source": []
  },
  {
   "cell_type": "markdown",
   "metadata": {},
   "source": [
    "### (b) What is the correlation to the underlying?"
   ]
  },
  {
   "cell_type": "code",
   "execution_count": null,
   "metadata": {},
   "outputs": [],
   "source": []
  },
  {
   "cell_type": "code",
   "execution_count": null,
   "metadata": {},
   "outputs": [],
   "source": []
  },
  {
   "cell_type": "markdown",
   "metadata": {},
   "source": [
    "## Question-14.4"
   ]
  },
  {
   "cell_type": "markdown",
   "metadata": {},
   "source": [
    "### The results from a 2-year backtest are that monthly returns have a mean of 3.6%, and a standard deviation of 0.079%.\n",
    "\n",
    "### (a) What is the SR?"
   ]
  },
  {
   "cell_type": "markdown",
   "metadata": {},
   "source": [
    "Simple Sharpe ratio is calculated as:\n",
    "\n",
    "$SR=\\frac{E[r]}{\\sqrt{V[r]}}$, where $r$ - monthly returns.\n",
    "\n",
    "So, $SR = \\frac{3.6}{0.079} = 45,57$\n",
    "\n",
    "It's ho high due to standard deviation is being so low. This means that 99,7% of returns fall in the (3,363%;3,837%). If we use risk-free rate for the calculation, say 1,8%, then:\n",
    "\n",
    "$SR=\\frac{E[r]-R_f}{\\sqrt{V[r]}}$, where $r$ - monthly returns, $R_f$ - risk-free rate\n",
    "\n",
    "So, $SR = \\frac{3.6-1.8}{0.079} = 22,78$\n",
    "\n",
    "This SR is lower, however still high, as standard deviation is the same."
   ]
  },
  {
   "cell_type": "markdown",
   "metadata": {},
   "source": [
    "### (b) What is the annualized SR?"
   ]
  },
  {
   "cell_type": "markdown",
   "metadata": {},
   "source": [
    "Annualized Sharpe ratio is calculated as:\n",
    "\n",
    "$SR=\\frac{E[r]}{\\sqrt{V[r]}}*\\sqrt{N}$, where $r$ - monthly returns, $N$ - number of obbervations per year.\n",
    "\n",
    "So, $SR = \\frac{3.6}{0.079}*\\sqrt{12} = 157,86$\n"
   ]
  },
  {
   "cell_type": "markdown",
   "metadata": {},
   "source": [
    "## Question-14.4"
   ]
  },
  {
   "cell_type": "markdown",
   "metadata": {},
   "source": [
    "### Following on exercise 1:\n",
    "### (a) The returns have a skewness of 0 and a kurtosis of 3. What is the PSR?"
   ]
  },
  {
   "cell_type": "markdown",
   "metadata": {},
   "source": [
    "Exercise 1 gives no details on exact Sharpe ratio or number of observed returns, so we can't calculate the exact PSR.\n",
    "\n",
    "From a theoretical perspective, PSR corrects SR for inflationary effects caused by non-Normal returns. Skewness of 0 and kurtosis of 3 show that returns are normal. The changes of skewness, kurtosis and number of observations change PSR in a the following way:"
   ]
  },
  {
   "cell_type": "code",
   "execution_count": 28,
   "metadata": {},
   "outputs": [
    {
     "name": "stdout",
     "output_type": "stream",
     "text": [
      "Probabalistic Sharpe Ratio with benchmark SR of 0.48 is 0.5923206649935808\n"
     ]
    }
   ],
   "source": [
    "#From the example with nymbers in Exercise 2:\n",
    "probabalistic_sr = bs.probabalistic_sharpe_ratio(observed_sr=annualized_sr, \n",
    "                                                 benchmark_sr=0.48, \n",
    "                                                 number_of_returns=days_observed, \n",
    "                                                 skewness_of_returns=-2.4, \n",
    "                                                 kurtosis_of_returns=10.1)\n",
    "print('Probabalistic Sharpe Ratio with benchmark SR of 0.48 is' , probabalistic_sr)\n"
   ]
  },
  {
   "cell_type": "markdown",
   "metadata": {},
   "source": [
    "However, if we massively increase the numbr of returns observed, leaving other parameters intact:"
   ]
  },
  {
   "cell_type": "code",
   "execution_count": 29,
   "metadata": {},
   "outputs": [
    {
     "name": "stdout",
     "output_type": "stream",
     "text": [
      "Probabalistic Sharpe Ratio with benchmark SR of 0.48 and high number of obxervations is 0.8150510539014713\n"
     ]
    }
   ],
   "source": [
    "probabalistic_sr = bs.probabalistic_sharpe_ratio(observed_sr=annualized_sr, \n",
    "                                                 benchmark_sr=0.48, \n",
    "                                                 number_of_returns=days_observed + 10000, \n",
    "                                                 skewness_of_returns=-2.4, \n",
    "                                                 kurtosis_of_returns=10.1)\n",
    "print('Probabalistic Sharpe Ratio with benchmark SR of 0.48 and', \n",
    "      'high number of obxervations is' , probabalistic_sr)"
   ]
  },
  {
   "cell_type": "markdown",
   "metadata": {},
   "source": [
    "As seen, with an increase of observations, PSR rises."
   ]
  },
  {
   "cell_type": "markdown",
   "metadata": {},
   "source": [
    "### (b) The returns have a skewness of -2.448 and a kurtosis of 10.164. What is the PSR?"
   ]
  },
  {
   "cell_type": "markdown",
   "metadata": {},
   "source": [
    "Both lower values of skewness (heavy right tail) and higher values of kurtosis (heavy tails) decrease the PSR. WE can see this from the example:"
   ]
  },
  {
   "cell_type": "code",
   "execution_count": 30,
   "metadata": {},
   "outputs": [
    {
     "name": "stdout",
     "output_type": "stream",
     "text": [
      "Probabalistic Sharpe Ratio with benchmark SR of 0.48 and normal returns is 0.6424624182675767\n"
     ]
    }
   ],
   "source": [
    "probabalistic_sr = bs.probabalistic_sharpe_ratio(observed_sr=annualized_sr, \n",
    "                                                 benchmark_sr=0.48, \n",
    "                                                 number_of_returns=days_observed, \n",
    "                                                 skewness_of_returns=0, \n",
    "                                                 kurtosis_of_returns=3)\n",
    "print('Probabalistic Sharpe Ratio with benchmark SR of 0.48 and', \n",
    "      'normal returns is' , probabalistic_sr)"
   ]
  },
  {
   "cell_type": "code",
   "execution_count": 31,
   "metadata": {},
   "outputs": [
    {
     "name": "stdout",
     "output_type": "stream",
     "text": [
      "Probabalistic Sharpe Ratio with benchmark SR of 0.48 and negatively-skewed, leptokurtic returns is 0.5923206649935808\n"
     ]
    }
   ],
   "source": [
    "probabalistic_sr = bs.probabalistic_sharpe_ratio(observed_sr=annualized_sr, \n",
    "                                                 benchmark_sr=0.48, \n",
    "                                                 number_of_returns=days_observed, \n",
    "                                                 skewness_of_returns=-2.4, \n",
    "                                                 kurtosis_of_returns=10.1)\n",
    "print('Probabalistic Sharpe Ratio with benchmark SR of 0.48 and', \n",
    "      'negatively-skewed, leptokurtic returns is' , probabalistic_sr)"
   ]
  },
  {
   "cell_type": "markdown",
   "metadata": {},
   "source": [
    "## Question-14.6"
   ]
  },
  {
   "cell_type": "markdown",
   "metadata": {},
   "source": [
    "### What would be the PSR from 2.b, if the backtest had been for a length of 3 years?"
   ]
  },
  {
   "cell_type": "code",
   "execution_count": null,
   "metadata": {},
   "outputs": [],
   "source": []
  },
  {
   "cell_type": "code",
   "execution_count": null,
   "metadata": {},
   "outputs": [],
   "source": []
  },
  {
   "cell_type": "markdown",
   "metadata": {},
   "source": [
    "## Question-14.7"
   ]
  },
  {
   "cell_type": "markdown",
   "metadata": {},
   "source": [
    "### A 5-year backtest has an annualized SR of 2.5, computed on daily returns. The skewness is -3 and the kurtosis is 10.\n",
    "\n",
    "### (a) What is the PSR?"
   ]
  },
  {
   "cell_type": "markdown",
   "metadata": {},
   "source": [
    "Using the PSR formula:\n",
    "\n",
    "$PSR[SR*] = Z[\\frac{(SR - SR*)\\sqrt{T-1}}{\\sqrt{1-\\gamma_3SR+\\frac{\\gamma_4-1}{4}SR^2}}]$\n",
    "\n",
    "With SR 2.2 as a benchmark, \n",
    "\n",
    "$PSR[2.2] = Z[\\frac{(2.5-2.2)\\sqrt{1260-1}}{\\sqrt{1-(-3)*2.5+\\frac{10-1}{4}2.5^2}}] = 0.9875 $\n",
    "\n",
    "So, at 5% significance level, Sharpe ratio is higher than the benchmark 2.2 SR. \n"
   ]
  },
  {
   "cell_type": "code",
   "execution_count": 32,
   "metadata": {},
   "outputs": [
    {
     "name": "stdout",
     "output_type": "stream",
     "text": [
      "Probabalistic Sharpe Ratio is 0.9874867374822187\n"
     ]
    }
   ],
   "source": [
    "probabalistic_sr = bs.probabalistic_sharpe_ratio(observed_sr=2.5, \n",
    "                                                 benchmark_sr=2.2, \n",
    "                                                 number_of_returns=1260, \n",
    "                                                 skewness_of_returns=-3, \n",
    "                                                 kurtosis_of_returns=10)\n",
    "print('Probabalistic Sharpe Ratio is' , probabalistic_sr)"
   ]
  },
  {
   "cell_type": "markdown",
   "metadata": {},
   "source": [
    "### (b) In order to find that best result, 100 trials were conducted. The variance of the Sharpe ratios on those trials is 0.5. What is the DSR?"
   ]
  },
  {
   "cell_type": "markdown",
   "metadata": {},
   "source": [
    "Using the DSR formula:\n",
    "\n",
    "$SR* = \\sqrt{V[SR_n]}((1-\\gamma)*Z^{-1}[1-\\frac{1}{N}]+\\gamma*Z^{-1}[1-\\frac{1}{N}e^{-1}])$\n",
    "\n",
    "$SR* = \\sqrt{0.5}((1-\\gamma)*Z^{-1}[1-\\frac{1}{100}]+\\gamma*Z^{-1}[1-\\frac{1}{100}e^{-1}]) = 1.7894$ \n",
    "\n",
    "And:\n",
    "\n",
    "$DSR[SR*] = Z[\\frac{(SR - SR*)\\sqrt{T-1}}{\\sqrt{1-\\gamma_3SR+\\frac{\\gamma_4-1}{4}SR^2}}]$\n",
    "\n",
    "$DSR[1.7894] = Z[\\frac{(2.5-1.7894)\\sqrt{1260-1}}{\\sqrt{1-(-3)*2.5+\\frac{10-1}{4}2.5^2}}] = 0.99 $\n",
    "\n",
    "So, for the 5% significance level, SR is higher than the benchmark 1.7894. Therefore it omits multiple testing/selection  bias."
   ]
  },
  {
   "cell_type": "code",
   "execution_count": 33,
   "metadata": {},
   "outputs": [
    {
     "name": "stdout",
     "output_type": "stream",
     "text": [
      "Calculated benchmark Sharpe ratio is 1.7894064662732079\n",
      "Deflated Sharpe ratio is 0.9999999446183043\n"
     ]
    }
   ],
   "source": [
    "benchmark_sr_dsr = (0.5)**(1/2) * \\\n",
    "                   ((1 - np.euler_gamma) * ss.norm.ppf(1 - 1 / 100) +\n",
    "                   np.euler_gamma * ss.norm.ppf(1 - 1 / 100 * np.e ** (-1)))\n",
    "\n",
    "print('Calculated benchmark Sharpe ratio is', benchmark_sr_dsr)\n",
    "\n",
    "deflated_sr = bs.probabalistic_sharpe_ratio(observed_sr=2.5, \n",
    "                                            benchmark_sr=benchmark_sr_dsr, \n",
    "                                            number_of_returns=1260, \n",
    "                                            skewness_of_returns=-3, \n",
    "                                            kurtosis_of_returns=10)\n",
    "\n",
    "print('Deflated Sharpe ratio is', deflated_sr)"
   ]
  },
  {
   "cell_type": "markdown",
   "metadata": {},
   "source": [
    "## Conclusion"
   ]
  },
  {
   "cell_type": "markdown",
   "metadata": {},
   "source": [
    "Chapter provides formula solutions for:\n",
    " * Estimation of average holding period;\n",
    " * Calculation of Drawdown;\n",
    " * Calculation of Time under Water;\n",
    " * Herfindahl-Hirschman Index or Concentration of returns;\n",
    " * Sharpe ratio;\n",
    " * Information ratio;\n",
    " * Probabalistic Sharpe ratio;\n",
    " * Deflated Sharpe ratio;\n",
    "\n",
    "Key takewaysfrom the chapter:\n",
    "\n",
    " * HHI index on dollar bars returns shows that both right and left tails of returns are close to normal. Dollar bars divided by hourly bins show that time concentration of returns is low, which means returns are close to uniform distribution actoss time.\n",
    " \n",
    " * From the provided Drawdown and Time under water function, quantiles can be easily calculatied in order to estimate expected drawdowns and times under water with 95% certainty.\n",
    " \n",
    " * Information fario is a good alternative to the Sharpe ratio, when taking into account available risk-free rate.\n",
    " \n",
    " * The probabilistic Sharpe ratio (PSR) provides an adjusted estimate of SR, by removing the inflationary effect caused by short series with skewed and/or fat-tailed returns.\n",
    " \n",
    " * All else equal:\n",
    "   * Increase in number of observations increases PSR\n",
    "   * Decrease in skewness of returns decreases PSR\n",
    "   * Increase in kurtosis of returns decreases PSR\n",
    " \n",
    " \n",
    " * Deflated Sharpe Ratio (DSR) is a PSR where the rejection threshold is adjusted to reflect the multiplicity of trials. DSR is estimated as PSR[SR∗], where the benchmark Sharpe ratio, SR∗, is no longer user-defined, but calculated from SR estimate trails.\n",
    "\n",
    "Papers used in the chapter:\n",
    "\n",
    "* David H. Bailey and Marcos Lopez de Prado (2011): \"The Sharpe Ratio Efficient Frontier.\" Journal of Risk, Vol. 15, No. 2, Winter 2012/13. Available at https://papers.ssrn.com/abstract_id=1821643. (Provides a deeper understanding of Sharpe ratios implemented and Minimum track record length - required numner of trails to conclude that the SR is above the benchmark)"
   ]
  }
 ],
 "metadata": {
  "kernelspec": {
   "display_name": "myenv",
   "language": "python",
   "name": "myenv"
  },
  "language_info": {
   "codemirror_mode": {
    "name": "ipython",
    "version": 3
   },
   "file_extension": ".py",
   "mimetype": "text/x-python",
   "name": "python",
   "nbconvert_exporter": "python",
   "pygments_lexer": "ipython3",
   "version": "3.7.3"
  }
 },
 "nbformat": 4,
 "nbformat_minor": 4
}
