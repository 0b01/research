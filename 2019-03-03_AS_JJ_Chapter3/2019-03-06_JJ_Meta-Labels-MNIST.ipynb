{
 "cells": [
  {
   "cell_type": "markdown",
   "metadata": {},
   "source": [
    "# Meta Labeling\n",
    "This notebook is a small MVP regarding the idea of meta labeling by Marcos Lopez de Prado, Advances in Financial Machine Learning, Chapter 3, pg 50. \n",
    "\n",
    "The central idea is to create a secondary ML model that learns how to use the primary exogenous model. This leads to improved performance metrics, including: Accuracy, Precision, Recall, and F1-Score.\n",
    "\n",
    "To illustrate the concept we made use of the MNIST data set to train a binary classifier on identifying the number 3, from a set that only includes the digits 3 and 5. The reason for this is that the number 3 looks very similar to 5 and we expect there to be some overlap in the data, i.e. the data are not linearly separable. Another reason we chose the MNIST dataset to illustrate the concept, is that MNIST is a solved problem and we can witness improvements in performance metrics with ease. "
   ]
  },
  {
   "cell_type": "markdown",
   "metadata": {},
   "source": [
    "## Papers\n",
    "The following papers were mentioned in the Bibliography, that highlight what we thought may have been some of the inspiration for meta labeling. \n",
    "* [Wang, J. Chan, S. 2006. Stock market trading rule discovery using two-layer bias decision tree. Expert Systems with Applications 30 (2006) 605–611 ](https://www.sciencedirect.com/science/article/pii/S095741740500148X)\n",
    "* [Qin, Q. Wang, Q. Li, J. Sam Ge, S. 2013. Linear and Nonlinear Trading Models with Gradient Boosted Random Forests and Application to Singapore Stock Market. Journal of Intelligent Learning Systems and Applications, 2013, 5, 1-10](http://file.scirp.org/pdf/JILSA_2013022213381465.pdf)\n",
    "* [Tsai, C.F. and Wang, S.P., 2009, March. Stock price forecasting by hybrid machine learning techniques. In Proceedings of the International MultiConference of Engineers and Computer Scientists (Vol. 1, No. 755, p. 60).](https://pdfs.semanticscholar.org/0fb3/9b308ec17401ec5697139dcf7f832080179f.pdf)\n",
    "* [Patel, J., Shah, S., Thakkar, P. and Kotecha, K., 2015. Predicting stock market index using fusion of machine learning techniques. Expert Systems with Applications, 42(4), pp.2162-2172.](https://www.sciencedirect.com/science/article/pii/S0957417414006551)\n",
    "* [Zhu, M., Philpotts, D., Sparks, R. and Stevenson, M.J., 2011. A hybrid approach to combining CART and logistic regression for stock ranking. Journal of Portfolio Management, 38(1), p.100.](https://search.proquest.com/openview/65025597d6bcc7b430cb9c41ddfdf203/1?pq-origsite=gscholar&cbl=49137)"
   ]
  },
  {
   "cell_type": "markdown",
   "metadata": {},
   "source": [
    "### Advances in Financial Machine Learning, Chapter 3, page 50. Reads:\n",
    "#### Meta Labeling\n",
    "Suppose that you have a model for setting the side of the bet (long or short). You just need to learn the size of that bet, which includes the possibility of no bet at all (zero size). This is a situation that practitioners face regularly. We often know whether we want to buy or sell a product, and the only remaining question is how much money we should risk in such a bet. We do not want the ML algorithm to learn the side, just to tell us what is the appropriate size. At this point, it probably does not surprise you to hear that no book or paper has so far discussed this common problem. Thankfully, that misery ends here.\n",
    "\n",
    "I call this problem meta-labeling because we want to build a secondary ML model that learns how to use a primary exogenous model. \n",
    "\n",
    "The ML algorithm will be trained to decide whether to take the bet or pass, a purely binary prediction. When the predicted label is 1, we can use the probability of this secondary prediction to derive the size of the bet, where the side (sign) of the position has been set by the primary model.\n",
    "\n",
    "#### How to use Meta-Labeling\n",
    "Binary classification problems present a trade-off between type-I errors (false positives) and type-II errors (false negatives). In general, increasing the true positive rate of a binary classifier will tend to increase its false positive rate. The receiver operating characteristic (ROC) curve of a binary classifier measures the cost of increasing the true positive rate, in terms of accepting higher false positive rates.\n",
    "\n",
    "<figure>\n",
    "<figcaption></figcaption>\n",
    "<img src=\"https://upload.wikimedia.org/wikipedia/commons/thumb/2/26/Precisionrecall.svg/660px-Precisionrecall.svg.png\"\n",
    "     width=300px\n",
    "     alt=\"Confusion Matrix\"\n",
    "     style=\"float: left\"/>\n",
    "</figure>\n",
    "\n",
    "The image illustrates the so-called “confusion matrix.” On a set of observations, there are items that exhibit a condition (positives, left rectangle), and items that do not\n",
    "exhibit a condition (negative, right rectangle). A binary classifier predicts that some items exhibit the condition (ellipse), where the TP area contains the true positives and the TN area contains the true negatives. This leads to two kinds of errors: false positives (FP) and false negatives (FN). “Precision” is the ratio between the TP area and the area in the ellipse. “Recall” is the ratio between the TP area and the area in the left rectangle. This notion of recall (aka true positive rate) is in the context of classification problems, the analogous to “power” in the context of hypothesis testing. “Accuracy” is the sum of the TP and TN areas divided by the overall set of items (square). In general, decreasing the FP area comes at a cost of increasing the FN area, because higher precision typically means fewer calls, hence lower recall. Still, there is some combination of precision and recall that maximizes the overall efficiency of the classifier. The F1-score measures the efficiency of a classifier as the harmonic average between precision and recall.\n",
    "\n",
    "**Meta-labeling is particularly helpful when you want to achieve higher F1-scores**. First, we build a model that achieves high recall, even if the precision is not particularly high. Second, we correct for the low precision by applying meta-labeling to the positives predicted by the primary model.\n",
    "\n",
    "Meta-labeling will increase your F1-score by filtering out the false positives, where the majority of positives have already been identified by the primary model. Stated differently, the role of the secondary ML algorithm is to determine whether a positive from the primary (exogenous) model is true or false. It is *not* its purpose to come up with a betting opportunity. Its purpose is to determine whether we should act or pass on the opportunity that has been presented.\n",
    "\n",
    "Meta-labeling is a very powerful tool to have in your arsenal, for four additional reasons. **First**, ML algorithms are often criticized as black boxes.\n",
    "Meta-labeling allows you to build an ML system on top of a white box (like a fundamental model founded on economic theory). This ability to transform a fundamental model into an ML model should make meta-labeling particularly useful to “quantamental” firms. **Second**, the effects of overfitting are limited when you apply metalabeling,\n",
    "because ML will not decide the side of your bet, only the size. **Third**, by decoupling the side prediction from the size prediction, meta-labeling enables sophisticated\n",
    "strategy structures. For instance, consider that the features driving a rally may differ from the features driving a sell-off. In that case, you may want to develop an\n",
    "ML strategy exclusively for long positions, based on the buy recommendations of a primary model, and an ML strategy exclusively for short positions, based on the\n",
    "sell recommendations of an entirely different primary model. **Fourth**, achieving high accuracy on small bets and low accuracy on large bets will ruin you. As important as\n",
    "identifying good opportunities is to size them properly, so it makes sense to develop an ML algorithm solely focused on getting that critical decision (sizing) right. We will\n",
    "retake this fourth point in Chapter 10. In my experience, meta-labeling ML models can deliver more robust and reliable outcomes than standard labeling models."
   ]
  },
  {
   "cell_type": "markdown",
   "metadata": {},
   "source": [
    "---\n",
    "<figure>\n",
    "<figcaption></figcaption>\n",
    "<img src=\"./Model Architecture.png\"\n",
    "     width=500px\n",
    "     alt=\"Confusion Matrix\"\n",
    "     style=\"float: right\"/>\n",
    "</figure>\n",
    "\n",
    "<figure>\n",
    "<figcaption></figcaption>\n",
    "<img src=\"./MNIST.png\"\n",
    "     width=300px\n",
    "     alt=\"Confusion Matrix\"\n",
    "     style=\"float: center\"/>\n",
    "</figure>\n",
    "\n",
    "## Model Architecture\n",
    "The following image explains the model architecture. The **first** step is to train a primary model (binary classification). **Second** a threshold level is determined at which the primary model has a high recall, in the coded example you will find that 0.30 is a good threshold, ROC curves could be used to help determine a good level. **Third** the features from the first model are concatenated with the predictions from the first model, into a new feature set for the secondary model. Meta Labels are used as the target variable in the second model. Now fit the second model. **Fourth** the prediction from the secondary model is combined with the prediction from the primary model and only where both are true, is your final prediction true. I.e. if your primary model predicts a 3 and your secondary model says you have a high probability of the primary model being correct, is your final prediction a 3, else not 3.\n",
    "\n"
   ]
  },
  {
   "cell_type": "markdown",
   "metadata": {},
   "source": [
    "---\n",
    "# MVP Using MNIST Data"
   ]
  },
  {
   "cell_type": "markdown",
   "metadata": {},
   "source": [
    "#### Import libraries needed:"
   ]
  },
  {
   "cell_type": "code",
   "execution_count": 1,
   "metadata": {},
   "outputs": [
    {
     "name": "stderr",
     "output_type": "stream",
     "text": [
      "Using TensorFlow backend.\n"
     ]
    }
   ],
   "source": [
    "import numpy as np \n",
    "import pandas as pd\n",
    "import matplotlib.pyplot as plt\n",
    "from collections import Counter\n",
    "import itertools\n",
    "import seaborn as sns\n",
    "from subprocess import check_output\n",
    "from sklearn import metrics as sk_metrics\n",
    "from sklearn.metrics import confusion_matrix\n",
    "\n",
    "import keras\n",
    "from keras.models import Sequential\n",
    "from keras.layers import Dense, Dropout, Flatten, Conv2D, MaxPool2D\n",
    "from keras.utils import to_categorical\n",
    "from keras.layers.normalization import BatchNormalization\n",
    "from keras.preprocessing.image import ImageDataGenerator\n",
    "from keras.callbacks import ReduceLROnPlateau\n",
    "from sklearn.model_selection import train_test_split\n",
    "\n",
    "%matplotlib inline"
   ]
  },
  {
   "cell_type": "markdown",
   "metadata": {},
   "source": [
    "#### Functions:\n",
    "Two functions are specified. The first to plot ROC curves and give an indication at which level to set the thresholds. Second to compare the results of modeling without and then with meta labeling"
   ]
  },
  {
   "cell_type": "code",
   "execution_count": 2,
   "metadata": {},
   "outputs": [],
   "source": [
    "def plot_roc(actual, prediction):\n",
    "    # Calculate ROC / AUC\n",
    "    fpr, tpr, thresholds = sk_metrics.roc_curve(actual, prediction, pos_label=1)\n",
    "    roc_auc = sk_metrics.auc(fpr, tpr)\n",
    "\n",
    "    # Plot\n",
    "    plt.plot(fpr, tpr, color='darkorange',\n",
    "             lw=2, label='ROC curve (area = %0.2f)' % roc_auc)\n",
    "    plt.plot([0, 1], [0, 1], color='navy', lw=2, linestyle='--')\n",
    "    plt.xlim([0.0, 1.0])\n",
    "    plt.ylim([0.0, 1.05])\n",
    "    plt.xlabel('False Positive Rate')\n",
    "    plt.ylabel('True Positive Rate')\n",
    "    plt.title('Receiver Operating Characteristic Example')\n",
    "    plt.legend(loc=\"lower right\")\n",
    "    plt.show()"
   ]
  },
  {
   "cell_type": "code",
   "execution_count": 3,
   "metadata": {},
   "outputs": [],
   "source": [
    "def test_meta_label(primary_model, secondary_model, x, y, threshold):\n",
    "    \"\"\"\n",
    "    Function outputs the results of the primary model with a threshold of 50%. It then outputs the results of the meta model.\n",
    "    Ideally you want to see that the meta model out performs the primary model.\n",
    "\n",
    "    I am busy investigating why meta modeling works. A little tricky since I'm yet to find a solid paper on the technique. Its very briefly mentioned in\n",
    "    Advances in Financial Machine Learning.\n",
    "\n",
    "    :param primary_model: model object (First, we build a model that achieves high recall, even if the precision is not particularly high)\n",
    "    :param secondary_model: model object (the role of the secondary ML algorithm is to determine whether a positive from the primary (exogenous) model\n",
    "                            is true or false. It is not its purpose to come up with a betting opportunity. Its purpose is to determine whether\n",
    "                            we should act or pass on the opportunity that has been presented.)\n",
    "    :param x: Explanatory variables\n",
    "    :param y: Target variable (One hot encoded)\n",
    "    :param threshold: The confidence threshold. This is used\n",
    "    :return: Print the classification report for both the base model and the meta model.\n",
    "    \"\"\"\n",
    "    # Get the actual labels (y) from the encoded y labels\n",
    "    actual = np.array([i[1] for i in y]) == 1\n",
    "\n",
    "    # Use primary model to score the data x\n",
    "    primary_prediction = primary_model.predict(x)\n",
    "    primary_prediction = np.array([i[1] for i in primary_prediction]).reshape((-1, 1))\n",
    "    primary_prediction_int = primary_prediction > threshold # binary labels\n",
    "\n",
    "    # Print output for base model\n",
    "    print('Base Model Metrics:')\n",
    "    print(sk_metrics.classification_report(actual, primary_prediction > 0.50))\n",
    "    print('Confusion Matrix')\n",
    "    print(sk_metrics.confusion_matrix(actual, primary_prediction_int))\n",
    "    accuracy = (actual == primary_prediction_int.flatten()).sum() / actual.shape[0]\n",
    "    print('Accuracy: ', round(accuracy, 4))\n",
    "    print('')\n",
    "\n",
    "    # Secondary model\n",
    "    new_features = np.concatenate((primary_prediction_int, x), axis=1)\n",
    "\n",
    "    # Use secondary model to score the new features\n",
    "    meta_prediction = secondary_model.predict(new_features)\n",
    "    meta_prediction = np.array([i[1] for i in meta_prediction])\n",
    "    meta_prediction_int = meta_prediction > 0.5 # binary labels\n",
    "\n",
    "    # Now combine primary and secondary model in a final prediction\n",
    "    final_prediction = (meta_prediction_int & primary_prediction_int.flatten())\n",
    "\n",
    "    # Print output for meta model\n",
    "    print('Meta Label Metrics: ')\n",
    "    print(sk_metrics.classification_report(actual, final_prediction))\n",
    "    print('Confusion Matrix')\n",
    "    print(sk_metrics.confusion_matrix(actual, final_prediction))\n",
    "    accuracy = (actual == final_prediction).sum() / actual.shape[0]\n",
    "    print('Accuracy: ', round(accuracy, 4))"
   ]
  },
  {
   "cell_type": "markdown",
   "metadata": {},
   "source": [
    "### Data Exploration\n",
    "Download the MNIST data set"
   ]
  },
  {
   "cell_type": "code",
   "execution_count": 4,
   "metadata": {},
   "outputs": [],
   "source": [
    "from keras.datasets import mnist\n",
    "\n",
    "(x_train, y_train), (x_test, y_test) = mnist.load_data()"
   ]
  },
  {
   "cell_type": "code",
   "execution_count": 5,
   "metadata": {},
   "outputs": [
    {
     "data": {
      "text/plain": [
       "Counter({7: 1028,\n",
       "         2: 1032,\n",
       "         1: 1135,\n",
       "         0: 980,\n",
       "         4: 982,\n",
       "         9: 1009,\n",
       "         5: 892,\n",
       "         6: 958,\n",
       "         3: 1010,\n",
       "         8: 974})"
      ]
     },
     "execution_count": 5,
     "metadata": {},
     "output_type": "execute_result"
    }
   ],
   "source": [
    "# Show the counts of each number\n",
    "Counter(y_test)"
   ]
  },
  {
   "cell_type": "code",
   "execution_count": 6,
   "metadata": {},
   "outputs": [
    {
     "data": {
      "image/png": "[encoded data removed]",
      "text/plain": [
       "<Figure size 432x288 with 1 Axes>"
      ]
     },
     "metadata": {
      "needs_background": "light"
     },
     "output_type": "display_data"
    }
   ],
   "source": [
    "# Plot the distribution of numbers\n",
    "sns.countplot(y_test)\n",
    "plt.title('Distribution of Images')\n",
    "plt.xlabel('Images')\n",
    "plt.show()"
   ]
  },
  {
   "cell_type": "markdown",
   "metadata": {},
   "source": [
    "---\n",
    "### Normalize and Subset Data\n",
    "* It is standard practice to normalize the MNIST data by 255.0\n",
    "* Next we subset the data so that we only include the numbers 3 and 5\n",
    "* Reshape the data: We will use a feed forward neural network or a logistic regression, for this we can just flatten the images\n",
    "* One Hot Encode the target variables\n",
    "* Do a test train split, keep a hold out sample"
   ]
  },
  {
   "cell_type": "code",
   "execution_count": 7,
   "metadata": {},
   "outputs": [],
   "source": [
    "# Normalising the data\n",
    "x_train = x_train / 255.0\n",
    "x_test = x_test / 255.0"
   ]
  },
  {
   "cell_type": "code",
   "execution_count": 8,
   "metadata": {},
   "outputs": [
    {
     "name": "stdout",
     "output_type": "stream",
     "text": [
      "X values\n",
      "x_train (11552, 28, 28)\n",
      "x_test (1902, 28, 28) \n",
      "\n",
      "Y values\n",
      "y train (11552,)\n",
      "y test (1902,)\n"
     ]
    }
   ],
   "source": [
    "# Change these params if you want to change the numbers selected\n",
    "num1 = 3\n",
    "num2 = 5\n",
    "\n",
    "# Subset on only two numbers\n",
    "x_sub_train = x_train[(y_train == num1) | (y_train == num2)]\n",
    "y_sub_train = y_train[(y_train == num1) | (y_train == num2)]\n",
    "\n",
    "x_sub_test = x_test[(y_test == num1) | (y_test == num2)]\n",
    "y_sub_test = y_test[(y_test == num1) | (y_test == num2)]\n",
    "\n",
    "print('X values')\n",
    "print('x_train', x_sub_train.shape)\n",
    "print('x_test', x_sub_test.shape, '\\n')\n",
    "print('Y values')\n",
    "print('y train', y_sub_train.shape)\n",
    "print('y test', y_sub_test.shape)"
   ]
  },
  {
   "cell_type": "code",
   "execution_count": 9,
   "metadata": {},
   "outputs": [],
   "source": [
    "# Flatten input\n",
    "x_train_flat = x_sub_train.flatten().reshape(x_sub_train.shape[0], 28*28)\n",
    "x_test_flat = x_sub_test.flatten().reshape(x_sub_test.shape[0], 28*28)\n",
    "\n",
    "# One hot encode target variables\n",
    "y_sub_train_encoded = to_categorical([1 if value == num1 else 0 for value in y_sub_train])\n",
    "\n",
    "# Test train split\n",
    "X_train, X_val, Y_train, Y_val = train_test_split(x_train_flat, y_sub_train_encoded, test_size = 0.1, random_state=42)"
   ]
  },
  {
   "cell_type": "markdown",
   "metadata": {},
   "source": [
    "---\n",
    "### Build Primary Model with High Recall\n",
    "The **first** step is to train a primary model (binary classification). For this we trained a logistic regression, using the keras package. The data are split into a 90% train, 10% validation. This allows us to see when we are overfitting.\n",
    "* Loss function: categorical crossentropy \n",
    "* Optimizer: Adam ([Keras Optimizers](https://keras.io/optimizers/))\n",
    "* Epochs: 3\n",
    "* Batch size: 320\n",
    "\n",
    "You can train a more complex neural network by adding more dense layers."
   ]
  },
  {
   "cell_type": "code",
   "execution_count": 10,
   "metadata": {},
   "outputs": [
    {
     "name": "stdout",
     "output_type": "stream",
     "text": [
      "Train on 10396 samples, validate on 1156 samples\n",
      "Epoch 1/3\n",
      "10396/10396 [==============================] - 1s 48us/step - loss: 0.4704 - acc: 0.8121 - val_loss: 0.3416 - val_acc: 0.8988\n",
      "Epoch 2/3\n",
      "10396/10396 [==============================] - 0s 26us/step - loss: 0.2904 - acc: 0.9188 - val_loss: 0.2546 - val_acc: 0.9230\n",
      "Epoch 3/3\n",
      "10396/10396 [==============================] - 0s 22us/step - loss: 0.2283 - acc: 0.9335 - val_loss: 0.2179 - val_acc: 0.9325\n"
     ]
    },
    {
     "data": {
      "text/plain": [
       "<keras.callbacks.History at 0x7f55fcf0eb70>"
      ]
     },
     "execution_count": 10,
     "metadata": {},
     "output_type": "execute_result"
    }
   ],
   "source": [
    "# Build primary model\n",
    "model = Sequential()\n",
    "model.add(Dense(units=2, activation='softmax'))\n",
    "\n",
    "model.compile(loss='categorical_crossentropy',\n",
    "              optimizer='adam',\n",
    "              metrics=['accuracy'])\n",
    "\n",
    "model.fit(x=X_train, y=Y_train, validation_data=(X_val, Y_val), epochs=3, batch_size=320) # batch size is so large so that the model can be poorly fit, Its easy to get 99% accuracy."
   ]
  },
  {
   "cell_type": "markdown",
   "metadata": {},
   "source": [
    "**Second** a threshold level is determined at which the primary model has a high recall, in the coded example you will find that 0.30 is a good threshold, ROC curves could be used to help determine a good level. "
   ]
  },
  {
   "cell_type": "code",
   "execution_count": 11,
   "metadata": {},
   "outputs": [
    {
     "data": {
      "image/png": "[encoded data removed]",
      "text/plain": [
       "<Figure size 432x288 with 1 Axes>"
      ]
     },
     "metadata": {
      "needs_background": "light"
     },
     "output_type": "display_data"
    }
   ],
   "source": [
    "# Plot ROC\n",
    "prediction = model.predict(X_train)\n",
    "prediction = np.array([i[1] for i in prediction])\n",
    "actual = np.array([i[1] for i in Y_train]) == 1\n",
    "\n",
    "plot_roc(actual, prediction)"
   ]
  },
  {
   "cell_type": "code",
   "execution_count": 12,
   "metadata": {},
   "outputs": [
    {
     "name": "stdout",
     "output_type": "stream",
     "text": [
      "              precision    recall  f1-score   support\n",
      "\n",
      "       False       0.98      0.79      0.87      4861\n",
      "        True       0.84      0.99      0.91      5535\n",
      "\n",
      "   micro avg       0.89      0.89      0.89     10396\n",
      "   macro avg       0.91      0.89      0.89     10396\n",
      "weighted avg       0.91      0.89      0.89     10396\n",
      "\n",
      "Confusion Matrix\n",
      "[[3817 1044]\n",
      " [  76 5459]]\n"
     ]
    }
   ],
   "source": [
    "# Create a model with high recall, change the threshold until a good recall level is reached\n",
    "threshold = .30\n",
    "prediction_int = np.array(prediction) > threshold\n",
    "\n",
    "# Classification report\n",
    "print(sk_metrics.classification_report(actual, prediction_int))\n",
    "\n",
    "# Confusion matrix\n",
    "cm = sk_metrics.confusion_matrix(actual, prediction_int)\n",
    "print('Confusion Matrix')\n",
    "print(cm)"
   ]
  },
  {
   "cell_type": "markdown",
   "metadata": {},
   "source": [
    "Notice that by increasing our true positive rate (Recall) we have also increased our false positive rate. You are encouraged to change the threshold levels to see how it impacts on Recall."
   ]
  },
  {
   "cell_type": "markdown",
   "metadata": {},
   "source": [
    "### Build Meta Model\n",
    "**Third** the features from the first model are concatenated with the predictions from the first model, into a new feature set for the secondary model. Meta Labels are used as the target variable in the second model. Now fit the second model.\n",
    "\n",
    "Meta labels are defined as: If the primary model's predictions matches the actual values, then we label it as 1, else 0. In the code below we said that if an observation was a true positive or true negative then label it as 1(i.e. the model is correct), else 0 (the model in incorrect). Note that because it is categorical, we have to add One Hot Encoding."
   ]
  },
  {
   "cell_type": "code",
   "execution_count": 13,
   "metadata": {},
   "outputs": [],
   "source": [
    "# Get meta labels\n",
    "meta_labels = prediction_int & actual\n",
    "meta_labels_encoded = to_categorical(meta_labels)"
   ]
  },
  {
   "cell_type": "code",
   "execution_count": 14,
   "metadata": {},
   "outputs": [],
   "source": [
    "# Reshape data\n",
    "prediction_int = prediction_int.reshape((-1, 1))\n",
    "\n",
    "# MNIST data + forecasts_int\n",
    "new_features = np.concatenate((prediction_int, X_train), axis=1)"
   ]
  },
  {
   "cell_type": "markdown",
   "metadata": {},
   "source": [
    "We use logistic regression here as well. We could have used a more complicated model but it turns out that it's very easy to differentiate between 2 numbers of MNIST data. So we used a simple model to make sure we get a model that leaves room for improvement. \n",
    "* Loss function: categorical crossentropy \n",
    "* Optimizer: Adam ([Keras Optimizers](https://keras.io/optimizers/))\n",
    "* Epochs: 4\n",
    "* Batch size: 32\n",
    "\n",
    "You can train a more complex neural network by adding more dense layers."
   ]
  },
  {
   "cell_type": "code",
   "execution_count": 15,
   "metadata": {},
   "outputs": [
    {
     "name": "stdout",
     "output_type": "stream",
     "text": [
      "Epoch 1/4\n",
      "10396/10396 [==============================] - 1s 101us/step - loss: 0.2552 - acc: 0.9024\n",
      "Epoch 2/4\n",
      "10396/10396 [==============================] - 1s 92us/step - loss: 0.1269 - acc: 0.9538\n",
      "Epoch 3/4\n",
      "10396/10396 [==============================] - 1s 73us/step - loss: 0.1060 - acc: 0.9620\n",
      "Epoch 4/4\n",
      "10396/10396 [==============================] - 1s 84us/step - loss: 0.0961 - acc: 0.9643\n"
     ]
    },
    {
     "data": {
      "text/plain": [
       "<keras.callbacks.History at 0x7f55fd640828>"
      ]
     },
     "execution_count": 15,
     "metadata": {},
     "output_type": "execute_result"
    }
   ],
   "source": [
    "# Train a new model \n",
    "# Build model\n",
    "meta_model = Sequential()\n",
    "meta_model.add(Dense(units=2, activation='softmax'))\n",
    "\n",
    "meta_model.compile(loss='categorical_crossentropy',\n",
    "              optimizer='adam',\n",
    "              metrics=['accuracy'])\n",
    "\n",
    "# x_train and y_train are Numpy arrays --just like in the Scikit-Learn API.\n",
    "meta_model.fit(x=new_features, y=meta_labels_encoded, epochs=4, batch_size=32)"
   ]
  },
  {
   "cell_type": "markdown",
   "metadata": {},
   "source": [
    "---\n",
    "### Evaluate Performance\n",
    "**Fourth** the prediction from the secondary model is combined with the prediction from the primary model and only where both are true, is your final prediction true. e.g. if your primary model predicts a 3 and your secondary model says you have a high probability of the primary model being correct, is your final prediction a 3, else not 3.\n",
    "\n",
    "The section below shows the performance of the primary model vs the performance of using meta labeling. Notice how the performance metrics improve."
   ]
  },
  {
   "cell_type": "markdown",
   "metadata": {},
   "source": [
    "### Evaluate train data"
   ]
  },
  {
   "cell_type": "code",
   "execution_count": 16,
   "metadata": {},
   "outputs": [
    {
     "name": "stdout",
     "output_type": "stream",
     "text": [
      "Base Model Metrics:\n",
      "              precision    recall  f1-score   support\n",
      "\n",
      "       False       0.94      0.92      0.93      4861\n",
      "        True       0.93      0.95      0.94      5535\n",
      "\n",
      "   micro avg       0.94      0.94      0.94     10396\n",
      "   macro avg       0.94      0.94      0.94     10396\n",
      "weighted avg       0.94      0.94      0.94     10396\n",
      "\n",
      "Confusion Matrix\n",
      "[[3817 1044]\n",
      " [  76 5459]]\n",
      "Accuracy:  0.8923\n",
      "\n",
      "Meta Label Metrics: \n",
      "              precision    recall  f1-score   support\n",
      "\n",
      "       False       0.94      0.97      0.96      4861\n",
      "        True       0.97      0.95      0.96      5535\n",
      "\n",
      "   micro avg       0.96      0.96      0.96     10396\n",
      "   macro avg       0.96      0.96      0.96     10396\n",
      "weighted avg       0.96      0.96      0.96     10396\n",
      "\n",
      "Confusion Matrix\n",
      "[[4704  157]\n",
      " [ 274 5261]]\n",
      "Accuracy:  0.9585\n"
     ]
    }
   ],
   "source": [
    "test_meta_label(primary_model=model, secondary_model=meta_model, x=X_train, y=Y_train, threshold=threshold)"
   ]
  },
  {
   "cell_type": "markdown",
   "metadata": {},
   "source": [
    "---\n",
    "### Evaluate validation Data"
   ]
  },
  {
   "cell_type": "code",
   "execution_count": 17,
   "metadata": {},
   "outputs": [
    {
     "name": "stdout",
     "output_type": "stream",
     "text": [
      "Base Model Metrics:\n",
      "              precision    recall  f1-score   support\n",
      "\n",
      "       False       0.94      0.93      0.93       560\n",
      "        True       0.93      0.94      0.93       596\n",
      "\n",
      "   micro avg       0.93      0.93      0.93      1156\n",
      "   macro avg       0.93      0.93      0.93      1156\n",
      "weighted avg       0.93      0.93      0.93      1156\n",
      "\n",
      "Confusion Matrix\n",
      "[[428 132]\n",
      " [ 13 583]]\n",
      "Accuracy:  0.8746\n",
      "\n",
      "Meta Label Metrics: \n",
      "              precision    recall  f1-score   support\n",
      "\n",
      "       False       0.94      0.96      0.95       560\n",
      "        True       0.97      0.94      0.95       596\n",
      "\n",
      "   micro avg       0.95      0.95      0.95      1156\n",
      "   macro avg       0.95      0.95      0.95      1156\n",
      "weighted avg       0.95      0.95      0.95      1156\n",
      "\n",
      "Confusion Matrix\n",
      "[[540  20]\n",
      " [ 35 561]]\n",
      "Accuracy:  0.9524\n"
     ]
    }
   ],
   "source": [
    "test_meta_label(primary_model=model, secondary_model=meta_model, x=X_val, y=Y_val, threshold=threshold)"
   ]
  },
  {
   "cell_type": "markdown",
   "metadata": {},
   "source": [
    "---\n",
    "### Evaluate hold out sample"
   ]
  },
  {
   "cell_type": "code",
   "execution_count": 18,
   "metadata": {},
   "outputs": [],
   "source": [
    "# Flatten input\n",
    "x_test_flat = x_sub_test.flatten().reshape(x_sub_test.shape[0], 28*28)\n",
    "\n",
    "# One hot encode target variables\n",
    "y_sub_test_encoded = to_categorical([1 if value == num1 else 0 for value in y_sub_test])"
   ]
  },
  {
   "cell_type": "code",
   "execution_count": 20,
   "metadata": {},
   "outputs": [
    {
     "name": "stdout",
     "output_type": "stream",
     "text": [
      "Base Model Metrics:\n",
      "              precision    recall  f1-score   support\n",
      "\n",
      "       False       0.95      0.94      0.94       892\n",
      "        True       0.94      0.96      0.95      1010\n",
      "\n",
      "   micro avg       0.95      0.95      0.95      1902\n",
      "   macro avg       0.95      0.95      0.95      1902\n",
      "weighted avg       0.95      0.95      0.95      1902\n",
      "\n",
      "Confusion Matrix\n",
      "[[700 192]\n",
      " [ 11 999]]\n",
      "Accuracy:  0.8933\n",
      "\n",
      "Meta Label Metrics: \n",
      "              precision    recall  f1-score   support\n",
      "\n",
      "       False       0.95      0.96      0.95       892\n",
      "        True       0.96      0.95      0.96      1010\n",
      "\n",
      "   micro avg       0.96      0.96      0.96      1902\n",
      "   macro avg       0.96      0.96      0.96      1902\n",
      "weighted avg       0.96      0.96      0.96      1902\n",
      "\n",
      "Confusion Matrix\n",
      "[[857  35]\n",
      " [ 47 963]]\n",
      "Accuracy:  0.9569\n"
     ]
    }
   ],
   "source": [
    "test_meta_label(primary_model=model, secondary_model=meta_model, x=x_test_flat, y=y_sub_test_encoded, threshold=threshold)"
   ]
  },
  {
   "cell_type": "markdown",
   "metadata": {},
   "source": [
    "---\n",
    "## Conclusion\n",
    "Meta labeling works as advertised.\n",
    "\n",
    "We can see that in the confusion matrix, that the false positives from the primary model, are now being correctly identified as true negatives with the help of meta labeling. This leads to a boost in performance metrics."
   ]
  }
 ],
 "metadata": {
  "kernelspec": {
   "display_name": "Python 3",
   "language": "python",
   "name": "python3"
  },
  "language_info": {
   "codemirror_mode": {
    "name": "ipython",
    "version": 3
   },
   "file_extension": ".py",
   "mimetype": "text/x-python",
   "name": "python",
   "nbconvert_exporter": "python",
   "pygments_lexer": "ipython3",
   "version": "3.6.8"
  }
 },
 "nbformat": 4,
 "nbformat_minor": 2
}
