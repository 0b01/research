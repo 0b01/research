{
 "cells": [
  {
   "cell_type": "markdown",
   "metadata": {},
   "source": [
    "# Chapter 3 Questions"
   ]
  },
  {
   "cell_type": "markdown",
   "metadata": {},
   "source": [
    "#### 3.1 Form dollar bars for E-mini S&P 500 futures:\n",
    "1. Apply a symmetric CUSUM filter (Chapter 2, Section 2.5.2.1) where the threshold is the standard deviation of daily returns (Snippet 3.1).\n",
    "2. Use Snippet 3.4 on a pandas series t1, where numDays=1.\n",
    "3. On those sampled features, apply the triple-barrier method, where ptSl=[1,1] and t1 is the series you created in point 1.b.\n",
    "4. Apply getBins to generate the labels."
   ]
  },
  {
   "cell_type": "code",
   "execution_count": 75,
   "metadata": {},
   "outputs": [],
   "source": [
    "import numpy as np\n",
    "import pandas as pd\n",
    "import timeit\n",
    "\n",
    "from sklearn.ensemble import RandomForestClassifier\n",
    "from sklearn.model_selection import train_test_split\n",
    "from sklearn.metrics import roc_curve, classification_report, confusion_matrix\n",
    "\n",
    "from mlfinlab.corefns.core_functions import CoreFunctions\n",
    "from mlfinlab.fracdiff.fracdiff import frac_diff_ffd\n",
    "\n",
    "import matplotlib.pyplot as plt\n",
    "%matplotlib inline"
   ]
  },
  {
   "cell_type": "code",
   "execution_count": 76,
   "metadata": {},
   "outputs": [],
   "source": [
    "# Read in data\n",
    "data = pd.read_csv('official_data/dollar_bars.csv', nrows=40000)\n",
    "data.index = pd.to_datetime(data['date_time'])\n",
    "data = data.drop('date_time', axis=1)"
   ]
  },
  {
   "cell_type": "code",
   "execution_count": 77,
   "metadata": {},
   "outputs": [
    {
     "data": {
      "text/html": [
       "<div>\n",
       "<style scoped>\n",
       "    .dataframe tbody tr th:only-of-type {\n",
       "        vertical-align: middle;\n",
       "    }\n",
       "\n",
       "    .dataframe tbody tr th {\n",
       "        vertical-align: top;\n",
       "    }\n",
       "\n",
       "    .dataframe thead th {\n",
       "        text-align: right;\n",
       "    }\n",
       "</style>\n",
       "<table border=\"1\" class=\"dataframe\">\n",
       "  <thead>\n",
       "    <tr style=\"text-align: right;\">\n",
       "      <th></th>\n",
       "      <th>open</th>\n",
       "      <th>high</th>\n",
       "      <th>low</th>\n",
       "      <th>close</th>\n",
       "      <th>cum_vol</th>\n",
       "      <th>cum_dollar</th>\n",
       "      <th>cum_ticks</th>\n",
       "    </tr>\n",
       "    <tr>\n",
       "      <th>date_time</th>\n",
       "      <th></th>\n",
       "      <th></th>\n",
       "      <th></th>\n",
       "      <th></th>\n",
       "      <th></th>\n",
       "      <th></th>\n",
       "      <th></th>\n",
       "    </tr>\n",
       "  </thead>\n",
       "  <tbody>\n",
       "    <tr>\n",
       "      <th>2011-07-31 23:31:58.810</th>\n",
       "      <td>1306.00</td>\n",
       "      <td>1308.75</td>\n",
       "      <td>1301.75</td>\n",
       "      <td>1305.75</td>\n",
       "      <td>53658</td>\n",
       "      <td>70035704.75</td>\n",
       "      <td>14115</td>\n",
       "    </tr>\n",
       "    <tr>\n",
       "      <th>2011-08-01 02:55:17.443</th>\n",
       "      <td>1305.75</td>\n",
       "      <td>1309.50</td>\n",
       "      <td>1304.00</td>\n",
       "      <td>1306.50</td>\n",
       "      <td>53552</td>\n",
       "      <td>70006277.00</td>\n",
       "      <td>15422</td>\n",
       "    </tr>\n",
       "    <tr>\n",
       "      <th>2011-08-01 07:25:56.319</th>\n",
       "      <td>1306.75</td>\n",
       "      <td>1309.75</td>\n",
       "      <td>1304.75</td>\n",
       "      <td>1305.00</td>\n",
       "      <td>53543</td>\n",
       "      <td>70000901.00</td>\n",
       "      <td>14727</td>\n",
       "    </tr>\n",
       "    <tr>\n",
       "      <th>2011-08-01 08:33:10.903</th>\n",
       "      <td>1305.00</td>\n",
       "      <td>1305.00</td>\n",
       "      <td>1299.00</td>\n",
       "      <td>1300.00</td>\n",
       "      <td>53830</td>\n",
       "      <td>70094217.75</td>\n",
       "      <td>14987</td>\n",
       "    </tr>\n",
       "    <tr>\n",
       "      <th>2011-08-01 10:51:41.842</th>\n",
       "      <td>1300.00</td>\n",
       "      <td>1307.75</td>\n",
       "      <td>1299.00</td>\n",
       "      <td>1307.75</td>\n",
       "      <td>53734</td>\n",
       "      <td>70033006.25</td>\n",
       "      <td>14499</td>\n",
       "    </tr>\n",
       "  </tbody>\n",
       "</table>\n",
       "</div>"
      ],
      "text/plain": [
       "                            open     high      low    close  cum_vol  \\\n",
       "date_time                                                              \n",
       "2011-07-31 23:31:58.810  1306.00  1308.75  1301.75  1305.75    53658   \n",
       "2011-08-01 02:55:17.443  1305.75  1309.50  1304.00  1306.50    53552   \n",
       "2011-08-01 07:25:56.319  1306.75  1309.75  1304.75  1305.00    53543   \n",
       "2011-08-01 08:33:10.903  1305.00  1305.00  1299.00  1300.00    53830   \n",
       "2011-08-01 10:51:41.842  1300.00  1307.75  1299.00  1307.75    53734   \n",
       "\n",
       "                          cum_dollar  cum_ticks  \n",
       "date_time                                        \n",
       "2011-07-31 23:31:58.810  70035704.75      14115  \n",
       "2011-08-01 02:55:17.443  70006277.00      15422  \n",
       "2011-08-01 07:25:56.319  70000901.00      14727  \n",
       "2011-08-01 08:33:10.903  70094217.75      14987  \n",
       "2011-08-01 10:51:41.842  70033006.25      14499  "
      ]
     },
     "execution_count": 77,
     "metadata": {},
     "output_type": "execute_result"
    }
   ],
   "source": [
    "data.head()"
   ]
  },
  {
   "cell_type": "markdown",
   "metadata": {},
   "source": [
    "**Apply a symmetric CUSUM filter (Chapter 2, Section 2.5.2.1) where the threshold is the standard deviation of daily returns (Snippet 3.1).**"
   ]
  },
  {
   "cell_type": "code",
   "execution_count": 78,
   "metadata": {},
   "outputs": [
    {
     "name": "stdout",
     "output_type": "stream",
     "text": [
      "Calculating daily volatility for dynamic thresholds\n"
     ]
    }
   ],
   "source": [
    "# Compute daily volatility\n",
    "vol = CoreFunctions.get_daily_vol(close=data['close'], lookback=50)"
   ]
  },
  {
   "cell_type": "code",
   "execution_count": 79,
   "metadata": {},
   "outputs": [
    {
     "data": {
      "image/png": "[encoded data removed]",
      "text/plain": [
       "<Figure size 1008x504 with 1 Axes>"
      ]
     },
     "metadata": {
      "needs_background": "light"
     },
     "output_type": "display_data"
    }
   ],
   "source": [
    "vol.plot(figsize=(14, 7), title='Volatility as caclulated by de Prado')\n",
    "plt.show()"
   ]
  },
  {
   "cell_type": "code",
   "execution_count": 80,
   "metadata": {},
   "outputs": [
    {
     "name": "stderr",
     "output_type": "stream",
     "text": [
      "  1%|▏         | 592/39998 [00:00<00:06, 5912.41it/s]"
     ]
    },
    {
     "name": "stdout",
     "output_type": "stream",
     "text": [
      "Applying Symmetric CUSUM filter.\n"
     ]
    },
    {
     "name": "stderr",
     "output_type": "stream",
     "text": [
      "100%|██████████| 39998/39998 [00:06<00:00, 6574.17it/s]\n"
     ]
    }
   ],
   "source": [
    "# Apply Symmetric CUSUM Filter and get timestamps for events\n",
    "# Note: Only the CUSUM filter needs a point estimate for volatility\n",
    "cusum_events = CoreFunctions.get_t_events(data['close'], threshold=vol.mean())"
   ]
  },
  {
   "cell_type": "markdown",
   "metadata": {},
   "source": [
    "**Use Snippet 3.4 on a pandas series t1, where numDays=1.**"
   ]
  },
  {
   "cell_type": "code",
   "execution_count": 81,
   "metadata": {},
   "outputs": [
    {
     "data": {
      "text/plain": [
       "2011-08-01 10:51:41.842   2011-08-02 10:52:48.191\n",
       "2011-08-01 13:36:46.215   2011-08-02 13:37:28.849\n",
       "2011-08-01 14:00:21.448   2011-08-02 14:04:29.869\n",
       "2011-08-01 14:03:22.782   2011-08-02 14:04:29.869\n",
       "2011-08-01 14:21:49.179   2011-08-02 14:27:55.423\n",
       "Name: date_time, dtype: datetime64[ns]"
      ]
     },
     "execution_count": 81,
     "metadata": {},
     "output_type": "execute_result"
    }
   ],
   "source": [
    "# Compute vertical barrier\n",
    "vertical_barriers = CoreFunctions.add_vertical_barrier(cusum_events, data['close'])\n",
    "vertical_barriers.head()"
   ]
  },
  {
   "cell_type": "markdown",
   "metadata": {},
   "source": [
    "**On those sampled features, apply the triple-barrier method, where ptSl=[1,1] and t1 is the series you created in point 1.b.**"
   ]
  },
  {
   "cell_type": "code",
   "execution_count": 82,
   "metadata": {},
   "outputs": [
    {
     "name": "stderr",
     "output_type": "stream",
     "text": [
      "/home/ariadne/Desktop/Research Project/research/2019-03-03_AS_JJ_Chapter3/mlfinlab/corefns/core_functions.py:205: FutureWarning: \n",
      "Passing list-likes to .loc or [] with any missing label will raise\n",
      "KeyError in the future, you can use .reindex() as an alternative.\n",
      "\n",
      "See the documentation here:\n",
      "https://pandas.pydata.org/pandas-docs/stable/indexing.html#deprecate-loc-reindex-listlike\n",
      "  target = target.loc[t_events]\n"
     ]
    }
   ],
   "source": [
    "triple_barrier_events = CoreFunctions.get_events(close=data['close'],\n",
    "                                  t_events=cusum_events,\n",
    "                                  pt_sl=[1, 1],\n",
    "                                  target=vol,\n",
    "                                  min_ret=0.01,\n",
    "                                  num_threads=1,\n",
    "                                  vertical_barrier_times=vertical_barriers,\n",
    "                                  side=None)"
   ]
  },
  {
   "cell_type": "code",
   "execution_count": 83,
   "metadata": {},
   "outputs": [
    {
     "data": {
      "text/html": [
       "<div>\n",
       "<style scoped>\n",
       "    .dataframe tbody tr th:only-of-type {\n",
       "        vertical-align: middle;\n",
       "    }\n",
       "\n",
       "    .dataframe tbody tr th {\n",
       "        vertical-align: top;\n",
       "    }\n",
       "\n",
       "    .dataframe thead th {\n",
       "        text-align: right;\n",
       "    }\n",
       "</style>\n",
       "<table border=\"1\" class=\"dataframe\">\n",
       "  <thead>\n",
       "    <tr style=\"text-align: right;\">\n",
       "      <th></th>\n",
       "      <th>t1</th>\n",
       "      <th>trgt</th>\n",
       "    </tr>\n",
       "  </thead>\n",
       "  <tbody>\n",
       "    <tr>\n",
       "      <th>2011-08-04 01:57:00.466</th>\n",
       "      <td>2011-08-04 10:27:24.326</td>\n",
       "      <td>0.011841</td>\n",
       "    </tr>\n",
       "    <tr>\n",
       "      <th>2011-08-04 09:08:28.542</th>\n",
       "      <td>2011-08-04 12:43:40.327</td>\n",
       "      <td>0.012108</td>\n",
       "    </tr>\n",
       "    <tr>\n",
       "      <th>2011-08-04 10:27:24.326</th>\n",
       "      <td>2011-08-04 14:58:04.748</td>\n",
       "      <td>0.011682</td>\n",
       "    </tr>\n",
       "    <tr>\n",
       "      <th>2011-08-04 12:29:39.619</th>\n",
       "      <td>2011-08-04 15:01:19.020</td>\n",
       "      <td>0.011022</td>\n",
       "    </tr>\n",
       "    <tr>\n",
       "      <th>2011-08-04 19:44:06.743</th>\n",
       "      <td>2011-08-05 13:54:12.782</td>\n",
       "      <td>0.011423</td>\n",
       "    </tr>\n",
       "  </tbody>\n",
       "</table>\n",
       "</div>"
      ],
      "text/plain": [
       "                                             t1      trgt\n",
       "2011-08-04 01:57:00.466 2011-08-04 10:27:24.326  0.011841\n",
       "2011-08-04 09:08:28.542 2011-08-04 12:43:40.327  0.012108\n",
       "2011-08-04 10:27:24.326 2011-08-04 14:58:04.748  0.011682\n",
       "2011-08-04 12:29:39.619 2011-08-04 15:01:19.020  0.011022\n",
       "2011-08-04 19:44:06.743 2011-08-05 13:54:12.782  0.011423"
      ]
     },
     "execution_count": 83,
     "metadata": {},
     "output_type": "execute_result"
    }
   ],
   "source": [
    "triple_barrier_events.head()"
   ]
  },
  {
   "cell_type": "code",
   "execution_count": 84,
   "metadata": {},
   "outputs": [],
   "source": [
    "labels = CoreFunctions.get_bins(triple_barrier_events, data['close'])"
   ]
  },
  {
   "cell_type": "code",
   "execution_count": 85,
   "metadata": {},
   "outputs": [
    {
     "data": {
      "text/html": [
       "<div>\n",
       "<style scoped>\n",
       "    .dataframe tbody tr th:only-of-type {\n",
       "        vertical-align: middle;\n",
       "    }\n",
       "\n",
       "    .dataframe tbody tr th {\n",
       "        vertical-align: top;\n",
       "    }\n",
       "\n",
       "    .dataframe thead th {\n",
       "        text-align: right;\n",
       "    }\n",
       "</style>\n",
       "<table border=\"1\" class=\"dataframe\">\n",
       "  <thead>\n",
       "    <tr style=\"text-align: right;\">\n",
       "      <th></th>\n",
       "      <th>ret</th>\n",
       "      <th>trgt</th>\n",
       "      <th>bin</th>\n",
       "    </tr>\n",
       "  </thead>\n",
       "  <tbody>\n",
       "    <tr>\n",
       "      <th>2011-08-04 01:57:00.466</th>\n",
       "      <td>-0.016254</td>\n",
       "      <td>0.011841</td>\n",
       "      <td>-1</td>\n",
       "    </tr>\n",
       "    <tr>\n",
       "      <th>2011-08-04 09:08:28.542</th>\n",
       "      <td>-0.012762</td>\n",
       "      <td>0.012108</td>\n",
       "      <td>-1</td>\n",
       "    </tr>\n",
       "    <tr>\n",
       "      <th>2011-08-04 10:27:24.326</th>\n",
       "      <td>-0.011686</td>\n",
       "      <td>0.011682</td>\n",
       "      <td>-1</td>\n",
       "    </tr>\n",
       "    <tr>\n",
       "      <th>2011-08-04 12:29:39.619</th>\n",
       "      <td>-0.011907</td>\n",
       "      <td>0.011022</td>\n",
       "      <td>-1</td>\n",
       "    </tr>\n",
       "    <tr>\n",
       "      <th>2011-08-04 19:44:06.743</th>\n",
       "      <td>-0.012887</td>\n",
       "      <td>0.011423</td>\n",
       "      <td>-1</td>\n",
       "    </tr>\n",
       "  </tbody>\n",
       "</table>\n",
       "</div>"
      ],
      "text/plain": [
       "                              ret      trgt  bin\n",
       "2011-08-04 01:57:00.466 -0.016254  0.011841   -1\n",
       "2011-08-04 09:08:28.542 -0.012762  0.012108   -1\n",
       "2011-08-04 10:27:24.326 -0.011686  0.011682   -1\n",
       "2011-08-04 12:29:39.619 -0.011907  0.011022   -1\n",
       "2011-08-04 19:44:06.743 -0.012887  0.011423   -1"
      ]
     },
     "execution_count": 85,
     "metadata": {},
     "output_type": "execute_result"
    }
   ],
   "source": [
    "labels.head()"
   ]
  },
  {
   "cell_type": "code",
   "execution_count": 86,
   "metadata": {},
   "outputs": [
    {
     "data": {
      "text/plain": [
       " 1    255\n",
       "-1    207\n",
       " 0    198\n",
       "Name: bin, dtype: int64"
      ]
     },
     "execution_count": 86,
     "metadata": {},
     "output_type": "execute_result"
    }
   ],
   "source": [
    "labels['bin'].value_counts()"
   ]
  },
  {
   "cell_type": "markdown",
   "metadata": {},
   "source": [
    "---\n",
    "#### 3.2 From exercise 1, use Snippet 3.8 to drop rare labels."
   ]
  },
  {
   "cell_type": "code",
   "execution_count": 87,
   "metadata": {},
   "outputs": [],
   "source": [
    "clean_labels = CoreFunctions.drop_labels(labels)"
   ]
  },
  {
   "cell_type": "code",
   "execution_count": 88,
   "metadata": {},
   "outputs": [
    {
     "name": "stdout",
     "output_type": "stream",
     "text": [
      "(660, 3)\n",
      "(660, 3)\n"
     ]
    }
   ],
   "source": [
    "print(labels.shape)\n",
    "print(clean_labels.shape)"
   ]
  },
  {
   "cell_type": "markdown",
   "metadata": {},
   "source": [
    "---\n",
    "#### 3.3 Adjust the getBins function (Snippet 3.5) to return a 0 whenever the vertical barrier is the one touched first.\n",
    "This change was made inside the module CoreFunctions."
   ]
  },
  {
   "cell_type": "markdown",
   "metadata": {},
   "source": [
    "---\n",
    "#### 3.4 Develop a trend-following strategy based on a popular technical analysis statistic (e.g., crossing moving averages). For each observation, themodel suggests a side, but not a size of the bet.\n",
    "\n",
    "1. Derive meta-labels for pt_sl = [1,2] and t1 where num_days=1. Use as trgt the daily standard deviation as computed by Snippet 3.1.\n",
    "2. Train a random forest to decide whether to trade or not. Note: The decision is whether to trade or not, {0,1}, since the underllying model (the crossing moveing average has decided the side{-1, 1})"
   ]
  },
  {
   "cell_type": "markdown",
   "metadata": {},
   "source": [
    "First, Build a simple moving average crossover strateggy"
   ]
  },
  {
   "cell_type": "code",
   "execution_count": 89,
   "metadata": {},
   "outputs": [
    {
     "name": "stdout",
     "output_type": "stream",
     "text": [
      "40000\n"
     ]
    },
    {
     "data": {
      "text/plain": [
       "date_time\n",
       "2011-07-31 23:31:58.810    1305.75\n",
       "2011-08-01 02:55:17.443    1306.50\n",
       "2011-08-01 07:25:56.319    1305.00\n",
       "2011-08-01 08:33:10.903    1300.00\n",
       "2011-08-01 10:51:41.842    1307.75\n",
       "Name: close, dtype: float64"
      ]
     },
     "execution_count": 89,
     "metadata": {},
     "output_type": "execute_result"
    }
   ],
   "source": [
    "close_prices = data['close']\n",
    "print(len(close_prices))\n",
    "close_prices.head()"
   ]
  },
  {
   "cell_type": "markdown",
   "metadata": {},
   "source": [
    "Define the window size for crossover lines"
   ]
  },
  {
   "cell_type": "code",
   "execution_count": 90,
   "metadata": {},
   "outputs": [],
   "source": [
    "fast_window = 20\n",
    "slow_window = 50"
   ]
  },
  {
   "cell_type": "markdown",
   "metadata": {},
   "source": [
    "Create a data frame with the close prices and the rolling moving averages"
   ]
  },
  {
   "cell_type": "code",
   "execution_count": 91,
   "metadata": {},
   "outputs": [
    {
     "data": {
      "text/html": [
       "<div>\n",
       "<style scoped>\n",
       "    .dataframe tbody tr th:only-of-type {\n",
       "        vertical-align: middle;\n",
       "    }\n",
       "\n",
       "    .dataframe tbody tr th {\n",
       "        vertical-align: top;\n",
       "    }\n",
       "\n",
       "    .dataframe thead th {\n",
       "        text-align: right;\n",
       "    }\n",
       "</style>\n",
       "<table border=\"1\" class=\"dataframe\">\n",
       "  <thead>\n",
       "    <tr style=\"text-align: right;\">\n",
       "      <th></th>\n",
       "      <th>close</th>\n",
       "      <th>fast_ma</th>\n",
       "      <th>slow_ma</th>\n",
       "      <th>side</th>\n",
       "    </tr>\n",
       "    <tr>\n",
       "      <th>date_time</th>\n",
       "      <th></th>\n",
       "      <th></th>\n",
       "      <th></th>\n",
       "      <th></th>\n",
       "    </tr>\n",
       "  </thead>\n",
       "  <tbody>\n",
       "    <tr>\n",
       "      <th>2011-07-31 23:31:58.810</th>\n",
       "      <td>1305.75</td>\n",
       "      <td>1305.7500</td>\n",
       "      <td>1305.7500</td>\n",
       "      <td>0.0</td>\n",
       "    </tr>\n",
       "    <tr>\n",
       "      <th>2011-08-01 02:55:17.443</th>\n",
       "      <td>1306.50</td>\n",
       "      <td>1306.1250</td>\n",
       "      <td>1306.1250</td>\n",
       "      <td>0.0</td>\n",
       "    </tr>\n",
       "    <tr>\n",
       "      <th>2011-08-01 07:25:56.319</th>\n",
       "      <td>1305.00</td>\n",
       "      <td>1305.7500</td>\n",
       "      <td>1305.7500</td>\n",
       "      <td>0.0</td>\n",
       "    </tr>\n",
       "    <tr>\n",
       "      <th>2011-08-01 08:33:10.903</th>\n",
       "      <td>1300.00</td>\n",
       "      <td>1304.3125</td>\n",
       "      <td>1304.3125</td>\n",
       "      <td>0.0</td>\n",
       "    </tr>\n",
       "    <tr>\n",
       "      <th>2011-08-01 10:51:41.842</th>\n",
       "      <td>1307.75</td>\n",
       "      <td>1305.0000</td>\n",
       "      <td>1305.0000</td>\n",
       "      <td>0.0</td>\n",
       "    </tr>\n",
       "  </tbody>\n",
       "</table>\n",
       "</div>"
      ],
      "text/plain": [
       "                           close    fast_ma    slow_ma  side\n",
       "date_time                                                   \n",
       "2011-07-31 23:31:58.810  1305.75  1305.7500  1305.7500   0.0\n",
       "2011-08-01 02:55:17.443  1306.50  1306.1250  1306.1250   0.0\n",
       "2011-08-01 07:25:56.319  1305.00  1305.7500  1305.7500   0.0\n",
       "2011-08-01 08:33:10.903  1300.00  1304.3125  1304.3125   0.0\n",
       "2011-08-01 10:51:41.842  1307.75  1305.0000  1305.0000   0.0"
      ]
     },
     "execution_count": 91,
     "metadata": {},
     "output_type": "execute_result"
    }
   ],
   "source": [
    "signal_df = close_prices.to_frame()\n",
    "signal_df['fast_ma'] = signal_df['close'].rolling(window=fast_window, min_periods=1, center=False).mean()\n",
    "signal_df['slow_ma'] = signal_df['close'].rolling(window=slow_window, min_periods=1, center=False).mean()\n",
    "signal_df['side'] = 0.0\n",
    "signal_df.head()\n"
   ]
  },
  {
   "cell_type": "markdown",
   "metadata": {},
   "source": [
    "Create a side when the short MA crosses over the long MA. Ensure that this is done for the period that is larger than the shortest MA window\n"
   ]
  },
  {
   "cell_type": "code",
   "execution_count": 92,
   "metadata": {},
   "outputs": [
    {
     "name": "stdout",
     "output_type": "stream",
     "text": [
      " 1.0    21568\n",
      "-1.0    18412\n",
      " 0.0       20\n",
      "Name: side, dtype: int64\n"
     ]
    }
   ],
   "source": [
    "# compute sides\n",
    "signal_df['side'][fast_window:] = np.where(signal_df['fast_ma'][fast_window:] >= \n",
    "                                           signal_df['slow_ma'][fast_window:], 1.0, -1.0) \n",
    "\n",
    "print(signal_df.side.value_counts())"
   ]
  },
  {
   "cell_type": "markdown",
   "metadata": {},
   "source": [
    "The few 0.0 labels are a result of NaNs"
   ]
  },
  {
   "cell_type": "code",
   "execution_count": 93,
   "metadata": {},
   "outputs": [
    {
     "name": "stdout",
     "output_type": "stream",
     "text": [
      "                           close    fast_ma    slow_ma  side\n",
      "date_time                                                   \n",
      "2011-07-31 23:31:58.810  1305.75  1305.7500  1305.7500   0.0\n",
      "2011-08-01 02:55:17.443  1306.50  1306.1250  1306.1250   0.0\n",
      "2011-08-01 07:25:56.319  1305.00  1305.7500  1305.7500   0.0\n",
      "2011-08-01 08:33:10.903  1300.00  1304.3125  1304.3125   0.0\n",
      "2011-08-01 10:51:41.842  1307.75  1305.0000  1305.0000   0.0\n",
      "                           close    fast_ma   slow_ma  side\n",
      "date_time                                                  \n",
      "2015-08-10 13:40:00.351  2090.00  2076.5250  2072.420   1.0\n",
      "2015-08-10 13:44:10.435  2092.25  2077.8250  2072.645   1.0\n",
      "2015-08-10 13:49:44.719  2092.50  2079.0875  2072.995   1.0\n",
      "2015-08-10 13:53:25.555  2093.00  2080.4625  2073.380   1.0\n",
      "2015-08-10 14:00:07.700  2093.25  2081.6625  2073.800   1.0\n"
     ]
    }
   ],
   "source": [
    "print(signal_df.head())\n",
    "print(signal_df.tail())"
   ]
  },
  {
   "cell_type": "code",
   "execution_count": 94,
   "metadata": {},
   "outputs": [],
   "source": [
    "# extract side as a series\n",
    "side = signal_df['side']"
   ]
  },
  {
   "cell_type": "markdown",
   "metadata": {},
   "source": [
    "On those sampled features, apply the triple-barrier method, where ptSl=[1,2] and t1 earlier"
   ]
  },
  {
   "cell_type": "code",
   "execution_count": 120,
   "metadata": {},
   "outputs": [],
   "source": [
    "ma_events = CoreFunctions.get_events(close_prices,                                     \n",
    "                                     t_events=cusum_events,\n",
    "                                     pt_sl=[1, 2],\n",
    "                                     target=vol,\n",
    "                                     min_ret=0.007,\n",
    "                                     num_threads=1,\n",
    "                                     vertical_barrier_times=vertical_barriers,\n",
    "                                     side=side)\n"
   ]
  },
  {
   "cell_type": "code",
   "execution_count": 121,
   "metadata": {},
   "outputs": [
    {
     "name": "stdout",
     "output_type": "stream",
     "text": [
      "                         side                      t1      trgt\n",
      "2011-08-02 15:02:12.277  -1.0 2011-08-02 17:57:51.964  0.008616\n",
      "2011-08-02 16:48:53.474  -1.0 2011-08-02 19:52:57.011  0.007736\n",
      "2011-08-03 01:53:52.265  -1.0 2011-08-03 14:37:04.871  0.008415\n",
      "2011-08-03 08:02:36.120  -1.0 2011-08-03 14:23:36.205  0.008016\n",
      "2011-08-03 14:56:24.514  -1.0 2011-08-04 01:57:00.466  0.007678\n",
      "\n",
      "-1.0    605\n",
      " 1.0    576\n",
      "Name: side, dtype: int64\n"
     ]
    }
   ],
   "source": [
    "print(ma_events.head())\n",
    "print('')\n",
    "print(ma_events.side.value_counts())"
   ]
  },
  {
   "cell_type": "code",
   "execution_count": 122,
   "metadata": {},
   "outputs": [],
   "source": [
    "labels = CoreFunctions.get_bins(ma_events, close_prices)"
   ]
  },
  {
   "cell_type": "code",
   "execution_count": 123,
   "metadata": {},
   "outputs": [
    {
     "name": "stdout",
     "output_type": "stream",
     "text": [
      "                              ret      trgt  bin\n",
      "2011-08-02 15:02:12.277  0.009338  0.008616    1\n",
      "2011-08-02 16:48:53.474  0.008583  0.007736    1\n",
      "2011-08-03 01:53:52.265  0.010746  0.008415    1\n",
      "2011-08-03 08:02:36.120  0.010473  0.008016    1\n",
      "2011-08-03 14:56:24.514 -0.017443  0.007678    0\n"
     ]
    },
    {
     "data": {
      "text/plain": [
       "0    699\n",
       "1    482\n",
       "Name: bin, dtype: int64"
      ]
     },
     "execution_count": 123,
     "metadata": {},
     "output_type": "execute_result"
    }
   ],
   "source": [
    "print(labels.head())\n",
    "labels.bin.value_counts()"
   ]
  },
  {
   "cell_type": "code",
   "execution_count": 135,
   "metadata": {},
   "outputs": [
    {
     "data": {
      "text/html": [
       "<div>\n",
       "<style scoped>\n",
       "    .dataframe tbody tr th:only-of-type {\n",
       "        vertical-align: middle;\n",
       "    }\n",
       "\n",
       "    .dataframe tbody tr th {\n",
       "        vertical-align: top;\n",
       "    }\n",
       "\n",
       "    .dataframe thead th {\n",
       "        text-align: right;\n",
       "    }\n",
       "</style>\n",
       "<table border=\"1\" class=\"dataframe\">\n",
       "  <thead>\n",
       "    <tr style=\"text-align: right;\">\n",
       "      <th></th>\n",
       "      <th>return</th>\n",
       "      <th>trgt</th>\n",
       "      <th>trade</th>\n",
       "      <th>side</th>\n",
       "      <th>first_touch</th>\n",
       "    </tr>\n",
       "  </thead>\n",
       "  <tbody>\n",
       "    <tr>\n",
       "      <th>2015-05-08 12:30:44.347</th>\n",
       "      <td>0.004169</td>\n",
       "      <td>0.007126</td>\n",
       "      <td>0</td>\n",
       "      <td>1.0</td>\n",
       "      <td>2015-05-11 06:45:58.268</td>\n",
       "    </tr>\n",
       "    <tr>\n",
       "      <th>2015-05-08 15:33:56.265</th>\n",
       "      <td>-0.001894</td>\n",
       "      <td>0.008572</td>\n",
       "      <td>0</td>\n",
       "      <td>1.0</td>\n",
       "      <td>2015-05-11 06:45:58.268</td>\n",
       "    </tr>\n",
       "    <tr>\n",
       "      <th>2015-05-12 09:06:15.006</th>\n",
       "      <td>-0.008924</td>\n",
       "      <td>0.007107</td>\n",
       "      <td>0</td>\n",
       "      <td>-1.0</td>\n",
       "      <td>2015-05-13 10:51:17.921</td>\n",
       "    </tr>\n",
       "    <tr>\n",
       "      <th>2015-05-12 14:41:49.319</th>\n",
       "      <td>-0.002501</td>\n",
       "      <td>0.007666</td>\n",
       "      <td>0</td>\n",
       "      <td>-1.0</td>\n",
       "      <td>2015-05-13 14:43:24.306</td>\n",
       "    </tr>\n",
       "    <tr>\n",
       "      <th>2015-05-27 19:17:28.353</th>\n",
       "      <td>-0.002473</td>\n",
       "      <td>0.007308</td>\n",
       "      <td>0</td>\n",
       "      <td>1.0</td>\n",
       "      <td>2015-05-28 19:42:01.784</td>\n",
       "    </tr>\n",
       "    <tr>\n",
       "      <th>2015-06-12 14:37:39.946</th>\n",
       "      <td>0.004822</td>\n",
       "      <td>0.008692</td>\n",
       "      <td>0</td>\n",
       "      <td>-1.0</td>\n",
       "      <td>2015-06-14 22:37:11.327</td>\n",
       "    </tr>\n",
       "    <tr>\n",
       "      <th>2015-06-14 22:37:11.327</th>\n",
       "      <td>0.000241</td>\n",
       "      <td>0.007714</td>\n",
       "      <td>0</td>\n",
       "      <td>-1.0</td>\n",
       "      <td>2015-06-16 01:41:33.366</td>\n",
       "    </tr>\n",
       "    <tr>\n",
       "      <th>2015-07-08 11:12:45.720</th>\n",
       "      <td>-0.000727</td>\n",
       "      <td>0.007974</td>\n",
       "      <td>0</td>\n",
       "      <td>1.0</td>\n",
       "      <td>2015-07-09 11:17:22.295</td>\n",
       "    </tr>\n",
       "    <tr>\n",
       "      <th>2015-07-09 04:52:15.769</th>\n",
       "      <td>-0.006658</td>\n",
       "      <td>0.007900</td>\n",
       "      <td>0</td>\n",
       "      <td>-1.0</td>\n",
       "      <td>2015-07-10 06:59:57.690</td>\n",
       "    </tr>\n",
       "    <tr>\n",
       "      <th>2015-07-09 13:28:26.547</th>\n",
       "      <td>0.000363</td>\n",
       "      <td>0.008168</td>\n",
       "      <td>0</td>\n",
       "      <td>1.0</td>\n",
       "      <td>2015-07-10 13:30:14.281</td>\n",
       "    </tr>\n",
       "  </tbody>\n",
       "</table>\n",
       "</div>"
      ],
      "text/plain": [
       "                           return      trgt  trade  side  \\\n",
       "2015-05-08 12:30:44.347  0.004169  0.007126      0   1.0   \n",
       "2015-05-08 15:33:56.265 -0.001894  0.008572      0   1.0   \n",
       "2015-05-12 09:06:15.006 -0.008924  0.007107      0  -1.0   \n",
       "2015-05-12 14:41:49.319 -0.002501  0.007666      0  -1.0   \n",
       "2015-05-27 19:17:28.353 -0.002473  0.007308      0   1.0   \n",
       "2015-06-12 14:37:39.946  0.004822  0.008692      0  -1.0   \n",
       "2015-06-14 22:37:11.327  0.000241  0.007714      0  -1.0   \n",
       "2015-07-08 11:12:45.720 -0.000727  0.007974      0   1.0   \n",
       "2015-07-09 04:52:15.769 -0.006658  0.007900      0  -1.0   \n",
       "2015-07-09 13:28:26.547  0.000363  0.008168      0   1.0   \n",
       "\n",
       "                                    first_touch  \n",
       "2015-05-08 12:30:44.347 2015-05-11 06:45:58.268  \n",
       "2015-05-08 15:33:56.265 2015-05-11 06:45:58.268  \n",
       "2015-05-12 09:06:15.006 2015-05-13 10:51:17.921  \n",
       "2015-05-12 14:41:49.319 2015-05-13 14:43:24.306  \n",
       "2015-05-27 19:17:28.353 2015-05-28 19:42:01.784  \n",
       "2015-06-12 14:37:39.946 2015-06-14 22:37:11.327  \n",
       "2015-06-14 22:37:11.327 2015-06-16 01:41:33.366  \n",
       "2015-07-08 11:12:45.720 2015-07-09 11:17:22.295  \n",
       "2015-07-09 04:52:15.769 2015-07-10 06:59:57.690  \n",
       "2015-07-09 13:28:26.547 2015-07-10 13:30:14.281  "
      ]
     },
     "execution_count": 135,
     "metadata": {},
     "output_type": "execute_result"
    }
   ],
   "source": [
    "# Save trade data\n",
    "new_data = pd.concat([labels, ma_events], axis=1)\n",
    "new_data.columns = ['return', 'trgt', 'trade', 'side', 'first_touch', 'trgt2']\n",
    "new_data.drop('trgt2', axis=1, inplace=True)\n",
    "\n",
    "# Save files to csv\n",
    "new_data.to_csv('ma_side.csv')\n",
    "close_prices.to_csv('ma_close_prices.csv', header=False)\n",
    "\n",
    "new_data.tail(10)"
   ]
  },
  {
   "cell_type": "markdown",
   "metadata": {},
   "source": [
    "---\n",
    "### Bollinger Band Mean Reverting Strategy"
   ]
  },
  {
   "cell_type": "code",
   "execution_count": 38,
   "metadata": {},
   "outputs": [],
   "source": [
    "def bbands(close_prices, window, no_of_stdev):\n",
    "    rolling_mean = close_prices.rolling(window=window).mean()\n",
    "    rolling_std = close_prices.rolling(window=window).std()\n",
    "    # rolling_mean = close_prices.ewm(span=window).mean()\n",
    "    # rolling_std = close_prices.ewm(span=window).std()\n",
    "    \n",
    "    upper_band = rolling_mean + (rolling_std * no_of_stdev)\n",
    "    lower_band = rolling_mean - (rolling_std * no_of_stdev)\n",
    "    \n",
    "    return rolling_mean, upper_band, lower_band\n"
   ]
  },
  {
   "cell_type": "code",
   "execution_count": 39,
   "metadata": {},
   "outputs": [],
   "source": [
    "window = 50\n",
    "rolling_mean, upper_band, lower_band = bbands(close_prices, window, no_of_stdev=2)"
   ]
  },
  {
   "cell_type": "code",
   "execution_count": 40,
   "metadata": {},
   "outputs": [
    {
     "name": "stdout",
     "output_type": "stream",
     "text": [
      "date_time\n",
      "2015-08-10 13:40:00.351    2072.420\n",
      "2015-08-10 13:44:10.435    2072.645\n",
      "2015-08-10 13:49:44.719    2072.995\n",
      "2015-08-10 13:53:25.555    2073.380\n",
      "2015-08-10 14:00:07.700    2073.800\n",
      "Name: close, dtype: float64\n",
      "date_time\n",
      "2015-08-10 13:40:00.351    2086.656143\n",
      "2015-08-10 13:44:10.435    2087.762934\n",
      "2015-08-10 13:49:44.719    2089.112708\n",
      "2015-08-10 13:53:25.555    2090.462107\n",
      "2015-08-10 14:00:07.700    2091.777878\n",
      "Name: close, dtype: float64\n",
      "date_time\n",
      "2015-08-10 13:40:00.351    2058.183857\n",
      "2015-08-10 13:44:10.435    2057.527066\n",
      "2015-08-10 13:49:44.719    2056.877292\n",
      "2015-08-10 13:53:25.555    2056.297893\n",
      "2015-08-10 14:00:07.700    2055.822122\n",
      "Name: close, dtype: float64\n"
     ]
    }
   ],
   "source": [
    "print(rolling_mean.tail())\n",
    "print(upper_band.tail())\n",
    "print(lower_band.tail())"
   ]
  },
  {
   "cell_type": "code",
   "execution_count": 41,
   "metadata": {},
   "outputs": [],
   "source": [
    "# source: https://github.com/Crypto-toolbox/pandas-technical-indicators/blob/master/technical_indicators.py\n",
    "def relative_strength_index(df, n):\n",
    "    \"\"\"Calculate Relative Strength Index(RSI) for given data.\n",
    "    \n",
    "    :param df: pandas.DataFrame\n",
    "    :param n: \n",
    "    :return: pandas.DataFrame\n",
    "    \"\"\"\n",
    "    i = 0\n",
    "    UpI = [0]\n",
    "    DoI = [0]\n",
    "    while i + 1 <= df.index[-1]:\n",
    "        UpMove = df.loc[i + 1, 'high'] - df.loc[i, 'high']\n",
    "        DoMove = df.loc[i, 'low'] - df.loc[i + 1, 'low']\n",
    "        if UpMove > DoMove and UpMove > 0:\n",
    "            UpD = UpMove\n",
    "        else:\n",
    "            UpD = 0\n",
    "        UpI.append(UpD)\n",
    "        if DoMove > UpMove and DoMove > 0:\n",
    "            DoD = DoMove\n",
    "        else:\n",
    "            DoD = 0\n",
    "        DoI.append(DoD)\n",
    "        i = i + 1\n",
    "    UpI = pd.Series(UpI)\n",
    "    DoI = pd.Series(DoI)\n",
    "    PosDI = pd.Series(UpI.ewm(span=n, min_periods=n).mean())\n",
    "    NegDI = pd.Series(DoI.ewm(span=n, min_periods=n).mean())\n",
    "    RSI = pd.Series(round(PosDI * 100. / (PosDI + NegDI)), name='RSI_' + str(n))\n",
    "    # df = df.join(RSI)\n",
    "    return RSI\n"
   ]
  },
  {
   "cell_type": "code",
   "execution_count": 42,
   "metadata": {},
   "outputs": [
    {
     "data": {
      "text/plain": [
       "39995    93.0\n",
       "39996    93.0\n",
       "39997    94.0\n",
       "39998    95.0\n",
       "39999    92.0\n",
       "Name: RSI_14, dtype: float64"
      ]
     },
     "execution_count": 42,
     "metadata": {},
     "output_type": "execute_result"
    }
   ],
   "source": [
    "data.tail()\n",
    "data_df = data.copy(deep=True).reset_index()\n",
    "rsi_df = relative_strength_index(data_df, 14)\n",
    "rsi_df.tail()"
   ]
  },
  {
   "cell_type": "code",
   "execution_count": 43,
   "metadata": {},
   "outputs": [
    {
     "data": {
      "text/html": [
       "<div>\n",
       "<style scoped>\n",
       "    .dataframe tbody tr th:only-of-type {\n",
       "        vertical-align: middle;\n",
       "    }\n",
       "\n",
       "    .dataframe tbody tr th {\n",
       "        vertical-align: top;\n",
       "    }\n",
       "\n",
       "    .dataframe thead th {\n",
       "        text-align: right;\n",
       "    }\n",
       "</style>\n",
       "<table border=\"1\" class=\"dataframe\">\n",
       "  <thead>\n",
       "    <tr style=\"text-align: right;\">\n",
       "      <th></th>\n",
       "      <th>close</th>\n",
       "      <th>avg</th>\n",
       "      <th>upper</th>\n",
       "      <th>lower</th>\n",
       "      <th>rsi</th>\n",
       "      <th>side</th>\n",
       "    </tr>\n",
       "    <tr>\n",
       "      <th>date_time</th>\n",
       "      <th></th>\n",
       "      <th></th>\n",
       "      <th></th>\n",
       "      <th></th>\n",
       "      <th></th>\n",
       "      <th></th>\n",
       "    </tr>\n",
       "  </thead>\n",
       "  <tbody>\n",
       "    <tr>\n",
       "      <th>2015-08-10 13:40:00.351</th>\n",
       "      <td>2090.00</td>\n",
       "      <td>2072.420</td>\n",
       "      <td>2086.656143</td>\n",
       "      <td>2058.183857</td>\n",
       "      <td>93.0</td>\n",
       "      <td>0.0</td>\n",
       "    </tr>\n",
       "    <tr>\n",
       "      <th>2015-08-10 13:44:10.435</th>\n",
       "      <td>2092.25</td>\n",
       "      <td>2072.645</td>\n",
       "      <td>2087.762934</td>\n",
       "      <td>2057.527066</td>\n",
       "      <td>93.0</td>\n",
       "      <td>0.0</td>\n",
       "    </tr>\n",
       "    <tr>\n",
       "      <th>2015-08-10 13:49:44.719</th>\n",
       "      <td>2092.50</td>\n",
       "      <td>2072.995</td>\n",
       "      <td>2089.112708</td>\n",
       "      <td>2056.877292</td>\n",
       "      <td>94.0</td>\n",
       "      <td>0.0</td>\n",
       "    </tr>\n",
       "    <tr>\n",
       "      <th>2015-08-10 13:53:25.555</th>\n",
       "      <td>2093.00</td>\n",
       "      <td>2073.380</td>\n",
       "      <td>2090.462107</td>\n",
       "      <td>2056.297893</td>\n",
       "      <td>95.0</td>\n",
       "      <td>0.0</td>\n",
       "    </tr>\n",
       "    <tr>\n",
       "      <th>2015-08-10 14:00:07.700</th>\n",
       "      <td>2093.25</td>\n",
       "      <td>2073.800</td>\n",
       "      <td>2091.777878</td>\n",
       "      <td>2055.822122</td>\n",
       "      <td>92.0</td>\n",
       "      <td>0.0</td>\n",
       "    </tr>\n",
       "  </tbody>\n",
       "</table>\n",
       "</div>"
      ],
      "text/plain": [
       "                           close       avg        upper        lower   rsi  \\\n",
       "date_time                                                                    \n",
       "2015-08-10 13:40:00.351  2090.00  2072.420  2086.656143  2058.183857  93.0   \n",
       "2015-08-10 13:44:10.435  2092.25  2072.645  2087.762934  2057.527066  93.0   \n",
       "2015-08-10 13:49:44.719  2092.50  2072.995  2089.112708  2056.877292  94.0   \n",
       "2015-08-10 13:53:25.555  2093.00  2073.380  2090.462107  2056.297893  95.0   \n",
       "2015-08-10 14:00:07.700  2093.25  2073.800  2091.777878  2055.822122  92.0   \n",
       "\n",
       "                         side  \n",
       "date_time                      \n",
       "2015-08-10 13:40:00.351   0.0  \n",
       "2015-08-10 13:44:10.435   0.0  \n",
       "2015-08-10 13:49:44.719   0.0  \n",
       "2015-08-10 13:53:25.555   0.0  \n",
       "2015-08-10 14:00:07.700   0.0  "
      ]
     },
     "execution_count": 43,
     "metadata": {},
     "output_type": "execute_result"
    }
   ],
   "source": [
    "# create the data frame\n",
    "signal_df = close_prices.to_frame()\n",
    "signal_df['avg'] = rolling_mean\n",
    "signal_df['upper'] = upper_band\n",
    "signal_df['lower'] = lower_band\n",
    "signal_df['rsi'] = pd.Series(data=rsi_df.values, index=signal_df.index)\n",
    "signal_df['side'] = 0.0\n",
    "\n",
    "signal_df.tail()"
   ]
  },
  {
   "cell_type": "code",
   "execution_count": 44,
   "metadata": {},
   "outputs": [],
   "source": [
    "# Apply Bolinger band strategy\n",
    "\"\"\"\n",
    "The following is a mean reverting strategy using Bollinger Bands:\n",
    "* If price above upper band then short.\n",
    "* If price below bottom band then long.\n",
    "* If price cross mean price then close all positions.\n",
    "\"\"\"\n",
    "current_side = 0\n",
    "\n",
    "store = []\n",
    "for row in signal_df.itertuples():\n",
    "        # Buy signal\n",
    "        if row.close > row.upper and current_side != -1:\n",
    "            current_side = -1\n",
    "            store.append(current_side)\n",
    "            \n",
    "        # Short signal\n",
    "        elif row.close < row.lower and current_side != 1:\n",
    "            current_side = 1\n",
    "            store.append(current_side)\n",
    "        \n",
    "        # Close signal long\n",
    "        elif current_side == 1 and row.close > row.avg:\n",
    "            current_side = 0\n",
    "            store.append(current_side)\n",
    "            \n",
    "        # Close signal short\n",
    "        elif current_side == -1 and row.close < row.avg:\n",
    "            current_side = 0\n",
    "            store.append(current_side)\n",
    "            \n",
    "        # No action\n",
    "        else:\n",
    "            store.append(current_side)\n",
    "            \n",
    "signal_df['side'] = store"
   ]
  },
  {
   "cell_type": "code",
   "execution_count": 45,
   "metadata": {},
   "outputs": [
    {
     "data": {
      "text/plain": [
       " 0    15311\n",
       "-1    13407\n",
       " 1    11282\n",
       "Name: side, dtype: int64"
      ]
     },
     "execution_count": 45,
     "metadata": {},
     "output_type": "execute_result"
    }
   ],
   "source": [
    "signal_df['side'].value_counts()"
   ]
  },
  {
   "cell_type": "code",
   "execution_count": 46,
   "metadata": {},
   "outputs": [
    {
     "name": "stderr",
     "output_type": "stream",
     "text": [
      "/home/ariadne/Desktop/Research Project/research/2019-03-03_AS_JJ_Chapter3/mlfinlab/corefns/core_functions.py:205: FutureWarning: \n",
      "Passing list-likes to .loc or [] with any missing label will raise\n",
      "KeyError in the future, you can use .reindex() as an alternative.\n",
      "\n",
      "See the documentation here:\n",
      "https://pandas.pydata.org/pandas-docs/stable/indexing.html#deprecate-loc-reindex-listlike\n",
      "  target = target.loc[t_events]\n"
     ]
    }
   ],
   "source": [
    "# extract side as a series \n",
    "side = signal_df['side']\n",
    "bb_events = CoreFunctions.get_events(close_prices,                                     \n",
    "                                     t_events=cusum_events,\n",
    "                                     pt_sl=[0, 2],\n",
    "                                     target=vol,\n",
    "                                     min_ret=0.01,\n",
    "                                     num_threads=1,\n",
    "                                     vertical_barrier_times=vertical_barriers,\n",
    "                                     side=side)\n"
   ]
  },
  {
   "cell_type": "code",
   "execution_count": 47,
   "metadata": {},
   "outputs": [
    {
     "data": {
      "text/plain": [
       " 0.0    193\n",
       "-1.0    164\n",
       " 1.0    152\n",
       "Name: side, dtype: int64"
      ]
     },
     "execution_count": 47,
     "metadata": {},
     "output_type": "execute_result"
    }
   ],
   "source": [
    "bb_events.tail()\n",
    "bb_events.side.value_counts()"
   ]
  },
  {
   "cell_type": "code",
   "execution_count": 48,
   "metadata": {},
   "outputs": [],
   "source": [
    "labels = CoreFunctions.get_bins(bb_events, close_prices)"
   ]
  },
  {
   "cell_type": "code",
   "execution_count": 49,
   "metadata": {},
   "outputs": [
    {
     "name": "stdout",
     "output_type": "stream",
     "text": [
      "                              ret      trgt  bin\n",
      "2011-08-04 01:57:00.466  0.052138  0.011426    1\n",
      "2011-08-04 09:08:28.542  0.047848  0.011178    1\n",
      "2011-08-04 10:27:24.326  0.000000  0.010537    0\n",
      "2011-08-04 19:44:06.743 -0.021201  0.010050    0\n",
      "2011-08-04 19:53:02.682 -0.027360  0.011121    0\n"
     ]
    },
    {
     "data": {
      "text/plain": [
       "0    430\n",
       "1     79\n",
       "Name: bin, dtype: int64"
      ]
     },
     "execution_count": 49,
     "metadata": {},
     "output_type": "execute_result"
    }
   ],
   "source": [
    "print(labels.head())\n",
    "labels.bin.value_counts()"
   ]
  },
  {
   "cell_type": "code",
   "execution_count": 50,
   "metadata": {},
   "outputs": [
    {
     "data": {
      "text/plain": [
       "date_time\n",
       "2015-08-10 13:40:00.351    0.300925\n",
       "2015-08-10 13:44:10.435    0.301927\n",
       "2015-08-10 13:49:44.719    0.301471\n",
       "2015-08-10 13:53:25.555    0.301399\n",
       "2015-08-10 14:00:07.700    0.301226\n",
       "Name: fracdiff, dtype: float64"
      ]
     },
     "execution_count": 50,
     "metadata": {},
     "output_type": "execute_result"
    }
   ],
   "source": [
    "frac_df.tail()"
   ]
  },
  {
   "cell_type": "code",
   "execution_count": 51,
   "metadata": {},
   "outputs": [
    {
     "name": "stdout",
     "output_type": "stream",
     "text": [
      "                             trgt  side  autocorr  fracdiff\n",
      "2014-10-16 18:52:52.677  0.010244  -1.0  0.962574  0.290437\n",
      "2014-12-15 15:21:04.203  0.012622   0.0  0.976447  0.293931\n",
      "2014-12-16 17:21:27.774  0.010541  -1.0  0.970614  0.295848\n",
      "2014-12-18 15:11:30.919  0.010098  -1.0  0.976068  0.303103\n",
      "2015-01-30 08:34:51.079  0.011322  -1.0  0.971751  0.295037\n"
     ]
    }
   ],
   "source": [
    "# Create feature matrix\n",
    "X = pd.DataFrame(labels['trgt'])\n",
    "X['side'] = [bb_events['side'][x] for x in X.index]\n",
    "X['autocorr'] = [auto_corr[x] for x in X.index]\n",
    "X['fracdiff'] = [frac_df[x] for x in X.index]\n",
    "print(X.tail())"
   ]
  },
  {
   "cell_type": "code",
   "execution_count": 52,
   "metadata": {},
   "outputs": [],
   "source": [
    "# extract y values\n",
    "y = labels.bin.to_frame()"
   ]
  },
  {
   "cell_type": "code",
   "execution_count": 53,
   "metadata": {},
   "outputs": [],
   "source": [
    "X_train, X_test, y_train, y_test = train_test_split(X, y, test_size=0.2, shuffle=False)"
   ]
  },
  {
   "cell_type": "code",
   "execution_count": 54,
   "metadata": {},
   "outputs": [
    {
     "data": {
      "text/plain": [
       "RandomForestClassifier(bootstrap=True, class_weight=None, criterion='entropy',\n",
       "            max_depth=5, max_features='auto', max_leaf_nodes=None,\n",
       "            min_impurity_decrease=0.0, min_impurity_split=None,\n",
       "            min_samples_leaf=1, min_samples_split=2,\n",
       "            min_weight_fraction_leaf=0.0, n_estimators=10000, n_jobs=None,\n",
       "            oob_score=False, random_state=42, verbose=0, warm_start=False)"
      ]
     },
     "execution_count": 54,
     "metadata": {},
     "output_type": "execute_result"
    }
   ],
   "source": [
    "n_estimator = 10000\n",
    "c_random_state = 42\n",
    "\n",
    "rf = RandomForestClassifier(max_depth=5, n_estimators=n_estimator,\n",
    "                            criterion='entropy', random_state=c_random_state)\n",
    "rf.fit(X_train, y_train.values.ravel())"
   ]
  },
  {
   "cell_type": "markdown",
   "metadata": {},
   "source": [
    "### Performance: Training"
   ]
  },
  {
   "cell_type": "code",
   "execution_count": 55,
   "metadata": {},
   "outputs": [
    {
     "name": "stdout",
     "output_type": "stream",
     "text": [
      "              precision    recall  f1-score   support\n",
      "\n",
      "           0       0.94      0.99      0.96       342\n",
      "           1       0.93      0.65      0.76        65\n",
      "\n",
      "   micro avg       0.94      0.94      0.94       407\n",
      "   macro avg       0.93      0.82      0.86       407\n",
      "weighted avg       0.94      0.94      0.93       407\n",
      "\n",
      "Confusion Matrix\n",
      "[[339   3]\n",
      " [ 23  42]]\n"
     ]
    },
    {
     "data": {
      "image/png": "[encoded data removed]",
      "text/plain": [
       "<Figure size 432x288 with 1 Axes>"
      ]
     },
     "metadata": {
      "needs_background": "light"
     },
     "output_type": "display_data"
    }
   ],
   "source": [
    "# Performance Metrics\n",
    "y_pred_rf = rf.predict_proba(X_train)[:, 1]\n",
    "y_pred = rf.predict(X_train)\n",
    "fpr_rf, tpr_rf, _ = roc_curve(y_train, y_pred_rf)\n",
    "print(classification_report(y_train, y_pred))\n",
    "\n",
    "print(\"Confusion Matrix\")\n",
    "print(confusion_matrix(y_train, y_pred))\n",
    "\n",
    "plt.figure(1)\n",
    "plt.plot([0, 1], [0, 1], 'k--')\n",
    "plt.plot(fpr_rf, tpr_rf, label='RF')\n",
    "plt.xlabel('False positive rate')\n",
    "plt.ylabel('True positive rate')\n",
    "plt.title('ROC curve')\n",
    "plt.legend(loc='best')\n",
    "plt.show()"
   ]
  },
  {
   "cell_type": "markdown",
   "metadata": {},
   "source": [
    "### Performance: Test"
   ]
  },
  {
   "cell_type": "code",
   "execution_count": 56,
   "metadata": {},
   "outputs": [
    {
     "name": "stdout",
     "output_type": "stream",
     "text": [
      "              precision    recall  f1-score   support\n",
      "\n",
      "           0       0.87      0.94      0.91        88\n",
      "           1       0.29      0.14      0.19        14\n",
      "\n",
      "   micro avg       0.83      0.83      0.83       102\n",
      "   macro avg       0.58      0.54      0.55       102\n",
      "weighted avg       0.79      0.83      0.81       102\n",
      "\n",
      "Confusion Matrix\n",
      "[[83  5]\n",
      " [12  2]]\n"
     ]
    },
    {
     "data": {
      "image/png": "[encoded data removed]",
      "text/plain": [
       "<Figure size 432x288 with 1 Axes>"
      ]
     },
     "metadata": {
      "needs_background": "light"
     },
     "output_type": "display_data"
    }
   ],
   "source": [
    "# Performance Metrics\n",
    "y_pred_rf = rf.predict_proba(X_test)[:, 1]\n",
    "y_pred = rf.predict(X_test)\n",
    "fpr_rf, tpr_rf, _ = roc_curve(y_test, y_pred_rf)\n",
    "print(classification_report(y_test, y_pred))\n",
    "\n",
    "print(\"Confusion Matrix\")\n",
    "print(confusion_matrix(y_test, y_pred))\n",
    "\n",
    "plt.figure(1)\n",
    "plt.plot([0, 1], [0, 1], 'k--')\n",
    "plt.plot(fpr_rf, tpr_rf, label='RF')\n",
    "plt.xlabel('False positive rate')\n",
    "plt.ylabel('True positive rate')\n",
    "plt.title('ROC curve')\n",
    "plt.legend(loc='best')\n",
    "plt.show()"
   ]
  },
  {
   "cell_type": "code",
   "execution_count": null,
   "metadata": {},
   "outputs": [],
   "source": []
  }
 ],
 "metadata": {
  "kernelspec": {
   "display_name": "Python 3",
   "language": "python",
   "name": "python3"
  },
  "language_info": {
   "codemirror_mode": {
    "name": "ipython",
    "version": 3
   },
   "file_extension": ".py",
   "mimetype": "text/x-python",
   "name": "python",
   "nbconvert_exporter": "python",
   "pygments_lexer": "ipython3",
   "version": "3.6.8"
  }
 },
 "nbformat": 4,
 "nbformat_minor": 2
}
