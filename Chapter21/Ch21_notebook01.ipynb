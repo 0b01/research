{
 "cells": [
  {
   "cell_type": "markdown",
   "metadata": {},
   "source": [
    "# Chapter 21 - Code and Exercises - Notebook \\#1\n",
    "Code, exercises, and experiments from chapter 21 of \"Advances in Financial Machine Learning\" by Marcos López de Prado (2018)."
   ]
  },
  {
   "cell_type": "code",
   "execution_count": 1,
   "metadata": {},
   "outputs": [],
   "source": [
    "# Imports.\n",
    "import time\n",
    "import numpy as np\n",
    "import pandas as pd\n",
    "\n",
    "from itertools import combinations_with_replacement, product\n",
    "\n",
    "from mlfinlab.brute_force.combinatorial_opt import *\n",
    "from mlfinlab.brute_force.comb_opt_example import *"
   ]
  },
  {
   "cell_type": "markdown",
   "metadata": {},
   "source": [
    "---\n",
    "## 21.5 AN INTERGER OPTIMIZATION APPROACH\n",
    "Reframing the asset allocation problem by discretizing the funds available. Consider the number of ways one can allocate $K$ units of capital in $N$ assets, where we assume $K>N$. Essentially we want to find the number of of non-negative integer solutions (though zero is still seems to be a possibility) to $x_1+...+x_N=K$, which has a combinatorial solution $\\binom{K+N-1}{N-1}$.\n",
    "\n",
    "While this bears similarity to a classic integer partitioning problem, note here that order *is* important, since the assets to which capital is allocated is encoded by the order of the permutation. For example, if $K=6$, then partitions $(1,2,3)$ and $(3,2,1)$ are very different ways of allocating units of capital between assets $(x_1, x_2, x_3)$.\n",
    "\n",
    "Code snippets 21.1, 21.2, and 21.3 are implemented in `mlfinlab.brute_force.combinatorial_opt`, which are algorithms to generate the set of all partitions, $p^{N,K} = \\{ \\{ p_i \\}_{i=1,...,N} | p_i \\in \\mathbb{W}, \\sum_{i=1}^{N} p_i = K \\}$, where $\\mathbb{W}$ are the set of natural numbers including zero (whole numbers)."
   ]
  },
  {
   "cell_type": "markdown",
   "metadata": {},
   "source": [
    "---\n",
    "## 21.6 A NUMERICAL EXAMPLE\n",
    "Code snippets 21.4, 21.5, and 21.6, which contain functions, are implemented in `mlfinlab.brute_force.comb_opt_example`. The cells below employ these functions to execute the numberical example of dynamic portfolio optimization.\n",
    "\n",
    "#### Step 1 - **Generate the problem's parameters**"
   ]
  },
  {
   "cell_type": "code",
   "execution_count": 2,
   "metadata": {},
   "outputs": [],
   "source": [
    "size, horizon = 3, 2\n",
    "params = []\n",
    "\n",
    "for h in range(horizon):\n",
    "    X = random_matrix_with_rank(n_samples=1000, n_cols=3, rank=3, sigma=0.0)\n",
    "    mean_ = gen_mean(size=size)\n",
    "    cov_ = np.cov(X, rowvar=False)\n",
    "    c_ = np.random.uniform(size=cov_.shape[0])*np.diag(cov_)**0.5\n",
    "    params.append({'mean': mean_, 'cov': cov_, 'c': c_})"
   ]
  },
  {
   "cell_type": "markdown",
   "metadata": {},
   "source": [
    "#### Step 2 - **Compute and evaluate the static solutions**"
   ]
  },
  {
   "cell_type": "code",
   "execution_count": 3,
   "metadata": {},
   "outputs": [
    {
     "name": "stdout",
     "output_type": "stream",
     "text": [
      "Static Sharpe Ratio: -0.5969340385024577\n"
     ]
    }
   ],
   "source": [
    "w_stat = None\n",
    "\n",
    "for param in params:\n",
    "    w_ = stat_opt_portf(cov=param['cov'], a=param['mean'])\n",
    "    if w_stat is None:\n",
    "        w_stat = w_.copy()\n",
    "    else:\n",
    "        w_stat = np.append(w_stat, w_, axis=1)\n",
    "\n",
    "t_cost_stat = evaluate_t_costs(w_stat, params)\n",
    "sr_stat = evaluate_sr(params, w_stat, t_cost_stat)\n",
    "print(f\"Static Sharpe Ratio: {sr_stat}\")"
   ]
  },
  {
   "cell_type": "markdown",
   "metadata": {},
   "source": [
    "#### Step 3 - **Compute and evaluate the dynamic solution**"
   ]
  },
  {
   "cell_type": "code",
   "execution_count": 4,
   "metadata": {},
   "outputs": [
    {
     "name": "stdout",
     "output_type": "stream",
     "text": [
      "Dynamic Sharpe Ratio: 0.8714985128888302\n"
     ]
    }
   ],
   "source": [
    "w_dynamic = dynamic_optimal_portfolio(params)\n",
    "t_cost_dynamic = evaluate_t_costs(w_dynamic, params)\n",
    "sr_dynamic = evaluate_sr(params, w_dynamic, t_cost_dynamic)\n",
    "print(f\"Dynamic Sharpe Ratio: {sr_dynamic}\")"
   ]
  },
  {
   "cell_type": "code",
   "execution_count": null,
   "metadata": {},
   "outputs": [],
   "source": []
  },
  {
   "cell_type": "code",
   "execution_count": null,
   "metadata": {},
   "outputs": [],
   "source": []
  }
 ],
 "metadata": {
  "kernelspec": {
   "display_name": "mlfinlab",
   "language": "python",
   "name": "mlfinlab"
  },
  "language_info": {
   "codemirror_mode": {
    "name": "ipython",
    "version": 3
   },
   "file_extension": ".py",
   "mimetype": "text/x-python",
   "name": "python",
   "nbconvert_exporter": "python",
   "pygments_lexer": "ipython3",
   "version": "3.6.8"
  }
 },
 "nbformat": 4,
 "nbformat_minor": 4
}
