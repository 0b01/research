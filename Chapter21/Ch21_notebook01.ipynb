{
 "cells": [
  {
   "cell_type": "markdown",
   "metadata": {},
   "source": [
    "# Chapter 21 - Code and Exercises - Notebook \\#1\n",
    "Code, exercises, and experiments from chapter 21 of \"Advances in Financial Machine Learning\" by Marcos López de Prado (2018)."
   ]
  },
  {
   "cell_type": "code",
   "execution_count": 29,
   "metadata": {},
   "outputs": [],
   "source": [
    "# Imports.\n",
    "import time\n",
    "import numpy as np\n",
    "import pandas as pd\n",
    "\n",
    "from itertools import combinations_with_replacement, product\n",
    "\n",
    "from mlfinlab.brute_force.combinatorial_opt import *\n",
    "from mlfinlab.brute_force.comb_opt_example import *"
   ]
  },
  {
   "cell_type": "markdown",
   "metadata": {},
   "source": [
    "---\n",
    "## 21.5 AN INTERGER OPTIMIZATION APPROACH\n",
    "Reframing the asset allocation problem by discretizing the funds available. Consider the number of ways one can allocate $K$ units of capital in $N$ assets, where we assume $K>N$. Essentially we want to find the number of of non-negative integer solutions (though zero is still seems to be a possibility) to $x_1+...+x_N=K$, which has a combinatorial solution $\\binom{K+N-1}{N-1}$.\n",
    "\n",
    "While this bears similarity to a classic integer partitioning problem, note here that order *is* important, since the assets to which capital is allocated is encoded by the order of the permutation. For example, if $K=6$, then partitions $(1,2,3)$ and $(3,2,1)$ are very different ways of allocating units of capital between assets $(x_1, x_2, x_3)$.\n",
    "\n",
    "Code snippets 21.1, 21.2, and 21.3 are implemented in `mlfinlab.brute_force.combinatorial_opt`, which are algorithms to generate the set of all partitions, $p^{N,K} = \\{ \\{ p_i \\}_{i=1,...,N} | p_i \\in \\mathbb{W}, \\sum_{i=1}^{N} p_i = K \\}$, where $\\mathbb{W}$ are the set of natural numbers including zero (whole numbers)."
   ]
  },
  {
   "cell_type": "markdown",
   "metadata": {},
   "source": [
    "---\n",
    "## 21.6 A NUMERICAL EXAMPLE\n",
    "The code snippets below are used to generate matrices of random values for use in the portfolio optimization problem described in chapter 21. The code written above is used to solve for the dynamically optimal portfolio."
   ]
  },
  {
   "cell_type": "code",
   "execution_count": 83,
   "metadata": {},
   "outputs": [],
   "source": [
    "# SNIPPET 21.4. PRODUCE A RANDOM MATRIX OF A GIVEN RANK\n",
    "# =====================================================\n",
    "def random_matrix_with_rank(n_samples, n_cols, rank, sigma=0, hom_noise=True):\n",
    "    \"\"\"\n",
    "    Produce a random 'n_samples'-by-'n_cols' matrix 'X' with given rank,\n",
    "    and apply a specified random noise.\n",
    "    \n",
    "    :param n_samples: (int) Number of rows to appear in the matrix.\n",
    "    :param n_cols: (int) Number of column to appear in the matrix.\n",
    "    :param rank: (int) The rank of the matrix.\n",
    "    :param sigma: (float) The variance of the noise to be produced.\n",
    "    :param hom_noise: (bool) Whether or not to add homoscedastic noise.\n",
    "     If False, the added noise is heterscedastic.\n",
    "    :return: (numpy.array) The array 'X'.\n",
    "    \"\"\"\n",
    "    rng = np.random.RandomState()\n",
    "    U, _, _ = np.linalg.svd(rng.randn(n_cols, n_cols))\n",
    "    X = np.dot(rng.randn(n_samples, rank), U[:, :rank].T)\n",
    "    if hom_noise:\n",
    "        X += sigma * rng.randn(n_samples, n_cols)  # Adding homoscedastic noise.\n",
    "    else:\n",
    "        sigmas = sigma * (rng.rand(n_cols)+.5)  # Adding heteroscedastic noise.\n",
    "        X += rng.randn(n_samples, n_cols) * sigmas\n",
    "    return X"
   ]
  },
  {
   "cell_type": "code",
   "execution_count": 85,
   "metadata": {},
   "outputs": [
    {
     "data": {
      "text/plain": [
       "array([[-0.39688496,  0.99431002, -0.21017588],\n",
       "       [ 0.91928988, -1.10951248, -1.32584739]])"
      ]
     },
     "execution_count": 85,
     "metadata": {},
     "output_type": "execute_result"
    }
   ],
   "source": [
    "random_matrix_with_rank(2, 3, 2)"
   ]
  },
  {
   "cell_type": "code",
   "execution_count": 9,
   "metadata": {},
   "outputs": [
    {
     "data": {
      "text/plain": [
       "[0, 1, 2]"
      ]
     },
     "execution_count": 9,
     "metadata": {},
     "output_type": "execute_result"
    }
   ],
   "source": []
  },
  {
   "cell_type": "code",
   "execution_count": 33,
   "metadata": {},
   "outputs": [
    {
     "data": {
      "text/plain": [
       "False"
      ]
     },
     "execution_count": 33,
     "metadata": {},
     "output_type": "execute_result"
    }
   ],
   "source": [
    "w = 5\n",
    "w is None"
   ]
  },
  {
   "cell_type": "code",
   "execution_count": null,
   "metadata": {},
   "outputs": [],
   "source": []
  },
  {
   "cell_type": "code",
   "execution_count": null,
   "metadata": {},
   "outputs": [],
   "source": []
  }
 ],
 "metadata": {
  "kernelspec": {
   "display_name": "mlfinlab",
   "language": "python",
   "name": "mlfinlab"
  },
  "language_info": {
   "codemirror_mode": {
    "name": "ipython",
    "version": 3
   },
   "file_extension": ".py",
   "mimetype": "text/x-python",
   "name": "python",
   "nbconvert_exporter": "python",
   "pygments_lexer": "ipython3",
   "version": "3.6.8"
  }
 },
 "nbformat": 4,
 "nbformat_minor": 4
}
