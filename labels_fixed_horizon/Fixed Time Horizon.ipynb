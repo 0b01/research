{
 "cells": [
  {
   "cell_type": "markdown",
   "metadata": {},
   "source": [
    "## Labeling: Fixed Horizon"
   ]
  },
  {
   "cell_type": "markdown",
   "metadata": {},
   "source": [
    "Originally described in the book Advances in Financial Machine Learning, Chapter 3.2, pp.43-44, by Marcos Lopez de Prado\n",
    "\n",
    "Work [__\"Classification-based Financial Markets Prediction using Deep Neural Networks\"__](https://arxiv.org/abs/1603.08604) by _Dixon et al._ (2016) describes how\n",
    "labeling data this way can be used in training deep neural networks to predict price movements.\" "
   ]
  },
  {
   "cell_type": "markdown",
   "metadata": {},
   "source": [
    "## Introduction"
   ]
  },
  {
   "cell_type": "markdown",
   "metadata": {},
   "source": [
    "Fixed Horizon is a labelling technique in which time-indexed data is labeled according to whether it exceeds, falls in between, or is less than a threshold. This method is most commonly used with time bars, but also be applied to any time-indexed data such as dollar or volume bars. The subsequent labelled data can then be used as training and test data for ML algorithms."
   ]
  },
  {
   "cell_type": "markdown",
   "metadata": {},
   "source": [
    "## How it works"
   ]
  },
  {
   "cell_type": "markdown",
   "metadata": {},
   "source": [
    "Fixed time horizon is a common method used in labeling financial data, usually applied on time bars. The forward rate of return relative\n",
    "to $t_0$ over time horizon $h$ is calculated as follows:\n",
    "\n",
    "\n",
    "   $$r_{t0,t1} = \\frac{p_{t1}}{p_{t0}} - 1$$\n",
    "\n",
    "Where $t_1 = t_0 + h$ is the time bar index after a fixed horizon of $h$ ticks have passed, and $p_{t0}, p_{t1}$\n",
    "are prices at times $t_0, t_1$. This method assigns a label based on comparison of rate of return to a threshold $\\tau$:\n",
    "\n",
    "$$\n",
    "     \\begin{equation}\n",
    "     \\begin{split}\n",
    "       L_{t0, t1} = \\begin{cases}\n",
    "       -1 &\\ \\text{if} \\ \\ r_{t0, t1} < -\\tau\\\\\n",
    "       0 &\\ \\text{if} \\ \\ -\\tau \\leq r_{t0, t1} \\leq \\tau\\\\\n",
    "       1 &\\ \\text{if} \\ \\ r_{t0, t1} > \\tau\n",
    "       \\end{cases}\n",
    "     \\end{split}\n",
    "     \\end{equation}\n",
    "$$\n",
    "\n",
    "Though time bars are the most common format for financial data, there can be potential problems with over reliance on time bars. First,\n",
    "time bars exhibit high seasonality, as trading behavior may be quite different at the open or close versus midday; thus it will not be\n",
    "informative to apply the same thershold on non-uniform distribution. Solutions include applying the fixed horizon method to tick or\n",
    "volume bars instead of time bars, using data sampled at the same time every day (e.g. closing prices) or inputting a dynamic threshold\n",
    "as a pd.Series corresponding to the times in the dataset. If desired, a pd.DataFrame-like object can be passed to scale the data by\n",
    "known mean and standard deviation for the given time index."
   ]
  },
  {
   "cell_type": "markdown",
   "metadata": {},
   "source": [
    "### Examples of use"
   ]
  },
  {
   "cell_type": "code",
   "execution_count": 1,
   "metadata": {},
   "outputs": [],
   "source": [
    "import numpy as np\n",
    "import pandas as pd\n",
    "import yfinance as yf\n",
    "\n",
    "from mlfinlab.labeling import fixed_time_horizon"
   ]
  },
  {
   "cell_type": "code",
   "execution_count": 2,
   "metadata": {},
   "outputs": [
    {
     "data": {
      "text/plain": [
       "Date\n",
       "2010-01-04    24.29\n",
       "2010-01-05    24.30\n",
       "2010-01-06    24.15\n",
       "2010-01-07    23.90\n",
       "2010-01-08    24.07\n",
       "Name: Close, dtype: float64"
      ]
     },
     "execution_count": 2,
     "metadata": {},
     "output_type": "execute_result"
    }
   ],
   "source": [
    "# Load price data\n",
    "msft = yf.Ticker('MSFT')\n",
    "msft_df = msft.history(start='2010-1-1', end ='2020-5-18')\n",
    "\n",
    "close = msft_df['Close']\n",
    "close.head()"
   ]
  },
  {
   "cell_type": "code",
   "execution_count": 3,
   "metadata": {},
   "outputs": [
    {
     "data": {
      "text/plain": [
       "array([ 0.,  0., -1., ...,  0.,  1., nan])"
      ]
     },
     "execution_count": 3,
     "metadata": {},
     "output_type": "execute_result"
    }
   ],
   "source": [
    "# Getting labels for a constant threshold of 1%. Will return 1 if the daily return is greater than 1%, -1 if less than -1%, and \n",
    "# 0 if in between.\n",
    "fixed_time_horizon(close, 0.01, look_forward=1)"
   ]
  },
  {
   "cell_type": "markdown",
   "metadata": {},
   "source": [
    "A major problem with the fixed time horizon method is the __seasonality__ of the data. Time bars in the middle of the trading day would look very different than those at the open or close. One way to get around this is to only use data which has been collected at the same time per day, such as close prices. Another method is to apply a dynamic threshold which can adjust for such differences. Even though the data here is for close only, we will apply a dynamic threshold using the return of SPY for market return, and label based comparison of returns between MSFT and SPY for each time period.\n",
    "\n"
   ]
  },
  {
   "cell_type": "code",
   "execution_count": 4,
   "metadata": {},
   "outputs": [
    {
     "data": {
      "text/plain": [
       "Date\n",
       "2010-01-04    0.000412\n",
       "2010-01-05   -0.006173\n",
       "2010-01-06   -0.010352\n",
       "2010-01-07    0.007113\n",
       "2010-01-08   -0.012879\n",
       "Name: Close, dtype: float64"
      ]
     },
     "execution_count": 4,
     "metadata": {},
     "output_type": "execute_result"
    }
   ],
   "source": [
    "spy = yf.Ticker('MSFT')\n",
    "spy_df = msft.history(start='2010-1-1', end ='2020-5-18')\n",
    "market_close = spy_df['Close']\n",
    "\n",
    "market_returns = market_close.pct_change(1).shift(-1)\n",
    "market_returns.head()"
   ]
  },
  {
   "cell_type": "code",
   "execution_count": 5,
   "metadata": {},
   "outputs": [
    {
     "data": {
      "text/plain": [
       "array([ 0., -1., -1., ...,  0.,  0., nan])"
      ]
     },
     "execution_count": 5,
     "metadata": {},
     "output_type": "execute_result"
    }
   ],
   "source": [
    "fixed_time_horizon(close, market_returns, look_forward=1)"
   ]
  },
  {
   "cell_type": "markdown",
   "metadata": {},
   "source": [
    "Scaling each return by the mean and standard deviation is also a potential solution in getting around the non-homogeneaity of the data, as it could adjust for volatility differences between different bars. If standardization is desires, a rolling window must be given."
   ]
  },
  {
   "cell_type": "code",
   "execution_count": 6,
   "metadata": {},
   "outputs": [
    {
     "data": {
      "text/plain": [
       "array([nan, nan, nan, ...,  1.,  1., nan])"
      ]
     },
     "execution_count": 6,
     "metadata": {},
     "output_type": "execute_result"
    }
   ],
   "source": [
    "fixed_time_horizon(close, 0.005, look_forward=1, standardized=True, window=4)"
   ]
  },
  {
   "cell_type": "markdown",
   "metadata": {},
   "source": [
    "Warnings will be raised if look_forward or window is greater than the length of the data. In this case, the function will still run, but all labels will be NaN. An error is raised if standardized is set to True but the window is not specified correctly (as an int)."
   ]
  },
  {
   "cell_type": "code",
   "execution_count": 7,
   "metadata": {},
   "outputs": [
    {
     "name": "stderr",
     "output_type": "stream",
     "text": [
      "c:\\users\\ruifan\\mlfinlab\\mlfinlab\\labeling\\fixed_time_horizon.py:40: UserWarning: look_forward period is greater than the length of the Series. All labels will be NaN.\n",
      "  UserWarning)\n"
     ]
    },
    {
     "data": {
      "text/plain": [
       "array([nan, nan, nan, ..., nan, nan, nan])"
      ]
     },
     "execution_count": 7,
     "metadata": {},
     "output_type": "execute_result"
    }
   ],
   "source": [
    "fixed_time_horizon(close, 0.01, look_forward=99999999)"
   ]
  },
  {
   "cell_type": "code",
   "execution_count": 8,
   "metadata": {},
   "outputs": [
    {
     "name": "stderr",
     "output_type": "stream",
     "text": [
      "c:\\users\\ruifan\\mlfinlab\\mlfinlab\\labeling\\fixed_time_horizon.py:47: UserWarning: window is greater than the length of the Series. All labels will be NaN.\n",
      "  warnings.warn('window is greater than the length of the Series. All labels will be NaN.', UserWarning)\n"
     ]
    },
    {
     "data": {
      "text/plain": [
       "array([nan, nan, nan, ..., nan, nan, nan])"
      ]
     },
     "execution_count": 8,
     "metadata": {},
     "output_type": "execute_result"
    }
   ],
   "source": [
    "fixed_time_horizon(close, 0.01, look_forward=1, standardized=True, window=99999999)"
   ]
  },
  {
   "cell_type": "code",
   "execution_count": 9,
   "metadata": {},
   "outputs": [
    {
     "ename": "AssertionError",
     "evalue": "when standardized is True, window must be int",
     "output_type": "error",
     "traceback": [
      "\u001b[1;31m---------------------------------------------------------------------------\u001b[0m",
      "\u001b[1;31mAssertionError\u001b[0m                            Traceback (most recent call last)",
      "\u001b[1;32m<ipython-input-9-857b58450c0d>\u001b[0m in \u001b[0;36m<module>\u001b[1;34m\u001b[0m\n\u001b[1;32m----> 1\u001b[1;33m \u001b[0mfixed_time_horizon\u001b[0m\u001b[1;33m(\u001b[0m\u001b[0mclose\u001b[0m\u001b[1;33m,\u001b[0m \u001b[1;36m0.01\u001b[0m\u001b[1;33m,\u001b[0m \u001b[0mlook_forward\u001b[0m\u001b[1;33m=\u001b[0m\u001b[1;36m1\u001b[0m\u001b[1;33m,\u001b[0m \u001b[0mstandardized\u001b[0m\u001b[1;33m=\u001b[0m\u001b[1;32mTrue\u001b[0m\u001b[1;33m)\u001b[0m\u001b[1;33m\u001b[0m\u001b[1;33m\u001b[0m\u001b[0m\n\u001b[0m",
      "\u001b[1;32mc:\\users\\ruifan\\mlfinlab\\mlfinlab\\labeling\\fixed_time_horizon.py\u001b[0m in \u001b[0;36mfixed_time_horizon\u001b[1;34m(close, threshold, look_forward, standardized, window)\u001b[0m\n\u001b[0;32m     43\u001b[0m     \u001b[1;31m# too large.\u001b[0m\u001b[1;33m\u001b[0m\u001b[1;33m\u001b[0m\u001b[1;33m\u001b[0m\u001b[0m\n\u001b[0;32m     44\u001b[0m     \u001b[1;32mif\u001b[0m \u001b[0mstandardized\u001b[0m\u001b[1;33m:\u001b[0m\u001b[1;33m\u001b[0m\u001b[1;33m\u001b[0m\u001b[0m\n\u001b[1;32m---> 45\u001b[1;33m         \u001b[1;32massert\u001b[0m \u001b[0misinstance\u001b[0m\u001b[1;33m(\u001b[0m\u001b[0mwindow\u001b[0m\u001b[1;33m,\u001b[0m \u001b[0mint\u001b[0m\u001b[1;33m)\u001b[0m\u001b[1;33m,\u001b[0m \u001b[1;34m\"when standardized is True, window must be int\"\u001b[0m\u001b[1;33m\u001b[0m\u001b[1;33m\u001b[0m\u001b[0m\n\u001b[0m\u001b[0;32m     46\u001b[0m         \u001b[1;32mif\u001b[0m \u001b[0mwindow\u001b[0m \u001b[1;33m>=\u001b[0m \u001b[0mlen\u001b[0m\u001b[1;33m(\u001b[0m\u001b[0mforward_return\u001b[0m\u001b[1;33m)\u001b[0m\u001b[1;33m:\u001b[0m\u001b[1;33m\u001b[0m\u001b[1;33m\u001b[0m\u001b[0m\n\u001b[0;32m     47\u001b[0m             \u001b[0mwarnings\u001b[0m\u001b[1;33m.\u001b[0m\u001b[0mwarn\u001b[0m\u001b[1;33m(\u001b[0m\u001b[1;34m'window is greater than the length of the Series. All labels will be NaN.'\u001b[0m\u001b[1;33m,\u001b[0m \u001b[0mUserWarning\u001b[0m\u001b[1;33m)\u001b[0m\u001b[1;33m\u001b[0m\u001b[1;33m\u001b[0m\u001b[0m\n",
      "\u001b[1;31mAssertionError\u001b[0m: when standardized is True, window must be int"
     ]
    }
   ],
   "source": [
    "fixed_time_horizon(close, 0.01, look_forward=1, standardized=True)"
   ]
  },
  {
   "cell_type": "markdown",
   "metadata": {},
   "source": [
    "## Conclusion"
   ]
  },
  {
   "cell_type": "markdown",
   "metadata": {},
   "source": [
    "This notebook presents the fixed horizon method, a simple method of labeling data for later use in machine learning algorithms. In this process:\n",
    " - Forward rates of return for assets are calculated based on tick data, usually in the form of time bars\n",
    " - The forward return rate is compared to a threshold for the return. The threshold can be a constant, or a dynamic series corresponding to every timestamp in the data\n",
    " - Each observation is compared to the threshold, and is labeled -1 if it is below -threshold, 0 if it is between -threshold and +threshold, and 1 if it is greater than +threshold\n",
    "\n",
    "In Dixon's paper, the data is labelled using this method. Subsequently a neural network is trained to to predict the label based on the data. A simple trading strategy in which a long position is taken if a ticker is classified as 1, and short if it's classified at -1, can then be applied."
   ]
  },
  {
   "cell_type": "markdown",
   "metadata": {},
   "source": [
    "## References"
   ]
  },
  {
   "cell_type": "markdown",
   "metadata": {},
   "source": [
    "1. Dixon, M., Klabjan, D. and Jin Hoon, B., 2020. Classification-based Financial Markets Prediction using Deep Neural Networks. arXiv, [online] Available at: <https://arxiv.org/abs/1603.08604> \n",
    "\n",
    "2. López de Prado, M., 2018. Advances In Financial Machine Learning. pp.43-44.\n",
    "\n",
    "3. López de Prado, M., 2020. Machine Learning For Asset Managers. pp.65-66.\n"
   ]
  }
 ],
 "metadata": {
  "kernelspec": {
   "display_name": "Python 3",
   "language": "python",
   "name": "python3"
  },
  "language_info": {
   "codemirror_mode": {
    "name": "ipython",
    "version": 3
   },
   "file_extension": ".py",
   "mimetype": "text/x-python",
   "name": "python",
   "nbconvert_exporter": "python",
   "pygments_lexer": "ipython3",
   "version": "3.7.4"
  }
 },
 "nbformat": 4,
 "nbformat_minor": 2
}
