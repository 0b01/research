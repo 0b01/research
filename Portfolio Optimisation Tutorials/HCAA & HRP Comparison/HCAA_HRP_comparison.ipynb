{
 "cells": [
  {
   "cell_type": "code",
   "execution_count": null,
   "metadata": {},
   "outputs": [],
   "source": [
    "\"\"\"\n",
    "TODO:\n",
    "- resize all graphs\n",
    "- proofread all paragraphs\n",
    "- dive into theory and understand why the results are the way they are\n",
    "- plot both algorithms next to each other with explanations as to why \n",
    "  they are different and the advantages/distadvantages of each\n",
    "- clean the code (pep 8) and add comments to everything\n",
    "\"\"\""
   ]
  },
  {
   "cell_type": "markdown",
   "metadata": {},
   "source": [
    "## HCAA vs. HRP Comparison [change title]\n",
    "\n",
    "## Abstract\n",
    "This tutorial notebook will demonstrate the differences between the Hierarchical Clustering Asset Allocation and the Hierarchical Risk Party algorithms, applied through the MlFinLab library. Readers will be taken through how they can construct optimal portfolios utilizing both algorithms while understanding the main differences which separate them.\n",
    "\n",
    "## Introduction\n",
    "\n",
    "This tutorial notebook will serve as a comparison notebook demonstrating the differences between Thomas Raffinot's __[Hierarchical Equal Risk Contribution](https://papers.ssrn.com/sol3/papers.cfm?abstract_id=3237540)__ (HERC) and Dr. Marcos Lopez de Prado's __[Hierarchical Risk Parity](https://hudsonthames.org/an-introduction-to-the-hierarchical-risk-parity-algorithm/)__ (HRP) algorithms. \n",
    "\n",
    "### Hierarchical Equal Risk Contribution\n",
    "From Raffinot's description of the HERC algorithm, we can distill the HERC algorithm down into four steps:\n",
    "1. Hierarchical clustering\n",
    "2. Selecting the optimal number of clusters\n",
    "3. Top-Down recursive bisection\n",
    "4. Implement Naive Risk Parity within clusters to allocate weights to each asset\n",
    "\n",
    "\n",
    "### Hierarchical Risk Parity\n",
    "The HRP algorithm is quite similar to the HCAA algorithm as they both use a hierarchical clustering technique at the beginning. Although, the algorithms differ in the latter steps. From Dr. Lopez de Prado, we can break down the HRP algorithm into three main steps:\n",
    "1. Hierarchical clustering\n",
    "2. Quasi-diagonalization\n",
    "3. Recursive bisection\n",
    "\n",
    "[add closing remarks and more info if needed]"
   ]
  },
  {
   "cell_type": "code",
   "execution_count": 1,
   "metadata": {},
   "outputs": [],
   "source": [
    "# importing our required libraries\n",
    "import pandas as pd\n",
    "import numpy as np\n",
    "import matplotlib.pyplot as plt\n",
    "import yfinance as yf\n",
    "from mlfinlab.portfolio_optimization.hcaa import HierarchicalClusteringAssetAllocation\n",
    "from mlfinlab.portfolio_optimization.hrp import HierarchicalRiskParity"
   ]
  },
  {
   "cell_type": "markdown",
   "metadata": {},
   "source": [
    "## The Data\n",
    "All stock data in this tutorial was accesssed through the yfinance library. To learn more about the yfinance library and how to install it, please refer to the official project description __[here](https://pypi.org/project/yfinance/)__. In this tutorial, we will be working with 5-year historical closing-price data from Apple, Amazon, Facebook, Google, IBM, Microsoft, Netflix, Oracle, and Tesla. Note that the data must be in a Pandas dataframe indexed by date."
   ]
  },
  {
   "cell_type": "code",
   "execution_count": 2,
   "metadata": {},
   "outputs": [
    {
     "name": "stdout",
     "output_type": "stream",
     "text": [
      "[*********************100%***********************]  9 of 9 completed\n"
     ]
    },
    {
     "data": {
      "text/html": [
       "<div>\n",
       "<style scoped>\n",
       "    .dataframe tbody tr th:only-of-type {\n",
       "        vertical-align: middle;\n",
       "    }\n",
       "\n",
       "    .dataframe tbody tr th {\n",
       "        vertical-align: top;\n",
       "    }\n",
       "\n",
       "    .dataframe thead th {\n",
       "        text-align: right;\n",
       "    }\n",
       "</style>\n",
       "<table border=\"1\" class=\"dataframe\">\n",
       "  <thead>\n",
       "    <tr style=\"text-align: right;\">\n",
       "      <th></th>\n",
       "      <th>AAPL</th>\n",
       "      <th>AMZN</th>\n",
       "      <th>FB</th>\n",
       "      <th>GOOGL</th>\n",
       "      <th>IBM</th>\n",
       "      <th>MSFT</th>\n",
       "      <th>NFLX</th>\n",
       "      <th>ORCL</th>\n",
       "      <th>TSLA</th>\n",
       "    </tr>\n",
       "    <tr>\n",
       "      <th>Date</th>\n",
       "      <th></th>\n",
       "      <th></th>\n",
       "      <th></th>\n",
       "      <th></th>\n",
       "      <th></th>\n",
       "      <th></th>\n",
       "      <th></th>\n",
       "      <th></th>\n",
       "      <th></th>\n",
       "    </tr>\n",
       "  </thead>\n",
       "  <tbody>\n",
       "    <tr>\n",
       "      <th>2019-12-31</th>\n",
       "      <td>293.649994</td>\n",
       "      <td>1847.839966</td>\n",
       "      <td>205.250000</td>\n",
       "      <td>1339.390015</td>\n",
       "      <td>134.039993</td>\n",
       "      <td>157.699997</td>\n",
       "      <td>323.570007</td>\n",
       "      <td>52.980000</td>\n",
       "      <td>418.329987</td>\n",
       "    </tr>\n",
       "    <tr>\n",
       "      <th>2019-12-30</th>\n",
       "      <td>291.519989</td>\n",
       "      <td>1846.890015</td>\n",
       "      <td>204.410004</td>\n",
       "      <td>1339.709961</td>\n",
       "      <td>132.809998</td>\n",
       "      <td>157.589996</td>\n",
       "      <td>323.309998</td>\n",
       "      <td>52.700001</td>\n",
       "      <td>414.700012</td>\n",
       "    </tr>\n",
       "    <tr>\n",
       "      <th>2019-12-27</th>\n",
       "      <td>289.799988</td>\n",
       "      <td>1869.800049</td>\n",
       "      <td>208.100006</td>\n",
       "      <td>1354.640015</td>\n",
       "      <td>135.270004</td>\n",
       "      <td>158.960007</td>\n",
       "      <td>329.089996</td>\n",
       "      <td>53.459999</td>\n",
       "      <td>430.380005</td>\n",
       "    </tr>\n",
       "    <tr>\n",
       "      <th>2019-12-26</th>\n",
       "      <td>289.910004</td>\n",
       "      <td>1868.770020</td>\n",
       "      <td>207.789993</td>\n",
       "      <td>1362.469971</td>\n",
       "      <td>134.910004</td>\n",
       "      <td>158.669998</td>\n",
       "      <td>332.630005</td>\n",
       "      <td>53.570000</td>\n",
       "      <td>430.940002</td>\n",
       "    </tr>\n",
       "    <tr>\n",
       "      <th>2019-12-24</th>\n",
       "      <td>284.269989</td>\n",
       "      <td>1789.209961</td>\n",
       "      <td>205.119995</td>\n",
       "      <td>1344.430054</td>\n",
       "      <td>134.979996</td>\n",
       "      <td>157.380005</td>\n",
       "      <td>333.200012</td>\n",
       "      <td>53.439999</td>\n",
       "      <td>425.250000</td>\n",
       "    </tr>\n",
       "  </tbody>\n",
       "</table>\n",
       "</div>"
      ],
      "text/plain": [
       "                  AAPL         AMZN          FB        GOOGL         IBM  \\\n",
       "Date                                                                       \n",
       "2019-12-31  293.649994  1847.839966  205.250000  1339.390015  134.039993   \n",
       "2019-12-30  291.519989  1846.890015  204.410004  1339.709961  132.809998   \n",
       "2019-12-27  289.799988  1869.800049  208.100006  1354.640015  135.270004   \n",
       "2019-12-26  289.910004  1868.770020  207.789993  1362.469971  134.910004   \n",
       "2019-12-24  284.269989  1789.209961  205.119995  1344.430054  134.979996   \n",
       "\n",
       "                  MSFT        NFLX       ORCL        TSLA  \n",
       "Date                                                       \n",
       "2019-12-31  157.699997  323.570007  52.980000  418.329987  \n",
       "2019-12-30  157.589996  323.309998  52.700001  414.700012  \n",
       "2019-12-27  158.960007  329.089996  53.459999  430.380005  \n",
       "2019-12-26  158.669998  332.630005  53.570000  430.940002  \n",
       "2019-12-24  157.380005  333.200012  53.439999  425.250000  "
      ]
     },
     "execution_count": 2,
     "metadata": {},
     "output_type": "execute_result"
    }
   ],
   "source": [
    "raw_prices = yf.download(\"AAPL AMZN FB MSFT NFLX TSLA GOOGL ORCL IBM\", start='2015-01-01', end='2020-01-01')\n",
    "stock_prices = raw_prices.iloc[::-1]\n",
    "stock_prices = stock_prices['Close']\n",
    "stock_prices.head()"
   ]
  },
  {
   "cell_type": "markdown",
   "metadata": {},
   "source": [
    "## HCAA Portfolio Build\n",
    "The HCAA portfolio in this example will be built utilizing the HierarchicalClusteringAssetAllocation() class provided through MlFinLab. In order to implement this portfolio optimization, we will run the allocate method with three parameters:\n",
    "1. asset_names (a list of strings containing the asset names)\n",
    "2. asset_prices (a dataframe of historical asset prices - daily close)\n",
    "3. allocation_metric (the type of solution/algorithm to use to calculate the weights)\n",
    "\n",
    "Please keep in mind that we are only working with these three parameters for simplicity. The MlFinLab library supports many more customizable parameters which can be used as well. Users can also specify:\n",
    "1. A covariance matrix and expected asset returns instead of historical prices\n",
    "2. The type of linkage algorithm being used\n",
    "3. The optimal number of clusters for hierarchical clustering\n",
    "4. The confidence level for calculating expected shortfall and conditional drawdown at risk\n",
    "5. The method to use for calculation of expected returns\n",
    "\n",
    "If you would like to learn more about this implementation and how you can utilize these additional parameters, please refer to the __[official documentation](https://mlfinlab.readthedocs.io/en/latest/portfolio_optimisation/hierarchical_clustering_asset_allocation.html)__. "
   ]
  },
  {
   "cell_type": "code",
   "execution_count": 11,
   "metadata": {},
   "outputs": [
    {
     "data": {
      "text/html": [
       "<div>\n",
       "<style scoped>\n",
       "    .dataframe tbody tr th:only-of-type {\n",
       "        vertical-align: middle;\n",
       "    }\n",
       "\n",
       "    .dataframe tbody tr th {\n",
       "        vertical-align: top;\n",
       "    }\n",
       "\n",
       "    .dataframe thead th {\n",
       "        text-align: right;\n",
       "    }\n",
       "</style>\n",
       "<table border=\"1\" class=\"dataframe\">\n",
       "  <thead>\n",
       "    <tr style=\"text-align: right;\">\n",
       "      <th></th>\n",
       "      <th>NFLX</th>\n",
       "      <th>AAPL</th>\n",
       "      <th>FB</th>\n",
       "      <th>AMZN</th>\n",
       "      <th>GOOGL</th>\n",
       "      <th>MSFT</th>\n",
       "      <th>TSLA</th>\n",
       "      <th>IBM</th>\n",
       "      <th>ORCL</th>\n",
       "    </tr>\n",
       "  </thead>\n",
       "  <tbody>\n",
       "    <tr>\n",
       "      <th>0</th>\n",
       "      <td>0.163349</td>\n",
       "      <td>0.122996</td>\n",
       "      <td>0.123826</td>\n",
       "      <td>0.184225</td>\n",
       "      <td>0.068371</td>\n",
       "      <td>0.18815</td>\n",
       "      <td>0.060523</td>\n",
       "      <td>0.066627</td>\n",
       "      <td>0.021933</td>\n",
       "    </tr>\n",
       "  </tbody>\n",
       "</table>\n",
       "</div>"
      ],
      "text/plain": [
       "       NFLX      AAPL        FB      AMZN     GOOGL     MSFT      TSLA  \\\n",
       "0  0.163349  0.122996  0.123826  0.184225  0.068371  0.18815  0.060523   \n",
       "\n",
       "        IBM      ORCL  \n",
       "0  0.066627  0.021933  "
      ]
     },
     "execution_count": 11,
     "metadata": {},
     "output_type": "execute_result"
    }
   ],
   "source": [
    "# HCAA portfolio\n",
    "hcaa = HierarchicalClusteringAssetAllocation()\n",
    "hcaa.allocate(asset_names=stock_prices.columns,\n",
    "              asset_prices=stock_prices,\n",
    "              allocation_metric='minimum_variance')\n",
    "hcaa.weights"
   ]
  },
  {
   "cell_type": "code",
   "execution_count": 12,
   "metadata": {},
   "outputs": [
    {
     "data": {
      "image/png": "[encoded data removed]",
      "text/plain": [
       "<Figure size 1224x504 with 1 Axes>"
      ]
     },
     "metadata": {
      "needs_background": "light"
     },
     "output_type": "display_data"
    }
   ],
   "source": [
    "# plotting our HCAA portfolio\n",
    "hcaa_weights = hcaa.weights[sorted(hcaa.weights)]\n",
    "hcaa_weights = hcaa_weights.values.tolist()\n",
    "hcaa_weights = [item for sublist in hcaa_weights for item in sublist]\n",
    "y_pos = np.arange(len(stock_prices.columns))\n",
    "\n",
    "plt.figure(figsize=(17,7))\n",
    "plt.bar(y_pos, hcaa_weights)\n",
    "plt.xticks(y_pos, sorted(hcaa.weights))\n",
    "plt.xlabel('Stocks')\n",
    "plt.ylabel('Portfolio Weights')\n",
    "plt.title('HCAA Portfolio - Minimum Variance')\n",
    "plt.show()"
   ]
  },
  {
   "cell_type": "markdown",
   "metadata": {},
   "source": [
    "## HRP Portfolio Build\n",
    "The HRP portfolio in this example will be built through the HierarchicalRiskParty() class provided through MlFinLab. Slightly different from the HCAA implementation, the HRP portfolio build will utilize the following two parameters:\n",
    "1. asset_names (a list of strings containing the asset names)\n",
    "2. asset_prices (a dataframe of historical asset prices - daily close)\n",
    "\n",
    "Similarly to the HCAA implementation, users also have acces to a great degree of customizability when working with the HRP implementation. Specificaly, MlFinLab allows users to specify:\n",
    "1. Whether to shrink the covariance or not\n",
    "2. How to resample the prices if needed\n",
    "3. The type of linkage algorithm being used for clustering\n",
    "\n",
    "Additionally, users can provide a matrix of asset returns, a covariance matrix of asset returns, and a distance matrix instead of the raw historical prices if they like. For simplicity, we will only be working with the two necessary parameters, the asset names and the asset prices.\n",
    "\n",
    "If you would like to learn more about the HRP implementation, please refer to the __[official documentation](https://mlfinlab.readthedocs.io/en/latest/portfolio_optimisation/hierarchical_risk_parity.html)__."
   ]
  },
  {
   "cell_type": "code",
   "execution_count": 5,
   "metadata": {},
   "outputs": [
    {
     "data": {
      "text/html": [
       "<div>\n",
       "<style scoped>\n",
       "    .dataframe tbody tr th:only-of-type {\n",
       "        vertical-align: middle;\n",
       "    }\n",
       "\n",
       "    .dataframe tbody tr th {\n",
       "        vertical-align: top;\n",
       "    }\n",
       "\n",
       "    .dataframe thead th {\n",
       "        text-align: right;\n",
       "    }\n",
       "</style>\n",
       "<table border=\"1\" class=\"dataframe\">\n",
       "  <thead>\n",
       "    <tr style=\"text-align: right;\">\n",
       "      <th></th>\n",
       "      <th>TSLA</th>\n",
       "      <th>IBM</th>\n",
       "      <th>NFLX</th>\n",
       "      <th>ORCL</th>\n",
       "      <th>AAPL</th>\n",
       "      <th>FB</th>\n",
       "      <th>AMZN</th>\n",
       "      <th>GOOGL</th>\n",
       "      <th>MSFT</th>\n",
       "    </tr>\n",
       "  </thead>\n",
       "  <tbody>\n",
       "    <tr>\n",
       "      <th>0</th>\n",
       "      <td>0.050421</td>\n",
       "      <td>0.234809</td>\n",
       "      <td>0.057192</td>\n",
       "      <td>0.216662</td>\n",
       "      <td>0.119478</td>\n",
       "      <td>0.090569</td>\n",
       "      <td>0.081852</td>\n",
       "      <td>0.073723</td>\n",
       "      <td>0.075294</td>\n",
       "    </tr>\n",
       "  </tbody>\n",
       "</table>\n",
       "</div>"
      ],
      "text/plain": [
       "       TSLA       IBM      NFLX      ORCL      AAPL        FB      AMZN  \\\n",
       "0  0.050421  0.234809  0.057192  0.216662  0.119478  0.090569  0.081852   \n",
       "\n",
       "      GOOGL      MSFT  \n",
       "0  0.073723  0.075294  "
      ]
     },
     "execution_count": 5,
     "metadata": {},
     "output_type": "execute_result"
    }
   ],
   "source": [
    "# HRP portfolio\n",
    "hrp = HierarchicalRiskParity()\n",
    "hrp.allocate(asset_names=stock_prices.columns,\n",
    "             asset_prices=stock_prices)\n",
    "hrp.weights"
   ]
  },
  {
   "cell_type": "code",
   "execution_count": 6,
   "metadata": {},
   "outputs": [
    {
     "data": {
      "image/png": "[encoded data removed]",
      "text/plain": [
       "<Figure size 1224x504 with 1 Axes>"
      ]
     },
     "metadata": {
      "needs_background": "light"
     },
     "output_type": "display_data"
    }
   ],
   "source": [
    "# plotting our HRP portfolio\n",
    "hrp_weights = hrp.weights[sorted(hrp.weights)]\n",
    "hrp_weights = hrp_weights.values.tolist()\n",
    "hrp_weights = [item for sublist in hrp_weights for item in sublist]\n",
    "y_pos = np.arange(len(stock_prices.columns))\n",
    "\n",
    "plt.figure(figsize=(17,7))\n",
    "plt.bar(y_pos, hrp_weights)\n",
    "plt.xticks(y_pos, sorted(hrp.weights))\n",
    "plt.xlabel('Stocks')\n",
    "plt.ylabel('Portfolio Weights')\n",
    "plt.title('HRP Portfolio')\n",
    "plt.show()"
   ]
  },
  {
   "cell_type": "markdown",
   "metadata": {},
   "source": [
    "We can also take advantage of the plot_clusters method to visualize the portfolio clusters through a dendrogram"
   ]
  },
  {
   "cell_type": "code",
   "execution_count": 7,
   "metadata": {},
   "outputs": [
    {
     "data": {
      "image/png": "[encoded data removed]",
      "text/plain": [
       "<Figure size 432x288 with 1 Axes>"
      ]
     },
     "metadata": {
      "needs_background": "light"
     },
     "output_type": "display_data"
    }
   ],
   "source": [
    "hrp.plot_clusters(stock_prices.columns)\n",
    "plt.show()"
   ]
  },
  {
   "cell_type": "markdown",
   "metadata": {},
   "source": [
    "## Comparison\n",
    "\n",
    "[provide insights as to why the results were what they were]\n",
    "\n",
    "[maybe provide more examples]"
   ]
  },
  {
   "cell_type": "code",
   "execution_count": null,
   "metadata": {},
   "outputs": [],
   "source": []
  },
  {
   "cell_type": "markdown",
   "metadata": {},
   "source": [
    "## Conclusion\n",
    "\n",
    "[insert conclusion here]"
   ]
  },
  {
   "cell_type": "code",
   "execution_count": null,
   "metadata": {},
   "outputs": [],
   "source": []
  },
  {
   "cell_type": "code",
   "execution_count": null,
   "metadata": {},
   "outputs": [],
   "source": []
  },
  {
   "cell_type": "code",
   "execution_count": null,
   "metadata": {},
   "outputs": [],
   "source": []
  }
 ],
 "metadata": {
  "kernelspec": {
   "display_name": "Python 3",
   "language": "python",
   "name": "python3"
  },
  "language_info": {
   "codemirror_mode": {
    "name": "ipython",
    "version": 3
   },
   "file_extension": ".py",
   "mimetype": "text/x-python",
   "name": "python",
   "nbconvert_exporter": "python",
   "pygments_lexer": "ipython3",
   "version": "3.7.3"
  }
 },
 "nbformat": 4,
 "nbformat_minor": 4
}
