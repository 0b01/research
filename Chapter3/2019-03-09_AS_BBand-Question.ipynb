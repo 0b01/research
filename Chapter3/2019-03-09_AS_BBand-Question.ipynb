{
 "cells": [
  {
   "cell_type": "markdown",
   "metadata": {},
   "source": [
    "# Mean reverting startegy based on Bollinger bands Strategy\n",
    "\n",
    "This notebook answers question 3.5 form the text book Advances in Financial Machine Learning.\n",
    "\n",
    "3.5 Develop a mean-reverting strategy based on Bollinger bands. For each observation, the model suggests a side, but not a size of the bet.\n",
    "\n",
    "* (a) Derive meta-labels for ptSl = [0, 2] and t1 where numDays = 1. Use as trgt the daily standard deviation as computed by Snippet 3.1.\n",
    "* (b) Train a random forest to decide whether to trade or not. Use as features: volatility, seial correlation, and teh crossinmg moving averages.\n",
    "* (c) What is teh accuracy of prediction from the primary model? (i.e. if the secondary model does not filter the bets) What are the precision, recall and FI-scores?\n",
    "* (d) What is teh accuracy of prediction from the primary model? What are the precision, recall and FI-scores?\n"
   ]
  },
  {
   "cell_type": "code",
   "execution_count": 2,
   "metadata": {},
   "outputs": [],
   "source": [
    "import numpy as np\n",
    "import pandas as pd\n",
    "import pyfolio as pf\n",
    "import timeit\n",
    "\n",
    "from sklearn.ensemble import RandomForestClassifier\n",
    "from sklearn.model_selection import train_test_split\n",
    "from sklearn.metrics import roc_curve, classification_report, confusion_matrix, accuracy_score\n",
    "from sklearn.preprocessing import StandardScaler \n",
    "from sklearn.decomposition import PCA\n",
    "\n",
    "from mlfinlab.corefns.core_functions import CoreFunctions\n",
    "from mlfinlab.corefns.financial_functions import FinancialFunctions\n",
    "from mlfinlab.fracdiff.fracdiff import frac_diff_ffd, compute_differencing_amt \n",
    "\n",
    "import matplotlib.pyplot as plt\n",
    "%matplotlib inline"
   ]
  },
  {
   "cell_type": "markdown",
   "metadata": {},
   "source": [
    "### Read in Data\n",
    "We are using the dollar bars based off of the high quality HFT data we purchased. There is a sample of bars available in this branch as well. "
   ]
  },
  {
   "cell_type": "code",
   "execution_count": 3,
   "metadata": {},
   "outputs": [],
   "source": [
    "# Read in data\n",
    "data = pd.read_csv('official_data/dollar_bars.csv')\n",
    "data.index = pd.to_datetime(data['date_time'])\n",
    "data = data.drop('date_time', axis=1)"
   ]
  },
  {
   "cell_type": "code",
   "execution_count": 4,
   "metadata": {},
   "outputs": [],
   "source": [
    "data = data['2011-09-01':'2018-01-01']"
   ]
  },
  {
   "cell_type": "markdown",
   "metadata": {},
   "source": [
    "---\n",
    "### Define helper functions"
   ]
  },
  {
   "cell_type": "code",
   "execution_count": 5,
   "metadata": {},
   "outputs": [],
   "source": [
    "# Compute RSI\n",
    "def get_rsi(data, window=14):\n",
    "    df = data.copy(deep=True).reset_index()\n",
    "    rsi = FinancialFunctions.relative_strength_index(df, window)\n",
    "    rsi_df = pd.Series(data=rsi.values, index=data.index)\n",
    "    return rsi_df"
   ]
  },
  {
   "cell_type": "markdown",
   "metadata": {},
   "source": [
    "---\n",
    "### Fit a Primary Model: Mean-reverting based on Bollinger bands\n",
    "Based on the mean-reverting Bollinger band strategy.\n"
   ]
  },
  {
   "cell_type": "code",
   "execution_count": 6,
   "metadata": {},
   "outputs": [
    {
     "data": {
      "text/html": [
       "<div>\n",
       "<style scoped>\n",
       "    .dataframe tbody tr th:only-of-type {\n",
       "        vertical-align: middle;\n",
       "    }\n",
       "\n",
       "    .dataframe tbody tr th {\n",
       "        vertical-align: top;\n",
       "    }\n",
       "\n",
       "    .dataframe thead th {\n",
       "        text-align: right;\n",
       "    }\n",
       "</style>\n",
       "<table border=\"1\" class=\"dataframe\">\n",
       "  <thead>\n",
       "    <tr style=\"text-align: right;\">\n",
       "      <th></th>\n",
       "      <th>open</th>\n",
       "      <th>high</th>\n",
       "      <th>low</th>\n",
       "      <th>close</th>\n",
       "      <th>cum_vol</th>\n",
       "      <th>cum_dollar</th>\n",
       "      <th>cum_ticks</th>\n",
       "      <th>avg</th>\n",
       "      <th>upper</th>\n",
       "      <th>lower</th>\n",
       "    </tr>\n",
       "    <tr>\n",
       "      <th>date_time</th>\n",
       "      <th></th>\n",
       "      <th></th>\n",
       "      <th></th>\n",
       "      <th></th>\n",
       "      <th></th>\n",
       "      <th></th>\n",
       "      <th></th>\n",
       "      <th></th>\n",
       "      <th></th>\n",
       "      <th></th>\n",
       "    </tr>\n",
       "  </thead>\n",
       "  <tbody>\n",
       "    <tr>\n",
       "      <th>2017-06-02 15:56:32.914</th>\n",
       "      <td>2435.25</td>\n",
       "      <td>2436.75</td>\n",
       "      <td>2435.00</td>\n",
       "      <td>2436.50</td>\n",
       "      <td>28757</td>\n",
       "      <td>70047776.50</td>\n",
       "      <td>1898</td>\n",
       "      <td>2429.012720</td>\n",
       "      <td>2442.048574</td>\n",
       "      <td>2415.976865</td>\n",
       "    </tr>\n",
       "    <tr>\n",
       "      <th>2017-06-30 13:35:14.464</th>\n",
       "      <td>2426.75</td>\n",
       "      <td>2427.25</td>\n",
       "      <td>2425.25</td>\n",
       "      <td>2425.75</td>\n",
       "      <td>28862</td>\n",
       "      <td>70024537.50</td>\n",
       "      <td>2507</td>\n",
       "      <td>2420.334270</td>\n",
       "      <td>2432.978937</td>\n",
       "      <td>2407.689604</td>\n",
       "    </tr>\n",
       "    <tr>\n",
       "      <th>2017-08-02 13:36:34.568</th>\n",
       "      <td>2474.25</td>\n",
       "      <td>2475.25</td>\n",
       "      <td>2473.25</td>\n",
       "      <td>2474.75</td>\n",
       "      <td>28290</td>\n",
       "      <td>70001042.50</td>\n",
       "      <td>2725</td>\n",
       "      <td>2472.057122</td>\n",
       "      <td>2476.606224</td>\n",
       "      <td>2467.508019</td>\n",
       "    </tr>\n",
       "    <tr>\n",
       "      <th>2015-12-09 20:15:05.652</th>\n",
       "      <td>2042.75</td>\n",
       "      <td>2044.25</td>\n",
       "      <td>2041.00</td>\n",
       "      <td>2042.50</td>\n",
       "      <td>34283</td>\n",
       "      <td>70024613.50</td>\n",
       "      <td>4017</td>\n",
       "      <td>2050.127452</td>\n",
       "      <td>2074.850773</td>\n",
       "      <td>2025.404131</td>\n",
       "    </tr>\n",
       "    <tr>\n",
       "      <th>2014-04-15 07:12:27.064</th>\n",
       "      <td>1825.00</td>\n",
       "      <td>1826.75</td>\n",
       "      <td>1824.00</td>\n",
       "      <td>1825.00</td>\n",
       "      <td>38357</td>\n",
       "      <td>70016356.25</td>\n",
       "      <td>11464</td>\n",
       "      <td>1819.928320</td>\n",
       "      <td>1831.088141</td>\n",
       "      <td>1808.768498</td>\n",
       "    </tr>\n",
       "    <tr>\n",
       "      <th>2013-06-14 15:23:20.119</th>\n",
       "      <td>1623.75</td>\n",
       "      <td>1626.00</td>\n",
       "      <td>1623.25</td>\n",
       "      <td>1625.75</td>\n",
       "      <td>43096</td>\n",
       "      <td>70031459.75</td>\n",
       "      <td>13230</td>\n",
       "      <td>1625.801237</td>\n",
       "      <td>1642.516112</td>\n",
       "      <td>1609.086362</td>\n",
       "    </tr>\n",
       "    <tr>\n",
       "      <th>2015-05-29 19:59:44.958</th>\n",
       "      <td>2108.00</td>\n",
       "      <td>2108.25</td>\n",
       "      <td>2106.75</td>\n",
       "      <td>2107.00</td>\n",
       "      <td>33228</td>\n",
       "      <td>70026273.75</td>\n",
       "      <td>1549</td>\n",
       "      <td>2110.284567</td>\n",
       "      <td>2119.500671</td>\n",
       "      <td>2101.068463</td>\n",
       "    </tr>\n",
       "    <tr>\n",
       "      <th>2013-08-27 16:48:59.069</th>\n",
       "      <td>1637.75</td>\n",
       "      <td>1638.00</td>\n",
       "      <td>1634.00</td>\n",
       "      <td>1636.00</td>\n",
       "      <td>42822</td>\n",
       "      <td>70032878.00</td>\n",
       "      <td>11124</td>\n",
       "      <td>1644.917806</td>\n",
       "      <td>1664.135821</td>\n",
       "      <td>1625.699791</td>\n",
       "    </tr>\n",
       "    <tr>\n",
       "      <th>2016-10-31 18:40:07.921</th>\n",
       "      <td>2121.25</td>\n",
       "      <td>2121.75</td>\n",
       "      <td>2119.75</td>\n",
       "      <td>2121.50</td>\n",
       "      <td>33026</td>\n",
       "      <td>70036651.50</td>\n",
       "      <td>3216</td>\n",
       "      <td>2123.474034</td>\n",
       "      <td>2129.989941</td>\n",
       "      <td>2116.958128</td>\n",
       "    </tr>\n",
       "    <tr>\n",
       "      <th>2015-07-03 08:35:36.574</th>\n",
       "      <td>2068.25</td>\n",
       "      <td>2071.75</td>\n",
       "      <td>2066.75</td>\n",
       "      <td>2067.75</td>\n",
       "      <td>33847</td>\n",
       "      <td>70034523.50</td>\n",
       "      <td>7509</td>\n",
       "      <td>2067.764063</td>\n",
       "      <td>2076.238664</td>\n",
       "      <td>2059.289463</td>\n",
       "    </tr>\n",
       "  </tbody>\n",
       "</table>\n",
       "</div>"
      ],
      "text/plain": [
       "                            open     high      low    close  cum_vol  \\\n",
       "date_time                                                              \n",
       "2017-06-02 15:56:32.914  2435.25  2436.75  2435.00  2436.50    28757   \n",
       "2017-06-30 13:35:14.464  2426.75  2427.25  2425.25  2425.75    28862   \n",
       "2017-08-02 13:36:34.568  2474.25  2475.25  2473.25  2474.75    28290   \n",
       "2015-12-09 20:15:05.652  2042.75  2044.25  2041.00  2042.50    34283   \n",
       "2014-04-15 07:12:27.064  1825.00  1826.75  1824.00  1825.00    38357   \n",
       "2013-06-14 15:23:20.119  1623.75  1626.00  1623.25  1625.75    43096   \n",
       "2015-05-29 19:59:44.958  2108.00  2108.25  2106.75  2107.00    33228   \n",
       "2013-08-27 16:48:59.069  1637.75  1638.00  1634.00  1636.00    42822   \n",
       "2016-10-31 18:40:07.921  2121.25  2121.75  2119.75  2121.50    33026   \n",
       "2015-07-03 08:35:36.574  2068.25  2071.75  2066.75  2067.75    33847   \n",
       "\n",
       "                          cum_dollar  cum_ticks          avg        upper  \\\n",
       "date_time                                                                   \n",
       "2017-06-02 15:56:32.914  70047776.50       1898  2429.012720  2442.048574   \n",
       "2017-06-30 13:35:14.464  70024537.50       2507  2420.334270  2432.978937   \n",
       "2017-08-02 13:36:34.568  70001042.50       2725  2472.057122  2476.606224   \n",
       "2015-12-09 20:15:05.652  70024613.50       4017  2050.127452  2074.850773   \n",
       "2014-04-15 07:12:27.064  70016356.25      11464  1819.928320  1831.088141   \n",
       "2013-06-14 15:23:20.119  70031459.75      13230  1625.801237  1642.516112   \n",
       "2015-05-29 19:59:44.958  70026273.75       1549  2110.284567  2119.500671   \n",
       "2013-08-27 16:48:59.069  70032878.00      11124  1644.917806  1664.135821   \n",
       "2016-10-31 18:40:07.921  70036651.50       3216  2123.474034  2129.989941   \n",
       "2015-07-03 08:35:36.574  70034523.50       7509  2067.764063  2076.238664   \n",
       "\n",
       "                               lower  \n",
       "date_time                             \n",
       "2017-06-02 15:56:32.914  2415.976865  \n",
       "2017-06-30 13:35:14.464  2407.689604  \n",
       "2017-08-02 13:36:34.568  2467.508019  \n",
       "2015-12-09 20:15:05.652  2025.404131  \n",
       "2014-04-15 07:12:27.064  1808.768498  \n",
       "2013-06-14 15:23:20.119  1609.086362  \n",
       "2015-05-29 19:59:44.958  2101.068463  \n",
       "2013-08-27 16:48:59.069  1625.699791  \n",
       "2016-10-31 18:40:07.921  2116.958128  \n",
       "2015-07-03 08:35:36.574  2059.289463  "
      ]
     },
     "execution_count": 6,
     "metadata": {},
     "output_type": "execute_result"
    }
   ],
   "source": [
    "# compute bands\n",
    "window = 50\n",
    "data['avg'], data['upper'], data['lower'] = FinancialFunctions.bbands(data['close'], window, no_of_stdev=2)\n",
    "data.sample(10)"
   ]
  },
  {
   "cell_type": "code",
   "execution_count": 36,
   "metadata": {},
   "outputs": [
    {
     "name": "stdout",
     "output_type": "stream",
     "text": [
      "Differening amount: 0.710\n"
     ]
    }
   ],
   "source": [
    "### Compute fractional differencing\n",
    "diff_amt = compute_differencing_amt(data['close'])\n",
    "print('Differening amount: {:.3f}'.format(diff_amt))\n",
    "fracs = np.exp(frac_diff_ffd(data['close'].apply(np.log), differencing_amt=diff_amt, threshold=1e-5))*data['close']"
   ]
  },
  {
   "cell_type": "code",
   "execution_count": 10,
   "metadata": {},
   "outputs": [],
   "source": [
    "frac_df = pd.Series(data=fracs, index=data.index)\n",
    "frac_df.tail()\n",
    "data['fracdiff'] = [frac_df[x] for x in data.index]"
   ]
  },
  {
   "cell_type": "code",
   "execution_count": 11,
   "metadata": {},
   "outputs": [],
   "source": [
    "# Compute RSI\n",
    "rsi_df = get_rsi(data, window=14)\n",
    "data['rsi'] = pd.Series(data=rsi_df.values, index=data.index)\n",
    "\n",
    "# Drop the NaN values from our data set\n",
    "data.dropna(axis=0, how='any', inplace=True)"
   ]
  },
  {
   "cell_type": "code",
   "execution_count": 12,
   "metadata": {},
   "outputs": [],
   "source": [
    "# data['side'] = compute_side(data)\n",
    "long_signals = (data['close'] <= data['lower']) & (data['rsi'] <= 25)\n",
    "short_signals = (data['close'] >= data['upper']) & (data['rsi'] >= 75) \n",
    "data.loc[long_signals, 'side'] = 1\n",
    "data.loc[short_signals, 'side'] = -1\n",
    "\n",
    "# Remove Look ahead biase by lagging the signal\n",
    "data['side'] = data['side'].shift(1)\n"
   ]
  },
  {
   "cell_type": "code",
   "execution_count": 13,
   "metadata": {},
   "outputs": [],
   "source": [
    "# Save the raw data\n",
    "raw_data = data.copy()\n",
    "\n",
    "# Drop the NaN values from our data set\n",
    "data.dropna(axis=0, how='any', inplace=True)"
   ]
  },
  {
   "cell_type": "code",
   "execution_count": 14,
   "metadata": {},
   "outputs": [
    {
     "name": "stdout",
     "output_type": "stream",
     "text": [
      " 1.0    543\n",
      "-1.0    428\n",
      "Name: side, dtype: int64\n"
     ]
    }
   ],
   "source": [
    "# print(data.sample(5))\n",
    "print(data.side.value_counts())"
   ]
  },
  {
   "cell_type": "markdown",
   "metadata": {},
   "source": [
    "### Filter Events: CUSUM Filter\n",
    "Predict what will happen when a CUSUM event is triggered. Use the signal from the MAvg Strategy to determine the side of the bet."
   ]
  },
  {
   "cell_type": "code",
   "execution_count": 15,
   "metadata": {},
   "outputs": [
    {
     "name": "stdout",
     "output_type": "stream",
     "text": [
      "Calculating daily volatility for dynamic thresholds\n",
      "Applying Symmetric CUSUM filter.\n"
     ]
    },
    {
     "name": "stderr",
     "output_type": "stream",
     "text": [
      "100%|██████████████████████████████████████████████████████████████████████████████████████████████████████████████████████████████████████████████████████████████| 969/969 [00:00<00:00, 6921.42it/s]\n"
     ]
    }
   ],
   "source": [
    "# Compute daily volatility\n",
    "daily_vol = CoreFunctions.get_daily_vol(close=data['close'], lookback=50)\n",
    "\n",
    "# Apply Symmetric CUSUM Filter and get timestamps for events\n",
    "# Note: Only the CUSUM filter needs a point estimate for volatility\n",
    "cusum_events = CoreFunctions.get_t_events(data['close'], threshold=daily_vol.mean() * 0.1)\n",
    "\n",
    "# Compute vertical barrier\n",
    "vertical_barriers = CoreFunctions.add_vertical_barrier(t_events=cusum_events, close=data['close'], num_days=1)"
   ]
  },
  {
   "cell_type": "code",
   "execution_count": 16,
   "metadata": {},
   "outputs": [
    {
     "name": "stderr",
     "output_type": "stream",
     "text": []
    },
    {
     "name": "stderr",
     "output_type": "stream",
     "text": [
      "2019-03-09 12:31:02.594789 100.0% apply_pt_sl_on_t1 done after 0.02 minutes. Remaining 0.0 minutes.\n"
     ]
    }
   ],
   "source": [
    "pt_sl = [0, 2]\n",
    "triple_barrier_events = CoreFunctions.get_events(close=data['close'],\n",
    "                                  t_events=cusum_events,\n",
    "                                  pt_sl=pt_sl,\n",
    "                                  target=daily_vol,\n",
    "                                  min_ret=0.01,\n",
    "                                  num_threads=2,\n",
    "                                  vertical_barrier_times=vertical_barriers,\n",
    "                                  side=data['side'])"
   ]
  },
  {
   "cell_type": "code",
   "execution_count": 17,
   "metadata": {},
   "outputs": [
    {
     "data": {
      "text/plain": [
       " 1.0    252\n",
       "-1.0    214\n",
       "Name: side, dtype: int64"
      ]
     },
     "execution_count": 17,
     "metadata": {},
     "output_type": "execute_result"
    }
   ],
   "source": [
    "labels = CoreFunctions.get_bins(triple_barrier_events, data['close'])\n",
    "labels.side.value_counts()"
   ]
  },
  {
   "cell_type": "markdown",
   "metadata": {},
   "source": [
    "---\n",
    "### Results of Primary Model:\n",
    "What is the accuracy of predictions from the primary model (i.e., if the sec- ondary model does not filter the bets)? What are the precision, recall, and F1-scores?"
   ]
  },
  {
   "cell_type": "code",
   "execution_count": 18,
   "metadata": {},
   "outputs": [
    {
     "name": "stderr",
     "output_type": "stream",
     "text": [
      "c:\\users\\asingh\\anaconda3\\envs\\cap\\lib\\site-packages\\sklearn\\metrics\\classification.py:1143: UndefinedMetricWarning: Precision and F-score are ill-defined and being set to 0.0 in labels with no predicted samples.\n",
      "  'precision', 'predicted', average, warn_for)\n"
     ]
    },
    {
     "name": "stdout",
     "output_type": "stream",
     "text": [
      "              precision    recall  f1-score   support\n",
      "\n",
      "           0       0.00      0.00      0.00       417\n",
      "           1       0.11      1.00      0.19        49\n",
      "\n",
      "   micro avg       0.11      0.11      0.11       466\n",
      "   macro avg       0.05      0.50      0.10       466\n",
      "weighted avg       0.01      0.11      0.02       466\n",
      "\n",
      "Confusion Matrix\n",
      "[[  0 417]\n",
      " [  0  49]]\n",
      "\n",
      "Accuracy\n",
      "0.10515021459227468\n"
     ]
    }
   ],
   "source": [
    "primary_forecast = pd.DataFrame(labels['bin'])\n",
    "primary_forecast['pred'] = 1\n",
    "primary_forecast.columns = ['actual', 'pred']\n",
    "\n",
    "# Performance Metrics\n",
    "actual = primary_forecast['actual']\n",
    "pred = primary_forecast['pred']\n",
    "print(classification_report(y_true=actual, y_pred=pred))\n",
    "\n",
    "print(\"Confusion Matrix\")\n",
    "print(confusion_matrix(actual, pred))\n",
    "\n",
    "print('')\n",
    "print(\"Accuracy\")\n",
    "print(accuracy_score(actual, pred))"
   ]
  },
  {
   "cell_type": "markdown",
   "metadata": {},
   "source": [
    "---\n",
    "## Fit a Meta Model\n",
    "Train a random forest to decide whether to trade or not (i.e 1 or 0 respectively) since the earlier model has decided the side (-1 or 1)\n",
    "\n",
    "Create the following features: \n",
    "* Volatility\n",
    "* Serial Correlation\n",
    "* The returns at the different lags from the serial correlation\n",
    "* The sides from the SMavg Strategy"
   ]
  },
  {
   "cell_type": "code",
   "execution_count": 19,
   "metadata": {},
   "outputs": [
    {
     "data": {
      "text/html": [
       "<div>\n",
       "<style scoped>\n",
       "    .dataframe tbody tr th:only-of-type {\n",
       "        vertical-align: middle;\n",
       "    }\n",
       "\n",
       "    .dataframe tbody tr th {\n",
       "        vertical-align: top;\n",
       "    }\n",
       "\n",
       "    .dataframe thead th {\n",
       "        text-align: right;\n",
       "    }\n",
       "</style>\n",
       "<table border=\"1\" class=\"dataframe\">\n",
       "  <thead>\n",
       "    <tr style=\"text-align: right;\">\n",
       "      <th></th>\n",
       "      <th>open</th>\n",
       "      <th>high</th>\n",
       "      <th>low</th>\n",
       "      <th>close</th>\n",
       "      <th>cum_vol</th>\n",
       "      <th>cum_dollar</th>\n",
       "      <th>cum_ticks</th>\n",
       "      <th>avg</th>\n",
       "      <th>upper</th>\n",
       "      <th>lower</th>\n",
       "      <th>fracdiff</th>\n",
       "      <th>rsi</th>\n",
       "      <th>side</th>\n",
       "    </tr>\n",
       "    <tr>\n",
       "      <th>date_time</th>\n",
       "      <th></th>\n",
       "      <th></th>\n",
       "      <th></th>\n",
       "      <th></th>\n",
       "      <th></th>\n",
       "      <th></th>\n",
       "      <th></th>\n",
       "      <th></th>\n",
       "      <th></th>\n",
       "      <th></th>\n",
       "      <th></th>\n",
       "      <th></th>\n",
       "      <th></th>\n",
       "    </tr>\n",
       "  </thead>\n",
       "  <tbody>\n",
       "    <tr>\n",
       "      <th>2011-09-01 14:06:29.252</th>\n",
       "      <td>1227.50</td>\n",
       "      <td>1228.50</td>\n",
       "      <td>1223.25</td>\n",
       "      <td>1225.00</td>\n",
       "      <td>57108</td>\n",
       "      <td>70001176.25</td>\n",
       "      <td>17120</td>\n",
       "      <td>1218.912702</td>\n",
       "      <td>1231.063720</td>\n",
       "      <td>1206.761684</td>\n",
       "      <td>1225.00</td>\n",
       "      <td>66.0</td>\n",
       "      <td>NaN</td>\n",
       "    </tr>\n",
       "    <tr>\n",
       "      <th>2011-09-01 14:11:19.584</th>\n",
       "      <td>1225.00</td>\n",
       "      <td>1226.50</td>\n",
       "      <td>1223.00</td>\n",
       "      <td>1224.25</td>\n",
       "      <td>57151</td>\n",
       "      <td>70000669.00</td>\n",
       "      <td>18100</td>\n",
       "      <td>1219.376556</td>\n",
       "      <td>1231.370472</td>\n",
       "      <td>1207.382639</td>\n",
       "      <td>1224.25</td>\n",
       "      <td>65.0</td>\n",
       "      <td>NaN</td>\n",
       "    </tr>\n",
       "    <tr>\n",
       "      <th>2011-09-01 14:15:02.734</th>\n",
       "      <td>1224.25</td>\n",
       "      <td>1224.75</td>\n",
       "      <td>1219.25</td>\n",
       "      <td>1219.75</td>\n",
       "      <td>57307</td>\n",
       "      <td>70010132.75</td>\n",
       "      <td>16844</td>\n",
       "      <td>1219.407534</td>\n",
       "      <td>1230.870401</td>\n",
       "      <td>1207.944666</td>\n",
       "      <td>1219.75</td>\n",
       "      <td>51.0</td>\n",
       "      <td>NaN</td>\n",
       "    </tr>\n",
       "    <tr>\n",
       "      <th>2011-09-01 14:19:45.128</th>\n",
       "      <td>1219.50</td>\n",
       "      <td>1221.50</td>\n",
       "      <td>1218.00</td>\n",
       "      <td>1221.00</td>\n",
       "      <td>57382</td>\n",
       "      <td>70000958.25</td>\n",
       "      <td>16802</td>\n",
       "      <td>1219.534096</td>\n",
       "      <td>1230.547182</td>\n",
       "      <td>1208.521010</td>\n",
       "      <td>1221.00</td>\n",
       "      <td>47.0</td>\n",
       "      <td>NaN</td>\n",
       "    </tr>\n",
       "    <tr>\n",
       "      <th>2011-09-01 14:28:51.391</th>\n",
       "      <td>1221.00</td>\n",
       "      <td>1223.75</td>\n",
       "      <td>1220.50</td>\n",
       "      <td>1221.75</td>\n",
       "      <td>57280</td>\n",
       "      <td>70004186.50</td>\n",
       "      <td>16969</td>\n",
       "      <td>1219.703391</td>\n",
       "      <td>1230.339167</td>\n",
       "      <td>1209.067615</td>\n",
       "      <td>1221.75</td>\n",
       "      <td>55.0</td>\n",
       "      <td>NaN</td>\n",
       "    </tr>\n",
       "  </tbody>\n",
       "</table>\n",
       "</div>"
      ],
      "text/plain": [
       "                            open     high      low    close  cum_vol  \\\n",
       "date_time                                                              \n",
       "2011-09-01 14:06:29.252  1227.50  1228.50  1223.25  1225.00    57108   \n",
       "2011-09-01 14:11:19.584  1225.00  1226.50  1223.00  1224.25    57151   \n",
       "2011-09-01 14:15:02.734  1224.25  1224.75  1219.25  1219.75    57307   \n",
       "2011-09-01 14:19:45.128  1219.50  1221.50  1218.00  1221.00    57382   \n",
       "2011-09-01 14:28:51.391  1221.00  1223.75  1220.50  1221.75    57280   \n",
       "\n",
       "                          cum_dollar  cum_ticks          avg        upper  \\\n",
       "date_time                                                                   \n",
       "2011-09-01 14:06:29.252  70001176.25      17120  1218.912702  1231.063720   \n",
       "2011-09-01 14:11:19.584  70000669.00      18100  1219.376556  1231.370472   \n",
       "2011-09-01 14:15:02.734  70010132.75      16844  1219.407534  1230.870401   \n",
       "2011-09-01 14:19:45.128  70000958.25      16802  1219.534096  1230.547182   \n",
       "2011-09-01 14:28:51.391  70004186.50      16969  1219.703391  1230.339167   \n",
       "\n",
       "                               lower  fracdiff   rsi  side  \n",
       "date_time                                                   \n",
       "2011-09-01 14:06:29.252  1206.761684   1225.00  66.0   NaN  \n",
       "2011-09-01 14:11:19.584  1207.382639   1224.25  65.0   NaN  \n",
       "2011-09-01 14:15:02.734  1207.944666   1219.75  51.0   NaN  \n",
       "2011-09-01 14:19:45.128  1208.521010   1221.00  47.0   NaN  \n",
       "2011-09-01 14:28:51.391  1209.067615   1221.75  55.0   NaN  "
      ]
     },
     "execution_count": 19,
     "metadata": {},
     "output_type": "execute_result"
    }
   ],
   "source": [
    "raw_data.head()"
   ]
  },
  {
   "cell_type": "markdown",
   "metadata": {},
   "source": [
    "### Features"
   ]
  },
  {
   "cell_type": "code",
   "execution_count": 20,
   "metadata": {},
   "outputs": [],
   "source": [
    "# Log Returns\n",
    "raw_data['log_ret'] = np.log(raw_data['close']).diff()\n",
    "\n",
    "# Momentum\n",
    "raw_data['mom1'] = raw_data['close'].pct_change(periods=1)\n",
    "raw_data['mom2'] = raw_data['close'].pct_change(periods=2)\n",
    "raw_data['mom3'] = raw_data['close'].pct_change(periods=3)\n",
    "raw_data['mom4'] = raw_data['close'].pct_change(periods=4)\n",
    "raw_data['mom5'] = raw_data['close'].pct_change(periods=5)\n",
    "\n",
    "# Volatility\n",
    "window_stdev = 50\n",
    "raw_data['volatility'] = raw_data['log_ret'].rolling(window=window_stdev, min_periods=window_stdev, center=False).std()\n",
    "\n",
    "# Serial Correlation (Takes about 4 minutes)\n",
    "window_autocorr = 50\n",
    "\n",
    "raw_data['autocorr_1'] = raw_data['log_ret'].rolling(window=window_autocorr, min_periods=window_autocorr, center=False).apply(lambda x: x.autocorr(lag=1), raw=False)\n",
    "raw_data['autocorr_2'] = raw_data['log_ret'].rolling(window=window_autocorr, min_periods=window_autocorr, center=False).apply(lambda x: x.autocorr(lag=2), raw=False)\n",
    "raw_data['autocorr_3'] = raw_data['log_ret'].rolling(window=window_autocorr, min_periods=window_autocorr, center=False).apply(lambda x: x.autocorr(lag=3), raw=False)\n",
    "raw_data['autocorr_4'] = raw_data['log_ret'].rolling(window=window_autocorr, min_periods=window_autocorr, center=False).apply(lambda x: x.autocorr(lag=4), raw=False)\n",
    "raw_data['autocorr_5'] = raw_data['log_ret'].rolling(window=window_autocorr, min_periods=window_autocorr, center=False).apply(lambda x: x.autocorr(lag=5), raw=False)\n",
    "\n",
    "# Get the various log -t returns\n",
    "raw_data['log_t1'] = raw_data['log_ret'].shift(1)\n",
    "raw_data['log_t2'] = raw_data['log_ret'].shift(2)\n",
    "raw_data['log_t3'] = raw_data['log_ret'].shift(3)\n",
    "raw_data['log_t4'] = raw_data['log_ret'].shift(4)\n",
    "raw_data['log_t5'] = raw_data['log_ret'].shift(5)\n",
    "\n",
    "# Add fast and slow moving averages\n",
    "fast_window = 7\n",
    "slow_window = 15\n",
    "\n",
    "raw_data['fast_mavg'] = raw_data['close'].rolling(window=fast_window, min_periods=fast_window, center=False).mean()\n",
    "raw_data['slow_mavg'] = raw_data['close'].rolling(window=slow_window, min_periods=slow_window, center=False).mean()\n"
   ]
  },
  {
   "cell_type": "code",
   "execution_count": 21,
   "metadata": {},
   "outputs": [],
   "source": [
    "# Re compute sides\n",
    "raw_data['side'] = np.nan\n",
    "\n",
    "long_signals = (raw_data['close'] <= raw_data['lower']) & (raw_data['rsi'] <= 25)\n",
    "short_signals = (raw_data['close'] >= raw_data['upper']) & (raw_data['rsi'] >= 75) \n",
    "\n",
    "raw_data.loc[long_signals, 'side'] = 1\n",
    "raw_data.loc[short_signals, 'side'] = -1"
   ]
  },
  {
   "cell_type": "code",
   "execution_count": 22,
   "metadata": {},
   "outputs": [],
   "source": [
    "# Remove look ahead bias\n",
    "raw_data = raw_data.shift(1)"
   ]
  },
  {
   "cell_type": "markdown",
   "metadata": {},
   "source": [
    "#### Now get the data at the specified events"
   ]
  },
  {
   "cell_type": "code",
   "execution_count": 23,
   "metadata": {},
   "outputs": [
    {
     "data": {
      "text/html": [
       "<div>\n",
       "<style scoped>\n",
       "    .dataframe tbody tr th:only-of-type {\n",
       "        vertical-align: middle;\n",
       "    }\n",
       "\n",
       "    .dataframe tbody tr th {\n",
       "        vertical-align: top;\n",
       "    }\n",
       "\n",
       "    .dataframe thead th {\n",
       "        text-align: right;\n",
       "    }\n",
       "</style>\n",
       "<table border=\"1\" class=\"dataframe\">\n",
       "  <thead>\n",
       "    <tr style=\"text-align: right;\">\n",
       "      <th></th>\n",
       "      <th>avg</th>\n",
       "      <th>upper</th>\n",
       "      <th>lower</th>\n",
       "      <th>fracdiff</th>\n",
       "      <th>rsi</th>\n",
       "      <th>side</th>\n",
       "      <th>log_ret</th>\n",
       "      <th>mom1</th>\n",
       "      <th>mom2</th>\n",
       "      <th>mom3</th>\n",
       "      <th>...</th>\n",
       "      <th>autocorr_1</th>\n",
       "      <th>autocorr_2</th>\n",
       "      <th>autocorr_3</th>\n",
       "      <th>autocorr_4</th>\n",
       "      <th>autocorr_5</th>\n",
       "      <th>log_t1</th>\n",
       "      <th>log_t2</th>\n",
       "      <th>log_t3</th>\n",
       "      <th>log_t4</th>\n",
       "      <th>log_t5</th>\n",
       "    </tr>\n",
       "  </thead>\n",
       "  <tbody>\n",
       "    <tr>\n",
       "      <th>2011-09-26 01:12:55.304</th>\n",
       "      <td>1126.478490</td>\n",
       "      <td>1141.941116</td>\n",
       "      <td>1111.015864</td>\n",
       "      <td>1143.250000</td>\n",
       "      <td>77.0</td>\n",
       "      <td>-1.0</td>\n",
       "      <td>0.013651</td>\n",
       "      <td>0.013744</td>\n",
       "      <td>0.013744</td>\n",
       "      <td>0.012622</td>\n",
       "      <td>...</td>\n",
       "      <td>0.038116</td>\n",
       "      <td>0.094774</td>\n",
       "      <td>0.091598</td>\n",
       "      <td>-0.432780</td>\n",
       "      <td>0.040215</td>\n",
       "      <td>0.000000</td>\n",
       "      <td>-0.001108</td>\n",
       "      <td>0.002883</td>\n",
       "      <td>-0.003104</td>\n",
       "      <td>-0.000885</td>\n",
       "    </tr>\n",
       "    <tr>\n",
       "      <th>2011-10-18 19:12:37.947</th>\n",
       "      <td>1204.456114</td>\n",
       "      <td>1223.890155</td>\n",
       "      <td>1185.022073</td>\n",
       "      <td>902633.418293</td>\n",
       "      <td>81.0</td>\n",
       "      <td>-1.0</td>\n",
       "      <td>0.003273</td>\n",
       "      <td>0.003279</td>\n",
       "      <td>0.005545</td>\n",
       "      <td>0.010735</td>\n",
       "      <td>...</td>\n",
       "      <td>-0.071509</td>\n",
       "      <td>-0.075968</td>\n",
       "      <td>0.063214</td>\n",
       "      <td>0.016909</td>\n",
       "      <td>-0.037216</td>\n",
       "      <td>0.002257</td>\n",
       "      <td>0.005148</td>\n",
       "      <td>-0.001032</td>\n",
       "      <td>0.000206</td>\n",
       "      <td>0.001238</td>\n",
       "    </tr>\n",
       "    <tr>\n",
       "      <th>2011-10-18 19:15:43.480</th>\n",
       "      <td>1205.418620</td>\n",
       "      <td>1226.761359</td>\n",
       "      <td>1184.075880</td>\n",
       "      <td>909958.718734</td>\n",
       "      <td>86.0</td>\n",
       "      <td>-1.0</td>\n",
       "      <td>0.004077</td>\n",
       "      <td>0.004085</td>\n",
       "      <td>0.007377</td>\n",
       "      <td>0.009653</td>\n",
       "      <td>...</td>\n",
       "      <td>-0.048793</td>\n",
       "      <td>-0.048762</td>\n",
       "      <td>0.118922</td>\n",
       "      <td>-0.000657</td>\n",
       "      <td>-0.047986</td>\n",
       "      <td>0.003273</td>\n",
       "      <td>0.002257</td>\n",
       "      <td>0.005148</td>\n",
       "      <td>-0.001032</td>\n",
       "      <td>0.000206</td>\n",
       "    </tr>\n",
       "    <tr>\n",
       "      <th>2011-10-27 06:18:58.791</th>\n",
       "      <td>1233.894702</td>\n",
       "      <td>1247.829402</td>\n",
       "      <td>1219.960001</td>\n",
       "      <td>939071.670751</td>\n",
       "      <td>84.0</td>\n",
       "      <td>-1.0</td>\n",
       "      <td>0.007430</td>\n",
       "      <td>0.007458</td>\n",
       "      <td>0.008678</td>\n",
       "      <td>0.009289</td>\n",
       "      <td>...</td>\n",
       "      <td>0.082670</td>\n",
       "      <td>-0.179900</td>\n",
       "      <td>-0.053692</td>\n",
       "      <td>0.115396</td>\n",
       "      <td>-0.060313</td>\n",
       "      <td>0.001210</td>\n",
       "      <td>0.000606</td>\n",
       "      <td>0.001212</td>\n",
       "      <td>0.000202</td>\n",
       "      <td>-0.004238</td>\n",
       "    </tr>\n",
       "    <tr>\n",
       "      <th>2011-10-27 07:26:41.016</th>\n",
       "      <td>1234.820399</td>\n",
       "      <td>1251.320485</td>\n",
       "      <td>1218.320314</td>\n",
       "      <td>951050.404487</td>\n",
       "      <td>88.0</td>\n",
       "      <td>-1.0</td>\n",
       "      <td>0.006382</td>\n",
       "      <td>0.006403</td>\n",
       "      <td>0.013908</td>\n",
       "      <td>0.015136</td>\n",
       "      <td>...</td>\n",
       "      <td>0.268397</td>\n",
       "      <td>-0.128595</td>\n",
       "      <td>-0.074145</td>\n",
       "      <td>0.142993</td>\n",
       "      <td>-0.036908</td>\n",
       "      <td>0.007430</td>\n",
       "      <td>0.001210</td>\n",
       "      <td>0.000606</td>\n",
       "      <td>0.001212</td>\n",
       "      <td>0.000202</td>\n",
       "    </tr>\n",
       "  </tbody>\n",
       "</table>\n",
       "<p>5 rows × 23 columns</p>\n",
       "</div>"
      ],
      "text/plain": [
       "                                 avg        upper        lower       fracdiff  \\\n",
       "2011-09-26 01:12:55.304  1126.478490  1141.941116  1111.015864    1143.250000   \n",
       "2011-10-18 19:12:37.947  1204.456114  1223.890155  1185.022073  902633.418293   \n",
       "2011-10-18 19:15:43.480  1205.418620  1226.761359  1184.075880  909958.718734   \n",
       "2011-10-27 06:18:58.791  1233.894702  1247.829402  1219.960001  939071.670751   \n",
       "2011-10-27 07:26:41.016  1234.820399  1251.320485  1218.320314  951050.404487   \n",
       "\n",
       "                          rsi  side   log_ret      mom1      mom2      mom3  \\\n",
       "2011-09-26 01:12:55.304  77.0  -1.0  0.013651  0.013744  0.013744  0.012622   \n",
       "2011-10-18 19:12:37.947  81.0  -1.0  0.003273  0.003279  0.005545  0.010735   \n",
       "2011-10-18 19:15:43.480  86.0  -1.0  0.004077  0.004085  0.007377  0.009653   \n",
       "2011-10-27 06:18:58.791  84.0  -1.0  0.007430  0.007458  0.008678  0.009289   \n",
       "2011-10-27 07:26:41.016  88.0  -1.0  0.006382  0.006403  0.013908  0.015136   \n",
       "\n",
       "                           ...     autocorr_1  autocorr_2  autocorr_3  \\\n",
       "2011-09-26 01:12:55.304    ...       0.038116    0.094774    0.091598   \n",
       "2011-10-18 19:12:37.947    ...      -0.071509   -0.075968    0.063214   \n",
       "2011-10-18 19:15:43.480    ...      -0.048793   -0.048762    0.118922   \n",
       "2011-10-27 06:18:58.791    ...       0.082670   -0.179900   -0.053692   \n",
       "2011-10-27 07:26:41.016    ...       0.268397   -0.128595   -0.074145   \n",
       "\n",
       "                         autocorr_4  autocorr_5    log_t1    log_t2    log_t3  \\\n",
       "2011-09-26 01:12:55.304   -0.432780    0.040215  0.000000 -0.001108  0.002883   \n",
       "2011-10-18 19:12:37.947    0.016909   -0.037216  0.002257  0.005148 -0.001032   \n",
       "2011-10-18 19:15:43.480   -0.000657   -0.047986  0.003273  0.002257  0.005148   \n",
       "2011-10-27 06:18:58.791    0.115396   -0.060313  0.001210  0.000606  0.001212   \n",
       "2011-10-27 07:26:41.016    0.142993   -0.036908  0.007430  0.001210  0.000606   \n",
       "\n",
       "                           log_t4    log_t5  \n",
       "2011-09-26 01:12:55.304 -0.003104 -0.000885  \n",
       "2011-10-18 19:12:37.947  0.000206  0.001238  \n",
       "2011-10-18 19:15:43.480 -0.001032  0.000206  \n",
       "2011-10-27 06:18:58.791  0.000202 -0.004238  \n",
       "2011-10-27 07:26:41.016  0.001212  0.000202  \n",
       "\n",
       "[5 rows x 23 columns]"
      ]
     },
     "execution_count": 23,
     "metadata": {},
     "output_type": "execute_result"
    }
   ],
   "source": [
    "# Get features at event dates\n",
    "X = raw_data.loc[labels.index, :]\n",
    "\n",
    "# Drop unwanted columns\n",
    "X.drop(['open', 'high', 'low', 'close', 'cum_vol', 'cum_dollar', 'cum_ticks','fast_mavg', 'slow_mavg',], axis=1, inplace=True)\n",
    "\n",
    "y = labels['bin']\n",
    "X.head()"
   ]
  },
  {
   "cell_type": "markdown",
   "metadata": {},
   "source": [
    "### Fit a model"
   ]
  },
  {
   "cell_type": "code",
   "execution_count": 24,
   "metadata": {},
   "outputs": [],
   "source": [
    "# Split data\n",
    "X_train, X_test, y_train, y_test = train_test_split(X, y, test_size=0.2, shuffle=False)"
   ]
  },
  {
   "cell_type": "code",
   "execution_count": 25,
   "metadata": {},
   "outputs": [
    {
     "data": {
      "text/plain": [
       "RandomForestClassifier(bootstrap=True, class_weight=None, criterion='entropy',\n",
       "            max_depth=5, max_features='auto', max_leaf_nodes=None,\n",
       "            min_impurity_decrease=0.0, min_impurity_split=None,\n",
       "            min_samples_leaf=1, min_samples_split=2,\n",
       "            min_weight_fraction_leaf=0.0, n_estimators=50, n_jobs=None,\n",
       "            oob_score=False, random_state=42, verbose=0, warm_start=False)"
      ]
     },
     "execution_count": 25,
     "metadata": {},
     "output_type": "execute_result"
    }
   ],
   "source": [
    "# Random Forest Model\n",
    "# https://medium.com/all-things-ai/in-depth-parameter-tuning-for-random-forest-d67bb7e920d\n",
    "\n",
    "n_estimator = 50\n",
    "c_random_state = 42\n",
    "depth = 5\n",
    "\n",
    "rf = RandomForestClassifier(max_depth=depth, n_estimators=n_estimator,\n",
    "                            criterion='entropy', random_state=c_random_state)\n",
    "rf.fit(X_train, y_train.values.ravel())"
   ]
  },
  {
   "cell_type": "markdown",
   "metadata": {},
   "source": [
    "#### Training Metrics"
   ]
  },
  {
   "cell_type": "code",
   "execution_count": 26,
   "metadata": {},
   "outputs": [
    {
     "name": "stdout",
     "output_type": "stream",
     "text": [
      "              precision    recall  f1-score   support\n",
      "\n",
      "           0       0.90      1.00      0.95       331\n",
      "           1       1.00      0.07      0.14        41\n",
      "\n",
      "   micro avg       0.90      0.90      0.90       372\n",
      "   macro avg       0.95      0.54      0.54       372\n",
      "weighted avg       0.91      0.90      0.86       372\n",
      "\n",
      "Confusion Matrix\n",
      "[[331   0]\n",
      " [ 38   3]]\n",
      "\n",
      "Accuracy\n",
      "0.10515021459227468\n"
     ]
    },
    {
     "data": {
      "image/png": "[encoded data removed]",
      "text/plain": [
       "<Figure size 432x288 with 1 Axes>"
      ]
     },
     "metadata": {
      "needs_background": "light"
     },
     "output_type": "display_data"
    }
   ],
   "source": [
    "# Performance Metrics\n",
    "y_pred_rf = rf.predict_proba(X_train)[:, 1]\n",
    "y_pred = rf.predict(X_train)\n",
    "fpr_rf, tpr_rf, _ = roc_curve(y_train, y_pred_rf)\n",
    "print(classification_report(y_train, y_pred))\n",
    "\n",
    "print(\"Confusion Matrix\")\n",
    "print(confusion_matrix(y_train, y_pred))\n",
    "\n",
    "print('')\n",
    "print(\"Accuracy\")\n",
    "print(accuracy_score(actual, pred))\n",
    "\n",
    "plt.figure(1)\n",
    "plt.plot([0, 1], [0, 1], 'k--')\n",
    "plt.plot(fpr_rf, tpr_rf, label='RF')\n",
    "plt.xlabel('False positive rate')\n",
    "plt.ylabel('True positive rate')\n",
    "plt.title('ROC curve')\n",
    "plt.legend(loc='best')\n",
    "plt.show()"
   ]
  },
  {
   "cell_type": "markdown",
   "metadata": {},
   "source": [
    "This is overfitting big time "
   ]
  },
  {
   "cell_type": "markdown",
   "metadata": {},
   "source": [
    "#### Test Metrics"
   ]
  },
  {
   "cell_type": "code",
   "execution_count": 27,
   "metadata": {},
   "outputs": [
    {
     "name": "stderr",
     "output_type": "stream",
     "text": [
      "c:\\users\\asingh\\anaconda3\\envs\\cap\\lib\\site-packages\\sklearn\\metrics\\classification.py:1143: UndefinedMetricWarning: Precision and F-score are ill-defined and being set to 0.0 in labels with no predicted samples.\n",
      "  'precision', 'predicted', average, warn_for)\n"
     ]
    },
    {
     "name": "stdout",
     "output_type": "stream",
     "text": [
      "              precision    recall  f1-score   support\n",
      "\n",
      "           0       0.91      1.00      0.96        86\n",
      "           1       0.00      0.00      0.00         8\n",
      "\n",
      "   micro avg       0.91      0.91      0.91        94\n",
      "   macro avg       0.46      0.50      0.48        94\n",
      "weighted avg       0.84      0.91      0.87        94\n",
      "\n",
      "Confusion Matrix\n",
      "[[86  0]\n",
      " [ 8  0]]\n",
      "\n",
      "Accuracy\n",
      "0.10515021459227468\n"
     ]
    },
    {
     "data": {
      "image/png": "[encoded data removed]",
      "text/plain": [
       "<Figure size 432x288 with 1 Axes>"
      ]
     },
     "metadata": {
      "needs_background": "light"
     },
     "output_type": "display_data"
    }
   ],
   "source": [
    "# Performance Metrics\n",
    "y_pred_rf = rf.predict_proba(X_test)[:, 1]\n",
    "y_pred = rf.predict(X_test)\n",
    "fpr_rf, tpr_rf, _ = roc_curve(y_test, y_pred_rf)\n",
    "print(classification_report(y_test, y_pred))\n",
    "\n",
    "print(\"Confusion Matrix\")\n",
    "print(confusion_matrix(y_test, y_pred))\n",
    "\n",
    "print('')\n",
    "print(\"Accuracy\")\n",
    "print(accuracy_score(actual, pred))\n",
    "\n",
    "plt.figure(1)\n",
    "plt.plot([0, 1], [0, 1], 'k--')\n",
    "plt.plot(fpr_rf, tpr_rf, label='RF')\n",
    "plt.xlabel('False positive rate')\n",
    "plt.ylabel('True positive rate')\n",
    "plt.title('ROC curve')\n",
    "plt.legend(loc='best')\n",
    "plt.show()"
   ]
  },
  {
   "cell_type": "code",
   "execution_count": 28,
   "metadata": {},
   "outputs": [
    {
     "data": {
      "image/png": "[encoded data removed]",
      "text/plain": [
       "<Figure size 1080x360 with 1 Axes>"
      ]
     },
     "metadata": {
      "needs_background": "light"
     },
     "output_type": "display_data"
    }
   ],
   "source": [
    "# Feature Importance\n",
    "title = 'Feature Importance:'\n",
    "figsize = (15, 5)\n",
    "\n",
    "feat_imp = pd.DataFrame({'Importance':rf.feature_importances_})    \n",
    "feat_imp['feature'] = X.columns\n",
    "feat_imp.sort_values(by='Importance', ascending=False, inplace=True)\n",
    "feat_imp = feat_imp\n",
    "\n",
    "feat_imp.sort_values(by='Importance', inplace=True)\n",
    "feat_imp = feat_imp.set_index('feature', drop=True)\n",
    "feat_imp.plot.barh(title=title, figsize=figsize)\n",
    "plt.xlabel('Feature Importance Score')\n",
    "plt.show()"
   ]
  },
  {
   "cell_type": "markdown",
   "metadata": {},
   "source": [
    "Note how low the side is ranked. If we look at the performance of the primary model we will see that the M-R strategy gets only 21% of the trades correct."
   ]
  },
  {
   "cell_type": "markdown",
   "metadata": {},
   "source": [
    "---\n",
    "### Use PCA to shrink the predictor space"
   ]
  },
  {
   "cell_type": "code",
   "execution_count": 29,
   "metadata": {},
   "outputs": [
    {
     "name": "stdout",
     "output_type": "stream",
     "text": [
      "12\n"
     ]
    }
   ],
   "source": [
    "# standardize the data\n",
    "scaler = StandardScaler()\n",
    "\n",
    "# fit the training set only\n",
    "scaler.fit(X_train)\n",
    "\n",
    "# Apply the transform to both training and test sets\n",
    "X_train_std = scaler.transform(X_train)\n",
    "X_test_std = scaler.transform(X_test)\n",
    "\n",
    "# make an instance of the PCA model with 95% coverage\n",
    "pca = PCA(0.95)\n",
    "\n",
    "# fit teh PCA model\n",
    "pca.fit(X_train_std)\n",
    "print(pca.n_components_)\n",
    "\n",
    "# transform both training and test sets\n",
    "X_train_pca = pca.transform(X_train_std)\n",
    "X_test_pca = pca.transform(X_test_std)"
   ]
  },
  {
   "cell_type": "markdown",
   "metadata": {},
   "source": [
    "### Training Metrics (PCA)"
   ]
  },
  {
   "cell_type": "code",
   "execution_count": 30,
   "metadata": {},
   "outputs": [
    {
     "name": "stdout",
     "output_type": "stream",
     "text": [
      "              precision    recall  f1-score   support\n",
      "\n",
      "           0       0.89      1.00      0.94       331\n",
      "           1       1.00      0.02      0.05        41\n",
      "\n",
      "   micro avg       0.89      0.89      0.89       372\n",
      "   macro avg       0.95      0.51      0.50       372\n",
      "weighted avg       0.90      0.89      0.84       372\n",
      "\n",
      "Confusion Matrix\n",
      "[[331   0]\n",
      " [ 40   1]]\n",
      "\n",
      "Accuracy\n",
      "0.10515021459227468\n"
     ]
    },
    {
     "data": {
      "image/png": "[encoded data removed]",
      "text/plain": [
       "<Figure size 432x288 with 1 Axes>"
      ]
     },
     "metadata": {
      "needs_background": "light"
     },
     "output_type": "display_data"
    }
   ],
   "source": [
    "# Apply RF \n",
    "rf = RandomForestClassifier(max_depth=depth, n_estimators=n_estimator,\n",
    "                            criterion='entropy', random_state=c_random_state)\n",
    "rf.fit(X_train_pca, y_train.values.ravel())\n",
    "\n",
    "# Performance Metrics\n",
    "y_pred_rf = rf.predict_proba(X_train_pca)[:, 1]\n",
    "y_pred = rf.predict(X_train_pca)\n",
    "\n",
    "fpr_rf, tpr_rf, _ = roc_curve(y_train, y_pred_rf)\n",
    "print(classification_report(y_train, y_pred))\n",
    "\n",
    "print(\"Confusion Matrix\")\n",
    "print(confusion_matrix(y_train, y_pred))\n",
    "\n",
    "print('')\n",
    "print(\"Accuracy\")\n",
    "print(accuracy_score(actual, pred))\n",
    "\n",
    "plt.figure(1)\n",
    "plt.plot([0, 1], [0, 1], 'k--')\n",
    "plt.plot(fpr_rf, tpr_rf, label='RF')\n",
    "plt.xlabel('False positive rate')\n",
    "plt.ylabel('True positive rate')\n",
    "plt.title('ROC curve')\n",
    "plt.legend(loc='best')\n",
    "plt.show()"
   ]
  },
  {
   "cell_type": "markdown",
   "metadata": {},
   "source": [
    "### Test Metrics (PCA)"
   ]
  },
  {
   "cell_type": "code",
   "execution_count": 31,
   "metadata": {},
   "outputs": [
    {
     "name": "stderr",
     "output_type": "stream",
     "text": [
      "c:\\users\\asingh\\anaconda3\\envs\\cap\\lib\\site-packages\\sklearn\\metrics\\classification.py:1143: UndefinedMetricWarning: Precision and F-score are ill-defined and being set to 0.0 in labels with no predicted samples.\n",
      "  'precision', 'predicted', average, warn_for)\n"
     ]
    },
    {
     "name": "stdout",
     "output_type": "stream",
     "text": [
      "              precision    recall  f1-score   support\n",
      "\n",
      "           0       0.91      1.00      0.96        86\n",
      "           1       0.00      0.00      0.00         8\n",
      "\n",
      "   micro avg       0.91      0.91      0.91        94\n",
      "   macro avg       0.46      0.50      0.48        94\n",
      "weighted avg       0.84      0.91      0.87        94\n",
      "\n",
      "Confusion Matrix\n",
      "[[86  0]\n",
      " [ 8  0]]\n",
      "\n",
      "Accuracy\n",
      "0.10515021459227468\n"
     ]
    },
    {
     "data": {
      "image/png": "[encoded data removed]",
      "text/plain": [
       "<Figure size 432x288 with 1 Axes>"
      ]
     },
     "metadata": {
      "needs_background": "light"
     },
     "output_type": "display_data"
    }
   ],
   "source": [
    "# Performance Metrics\n",
    "y_pred_rf = rf.predict_proba(X_test_pca)[:, 1]\n",
    "y_pred = rf.predict(X_test_pca)\n",
    "\n",
    "fpr_rf, tpr_rf, _ = roc_curve(y_test, y_pred_rf)\n",
    "print(classification_report(y_test, y_pred))\n",
    "\n",
    "print(\"Confusion Matrix\")\n",
    "print(confusion_matrix(y_test, y_pred))\n",
    "\n",
    "print('')\n",
    "print(\"Accuracy\")\n",
    "print(accuracy_score(actual, pred))\n",
    "\n",
    "plt.figure(1)\n",
    "plt.plot([0, 1], [0, 1], 'k--')\n",
    "plt.plot(fpr_rf, tpr_rf, label='RF')\n",
    "plt.xlabel('False positive rate')\n",
    "plt.ylabel('True positive rate')\n",
    "plt.title('ROC curve')\n",
    "plt.legend(loc='best')\n",
    "plt.show()"
   ]
  },
  {
   "cell_type": "markdown",
   "metadata": {},
   "source": [
    "---\n",
    "## Performance Tear Sheets"
   ]
  },
  {
   "cell_type": "code",
   "execution_count": 32,
   "metadata": {},
   "outputs": [
    {
     "data": {
      "text/html": [
       "<table border=\"1\" class=\"dataframe\">\n",
       "  <thead>\n",
       "    <tr style=\"text-align: right;\"><th>Start date</th><td colspan=2>2016-04-28</td></tr>\n",
       "    <tr style=\"text-align: right;\"><th>End date</th><td colspan=2>2017-03-21</td></tr>\n",
       "    <tr style=\"text-align: right;\"><th>Total months</th><td colspan=2>4</td></tr>\n",
       "    <tr style=\"text-align: right;\">\n",
       "      <th></th>\n",
       "      <th>Backtest</th>\n",
       "    </tr>\n",
       "  </thead>\n",
       "  <tbody>\n",
       "    <tr>\n",
       "      <th>Annual return</th>\n",
       "      <td>75.8%</td>\n",
       "    </tr>\n",
       "    <tr>\n",
       "      <th>Cumulative returns</th>\n",
       "      <td>23.4%</td>\n",
       "    </tr>\n",
       "    <tr>\n",
       "      <th>Annual volatility</th>\n",
       "      <td>23.0%</td>\n",
       "    </tr>\n",
       "    <tr>\n",
       "      <th>Sharpe ratio</th>\n",
       "      <td>2.57</td>\n",
       "    </tr>\n",
       "    <tr>\n",
       "      <th>Calmar ratio</th>\n",
       "      <td>10.85</td>\n",
       "    </tr>\n",
       "    <tr>\n",
       "      <th>Stability</th>\n",
       "      <td>0.83</td>\n",
       "    </tr>\n",
       "    <tr>\n",
       "      <th>Max drawdown</th>\n",
       "      <td>-7.0%</td>\n",
       "    </tr>\n",
       "    <tr>\n",
       "      <th>Omega ratio</th>\n",
       "      <td>1.62</td>\n",
       "    </tr>\n",
       "    <tr>\n",
       "      <th>Sortino ratio</th>\n",
       "      <td>4.87</td>\n",
       "    </tr>\n",
       "    <tr>\n",
       "      <th>Skew</th>\n",
       "      <td>1.03</td>\n",
       "    </tr>\n",
       "    <tr>\n",
       "      <th>Kurtosis</th>\n",
       "      <td>2.63</td>\n",
       "    </tr>\n",
       "    <tr>\n",
       "      <th>Tail ratio</th>\n",
       "      <td>1.60</td>\n",
       "    </tr>\n",
       "    <tr>\n",
       "      <th>Daily value at risk</th>\n",
       "      <td>-2.7%</td>\n",
       "    </tr>\n",
       "  </tbody>\n",
       "</table>"
      ],
      "text/plain": [
       "<IPython.core.display.HTML object>"
      ]
     },
     "metadata": {},
     "output_type": "display_data"
    },
    {
     "name": "stdout",
     "output_type": "stream",
     "text": [
      "None\n"
     ]
    },
    {
     "name": "stderr",
     "output_type": "stream",
     "text": [
      "c:\\users\\asingh\\anaconda3\\envs\\cap\\lib\\site-packages\\numpy\\core\\fromnumeric.py:56: FutureWarning: 'argmin' is deprecated, use 'idxmin' instead. The behavior of 'argmin'\n",
      "will be corrected to return the positional minimum in the future.\n",
      "Use 'series.values.argmin' to get the position of the minimum now.\n",
      "  return getattr(obj, method)(*args, **kwds)\n"
     ]
    },
    {
     "data": {
      "text/html": [
       "<table border=\"1\" class=\"dataframe\">\n",
       "  <thead>\n",
       "    <tr style=\"text-align: right;\">\n",
       "      <th>Worst drawdown periods</th>\n",
       "      <th>Net drawdown in %</th>\n",
       "      <th>Peak date</th>\n",
       "      <th>Valley date</th>\n",
       "      <th>Recovery date</th>\n",
       "      <th>Duration</th>\n",
       "    </tr>\n",
       "  </thead>\n",
       "  <tbody>\n",
       "    <tr>\n",
       "      <th>0</th>\n",
       "      <td>6.29</td>\n",
       "      <td>2016-05-19</td>\n",
       "      <td>2016-06-23</td>\n",
       "      <td>2016-06-24</td>\n",
       "      <td>26</td>\n",
       "    </tr>\n",
       "    <tr>\n",
       "      <th>1</th>\n",
       "      <td>6.15</td>\n",
       "      <td>2016-09-08</td>\n",
       "      <td>2016-09-09</td>\n",
       "      <td>2016-10-24</td>\n",
       "      <td>33</td>\n",
       "    </tr>\n",
       "    <tr>\n",
       "      <th>2</th>\n",
       "      <td>4.87</td>\n",
       "      <td>2016-06-24</td>\n",
       "      <td>2016-07-08</td>\n",
       "      <td>2016-09-08</td>\n",
       "      <td>55</td>\n",
       "    </tr>\n",
       "    <tr>\n",
       "      <th>3</th>\n",
       "      <td>4.21</td>\n",
       "      <td>2016-12-05</td>\n",
       "      <td>2017-03-06</td>\n",
       "      <td>NaT</td>\n",
       "      <td>NaN</td>\n",
       "    </tr>\n",
       "    <tr>\n",
       "      <th>4</th>\n",
       "      <td>1.47</td>\n",
       "      <td>2016-10-24</td>\n",
       "      <td>2016-10-28</td>\n",
       "      <td>2016-11-09</td>\n",
       "      <td>12</td>\n",
       "    </tr>\n",
       "  </tbody>\n",
       "</table>"
      ],
      "text/plain": [
       "<IPython.core.display.HTML object>"
      ]
     },
     "metadata": {},
     "output_type": "display_data"
    },
    {
     "name": "stdout",
     "output_type": "stream",
     "text": [
      "None\n"
     ]
    }
   ],
   "source": [
    "test_dates = X_test.index\n",
    "\n",
    "print(pf.show_perf_stats(labels.loc[test_dates, 'ret']))\n",
    "print(pf.show_worst_drawdown_periods(labels.loc[test_dates, 'ret']))"
   ]
  },
  {
   "cell_type": "code",
   "execution_count": 33,
   "metadata": {},
   "outputs": [
    {
     "name": "stderr",
     "output_type": "stream",
     "text": [
      "c:\\users\\asingh\\anaconda3\\envs\\cap\\lib\\site-packages\\empyrical\\stats.py:704: RuntimeWarning: invalid value encountered in true_divide\n",
      "  out=out,\n",
      "c:\\users\\asingh\\anaconda3\\envs\\cap\\lib\\site-packages\\empyrical\\stats.py:790: RuntimeWarning: invalid value encountered in true_divide\n",
      "  np.divide(average_annual_return, annualized_downside_risk, out=out)\n",
      "c:\\users\\asingh\\anaconda3\\envs\\cap\\lib\\site-packages\\empyrical\\stats.py:1511: RuntimeWarning: invalid value encountered in double_scalars\n",
      "  np.abs(np.percentile(returns, 5))\n"
     ]
    },
    {
     "data": {
      "text/html": [
       "<table border=\"1\" class=\"dataframe\">\n",
       "  <thead>\n",
       "    <tr style=\"text-align: right;\"><th>Start date</th><td colspan=2>2016-04-28</td></tr>\n",
       "    <tr style=\"text-align: right;\"><th>End date</th><td colspan=2>2017-03-21</td></tr>\n",
       "    <tr style=\"text-align: right;\"><th>Total months</th><td colspan=2>4</td></tr>\n",
       "    <tr style=\"text-align: right;\">\n",
       "      <th></th>\n",
       "      <th>Backtest</th>\n",
       "    </tr>\n",
       "  </thead>\n",
       "  <tbody>\n",
       "    <tr>\n",
       "      <th>Annual return</th>\n",
       "      <td>0.0%</td>\n",
       "    </tr>\n",
       "    <tr>\n",
       "      <th>Cumulative returns</th>\n",
       "      <td>0.0%</td>\n",
       "    </tr>\n",
       "    <tr>\n",
       "      <th>Annual volatility</th>\n",
       "      <td>0.0%</td>\n",
       "    </tr>\n",
       "    <tr>\n",
       "      <th>Sharpe ratio</th>\n",
       "      <td>NaN</td>\n",
       "    </tr>\n",
       "    <tr>\n",
       "      <th>Calmar ratio</th>\n",
       "      <td>NaN</td>\n",
       "    </tr>\n",
       "    <tr>\n",
       "      <th>Stability</th>\n",
       "      <td>0.00</td>\n",
       "    </tr>\n",
       "    <tr>\n",
       "      <th>Max drawdown</th>\n",
       "      <td>0.0%</td>\n",
       "    </tr>\n",
       "    <tr>\n",
       "      <th>Omega ratio</th>\n",
       "      <td>NaN</td>\n",
       "    </tr>\n",
       "    <tr>\n",
       "      <th>Sortino ratio</th>\n",
       "      <td>NaN</td>\n",
       "    </tr>\n",
       "    <tr>\n",
       "      <th>Skew</th>\n",
       "      <td>0.00</td>\n",
       "    </tr>\n",
       "    <tr>\n",
       "      <th>Kurtosis</th>\n",
       "      <td>-3.00</td>\n",
       "    </tr>\n",
       "    <tr>\n",
       "      <th>Tail ratio</th>\n",
       "      <td>NaN</td>\n",
       "    </tr>\n",
       "    <tr>\n",
       "      <th>Daily value at risk</th>\n",
       "      <td>0.0%</td>\n",
       "    </tr>\n",
       "  </tbody>\n",
       "</table>"
      ],
      "text/plain": [
       "<IPython.core.display.HTML object>"
      ]
     },
     "metadata": {},
     "output_type": "display_data"
    },
    {
     "name": "stdout",
     "output_type": "stream",
     "text": [
      "None\n"
     ]
    },
    {
     "data": {
      "text/html": [
       "<table border=\"1\" class=\"dataframe\">\n",
       "  <thead>\n",
       "    <tr style=\"text-align: right;\">\n",
       "      <th>Worst drawdown periods</th>\n",
       "      <th>Net drawdown in %</th>\n",
       "      <th>Peak date</th>\n",
       "      <th>Valley date</th>\n",
       "      <th>Recovery date</th>\n",
       "      <th>Duration</th>\n",
       "    </tr>\n",
       "  </thead>\n",
       "  <tbody>\n",
       "    <tr>\n",
       "      <th>0</th>\n",
       "      <td>0.00</td>\n",
       "      <td>2016-04-28</td>\n",
       "      <td>2016-04-28</td>\n",
       "      <td>2016-04-28</td>\n",
       "      <td>1</td>\n",
       "    </tr>\n",
       "    <tr>\n",
       "      <th>1</th>\n",
       "      <td>0.00</td>\n",
       "      <td>2016-04-28</td>\n",
       "      <td>2016-04-28</td>\n",
       "      <td>2016-04-28</td>\n",
       "      <td>1</td>\n",
       "    </tr>\n",
       "    <tr>\n",
       "      <th>2</th>\n",
       "      <td>0.00</td>\n",
       "      <td>2016-04-28</td>\n",
       "      <td>2016-04-28</td>\n",
       "      <td>2016-04-28</td>\n",
       "      <td>1</td>\n",
       "    </tr>\n",
       "    <tr>\n",
       "      <th>3</th>\n",
       "      <td>0.00</td>\n",
       "      <td>2016-04-28</td>\n",
       "      <td>2016-04-28</td>\n",
       "      <td>2016-04-28</td>\n",
       "      <td>1</td>\n",
       "    </tr>\n",
       "    <tr>\n",
       "      <th>4</th>\n",
       "      <td>0.00</td>\n",
       "      <td>2016-04-28</td>\n",
       "      <td>2016-04-28</td>\n",
       "      <td>2016-04-28</td>\n",
       "      <td>1</td>\n",
       "    </tr>\n",
       "  </tbody>\n",
       "</table>"
      ],
      "text/plain": [
       "<IPython.core.display.HTML object>"
      ]
     },
     "metadata": {},
     "output_type": "display_data"
    },
    {
     "name": "stdout",
     "output_type": "stream",
     "text": [
      "None\n"
     ]
    }
   ],
   "source": [
    "meta_returns = labels.loc[test_dates, 'ret'] * y_pred\n",
    "\n",
    "print(pf.show_perf_stats(meta_returns))\n",
    "print(pf.show_worst_drawdown_periods(meta_returns))"
   ]
  },
  {
   "cell_type": "markdown",
   "metadata": {},
   "source": [
    "---\n",
    "## Conclusion\n"
   ]
  }
 ],
 "metadata": {
  "kernelspec": {
   "display_name": "Python 3",
   "language": "python",
   "name": "python3"
  },
  "language_info": {
   "codemirror_mode": {
    "name": "ipython",
    "version": 3
   },
   "file_extension": ".py",
   "mimetype": "text/x-python",
   "name": "python",
   "nbconvert_exporter": "python",
   "pygments_lexer": "ipython3",
   "version": "3.6.8"
  }
 },
 "nbformat": 4,
 "nbformat_minor": 2
}
