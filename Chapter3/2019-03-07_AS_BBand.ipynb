{
 "cells": [
  {
   "cell_type": "markdown",
   "metadata": {},
   "source": [
    "# Mean reverting startegy based on Bollinger bands Strategy\n",
    "\n",
    "This notebook answers question 3.5 form the text book Advances in Financial Machine Learning.\n",
    "\n",
    "3.5 Develop a mean-reverting strategy based on Bollinger bands. For each observation, the model suggests a side, but not a size of the bet.\n",
    "\n",
    "* (a) Derive meta-labels for ptSl = [0, 2] and t1 where numDays = 1. Use as trgt the daily standard deviation as computed by Snippet 3.1.\n",
    "* (b) Train a random forest to decide whether to trade or not. Use as features: volatility, seial correlation, and teh crossinmg moving averages.\n",
    "* (c) What is teh accuracy of prediction from the primary model? (i.e. if the secondary model does not filter the bets) What are the precision, recall and FI-scores?\n",
    "* (d) What is teh accuracy of prediction from the primary model? What are the precision, recall and FI-scores?\n"
   ]
  },
  {
   "cell_type": "code",
   "execution_count": 1,
   "metadata": {},
   "outputs": [],
   "source": [
    "import numpy as np\n",
    "import pandas as pd\n",
    "import pyfolio as pf\n",
    "import timeit\n",
    "\n",
    "from statsmodels.tsa.stattools import adfuller\n",
    "\n",
    "from sklearn.ensemble import RandomForestClassifier\n",
    "from sklearn.model_selection import train_test_split\n",
    "from sklearn.metrics import roc_curve, classification_report, confusion_matrix, accuracy_score\n",
    "\n",
    "from mlfinlab.corefns.core_functions import CoreFunctions\n",
    "from mlfinlab.corefns.financial_functions import FinancialFunctions\n",
    "from mlfinlab.fracdiff.fracdiff import frac_diff_ffd\n",
    "\n",
    "import matplotlib.pyplot as plt\n",
    "%matplotlib inline"
   ]
  },
  {
   "cell_type": "markdown",
   "metadata": {},
   "source": [
    "### Read in Data\n",
    "We are using the dollar bars based off of the high quality HFT data we purchased. There is a sample of bars available in this branch as well. "
   ]
  },
  {
   "cell_type": "code",
   "execution_count": 2,
   "metadata": {},
   "outputs": [],
   "source": [
    "# Read in data\n",
    "data = pd.read_csv('official_data/dollar_bars.csv')\n",
    "data.index = pd.to_datetime(data['date_time'])\n",
    "data = data.drop('date_time', axis=1)"
   ]
  },
  {
   "cell_type": "code",
   "execution_count": 3,
   "metadata": {},
   "outputs": [],
   "source": [
    "data = data['2011-09-01':'2018-01-01']"
   ]
  },
  {
   "cell_type": "markdown",
   "metadata": {},
   "source": [
    "---\n",
    "### Define helper functions"
   ]
  },
  {
   "cell_type": "code",
   "execution_count": 4,
   "metadata": {},
   "outputs": [],
   "source": [
    "def relative_strength_index(df, n):\n",
    "    i = 0\n",
    "    UpI = [0]\n",
    "    DoI = [0]\n",
    "    while i + 1 <= df.index[-1]:\n",
    "        UpMove = df.loc[i + 1, 'high'] - df.loc[i, 'high']\n",
    "        DoMove = df.loc[i, 'low'] - df.loc[i + 1, 'low']\n",
    "        if UpMove > DoMove and UpMove > 0:\n",
    "            UpD = UpMove\n",
    "        else:\n",
    "            UpD = 0\n",
    "        UpI.append(UpD)\n",
    "        if DoMove > UpMove and DoMove > 0:\n",
    "            DoD = DoMove\n",
    "        else:\n",
    "            DoD = 0\n",
    "        DoI.append(DoD)\n",
    "        i = i + 1\n",
    "    UpI = pd.Series(UpI)\n",
    "    DoI = pd.Series(DoI)\n",
    "\n",
    "    PosDI = pd.Series(UpI.ewm(span=n, min_periods=n).mean())\n",
    "    NegDI = pd.Series(DoI.ewm(span=n, min_periods=n).mean())\n",
    "\n",
    "    # PosDI = pd.Series(UpI.rolling(window=n).mean())\n",
    "    # NegDI = pd.Series(DoI.rolling(window=n).mean())\n",
    "\n",
    "    RSI = pd.Series(round(PosDI * 100. / (PosDI + NegDI)), name='RSI_' + str(n))\n",
    "    # df = df.join(RSI)\n",
    "    return RSI\n",
    "\n",
    "    \n",
    "# Compute RSI\n",
    "def get_rsi(data, window=14):\n",
    "    df = data.copy(deep=True).reset_index()\n",
    "    rsi = FinancialFunctions.relative_strength_index(df, window)\n",
    "    rsi_df = pd.Series(data=rsi.values, index=data.index)\n",
    "    return rsi_df"
   ]
  },
  {
   "cell_type": "code",
   "execution_count": 5,
   "metadata": {},
   "outputs": [],
   "source": [
    "def compute_side(data):\n",
    "    # Apply Bolinger band strategy\n",
    "    \"\"\"\n",
    "    The following is a mean reverting strategy using Bollinger Bands:\n",
    "    * If price above upper band then short.\n",
    "    * If price below bottom band then long.\n",
    "    * If price cross mean price then close all positions.\n",
    "    \"\"\"\n",
    "    current_side = 0\n",
    "\n",
    "    store = []\n",
    "    for row in data.itertuples():\n",
    "            # Buy signal\n",
    "            if row.close > row.upper and current_side != -1:\n",
    "                current_side = -1\n",
    "                store.append(current_side)\n",
    "\n",
    "            # Short signal\n",
    "            elif row.close < row.lower and current_side != 1:\n",
    "                current_side = 1\n",
    "                store.append(current_side)\n",
    "\n",
    "            # Close signal long\n",
    "            elif current_side == 1 and row.close > row.avg:\n",
    "                current_side = 0\n",
    "                store.append(current_side)\n",
    "\n",
    "            # Close signal short\n",
    "            elif current_side == -1 and row.close < row.avg:\n",
    "                current_side = 0\n",
    "                store.append(current_side)\n",
    "\n",
    "            # No action\n",
    "            else:\n",
    "                store.append(current_side)\n",
    "    return store"
   ]
  },
  {
   "cell_type": "markdown",
   "metadata": {},
   "source": [
    "---\n",
    "### Fit a Primary Model: Mean-reverting based on Bollinger bands\n",
    "Based on the mean-reverting Bollinger band strategy.\n"
   ]
  },
  {
   "cell_type": "code",
   "execution_count": 6,
   "metadata": {},
   "outputs": [
    {
     "data": {
      "text/html": [
       "<div>\n",
       "<style scoped>\n",
       "    .dataframe tbody tr th:only-of-type {\n",
       "        vertical-align: middle;\n",
       "    }\n",
       "\n",
       "    .dataframe tbody tr th {\n",
       "        vertical-align: top;\n",
       "    }\n",
       "\n",
       "    .dataframe thead th {\n",
       "        text-align: right;\n",
       "    }\n",
       "</style>\n",
       "<table border=\"1\" class=\"dataframe\">\n",
       "  <thead>\n",
       "    <tr style=\"text-align: right;\">\n",
       "      <th></th>\n",
       "      <th>open</th>\n",
       "      <th>high</th>\n",
       "      <th>low</th>\n",
       "      <th>close</th>\n",
       "      <th>cum_vol</th>\n",
       "      <th>cum_dollar</th>\n",
       "      <th>cum_ticks</th>\n",
       "      <th>avg</th>\n",
       "      <th>upper</th>\n",
       "      <th>lower</th>\n",
       "    </tr>\n",
       "    <tr>\n",
       "      <th>date_time</th>\n",
       "      <th></th>\n",
       "      <th></th>\n",
       "      <th></th>\n",
       "      <th></th>\n",
       "      <th></th>\n",
       "      <th></th>\n",
       "      <th></th>\n",
       "      <th></th>\n",
       "      <th></th>\n",
       "      <th></th>\n",
       "    </tr>\n",
       "  </thead>\n",
       "  <tbody>\n",
       "    <tr>\n",
       "      <th>2015-07-07 19:59:59.050</th>\n",
       "      <td>2072.75</td>\n",
       "      <td>2074.00</td>\n",
       "      <td>2072.25</td>\n",
       "      <td>2073.75</td>\n",
       "      <td>34014</td>\n",
       "      <td>70525408.50</td>\n",
       "      <td>1986</td>\n",
       "      <td>2054.345</td>\n",
       "      <td>2079.060295</td>\n",
       "      <td>2029.629705</td>\n",
       "    </tr>\n",
       "    <tr>\n",
       "      <th>2012-06-29 07:00:00.265</th>\n",
       "      <td>1337.00</td>\n",
       "      <td>1343.00</td>\n",
       "      <td>1336.75</td>\n",
       "      <td>1342.25</td>\n",
       "      <td>52299</td>\n",
       "      <td>70078248.00</td>\n",
       "      <td>12516</td>\n",
       "      <td>1317.520</td>\n",
       "      <td>1332.197082</td>\n",
       "      <td>1302.842918</td>\n",
       "    </tr>\n",
       "    <tr>\n",
       "      <th>2011-11-24 13:37:42.201</th>\n",
       "      <td>1171.50</td>\n",
       "      <td>1172.25</td>\n",
       "      <td>1166.25</td>\n",
       "      <td>1167.25</td>\n",
       "      <td>59873</td>\n",
       "      <td>70000180.75</td>\n",
       "      <td>19316</td>\n",
       "      <td>1170.325</td>\n",
       "      <td>1185.993847</td>\n",
       "      <td>1154.656153</td>\n",
       "    </tr>\n",
       "    <tr>\n",
       "      <th>2012-09-04 13:40:35.883</th>\n",
       "      <td>1404.75</td>\n",
       "      <td>1405.25</td>\n",
       "      <td>1402.25</td>\n",
       "      <td>1402.50</td>\n",
       "      <td>49873</td>\n",
       "      <td>70007594.50</td>\n",
       "      <td>13887</td>\n",
       "      <td>1404.925</td>\n",
       "      <td>1411.071386</td>\n",
       "      <td>1398.778614</td>\n",
       "    </tr>\n",
       "    <tr>\n",
       "      <th>2017-02-22 17:02:41.607</th>\n",
       "      <td>2359.00</td>\n",
       "      <td>2360.00</td>\n",
       "      <td>2358.25</td>\n",
       "      <td>2358.50</td>\n",
       "      <td>29674</td>\n",
       "      <td>70005934.75</td>\n",
       "      <td>2426</td>\n",
       "      <td>2359.960</td>\n",
       "      <td>2364.311120</td>\n",
       "      <td>2355.608880</td>\n",
       "    </tr>\n",
       "    <tr>\n",
       "      <th>2015-03-23 20:01:39.849</th>\n",
       "      <td>2096.50</td>\n",
       "      <td>2096.50</td>\n",
       "      <td>2095.25</td>\n",
       "      <td>2095.25</td>\n",
       "      <td>33424</td>\n",
       "      <td>70056993.25</td>\n",
       "      <td>3411</td>\n",
       "      <td>2101.960</td>\n",
       "      <td>2107.757044</td>\n",
       "      <td>2096.162956</td>\n",
       "    </tr>\n",
       "    <tr>\n",
       "      <th>2016-12-09 20:08:06.391</th>\n",
       "      <td>2249.00</td>\n",
       "      <td>2251.50</td>\n",
       "      <td>2248.75</td>\n",
       "      <td>2251.50</td>\n",
       "      <td>31128</td>\n",
       "      <td>70035283.25</td>\n",
       "      <td>2436</td>\n",
       "      <td>2246.320</td>\n",
       "      <td>2250.705784</td>\n",
       "      <td>2241.934216</td>\n",
       "    </tr>\n",
       "    <tr>\n",
       "      <th>2017-08-21 17:33:52.571</th>\n",
       "      <td>2427.00</td>\n",
       "      <td>2427.50</td>\n",
       "      <td>2425.50</td>\n",
       "      <td>2426.25</td>\n",
       "      <td>28997</td>\n",
       "      <td>70357444.75</td>\n",
       "      <td>2796</td>\n",
       "      <td>2424.795</td>\n",
       "      <td>2431.580857</td>\n",
       "      <td>2418.009143</td>\n",
       "    </tr>\n",
       "    <tr>\n",
       "      <th>2011-11-01 13:44:54.508</th>\n",
       "      <td>1217.75</td>\n",
       "      <td>1219.75</td>\n",
       "      <td>1216.00</td>\n",
       "      <td>1216.25</td>\n",
       "      <td>57482</td>\n",
       "      <td>70011870.00</td>\n",
       "      <td>16004</td>\n",
       "      <td>1246.945</td>\n",
       "      <td>1285.591262</td>\n",
       "      <td>1208.298738</td>\n",
       "    </tr>\n",
       "    <tr>\n",
       "      <th>2015-05-01 13:22:00.839</th>\n",
       "      <td>2087.00</td>\n",
       "      <td>2089.00</td>\n",
       "      <td>2085.25</td>\n",
       "      <td>2088.50</td>\n",
       "      <td>33595</td>\n",
       "      <td>70103152.00</td>\n",
       "      <td>3594</td>\n",
       "      <td>2083.255</td>\n",
       "      <td>2095.109772</td>\n",
       "      <td>2071.400228</td>\n",
       "    </tr>\n",
       "  </tbody>\n",
       "</table>\n",
       "</div>"
      ],
      "text/plain": [
       "                            open     high      low    close  cum_vol  \\\n",
       "date_time                                                              \n",
       "2015-07-07 19:59:59.050  2072.75  2074.00  2072.25  2073.75    34014   \n",
       "2012-06-29 07:00:00.265  1337.00  1343.00  1336.75  1342.25    52299   \n",
       "2011-11-24 13:37:42.201  1171.50  1172.25  1166.25  1167.25    59873   \n",
       "2012-09-04 13:40:35.883  1404.75  1405.25  1402.25  1402.50    49873   \n",
       "2017-02-22 17:02:41.607  2359.00  2360.00  2358.25  2358.50    29674   \n",
       "2015-03-23 20:01:39.849  2096.50  2096.50  2095.25  2095.25    33424   \n",
       "2016-12-09 20:08:06.391  2249.00  2251.50  2248.75  2251.50    31128   \n",
       "2017-08-21 17:33:52.571  2427.00  2427.50  2425.50  2426.25    28997   \n",
       "2011-11-01 13:44:54.508  1217.75  1219.75  1216.00  1216.25    57482   \n",
       "2015-05-01 13:22:00.839  2087.00  2089.00  2085.25  2088.50    33595   \n",
       "\n",
       "                          cum_dollar  cum_ticks       avg        upper  \\\n",
       "date_time                                                                \n",
       "2015-07-07 19:59:59.050  70525408.50       1986  2054.345  2079.060295   \n",
       "2012-06-29 07:00:00.265  70078248.00      12516  1317.520  1332.197082   \n",
       "2011-11-24 13:37:42.201  70000180.75      19316  1170.325  1185.993847   \n",
       "2012-09-04 13:40:35.883  70007594.50      13887  1404.925  1411.071386   \n",
       "2017-02-22 17:02:41.607  70005934.75       2426  2359.960  2364.311120   \n",
       "2015-03-23 20:01:39.849  70056993.25       3411  2101.960  2107.757044   \n",
       "2016-12-09 20:08:06.391  70035283.25       2436  2246.320  2250.705784   \n",
       "2017-08-21 17:33:52.571  70357444.75       2796  2424.795  2431.580857   \n",
       "2011-11-01 13:44:54.508  70011870.00      16004  1246.945  1285.591262   \n",
       "2015-05-01 13:22:00.839  70103152.00       3594  2083.255  2095.109772   \n",
       "\n",
       "                               lower  \n",
       "date_time                             \n",
       "2015-07-07 19:59:59.050  2029.629705  \n",
       "2012-06-29 07:00:00.265  1302.842918  \n",
       "2011-11-24 13:37:42.201  1154.656153  \n",
       "2012-09-04 13:40:35.883  1398.778614  \n",
       "2017-02-22 17:02:41.607  2355.608880  \n",
       "2015-03-23 20:01:39.849  2096.162956  \n",
       "2016-12-09 20:08:06.391  2241.934216  \n",
       "2017-08-21 17:33:52.571  2418.009143  \n",
       "2011-11-01 13:44:54.508  1208.298738  \n",
       "2015-05-01 13:22:00.839  2071.400228  "
      ]
     },
     "execution_count": 6,
     "metadata": {},
     "output_type": "execute_result"
    }
   ],
   "source": [
    "# compute bands\n",
    "window = 50\n",
    "data['avg'], data['upper'], data['lower'] = FinancialFunctions.bbands(data['close'], window, no_of_stdev=2)\n",
    "data.sample(10)"
   ]
  },
  {
   "cell_type": "code",
   "execution_count": 7,
   "metadata": {},
   "outputs": [
    {
     "name": "stdout",
     "output_type": "stream",
     "text": [
      "ADF Statistic: 12.348000\n",
      "p-value: 0.000000\n",
      "Critical values:\n",
      "\t1%: -3.430\n",
      "\t5%: -2.862\n",
      "\t10%: -2.567\n"
     ]
    }
   ],
   "source": [
    "# Compute frac diff\n",
    "fracs = frac_diff_ffd(data['close'].apply(np.log), differencing_amt=0.55, threshold=1e-5)\n",
    "\n",
    "result = adfuller(fracs, maxlag=2, regression='C', autolag='AIC', store=False, regresults=False)\n",
    "print('ADF Statistic: %f' % abs(round(result[0], 3)))\n",
    "print('p-value: %f' % result[1])\n",
    "print('Critical values:')\n",
    "for k, v in result[4].items():\n",
    "    print('\\t%s: %.3f' % (k, v))"
   ]
  },
  {
   "cell_type": "code",
   "execution_count": 8,
   "metadata": {},
   "outputs": [],
   "source": [
    "frac_df = pd.Series(data=fracs, index=data.index)\n",
    "frac_df.tail()\n",
    "data['fracdiff'] = [frac_df[x] for x in data.index]"
   ]
  },
  {
   "cell_type": "code",
   "execution_count": 9,
   "metadata": {},
   "outputs": [],
   "source": [
    "# Compute RSI\n",
    "rsi_df = get_rsi(data, window=14)\n",
    "data['rsi'] = pd.Series(data=rsi_df.values, index=data.index)\n",
    "\n",
    "# Drop the NaN values from our data set\n",
    "data.dropna(axis=0, how='any', inplace=True)"
   ]
  },
  {
   "cell_type": "code",
   "execution_count": 10,
   "metadata": {},
   "outputs": [],
   "source": [
    "# data['side'] = compute_side(data)\n",
    "long_signals = (data['close'] <= data['lower']) & (data['rsi'] <= 25)\n",
    "short_signals = (data['close'] >= data['upper']) & (data['rsi'] >= 75) \n",
    "data.loc[long_signals, 'side'] = 1\n",
    "data.loc[short_signals, 'side'] = -1\n",
    "\n",
    "# Remove Look ahead biase by lagging the signal\n",
    "data['side'] = data['side'].shift(1)\n"
   ]
  },
  {
   "cell_type": "code",
   "execution_count": 11,
   "metadata": {},
   "outputs": [],
   "source": [
    "# Save the raw data\n",
    "raw_data = data.copy()\n",
    "\n",
    "# Drop the NaN values from our data set\n",
    "data.dropna(axis=0, how='any', inplace=True)"
   ]
  },
  {
   "cell_type": "code",
   "execution_count": 12,
   "metadata": {},
   "outputs": [
    {
     "name": "stdout",
     "output_type": "stream",
     "text": [
      "-1.0    2988\n",
      " 1.0    2863\n",
      "Name: side, dtype: int64\n"
     ]
    }
   ],
   "source": [
    "# print(data.sample(5))\n",
    "print(data.side.value_counts())"
   ]
  },
  {
   "cell_type": "markdown",
   "metadata": {},
   "source": [
    "### Filter Events: CUSUM Filter\n",
    "Predict what will happen when a CUSUM event is triggered. Use the signal from the MAvg Strategy to determine the side of the bet."
   ]
  },
  {
   "cell_type": "code",
   "execution_count": 13,
   "metadata": {},
   "outputs": [
    {
     "name": "stdout",
     "output_type": "stream",
     "text": [
      "Calculating daily volatility for dynamic thresholds\n",
      "Applying Symmetric CUSUM filter.\n"
     ]
    },
    {
     "name": "stderr",
     "output_type": "stream",
     "text": [
      "100%|███████████████████████████████████████████████████████████████████████████| 5849/5849 [00:00<00:00, 15984.87it/s]\n"
     ]
    }
   ],
   "source": [
    "# Compute daily volatility\n",
    "daily_vol = CoreFunctions.get_daily_vol(close=data['close'], lookback=50)\n",
    "\n",
    "# Apply Symmetric CUSUM Filter and get timestamps for events\n",
    "# Note: Only the CUSUM filter needs a point estimate for volatility\n",
    "cusum_events = CoreFunctions.get_t_events(data['close'], threshold=daily_vol.mean() * 0.1)\n",
    "\n",
    "# Compute vertical barrier\n",
    "vertical_barriers = CoreFunctions.add_vertical_barrier(t_events=cusum_events, close=data['close'], num_days=1)"
   ]
  },
  {
   "cell_type": "code",
   "execution_count": 14,
   "metadata": {},
   "outputs": [
    {
     "name": "stderr",
     "output_type": "stream",
     "text": []
    },
    {
     "name": "stderr",
     "output_type": "stream",
     "text": [
      "2019-03-07 17:18:11.356052 100.0% apply_pt_sl_on_t1 done after 0.05 minutes. Remaining 0.0 minutes.\n"
     ]
    }
   ],
   "source": [
    "pt_sl = [0, 2]\n",
    "triple_barrier_events = CoreFunctions.get_events(close=data['close'],\n",
    "                                  t_events=cusum_events,\n",
    "                                  pt_sl=pt_sl,\n",
    "                                  target=daily_vol,\n",
    "                                  min_ret=0.01,\n",
    "                                  num_threads=2,\n",
    "                                  vertical_barrier_times=vertical_barriers,\n",
    "                                  side=data['side'])"
   ]
  },
  {
   "cell_type": "code",
   "execution_count": 15,
   "metadata": {},
   "outputs": [],
   "source": [
    "labels = CoreFunctions.get_bins(triple_barrier_events, data['close'])"
   ]
  },
  {
   "cell_type": "markdown",
   "metadata": {},
   "source": [
    "---\n",
    "### Results of Primary Model:\n",
    "What is the accuracy of predictions from the primary model (i.e., if the sec- ondary model does not filter the bets)? What are the precision, recall, and F1-scores?"
   ]
  },
  {
   "cell_type": "code",
   "execution_count": 16,
   "metadata": {},
   "outputs": [
    {
     "name": "stderr",
     "output_type": "stream",
     "text": [
      "C:\\Users\\singash2\\AppData\\Local\\Continuum\\anaconda3\\envs\\cap\\lib\\site-packages\\sklearn\\metrics\\classification.py:1143: UndefinedMetricWarning: Precision and F-score are ill-defined and being set to 0.0 in labels with no predicted samples.\n",
      "  'precision', 'predicted', average, warn_for)\n"
     ]
    },
    {
     "name": "stdout",
     "output_type": "stream",
     "text": [
      "              precision    recall  f1-score   support\n",
      "\n",
      "           0       0.00      0.00      0.00       293\n",
      "           1       0.17      1.00      0.30        62\n",
      "\n",
      "   micro avg       0.17      0.17      0.17       355\n",
      "   macro avg       0.09      0.50      0.15       355\n",
      "weighted avg       0.03      0.17      0.05       355\n",
      "\n",
      "Confusion Matrix\n",
      "[[  0 293]\n",
      " [  0  62]]\n",
      "\n",
      "Accuracy\n",
      "0.17464788732394365\n"
     ]
    }
   ],
   "source": [
    "primary_forecast = pd.DataFrame(labels['bin'])\n",
    "primary_forecast['pred'] = 1\n",
    "primary_forecast.columns = ['actual', 'pred']\n",
    "\n",
    "# Performance Metrics\n",
    "actual = primary_forecast['actual']\n",
    "pred = primary_forecast['pred']\n",
    "print(classification_report(y_true=actual, y_pred=pred))\n",
    "\n",
    "print(\"Confusion Matrix\")\n",
    "print(confusion_matrix(actual, pred))\n",
    "\n",
    "print('')\n",
    "print(\"Accuracy\")\n",
    "print(accuracy_score(actual, pred))"
   ]
  },
  {
   "cell_type": "markdown",
   "metadata": {},
   "source": [
    "---\n",
    "## Fit a Meta Model\n",
    "Train a random forest to decide whether to trade or not (i.e 1 or 0 respectively) since the earlier model has decided the side (-1 or 1)\n",
    "\n",
    "Create the following features: \n",
    "* Volatility\n",
    "* Serial Correlation\n",
    "* The returns at the different lags from the serial correlation\n",
    "* The sides from the SMavg Strategy"
   ]
  },
  {
   "cell_type": "code",
   "execution_count": 17,
   "metadata": {},
   "outputs": [
    {
     "data": {
      "text/html": [
       "<div>\n",
       "<style scoped>\n",
       "    .dataframe tbody tr th:only-of-type {\n",
       "        vertical-align: middle;\n",
       "    }\n",
       "\n",
       "    .dataframe tbody tr th {\n",
       "        vertical-align: top;\n",
       "    }\n",
       "\n",
       "    .dataframe thead th {\n",
       "        text-align: right;\n",
       "    }\n",
       "</style>\n",
       "<table border=\"1\" class=\"dataframe\">\n",
       "  <thead>\n",
       "    <tr style=\"text-align: right;\">\n",
       "      <th></th>\n",
       "      <th>open</th>\n",
       "      <th>high</th>\n",
       "      <th>low</th>\n",
       "      <th>close</th>\n",
       "      <th>cum_vol</th>\n",
       "      <th>cum_dollar</th>\n",
       "      <th>cum_ticks</th>\n",
       "      <th>avg</th>\n",
       "      <th>upper</th>\n",
       "      <th>lower</th>\n",
       "      <th>fracdiff</th>\n",
       "      <th>rsi</th>\n",
       "      <th>side</th>\n",
       "    </tr>\n",
       "    <tr>\n",
       "      <th>date_time</th>\n",
       "      <th></th>\n",
       "      <th></th>\n",
       "      <th></th>\n",
       "      <th></th>\n",
       "      <th></th>\n",
       "      <th></th>\n",
       "      <th></th>\n",
       "      <th></th>\n",
       "      <th></th>\n",
       "      <th></th>\n",
       "      <th></th>\n",
       "      <th></th>\n",
       "      <th></th>\n",
       "    </tr>\n",
       "  </thead>\n",
       "  <tbody>\n",
       "    <tr>\n",
       "      <th>2011-09-02 12:08:00.131</th>\n",
       "      <td>1191.75</td>\n",
       "      <td>1193.75</td>\n",
       "      <td>1189.75</td>\n",
       "      <td>1192.00</td>\n",
       "      <td>58751</td>\n",
       "      <td>70015084.25</td>\n",
       "      <td>19832</td>\n",
       "      <td>1212.455</td>\n",
       "      <td>1229.830414</td>\n",
       "      <td>1195.079586</td>\n",
       "      <td>0.0</td>\n",
       "      <td>22.0</td>\n",
       "      <td>NaN</td>\n",
       "    </tr>\n",
       "    <tr>\n",
       "      <th>2011-09-02 12:30:35.193</th>\n",
       "      <td>1192.00</td>\n",
       "      <td>1198.50</td>\n",
       "      <td>1182.00</td>\n",
       "      <td>1183.25</td>\n",
       "      <td>58894</td>\n",
       "      <td>70005676.00</td>\n",
       "      <td>18835</td>\n",
       "      <td>1211.720</td>\n",
       "      <td>1230.816597</td>\n",
       "      <td>1192.623403</td>\n",
       "      <td>0.0</td>\n",
       "      <td>11.0</td>\n",
       "      <td>1.0</td>\n",
       "    </tr>\n",
       "    <tr>\n",
       "      <th>2011-09-02 12:34:43.063</th>\n",
       "      <td>1183.50</td>\n",
       "      <td>1185.50</td>\n",
       "      <td>1179.75</td>\n",
       "      <td>1180.25</td>\n",
       "      <td>59197</td>\n",
       "      <td>70003214.75</td>\n",
       "      <td>17995</td>\n",
       "      <td>1211.010</td>\n",
       "      <td>1232.037184</td>\n",
       "      <td>1189.982816</td>\n",
       "      <td>0.0</td>\n",
       "      <td>10.0</td>\n",
       "      <td>1.0</td>\n",
       "    </tr>\n",
       "    <tr>\n",
       "      <th>2011-09-02 12:46:13.588</th>\n",
       "      <td>1180.25</td>\n",
       "      <td>1185.25</td>\n",
       "      <td>1179.75</td>\n",
       "      <td>1182.50</td>\n",
       "      <td>59181</td>\n",
       "      <td>70015589.25</td>\n",
       "      <td>20245</td>\n",
       "      <td>1210.460</td>\n",
       "      <td>1232.980594</td>\n",
       "      <td>1187.939406</td>\n",
       "      <td>0.0</td>\n",
       "      <td>11.0</td>\n",
       "      <td>1.0</td>\n",
       "    </tr>\n",
       "    <tr>\n",
       "      <th>2011-09-02 13:16:37.863</th>\n",
       "      <td>1182.50</td>\n",
       "      <td>1184.00</td>\n",
       "      <td>1180.25</td>\n",
       "      <td>1180.50</td>\n",
       "      <td>59208</td>\n",
       "      <td>70001715.00</td>\n",
       "      <td>21976</td>\n",
       "      <td>1209.820</td>\n",
       "      <td>1233.870763</td>\n",
       "      <td>1185.769237</td>\n",
       "      <td>0.0</td>\n",
       "      <td>4.0</td>\n",
       "      <td>1.0</td>\n",
       "    </tr>\n",
       "  </tbody>\n",
       "</table>\n",
       "</div>"
      ],
      "text/plain": [
       "                            open     high      low    close  cum_vol  \\\n",
       "date_time                                                              \n",
       "2011-09-02 12:08:00.131  1191.75  1193.75  1189.75  1192.00    58751   \n",
       "2011-09-02 12:30:35.193  1192.00  1198.50  1182.00  1183.25    58894   \n",
       "2011-09-02 12:34:43.063  1183.50  1185.50  1179.75  1180.25    59197   \n",
       "2011-09-02 12:46:13.588  1180.25  1185.25  1179.75  1182.50    59181   \n",
       "2011-09-02 13:16:37.863  1182.50  1184.00  1180.25  1180.50    59208   \n",
       "\n",
       "                          cum_dollar  cum_ticks       avg        upper  \\\n",
       "date_time                                                                \n",
       "2011-09-02 12:08:00.131  70015084.25      19832  1212.455  1229.830414   \n",
       "2011-09-02 12:30:35.193  70005676.00      18835  1211.720  1230.816597   \n",
       "2011-09-02 12:34:43.063  70003214.75      17995  1211.010  1232.037184   \n",
       "2011-09-02 12:46:13.588  70015589.25      20245  1210.460  1232.980594   \n",
       "2011-09-02 13:16:37.863  70001715.00      21976  1209.820  1233.870763   \n",
       "\n",
       "                               lower  fracdiff   rsi  side  \n",
       "date_time                                                   \n",
       "2011-09-02 12:08:00.131  1195.079586       0.0  22.0   NaN  \n",
       "2011-09-02 12:30:35.193  1192.623403       0.0  11.0   1.0  \n",
       "2011-09-02 12:34:43.063  1189.982816       0.0  10.0   1.0  \n",
       "2011-09-02 12:46:13.588  1187.939406       0.0  11.0   1.0  \n",
       "2011-09-02 13:16:37.863  1185.769237       0.0   4.0   1.0  "
      ]
     },
     "execution_count": 17,
     "metadata": {},
     "output_type": "execute_result"
    }
   ],
   "source": [
    "raw_data.head()"
   ]
  },
  {
   "cell_type": "markdown",
   "metadata": {},
   "source": [
    "### Features"
   ]
  },
  {
   "cell_type": "code",
   "execution_count": 18,
   "metadata": {},
   "outputs": [],
   "source": [
    "# Log Returns\n",
    "raw_data['log_ret'] = np.log(raw_data['close']).diff()\n",
    "\n",
    "# Momentum\n",
    "raw_data['mom1'] = raw_data['close'].pct_change(periods=1)\n",
    "raw_data['mom2'] = raw_data['close'].pct_change(periods=2)\n",
    "raw_data['mom3'] = raw_data['close'].pct_change(periods=3)\n",
    "raw_data['mom4'] = raw_data['close'].pct_change(periods=4)\n",
    "raw_data['mom5'] = raw_data['close'].pct_change(periods=5)\n",
    "\n",
    "# Volatility\n",
    "window_stdev = 50\n",
    "raw_data['volatility'] = raw_data['log_ret'].rolling(window=window_stdev, min_periods=window_stdev, center=False).std()\n",
    "\n",
    "# Serial Correlation (Takes about 4 minutes)\n",
    "window_autocorr = 50\n",
    "\n",
    "raw_data['autocorr_1'] = raw_data['log_ret'].rolling(window=window_autocorr, min_periods=window_autocorr, center=False).apply(lambda x: x.autocorr(lag=1), raw=False)\n",
    "raw_data['autocorr_2'] = raw_data['log_ret'].rolling(window=window_autocorr, min_periods=window_autocorr, center=False).apply(lambda x: x.autocorr(lag=2), raw=False)\n",
    "raw_data['autocorr_3'] = raw_data['log_ret'].rolling(window=window_autocorr, min_periods=window_autocorr, center=False).apply(lambda x: x.autocorr(lag=3), raw=False)\n",
    "raw_data['autocorr_4'] = raw_data['log_ret'].rolling(window=window_autocorr, min_periods=window_autocorr, center=False).apply(lambda x: x.autocorr(lag=4), raw=False)\n",
    "raw_data['autocorr_5'] = raw_data['log_ret'].rolling(window=window_autocorr, min_periods=window_autocorr, center=False).apply(lambda x: x.autocorr(lag=5), raw=False)\n",
    "\n",
    "# Get the various log -t returns\n",
    "raw_data['log_t1'] = raw_data['log_ret'].shift(1)\n",
    "raw_data['log_t2'] = raw_data['log_ret'].shift(2)\n",
    "raw_data['log_t3'] = raw_data['log_ret'].shift(3)\n",
    "raw_data['log_t4'] = raw_data['log_ret'].shift(4)\n",
    "raw_data['log_t5'] = raw_data['log_ret'].shift(5)\n",
    "\n",
    "# Add fast and slow moving averages\n",
    "fast_window = 7\n",
    "slow_window = 15\n",
    "\n",
    "raw_data['fast_mavg'] = raw_data['close'].rolling(window=fast_window, min_periods=fast_window, center=False).mean()\n",
    "raw_data['slow_mavg'] = raw_data['close'].rolling(window=slow_window, min_periods=slow_window, center=False).mean()\n"
   ]
  },
  {
   "cell_type": "code",
   "execution_count": 19,
   "metadata": {},
   "outputs": [],
   "source": [
    "# Re compute sides\n",
    "raw_data['side'] = np.nan\n",
    "\n",
    "long_signals = (raw_data['close'] <= raw_data['lower']) & (raw_data['rsi'] <= 25)\n",
    "short_signals = (raw_data['close'] >= raw_data['upper']) & (raw_data['rsi'] >= 75) \n",
    "\n",
    "raw_data.loc[long_signals, 'side'] = 1\n",
    "raw_data.loc[short_signals, 'side'] = -1"
   ]
  },
  {
   "cell_type": "code",
   "execution_count": 20,
   "metadata": {},
   "outputs": [],
   "source": [
    "# Remove look ahead bias\n",
    "raw_data = raw_data.shift(1)"
   ]
  },
  {
   "cell_type": "markdown",
   "metadata": {},
   "source": [
    "#### Now get the data at the specified events"
   ]
  },
  {
   "cell_type": "code",
   "execution_count": 21,
   "metadata": {},
   "outputs": [
    {
     "data": {
      "text/html": [
       "<div>\n",
       "<style scoped>\n",
       "    .dataframe tbody tr th:only-of-type {\n",
       "        vertical-align: middle;\n",
       "    }\n",
       "\n",
       "    .dataframe tbody tr th {\n",
       "        vertical-align: top;\n",
       "    }\n",
       "\n",
       "    .dataframe thead th {\n",
       "        text-align: right;\n",
       "    }\n",
       "</style>\n",
       "<table border=\"1\" class=\"dataframe\">\n",
       "  <thead>\n",
       "    <tr style=\"text-align: right;\">\n",
       "      <th></th>\n",
       "      <th>avg</th>\n",
       "      <th>upper</th>\n",
       "      <th>lower</th>\n",
       "      <th>fracdiff</th>\n",
       "      <th>rsi</th>\n",
       "      <th>side</th>\n",
       "      <th>log_ret</th>\n",
       "      <th>mom1</th>\n",
       "      <th>mom2</th>\n",
       "      <th>mom3</th>\n",
       "      <th>...</th>\n",
       "      <th>autocorr_1</th>\n",
       "      <th>autocorr_2</th>\n",
       "      <th>autocorr_3</th>\n",
       "      <th>autocorr_4</th>\n",
       "      <th>autocorr_5</th>\n",
       "      <th>log_t1</th>\n",
       "      <th>log_t2</th>\n",
       "      <th>log_t3</th>\n",
       "      <th>log_t4</th>\n",
       "      <th>log_t5</th>\n",
       "    </tr>\n",
       "  </thead>\n",
       "  <tbody>\n",
       "    <tr>\n",
       "      <th>2011-09-07 08:36:06.996</th>\n",
       "      <td>1151.935</td>\n",
       "      <td>1170.056700</td>\n",
       "      <td>1133.813300</td>\n",
       "      <td>0.0</td>\n",
       "      <td>75.0</td>\n",
       "      <td>-1.0</td>\n",
       "      <td>-0.002341</td>\n",
       "      <td>-0.002338</td>\n",
       "      <td>0.004064</td>\n",
       "      <td>0.008162</td>\n",
       "      <td>...</td>\n",
       "      <td>-0.110341</td>\n",
       "      <td>0.211740</td>\n",
       "      <td>0.029460</td>\n",
       "      <td>-0.038646</td>\n",
       "      <td>-0.271445</td>\n",
       "      <td>0.006397</td>\n",
       "      <td>0.004072</td>\n",
       "      <td>-0.000859</td>\n",
       "      <td>-0.000429</td>\n",
       "      <td>0.001932</td>\n",
       "    </tr>\n",
       "    <tr>\n",
       "      <th>2011-09-09 13:29:55.599</th>\n",
       "      <td>1191.800</td>\n",
       "      <td>1205.176037</td>\n",
       "      <td>1178.423963</td>\n",
       "      <td>0.0</td>\n",
       "      <td>11.0</td>\n",
       "      <td>1.0</td>\n",
       "      <td>-0.001066</td>\n",
       "      <td>-0.001066</td>\n",
       "      <td>-0.004673</td>\n",
       "      <td>-0.006151</td>\n",
       "      <td>...</td>\n",
       "      <td>0.106034</td>\n",
       "      <td>-0.207744</td>\n",
       "      <td>0.152389</td>\n",
       "      <td>0.021149</td>\n",
       "      <td>0.089492</td>\n",
       "      <td>-0.003617</td>\n",
       "      <td>-0.001486</td>\n",
       "      <td>-0.004022</td>\n",
       "      <td>-0.001478</td>\n",
       "      <td>-0.001475</td>\n",
       "    </tr>\n",
       "    <tr>\n",
       "      <th>2011-09-12 11:58:36.577</th>\n",
       "      <td>1154.915</td>\n",
       "      <td>1180.516062</td>\n",
       "      <td>1129.313938</td>\n",
       "      <td>0.0</td>\n",
       "      <td>24.0</td>\n",
       "      <td>1.0</td>\n",
       "      <td>-0.005082</td>\n",
       "      <td>-0.005069</td>\n",
       "      <td>-0.002872</td>\n",
       "      <td>-0.009001</td>\n",
       "      <td>...</td>\n",
       "      <td>-0.218796</td>\n",
       "      <td>0.397666</td>\n",
       "      <td>-0.179821</td>\n",
       "      <td>0.157733</td>\n",
       "      <td>-0.023816</td>\n",
       "      <td>0.002207</td>\n",
       "      <td>-0.006166</td>\n",
       "      <td>-0.001097</td>\n",
       "      <td>-0.008299</td>\n",
       "      <td>0.002177</td>\n",
       "    </tr>\n",
       "    <tr>\n",
       "      <th>2011-09-12 19:55:17.718</th>\n",
       "      <td>1139.535</td>\n",
       "      <td>1151.281910</td>\n",
       "      <td>1127.788090</td>\n",
       "      <td>0.0</td>\n",
       "      <td>80.0</td>\n",
       "      <td>-1.0</td>\n",
       "      <td>0.004565</td>\n",
       "      <td>0.004575</td>\n",
       "      <td>0.004794</td>\n",
       "      <td>0.009413</td>\n",
       "      <td>...</td>\n",
       "      <td>-0.069436</td>\n",
       "      <td>0.323715</td>\n",
       "      <td>-0.128058</td>\n",
       "      <td>0.180148</td>\n",
       "      <td>-0.154351</td>\n",
       "      <td>0.000218</td>\n",
       "      <td>0.004587</td>\n",
       "      <td>-0.000657</td>\n",
       "      <td>0.002190</td>\n",
       "      <td>0.003074</td>\n",
       "    </tr>\n",
       "    <tr>\n",
       "      <th>2011-09-13 14:08:27.726</th>\n",
       "      <td>1145.850</td>\n",
       "      <td>1164.555832</td>\n",
       "      <td>1127.144168</td>\n",
       "      <td>0.0</td>\n",
       "      <td>86.0</td>\n",
       "      <td>-1.0</td>\n",
       "      <td>0.001074</td>\n",
       "      <td>0.001074</td>\n",
       "      <td>0.003014</td>\n",
       "      <td>0.004095</td>\n",
       "      <td>...</td>\n",
       "      <td>0.151301</td>\n",
       "      <td>-0.243261</td>\n",
       "      <td>-0.131077</td>\n",
       "      <td>0.021893</td>\n",
       "      <td>0.148931</td>\n",
       "      <td>0.001936</td>\n",
       "      <td>0.001077</td>\n",
       "      <td>0.004536</td>\n",
       "      <td>0.002601</td>\n",
       "      <td>-0.003683</td>\n",
       "    </tr>\n",
       "  </tbody>\n",
       "</table>\n",
       "<p>5 rows × 23 columns</p>\n",
       "</div>"
      ],
      "text/plain": [
       "                              avg        upper        lower  fracdiff   rsi  \\\n",
       "2011-09-07 08:36:06.996  1151.935  1170.056700  1133.813300       0.0  75.0   \n",
       "2011-09-09 13:29:55.599  1191.800  1205.176037  1178.423963       0.0  11.0   \n",
       "2011-09-12 11:58:36.577  1154.915  1180.516062  1129.313938       0.0  24.0   \n",
       "2011-09-12 19:55:17.718  1139.535  1151.281910  1127.788090       0.0  80.0   \n",
       "2011-09-13 14:08:27.726  1145.850  1164.555832  1127.144168       0.0  86.0   \n",
       "\n",
       "                         side   log_ret      mom1      mom2      mom3  \\\n",
       "2011-09-07 08:36:06.996  -1.0 -0.002341 -0.002338  0.004064  0.008162   \n",
       "2011-09-09 13:29:55.599   1.0 -0.001066 -0.001066 -0.004673 -0.006151   \n",
       "2011-09-12 11:58:36.577   1.0 -0.005082 -0.005069 -0.002872 -0.009001   \n",
       "2011-09-12 19:55:17.718  -1.0  0.004565  0.004575  0.004794  0.009413   \n",
       "2011-09-13 14:08:27.726  -1.0  0.001074  0.001074  0.003014  0.004095   \n",
       "\n",
       "                           ...     autocorr_1  autocorr_2  autocorr_3  \\\n",
       "2011-09-07 08:36:06.996    ...      -0.110341    0.211740    0.029460   \n",
       "2011-09-09 13:29:55.599    ...       0.106034   -0.207744    0.152389   \n",
       "2011-09-12 11:58:36.577    ...      -0.218796    0.397666   -0.179821   \n",
       "2011-09-12 19:55:17.718    ...      -0.069436    0.323715   -0.128058   \n",
       "2011-09-13 14:08:27.726    ...       0.151301   -0.243261   -0.131077   \n",
       "\n",
       "                         autocorr_4  autocorr_5    log_t1    log_t2    log_t3  \\\n",
       "2011-09-07 08:36:06.996   -0.038646   -0.271445  0.006397  0.004072 -0.000859   \n",
       "2011-09-09 13:29:55.599    0.021149    0.089492 -0.003617 -0.001486 -0.004022   \n",
       "2011-09-12 11:58:36.577    0.157733   -0.023816  0.002207 -0.006166 -0.001097   \n",
       "2011-09-12 19:55:17.718    0.180148   -0.154351  0.000218  0.004587 -0.000657   \n",
       "2011-09-13 14:08:27.726    0.021893    0.148931  0.001936  0.001077  0.004536   \n",
       "\n",
       "                           log_t4    log_t5  \n",
       "2011-09-07 08:36:06.996 -0.000429  0.001932  \n",
       "2011-09-09 13:29:55.599 -0.001478 -0.001475  \n",
       "2011-09-12 11:58:36.577 -0.008299  0.002177  \n",
       "2011-09-12 19:55:17.718  0.002190  0.003074  \n",
       "2011-09-13 14:08:27.726  0.002601 -0.003683  \n",
       "\n",
       "[5 rows x 23 columns]"
      ]
     },
     "execution_count": 21,
     "metadata": {},
     "output_type": "execute_result"
    }
   ],
   "source": [
    "# Get features at event dates\n",
    "X = raw_data.loc[labels.index, :]\n",
    "\n",
    "# Drop unwanted columns\n",
    "X.drop(['open', 'high', 'low', 'close', 'cum_vol', 'cum_dollar', 'cum_ticks','fast_mavg', 'slow_mavg',], axis=1, inplace=True)\n",
    "\n",
    "y = labels['bin']\n",
    "X.head()"
   ]
  },
  {
   "cell_type": "markdown",
   "metadata": {},
   "source": [
    "### Fit a model"
   ]
  },
  {
   "cell_type": "code",
   "execution_count": 31,
   "metadata": {},
   "outputs": [],
   "source": [
    "# Split data\n",
    "X_train, X_test, y_train, y_test = train_test_split(X, y, test_size=0.2, shuffle=False)"
   ]
  },
  {
   "cell_type": "code",
   "execution_count": 23,
   "metadata": {},
   "outputs": [
    {
     "data": {
      "text/plain": [
       "RandomForestClassifier(bootstrap=True, class_weight=None, criterion='entropy',\n",
       "            max_depth=9, max_features='auto', max_leaf_nodes=None,\n",
       "            min_impurity_decrease=0.0, min_impurity_split=None,\n",
       "            min_samples_leaf=1, min_samples_split=2,\n",
       "            min_weight_fraction_leaf=0.0, n_estimators=50, n_jobs=None,\n",
       "            oob_score=False, random_state=42, verbose=0, warm_start=False)"
      ]
     },
     "execution_count": 23,
     "metadata": {},
     "output_type": "execute_result"
    }
   ],
   "source": [
    "# Random Forest Model\n",
    "n_estimator = 50\n",
    "c_random_state = 42\n",
    "depth = 9\n",
    "\n",
    "rf = RandomForestClassifier(max_depth=depth, n_estimators=n_estimator,\n",
    "                            criterion='entropy', random_state=c_random_state)\n",
    "rf.fit(X_train, y_train.values.ravel())"
   ]
  },
  {
   "cell_type": "markdown",
   "metadata": {},
   "source": [
    "#### Training Metrics"
   ]
  },
  {
   "cell_type": "code",
   "execution_count": 24,
   "metadata": {},
   "outputs": [
    {
     "name": "stdout",
     "output_type": "stream",
     "text": [
      "              precision    recall  f1-score   support\n",
      "\n",
      "           0       1.00      1.00      1.00       236\n",
      "           1       1.00      1.00      1.00        48\n",
      "\n",
      "   micro avg       1.00      1.00      1.00       284\n",
      "   macro avg       1.00      1.00      1.00       284\n",
      "weighted avg       1.00      1.00      1.00       284\n",
      "\n",
      "Confusion Matrix\n",
      "[[236   0]\n",
      " [  0  48]]\n",
      "\n",
      "Accuracy\n",
      "0.17464788732394365\n"
     ]
    },
    {
     "data": {
      "image/png": "[encoded data removed]",
      "text/plain": [
       "<Figure size 432x288 with 1 Axes>"
      ]
     },
     "metadata": {
      "needs_background": "light"
     },
     "output_type": "display_data"
    }
   ],
   "source": [
    "# Performance Metrics\n",
    "y_pred_rf = rf.predict_proba(X_train)[:, 1]\n",
    "y_pred = rf.predict(X_train)\n",
    "fpr_rf, tpr_rf, _ = roc_curve(y_train, y_pred_rf)\n",
    "print(classification_report(y_train, y_pred))\n",
    "\n",
    "print(\"Confusion Matrix\")\n",
    "print(confusion_matrix(y_train, y_pred))\n",
    "\n",
    "print('')\n",
    "print(\"Accuracy\")\n",
    "print(accuracy_score(actual, pred))\n",
    "\n",
    "plt.figure(1)\n",
    "plt.plot([0, 1], [0, 1], 'k--')\n",
    "plt.plot(fpr_rf, tpr_rf, label='RF')\n",
    "plt.xlabel('False positive rate')\n",
    "plt.ylabel('True positive rate')\n",
    "plt.title('ROC curve')\n",
    "plt.legend(loc='best')\n",
    "plt.show()"
   ]
  },
  {
   "cell_type": "markdown",
   "metadata": {},
   "source": [
    "This is overfitting big time "
   ]
  },
  {
   "cell_type": "markdown",
   "metadata": {},
   "source": [
    "#### Test Metrics"
   ]
  },
  {
   "cell_type": "code",
   "execution_count": 25,
   "metadata": {},
   "outputs": [
    {
     "name": "stdout",
     "output_type": "stream",
     "text": [
      "              precision    recall  f1-score   support\n",
      "\n",
      "           0       0.82      0.96      0.89        57\n",
      "           1       0.50      0.14      0.22        14\n",
      "\n",
      "   micro avg       0.80      0.80      0.80        71\n",
      "   macro avg       0.66      0.55      0.55        71\n",
      "weighted avg       0.76      0.80      0.76        71\n",
      "\n",
      "Confusion Matrix\n",
      "[[55  2]\n",
      " [12  2]]\n",
      "\n",
      "Accuracy\n",
      "0.17464788732394365\n"
     ]
    },
    {
     "data": {
      "image/png": "[encoded data removed]",
      "text/plain": [
       "<Figure size 432x288 with 1 Axes>"
      ]
     },
     "metadata": {
      "needs_background": "light"
     },
     "output_type": "display_data"
    }
   ],
   "source": [
    "# Performance Metrics\n",
    "y_pred_rf = rf.predict_proba(X_test)[:, 1]\n",
    "y_pred = rf.predict(X_test)\n",
    "fpr_rf, tpr_rf, _ = roc_curve(y_test, y_pred_rf)\n",
    "print(classification_report(y_test, y_pred))\n",
    "\n",
    "print(\"Confusion Matrix\")\n",
    "print(confusion_matrix(y_test, y_pred))\n",
    "\n",
    "print('')\n",
    "print(\"Accuracy\")\n",
    "print(accuracy_score(actual, pred))\n",
    "\n",
    "plt.figure(1)\n",
    "plt.plot([0, 1], [0, 1], 'k--')\n",
    "plt.plot(fpr_rf, tpr_rf, label='RF')\n",
    "plt.xlabel('False positive rate')\n",
    "plt.ylabel('True positive rate')\n",
    "plt.title('ROC curve')\n",
    "plt.legend(loc='best')\n",
    "plt.show()"
   ]
  },
  {
   "cell_type": "code",
   "execution_count": 26,
   "metadata": {},
   "outputs": [
    {
     "data": {
      "image/png": "[encoded data removed]",
      "text/plain": [
       "<Figure size 1080x360 with 1 Axes>"
      ]
     },
     "metadata": {
      "needs_background": "light"
     },
     "output_type": "display_data"
    }
   ],
   "source": [
    "# Feature Importance\n",
    "title = 'Feature Importance:'\n",
    "figsize = (15, 5)\n",
    "\n",
    "feat_imp = pd.DataFrame({'Importance':rf.feature_importances_})    \n",
    "feat_imp['feature'] = X.columns\n",
    "feat_imp.sort_values(by='Importance', ascending=False, inplace=True)\n",
    "feat_imp = feat_imp\n",
    "\n",
    "feat_imp.sort_values(by='Importance', inplace=True)\n",
    "feat_imp = feat_imp.set_index('feature', drop=True)\n",
    "feat_imp.plot.barh(title=title, figsize=figsize)\n",
    "plt.xlabel('Feature Importance Score')\n",
    "plt.show()"
   ]
  },
  {
   "cell_type": "markdown",
   "metadata": {},
   "source": [
    "Note how low the side is ranked. If we look at the performance of the primary model we will see that the M-R strategy gets only 21% of the trades correct."
   ]
  },
  {
   "cell_type": "markdown",
   "metadata": {},
   "source": [
    "---\n",
    "### Use PCA to shrink the predictor space"
   ]
  },
  {
   "cell_type": "code",
   "execution_count": 27,
   "metadata": {},
   "outputs": [
    {
     "name": "stdout",
     "output_type": "stream",
     "text": [
      "11\n"
     ]
    }
   ],
   "source": [
    "# standardize the data\n",
    "from sklearn.preprocessing import StandardScaler \n",
    "from sklearn.decomposition import PCA\n",
    "\n",
    "scaler = StandardScaler()\n",
    "\n",
    "# fit the training set only\n",
    "scaler.fit(X_train)\n",
    "\n",
    "# Apply the transform to both training and test sets\n",
    "X_train_std = scaler.transform(X_train)\n",
    "X_test_std = scaler.transform(X_test)\n",
    "\n",
    "# make an instance of the PCA model with 95% coverage\n",
    "pca = PCA(0.90)\n",
    "\n",
    "# fit teh PCA model\n",
    "pca.fit(X_train_std)\n",
    "print(pca.n_components_)\n",
    "\n",
    "# transform both training and test sets\n",
    "X_train_pca = pca.transform(X_train_std)\n",
    "X_test_pca = pca.transform(X_test_std)"
   ]
  },
  {
   "cell_type": "markdown",
   "metadata": {},
   "source": [
    "### Training Metrics (PCA)"
   ]
  },
  {
   "cell_type": "code",
   "execution_count": 29,
   "metadata": {},
   "outputs": [
    {
     "name": "stdout",
     "output_type": "stream",
     "text": [
      "              precision    recall  f1-score   support\n",
      "\n",
      "           0       0.99      1.00      0.99       236\n",
      "           1       1.00      0.94      0.97        48\n",
      "\n",
      "   micro avg       0.99      0.99      0.99       284\n",
      "   macro avg       0.99      0.97      0.98       284\n",
      "weighted avg       0.99      0.99      0.99       284\n",
      "\n",
      "Confusion Matrix\n",
      "[[236   0]\n",
      " [  3  45]]\n",
      "\n",
      "Accuracy\n",
      "0.17464788732394365\n"
     ]
    },
    {
     "data": {
      "image/png": "[encoded data removed]",
      "text/plain": [
       "<Figure size 432x288 with 1 Axes>"
      ]
     },
     "metadata": {
      "needs_background": "light"
     },
     "output_type": "display_data"
    }
   ],
   "source": [
    "# Apply RF \n",
    "rf = RandomForestClassifier(max_depth=depth, n_estimators=n_estimator,\n",
    "                            criterion='entropy', random_state=c_random_state)\n",
    "rf.fit(X_train_pca, y_train.values.ravel())\n",
    "\n",
    "# Performance Metrics\n",
    "y_pred_rf = rf.predict_proba(X_train_pca)[:, 1]\n",
    "y_pred = rf.predict(X_train_pca)\n",
    "\n",
    "fpr_rf, tpr_rf, _ = roc_curve(y_train, y_pred_rf)\n",
    "print(classification_report(y_train, y_pred))\n",
    "\n",
    "print(\"Confusion Matrix\")\n",
    "print(confusion_matrix(y_train, y_pred))\n",
    "\n",
    "print('')\n",
    "print(\"Accuracy\")\n",
    "print(accuracy_score(actual, pred))\n",
    "\n",
    "plt.figure(1)\n",
    "plt.plot([0, 1], [0, 1], 'k--')\n",
    "plt.plot(fpr_rf, tpr_rf, label='RF')\n",
    "plt.xlabel('False positive rate')\n",
    "plt.ylabel('True positive rate')\n",
    "plt.title('ROC curve')\n",
    "plt.legend(loc='best')\n",
    "plt.show()"
   ]
  },
  {
   "cell_type": "markdown",
   "metadata": {},
   "source": [
    "### Test Metrics (PCA)"
   ]
  },
  {
   "cell_type": "code",
   "execution_count": 30,
   "metadata": {},
   "outputs": [
    {
     "name": "stderr",
     "output_type": "stream",
     "text": [
      "C:\\Users\\singash2\\AppData\\Local\\Continuum\\anaconda3\\envs\\cap\\lib\\site-packages\\sklearn\\metrics\\classification.py:1143: UndefinedMetricWarning: Precision and F-score are ill-defined and being set to 0.0 in labels with no predicted samples.\n",
      "  'precision', 'predicted', average, warn_for)\n"
     ]
    },
    {
     "name": "stdout",
     "output_type": "stream",
     "text": [
      "              precision    recall  f1-score   support\n",
      "\n",
      "           0       0.80      1.00      0.89        57\n",
      "           1       0.00      0.00      0.00        14\n",
      "\n",
      "   micro avg       0.80      0.80      0.80        71\n",
      "   macro avg       0.40      0.50      0.45        71\n",
      "weighted avg       0.64      0.80      0.72        71\n",
      "\n",
      "Confusion Matrix\n",
      "[[57  0]\n",
      " [14  0]]\n",
      "\n",
      "Accuracy\n",
      "0.17464788732394365\n"
     ]
    },
    {
     "data": {
      "image/png": "[encoded data removed]",
      "text/plain": [
       "<Figure size 432x288 with 1 Axes>"
      ]
     },
     "metadata": {
      "needs_background": "light"
     },
     "output_type": "display_data"
    }
   ],
   "source": [
    "# Performance Metrics\n",
    "y_pred_rf = rf.predict_proba(X_test_pca)[:, 1]\n",
    "y_pred = rf.predict(X_test_pca)\n",
    "\n",
    "fpr_rf, tpr_rf, _ = roc_curve(y_test, y_pred_rf)\n",
    "print(classification_report(y_test, y_pred))\n",
    "\n",
    "print(\"Confusion Matrix\")\n",
    "print(confusion_matrix(y_test, y_pred))\n",
    "\n",
    "print('')\n",
    "print(\"Accuracy\")\n",
    "print(accuracy_score(actual, pred))\n",
    "\n",
    "plt.figure(1)\n",
    "plt.plot([0, 1], [0, 1], 'k--')\n",
    "plt.plot(fpr_rf, tpr_rf, label='RF')\n",
    "plt.xlabel('False positive rate')\n",
    "plt.ylabel('True positive rate')\n",
    "plt.title('ROC curve')\n",
    "plt.legend(loc='best')\n",
    "plt.show()"
   ]
  },
  {
   "cell_type": "markdown",
   "metadata": {},
   "source": [
    "---\n",
    "## Performance Tear Sheets"
   ]
  },
  {
   "cell_type": "code",
   "execution_count": 138,
   "metadata": {},
   "outputs": [
    {
     "data": {
      "text/html": [
       "<table border=\"1\" class=\"dataframe\">\n",
       "  <thead>\n",
       "    <tr style=\"text-align: right;\"><th>Start date</th><td colspan=2>2015-03-18</td></tr>\n",
       "    <tr style=\"text-align: right;\"><th>End date</th><td colspan=2>2011-11-17</td></tr>\n",
       "    <tr style=\"text-align: right;\"><th>Total months</th><td colspan=2>3</td></tr>\n",
       "    <tr style=\"text-align: right;\">\n",
       "      <th></th>\n",
       "      <th>Backtest</th>\n",
       "    </tr>\n",
       "  </thead>\n",
       "  <tbody>\n",
       "    <tr>\n",
       "      <th>Annual return</th>\n",
       "      <td>-0.7%</td>\n",
       "    </tr>\n",
       "    <tr>\n",
       "      <th>Cumulative returns</th>\n",
       "      <td>-0.2%</td>\n",
       "    </tr>\n",
       "    <tr>\n",
       "      <th>Annual volatility</th>\n",
       "      <td>24.4%</td>\n",
       "    </tr>\n",
       "    <tr>\n",
       "      <th>Sharpe ratio</th>\n",
       "      <td>0.09</td>\n",
       "    </tr>\n",
       "    <tr>\n",
       "      <th>Calmar ratio</th>\n",
       "      <td>-0.08</td>\n",
       "    </tr>\n",
       "    <tr>\n",
       "      <th>Stability</th>\n",
       "      <td>0.19</td>\n",
       "    </tr>\n",
       "    <tr>\n",
       "      <th>Max drawdown</th>\n",
       "      <td>-8.3%</td>\n",
       "    </tr>\n",
       "    <tr>\n",
       "      <th>Omega ratio</th>\n",
       "      <td>1.01</td>\n",
       "    </tr>\n",
       "    <tr>\n",
       "      <th>Sortino ratio</th>\n",
       "      <td>0.14</td>\n",
       "    </tr>\n",
       "    <tr>\n",
       "      <th>Skew</th>\n",
       "      <td>0.30</td>\n",
       "    </tr>\n",
       "    <tr>\n",
       "      <th>Kurtosis</th>\n",
       "      <td>0.25</td>\n",
       "    </tr>\n",
       "    <tr>\n",
       "      <th>Tail ratio</th>\n",
       "      <td>1.12</td>\n",
       "    </tr>\n",
       "    <tr>\n",
       "      <th>Daily value at risk</th>\n",
       "      <td>-3.1%</td>\n",
       "    </tr>\n",
       "  </tbody>\n",
       "</table>"
      ],
      "text/plain": [
       "<IPython.core.display.HTML object>"
      ]
     },
     "metadata": {},
     "output_type": "display_data"
    },
    {
     "name": "stdout",
     "output_type": "stream",
     "text": [
      "None\n"
     ]
    },
    {
     "name": "stderr",
     "output_type": "stream",
     "text": [
      "C:\\Users\\singash2\\AppData\\Local\\Continuum\\anaconda3\\envs\\cap\\lib\\site-packages\\numpy\\core\\fromnumeric.py:56: FutureWarning: 'argmin' is deprecated, use 'idxmin' instead. The behavior of 'argmin'\n",
      "will be corrected to return the positional minimum in the future.\n",
      "Use 'series.values.argmin' to get the position of the minimum now.\n",
      "  return getattr(obj, method)(*args, **kwds)\n"
     ]
    },
    {
     "data": {
      "text/html": [
       "<table border=\"1\" class=\"dataframe\">\n",
       "  <thead>\n",
       "    <tr style=\"text-align: right;\">\n",
       "      <th>Worst drawdown periods</th>\n",
       "      <th>Net drawdown in %</th>\n",
       "      <th>Peak date</th>\n",
       "      <th>Valley date</th>\n",
       "      <th>Recovery date</th>\n",
       "      <th>Duration</th>\n",
       "    </tr>\n",
       "  </thead>\n",
       "  <tbody>\n",
       "    <tr>\n",
       "      <th>0</th>\n",
       "      <td>8.28</td>\n",
       "      <td>2015-05-08</td>\n",
       "      <td>2012-08-14</td>\n",
       "      <td>2011-10-20</td>\n",
       "      <td>0</td>\n",
       "    </tr>\n",
       "    <tr>\n",
       "      <th>1</th>\n",
       "      <td>6.97</td>\n",
       "      <td>2013-03-25</td>\n",
       "      <td>2015-08-31</td>\n",
       "      <td>NaT</td>\n",
       "      <td>NaN</td>\n",
       "    </tr>\n",
       "    <tr>\n",
       "      <th>2</th>\n",
       "      <td>0.00</td>\n",
       "      <td>2015-03-18</td>\n",
       "      <td>2015-03-18</td>\n",
       "      <td>2015-03-18</td>\n",
       "      <td>1</td>\n",
       "    </tr>\n",
       "    <tr>\n",
       "      <th>3</th>\n",
       "      <td>0.00</td>\n",
       "      <td>2015-03-18</td>\n",
       "      <td>2015-03-18</td>\n",
       "      <td>2015-03-18</td>\n",
       "      <td>1</td>\n",
       "    </tr>\n",
       "    <tr>\n",
       "      <th>4</th>\n",
       "      <td>0.00</td>\n",
       "      <td>2015-03-18</td>\n",
       "      <td>2015-03-18</td>\n",
       "      <td>2015-03-18</td>\n",
       "      <td>1</td>\n",
       "    </tr>\n",
       "  </tbody>\n",
       "</table>"
      ],
      "text/plain": [
       "<IPython.core.display.HTML object>"
      ]
     },
     "metadata": {},
     "output_type": "display_data"
    },
    {
     "name": "stdout",
     "output_type": "stream",
     "text": [
      "None\n"
     ]
    }
   ],
   "source": [
    "test_dates = X_test.index\n",
    "\n",
    "print(pf.show_perf_stats(labels.loc[test_dates, 'ret']))\n",
    "print(pf.show_worst_drawdown_periods(labels.loc[test_dates, 'ret']))"
   ]
  },
  {
   "cell_type": "code",
   "execution_count": 139,
   "metadata": {},
   "outputs": [
    {
     "name": "stderr",
     "output_type": "stream",
     "text": [
      "C:\\Users\\singash2\\AppData\\Local\\Continuum\\anaconda3\\envs\\cap\\lib\\site-packages\\empyrical\\stats.py:704: RuntimeWarning: invalid value encountered in true_divide\n",
      "  out=out,\n",
      "C:\\Users\\singash2\\AppData\\Local\\Continuum\\anaconda3\\envs\\cap\\lib\\site-packages\\empyrical\\stats.py:790: RuntimeWarning: invalid value encountered in true_divide\n",
      "  np.divide(average_annual_return, annualized_downside_risk, out=out)\n",
      "C:\\Users\\singash2\\AppData\\Local\\Continuum\\anaconda3\\envs\\cap\\lib\\site-packages\\empyrical\\stats.py:1511: RuntimeWarning: invalid value encountered in double_scalars\n",
      "  np.abs(np.percentile(returns, 5))\n"
     ]
    },
    {
     "data": {
      "text/html": [
       "<table border=\"1\" class=\"dataframe\">\n",
       "  <thead>\n",
       "    <tr style=\"text-align: right;\"><th>Start date</th><td colspan=2>2015-03-18</td></tr>\n",
       "    <tr style=\"text-align: right;\"><th>End date</th><td colspan=2>2011-11-17</td></tr>\n",
       "    <tr style=\"text-align: right;\"><th>Total months</th><td colspan=2>3</td></tr>\n",
       "    <tr style=\"text-align: right;\">\n",
       "      <th></th>\n",
       "      <th>Backtest</th>\n",
       "    </tr>\n",
       "  </thead>\n",
       "  <tbody>\n",
       "    <tr>\n",
       "      <th>Annual return</th>\n",
       "      <td>0.0%</td>\n",
       "    </tr>\n",
       "    <tr>\n",
       "      <th>Cumulative returns</th>\n",
       "      <td>0.0%</td>\n",
       "    </tr>\n",
       "    <tr>\n",
       "      <th>Annual volatility</th>\n",
       "      <td>0.0%</td>\n",
       "    </tr>\n",
       "    <tr>\n",
       "      <th>Sharpe ratio</th>\n",
       "      <td>NaN</td>\n",
       "    </tr>\n",
       "    <tr>\n",
       "      <th>Calmar ratio</th>\n",
       "      <td>NaN</td>\n",
       "    </tr>\n",
       "    <tr>\n",
       "      <th>Stability</th>\n",
       "      <td>0.00</td>\n",
       "    </tr>\n",
       "    <tr>\n",
       "      <th>Max drawdown</th>\n",
       "      <td>0.0%</td>\n",
       "    </tr>\n",
       "    <tr>\n",
       "      <th>Omega ratio</th>\n",
       "      <td>NaN</td>\n",
       "    </tr>\n",
       "    <tr>\n",
       "      <th>Sortino ratio</th>\n",
       "      <td>NaN</td>\n",
       "    </tr>\n",
       "    <tr>\n",
       "      <th>Skew</th>\n",
       "      <td>0.00</td>\n",
       "    </tr>\n",
       "    <tr>\n",
       "      <th>Kurtosis</th>\n",
       "      <td>-3.00</td>\n",
       "    </tr>\n",
       "    <tr>\n",
       "      <th>Tail ratio</th>\n",
       "      <td>NaN</td>\n",
       "    </tr>\n",
       "    <tr>\n",
       "      <th>Daily value at risk</th>\n",
       "      <td>0.0%</td>\n",
       "    </tr>\n",
       "  </tbody>\n",
       "</table>"
      ],
      "text/plain": [
       "<IPython.core.display.HTML object>"
      ]
     },
     "metadata": {},
     "output_type": "display_data"
    },
    {
     "name": "stdout",
     "output_type": "stream",
     "text": [
      "None\n"
     ]
    },
    {
     "data": {
      "text/html": [
       "<table border=\"1\" class=\"dataframe\">\n",
       "  <thead>\n",
       "    <tr style=\"text-align: right;\">\n",
       "      <th>Worst drawdown periods</th>\n",
       "      <th>Net drawdown in %</th>\n",
       "      <th>Peak date</th>\n",
       "      <th>Valley date</th>\n",
       "      <th>Recovery date</th>\n",
       "      <th>Duration</th>\n",
       "    </tr>\n",
       "  </thead>\n",
       "  <tbody>\n",
       "    <tr>\n",
       "      <th>0</th>\n",
       "      <td>0.00</td>\n",
       "      <td>2015-03-18</td>\n",
       "      <td>2015-03-18</td>\n",
       "      <td>2015-03-18</td>\n",
       "      <td>1</td>\n",
       "    </tr>\n",
       "    <tr>\n",
       "      <th>1</th>\n",
       "      <td>0.00</td>\n",
       "      <td>2015-03-18</td>\n",
       "      <td>2015-03-18</td>\n",
       "      <td>2015-03-18</td>\n",
       "      <td>1</td>\n",
       "    </tr>\n",
       "    <tr>\n",
       "      <th>2</th>\n",
       "      <td>0.00</td>\n",
       "      <td>2015-03-18</td>\n",
       "      <td>2015-03-18</td>\n",
       "      <td>2015-03-18</td>\n",
       "      <td>1</td>\n",
       "    </tr>\n",
       "    <tr>\n",
       "      <th>3</th>\n",
       "      <td>0.00</td>\n",
       "      <td>2015-03-18</td>\n",
       "      <td>2015-03-18</td>\n",
       "      <td>2015-03-18</td>\n",
       "      <td>1</td>\n",
       "    </tr>\n",
       "    <tr>\n",
       "      <th>4</th>\n",
       "      <td>0.00</td>\n",
       "      <td>2015-03-18</td>\n",
       "      <td>2015-03-18</td>\n",
       "      <td>2015-03-18</td>\n",
       "      <td>1</td>\n",
       "    </tr>\n",
       "  </tbody>\n",
       "</table>"
      ],
      "text/plain": [
       "<IPython.core.display.HTML object>"
      ]
     },
     "metadata": {},
     "output_type": "display_data"
    },
    {
     "name": "stdout",
     "output_type": "stream",
     "text": [
      "None\n"
     ]
    }
   ],
   "source": [
    "meta_returns = labels.loc[test_dates, 'ret'] * y_pred\n",
    "\n",
    "print(pf.show_perf_stats(meta_returns))\n",
    "print(pf.show_worst_drawdown_periods(meta_returns))"
   ]
  },
  {
   "cell_type": "markdown",
   "metadata": {},
   "source": [
    "---\n",
    "## Conclusion\n"
   ]
  }
 ],
 "metadata": {
  "kernelspec": {
   "display_name": "Python 3",
   "language": "python",
   "name": "python3"
  },
  "language_info": {
   "codemirror_mode": {
    "name": "ipython",
    "version": 3
   },
   "file_extension": ".py",
   "mimetype": "text/x-python",
   "name": "python",
   "nbconvert_exporter": "python",
   "pygments_lexer": "ipython3",
   "version": "3.6.8"
  }
 },
 "nbformat": 4,
 "nbformat_minor": 2
}
