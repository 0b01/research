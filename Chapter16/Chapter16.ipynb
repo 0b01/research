{
 "cells": [
  {
   "cell_type": "markdown",
   "metadata": {},
   "source": [
    "* By: Aditya Vyas\n",
    "* Email: adityavyas17@gmail.com\n",
    "* Reference: Advances in Financial Machine Learning, Chapter-16"
   ]
  },
  {
   "cell_type": "markdown",
   "metadata": {},
   "source": [
    "## Chapter 16 Machine Learning Asset Allocation"
   ]
  },
  {
   "cell_type": "markdown",
   "metadata": {},
   "source": [
    "## Introduction"
   ]
  },
  {
   "cell_type": "markdown",
   "metadata": {},
   "source": [
    "Portfolio optimisation and asset allocation have been important topics in the financial world. Although, the classical Markowitz theory has been successful, it has a lot of limitations in its practical implementations. Optimisation algorithms like CLA involve taking the inverse of covariance matrices which leads to instability for large portfolios - escpecially if they are highly correlated. This is where the Hierarchical Risk Parity algorithm comes in - it does not deal with inverse of a covariance matrix hence removing the instability of the previous algorithms. \n",
    "\n",
    "This notebook explores the exercises at the back of Chapter-16 in the book \"Advances in Financial Machine Learning\". We will used the portfolio optimisation algorithms in mlfinlab package to do a comparision of their performance. The questions are restated here in this notebook, with the accompanying code solutions following directly below each question."
   ]
  },
  {
   "cell_type": "code",
   "execution_count": 1,
   "metadata": {},
   "outputs": [],
   "source": [
    "import numbers\n",
    "import numpy as np\n",
    "import scipy as sc\n",
    "import pandas as pd\n",
    "import random\n",
    "from scipy.cluster.hierarchy import dendrogram, linkage\n",
    "from scipy.spatial.distance import pdist, squareform\n",
    "import matplotlib\n",
    "import matplotlib.pyplot as plt\n",
    "import seaborn as sns\n",
    "\n",
    "# Import from mlfinlab\n",
    "from mlfinlab.portfolio_optimization.cla import CLA\n",
    "from mlfinlab.portfolio_optimization.hrp import HierarchicalRiskParity\n",
    "from mlfinlab.portfolio_optimization.mean_variance import MeanVarianceOptimisation\n",
    "\n",
    "# Modified functions for some of the questions\n",
    "from hrp_modified import HierarchicalRiskParityModified\n",
    "from cla_modified import CLAModified\n",
    "from mvo_modified import MeanVarianceOptimisationModified\n",
    "\n",
    "%matplotlib inline\n",
    "np.random.seed(42)"
   ]
  },
  {
   "cell_type": "markdown",
   "metadata": {},
   "source": [
    "## Getting the Data"
   ]
  },
  {
   "cell_type": "code",
   "execution_count": 2,
   "metadata": {},
   "outputs": [],
   "source": [
    "stock_prices = pd.read_csv('../Sample-Data/stock_prices.csv', parse_dates = True, index_col = 'Date')\n",
    "stock_prices = stock_prices.dropna(axis = 1)"
   ]
  },
  {
   "cell_type": "code",
   "execution_count": 3,
   "metadata": {},
   "outputs": [
    {
     "data": {
      "text/html": [
       "<div>\n",
       "<style scoped>\n",
       "    .dataframe tbody tr th:only-of-type {\n",
       "        vertical-align: middle;\n",
       "    }\n",
       "\n",
       "    .dataframe tbody tr th {\n",
       "        vertical-align: top;\n",
       "    }\n",
       "\n",
       "    .dataframe thead th {\n",
       "        text-align: right;\n",
       "    }\n",
       "</style>\n",
       "<table border=\"1\" class=\"dataframe\">\n",
       "  <thead>\n",
       "    <tr style=\"text-align: right;\">\n",
       "      <th></th>\n",
       "      <th>EEM</th>\n",
       "      <th>EWG</th>\n",
       "      <th>TIP</th>\n",
       "      <th>EWJ</th>\n",
       "      <th>EFA</th>\n",
       "      <th>IEF</th>\n",
       "      <th>EWQ</th>\n",
       "      <th>EWU</th>\n",
       "      <th>XLB</th>\n",
       "      <th>XLE</th>\n",
       "      <th>...</th>\n",
       "      <th>XLU</th>\n",
       "      <th>EPP</th>\n",
       "      <th>FXI</th>\n",
       "      <th>VGK</th>\n",
       "      <th>VPL</th>\n",
       "      <th>SPY</th>\n",
       "      <th>TLT</th>\n",
       "      <th>BND</th>\n",
       "      <th>CSJ</th>\n",
       "      <th>DIA</th>\n",
       "    </tr>\n",
       "    <tr>\n",
       "      <th>Date</th>\n",
       "      <th></th>\n",
       "      <th></th>\n",
       "      <th></th>\n",
       "      <th></th>\n",
       "      <th></th>\n",
       "      <th></th>\n",
       "      <th></th>\n",
       "      <th></th>\n",
       "      <th></th>\n",
       "      <th></th>\n",
       "      <th></th>\n",
       "      <th></th>\n",
       "      <th></th>\n",
       "      <th></th>\n",
       "      <th></th>\n",
       "      <th></th>\n",
       "      <th></th>\n",
       "      <th></th>\n",
       "      <th></th>\n",
       "      <th></th>\n",
       "      <th></th>\n",
       "    </tr>\n",
       "  </thead>\n",
       "  <tbody>\n",
       "    <tr>\n",
       "      <th>2008-01-02</th>\n",
       "      <td>49.273335</td>\n",
       "      <td>35.389999</td>\n",
       "      <td>106.639999</td>\n",
       "      <td>52.919998</td>\n",
       "      <td>78.220001</td>\n",
       "      <td>87.629997</td>\n",
       "      <td>37.939999</td>\n",
       "      <td>47.759998</td>\n",
       "      <td>41.299999</td>\n",
       "      <td>79.500000</td>\n",
       "      <td>...</td>\n",
       "      <td>42.090000</td>\n",
       "      <td>51.173328</td>\n",
       "      <td>55.983330</td>\n",
       "      <td>74.529999</td>\n",
       "      <td>67.309998</td>\n",
       "      <td>144.929993</td>\n",
       "      <td>94.379997</td>\n",
       "      <td>77.360001</td>\n",
       "      <td>101.400002</td>\n",
       "      <td>130.630005</td>\n",
       "    </tr>\n",
       "    <tr>\n",
       "      <th>2008-01-03</th>\n",
       "      <td>49.716667</td>\n",
       "      <td>35.290001</td>\n",
       "      <td>107.000000</td>\n",
       "      <td>53.119999</td>\n",
       "      <td>78.349998</td>\n",
       "      <td>87.809998</td>\n",
       "      <td>37.919998</td>\n",
       "      <td>48.060001</td>\n",
       "      <td>42.049999</td>\n",
       "      <td>80.440002</td>\n",
       "      <td>...</td>\n",
       "      <td>42.029999</td>\n",
       "      <td>51.293331</td>\n",
       "      <td>55.599998</td>\n",
       "      <td>74.800003</td>\n",
       "      <td>67.500000</td>\n",
       "      <td>144.860001</td>\n",
       "      <td>94.250000</td>\n",
       "      <td>77.459999</td>\n",
       "      <td>101.519997</td>\n",
       "      <td>130.740005</td>\n",
       "    </tr>\n",
       "    <tr>\n",
       "      <th>2008-01-04</th>\n",
       "      <td>48.223331</td>\n",
       "      <td>34.599998</td>\n",
       "      <td>106.970001</td>\n",
       "      <td>51.759998</td>\n",
       "      <td>76.570000</td>\n",
       "      <td>88.040001</td>\n",
       "      <td>36.990002</td>\n",
       "      <td>46.919998</td>\n",
       "      <td>40.779999</td>\n",
       "      <td>77.500000</td>\n",
       "      <td>...</td>\n",
       "      <td>42.349998</td>\n",
       "      <td>49.849998</td>\n",
       "      <td>54.536671</td>\n",
       "      <td>72.980003</td>\n",
       "      <td>65.769997</td>\n",
       "      <td>141.309998</td>\n",
       "      <td>94.269997</td>\n",
       "      <td>77.550003</td>\n",
       "      <td>101.650002</td>\n",
       "      <td>128.169998</td>\n",
       "    </tr>\n",
       "    <tr>\n",
       "      <th>2008-01-07</th>\n",
       "      <td>48.576668</td>\n",
       "      <td>34.630001</td>\n",
       "      <td>106.949997</td>\n",
       "      <td>51.439999</td>\n",
       "      <td>76.650002</td>\n",
       "      <td>88.199997</td>\n",
       "      <td>37.259998</td>\n",
       "      <td>47.060001</td>\n",
       "      <td>40.220001</td>\n",
       "      <td>77.199997</td>\n",
       "      <td>...</td>\n",
       "      <td>43.230000</td>\n",
       "      <td>50.416672</td>\n",
       "      <td>56.116669</td>\n",
       "      <td>72.949997</td>\n",
       "      <td>65.650002</td>\n",
       "      <td>141.190002</td>\n",
       "      <td>94.680000</td>\n",
       "      <td>77.570000</td>\n",
       "      <td>101.720001</td>\n",
       "      <td>128.059998</td>\n",
       "    </tr>\n",
       "    <tr>\n",
       "      <th>2008-01-08</th>\n",
       "      <td>48.200001</td>\n",
       "      <td>34.389999</td>\n",
       "      <td>107.029999</td>\n",
       "      <td>51.320000</td>\n",
       "      <td>76.220001</td>\n",
       "      <td>88.389999</td>\n",
       "      <td>36.970001</td>\n",
       "      <td>46.400002</td>\n",
       "      <td>39.599998</td>\n",
       "      <td>75.849998</td>\n",
       "      <td>...</td>\n",
       "      <td>43.240002</td>\n",
       "      <td>49.566669</td>\n",
       "      <td>55.326672</td>\n",
       "      <td>72.400002</td>\n",
       "      <td>65.360001</td>\n",
       "      <td>138.910004</td>\n",
       "      <td>94.570000</td>\n",
       "      <td>77.650002</td>\n",
       "      <td>101.739998</td>\n",
       "      <td>125.849998</td>\n",
       "    </tr>\n",
       "  </tbody>\n",
       "</table>\n",
       "<p>5 rows × 23 columns</p>\n",
       "</div>"
      ],
      "text/plain": [
       "                  EEM        EWG         TIP        EWJ        EFA        IEF  \\\n",
       "Date                                                                            \n",
       "2008-01-02  49.273335  35.389999  106.639999  52.919998  78.220001  87.629997   \n",
       "2008-01-03  49.716667  35.290001  107.000000  53.119999  78.349998  87.809998   \n",
       "2008-01-04  48.223331  34.599998  106.970001  51.759998  76.570000  88.040001   \n",
       "2008-01-07  48.576668  34.630001  106.949997  51.439999  76.650002  88.199997   \n",
       "2008-01-08  48.200001  34.389999  107.029999  51.320000  76.220001  88.389999   \n",
       "\n",
       "                  EWQ        EWU        XLB        XLE     ...            XLU  \\\n",
       "Date                                                       ...                  \n",
       "2008-01-02  37.939999  47.759998  41.299999  79.500000     ...      42.090000   \n",
       "2008-01-03  37.919998  48.060001  42.049999  80.440002     ...      42.029999   \n",
       "2008-01-04  36.990002  46.919998  40.779999  77.500000     ...      42.349998   \n",
       "2008-01-07  37.259998  47.060001  40.220001  77.199997     ...      43.230000   \n",
       "2008-01-08  36.970001  46.400002  39.599998  75.849998     ...      43.240002   \n",
       "\n",
       "                  EPP        FXI        VGK        VPL         SPY        TLT  \\\n",
       "Date                                                                            \n",
       "2008-01-02  51.173328  55.983330  74.529999  67.309998  144.929993  94.379997   \n",
       "2008-01-03  51.293331  55.599998  74.800003  67.500000  144.860001  94.250000   \n",
       "2008-01-04  49.849998  54.536671  72.980003  65.769997  141.309998  94.269997   \n",
       "2008-01-07  50.416672  56.116669  72.949997  65.650002  141.190002  94.680000   \n",
       "2008-01-08  49.566669  55.326672  72.400002  65.360001  138.910004  94.570000   \n",
       "\n",
       "                  BND         CSJ         DIA  \n",
       "Date                                           \n",
       "2008-01-02  77.360001  101.400002  130.630005  \n",
       "2008-01-03  77.459999  101.519997  130.740005  \n",
       "2008-01-04  77.550003  101.650002  128.169998  \n",
       "2008-01-07  77.570000  101.720001  128.059998  \n",
       "2008-01-08  77.650002  101.739998  125.849998  \n",
       "\n",
       "[5 rows x 23 columns]"
      ]
     },
     "execution_count": 3,
     "metadata": {},
     "output_type": "execute_result"
    }
   ],
   "source": [
    "stock_prices.head()"
   ]
  },
  {
   "cell_type": "markdown",
   "metadata": {},
   "source": [
    "To calculate the returns, the prices dataframe has to be indexed by date."
   ]
  },
  {
   "cell_type": "code",
   "execution_count": 4,
   "metadata": {},
   "outputs": [
    {
     "data": {
      "text/html": [
       "<div>\n",
       "<style scoped>\n",
       "    .dataframe tbody tr th:only-of-type {\n",
       "        vertical-align: middle;\n",
       "    }\n",
       "\n",
       "    .dataframe tbody tr th {\n",
       "        vertical-align: top;\n",
       "    }\n",
       "\n",
       "    .dataframe thead th {\n",
       "        text-align: right;\n",
       "    }\n",
       "</style>\n",
       "<table border=\"1\" class=\"dataframe\">\n",
       "  <thead>\n",
       "    <tr style=\"text-align: right;\">\n",
       "      <th></th>\n",
       "      <th>EEM</th>\n",
       "      <th>EWG</th>\n",
       "      <th>TIP</th>\n",
       "      <th>EWJ</th>\n",
       "      <th>EFA</th>\n",
       "      <th>IEF</th>\n",
       "      <th>EWQ</th>\n",
       "      <th>EWU</th>\n",
       "      <th>XLB</th>\n",
       "      <th>XLE</th>\n",
       "      <th>...</th>\n",
       "      <th>XLU</th>\n",
       "      <th>EPP</th>\n",
       "      <th>FXI</th>\n",
       "      <th>VGK</th>\n",
       "      <th>VPL</th>\n",
       "      <th>SPY</th>\n",
       "      <th>TLT</th>\n",
       "      <th>BND</th>\n",
       "      <th>CSJ</th>\n",
       "      <th>DIA</th>\n",
       "    </tr>\n",
       "    <tr>\n",
       "      <th>Date</th>\n",
       "      <th></th>\n",
       "      <th></th>\n",
       "      <th></th>\n",
       "      <th></th>\n",
       "      <th></th>\n",
       "      <th></th>\n",
       "      <th></th>\n",
       "      <th></th>\n",
       "      <th></th>\n",
       "      <th></th>\n",
       "      <th></th>\n",
       "      <th></th>\n",
       "      <th></th>\n",
       "      <th></th>\n",
       "      <th></th>\n",
       "      <th></th>\n",
       "      <th></th>\n",
       "      <th></th>\n",
       "      <th></th>\n",
       "      <th></th>\n",
       "      <th></th>\n",
       "    </tr>\n",
       "  </thead>\n",
       "  <tbody>\n",
       "    <tr>\n",
       "      <th>2008-01-03</th>\n",
       "      <td>0.008997</td>\n",
       "      <td>-0.002826</td>\n",
       "      <td>0.003376</td>\n",
       "      <td>0.003779</td>\n",
       "      <td>0.001662</td>\n",
       "      <td>0.002054</td>\n",
       "      <td>-0.000527</td>\n",
       "      <td>0.006281</td>\n",
       "      <td>0.018160</td>\n",
       "      <td>0.011824</td>\n",
       "      <td>...</td>\n",
       "      <td>-0.001426</td>\n",
       "      <td>0.002345</td>\n",
       "      <td>-0.006847</td>\n",
       "      <td>0.003623</td>\n",
       "      <td>0.002823</td>\n",
       "      <td>-0.000483</td>\n",
       "      <td>-0.001377</td>\n",
       "      <td>0.001293</td>\n",
       "      <td>0.001183</td>\n",
       "      <td>0.000842</td>\n",
       "    </tr>\n",
       "    <tr>\n",
       "      <th>2008-01-04</th>\n",
       "      <td>-0.030037</td>\n",
       "      <td>-0.019552</td>\n",
       "      <td>-0.000280</td>\n",
       "      <td>-0.025602</td>\n",
       "      <td>-0.022719</td>\n",
       "      <td>0.002619</td>\n",
       "      <td>-0.024525</td>\n",
       "      <td>-0.023720</td>\n",
       "      <td>-0.030202</td>\n",
       "      <td>-0.036549</td>\n",
       "      <td>...</td>\n",
       "      <td>0.007614</td>\n",
       "      <td>-0.028139</td>\n",
       "      <td>-0.019125</td>\n",
       "      <td>-0.024332</td>\n",
       "      <td>-0.025630</td>\n",
       "      <td>-0.024506</td>\n",
       "      <td>0.000212</td>\n",
       "      <td>0.001162</td>\n",
       "      <td>0.001281</td>\n",
       "      <td>-0.019657</td>\n",
       "    </tr>\n",
       "    <tr>\n",
       "      <th>2008-01-07</th>\n",
       "      <td>0.007327</td>\n",
       "      <td>0.000867</td>\n",
       "      <td>-0.000187</td>\n",
       "      <td>-0.006182</td>\n",
       "      <td>0.001045</td>\n",
       "      <td>0.001817</td>\n",
       "      <td>0.007299</td>\n",
       "      <td>0.002984</td>\n",
       "      <td>-0.013732</td>\n",
       "      <td>-0.003871</td>\n",
       "      <td>...</td>\n",
       "      <td>0.020779</td>\n",
       "      <td>0.011368</td>\n",
       "      <td>0.028971</td>\n",
       "      <td>-0.000411</td>\n",
       "      <td>-0.001824</td>\n",
       "      <td>-0.000849</td>\n",
       "      <td>0.004349</td>\n",
       "      <td>0.000258</td>\n",
       "      <td>0.000689</td>\n",
       "      <td>-0.000858</td>\n",
       "    </tr>\n",
       "    <tr>\n",
       "      <th>2008-01-08</th>\n",
       "      <td>-0.007754</td>\n",
       "      <td>-0.006930</td>\n",
       "      <td>0.000748</td>\n",
       "      <td>-0.002333</td>\n",
       "      <td>-0.005610</td>\n",
       "      <td>0.002154</td>\n",
       "      <td>-0.007783</td>\n",
       "      <td>-0.014025</td>\n",
       "      <td>-0.015415</td>\n",
       "      <td>-0.017487</td>\n",
       "      <td>...</td>\n",
       "      <td>0.000231</td>\n",
       "      <td>-0.016860</td>\n",
       "      <td>-0.014078</td>\n",
       "      <td>-0.007539</td>\n",
       "      <td>-0.004417</td>\n",
       "      <td>-0.016148</td>\n",
       "      <td>-0.001162</td>\n",
       "      <td>0.001031</td>\n",
       "      <td>0.000197</td>\n",
       "      <td>-0.017258</td>\n",
       "    </tr>\n",
       "    <tr>\n",
       "      <th>2008-01-09</th>\n",
       "      <td>0.032780</td>\n",
       "      <td>0.003199</td>\n",
       "      <td>-0.000747</td>\n",
       "      <td>0.021824</td>\n",
       "      <td>0.007216</td>\n",
       "      <td>-0.001584</td>\n",
       "      <td>0.002975</td>\n",
       "      <td>0.000431</td>\n",
       "      <td>0.006313</td>\n",
       "      <td>0.013184</td>\n",
       "      <td>...</td>\n",
       "      <td>0.010870</td>\n",
       "      <td>0.019435</td>\n",
       "      <td>0.062779</td>\n",
       "      <td>0.001381</td>\n",
       "      <td>0.021267</td>\n",
       "      <td>0.010510</td>\n",
       "      <td>0.001903</td>\n",
       "      <td>-0.001159</td>\n",
       "      <td>-0.000885</td>\n",
       "      <td>0.008820</td>\n",
       "    </tr>\n",
       "  </tbody>\n",
       "</table>\n",
       "<p>5 rows × 23 columns</p>\n",
       "</div>"
      ],
      "text/plain": [
       "                 EEM       EWG       TIP       EWJ       EFA       IEF  \\\n",
       "Date                                                                     \n",
       "2008-01-03  0.008997 -0.002826  0.003376  0.003779  0.001662  0.002054   \n",
       "2008-01-04 -0.030037 -0.019552 -0.000280 -0.025602 -0.022719  0.002619   \n",
       "2008-01-07  0.007327  0.000867 -0.000187 -0.006182  0.001045  0.001817   \n",
       "2008-01-08 -0.007754 -0.006930  0.000748 -0.002333 -0.005610  0.002154   \n",
       "2008-01-09  0.032780  0.003199 -0.000747  0.021824  0.007216 -0.001584   \n",
       "\n",
       "                 EWQ       EWU       XLB       XLE    ...          XLU  \\\n",
       "Date                                                  ...                \n",
       "2008-01-03 -0.000527  0.006281  0.018160  0.011824    ...    -0.001426   \n",
       "2008-01-04 -0.024525 -0.023720 -0.030202 -0.036549    ...     0.007614   \n",
       "2008-01-07  0.007299  0.002984 -0.013732 -0.003871    ...     0.020779   \n",
       "2008-01-08 -0.007783 -0.014025 -0.015415 -0.017487    ...     0.000231   \n",
       "2008-01-09  0.002975  0.000431  0.006313  0.013184    ...     0.010870   \n",
       "\n",
       "                 EPP       FXI       VGK       VPL       SPY       TLT  \\\n",
       "Date                                                                     \n",
       "2008-01-03  0.002345 -0.006847  0.003623  0.002823 -0.000483 -0.001377   \n",
       "2008-01-04 -0.028139 -0.019125 -0.024332 -0.025630 -0.024506  0.000212   \n",
       "2008-01-07  0.011368  0.028971 -0.000411 -0.001824 -0.000849  0.004349   \n",
       "2008-01-08 -0.016860 -0.014078 -0.007539 -0.004417 -0.016148 -0.001162   \n",
       "2008-01-09  0.019435  0.062779  0.001381  0.021267  0.010510  0.001903   \n",
       "\n",
       "                 BND       CSJ       DIA  \n",
       "Date                                      \n",
       "2008-01-03  0.001293  0.001183  0.000842  \n",
       "2008-01-04  0.001162  0.001281 -0.019657  \n",
       "2008-01-07  0.000258  0.000689 -0.000858  \n",
       "2008-01-08  0.001031  0.000197 -0.017258  \n",
       "2008-01-09 -0.001159 -0.000885  0.008820  \n",
       "\n",
       "[5 rows x 23 columns]"
      ]
     },
     "execution_count": 4,
     "metadata": {},
     "output_type": "execute_result"
    }
   ],
   "source": [
    "stock_returns = stock_prices.pct_change().dropna(how = 'all')\n",
    "stock_returns.head()"
   ]
  },
  {
   "cell_type": "markdown",
   "metadata": {},
   "source": [
    "The pct_change() function calculates the percentage change with the previous day price for each asset. Tis gives us the returns for that asset on different time periods"
   ]
  },
  {
   "cell_type": "markdown",
   "metadata": {},
   "source": [
    "## Question-16.1"
   ]
  },
  {
   "cell_type": "markdown",
   "metadata": {},
   "source": [
    "### Given the PnL series on N investment strategies:\n",
    "### (a) Align them to the average frequency of their bets (e.g., weekly observations for strategies that trade on a weekly basis). Hint: This kind of data alignment is sometimes called “downsampling.”"
   ]
  },
  {
   "cell_type": "markdown",
   "metadata": {},
   "source": [
    "Using, the **resample()** function in pandas, we can do the required downsampling. 'W' parameter refers to Weekly resampling"
   ]
  },
  {
   "cell_type": "code",
   "execution_count": 5,
   "metadata": {},
   "outputs": [],
   "source": [
    "stock_returns_downsampled = stock_returns.resample('W').mean()"
   ]
  },
  {
   "cell_type": "code",
   "execution_count": 6,
   "metadata": {},
   "outputs": [
    {
     "data": {
      "text/html": [
       "<div>\n",
       "<style scoped>\n",
       "    .dataframe tbody tr th:only-of-type {\n",
       "        vertical-align: middle;\n",
       "    }\n",
       "\n",
       "    .dataframe tbody tr th {\n",
       "        vertical-align: top;\n",
       "    }\n",
       "\n",
       "    .dataframe thead th {\n",
       "        text-align: right;\n",
       "    }\n",
       "</style>\n",
       "<table border=\"1\" class=\"dataframe\">\n",
       "  <thead>\n",
       "    <tr style=\"text-align: right;\">\n",
       "      <th></th>\n",
       "      <th>EEM</th>\n",
       "      <th>EWG</th>\n",
       "      <th>TIP</th>\n",
       "      <th>EWJ</th>\n",
       "      <th>EFA</th>\n",
       "      <th>IEF</th>\n",
       "      <th>EWQ</th>\n",
       "      <th>EWU</th>\n",
       "      <th>XLB</th>\n",
       "      <th>XLE</th>\n",
       "      <th>...</th>\n",
       "      <th>XLU</th>\n",
       "      <th>EPP</th>\n",
       "      <th>FXI</th>\n",
       "      <th>VGK</th>\n",
       "      <th>VPL</th>\n",
       "      <th>SPY</th>\n",
       "      <th>TLT</th>\n",
       "      <th>BND</th>\n",
       "      <th>CSJ</th>\n",
       "      <th>DIA</th>\n",
       "    </tr>\n",
       "    <tr>\n",
       "      <th>Date</th>\n",
       "      <th></th>\n",
       "      <th></th>\n",
       "      <th></th>\n",
       "      <th></th>\n",
       "      <th></th>\n",
       "      <th></th>\n",
       "      <th></th>\n",
       "      <th></th>\n",
       "      <th></th>\n",
       "      <th></th>\n",
       "      <th></th>\n",
       "      <th></th>\n",
       "      <th></th>\n",
       "      <th></th>\n",
       "      <th></th>\n",
       "      <th></th>\n",
       "      <th></th>\n",
       "      <th></th>\n",
       "      <th></th>\n",
       "      <th></th>\n",
       "      <th></th>\n",
       "    </tr>\n",
       "  </thead>\n",
       "  <tbody>\n",
       "    <tr>\n",
       "      <th>2008-01-06</th>\n",
       "      <td>-0.010520</td>\n",
       "      <td>-0.011189</td>\n",
       "      <td>0.001548</td>\n",
       "      <td>-0.010912</td>\n",
       "      <td>-0.010528</td>\n",
       "      <td>0.002337</td>\n",
       "      <td>-0.012526</td>\n",
       "      <td>-0.008719</td>\n",
       "      <td>-0.006021</td>\n",
       "      <td>-0.012363</td>\n",
       "      <td>...</td>\n",
       "      <td>0.003094</td>\n",
       "      <td>-0.012897</td>\n",
       "      <td>-0.012986</td>\n",
       "      <td>-0.010354</td>\n",
       "      <td>-0.011403</td>\n",
       "      <td>-0.012495</td>\n",
       "      <td>-0.000583</td>\n",
       "      <td>0.001227</td>\n",
       "      <td>0.001232</td>\n",
       "      <td>-0.009408</td>\n",
       "    </tr>\n",
       "    <tr>\n",
       "      <th>2008-01-13</th>\n",
       "      <td>0.003202</td>\n",
       "      <td>-0.002826</td>\n",
       "      <td>0.000549</td>\n",
       "      <td>-0.002401</td>\n",
       "      <td>-0.003668</td>\n",
       "      <td>0.001206</td>\n",
       "      <td>-0.002837</td>\n",
       "      <td>-0.007400</td>\n",
       "      <td>-0.003887</td>\n",
       "      <td>-0.004898</td>\n",
       "      <td>...</td>\n",
       "      <td>0.005095</td>\n",
       "      <td>-0.001125</td>\n",
       "      <td>0.008345</td>\n",
       "      <td>-0.004787</td>\n",
       "      <td>-0.001927</td>\n",
       "      <td>-0.001600</td>\n",
       "      <td>-0.000122</td>\n",
       "      <td>0.000568</td>\n",
       "      <td>0.001063</td>\n",
       "      <td>-0.003055</td>\n",
       "    </tr>\n",
       "    <tr>\n",
       "      <th>2008-01-20</th>\n",
       "      <td>-0.015687</td>\n",
       "      <td>-0.011125</td>\n",
       "      <td>0.002312</td>\n",
       "      <td>-0.004215</td>\n",
       "      <td>-0.009197</td>\n",
       "      <td>0.002346</td>\n",
       "      <td>-0.010369</td>\n",
       "      <td>-0.008728</td>\n",
       "      <td>-0.013044</td>\n",
       "      <td>-0.018085</td>\n",
       "      <td>...</td>\n",
       "      <td>-0.016086</td>\n",
       "      <td>-0.012992</td>\n",
       "      <td>-0.014923</td>\n",
       "      <td>-0.010625</td>\n",
       "      <td>-0.007677</td>\n",
       "      <td>-0.011749</td>\n",
       "      <td>0.002761</td>\n",
       "      <td>0.001311</td>\n",
       "      <td>0.000899</td>\n",
       "      <td>-0.009004</td>\n",
       "    </tr>\n",
       "    <tr>\n",
       "      <th>2008-01-27</th>\n",
       "      <td>-0.003634</td>\n",
       "      <td>-0.017109</td>\n",
       "      <td>0.001630</td>\n",
       "      <td>-0.000362</td>\n",
       "      <td>-0.003301</td>\n",
       "      <td>0.001680</td>\n",
       "      <td>-0.010527</td>\n",
       "      <td>0.001126</td>\n",
       "      <td>0.007273</td>\n",
       "      <td>-0.000422</td>\n",
       "      <td>...</td>\n",
       "      <td>-0.011481</td>\n",
       "      <td>0.005142</td>\n",
       "      <td>-0.011976</td>\n",
       "      <td>-0.005700</td>\n",
       "      <td>0.002007</td>\n",
       "      <td>0.001968</td>\n",
       "      <td>0.001302</td>\n",
       "      <td>0.001195</td>\n",
       "      <td>0.001752</td>\n",
       "      <td>0.003474</td>\n",
       "    </tr>\n",
       "    <tr>\n",
       "      <th>2008-02-03</th>\n",
       "      <td>0.009333</td>\n",
       "      <td>0.009462</td>\n",
       "      <td>-0.000215</td>\n",
       "      <td>0.005751</td>\n",
       "      <td>0.007989</td>\n",
       "      <td>-0.000572</td>\n",
       "      <td>0.009078</td>\n",
       "      <td>0.006850</td>\n",
       "      <td>0.012636</td>\n",
       "      <td>0.007717</td>\n",
       "      <td>...</td>\n",
       "      <td>0.010622</td>\n",
       "      <td>0.007643</td>\n",
       "      <td>0.002963</td>\n",
       "      <td>0.009396</td>\n",
       "      <td>0.006659</td>\n",
       "      <td>0.009691</td>\n",
       "      <td>-0.001490</td>\n",
       "      <td>-0.000865</td>\n",
       "      <td>-0.000772</td>\n",
       "      <td>0.008465</td>\n",
       "    </tr>\n",
       "  </tbody>\n",
       "</table>\n",
       "<p>5 rows × 23 columns</p>\n",
       "</div>"
      ],
      "text/plain": [
       "                 EEM       EWG       TIP       EWJ       EFA       IEF  \\\n",
       "Date                                                                     \n",
       "2008-01-06 -0.010520 -0.011189  0.001548 -0.010912 -0.010528  0.002337   \n",
       "2008-01-13  0.003202 -0.002826  0.000549 -0.002401 -0.003668  0.001206   \n",
       "2008-01-20 -0.015687 -0.011125  0.002312 -0.004215 -0.009197  0.002346   \n",
       "2008-01-27 -0.003634 -0.017109  0.001630 -0.000362 -0.003301  0.001680   \n",
       "2008-02-03  0.009333  0.009462 -0.000215  0.005751  0.007989 -0.000572   \n",
       "\n",
       "                 EWQ       EWU       XLB       XLE    ...          XLU  \\\n",
       "Date                                                  ...                \n",
       "2008-01-06 -0.012526 -0.008719 -0.006021 -0.012363    ...     0.003094   \n",
       "2008-01-13 -0.002837 -0.007400 -0.003887 -0.004898    ...     0.005095   \n",
       "2008-01-20 -0.010369 -0.008728 -0.013044 -0.018085    ...    -0.016086   \n",
       "2008-01-27 -0.010527  0.001126  0.007273 -0.000422    ...    -0.011481   \n",
       "2008-02-03  0.009078  0.006850  0.012636  0.007717    ...     0.010622   \n",
       "\n",
       "                 EPP       FXI       VGK       VPL       SPY       TLT  \\\n",
       "Date                                                                     \n",
       "2008-01-06 -0.012897 -0.012986 -0.010354 -0.011403 -0.012495 -0.000583   \n",
       "2008-01-13 -0.001125  0.008345 -0.004787 -0.001927 -0.001600 -0.000122   \n",
       "2008-01-20 -0.012992 -0.014923 -0.010625 -0.007677 -0.011749  0.002761   \n",
       "2008-01-27  0.005142 -0.011976 -0.005700  0.002007  0.001968  0.001302   \n",
       "2008-02-03  0.007643  0.002963  0.009396  0.006659  0.009691 -0.001490   \n",
       "\n",
       "                 BND       CSJ       DIA  \n",
       "Date                                      \n",
       "2008-01-06  0.001227  0.001232 -0.009408  \n",
       "2008-01-13  0.000568  0.001063 -0.003055  \n",
       "2008-01-20  0.001311  0.000899 -0.009004  \n",
       "2008-01-27  0.001195  0.001752  0.003474  \n",
       "2008-02-03 -0.000865 -0.000772  0.008465  \n",
       "\n",
       "[5 rows x 23 columns]"
      ]
     },
     "execution_count": 6,
     "metadata": {},
     "output_type": "execute_result"
    }
   ],
   "source": [
    "stock_returns_downsampled.head()"
   ]
  },
  {
   "cell_type": "markdown",
   "metadata": {},
   "source": [
    "### (b) Compute the covariance of their returns, V"
   ]
  },
  {
   "cell_type": "code",
   "execution_count": 7,
   "metadata": {},
   "outputs": [],
   "source": [
    "V = stock_returns_downsampled.cov()"
   ]
  },
  {
   "cell_type": "code",
   "execution_count": 8,
   "metadata": {},
   "outputs": [
    {
     "data": {
      "text/html": [
       "<div>\n",
       "<style scoped>\n",
       "    .dataframe tbody tr th:only-of-type {\n",
       "        vertical-align: middle;\n",
       "    }\n",
       "\n",
       "    .dataframe tbody tr th {\n",
       "        vertical-align: top;\n",
       "    }\n",
       "\n",
       "    .dataframe thead th {\n",
       "        text-align: right;\n",
       "    }\n",
       "</style>\n",
       "<table border=\"1\" class=\"dataframe\">\n",
       "  <thead>\n",
       "    <tr style=\"text-align: right;\">\n",
       "      <th></th>\n",
       "      <th>EEM</th>\n",
       "      <th>EWG</th>\n",
       "      <th>TIP</th>\n",
       "      <th>EWJ</th>\n",
       "      <th>EFA</th>\n",
       "      <th>IEF</th>\n",
       "      <th>EWQ</th>\n",
       "      <th>EWU</th>\n",
       "      <th>XLB</th>\n",
       "      <th>XLE</th>\n",
       "      <th>...</th>\n",
       "      <th>XLU</th>\n",
       "      <th>EPP</th>\n",
       "      <th>FXI</th>\n",
       "      <th>VGK</th>\n",
       "      <th>VPL</th>\n",
       "      <th>SPY</th>\n",
       "      <th>TLT</th>\n",
       "      <th>BND</th>\n",
       "      <th>CSJ</th>\n",
       "      <th>DIA</th>\n",
       "    </tr>\n",
       "  </thead>\n",
       "  <tbody>\n",
       "    <tr>\n",
       "      <th>EEM</th>\n",
       "      <td>6.631537e-05</td>\n",
       "      <td>5.647884e-05</td>\n",
       "      <td>4.299339e-07</td>\n",
       "      <td>3.291648e-05</td>\n",
       "      <td>4.722515e-05</td>\n",
       "      <td>-0.000005</td>\n",
       "      <td>5.304270e-05</td>\n",
       "      <td>4.851761e-05</td>\n",
       "      <td>4.898068e-05</td>\n",
       "      <td>5.265122e-05</td>\n",
       "      <td>...</td>\n",
       "      <td>0.000024</td>\n",
       "      <td>5.437820e-05</td>\n",
       "      <td>6.334443e-05</td>\n",
       "      <td>5.105915e-05</td>\n",
       "      <td>4.011210e-05</td>\n",
       "      <td>3.900269e-05</td>\n",
       "      <td>-0.000013</td>\n",
       "      <td>2.359251e-07</td>\n",
       "      <td>0.000002</td>\n",
       "      <td>3.513041e-05</td>\n",
       "    </tr>\n",
       "    <tr>\n",
       "      <th>EWG</th>\n",
       "      <td>5.647884e-05</td>\n",
       "      <td>6.750786e-05</td>\n",
       "      <td>-7.332941e-08</td>\n",
       "      <td>3.424277e-05</td>\n",
       "      <td>5.126713e-05</td>\n",
       "      <td>-0.000006</td>\n",
       "      <td>6.190029e-05</td>\n",
       "      <td>5.104634e-05</td>\n",
       "      <td>4.813616e-05</td>\n",
       "      <td>5.139858e-05</td>\n",
       "      <td>...</td>\n",
       "      <td>0.000024</td>\n",
       "      <td>5.087233e-05</td>\n",
       "      <td>5.260431e-05</td>\n",
       "      <td>5.685347e-05</td>\n",
       "      <td>3.930447e-05</td>\n",
       "      <td>4.004506e-05</td>\n",
       "      <td>-0.000015</td>\n",
       "      <td>2.197392e-07</td>\n",
       "      <td>0.000002</td>\n",
       "      <td>3.654303e-05</td>\n",
       "    </tr>\n",
       "    <tr>\n",
       "      <th>TIP</th>\n",
       "      <td>4.299339e-07</td>\n",
       "      <td>-7.332941e-08</td>\n",
       "      <td>3.908215e-06</td>\n",
       "      <td>1.077506e-07</td>\n",
       "      <td>3.742119e-07</td>\n",
       "      <td>0.000003</td>\n",
       "      <td>-2.115813e-07</td>\n",
       "      <td>3.762387e-07</td>\n",
       "      <td>5.913972e-10</td>\n",
       "      <td>4.140851e-08</td>\n",
       "      <td>...</td>\n",
       "      <td>0.000001</td>\n",
       "      <td>9.350522e-07</td>\n",
       "      <td>-7.158470e-07</td>\n",
       "      <td>2.968900e-07</td>\n",
       "      <td>5.666097e-07</td>\n",
       "      <td>-4.434200e-09</td>\n",
       "      <td>0.000005</td>\n",
       "      <td>1.947541e-06</td>\n",
       "      <td>0.000001</td>\n",
       "      <td>-2.903914e-07</td>\n",
       "    </tr>\n",
       "    <tr>\n",
       "      <th>EWJ</th>\n",
       "      <td>3.291648e-05</td>\n",
       "      <td>3.424277e-05</td>\n",
       "      <td>1.077506e-07</td>\n",
       "      <td>3.308390e-05</td>\n",
       "      <td>3.158435e-05</td>\n",
       "      <td>-0.000003</td>\n",
       "      <td>3.303061e-05</td>\n",
       "      <td>2.874866e-05</td>\n",
       "      <td>2.742860e-05</td>\n",
       "      <td>3.240556e-05</td>\n",
       "      <td>...</td>\n",
       "      <td>0.000015</td>\n",
       "      <td>3.126594e-05</td>\n",
       "      <td>3.207695e-05</td>\n",
       "      <td>3.131919e-05</td>\n",
       "      <td>3.154231e-05</td>\n",
       "      <td>2.540660e-05</td>\n",
       "      <td>-0.000008</td>\n",
       "      <td>1.117575e-06</td>\n",
       "      <td>0.000002</td>\n",
       "      <td>2.319994e-05</td>\n",
       "    </tr>\n",
       "    <tr>\n",
       "      <th>EFA</th>\n",
       "      <td>4.722515e-05</td>\n",
       "      <td>5.126713e-05</td>\n",
       "      <td>3.742119e-07</td>\n",
       "      <td>3.158435e-05</td>\n",
       "      <td>4.341372e-05</td>\n",
       "      <td>-0.000004</td>\n",
       "      <td>5.022217e-05</td>\n",
       "      <td>4.374589e-05</td>\n",
       "      <td>4.055110e-05</td>\n",
       "      <td>4.442812e-05</td>\n",
       "      <td>...</td>\n",
       "      <td>0.000021</td>\n",
       "      <td>4.487643e-05</td>\n",
       "      <td>4.406364e-05</td>\n",
       "      <td>4.697408e-05</td>\n",
       "      <td>3.558394e-05</td>\n",
       "      <td>3.438115e-05</td>\n",
       "      <td>-0.000011</td>\n",
       "      <td>8.073326e-07</td>\n",
       "      <td>0.000002</td>\n",
       "      <td>3.116900e-05</td>\n",
       "    </tr>\n",
       "  </tbody>\n",
       "</table>\n",
       "<p>5 rows × 23 columns</p>\n",
       "</div>"
      ],
      "text/plain": [
       "              EEM           EWG           TIP           EWJ           EFA  \\\n",
       "EEM  6.631537e-05  5.647884e-05  4.299339e-07  3.291648e-05  4.722515e-05   \n",
       "EWG  5.647884e-05  6.750786e-05 -7.332941e-08  3.424277e-05  5.126713e-05   \n",
       "TIP  4.299339e-07 -7.332941e-08  3.908215e-06  1.077506e-07  3.742119e-07   \n",
       "EWJ  3.291648e-05  3.424277e-05  1.077506e-07  3.308390e-05  3.158435e-05   \n",
       "EFA  4.722515e-05  5.126713e-05  3.742119e-07  3.158435e-05  4.341372e-05   \n",
       "\n",
       "          IEF           EWQ           EWU           XLB           XLE  \\\n",
       "EEM -0.000005  5.304270e-05  4.851761e-05  4.898068e-05  5.265122e-05   \n",
       "EWG -0.000006  6.190029e-05  5.104634e-05  4.813616e-05  5.139858e-05   \n",
       "TIP  0.000003 -2.115813e-07  3.762387e-07  5.913972e-10  4.140851e-08   \n",
       "EWJ -0.000003  3.303061e-05  2.874866e-05  2.742860e-05  3.240556e-05   \n",
       "EFA -0.000004  5.022217e-05  4.374589e-05  4.055110e-05  4.442812e-05   \n",
       "\n",
       "         ...            XLU           EPP           FXI           VGK  \\\n",
       "EEM      ...       0.000024  5.437820e-05  6.334443e-05  5.105915e-05   \n",
       "EWG      ...       0.000024  5.087233e-05  5.260431e-05  5.685347e-05   \n",
       "TIP      ...       0.000001  9.350522e-07 -7.158470e-07  2.968900e-07   \n",
       "EWJ      ...       0.000015  3.126594e-05  3.207695e-05  3.131919e-05   \n",
       "EFA      ...       0.000021  4.487643e-05  4.406364e-05  4.697408e-05   \n",
       "\n",
       "              VPL           SPY       TLT           BND       CSJ  \\\n",
       "EEM  4.011210e-05  3.900269e-05 -0.000013  2.359251e-07  0.000002   \n",
       "EWG  3.930447e-05  4.004506e-05 -0.000015  2.197392e-07  0.000002   \n",
       "TIP  5.666097e-07 -4.434200e-09  0.000005  1.947541e-06  0.000001   \n",
       "EWJ  3.154231e-05  2.540660e-05 -0.000008  1.117575e-06  0.000002   \n",
       "EFA  3.558394e-05  3.438115e-05 -0.000011  8.073326e-07  0.000002   \n",
       "\n",
       "              DIA  \n",
       "EEM  3.513041e-05  \n",
       "EWG  3.654303e-05  \n",
       "TIP -2.903914e-07  \n",
       "EWJ  2.319994e-05  \n",
       "EFA  3.116900e-05  \n",
       "\n",
       "[5 rows x 23 columns]"
      ]
     },
     "execution_count": 8,
     "metadata": {},
     "output_type": "execute_result"
    }
   ],
   "source": [
    "V.head()"
   ]
  },
  {
   "cell_type": "markdown",
   "metadata": {},
   "source": [
    "### (c) Identify the hierarchical clusters among the N strategies"
   ]
  },
  {
   "cell_type": "code",
   "execution_count": 9,
   "metadata": {},
   "outputs": [
    {
     "data": {
      "text/plain": [
       "array([[18.        , 22.        ,  0.10645808,  2.        ],\n",
       "       [ 4.        , 16.        ,  0.11329364,  2.        ],\n",
       "       [ 6.        , 24.        ,  0.13022077,  3.        ],\n",
       "       [ 1.        , 25.        ,  0.16131666,  4.        ],\n",
       "       [ 7.        , 26.        ,  0.16869564,  5.        ],\n",
       "       [ 3.        , 17.        ,  0.17522128,  2.        ],\n",
       "       [27.        , 28.        ,  0.19449407,  7.        ],\n",
       "       [12.        , 23.        ,  0.19920178,  3.        ],\n",
       "       [14.        , 29.        ,  0.2109758 ,  8.        ],\n",
       "       [30.        , 31.        ,  0.21905085, 11.        ],\n",
       "       [ 0.        , 32.        ,  0.23114598, 12.        ],\n",
       "       [ 5.        , 19.        ,  0.23403126,  2.        ],\n",
       "       [15.        , 33.        ,  0.23901716, 13.        ],\n",
       "       [ 8.        , 35.        ,  0.24826423, 14.        ],\n",
       "       [10.        , 36.        ,  0.26562773, 15.        ],\n",
       "       [ 9.        , 37.        ,  0.27300288, 16.        ],\n",
       "       [11.        , 20.        ,  0.35233866,  2.        ],\n",
       "       [34.        , 39.        ,  0.37043597,  4.        ],\n",
       "       [ 2.        , 40.        ,  0.39583428,  5.        ],\n",
       "       [21.        , 41.        ,  0.40490325,  6.        ],\n",
       "       [13.        , 38.        ,  0.40638275, 17.        ],\n",
       "       [42.        , 43.        ,  0.57529415, 23.        ]])"
      ]
     },
     "execution_count": 9,
     "metadata": {},
     "output_type": "execute_result"
    }
   ],
   "source": [
    "correlation = stock_returns_downsampled.corr()\n",
    "distances = np.sqrt((1 - correlation) / 2)\n",
    "clusters = linkage(squareform(distances), method = \"single\")\n",
    "clusters"
   ]
  },
  {
   "cell_type": "code",
   "execution_count": 10,
   "metadata": {},
   "outputs": [
    {
     "data": {
      "image/png": "[encoded data removed]",
      "text/plain": [
       "<Figure size 1080x360 with 1 Axes>"
      ]
     },
     "metadata": {
      "needs_background": "light"
     },
     "output_type": "display_data"
    }
   ],
   "source": [
    "columns = stock_returns_downsampled.columns\n",
    "plt.figure(figsize = (15, 5))\n",
    "dendrogram(clusters, labels = columns)\n",
    "plt.xlabel('Tickers', fontsize = 12)\n",
    "plt.ylabel('Cluster Leaves Distances', fontsize = 12)\n",
    "plt.title('Hierarchical Clustering Dendrogram', fontsize = 12)\n",
    "plt.show()"
   ]
  },
  {
   "cell_type": "markdown",
   "metadata": {},
   "source": [
    "### (d) Plot the clustered correlation matrix of the N strategies"
   ]
  },
  {
   "cell_type": "code",
   "execution_count": 11,
   "metadata": {},
   "outputs": [
    {
     "data": {
      "text/plain": [
       "<Figure size 504x504 with 0 Axes>"
      ]
     },
     "metadata": {},
     "output_type": "display_data"
    },
    {
     "data": {
      "image/png": "[encoded data removed]",
      "text/plain": [
       "<Figure size 720x720 with 4 Axes>"
      ]
     },
     "metadata": {
      "needs_background": "light"
     },
     "output_type": "display_data"
    }
   ],
   "source": [
    "plt.figure(figsize=(7, 7))\n",
    "sns.clustermap(stock_returns_downsampled.corr())\n",
    "plt.show()"
   ]
  },
  {
   "cell_type": "markdown",
   "metadata": {},
   "source": [
    "## Question-16.2\n",
    "\n",
    "### Using the clustered covariance matrix V from exercise 1:"
   ]
  },
  {
   "cell_type": "markdown",
   "metadata": {},
   "source": [
    "Each class in mlfinlab's portfolio_optimisation module has an **allocate()** method which takes the raw stock prices, calculates the returns and finds the optimal weights. There is also an option to resample the returns. For our case, we will specify 'W' for weekly resampling."
   ]
  },
  {
   "cell_type": "markdown",
   "metadata": {},
   "source": [
    "### (a) Compute the HRP allocations"
   ]
  },
  {
   "cell_type": "code",
   "execution_count": 12,
   "metadata": {},
   "outputs": [],
   "source": [
    "hrp = HierarchicalRiskParity()\n",
    "hrp.allocate(asset_prices = stock_prices, resample_returns_by = 'W')\n",
    "hrp_weights = hrp.weights.sort_values(by = 0, ascending = False, axis = 1)"
   ]
  },
  {
   "cell_type": "code",
   "execution_count": 13,
   "metadata": {},
   "outputs": [
    {
     "data": {
      "text/html": [
       "<div>\n",
       "<style scoped>\n",
       "    .dataframe tbody tr th:only-of-type {\n",
       "        vertical-align: middle;\n",
       "    }\n",
       "\n",
       "    .dataframe tbody tr th {\n",
       "        vertical-align: top;\n",
       "    }\n",
       "\n",
       "    .dataframe thead th {\n",
       "        text-align: right;\n",
       "    }\n",
       "</style>\n",
       "<table border=\"1\" class=\"dataframe\">\n",
       "  <thead>\n",
       "    <tr style=\"text-align: right;\">\n",
       "      <th></th>\n",
       "      <th>BND</th>\n",
       "      <th>CSJ</th>\n",
       "      <th>TIP</th>\n",
       "      <th>IEF</th>\n",
       "      <th>LQD</th>\n",
       "      <th>XLU</th>\n",
       "      <th>TLT</th>\n",
       "      <th>DIA</th>\n",
       "      <th>XLE</th>\n",
       "      <th>XLB</th>\n",
       "      <th>...</th>\n",
       "      <th>EWJ</th>\n",
       "      <th>XLK</th>\n",
       "      <th>FXI</th>\n",
       "      <th>EEM</th>\n",
       "      <th>VPL</th>\n",
       "      <th>EWG</th>\n",
       "      <th>EFA</th>\n",
       "      <th>EWU</th>\n",
       "      <th>EPP</th>\n",
       "      <th>EWQ</th>\n",
       "    </tr>\n",
       "  </thead>\n",
       "  <tbody>\n",
       "    <tr>\n",
       "      <th>0</th>\n",
       "      <td>0.360859</td>\n",
       "      <td>0.281934</td>\n",
       "      <td>0.119551</td>\n",
       "      <td>0.084645</td>\n",
       "      <td>0.048283</td>\n",
       "      <td>0.018901</td>\n",
       "      <td>0.013247</td>\n",
       "      <td>0.008163</td>\n",
       "      <td>0.007479</td>\n",
       "      <td>0.006193</td>\n",
       "      <td>...</td>\n",
       "      <td>0.004405</td>\n",
       "      <td>0.004337</td>\n",
       "      <td>0.004297</td>\n",
       "      <td>0.004285</td>\n",
       "      <td>0.00427</td>\n",
       "      <td>0.003802</td>\n",
       "      <td>0.003044</td>\n",
       "      <td>0.00252</td>\n",
       "      <td>0.002234</td>\n",
       "      <td>0.002092</td>\n",
       "    </tr>\n",
       "  </tbody>\n",
       "</table>\n",
       "<p>1 rows × 23 columns</p>\n",
       "</div>"
      ],
      "text/plain": [
       "        BND       CSJ       TIP       IEF       LQD       XLU       TLT  \\\n",
       "0  0.360859  0.281934  0.119551  0.084645  0.048283  0.018901  0.013247   \n",
       "\n",
       "        DIA       XLE       XLB    ...          EWJ       XLK       FXI  \\\n",
       "0  0.008163  0.007479  0.006193    ...     0.004405  0.004337  0.004297   \n",
       "\n",
       "        EEM      VPL       EWG       EFA      EWU       EPP       EWQ  \n",
       "0  0.004285  0.00427  0.003802  0.003044  0.00252  0.002234  0.002092  \n",
       "\n",
       "[1 rows x 23 columns]"
      ]
     },
     "execution_count": 13,
     "metadata": {},
     "output_type": "execute_result"
    }
   ],
   "source": [
    "hrp_weights"
   ]
  },
  {
   "cell_type": "code",
   "execution_count": 14,
   "metadata": {},
   "outputs": [
    {
     "data": {
      "image/png": "[encoded data removed]",
      "text/plain": [
       "<Figure size 1080x360 with 1 Axes>"
      ]
     },
     "metadata": {
      "needs_background": "light"
     },
     "output_type": "display_data"
    }
   ],
   "source": [
    "plt.figure(figsize = (15, 5))\n",
    "plt.bar(hrp_weights.columns, hrp_weights.values[0])\n",
    "plt.xlabel('Tickers', fontsize = 12)\n",
    "plt.ylabel('Weights', fontsize = 12)\n",
    "plt.title('HRP Portfolio Weights', fontsize = 12)\n",
    "plt.show()"
   ]
  },
  {
   "cell_type": "markdown",
   "metadata": {},
   "source": [
    "### (b) Compute the CLA allocations"
   ]
  },
  {
   "cell_type": "code",
   "execution_count": 15,
   "metadata": {},
   "outputs": [
    {
     "data": {
      "text/html": [
       "<div>\n",
       "<style scoped>\n",
       "    .dataframe tbody tr th:only-of-type {\n",
       "        vertical-align: middle;\n",
       "    }\n",
       "\n",
       "    .dataframe tbody tr th {\n",
       "        vertical-align: top;\n",
       "    }\n",
       "\n",
       "    .dataframe thead th {\n",
       "        text-align: right;\n",
       "    }\n",
       "</style>\n",
       "<table border=\"1\" class=\"dataframe\">\n",
       "  <thead>\n",
       "    <tr style=\"text-align: right;\">\n",
       "      <th></th>\n",
       "      <th>EEM</th>\n",
       "      <th>EWG</th>\n",
       "      <th>TIP</th>\n",
       "      <th>EWJ</th>\n",
       "      <th>EFA</th>\n",
       "      <th>IEF</th>\n",
       "      <th>EWQ</th>\n",
       "      <th>EWU</th>\n",
       "      <th>XLB</th>\n",
       "      <th>XLE</th>\n",
       "      <th>...</th>\n",
       "      <th>XLU</th>\n",
       "      <th>EPP</th>\n",
       "      <th>FXI</th>\n",
       "      <th>VGK</th>\n",
       "      <th>VPL</th>\n",
       "      <th>SPY</th>\n",
       "      <th>TLT</th>\n",
       "      <th>BND</th>\n",
       "      <th>CSJ</th>\n",
       "      <th>DIA</th>\n",
       "    </tr>\n",
       "  </thead>\n",
       "  <tbody>\n",
       "    <tr>\n",
       "      <th>0</th>\n",
       "      <td>0.0</td>\n",
       "      <td>0.0</td>\n",
       "      <td>0.0</td>\n",
       "      <td>0.0</td>\n",
       "      <td>0.0</td>\n",
       "      <td>0.0</td>\n",
       "      <td>0.000000e+00</td>\n",
       "      <td>0.0</td>\n",
       "      <td>0.0</td>\n",
       "      <td>0.0</td>\n",
       "      <td>...</td>\n",
       "      <td>0.0</td>\n",
       "      <td>0.0</td>\n",
       "      <td>0.000000</td>\n",
       "      <td>0.0</td>\n",
       "      <td>0.0</td>\n",
       "      <td>0.0</td>\n",
       "      <td>0.0</td>\n",
       "      <td>0.000000e+00</td>\n",
       "      <td>0.000000</td>\n",
       "      <td>0.0</td>\n",
       "    </tr>\n",
       "    <tr>\n",
       "      <th>1</th>\n",
       "      <td>0.0</td>\n",
       "      <td>0.0</td>\n",
       "      <td>0.0</td>\n",
       "      <td>0.0</td>\n",
       "      <td>0.0</td>\n",
       "      <td>0.0</td>\n",
       "      <td>0.000000e+00</td>\n",
       "      <td>0.0</td>\n",
       "      <td>0.0</td>\n",
       "      <td>0.0</td>\n",
       "      <td>...</td>\n",
       "      <td>0.0</td>\n",
       "      <td>0.0</td>\n",
       "      <td>0.000000</td>\n",
       "      <td>0.0</td>\n",
       "      <td>0.0</td>\n",
       "      <td>0.0</td>\n",
       "      <td>0.0</td>\n",
       "      <td>0.000000e+00</td>\n",
       "      <td>0.000000</td>\n",
       "      <td>0.0</td>\n",
       "    </tr>\n",
       "    <tr>\n",
       "      <th>2</th>\n",
       "      <td>0.0</td>\n",
       "      <td>0.0</td>\n",
       "      <td>0.0</td>\n",
       "      <td>0.0</td>\n",
       "      <td>0.0</td>\n",
       "      <td>0.0</td>\n",
       "      <td>0.000000e+00</td>\n",
       "      <td>0.0</td>\n",
       "      <td>0.0</td>\n",
       "      <td>0.0</td>\n",
       "      <td>...</td>\n",
       "      <td>0.0</td>\n",
       "      <td>0.0</td>\n",
       "      <td>0.000000</td>\n",
       "      <td>0.0</td>\n",
       "      <td>0.0</td>\n",
       "      <td>0.0</td>\n",
       "      <td>0.0</td>\n",
       "      <td>1.110223e-16</td>\n",
       "      <td>0.000000</td>\n",
       "      <td>0.0</td>\n",
       "    </tr>\n",
       "    <tr>\n",
       "      <th>3</th>\n",
       "      <td>0.0</td>\n",
       "      <td>0.0</td>\n",
       "      <td>0.0</td>\n",
       "      <td>0.0</td>\n",
       "      <td>0.0</td>\n",
       "      <td>0.0</td>\n",
       "      <td>0.000000e+00</td>\n",
       "      <td>0.0</td>\n",
       "      <td>0.0</td>\n",
       "      <td>0.0</td>\n",
       "      <td>...</td>\n",
       "      <td>0.0</td>\n",
       "      <td>0.0</td>\n",
       "      <td>0.000000</td>\n",
       "      <td>0.0</td>\n",
       "      <td>0.0</td>\n",
       "      <td>0.0</td>\n",
       "      <td>0.0</td>\n",
       "      <td>2.518711e-01</td>\n",
       "      <td>0.000000</td>\n",
       "      <td>0.0</td>\n",
       "    </tr>\n",
       "    <tr>\n",
       "      <th>4</th>\n",
       "      <td>0.0</td>\n",
       "      <td>0.0</td>\n",
       "      <td>0.0</td>\n",
       "      <td>0.0</td>\n",
       "      <td>0.0</td>\n",
       "      <td>0.0</td>\n",
       "      <td>0.000000e+00</td>\n",
       "      <td>0.0</td>\n",
       "      <td>0.0</td>\n",
       "      <td>0.0</td>\n",
       "      <td>...</td>\n",
       "      <td>0.0</td>\n",
       "      <td>0.0</td>\n",
       "      <td>0.000000</td>\n",
       "      <td>0.0</td>\n",
       "      <td>0.0</td>\n",
       "      <td>0.0</td>\n",
       "      <td>0.0</td>\n",
       "      <td>4.882054e-01</td>\n",
       "      <td>0.000000</td>\n",
       "      <td>0.0</td>\n",
       "    </tr>\n",
       "    <tr>\n",
       "      <th>5</th>\n",
       "      <td>0.0</td>\n",
       "      <td>0.0</td>\n",
       "      <td>0.0</td>\n",
       "      <td>0.0</td>\n",
       "      <td>0.0</td>\n",
       "      <td>0.0</td>\n",
       "      <td>0.000000e+00</td>\n",
       "      <td>0.0</td>\n",
       "      <td>0.0</td>\n",
       "      <td>0.0</td>\n",
       "      <td>...</td>\n",
       "      <td>0.0</td>\n",
       "      <td>0.0</td>\n",
       "      <td>0.005331</td>\n",
       "      <td>0.0</td>\n",
       "      <td>0.0</td>\n",
       "      <td>0.0</td>\n",
       "      <td>0.0</td>\n",
       "      <td>4.990372e-01</td>\n",
       "      <td>0.000000</td>\n",
       "      <td>0.0</td>\n",
       "    </tr>\n",
       "    <tr>\n",
       "      <th>6</th>\n",
       "      <td>0.0</td>\n",
       "      <td>0.0</td>\n",
       "      <td>0.0</td>\n",
       "      <td>0.0</td>\n",
       "      <td>0.0</td>\n",
       "      <td>0.0</td>\n",
       "      <td>2.775558e-17</td>\n",
       "      <td>0.0</td>\n",
       "      <td>0.0</td>\n",
       "      <td>0.0</td>\n",
       "      <td>...</td>\n",
       "      <td>0.0</td>\n",
       "      <td>0.0</td>\n",
       "      <td>0.000000</td>\n",
       "      <td>0.0</td>\n",
       "      <td>0.0</td>\n",
       "      <td>0.0</td>\n",
       "      <td>0.0</td>\n",
       "      <td>5.999018e-02</td>\n",
       "      <td>0.764283</td>\n",
       "      <td>0.0</td>\n",
       "    </tr>\n",
       "    <tr>\n",
       "      <th>7</th>\n",
       "      <td>0.0</td>\n",
       "      <td>0.0</td>\n",
       "      <td>0.0</td>\n",
       "      <td>0.0</td>\n",
       "      <td>0.0</td>\n",
       "      <td>0.0</td>\n",
       "      <td>1.491209e-01</td>\n",
       "      <td>0.0</td>\n",
       "      <td>0.0</td>\n",
       "      <td>0.0</td>\n",
       "      <td>...</td>\n",
       "      <td>0.0</td>\n",
       "      <td>0.0</td>\n",
       "      <td>0.000000</td>\n",
       "      <td>0.0</td>\n",
       "      <td>0.0</td>\n",
       "      <td>0.0</td>\n",
       "      <td>0.0</td>\n",
       "      <td>1.306990e-01</td>\n",
       "      <td>0.720180</td>\n",
       "      <td>0.0</td>\n",
       "    </tr>\n",
       "    <tr>\n",
       "      <th>8</th>\n",
       "      <td>0.0</td>\n",
       "      <td>0.0</td>\n",
       "      <td>0.0</td>\n",
       "      <td>0.0</td>\n",
       "      <td>0.0</td>\n",
       "      <td>0.0</td>\n",
       "      <td>1.594631e-01</td>\n",
       "      <td>0.0</td>\n",
       "      <td>0.0</td>\n",
       "      <td>0.0</td>\n",
       "      <td>...</td>\n",
       "      <td>0.0</td>\n",
       "      <td>0.0</td>\n",
       "      <td>0.000000</td>\n",
       "      <td>0.0</td>\n",
       "      <td>0.0</td>\n",
       "      <td>0.0</td>\n",
       "      <td>0.0</td>\n",
       "      <td>1.252529e-01</td>\n",
       "      <td>0.715284</td>\n",
       "      <td>0.0</td>\n",
       "    </tr>\n",
       "  </tbody>\n",
       "</table>\n",
       "<p>9 rows × 23 columns</p>\n",
       "</div>"
      ],
      "text/plain": [
       "   EEM  EWG  TIP  EWJ  EFA  IEF           EWQ  EWU  XLB  XLE ...   XLU  EPP  \\\n",
       "0  0.0  0.0  0.0  0.0  0.0  0.0  0.000000e+00  0.0  0.0  0.0 ...   0.0  0.0   \n",
       "1  0.0  0.0  0.0  0.0  0.0  0.0  0.000000e+00  0.0  0.0  0.0 ...   0.0  0.0   \n",
       "2  0.0  0.0  0.0  0.0  0.0  0.0  0.000000e+00  0.0  0.0  0.0 ...   0.0  0.0   \n",
       "3  0.0  0.0  0.0  0.0  0.0  0.0  0.000000e+00  0.0  0.0  0.0 ...   0.0  0.0   \n",
       "4  0.0  0.0  0.0  0.0  0.0  0.0  0.000000e+00  0.0  0.0  0.0 ...   0.0  0.0   \n",
       "5  0.0  0.0  0.0  0.0  0.0  0.0  0.000000e+00  0.0  0.0  0.0 ...   0.0  0.0   \n",
       "6  0.0  0.0  0.0  0.0  0.0  0.0  2.775558e-17  0.0  0.0  0.0 ...   0.0  0.0   \n",
       "7  0.0  0.0  0.0  0.0  0.0  0.0  1.491209e-01  0.0  0.0  0.0 ...   0.0  0.0   \n",
       "8  0.0  0.0  0.0  0.0  0.0  0.0  1.594631e-01  0.0  0.0  0.0 ...   0.0  0.0   \n",
       "\n",
       "        FXI  VGK  VPL  SPY  TLT           BND       CSJ  DIA  \n",
       "0  0.000000  0.0  0.0  0.0  0.0  0.000000e+00  0.000000  0.0  \n",
       "1  0.000000  0.0  0.0  0.0  0.0  0.000000e+00  0.000000  0.0  \n",
       "2  0.000000  0.0  0.0  0.0  0.0  1.110223e-16  0.000000  0.0  \n",
       "3  0.000000  0.0  0.0  0.0  0.0  2.518711e-01  0.000000  0.0  \n",
       "4  0.000000  0.0  0.0  0.0  0.0  4.882054e-01  0.000000  0.0  \n",
       "5  0.005331  0.0  0.0  0.0  0.0  4.990372e-01  0.000000  0.0  \n",
       "6  0.000000  0.0  0.0  0.0  0.0  5.999018e-02  0.764283  0.0  \n",
       "7  0.000000  0.0  0.0  0.0  0.0  1.306990e-01  0.720180  0.0  \n",
       "8  0.000000  0.0  0.0  0.0  0.0  1.252529e-01  0.715284  0.0  \n",
       "\n",
       "[9 rows x 23 columns]"
      ]
     },
     "execution_count": 15,
     "metadata": {},
     "output_type": "execute_result"
    }
   ],
   "source": [
    "cla = CLA()\n",
    "cla.allocate(asset_prices = stock_prices, solution = 'cla_turning_points')\n",
    "cla.weights"
   ]
  },
  {
   "cell_type": "markdown",
   "metadata": {},
   "source": [
    "For HRP and IVP, we get a single set of weights for each asset. However, CLA gives us a dataframe of multiple weights for each stock. Each row of these weight matrix represents a **turning point**. Lets understand what it means.\n",
    "\n",
    "CLA solves the portfolio optimisation problem with constraints where each weight has a lower and upper bound on itself,\n",
    "\n",
    "$$l <= W <= u$$\n",
    "\n",
    "Any weight which lies strictly between these bounds is called a **free weight** while all weights which lie on the bounds (either $W=l$ or $W=u)$are called **bounded weights**. A turning point is a solution to the optimisation problem with different set of free weights from another solution for the problem (this another solution is also a turning point). Due to this, **the CLA algorithm computes multiple turning points (solutions) to the optimisation problem and returns all of these.**"
   ]
  },
  {
   "cell_type": "markdown",
   "metadata": {},
   "source": [
    "In order to simplify the CLA result, lets calculate the mean weights for each stock across the turning points"
   ]
  },
  {
   "cell_type": "code",
   "execution_count": 16,
   "metadata": {},
   "outputs": [],
   "source": [
    "cla_weights = cla.weights.mean(axis = 0).reset_index()\n",
    "cla_weights.index = cla_weights['index']\n",
    "cla_weights = cla_weights.drop('index', 1)\n",
    "cla_weights = cla_weights.T\n",
    "cla_weights = cla_weights.sort_values(by = 0, ascending = False, axis = 1)"
   ]
  },
  {
   "cell_type": "code",
   "execution_count": 17,
   "metadata": {},
   "outputs": [
    {
     "data": {
      "text/html": [
       "<div>\n",
       "<style scoped>\n",
       "    .dataframe tbody tr th:only-of-type {\n",
       "        vertical-align: middle;\n",
       "    }\n",
       "\n",
       "    .dataframe tbody tr th {\n",
       "        vertical-align: top;\n",
       "    }\n",
       "\n",
       "    .dataframe thead th {\n",
       "        text-align: right;\n",
       "    }\n",
       "</style>\n",
       "<table border=\"1\" class=\"dataframe\">\n",
       "  <thead>\n",
       "    <tr style=\"text-align: right;\">\n",
       "      <th>index</th>\n",
       "      <th>XLF</th>\n",
       "      <th>CSJ</th>\n",
       "      <th>XLK</th>\n",
       "      <th>BND</th>\n",
       "      <th>EWQ</th>\n",
       "      <th>FXI</th>\n",
       "      <th>EEM</th>\n",
       "      <th>XLU</th>\n",
       "      <th>TLT</th>\n",
       "      <th>SPY</th>\n",
       "      <th>...</th>\n",
       "      <th>LQD</th>\n",
       "      <th>EWG</th>\n",
       "      <th>XLE</th>\n",
       "      <th>XLB</th>\n",
       "      <th>EWU</th>\n",
       "      <th>IEF</th>\n",
       "      <th>EFA</th>\n",
       "      <th>EWJ</th>\n",
       "      <th>TIP</th>\n",
       "      <th>DIA</th>\n",
       "    </tr>\n",
       "  </thead>\n",
       "  <tbody>\n",
       "    <tr>\n",
       "      <th>0</th>\n",
       "      <td>0.308792</td>\n",
       "      <td>0.244416</td>\n",
       "      <td>0.239128</td>\n",
       "      <td>0.172784</td>\n",
       "      <td>0.034287</td>\n",
       "      <td>0.000592</td>\n",
       "      <td>0.0</td>\n",
       "      <td>0.0</td>\n",
       "      <td>0.0</td>\n",
       "      <td>0.0</td>\n",
       "      <td>...</td>\n",
       "      <td>0.0</td>\n",
       "      <td>0.0</td>\n",
       "      <td>0.0</td>\n",
       "      <td>0.0</td>\n",
       "      <td>0.0</td>\n",
       "      <td>0.0</td>\n",
       "      <td>0.0</td>\n",
       "      <td>0.0</td>\n",
       "      <td>0.0</td>\n",
       "      <td>0.0</td>\n",
       "    </tr>\n",
       "  </tbody>\n",
       "</table>\n",
       "<p>1 rows × 23 columns</p>\n",
       "</div>"
      ],
      "text/plain": [
       "index       XLF       CSJ       XLK       BND       EWQ       FXI  EEM  XLU  \\\n",
       "0      0.308792  0.244416  0.239128  0.172784  0.034287  0.000592  0.0  0.0   \n",
       "\n",
       "index  TLT  SPY ...   LQD  EWG  XLE  XLB  EWU  IEF  EFA  EWJ  TIP  DIA  \n",
       "0      0.0  0.0 ...   0.0  0.0  0.0  0.0  0.0  0.0  0.0  0.0  0.0  0.0  \n",
       "\n",
       "[1 rows x 23 columns]"
      ]
     },
     "execution_count": 17,
     "metadata": {},
     "output_type": "execute_result"
    }
   ],
   "source": [
    "cla_weights"
   ]
  },
  {
   "cell_type": "code",
   "execution_count": 18,
   "metadata": {},
   "outputs": [
    {
     "data": {
      "image/png": "[encoded data removed]",
      "text/plain": [
       "<Figure size 1080x360 with 1 Axes>"
      ]
     },
     "metadata": {
      "needs_background": "light"
     },
     "output_type": "display_data"
    }
   ],
   "source": [
    "plt.figure(figsize = (15, 5))\n",
    "plt.bar(cla_weights.columns, cla_weights.values[0])\n",
    "plt.xlabel('Tickers', fontsize = 12)\n",
    "plt.ylabel('Weights', fontsize = 12)\n",
    "plt.title('CLA Portfolio Weights (Mean Weights across All Turning Points)', fontsize = 12)\n",
    "plt.show()"
   ]
  },
  {
   "cell_type": "markdown",
   "metadata": {},
   "source": [
    "### Compute the IVP allocations"
   ]
  },
  {
   "cell_type": "code",
   "execution_count": 19,
   "metadata": {},
   "outputs": [],
   "source": [
    "mvo = MeanVarianceOptimisation()\n",
    "mvo.allocate(asset_prices = stock_prices, solution = 'inverse_variance', resample_returns_by = 'W')\n",
    "ivp_weights = mvo.weights.sort_values(by = 0, ascending = False, axis = 1)"
   ]
  },
  {
   "cell_type": "code",
   "execution_count": 20,
   "metadata": {},
   "outputs": [
    {
     "data": {
      "text/html": [
       "<div>\n",
       "<style scoped>\n",
       "    .dataframe tbody tr th:only-of-type {\n",
       "        vertical-align: middle;\n",
       "    }\n",
       "\n",
       "    .dataframe tbody tr th {\n",
       "        vertical-align: top;\n",
       "    }\n",
       "\n",
       "    .dataframe thead th {\n",
       "        text-align: right;\n",
       "    }\n",
       "</style>\n",
       "<table border=\"1\" class=\"dataframe\">\n",
       "  <thead>\n",
       "    <tr style=\"text-align: right;\">\n",
       "      <th></th>\n",
       "      <th>CSJ</th>\n",
       "      <th>BND</th>\n",
       "      <th>TIP</th>\n",
       "      <th>IEF</th>\n",
       "      <th>LQD</th>\n",
       "      <th>TLT</th>\n",
       "      <th>XLU</th>\n",
       "      <th>DIA</th>\n",
       "      <th>EWJ</th>\n",
       "      <th>SPY</th>\n",
       "      <th>...</th>\n",
       "      <th>EWU</th>\n",
       "      <th>XLB</th>\n",
       "      <th>VGK</th>\n",
       "      <th>EPP</th>\n",
       "      <th>EWQ</th>\n",
       "      <th>XLE</th>\n",
       "      <th>EEM</th>\n",
       "      <th>EWG</th>\n",
       "      <th>FXI</th>\n",
       "      <th>XLF</th>\n",
       "    </tr>\n",
       "  </thead>\n",
       "  <tbody>\n",
       "    <tr>\n",
       "      <th>0</th>\n",
       "      <td>0.274395</td>\n",
       "      <td>0.213997</td>\n",
       "      <td>0.116354</td>\n",
       "      <td>0.110318</td>\n",
       "      <td>0.089768</td>\n",
       "      <td>0.024629</td>\n",
       "      <td>0.017464</td>\n",
       "      <td>0.015954</td>\n",
       "      <td>0.013745</td>\n",
       "      <td>0.013649</td>\n",
       "      <td>...</td>\n",
       "      <td>0.009175</td>\n",
       "      <td>0.008499</td>\n",
       "      <td>0.008493</td>\n",
       "      <td>0.008135</td>\n",
       "      <td>0.0072</td>\n",
       "      <td>0.00691</td>\n",
       "      <td>0.006857</td>\n",
       "      <td>0.006736</td>\n",
       "      <td>0.005896</td>\n",
       "      <td>0.004701</td>\n",
       "    </tr>\n",
       "  </tbody>\n",
       "</table>\n",
       "<p>1 rows × 23 columns</p>\n",
       "</div>"
      ],
      "text/plain": [
       "        CSJ       BND       TIP       IEF       LQD       TLT       XLU  \\\n",
       "0  0.274395  0.213997  0.116354  0.110318  0.089768  0.024629  0.017464   \n",
       "\n",
       "        DIA       EWJ       SPY    ...          EWU       XLB       VGK  \\\n",
       "0  0.015954  0.013745  0.013649    ...     0.009175  0.008499  0.008493   \n",
       "\n",
       "        EPP     EWQ      XLE       EEM       EWG       FXI       XLF  \n",
       "0  0.008135  0.0072  0.00691  0.006857  0.006736  0.005896  0.004701  \n",
       "\n",
       "[1 rows x 23 columns]"
      ]
     },
     "execution_count": 20,
     "metadata": {},
     "output_type": "execute_result"
    }
   ],
   "source": [
    "ivp_weights"
   ]
  },
  {
   "cell_type": "code",
   "execution_count": 21,
   "metadata": {},
   "outputs": [
    {
     "data": {
      "image/png": "[encoded data removed]",
      "text/plain": [
       "<Figure size 1080x360 with 1 Axes>"
      ]
     },
     "metadata": {
      "needs_background": "light"
     },
     "output_type": "display_data"
    }
   ],
   "source": [
    "plt.figure(figsize = (15, 5))\n",
    "plt.bar(ivp_weights.columns, ivp_weights.values[0])\n",
    "plt.xlabel('Tickers', fontsize = 12)\n",
    "plt.ylabel('Weights', fontsize = 12)\n",
    "plt.title('Inverse Variance Portfolio Weights', fontsize = 12)\n",
    "plt.show()"
   ]
  },
  {
   "cell_type": "markdown",
   "metadata": {},
   "source": [
    "## Question-16.3"
   ]
  },
  {
   "cell_type": "markdown",
   "metadata": {},
   "source": [
    "### (a) Perform a spectral decomposition: VW=W$\\wedge$"
   ]
  },
  {
   "cell_type": "markdown",
   "metadata": {},
   "source": [
    "In the spectral decomposition above, **W refers to the eigenvectors matrix while $\\wedge$ denotes the eigenvalues matrix - a diagonal matrix with eigenvalues along the diagonal**"
   ]
  },
  {
   "cell_type": "code",
   "execution_count": 22,
   "metadata": {},
   "outputs": [],
   "source": [
    "N = stock_returns_downsampled.shape[1]"
   ]
  },
  {
   "cell_type": "code",
   "execution_count": 23,
   "metadata": {},
   "outputs": [],
   "source": [
    "eigenvalues, eigenvectors = np.linalg.eig(V)\n",
    "eigenvalues_matrix = np.identity(n = N) * eigenvalues"
   ]
  },
  {
   "cell_type": "markdown",
   "metadata": {},
   "source": [
    "### (b) Form an array $\\epsilon$ by drawing N random numbers from U[0, 1] distribution"
   ]
  },
  {
   "cell_type": "code",
   "execution_count": 24,
   "metadata": {},
   "outputs": [
    {
     "data": {
      "text/plain": [
       "array([0.37454012, 0.95071431, 0.73199394, 0.59865848, 0.15601864,\n",
       "       0.15599452, 0.05808361, 0.86617615, 0.60111501, 0.70807258,\n",
       "       0.02058449, 0.96990985, 0.83244264, 0.21233911, 0.18182497,\n",
       "       0.18340451, 0.30424224, 0.52475643, 0.43194502, 0.29122914,\n",
       "       0.61185289, 0.13949386, 0.29214465])"
      ]
     },
     "execution_count": 24,
     "metadata": {},
     "output_type": "execute_result"
    }
   ],
   "source": [
    "epsilon = np.random.uniform(low = 0, high = 1, size = N)\n",
    "epsilon"
   ]
  },
  {
   "cell_type": "markdown",
   "metadata": {},
   "source": [
    "### (c) Form an NxN matrix $\\wedge^{'}$, where $\\wedge^{'}_{n,n}=N\\epsilon_{n}\\wedge_{n,n}(\\sum\\epsilon_{n})^{-1}, n=1....N$"
   ]
  },
  {
   "cell_type": "code",
   "execution_count": 25,
   "metadata": {},
   "outputs": [],
   "source": [
    "eigenvalues_matrix_modified = (N * epsilon * eigenvalues_matrix)/np.sum(epsilon)"
   ]
  },
  {
   "cell_type": "markdown",
   "metadata": {},
   "source": [
    "### (d) Compute $V^{'}=W\\wedge^{'}W^{-1}$"
   ]
  },
  {
   "cell_type": "code",
   "execution_count": 26,
   "metadata": {},
   "outputs": [],
   "source": [
    "V_modified = eigenvectors @ eigenvalues_matrix_modified @ np.linalg.inv(eigenvectors)\n",
    "V_modified = pd.DataFrame(V_modified)\n",
    "V_modified.columns = V.columns\n",
    "V_modified.index = V.index"
   ]
  },
  {
   "cell_type": "code",
   "execution_count": 27,
   "metadata": {},
   "outputs": [
    {
     "data": {
      "image/png": "[encoded data removed]",
      "text/plain": [
       "<Figure size 720x720 with 4 Axes>"
      ]
     },
     "metadata": {
      "needs_background": "light"
     },
     "output_type": "display_data"
    }
   ],
   "source": [
    "sns.clustermap(V)\n",
    "plt.show()"
   ]
  },
  {
   "cell_type": "code",
   "execution_count": 28,
   "metadata": {},
   "outputs": [
    {
     "data": {
      "image/png": "[encoded data removed]",
      "text/plain": [
       "<Figure size 720x720 with 4 Axes>"
      ]
     },
     "metadata": {
      "needs_background": "light"
     },
     "output_type": "display_data"
    }
   ],
   "source": [
    "sns.clustermap(V_modified)\n",
    "plt.show()"
   ]
  },
  {
   "cell_type": "markdown",
   "metadata": {},
   "source": [
    "### (e) Repeat exercise 2, this time using $V^{'}$ as covariance matrix. What allocation method has been most impacted by the re-scaling of spectral variances?"
   ]
  },
  {
   "cell_type": "markdown",
   "metadata": {},
   "source": [
    "In each of the 3 sections below, use modified versions of the original algorithms implemented in the package. The only change is that wherever **covariance matrix is calculated from the data using asset_returns.cov(), we will use V_modified.** Everything else remains the same. These modified code files are present in the same folder with the following names - **hrp_modified.py, cla_modified.py, mvo_modified.py**"
   ]
  },
  {
   "cell_type": "markdown",
   "metadata": {},
   "source": [
    "### (i) HRP"
   ]
  },
  {
   "cell_type": "code",
   "execution_count": 29,
   "metadata": {},
   "outputs": [],
   "source": [
    "hrp_modified = HierarchicalRiskParityModified()\n",
    "hrp_modified.allocate(asset_prices = stock_prices, \n",
    "                      resample_returns_by = 'W', \n",
    "                      covariance = V_modified)\n",
    "hrp_modified_weights = hrp_modified.weights.sort_values(by = 0, ascending = False, axis = 1)"
   ]
  },
  {
   "cell_type": "code",
   "execution_count": 30,
   "metadata": {
    "scrolled": false
   },
   "outputs": [
    {
     "data": {
      "image/png": "[encoded data removed]",
      "text/plain": [
       "<Figure size 1080x576 with 1 Axes>"
      ]
     },
     "metadata": {
      "needs_background": "light"
     },
     "output_type": "display_data"
    }
   ],
   "source": [
    "fig = plt.figure(figsize = (15, 8))\n",
    "ax = fig.add_subplot(111)\n",
    "index = np.arange(N)\n",
    "width = 0.35\n",
    "ax.bar(index, hrp_weights.values[0], width, label = \"Normal Covariance Matrix\")\n",
    "ax.bar(index + width, hrp_modified_weights.values[0], width, label = \"Rescaled Covariance Matrix\")\n",
    "ax.set_xticks(index + width / 2)\n",
    "ax.set_xticklabels(hrp_modified_weights.columns)\n",
    "plt.xlabel('Tickers', fontsize = 12)\n",
    "plt.ylabel('Weights', fontsize = 12)\n",
    "plt.title('Comparision of HRP Weights after Rescaling Covariances', fontsize = 12)\n",
    "plt.legend(fontsize = 'large')\n",
    "plt.show()"
   ]
  },
  {
   "cell_type": "code",
   "execution_count": 31,
   "metadata": {},
   "outputs": [
    {
     "data": {
      "image/png": "[encoded data removed]",
      "text/plain": [
       "<Figure size 1080x360 with 1 Axes>"
      ]
     },
     "metadata": {
      "needs_background": "light"
     },
     "output_type": "display_data"
    }
   ],
   "source": [
    "hrp_absolute_percentage_change = np.abs(hrp_modified_weights - hrp_weights) * 100\n",
    "plt.figure(figsize = (15, 5))\n",
    "plt.bar(hrp_absolute_percentage_change.columns, hrp_absolute_percentage_change.values[0])\n",
    "plt.xlabel(\"Tickers\", fontsize = 12)\n",
    "plt.ylabel(\"Absolute Percentage Change\", fontsize = 12)\n",
    "plt.title(\"Percentage Change in Weights after Rescaling Covariance Matrix\", fontsize = 12)\n",
    "plt.show()"
   ]
  },
  {
   "cell_type": "code",
   "execution_count": 32,
   "metadata": {},
   "outputs": [
    {
     "data": {
      "text/plain": [
       "0.6302997517336374"
      ]
     },
     "execution_count": 32,
     "metadata": {},
     "output_type": "execute_result"
    }
   ],
   "source": [
    "mean_hrp_weight_change = np.mean(hrp_absolute_percentage_change.values)\n",
    "mean_hrp_weight_change"
   ]
  },
  {
   "cell_type": "markdown",
   "metadata": {},
   "source": [
    "### (ii) CLA"
   ]
  },
  {
   "cell_type": "code",
   "execution_count": 34,
   "metadata": {},
   "outputs": [],
   "source": [
    "cla_modified = CLAModified()\n",
    "cla_modified.allocate(asset_prices = stock_prices, \n",
    "                      solution = 'cla_turning_points', \n",
    "                      covariance = np.asarray(V_modified))"
   ]
  },
  {
   "cell_type": "code",
   "execution_count": 35,
   "metadata": {},
   "outputs": [],
   "source": [
    "cla_modified_weights = cla_modified.weights.mean(axis = 0).reset_index()\n",
    "cla_modified_weights.index = cla_modified_weights['index']\n",
    "cla_modified_weights = cla_modified_weights.drop('index', 1)\n",
    "cla_modified_weights = cla_modified_weights.T\n",
    "cla_modified_weights = cla_modified_weights.sort_values(by = 0, ascending = False, axis = 1)"
   ]
  },
  {
   "cell_type": "code",
   "execution_count": 36,
   "metadata": {},
   "outputs": [
    {
     "data": {
      "image/png": "[encoded data removed]",
      "text/plain": [
       "<Figure size 1080x576 with 1 Axes>"
      ]
     },
     "metadata": {
      "needs_background": "light"
     },
     "output_type": "display_data"
    }
   ],
   "source": [
    "fig = plt.figure(figsize = (15, 8))\n",
    "ax = fig.add_subplot(111)\n",
    "index = np.arange(N)\n",
    "width = 0.35\n",
    "ax.bar(index, cla_weights.values[0], width, label = 'Normal Covariance Matrix')\n",
    "ax.bar(index + width, cla_modified_weights.values[0], width, label = \"Rescaled Covariance Matrix\")\n",
    "ax.set_xticks(index + width / 2)\n",
    "ax.set_xticklabels(cla_modified_weights.columns)\n",
    "plt.xlabel('Tickers', fontsize = 12)\n",
    "plt.ylabel('Weights', fontsize = 12)\n",
    "plt.title('Comparision of CLA Weights after Rescaling Covariances', fontsize = 12)\n",
    "plt.legend(fontsize = 'large')\n",
    "plt.show()"
   ]
  },
  {
   "cell_type": "code",
   "execution_count": 37,
   "metadata": {},
   "outputs": [
    {
     "data": {
      "image/png": "[encoded data removed]",
      "text/plain": [
       "<Figure size 1080x360 with 1 Axes>"
      ]
     },
     "metadata": {
      "needs_background": "light"
     },
     "output_type": "display_data"
    }
   ],
   "source": [
    "cla_absolute_percentage_change = np.abs(cla_modified_weights - cla_weights) * 100\n",
    "plt.figure(figsize = (15, 5))\n",
    "plt.bar(cla_absolute_percentage_change.columns, cla_absolute_percentage_change.values[0])\n",
    "plt.xlabel(\"Tickers\", fontsize = 12)\n",
    "plt.ylabel(\"Absolute Percentage Change\", fontsize = 12)\n",
    "plt.title(\"Percentage Change in Weights after Rescaling Covariance Matrix\", fontsize = 12)\n",
    "plt.show()"
   ]
  },
  {
   "cell_type": "code",
   "execution_count": 38,
   "metadata": {},
   "outputs": [
    {
     "data": {
      "text/plain": [
       "5.79832375761275"
      ]
     },
     "execution_count": 38,
     "metadata": {},
     "output_type": "execute_result"
    }
   ],
   "source": [
    "mean_cla_weight_change = np.mean(cla_absolute_percentage_change.values)\n",
    "mean_cla_weight_change"
   ]
  },
  {
   "cell_type": "markdown",
   "metadata": {},
   "source": [
    "### (iii) IVP"
   ]
  },
  {
   "cell_type": "code",
   "execution_count": 39,
   "metadata": {},
   "outputs": [],
   "source": [
    "mvo_modified = MeanVarianceOptimisationModified()\n",
    "mvo_modified.allocate(asset_prices = stock_prices, \n",
    "                      covariance = V_modified, \n",
    "                      solution = 'inverse_variance', \n",
    "                      resample_returns_by = 'W')\n",
    "ivp_modified_weights = mvo_modified.weights.sort_values(by = 0, ascending = False, axis = 1)"
   ]
  },
  {
   "cell_type": "code",
   "execution_count": 40,
   "metadata": {},
   "outputs": [
    {
     "data": {
      "image/png": "[encoded data removed]",
      "text/plain": [
       "<Figure size 1080x576 with 1 Axes>"
      ]
     },
     "metadata": {
      "needs_background": "light"
     },
     "output_type": "display_data"
    }
   ],
   "source": [
    "fig = plt.figure(figsize = (15, 8))\n",
    "ax = fig.add_subplot(111)\n",
    "index = np.arange(N)\n",
    "width = 0.35\n",
    "ax.bar(index, ivp_weights.values[0], width, label = 'Normal Covariance Matrix')\n",
    "ax.bar(index + width, ivp_modified_weights.values[0], width, label = \"Rescaled Covariance Matrix\")\n",
    "ax.set_xticks(index + width / 2)\n",
    "ax.set_xticklabels(ivp_modified_weights.columns)\n",
    "plt.xlabel('Tickers', fontsize = 12)\n",
    "plt.ylabel('Weights', fontsize = 12)\n",
    "plt.title('Comparision of IVP Weights after Rescaling Covariances', fontsize = 12)\n",
    "plt.legend(fontsize = 'large')\n",
    "plt.show()"
   ]
  },
  {
   "cell_type": "code",
   "execution_count": 41,
   "metadata": {},
   "outputs": [
    {
     "data": {
      "image/png": "[encoded data removed]",
      "text/plain": [
       "<Figure size 1080x360 with 1 Axes>"
      ]
     },
     "metadata": {
      "needs_background": "light"
     },
     "output_type": "display_data"
    }
   ],
   "source": [
    "ivp_absolute_percentage_change = np.abs(ivp_modified_weights - ivp_weights) * 100\n",
    "plt.figure(figsize = (15, 5))\n",
    "plt.bar(ivp_absolute_percentage_change.columns, ivp_absolute_percentage_change.values[0])\n",
    "plt.xlabel(\"Tickers\", fontsize = 12)\n",
    "plt.ylabel(\"Absolute Percentage Change\", fontsize = 12)\n",
    "plt.title(\"Percentage Change in Weights after Rescaling Covariance Matrix\", fontsize = 12)\n",
    "plt.show()"
   ]
  },
  {
   "cell_type": "code",
   "execution_count": 42,
   "metadata": {},
   "outputs": [
    {
     "data": {
      "text/plain": [
       "0.6617642345561805"
      ]
     },
     "execution_count": 42,
     "metadata": {},
     "output_type": "execute_result"
    }
   ],
   "source": [
    "mean_ivp_weight_change = np.mean(ivp_absolute_percentage_change.values)\n",
    "mean_ivp_weight_change"
   ]
  },
  {
   "cell_type": "markdown",
   "metadata": {},
   "source": [
    "We see that IVP and HRP have almost the same percentage change in their weights ~0.66% whereas CLA weights have the been affected the most by the rescaling of the spectral variances."
   ]
  },
  {
   "cell_type": "markdown",
   "metadata": {},
   "source": [
    "## Conclusion"
   ]
  },
  {
   "cell_type": "code",
   "execution_count": null,
   "metadata": {},
   "outputs": [],
   "source": []
  }
 ],
 "metadata": {
  "celltoolbar": "Raw Cell Format",
  "kernelspec": {
   "display_name": "Python 3",
   "language": "python",
   "name": "python3"
  },
  "language_info": {
   "codemirror_mode": {
    "name": "ipython",
    "version": 3
   },
   "file_extension": ".py",
   "mimetype": "text/x-python",
   "name": "python",
   "nbconvert_exporter": "python",
   "pygments_lexer": "ipython3",
   "version": "3.6.1"
  }
 },
 "nbformat": 4,
 "nbformat_minor": 2
}
