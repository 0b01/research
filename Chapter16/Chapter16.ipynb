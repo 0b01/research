{
 "cells": [
  {
   "cell_type": "markdown",
   "metadata": {},
   "source": [
    "* By: Aditya Vyas\n",
    "* Email: adityavyas17@gmail.com\n",
    "* Reference: Advances in Financial Machine Learning, Chapter-16"
   ]
  },
  {
   "cell_type": "markdown",
   "metadata": {},
   "source": [
    "## Chapter 16 Machine Learning Asset Allocation"
   ]
  },
  {
   "cell_type": "markdown",
   "metadata": {},
   "source": [
    "## Introduction"
   ]
  },
  {
   "cell_type": "markdown",
   "metadata": {},
   "source": [
    "Portfolio optimisation and asset allocation have been important topics in the financial world. Although, the classical Markowitz theory has been successful, it has a lot of limitations in its practical implementations. Optimisation algorithms like CLA involve taking the inverse of covariance matrices which leads to instability for large portfolios - escpecially if they are highly correlated. This is where the Hierarchical Risk Parity algorithm comes in - it does not deal with inverse of a covariance matrix hence removing the instability of the previous algorithms. \n",
    "\n",
    "This notebook explores the exercises at the back of Chapter-16 in the book \"Advances in Financial Machine Learning\". We will use the portfolio optimisation algorithms in the mlfinlab package to do a comparision of their performance. The questions are restated here in this notebook, with the accompanying code solutions following directly below each question."
   ]
  },
  {
   "cell_type": "code",
   "execution_count": 44,
   "metadata": {},
   "outputs": [],
   "source": [
    "import numbers\n",
    "import numpy as np\n",
    "import scipy as sc\n",
    "import pandas as pd\n",
    "import random\n",
    "from scipy.cluster.hierarchy import dendrogram, linkage\n",
    "from scipy.spatial.distance import pdist, squareform\n",
    "import matplotlib\n",
    "import matplotlib.pyplot as plt\n",
    "import seaborn as sns\n",
    "\n",
    "# Import from mlfinlab\n",
    "from mlfinlab.portfolio_optimization.cla import CLA\n",
    "from mlfinlab.portfolio_optimization.hrp import HierarchicalRiskParity\n",
    "from mlfinlab.portfolio_optimization.mean_variance import MeanVarianceOptimisation\n",
    "\n",
    "# Modified functions for some of the questions\n",
    "from hrp_modified import HierarchicalRiskParityModified\n",
    "from cla_modified import CLAModified\n",
    "from mvo_modified import MeanVarianceOptimisationModified\n",
    "\n",
    "%matplotlib inline\n",
    "np.random.seed(42)\n",
    "pd.set_option('display.float_format', lambda x: '%.5f' % x)"
   ]
  },
  {
   "cell_type": "markdown",
   "metadata": {},
   "source": [
    "## Getting the Data"
   ]
  },
  {
   "cell_type": "code",
   "execution_count": 2,
   "metadata": {},
   "outputs": [],
   "source": [
    "stock_prices = pd.read_csv('../Sample-Data/stock_prices.csv', parse_dates=True, index_col='Date')\n",
    "stock_prices = stock_prices.dropna(axis=1)\n"
   ]
  },
  {
   "cell_type": "code",
   "execution_count": 3,
   "metadata": {},
   "outputs": [
    {
     "data": {
      "text/html": [
       "<div>\n",
       "<style scoped>\n",
       "    .dataframe tbody tr th:only-of-type {\n",
       "        vertical-align: middle;\n",
       "    }\n",
       "\n",
       "    .dataframe tbody tr th {\n",
       "        vertical-align: top;\n",
       "    }\n",
       "\n",
       "    .dataframe thead th {\n",
       "        text-align: right;\n",
       "    }\n",
       "</style>\n",
       "<table border=\"1\" class=\"dataframe\">\n",
       "  <thead>\n",
       "    <tr style=\"text-align: right;\">\n",
       "      <th></th>\n",
       "      <th>EEM</th>\n",
       "      <th>EWG</th>\n",
       "      <th>TIP</th>\n",
       "      <th>EWJ</th>\n",
       "      <th>EFA</th>\n",
       "      <th>IEF</th>\n",
       "      <th>EWQ</th>\n",
       "      <th>EWU</th>\n",
       "      <th>XLB</th>\n",
       "      <th>XLE</th>\n",
       "      <th>...</th>\n",
       "      <th>XLU</th>\n",
       "      <th>EPP</th>\n",
       "      <th>FXI</th>\n",
       "      <th>VGK</th>\n",
       "      <th>VPL</th>\n",
       "      <th>SPY</th>\n",
       "      <th>TLT</th>\n",
       "      <th>BND</th>\n",
       "      <th>CSJ</th>\n",
       "      <th>DIA</th>\n",
       "    </tr>\n",
       "    <tr>\n",
       "      <th>Date</th>\n",
       "      <th></th>\n",
       "      <th></th>\n",
       "      <th></th>\n",
       "      <th></th>\n",
       "      <th></th>\n",
       "      <th></th>\n",
       "      <th></th>\n",
       "      <th></th>\n",
       "      <th></th>\n",
       "      <th></th>\n",
       "      <th></th>\n",
       "      <th></th>\n",
       "      <th></th>\n",
       "      <th></th>\n",
       "      <th></th>\n",
       "      <th></th>\n",
       "      <th></th>\n",
       "      <th></th>\n",
       "      <th></th>\n",
       "      <th></th>\n",
       "      <th></th>\n",
       "    </tr>\n",
       "  </thead>\n",
       "  <tbody>\n",
       "    <tr>\n",
       "      <th>2008-01-02</th>\n",
       "      <td>49.27333</td>\n",
       "      <td>35.39000</td>\n",
       "      <td>106.64000</td>\n",
       "      <td>52.92000</td>\n",
       "      <td>78.22000</td>\n",
       "      <td>87.63000</td>\n",
       "      <td>37.94000</td>\n",
       "      <td>47.76000</td>\n",
       "      <td>41.30000</td>\n",
       "      <td>79.50000</td>\n",
       "      <td>...</td>\n",
       "      <td>42.09000</td>\n",
       "      <td>51.17333</td>\n",
       "      <td>55.98333</td>\n",
       "      <td>74.53000</td>\n",
       "      <td>67.31000</td>\n",
       "      <td>144.92999</td>\n",
       "      <td>94.38000</td>\n",
       "      <td>77.36000</td>\n",
       "      <td>101.40000</td>\n",
       "      <td>130.63000</td>\n",
       "    </tr>\n",
       "    <tr>\n",
       "      <th>2008-01-03</th>\n",
       "      <td>49.71667</td>\n",
       "      <td>35.29000</td>\n",
       "      <td>107.00000</td>\n",
       "      <td>53.12000</td>\n",
       "      <td>78.35000</td>\n",
       "      <td>87.81000</td>\n",
       "      <td>37.92000</td>\n",
       "      <td>48.06000</td>\n",
       "      <td>42.05000</td>\n",
       "      <td>80.44000</td>\n",
       "      <td>...</td>\n",
       "      <td>42.03000</td>\n",
       "      <td>51.29333</td>\n",
       "      <td>55.60000</td>\n",
       "      <td>74.80000</td>\n",
       "      <td>67.50000</td>\n",
       "      <td>144.86000</td>\n",
       "      <td>94.25000</td>\n",
       "      <td>77.46000</td>\n",
       "      <td>101.52000</td>\n",
       "      <td>130.74001</td>\n",
       "    </tr>\n",
       "    <tr>\n",
       "      <th>2008-01-04</th>\n",
       "      <td>48.22333</td>\n",
       "      <td>34.60000</td>\n",
       "      <td>106.97000</td>\n",
       "      <td>51.76000</td>\n",
       "      <td>76.57000</td>\n",
       "      <td>88.04000</td>\n",
       "      <td>36.99000</td>\n",
       "      <td>46.92000</td>\n",
       "      <td>40.78000</td>\n",
       "      <td>77.50000</td>\n",
       "      <td>...</td>\n",
       "      <td>42.35000</td>\n",
       "      <td>49.85000</td>\n",
       "      <td>54.53667</td>\n",
       "      <td>72.98000</td>\n",
       "      <td>65.77000</td>\n",
       "      <td>141.31000</td>\n",
       "      <td>94.27000</td>\n",
       "      <td>77.55000</td>\n",
       "      <td>101.65000</td>\n",
       "      <td>128.17000</td>\n",
       "    </tr>\n",
       "    <tr>\n",
       "      <th>2008-01-07</th>\n",
       "      <td>48.57667</td>\n",
       "      <td>34.63000</td>\n",
       "      <td>106.95000</td>\n",
       "      <td>51.44000</td>\n",
       "      <td>76.65000</td>\n",
       "      <td>88.20000</td>\n",
       "      <td>37.26000</td>\n",
       "      <td>47.06000</td>\n",
       "      <td>40.22000</td>\n",
       "      <td>77.20000</td>\n",
       "      <td>...</td>\n",
       "      <td>43.23000</td>\n",
       "      <td>50.41667</td>\n",
       "      <td>56.11667</td>\n",
       "      <td>72.95000</td>\n",
       "      <td>65.65000</td>\n",
       "      <td>141.19000</td>\n",
       "      <td>94.68000</td>\n",
       "      <td>77.57000</td>\n",
       "      <td>101.72000</td>\n",
       "      <td>128.06000</td>\n",
       "    </tr>\n",
       "    <tr>\n",
       "      <th>2008-01-08</th>\n",
       "      <td>48.20000</td>\n",
       "      <td>34.39000</td>\n",
       "      <td>107.03000</td>\n",
       "      <td>51.32000</td>\n",
       "      <td>76.22000</td>\n",
       "      <td>88.39000</td>\n",
       "      <td>36.97000</td>\n",
       "      <td>46.40000</td>\n",
       "      <td>39.60000</td>\n",
       "      <td>75.85000</td>\n",
       "      <td>...</td>\n",
       "      <td>43.24000</td>\n",
       "      <td>49.56667</td>\n",
       "      <td>55.32667</td>\n",
       "      <td>72.40000</td>\n",
       "      <td>65.36000</td>\n",
       "      <td>138.91000</td>\n",
       "      <td>94.57000</td>\n",
       "      <td>77.65000</td>\n",
       "      <td>101.74000</td>\n",
       "      <td>125.85000</td>\n",
       "    </tr>\n",
       "  </tbody>\n",
       "</table>\n",
       "<p>5 rows × 23 columns</p>\n",
       "</div>"
      ],
      "text/plain": [
       "                EEM      EWG       TIP      EWJ      EFA      IEF      EWQ  \\\n",
       "Date                                                                         \n",
       "2008-01-02 49.27333 35.39000 106.64000 52.92000 78.22000 87.63000 37.94000   \n",
       "2008-01-03 49.71667 35.29000 107.00000 53.12000 78.35000 87.81000 37.92000   \n",
       "2008-01-04 48.22333 34.60000 106.97000 51.76000 76.57000 88.04000 36.99000   \n",
       "2008-01-07 48.57667 34.63000 106.95000 51.44000 76.65000 88.20000 37.26000   \n",
       "2008-01-08 48.20000 34.39000 107.03000 51.32000 76.22000 88.39000 36.97000   \n",
       "\n",
       "                EWU      XLB      XLE  ...      XLU      EPP      FXI  \\\n",
       "Date                                   ...                              \n",
       "2008-01-02 47.76000 41.30000 79.50000  ... 42.09000 51.17333 55.98333   \n",
       "2008-01-03 48.06000 42.05000 80.44000  ... 42.03000 51.29333 55.60000   \n",
       "2008-01-04 46.92000 40.78000 77.50000  ... 42.35000 49.85000 54.53667   \n",
       "2008-01-07 47.06000 40.22000 77.20000  ... 43.23000 50.41667 56.11667   \n",
       "2008-01-08 46.40000 39.60000 75.85000  ... 43.24000 49.56667 55.32667   \n",
       "\n",
       "                VGK      VPL       SPY      TLT      BND       CSJ       DIA  \n",
       "Date                                                                          \n",
       "2008-01-02 74.53000 67.31000 144.92999 94.38000 77.36000 101.40000 130.63000  \n",
       "2008-01-03 74.80000 67.50000 144.86000 94.25000 77.46000 101.52000 130.74001  \n",
       "2008-01-04 72.98000 65.77000 141.31000 94.27000 77.55000 101.65000 128.17000  \n",
       "2008-01-07 72.95000 65.65000 141.19000 94.68000 77.57000 101.72000 128.06000  \n",
       "2008-01-08 72.40000 65.36000 138.91000 94.57000 77.65000 101.74000 125.85000  \n",
       "\n",
       "[5 rows x 23 columns]"
      ]
     },
     "execution_count": 3,
     "metadata": {},
     "output_type": "execute_result"
    }
   ],
   "source": [
    "stock_prices.head()"
   ]
  },
  {
   "cell_type": "markdown",
   "metadata": {},
   "source": [
    "## Question-16.1"
   ]
  },
  {
   "cell_type": "markdown",
   "metadata": {},
   "source": [
    "### Given the PnL series on N investment strategies:\n",
    "### (a) Align them to the average frequency of their bets (e.g., weekly observations for strategies that trade on a weekly basis). Hint: This kind of data alignment is sometimes called “downsampling.”"
   ]
  },
  {
   "cell_type": "markdown",
   "metadata": {},
   "source": [
    "Using, the **resample()** function in pandas, we can do the required downsampling. 'W' parameter refers to Weekly resampling"
   ]
  },
  {
   "cell_type": "code",
   "execution_count": 4,
   "metadata": {},
   "outputs": [],
   "source": [
    "stock_prices_downsampled = stock_prices.resample('W').mean()"
   ]
  },
  {
   "cell_type": "code",
   "execution_count": 5,
   "metadata": {},
   "outputs": [
    {
     "data": {
      "text/html": [
       "<div>\n",
       "<style scoped>\n",
       "    .dataframe tbody tr th:only-of-type {\n",
       "        vertical-align: middle;\n",
       "    }\n",
       "\n",
       "    .dataframe tbody tr th {\n",
       "        vertical-align: top;\n",
       "    }\n",
       "\n",
       "    .dataframe thead th {\n",
       "        text-align: right;\n",
       "    }\n",
       "</style>\n",
       "<table border=\"1\" class=\"dataframe\">\n",
       "  <thead>\n",
       "    <tr style=\"text-align: right;\">\n",
       "      <th></th>\n",
       "      <th>EEM</th>\n",
       "      <th>EWG</th>\n",
       "      <th>TIP</th>\n",
       "      <th>EWJ</th>\n",
       "      <th>EFA</th>\n",
       "      <th>IEF</th>\n",
       "      <th>EWQ</th>\n",
       "      <th>EWU</th>\n",
       "      <th>XLB</th>\n",
       "      <th>XLE</th>\n",
       "      <th>...</th>\n",
       "      <th>XLU</th>\n",
       "      <th>EPP</th>\n",
       "      <th>FXI</th>\n",
       "      <th>VGK</th>\n",
       "      <th>VPL</th>\n",
       "      <th>SPY</th>\n",
       "      <th>TLT</th>\n",
       "      <th>BND</th>\n",
       "      <th>CSJ</th>\n",
       "      <th>DIA</th>\n",
       "    </tr>\n",
       "    <tr>\n",
       "      <th>Date</th>\n",
       "      <th></th>\n",
       "      <th></th>\n",
       "      <th></th>\n",
       "      <th></th>\n",
       "      <th></th>\n",
       "      <th></th>\n",
       "      <th></th>\n",
       "      <th></th>\n",
       "      <th></th>\n",
       "      <th></th>\n",
       "      <th></th>\n",
       "      <th></th>\n",
       "      <th></th>\n",
       "      <th></th>\n",
       "      <th></th>\n",
       "      <th></th>\n",
       "      <th></th>\n",
       "      <th></th>\n",
       "      <th></th>\n",
       "      <th></th>\n",
       "      <th></th>\n",
       "    </tr>\n",
       "  </thead>\n",
       "  <tbody>\n",
       "    <tr>\n",
       "      <th>2008-01-06</th>\n",
       "      <td>49.07111</td>\n",
       "      <td>35.09333</td>\n",
       "      <td>106.87000</td>\n",
       "      <td>52.60000</td>\n",
       "      <td>77.71333</td>\n",
       "      <td>87.82667</td>\n",
       "      <td>37.61667</td>\n",
       "      <td>47.58000</td>\n",
       "      <td>41.37667</td>\n",
       "      <td>79.14667</td>\n",
       "      <td>...</td>\n",
       "      <td>42.15667</td>\n",
       "      <td>50.77222</td>\n",
       "      <td>55.37333</td>\n",
       "      <td>74.10334</td>\n",
       "      <td>66.86000</td>\n",
       "      <td>143.70000</td>\n",
       "      <td>94.30000</td>\n",
       "      <td>77.45667</td>\n",
       "      <td>101.52333</td>\n",
       "      <td>129.84667</td>\n",
       "    </tr>\n",
       "    <tr>\n",
       "      <th>2008-01-13</th>\n",
       "      <td>49.17467</td>\n",
       "      <td>34.44600</td>\n",
       "      <td>106.93200</td>\n",
       "      <td>51.66400</td>\n",
       "      <td>76.29800</td>\n",
       "      <td>88.28400</td>\n",
       "      <td>36.98800</td>\n",
       "      <td>46.25200</td>\n",
       "      <td>40.00800</td>\n",
       "      <td>76.40600</td>\n",
       "      <td>...</td>\n",
       "      <td>43.41000</td>\n",
       "      <td>50.22867</td>\n",
       "      <td>57.23200</td>\n",
       "      <td>72.33000</td>\n",
       "      <td>65.86600</td>\n",
       "      <td>140.38200</td>\n",
       "      <td>94.33400</td>\n",
       "      <td>77.61600</td>\n",
       "      <td>101.78800</td>\n",
       "      <td>126.97600</td>\n",
       "    </tr>\n",
       "    <tr>\n",
       "      <th>2008-01-20</th>\n",
       "      <td>46.36067</td>\n",
       "      <td>33.18000</td>\n",
       "      <td>108.09800</td>\n",
       "      <td>50.04000</td>\n",
       "      <td>73.12800</td>\n",
       "      <td>89.23400</td>\n",
       "      <td>35.58600</td>\n",
       "      <td>44.08000</td>\n",
       "      <td>38.92800</td>\n",
       "      <td>72.02200</td>\n",
       "      <td>...</td>\n",
       "      <td>41.88800</td>\n",
       "      <td>47.40067</td>\n",
       "      <td>52.41467</td>\n",
       "      <td>69.26200</td>\n",
       "      <td>63.17000</td>\n",
       "      <td>136.38400</td>\n",
       "      <td>95.34400</td>\n",
       "      <td>78.12400</td>\n",
       "      <td>102.33400</td>\n",
       "      <td>123.96000</td>\n",
       "    </tr>\n",
       "    <tr>\n",
       "      <th>2008-01-27</th>\n",
       "      <td>44.46833</td>\n",
       "      <td>30.10000</td>\n",
       "      <td>108.97500</td>\n",
       "      <td>48.87000</td>\n",
       "      <td>70.35750</td>\n",
       "      <td>90.09250</td>\n",
       "      <td>33.29250</td>\n",
       "      <td>43.24500</td>\n",
       "      <td>37.83750</td>\n",
       "      <td>68.29250</td>\n",
       "      <td>...</td>\n",
       "      <td>38.77750</td>\n",
       "      <td>45.84250</td>\n",
       "      <td>49.48667</td>\n",
       "      <td>66.04750</td>\n",
       "      <td>61.35500</td>\n",
       "      <td>133.15250</td>\n",
       "      <td>95.77750</td>\n",
       "      <td>78.54750</td>\n",
       "      <td>102.98250</td>\n",
       "      <td>121.88500</td>\n",
       "    </tr>\n",
       "    <tr>\n",
       "      <th>2008-02-03</th>\n",
       "      <td>45.55733</td>\n",
       "      <td>31.08400</td>\n",
       "      <td>109.16200</td>\n",
       "      <td>50.48800</td>\n",
       "      <td>72.17200</td>\n",
       "      <td>89.74400</td>\n",
       "      <td>34.04200</td>\n",
       "      <td>44.08400</td>\n",
       "      <td>39.74400</td>\n",
       "      <td>70.48400</td>\n",
       "      <td>...</td>\n",
       "      <td>39.17200</td>\n",
       "      <td>47.62067</td>\n",
       "      <td>49.13600</td>\n",
       "      <td>67.84600</td>\n",
       "      <td>63.77000</td>\n",
       "      <td>136.60200</td>\n",
       "      <td>95.01400</td>\n",
       "      <td>78.31600</td>\n",
       "      <td>103.26600</td>\n",
       "      <td>125.05600</td>\n",
       "    </tr>\n",
       "  </tbody>\n",
       "</table>\n",
       "<p>5 rows × 23 columns</p>\n",
       "</div>"
      ],
      "text/plain": [
       "                EEM      EWG       TIP      EWJ      EFA      IEF      EWQ  \\\n",
       "Date                                                                         \n",
       "2008-01-06 49.07111 35.09333 106.87000 52.60000 77.71333 87.82667 37.61667   \n",
       "2008-01-13 49.17467 34.44600 106.93200 51.66400 76.29800 88.28400 36.98800   \n",
       "2008-01-20 46.36067 33.18000 108.09800 50.04000 73.12800 89.23400 35.58600   \n",
       "2008-01-27 44.46833 30.10000 108.97500 48.87000 70.35750 90.09250 33.29250   \n",
       "2008-02-03 45.55733 31.08400 109.16200 50.48800 72.17200 89.74400 34.04200   \n",
       "\n",
       "                EWU      XLB      XLE  ...      XLU      EPP      FXI  \\\n",
       "Date                                   ...                              \n",
       "2008-01-06 47.58000 41.37667 79.14667  ... 42.15667 50.77222 55.37333   \n",
       "2008-01-13 46.25200 40.00800 76.40600  ... 43.41000 50.22867 57.23200   \n",
       "2008-01-20 44.08000 38.92800 72.02200  ... 41.88800 47.40067 52.41467   \n",
       "2008-01-27 43.24500 37.83750 68.29250  ... 38.77750 45.84250 49.48667   \n",
       "2008-02-03 44.08400 39.74400 70.48400  ... 39.17200 47.62067 49.13600   \n",
       "\n",
       "                VGK      VPL       SPY      TLT      BND       CSJ       DIA  \n",
       "Date                                                                          \n",
       "2008-01-06 74.10334 66.86000 143.70000 94.30000 77.45667 101.52333 129.84667  \n",
       "2008-01-13 72.33000 65.86600 140.38200 94.33400 77.61600 101.78800 126.97600  \n",
       "2008-01-20 69.26200 63.17000 136.38400 95.34400 78.12400 102.33400 123.96000  \n",
       "2008-01-27 66.04750 61.35500 133.15250 95.77750 78.54750 102.98250 121.88500  \n",
       "2008-02-03 67.84600 63.77000 136.60200 95.01400 78.31600 103.26600 125.05600  \n",
       "\n",
       "[5 rows x 23 columns]"
      ]
     },
     "execution_count": 5,
     "metadata": {},
     "output_type": "execute_result"
    }
   ],
   "source": [
    "stock_prices_downsampled.head()"
   ]
  },
  {
   "cell_type": "markdown",
   "metadata": {},
   "source": [
    "To calculate the returns, the prices dataframe has to be indexed by date."
   ]
  },
  {
   "cell_type": "code",
   "execution_count": 6,
   "metadata": {},
   "outputs": [
    {
     "data": {
      "text/html": [
       "<div>\n",
       "<style scoped>\n",
       "    .dataframe tbody tr th:only-of-type {\n",
       "        vertical-align: middle;\n",
       "    }\n",
       "\n",
       "    .dataframe tbody tr th {\n",
       "        vertical-align: top;\n",
       "    }\n",
       "\n",
       "    .dataframe thead th {\n",
       "        text-align: right;\n",
       "    }\n",
       "</style>\n",
       "<table border=\"1\" class=\"dataframe\">\n",
       "  <thead>\n",
       "    <tr style=\"text-align: right;\">\n",
       "      <th></th>\n",
       "      <th>EEM</th>\n",
       "      <th>EWG</th>\n",
       "      <th>TIP</th>\n",
       "      <th>EWJ</th>\n",
       "      <th>EFA</th>\n",
       "      <th>IEF</th>\n",
       "      <th>EWQ</th>\n",
       "      <th>EWU</th>\n",
       "      <th>XLB</th>\n",
       "      <th>XLE</th>\n",
       "      <th>...</th>\n",
       "      <th>XLU</th>\n",
       "      <th>EPP</th>\n",
       "      <th>FXI</th>\n",
       "      <th>VGK</th>\n",
       "      <th>VPL</th>\n",
       "      <th>SPY</th>\n",
       "      <th>TLT</th>\n",
       "      <th>BND</th>\n",
       "      <th>CSJ</th>\n",
       "      <th>DIA</th>\n",
       "    </tr>\n",
       "    <tr>\n",
       "      <th>Date</th>\n",
       "      <th></th>\n",
       "      <th></th>\n",
       "      <th></th>\n",
       "      <th></th>\n",
       "      <th></th>\n",
       "      <th></th>\n",
       "      <th></th>\n",
       "      <th></th>\n",
       "      <th></th>\n",
       "      <th></th>\n",
       "      <th></th>\n",
       "      <th></th>\n",
       "      <th></th>\n",
       "      <th></th>\n",
       "      <th></th>\n",
       "      <th></th>\n",
       "      <th></th>\n",
       "      <th></th>\n",
       "      <th></th>\n",
       "      <th></th>\n",
       "      <th></th>\n",
       "    </tr>\n",
       "  </thead>\n",
       "  <tbody>\n",
       "    <tr>\n",
       "      <th>2008-01-13</th>\n",
       "      <td>0.00211</td>\n",
       "      <td>-0.01845</td>\n",
       "      <td>0.00058</td>\n",
       "      <td>-0.01779</td>\n",
       "      <td>-0.01821</td>\n",
       "      <td>0.00521</td>\n",
       "      <td>-0.01671</td>\n",
       "      <td>-0.02791</td>\n",
       "      <td>-0.03308</td>\n",
       "      <td>-0.03463</td>\n",
       "      <td>...</td>\n",
       "      <td>0.02973</td>\n",
       "      <td>-0.01071</td>\n",
       "      <td>0.03357</td>\n",
       "      <td>-0.02393</td>\n",
       "      <td>-0.01487</td>\n",
       "      <td>-0.02309</td>\n",
       "      <td>0.00036</td>\n",
       "      <td>0.00206</td>\n",
       "      <td>0.00261</td>\n",
       "      <td>-0.02211</td>\n",
       "    </tr>\n",
       "    <tr>\n",
       "      <th>2008-01-20</th>\n",
       "      <td>-0.05722</td>\n",
       "      <td>-0.03675</td>\n",
       "      <td>0.01090</td>\n",
       "      <td>-0.03143</td>\n",
       "      <td>-0.04155</td>\n",
       "      <td>0.01076</td>\n",
       "      <td>-0.03790</td>\n",
       "      <td>-0.04696</td>\n",
       "      <td>-0.02699</td>\n",
       "      <td>-0.05738</td>\n",
       "      <td>...</td>\n",
       "      <td>-0.03506</td>\n",
       "      <td>-0.05630</td>\n",
       "      <td>-0.08417</td>\n",
       "      <td>-0.04242</td>\n",
       "      <td>-0.04093</td>\n",
       "      <td>-0.02848</td>\n",
       "      <td>0.01071</td>\n",
       "      <td>0.00655</td>\n",
       "      <td>0.00536</td>\n",
       "      <td>-0.02375</td>\n",
       "    </tr>\n",
       "    <tr>\n",
       "      <th>2008-01-27</th>\n",
       "      <td>-0.04082</td>\n",
       "      <td>-0.09283</td>\n",
       "      <td>0.00811</td>\n",
       "      <td>-0.02338</td>\n",
       "      <td>-0.03789</td>\n",
       "      <td>0.00962</td>\n",
       "      <td>-0.06445</td>\n",
       "      <td>-0.01894</td>\n",
       "      <td>-0.02801</td>\n",
       "      <td>-0.05178</td>\n",
       "      <td>...</td>\n",
       "      <td>-0.07426</td>\n",
       "      <td>-0.03287</td>\n",
       "      <td>-0.05586</td>\n",
       "      <td>-0.04641</td>\n",
       "      <td>-0.02873</td>\n",
       "      <td>-0.02369</td>\n",
       "      <td>0.00455</td>\n",
       "      <td>0.00542</td>\n",
       "      <td>0.00634</td>\n",
       "      <td>-0.01674</td>\n",
       "    </tr>\n",
       "    <tr>\n",
       "      <th>2008-02-03</th>\n",
       "      <td>0.02449</td>\n",
       "      <td>0.03269</td>\n",
       "      <td>0.00172</td>\n",
       "      <td>0.03311</td>\n",
       "      <td>0.02579</td>\n",
       "      <td>-0.00387</td>\n",
       "      <td>0.02251</td>\n",
       "      <td>0.01940</td>\n",
       "      <td>0.05039</td>\n",
       "      <td>0.03209</td>\n",
       "      <td>...</td>\n",
       "      <td>0.01017</td>\n",
       "      <td>0.03879</td>\n",
       "      <td>-0.00709</td>\n",
       "      <td>0.02723</td>\n",
       "      <td>0.03936</td>\n",
       "      <td>0.02591</td>\n",
       "      <td>-0.00797</td>\n",
       "      <td>-0.00295</td>\n",
       "      <td>0.00275</td>\n",
       "      <td>0.02602</td>\n",
       "    </tr>\n",
       "    <tr>\n",
       "      <th>2008-02-10</th>\n",
       "      <td>-0.02284</td>\n",
       "      <td>-0.02908</td>\n",
       "      <td>-0.00621</td>\n",
       "      <td>-0.02424</td>\n",
       "      <td>-0.03273</td>\n",
       "      <td>-0.00167</td>\n",
       "      <td>-0.04283</td>\n",
       "      <td>-0.02241</td>\n",
       "      <td>-0.00825</td>\n",
       "      <td>-0.01808</td>\n",
       "      <td>...</td>\n",
       "      <td>0.01215</td>\n",
       "      <td>-0.02759</td>\n",
       "      <td>-0.01931</td>\n",
       "      <td>-0.03334</td>\n",
       "      <td>-0.02609</td>\n",
       "      <td>-0.01612</td>\n",
       "      <td>-0.01017</td>\n",
       "      <td>-0.00460</td>\n",
       "      <td>-0.00190</td>\n",
       "      <td>-0.01527</td>\n",
       "    </tr>\n",
       "  </tbody>\n",
       "</table>\n",
       "<p>5 rows × 23 columns</p>\n",
       "</div>"
      ],
      "text/plain": [
       "                EEM      EWG      TIP      EWJ      EFA      IEF      EWQ  \\\n",
       "Date                                                                        \n",
       "2008-01-13  0.00211 -0.01845  0.00058 -0.01779 -0.01821  0.00521 -0.01671   \n",
       "2008-01-20 -0.05722 -0.03675  0.01090 -0.03143 -0.04155  0.01076 -0.03790   \n",
       "2008-01-27 -0.04082 -0.09283  0.00811 -0.02338 -0.03789  0.00962 -0.06445   \n",
       "2008-02-03  0.02449  0.03269  0.00172  0.03311  0.02579 -0.00387  0.02251   \n",
       "2008-02-10 -0.02284 -0.02908 -0.00621 -0.02424 -0.03273 -0.00167 -0.04283   \n",
       "\n",
       "                EWU      XLB      XLE  ...      XLU      EPP      FXI  \\\n",
       "Date                                   ...                              \n",
       "2008-01-13 -0.02791 -0.03308 -0.03463  ...  0.02973 -0.01071  0.03357   \n",
       "2008-01-20 -0.04696 -0.02699 -0.05738  ... -0.03506 -0.05630 -0.08417   \n",
       "2008-01-27 -0.01894 -0.02801 -0.05178  ... -0.07426 -0.03287 -0.05586   \n",
       "2008-02-03  0.01940  0.05039  0.03209  ...  0.01017  0.03879 -0.00709   \n",
       "2008-02-10 -0.02241 -0.00825 -0.01808  ...  0.01215 -0.02759 -0.01931   \n",
       "\n",
       "                VGK      VPL      SPY      TLT      BND      CSJ      DIA  \n",
       "Date                                                                       \n",
       "2008-01-13 -0.02393 -0.01487 -0.02309  0.00036  0.00206  0.00261 -0.02211  \n",
       "2008-01-20 -0.04242 -0.04093 -0.02848  0.01071  0.00655  0.00536 -0.02375  \n",
       "2008-01-27 -0.04641 -0.02873 -0.02369  0.00455  0.00542  0.00634 -0.01674  \n",
       "2008-02-03  0.02723  0.03936  0.02591 -0.00797 -0.00295  0.00275  0.02602  \n",
       "2008-02-10 -0.03334 -0.02609 -0.01612 -0.01017 -0.00460 -0.00190 -0.01527  \n",
       "\n",
       "[5 rows x 23 columns]"
      ]
     },
     "execution_count": 6,
     "metadata": {},
     "output_type": "execute_result"
    }
   ],
   "source": [
    "stock_returns = stock_prices_downsampled.pct_change().dropna(how='all')\n",
    "stock_returns.head()\n"
   ]
  },
  {
   "cell_type": "markdown",
   "metadata": {},
   "source": [
    "The pct_change() function calculates the percentage change with the previous day price for each asset. This gives us the returns for that asset for different time periods."
   ]
  },
  {
   "cell_type": "markdown",
   "metadata": {},
   "source": [
    "### (b) Compute the covariance of their returns, V"
   ]
  },
  {
   "cell_type": "code",
   "execution_count": 7,
   "metadata": {},
   "outputs": [],
   "source": [
    "V = stock_returns.cov()"
   ]
  },
  {
   "cell_type": "code",
   "execution_count": 8,
   "metadata": {},
   "outputs": [
    {
     "data": {
      "text/plain": [
       "<Figure size 504x504 with 0 Axes>"
      ]
     },
     "metadata": {},
     "output_type": "display_data"
    },
    {
     "data": {
      "image/png": "[encoded data removed]",
      "text/plain": [
       "<Figure size 720x720 with 4 Axes>"
      ]
     },
     "metadata": {
      "needs_background": "light"
     },
     "output_type": "display_data"
    }
   ],
   "source": [
    "plt.figure(figsize=(7, 7))\n",
    "sns.clustermap(V)\n",
    "plt.show()"
   ]
  },
  {
   "cell_type": "markdown",
   "metadata": {},
   "source": [
    "### (c) Identify the hierarchical clusters among the N strategies"
   ]
  },
  {
   "cell_type": "code",
   "execution_count": 9,
   "metadata": {},
   "outputs": [
    {
     "data": {
      "text/plain": [
       "array([[ 4.        , 16.        ,  0.10214952,  2.        ],\n",
       "       [18.        , 22.        ,  0.10610002,  2.        ],\n",
       "       [ 6.        , 23.        ,  0.11547629,  3.        ],\n",
       "       [ 1.        , 25.        ,  0.1494541 ,  4.        ],\n",
       "       [ 7.        , 26.        ,  0.15127869,  5.        ],\n",
       "       [ 3.        , 17.        ,  0.16799027,  2.        ],\n",
       "       [27.        , 28.        ,  0.17895273,  7.        ],\n",
       "       [12.        , 24.        ,  0.18234986,  3.        ],\n",
       "       [14.        , 29.        ,  0.19385025,  8.        ],\n",
       "       [ 0.        , 31.        ,  0.19930336,  9.        ],\n",
       "       [30.        , 32.        ,  0.20851467, 12.        ],\n",
       "       [ 8.        , 33.        ,  0.22392646, 13.        ],\n",
       "       [ 5.        , 19.        ,  0.22502553,  2.        ],\n",
       "       [15.        , 34.        ,  0.24231073, 14.        ],\n",
       "       [10.        , 36.        ,  0.2432821 , 15.        ],\n",
       "       [ 9.        , 37.        ,  0.269613  , 16.        ],\n",
       "       [20.        , 35.        ,  0.327616  ,  3.        ],\n",
       "       [ 2.        , 39.        ,  0.37754424,  4.        ],\n",
       "       [11.        , 40.        ,  0.40498937,  5.        ],\n",
       "       [13.        , 38.        ,  0.41213886, 17.        ],\n",
       "       [21.        , 41.        ,  0.42563628,  6.        ],\n",
       "       [42.        , 43.        ,  0.56191465, 23.        ]])"
      ]
     },
     "execution_count": 9,
     "metadata": {},
     "output_type": "execute_result"
    }
   ],
   "source": [
    "correlation = stock_returns.corr()\n",
    "distances = np.sqrt((1 - correlation) / 2)\n",
    "clusters = linkage(squareform(distances), method=\"single\")\n",
    "clusters\n"
   ]
  },
  {
   "cell_type": "code",
   "execution_count": 10,
   "metadata": {},
   "outputs": [
    {
     "data": {
      "image/png": "[encoded data removed]",
      "text/plain": [
       "<Figure size 1080x360 with 1 Axes>"
      ]
     },
     "metadata": {
      "needs_background": "light"
     },
     "output_type": "display_data"
    }
   ],
   "source": [
    "columns = stock_returns.columns\n",
    "plt.figure(figsize=(15, 5))\n",
    "dendrogram(clusters, labels=columns)\n",
    "plt.xlabel('Tickers', fontsize=12)\n",
    "plt.ylabel('Cluster Leaves Distances', fontsize=12)\n",
    "plt.title('Hierarchical Clustering Dendrogram', fontsize=12)\n",
    "plt.show()\n"
   ]
  },
  {
   "cell_type": "markdown",
   "metadata": {},
   "source": [
    "### (d) Plot the clustered correlation matrix of the N strategies"
   ]
  },
  {
   "cell_type": "code",
   "execution_count": 11,
   "metadata": {},
   "outputs": [
    {
     "data": {
      "text/plain": [
       "<Figure size 504x504 with 0 Axes>"
      ]
     },
     "metadata": {},
     "output_type": "display_data"
    },
    {
     "data": {
      "image/png": "[encoded data removed]",
      "text/plain": [
       "<Figure size 720x720 with 4 Axes>"
      ]
     },
     "metadata": {
      "needs_background": "light"
     },
     "output_type": "display_data"
    }
   ],
   "source": [
    "plt.figure(figsize=(7, 7))\n",
    "sns.clustermap(stock_returns.corr())\n",
    "plt.show()"
   ]
  },
  {
   "cell_type": "markdown",
   "metadata": {},
   "source": [
    "## Question-16.2\n",
    "\n",
    "### Using the clustered covariance matrix V from exercise 1:"
   ]
  },
  {
   "cell_type": "markdown",
   "metadata": {},
   "source": [
    "Each class in mlfinlab's portfolio_optimisation module has an **allocate()** method which takes the raw stock prices, calculates the returns and finds the optimal weights. There is also an option to resample the prices and so we will simply pass the raw stock prices without any downsampling. For our case, we will specify 'W' for weekly resampling."
   ]
  },
  {
   "cell_type": "markdown",
   "metadata": {},
   "source": [
    "### (a) Compute the HRP allocations"
   ]
  },
  {
   "cell_type": "code",
   "execution_count": 51,
   "metadata": {},
   "outputs": [],
   "source": [
    "hrp = HierarchicalRiskParity()\n",
    "hrp.allocate(asset_prices=stock_prices, resample_by='W')\n",
    "hrp_weights = hrp.weights.sort_values(by=0, ascending=False, axis=1)\n"
   ]
  },
  {
   "cell_type": "code",
   "execution_count": 52,
   "metadata": {},
   "outputs": [
    {
     "data": {
      "text/html": [
       "<div>\n",
       "<style scoped>\n",
       "    .dataframe tbody tr th:only-of-type {\n",
       "        vertical-align: middle;\n",
       "    }\n",
       "\n",
       "    .dataframe tbody tr th {\n",
       "        vertical-align: top;\n",
       "    }\n",
       "\n",
       "    .dataframe thead th {\n",
       "        text-align: right;\n",
       "    }\n",
       "</style>\n",
       "<table border=\"1\" class=\"dataframe\">\n",
       "  <thead>\n",
       "    <tr style=\"text-align: right;\">\n",
       "      <th></th>\n",
       "      <th>CSJ</th>\n",
       "      <th>BND</th>\n",
       "      <th>TIP</th>\n",
       "      <th>LQD</th>\n",
       "      <th>IEF</th>\n",
       "      <th>TLT</th>\n",
       "      <th>XLU</th>\n",
       "      <th>VGK</th>\n",
       "      <th>XLK</th>\n",
       "      <th>EWJ</th>\n",
       "      <th>...</th>\n",
       "      <th>DIA</th>\n",
       "      <th>XLE</th>\n",
       "      <th>SPY</th>\n",
       "      <th>EEM</th>\n",
       "      <th>EWQ</th>\n",
       "      <th>XLF</th>\n",
       "      <th>XLB</th>\n",
       "      <th>EWU</th>\n",
       "      <th>EPP</th>\n",
       "      <th>FXI</th>\n",
       "    </tr>\n",
       "  </thead>\n",
       "  <tbody>\n",
       "    <tr>\n",
       "      <th>0</th>\n",
       "      <td>0.55672</td>\n",
       "      <td>0.22996</td>\n",
       "      <td>0.05839</td>\n",
       "      <td>0.04644</td>\n",
       "      <td>0.04565</td>\n",
       "      <td>0.01025</td>\n",
       "      <td>0.00740</td>\n",
       "      <td>0.00528</td>\n",
       "      <td>0.00447</td>\n",
       "      <td>0.00438</td>\n",
       "      <td>...</td>\n",
       "      <td>0.00293</td>\n",
       "      <td>0.00277</td>\n",
       "      <td>0.00245</td>\n",
       "      <td>0.00217</td>\n",
       "      <td>0.00207</td>\n",
       "      <td>0.00191</td>\n",
       "      <td>0.00175</td>\n",
       "      <td>0.00157</td>\n",
       "      <td>0.00130</td>\n",
       "      <td>0.00114</td>\n",
       "    </tr>\n",
       "  </tbody>\n",
       "</table>\n",
       "<p>1 rows × 23 columns</p>\n",
       "</div>"
      ],
      "text/plain": [
       "      CSJ     BND     TIP     LQD     IEF     TLT     XLU     VGK     XLK  \\\n",
       "0 0.55672 0.22996 0.05839 0.04644 0.04565 0.01025 0.00740 0.00528 0.00447   \n",
       "\n",
       "      EWJ  ...     DIA     XLE     SPY     EEM     EWQ     XLF     XLB  \\\n",
       "0 0.00438  ... 0.00293 0.00277 0.00245 0.00217 0.00207 0.00191 0.00175   \n",
       "\n",
       "      EWU     EPP     FXI  \n",
       "0 0.00157 0.00130 0.00114  \n",
       "\n",
       "[1 rows x 23 columns]"
      ]
     },
     "execution_count": 52,
     "metadata": {},
     "output_type": "execute_result"
    }
   ],
   "source": [
    "hrp_weights"
   ]
  },
  {
   "cell_type": "code",
   "execution_count": 14,
   "metadata": {},
   "outputs": [
    {
     "data": {
      "image/png": "[encoded data removed]",
      "text/plain": [
       "<Figure size 1080x360 with 1 Axes>"
      ]
     },
     "metadata": {
      "needs_background": "light"
     },
     "output_type": "display_data"
    }
   ],
   "source": [
    "plt.figure(figsize=(15, 5))\n",
    "plt.bar(hrp_weights.columns, hrp_weights.values[0])\n",
    "plt.xlabel('Tickers', fontsize=12)\n",
    "plt.ylabel('Weights', fontsize=12)\n",
    "plt.title('HRP Portfolio Weights', fontsize=12)\n",
    "plt.show()\n"
   ]
  },
  {
   "cell_type": "markdown",
   "metadata": {},
   "source": [
    "### (b) Compute the CLA allocations"
   ]
  },
  {
   "cell_type": "markdown",
   "metadata": {},
   "source": [
    "We will calculate the minimum variance (min_volatility) solution using CLA."
   ]
  },
  {
   "cell_type": "code",
   "execution_count": 15,
   "metadata": {},
   "outputs": [],
   "source": [
    "cla = CLA()\n",
    "cla.allocate(asset_prices=stock_prices, resample_by='W', solution='min_volatility')\n",
    "cla_weights = cla.weights.sort_values(by=0, ascending=False, axis=1)\n"
   ]
  },
  {
   "cell_type": "code",
   "execution_count": 43,
   "metadata": {},
   "outputs": [
    {
     "data": {
      "text/html": [
       "<div>\n",
       "<style scoped>\n",
       "    .dataframe tbody tr th:only-of-type {\n",
       "        vertical-align: middle;\n",
       "    }\n",
       "\n",
       "    .dataframe tbody tr th {\n",
       "        vertical-align: top;\n",
       "    }\n",
       "\n",
       "    .dataframe thead th {\n",
       "        text-align: right;\n",
       "    }\n",
       "</style>\n",
       "<table border=\"1\" class=\"dataframe\">\n",
       "  <thead>\n",
       "    <tr style=\"text-align: right;\">\n",
       "      <th></th>\n",
       "      <th>CSJ</th>\n",
       "      <th>EWQ</th>\n",
       "      <th>BND</th>\n",
       "      <th>EEM</th>\n",
       "      <th>XLK</th>\n",
       "      <th>TLT</th>\n",
       "      <th>SPY</th>\n",
       "      <th>VPL</th>\n",
       "      <th>VGK</th>\n",
       "      <th>FXI</th>\n",
       "      <th>...</th>\n",
       "      <th>EWG</th>\n",
       "      <th>XLF</th>\n",
       "      <th>XLE</th>\n",
       "      <th>XLB</th>\n",
       "      <th>EWU</th>\n",
       "      <th>IEF</th>\n",
       "      <th>EFA</th>\n",
       "      <th>EWJ</th>\n",
       "      <th>TIP</th>\n",
       "      <th>DIA</th>\n",
       "    </tr>\n",
       "  </thead>\n",
       "  <tbody>\n",
       "    <tr>\n",
       "      <th>0</th>\n",
       "      <td>0.74404</td>\n",
       "      <td>0.15223</td>\n",
       "      <td>0.10373</td>\n",
       "      <td>0.00000</td>\n",
       "      <td>0.00000</td>\n",
       "      <td>0.00000</td>\n",
       "      <td>0.00000</td>\n",
       "      <td>0.00000</td>\n",
       "      <td>0.00000</td>\n",
       "      <td>0.00000</td>\n",
       "      <td>...</td>\n",
       "      <td>0.00000</td>\n",
       "      <td>0.00000</td>\n",
       "      <td>0.00000</td>\n",
       "      <td>0.00000</td>\n",
       "      <td>0.00000</td>\n",
       "      <td>0.00000</td>\n",
       "      <td>0.00000</td>\n",
       "      <td>0.00000</td>\n",
       "      <td>0.00000</td>\n",
       "      <td>0.00000</td>\n",
       "    </tr>\n",
       "  </tbody>\n",
       "</table>\n",
       "<p>1 rows × 23 columns</p>\n",
       "</div>"
      ],
      "text/plain": [
       "      CSJ     EWQ     BND     EEM     XLK     TLT     SPY     VPL     VGK  \\\n",
       "0 0.74404 0.15223 0.10373 0.00000 0.00000 0.00000 0.00000 0.00000 0.00000   \n",
       "\n",
       "      FXI  ...     EWG     XLF     XLE     XLB     EWU     IEF     EFA  \\\n",
       "0 0.00000  ... 0.00000 0.00000 0.00000 0.00000 0.00000 0.00000 0.00000   \n",
       "\n",
       "      EWJ     TIP     DIA  \n",
       "0 0.00000 0.00000 0.00000  \n",
       "\n",
       "[1 rows x 23 columns]"
      ]
     },
     "execution_count": 43,
     "metadata": {},
     "output_type": "execute_result"
    }
   ],
   "source": [
    "cla_weights"
   ]
  },
  {
   "cell_type": "code",
   "execution_count": 17,
   "metadata": {},
   "outputs": [
    {
     "data": {
      "image/png": "[encoded data removed]",
      "text/plain": [
       "<Figure size 1080x360 with 1 Axes>"
      ]
     },
     "metadata": {
      "needs_background": "light"
     },
     "output_type": "display_data"
    }
   ],
   "source": [
    "plt.figure(figsize=(15, 5))\n",
    "plt.bar(cla_weights.columns, cla_weights.values[0])\n",
    "plt.xlabel('Tickers', fontsize=12)\n",
    "plt.ylabel('Weights', fontsize=12)\n",
    "plt.title('CLA Portfolio Weights (Minimum Variance Solution)', fontsize=12)\n",
    "plt.show()\n"
   ]
  },
  {
   "cell_type": "markdown",
   "metadata": {},
   "source": [
    "### Compute the IVP allocations"
   ]
  },
  {
   "cell_type": "code",
   "execution_count": 18,
   "metadata": {},
   "outputs": [],
   "source": [
    "mvo = MeanVarianceOptimisation()\n",
    "mvo.allocate(asset_prices=stock_prices, solution='inverse_variance', resample_by='W')\n",
    "ivp_weights = mvo.weights.sort_values(by=0, ascending=False, axis=1)\n"
   ]
  },
  {
   "cell_type": "code",
   "execution_count": 19,
   "metadata": {},
   "outputs": [
    {
     "data": {
      "text/html": [
       "<div>\n",
       "<style scoped>\n",
       "    .dataframe tbody tr th:only-of-type {\n",
       "        vertical-align: middle;\n",
       "    }\n",
       "\n",
       "    .dataframe tbody tr th {\n",
       "        vertical-align: top;\n",
       "    }\n",
       "\n",
       "    .dataframe thead th {\n",
       "        text-align: right;\n",
       "    }\n",
       "</style>\n",
       "<table border=\"1\" class=\"dataframe\">\n",
       "  <thead>\n",
       "    <tr style=\"text-align: right;\">\n",
       "      <th></th>\n",
       "      <th>CSJ</th>\n",
       "      <th>BND</th>\n",
       "      <th>IEF</th>\n",
       "      <th>TIP</th>\n",
       "      <th>LQD</th>\n",
       "      <th>TLT</th>\n",
       "      <th>XLU</th>\n",
       "      <th>DIA</th>\n",
       "      <th>SPY</th>\n",
       "      <th>XLK</th>\n",
       "      <th>...</th>\n",
       "      <th>EWU</th>\n",
       "      <th>XLB</th>\n",
       "      <th>VGK</th>\n",
       "      <th>EPP</th>\n",
       "      <th>XLE</th>\n",
       "      <th>EWQ</th>\n",
       "      <th>EEM</th>\n",
       "      <th>EWG</th>\n",
       "      <th>FXI</th>\n",
       "      <th>XLF</th>\n",
       "    </tr>\n",
       "  </thead>\n",
       "  <tbody>\n",
       "    <tr>\n",
       "      <th>0</th>\n",
       "      <td>0.44946</td>\n",
       "      <td>0.21785</td>\n",
       "      <td>0.07332</td>\n",
       "      <td>0.07291</td>\n",
       "      <td>0.05800</td>\n",
       "      <td>0.01646</td>\n",
       "      <td>0.01207</td>\n",
       "      <td>0.01169</td>\n",
       "      <td>0.00980</td>\n",
       "      <td>0.00904</td>\n",
       "      <td>...</td>\n",
       "      <td>0.00589</td>\n",
       "      <td>0.00537</td>\n",
       "      <td>0.00536</td>\n",
       "      <td>0.00487</td>\n",
       "      <td>0.00452</td>\n",
       "      <td>0.00448</td>\n",
       "      <td>0.00432</td>\n",
       "      <td>0.00420</td>\n",
       "      <td>0.00350</td>\n",
       "      <td>0.00344</td>\n",
       "    </tr>\n",
       "  </tbody>\n",
       "</table>\n",
       "<p>1 rows × 23 columns</p>\n",
       "</div>"
      ],
      "text/plain": [
       "      CSJ     BND     IEF     TIP     LQD     TLT     XLU     DIA     SPY  \\\n",
       "0 0.44946 0.21785 0.07332 0.07291 0.05800 0.01646 0.01207 0.01169 0.00980   \n",
       "\n",
       "      XLK  ...     EWU     XLB     VGK     EPP     XLE     EWQ     EEM  \\\n",
       "0 0.00904  ... 0.00589 0.00537 0.00536 0.00487 0.00452 0.00448 0.00432   \n",
       "\n",
       "      EWG     FXI     XLF  \n",
       "0 0.00420 0.00350 0.00344  \n",
       "\n",
       "[1 rows x 23 columns]"
      ]
     },
     "execution_count": 19,
     "metadata": {},
     "output_type": "execute_result"
    }
   ],
   "source": [
    "ivp_weights"
   ]
  },
  {
   "cell_type": "code",
   "execution_count": 20,
   "metadata": {},
   "outputs": [
    {
     "data": {
      "image/png": "[encoded data removed]",
      "text/plain": [
       "<Figure size 1080x360 with 1 Axes>"
      ]
     },
     "metadata": {
      "needs_background": "light"
     },
     "output_type": "display_data"
    }
   ],
   "source": [
    "plt.figure(figsize=(15, 5))\n",
    "plt.bar(ivp_weights.columns, ivp_weights.values[0])\n",
    "plt.xlabel('Tickers', fontsize=12)\n",
    "plt.ylabel('Weights', fontsize=12)\n",
    "plt.title('Inverse Variance Portfolio Weights', fontsize=12)\n",
    "plt.show()\n"
   ]
  },
  {
   "cell_type": "markdown",
   "metadata": {},
   "source": [
    "We observe a clear difference in the allocation strategies of the 3 algorithms:\n",
    "\n",
    "* CLA concentrates literally 99% of the holdings on the top-3 investments and assigns 0 weight to all other assets. The reason behind CLA's extreme concentration is its goal of minimising the variance of the portfolio. This makes it very conservative in allocating holdings and it places emphasis on only a few of the assets.\n",
    "\n",
    "* Inverse variance (IVP) has assigned non-zero weights to all the assets and except the top 5 holdings, its weight allocations are distributed almost uniformly.\n",
    "\n",
    "* HRP, on the other hand, tries to find a middle ground between CLA and IVP allocations. It places more emphasis on the top 5 holdings/assets just like IVP but assigns lesser values to the rest of the weights (though not completely 0). \n",
    "\n",
    "* Another important fact is that both the CLA and HRP weights have very little difference in their standard deviations, $\\sigma^{2}_{HRP} = 0.12$ and $\\sigma^{2}_{CLA} = 0.15$. However, CLA has discarded half of the investment universe in favor of a minor risk reduction while HRP did not. Since, CLA has placed its emphasis on only a few of the assets, it is prone to much more negative impact by random shocks than HRP - something which we will see in the next set of questions."
   ]
  },
  {
   "cell_type": "markdown",
   "metadata": {},
   "source": [
    "## Question-16.3"
   ]
  },
  {
   "cell_type": "markdown",
   "metadata": {},
   "source": [
    "### (a) Perform a spectral decomposition: VW=W$\\wedge$"
   ]
  },
  {
   "cell_type": "markdown",
   "metadata": {},
   "source": [
    "In the spectral decomposition above, **W refers to the eigenvectors matrix while $\\wedge$ denotes the eigenvalues matrix - a diagonal matrix with eigenvalues along the diagonal**"
   ]
  },
  {
   "cell_type": "code",
   "execution_count": 21,
   "metadata": {},
   "outputs": [],
   "source": [
    "N = stock_prices_downsampled.shape[1]\n"
   ]
  },
  {
   "cell_type": "code",
   "execution_count": 22,
   "metadata": {},
   "outputs": [],
   "source": [
    "eigenvalues, eigenvectors = np.linalg.eig(V)\n",
    "eigenvalues_matrix = np.identity(n=N) * eigenvalues\n"
   ]
  },
  {
   "cell_type": "markdown",
   "metadata": {},
   "source": [
    "### (b) Form an array $\\epsilon$ by drawing N random numbers from U[0, 1] distribution"
   ]
  },
  {
   "cell_type": "code",
   "execution_count": 23,
   "metadata": {},
   "outputs": [
    {
     "data": {
      "text/plain": [
       "array([0.37454012, 0.95071431, 0.73199394, 0.59865848, 0.15601864,\n",
       "       0.15599452, 0.05808361, 0.86617615, 0.60111501, 0.70807258,\n",
       "       0.02058449, 0.96990985, 0.83244264, 0.21233911, 0.18182497,\n",
       "       0.18340451, 0.30424224, 0.52475643, 0.43194502, 0.29122914,\n",
       "       0.61185289, 0.13949386, 0.29214465])"
      ]
     },
     "execution_count": 23,
     "metadata": {},
     "output_type": "execute_result"
    }
   ],
   "source": [
    "epsilon = np.random.uniform(low=0, high=1, size=N)\n",
    "epsilon\n"
   ]
  },
  {
   "cell_type": "markdown",
   "metadata": {},
   "source": [
    "### (c) Form an NxN matrix $\\wedge^{'}$, where $\\wedge^{'}_{n,n}=N\\epsilon_{n}\\wedge_{n,n}(\\sum\\epsilon_{n})^{-1}, n=1....N$"
   ]
  },
  {
   "cell_type": "code",
   "execution_count": 24,
   "metadata": {},
   "outputs": [],
   "source": [
    "eigenvalues_matrix_modified = (N * epsilon * eigenvalues_matrix) / np.sum(epsilon)\n"
   ]
  },
  {
   "cell_type": "markdown",
   "metadata": {},
   "source": [
    "### (d) Compute $V^{'}=W\\wedge^{'}W^{-1}$"
   ]
  },
  {
   "cell_type": "code",
   "execution_count": 25,
   "metadata": {},
   "outputs": [],
   "source": [
    "V_modified = eigenvectors @ eigenvalues_matrix_modified @ np.linalg.inv(eigenvectors)\n",
    "V_modified = pd.DataFrame(V_modified)\n",
    "V_modified.columns = V.columns\n",
    "V_modified.index = V.index\n"
   ]
  },
  {
   "cell_type": "code",
   "execution_count": 26,
   "metadata": {},
   "outputs": [
    {
     "data": {
      "image/png": "[encoded data removed]",
      "text/plain": [
       "<Figure size 720x720 with 4 Axes>"
      ]
     },
     "metadata": {
      "needs_background": "light"
     },
     "output_type": "display_data"
    }
   ],
   "source": [
    "sns.clustermap(V)\n",
    "plt.show()"
   ]
  },
  {
   "cell_type": "code",
   "execution_count": 27,
   "metadata": {},
   "outputs": [
    {
     "data": {
      "image/png": "[encoded data removed]",
      "text/plain": [
       "<Figure size 720x720 with 4 Axes>"
      ]
     },
     "metadata": {
      "needs_background": "light"
     },
     "output_type": "display_data"
    }
   ],
   "source": [
    "sns.clustermap(V_modified)\n",
    "plt.show()"
   ]
  },
  {
   "cell_type": "markdown",
   "metadata": {},
   "source": [
    "### (e) Repeat exercise 2, this time using $V^{'}$ as covariance matrix. What allocation method has been most impacted by the re-scaling of spectral variances?"
   ]
  },
  {
   "cell_type": "markdown",
   "metadata": {},
   "source": [
    "In each of the 3 sections below, use modified versions of the original algorithms implemented in the package. The only change is that wherever **covariance matrix is calculated from the data using asset_returns.cov(), we will use V_modified.** Everything else remains the same. These modified code files are present in the same folder with the following names - **hrp_modified.py, cla_modified.py, mvo_modified.py**"
   ]
  },
  {
   "cell_type": "markdown",
   "metadata": {},
   "source": [
    "### (i) HRP"
   ]
  },
  {
   "cell_type": "code",
   "execution_count": 28,
   "metadata": {},
   "outputs": [],
   "source": [
    "hrp_modified = HierarchicalRiskParityModified()\n",
    "hrp_modified.allocate(asset_prices=stock_prices,\n",
    "                      resample_by='W',\n",
    "                      covariance=V_modified)\n",
    "hrp_modified_weights = hrp_modified.weights.sort_values(by=0, ascending=False, axis=1)\n"
   ]
  },
  {
   "cell_type": "code",
   "execution_count": 29,
   "metadata": {
    "scrolled": false
   },
   "outputs": [
    {
     "data": {
      "image/png": "[encoded data removed]",
      "text/plain": [
       "<Figure size 1080x576 with 1 Axes>"
      ]
     },
     "metadata": {
      "needs_background": "light"
     },
     "output_type": "display_data"
    }
   ],
   "source": [
    "fig = plt.figure(figsize=(15, 8))\n",
    "ax = fig.add_subplot(111)\n",
    "index = np.arange(N)\n",
    "width = 0.35\n",
    "ax.bar(index, hrp_weights.values[0], width, label=\"Normal Covariance Matrix\")\n",
    "ax.bar(index + width, hrp_modified_weights.values[0], width, label=\"Rescaled Covariance Matrix\")\n",
    "ax.set_xticks(index + width / 2)\n",
    "ax.set_xticklabels(hrp_modified_weights.columns)\n",
    "plt.xlabel('Tickers', fontsize=12)\n",
    "plt.ylabel('Weights', fontsize=12)\n",
    "plt.title('Comparision of HRP Weights after Rescaling Covariances', fontsize=12)\n",
    "plt.legend(fontsize='large')\n",
    "plt.show()\n"
   ]
  },
  {
   "cell_type": "code",
   "execution_count": 30,
   "metadata": {},
   "outputs": [
    {
     "data": {
      "image/png": "[encoded data removed]",
      "text/plain": [
       "<Figure size 1080x360 with 1 Axes>"
      ]
     },
     "metadata": {
      "needs_background": "light"
     },
     "output_type": "display_data"
    }
   ],
   "source": [
    "hrp_absolute_percentage_change = np.abs(hrp_modified_weights - hrp_weights) * 100\n",
    "plt.figure(figsize=(15, 5))\n",
    "plt.bar(hrp_absolute_percentage_change.columns, hrp_absolute_percentage_change.values[0])\n",
    "plt.xlabel(\"Tickers\", fontsize=12)\n",
    "plt.ylabel(\"Absolute Percentage Change\", fontsize=12)\n",
    "plt.title(\"Percentage Change in Weights after Rescaling Covariance Matrix\", fontsize=12)\n",
    "plt.show()\n"
   ]
  },
  {
   "cell_type": "code",
   "execution_count": 31,
   "metadata": {},
   "outputs": [
    {
     "data": {
      "text/plain": [
       "0.9393525686393941"
      ]
     },
     "execution_count": 31,
     "metadata": {},
     "output_type": "execute_result"
    }
   ],
   "source": [
    "mean_hrp_weight_change = np.mean(hrp_absolute_percentage_change.values)\n",
    "mean_hrp_weight_change\n"
   ]
  },
  {
   "cell_type": "markdown",
   "metadata": {},
   "source": [
    "### (ii) CLA"
   ]
  },
  {
   "cell_type": "code",
   "execution_count": 32,
   "metadata": {},
   "outputs": [],
   "source": [
    "cla_modified = CLAModified()\n",
    "cla_modified.allocate(asset_prices=stock_prices_downsampled,\n",
    "                      solution='cla_turning_points',\n",
    "                      covariance=V_modified)\n"
   ]
  },
  {
   "cell_type": "code",
   "execution_count": 33,
   "metadata": {},
   "outputs": [],
   "source": [
    "cla_modified_weights = cla_modified.weights.mean(axis=0).reset_index()\n",
    "cla_modified_weights.index = cla_modified_weights['index']\n",
    "cla_modified_weights = cla_modified_weights.drop('index', 1)\n",
    "cla_modified_weights = cla_modified_weights.T\n",
    "cla_modified_weights = cla_modified_weights.sort_values(by=0, ascending=False, axis=1)\n"
   ]
  },
  {
   "cell_type": "code",
   "execution_count": 34,
   "metadata": {},
   "outputs": [
    {
     "data": {
      "image/png": "[encoded data removed]",
      "text/plain": [
       "<Figure size 1080x576 with 1 Axes>"
      ]
     },
     "metadata": {
      "needs_background": "light"
     },
     "output_type": "display_data"
    }
   ],
   "source": [
    "fig = plt.figure(figsize=(15, 8))\n",
    "ax = fig.add_subplot(111)\n",
    "index = np.arange(N)\n",
    "width = 0.35\n",
    "ax.bar(index, cla_weights.values[0], width, label='Normal Covariance Matrix')\n",
    "ax.bar(index + width, cla_modified_weights.values[0], width, label=\"Rescaled Covariance Matrix\")\n",
    "ax.set_xticks(index + width / 2)\n",
    "ax.set_xticklabels(cla_modified_weights.columns)\n",
    "plt.xlabel('Tickers', fontsize=12)\n",
    "plt.ylabel('Weights', fontsize=12)\n",
    "plt.title('Comparision of CLA Weights after Rescaling Covariances', fontsize=12)\n",
    "plt.legend(fontsize='large')\n",
    "plt.show()\n"
   ]
  },
  {
   "cell_type": "code",
   "execution_count": 35,
   "metadata": {},
   "outputs": [
    {
     "data": {
      "image/png": "[encoded data removed]",
      "text/plain": [
       "<Figure size 1080x360 with 1 Axes>"
      ]
     },
     "metadata": {
      "needs_background": "light"
     },
     "output_type": "display_data"
    }
   ],
   "source": [
    "cla_absolute_percentage_change = np.abs(cla_modified_weights - cla_weights) * 100\n",
    "plt.figure(figsize=(15, 5))\n",
    "plt.bar(cla_absolute_percentage_change.columns, cla_absolute_percentage_change.values[0])\n",
    "plt.xlabel(\"Tickers\", fontsize=12)\n",
    "plt.ylabel(\"Absolute Percentage Change\", fontsize=12)\n",
    "plt.title(\"Percentage Change in Weights after Rescaling Covariance Matrix\", fontsize=12)\n",
    "plt.show()\n"
   ]
  },
  {
   "cell_type": "code",
   "execution_count": 36,
   "metadata": {},
   "outputs": [
    {
     "data": {
      "text/plain": [
       "4.813467176590489"
      ]
     },
     "execution_count": 36,
     "metadata": {},
     "output_type": "execute_result"
    }
   ],
   "source": [
    "mean_cla_weight_change = np.mean(cla_absolute_percentage_change.values)\n",
    "mean_cla_weight_change"
   ]
  },
  {
   "cell_type": "markdown",
   "metadata": {},
   "source": [
    "### (iii) IVP"
   ]
  },
  {
   "cell_type": "code",
   "execution_count": 38,
   "metadata": {},
   "outputs": [],
   "source": [
    "mvo_modified = MeanVarianceOptimisationModified()\n",
    "mvo_modified.allocate(asset_prices=stock_prices,\n",
    "                      covariance=V_modified,\n",
    "                      solution='inverse_variance',\n",
    "                      resample_by='W')\n",
    "ivp_modified_weights = mvo_modified.weights.sort_values(by=0, ascending=False, axis=1)\n"
   ]
  },
  {
   "cell_type": "code",
   "execution_count": 39,
   "metadata": {},
   "outputs": [
    {
     "data": {
      "image/png": "[encoded data removed]",
      "text/plain": [
       "<Figure size 1080x576 with 1 Axes>"
      ]
     },
     "metadata": {
      "needs_background": "light"
     },
     "output_type": "display_data"
    }
   ],
   "source": [
    "fig = plt.figure(figsize=(15, 8))\n",
    "ax = fig.add_subplot(111)\n",
    "index = np.arange(N)\n",
    "width = 0.35\n",
    "ax.bar(index, ivp_weights.values[0], width, label='Normal Covariance Matrix')\n",
    "ax.bar(index + width, ivp_modified_weights.values[0], width, label=\"Rescaled Covariance Matrix\")\n",
    "ax.set_xticks(index + width / 2)\n",
    "ax.set_xticklabels(ivp_modified_weights.columns)\n",
    "plt.xlabel('Tickers', fontsize=12)\n",
    "plt.ylabel('Weights', fontsize=12)\n",
    "plt.title('Comparision of IVP Weights after Rescaling Covariances', fontsize=12)\n",
    "plt.legend(fontsize='large')\n",
    "plt.show()\n"
   ]
  },
  {
   "cell_type": "code",
   "execution_count": 40,
   "metadata": {},
   "outputs": [
    {
     "data": {
      "image/png": "[encoded data removed]",
      "text/plain": [
       "<Figure size 1080x360 with 1 Axes>"
      ]
     },
     "metadata": {
      "needs_background": "light"
     },
     "output_type": "display_data"
    }
   ],
   "source": [
    "ivp_absolute_percentage_change = np.abs(ivp_modified_weights - ivp_weights) * 100\n",
    "plt.figure(figsize=(15, 5))\n",
    "plt.bar(ivp_absolute_percentage_change.columns, ivp_absolute_percentage_change.values[0])\n",
    "plt.xlabel(\"Tickers\", fontsize=12)\n",
    "plt.ylabel(\"Absolute Percentage Change\", fontsize=12)\n",
    "plt.title(\"Percentage Change in Weights after Rescaling Covariance Matrix\", fontsize=12)\n",
    "plt.show()\n"
   ]
  },
  {
   "cell_type": "code",
   "execution_count": 41,
   "metadata": {},
   "outputs": [
    {
     "data": {
      "text/plain": [
       "0.5488297665238319"
      ]
     },
     "execution_count": 41,
     "metadata": {},
     "output_type": "execute_result"
    }
   ],
   "source": [
    "mean_ivp_weight_change = np.mean(ivp_absolute_percentage_change.values)\n",
    "mean_ivp_weight_change"
   ]
  },
  {
   "cell_type": "markdown",
   "metadata": {},
   "source": [
    "CLA had been very conservative in its allocation of weights because of the minimum variance condition. However, rescaling of variance simulated a random shock in the industry due to which the allocations of CLA were affected the most. We see that the average percentage in the CLA allocations was 4.8% as compared to 0.5% and 0.9% for IVP and HRP respectively."
   ]
  },
  {
   "cell_type": "markdown",
   "metadata": {},
   "source": [
    "## Conclusion"
   ]
  },
  {
   "cell_type": "markdown",
   "metadata": {},
   "source": [
    "We saw the Hierarchical Risk Parity algorithm in action on a real data of stock prices. Some key takeaways from the exercise -\n",
    "\n",
    "* The HRP algorithm tries to allocate its weights in a stable manner - as a middle ground between CLA and IVP. \n",
    "\n",
    "\n",
    "* CLA tries to adopt a very conservative, risk-reduction approach and allocates its weights to the top few holdings while giving 0 importance to the other assets in the portfolio. This makes it very sensitive to random industry shocks. **Note that we are using CLA to find the minimum variance solution and these observations are based on that**\n",
    "\n",
    "\n",
    "* IVP tries to allocate uniformly but it has similarities with HRP (in case of this notebook's data) where it places high importance to the top few holdings and relatively less but uniform importance (not completely 0) to the other ones.\n",
    "\n",
    "\n",
    "* The last question actually confirms the previous points. When the covariances are rescaled, the CLA allocations area changed considerably as compared to HRP and IVP allocations. This also brings us to the following point - because the CLA algorithm deals with inverse of the returns' covariance matrix, it is affected more by rescaling than HRP which does not do so."
   ]
  }
 ],
 "metadata": {
  "celltoolbar": "Raw Cell Format",
  "kernelspec": {
   "display_name": "Python 3",
   "language": "python",
   "name": "python3"
  },
  "language_info": {
   "codemirror_mode": {
    "name": "ipython",
    "version": 3
   },
   "file_extension": ".py",
   "mimetype": "text/x-python",
   "name": "python",
   "nbconvert_exporter": "python",
   "pygments_lexer": "ipython3",
   "version": "3.6.1"
  }
 },
 "nbformat": 4,
 "nbformat_minor": 2
}
