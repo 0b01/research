{
 "cells": [
  {
   "cell_type": "markdown",
   "metadata": {},
   "source": [
    "* By: Aditya Vyas\n",
    "* Email: adityavyas17@gmail.com\n",
    "* Reference: Advances in Financial Machine Learning, Chapter-16"
   ]
  },
  {
   "cell_type": "markdown",
   "metadata": {},
   "source": [
    "## Chapter 16 Machine Learning Asset Allocation"
   ]
  },
  {
   "cell_type": "markdown",
   "metadata": {},
   "source": [
    "## Introduction"
   ]
  },
  {
   "cell_type": "markdown",
   "metadata": {},
   "source": [
    "Portfolio optimisation and asset allocation have been important topics in the financial world. Although, the classical Markowitz theory has been successful, it has a lot of limitations in its practical implementations. Optimisation algorithms like CLA involve taking the inverse of covariance matrices which leads to instability for large portfolios - escpecially if they are highly correlated. This is where the Hierarchical Risk Parity algorithm comes in - it does not deal with inverse of a covariance matrix hence removing the instability of the previous algorithms. \n",
    "\n",
    "This notebook explores the exercises at the back of Chapter-16 in the book \"Advances in Financial Machine Learning\". We will use the portfolio optimisation algorithms in the mlfinlab package to do a comparision of their performance. The questions are restated here in this notebook, with the accompanying code solutions following directly below each question."
   ]
  },
  {
   "cell_type": "code",
   "execution_count": 2,
   "metadata": {},
   "outputs": [],
   "source": [
    "import numbers\n",
    "import numpy as np\n",
    "import scipy as sc\n",
    "import pandas as pd\n",
    "import random\n",
    "from scipy.cluster.hierarchy import dendrogram, linkage\n",
    "from scipy.spatial.distance import pdist, squareform\n",
    "import matplotlib\n",
    "import matplotlib.pyplot as plt\n",
    "import seaborn as sns\n",
    "\n",
    "# Import from mlfinlab\n",
    "from mlfinlab.portfolio_optimization.cla import CLA\n",
    "from mlfinlab.portfolio_optimization.hrp import HierarchicalRiskParity\n",
    "from mlfinlab.portfolio_optimization.mean_variance import MeanVarianceOptimisation\n",
    "\n",
    "# Modified functions for some of the questions\n",
    "from hrp_modified import HierarchicalRiskParityModified\n",
    "from cla_modified import CLAModified\n",
    "from mvo_modified import MeanVarianceOptimisationModified\n",
    "\n",
    "%matplotlib inline\n",
    "np.random.seed(42)\n",
    "pd.set_option('display.float_format', lambda x: '%.5f' % x)"
   ]
  },
  {
   "cell_type": "markdown",
   "metadata": {},
   "source": [
    "## Getting the Data"
   ]
  },
  {
   "cell_type": "code",
   "execution_count": 3,
   "metadata": {},
   "outputs": [],
   "source": [
    "stock_prices = pd.read_csv('../Sample-Data/stock_prices.csv', parse_dates=True, index_col='Date')\n",
    "stock_prices = stock_prices.dropna(axis=1)\n"
   ]
  },
  {
   "cell_type": "code",
   "execution_count": 4,
   "metadata": {},
   "outputs": [
    {
     "data": {
      "text/html": [
       "<div>\n",
       "<style scoped>\n",
       "    .dataframe tbody tr th:only-of-type {\n",
       "        vertical-align: middle;\n",
       "    }\n",
       "\n",
       "    .dataframe tbody tr th {\n",
       "        vertical-align: top;\n",
       "    }\n",
       "\n",
       "    .dataframe thead th {\n",
       "        text-align: right;\n",
       "    }\n",
       "</style>\n",
       "<table border=\"1\" class=\"dataframe\">\n",
       "  <thead>\n",
       "    <tr style=\"text-align: right;\">\n",
       "      <th></th>\n",
       "      <th>EEM</th>\n",
       "      <th>EWG</th>\n",
       "      <th>TIP</th>\n",
       "      <th>EWJ</th>\n",
       "      <th>EFA</th>\n",
       "      <th>IEF</th>\n",
       "      <th>EWQ</th>\n",
       "      <th>EWU</th>\n",
       "      <th>XLB</th>\n",
       "      <th>XLE</th>\n",
       "      <th>...</th>\n",
       "      <th>XLU</th>\n",
       "      <th>EPP</th>\n",
       "      <th>FXI</th>\n",
       "      <th>VGK</th>\n",
       "      <th>VPL</th>\n",
       "      <th>SPY</th>\n",
       "      <th>TLT</th>\n",
       "      <th>BND</th>\n",
       "      <th>CSJ</th>\n",
       "      <th>DIA</th>\n",
       "    </tr>\n",
       "    <tr>\n",
       "      <th>Date</th>\n",
       "      <th></th>\n",
       "      <th></th>\n",
       "      <th></th>\n",
       "      <th></th>\n",
       "      <th></th>\n",
       "      <th></th>\n",
       "      <th></th>\n",
       "      <th></th>\n",
       "      <th></th>\n",
       "      <th></th>\n",
       "      <th></th>\n",
       "      <th></th>\n",
       "      <th></th>\n",
       "      <th></th>\n",
       "      <th></th>\n",
       "      <th></th>\n",
       "      <th></th>\n",
       "      <th></th>\n",
       "      <th></th>\n",
       "      <th></th>\n",
       "      <th></th>\n",
       "    </tr>\n",
       "  </thead>\n",
       "  <tbody>\n",
       "    <tr>\n",
       "      <th>2008-01-02</th>\n",
       "      <td>49.27333</td>\n",
       "      <td>35.39000</td>\n",
       "      <td>106.64000</td>\n",
       "      <td>52.92000</td>\n",
       "      <td>78.22000</td>\n",
       "      <td>87.63000</td>\n",
       "      <td>37.94000</td>\n",
       "      <td>47.76000</td>\n",
       "      <td>41.30000</td>\n",
       "      <td>79.50000</td>\n",
       "      <td>...</td>\n",
       "      <td>42.09000</td>\n",
       "      <td>51.17333</td>\n",
       "      <td>55.98333</td>\n",
       "      <td>74.53000</td>\n",
       "      <td>67.31000</td>\n",
       "      <td>144.92999</td>\n",
       "      <td>94.38000</td>\n",
       "      <td>77.36000</td>\n",
       "      <td>101.40000</td>\n",
       "      <td>130.63000</td>\n",
       "    </tr>\n",
       "    <tr>\n",
       "      <th>2008-01-03</th>\n",
       "      <td>49.71667</td>\n",
       "      <td>35.29000</td>\n",
       "      <td>107.00000</td>\n",
       "      <td>53.12000</td>\n",
       "      <td>78.35000</td>\n",
       "      <td>87.81000</td>\n",
       "      <td>37.92000</td>\n",
       "      <td>48.06000</td>\n",
       "      <td>42.05000</td>\n",
       "      <td>80.44000</td>\n",
       "      <td>...</td>\n",
       "      <td>42.03000</td>\n",
       "      <td>51.29333</td>\n",
       "      <td>55.60000</td>\n",
       "      <td>74.80000</td>\n",
       "      <td>67.50000</td>\n",
       "      <td>144.86000</td>\n",
       "      <td>94.25000</td>\n",
       "      <td>77.46000</td>\n",
       "      <td>101.52000</td>\n",
       "      <td>130.74001</td>\n",
       "    </tr>\n",
       "    <tr>\n",
       "      <th>2008-01-04</th>\n",
       "      <td>48.22333</td>\n",
       "      <td>34.60000</td>\n",
       "      <td>106.97000</td>\n",
       "      <td>51.76000</td>\n",
       "      <td>76.57000</td>\n",
       "      <td>88.04000</td>\n",
       "      <td>36.99000</td>\n",
       "      <td>46.92000</td>\n",
       "      <td>40.78000</td>\n",
       "      <td>77.50000</td>\n",
       "      <td>...</td>\n",
       "      <td>42.35000</td>\n",
       "      <td>49.85000</td>\n",
       "      <td>54.53667</td>\n",
       "      <td>72.98000</td>\n",
       "      <td>65.77000</td>\n",
       "      <td>141.31000</td>\n",
       "      <td>94.27000</td>\n",
       "      <td>77.55000</td>\n",
       "      <td>101.65000</td>\n",
       "      <td>128.17000</td>\n",
       "    </tr>\n",
       "    <tr>\n",
       "      <th>2008-01-07</th>\n",
       "      <td>48.57667</td>\n",
       "      <td>34.63000</td>\n",
       "      <td>106.95000</td>\n",
       "      <td>51.44000</td>\n",
       "      <td>76.65000</td>\n",
       "      <td>88.20000</td>\n",
       "      <td>37.26000</td>\n",
       "      <td>47.06000</td>\n",
       "      <td>40.22000</td>\n",
       "      <td>77.20000</td>\n",
       "      <td>...</td>\n",
       "      <td>43.23000</td>\n",
       "      <td>50.41667</td>\n",
       "      <td>56.11667</td>\n",
       "      <td>72.95000</td>\n",
       "      <td>65.65000</td>\n",
       "      <td>141.19000</td>\n",
       "      <td>94.68000</td>\n",
       "      <td>77.57000</td>\n",
       "      <td>101.72000</td>\n",
       "      <td>128.06000</td>\n",
       "    </tr>\n",
       "    <tr>\n",
       "      <th>2008-01-08</th>\n",
       "      <td>48.20000</td>\n",
       "      <td>34.39000</td>\n",
       "      <td>107.03000</td>\n",
       "      <td>51.32000</td>\n",
       "      <td>76.22000</td>\n",
       "      <td>88.39000</td>\n",
       "      <td>36.97000</td>\n",
       "      <td>46.40000</td>\n",
       "      <td>39.60000</td>\n",
       "      <td>75.85000</td>\n",
       "      <td>...</td>\n",
       "      <td>43.24000</td>\n",
       "      <td>49.56667</td>\n",
       "      <td>55.32667</td>\n",
       "      <td>72.40000</td>\n",
       "      <td>65.36000</td>\n",
       "      <td>138.91000</td>\n",
       "      <td>94.57000</td>\n",
       "      <td>77.65000</td>\n",
       "      <td>101.74000</td>\n",
       "      <td>125.85000</td>\n",
       "    </tr>\n",
       "  </tbody>\n",
       "</table>\n",
       "<p>5 rows × 23 columns</p>\n",
       "</div>"
      ],
      "text/plain": [
       "                EEM      EWG       TIP      EWJ      EFA      IEF      EWQ  \\\n",
       "Date                                                                         \n",
       "2008-01-02 49.27333 35.39000 106.64000 52.92000 78.22000 87.63000 37.94000   \n",
       "2008-01-03 49.71667 35.29000 107.00000 53.12000 78.35000 87.81000 37.92000   \n",
       "2008-01-04 48.22333 34.60000 106.97000 51.76000 76.57000 88.04000 36.99000   \n",
       "2008-01-07 48.57667 34.63000 106.95000 51.44000 76.65000 88.20000 37.26000   \n",
       "2008-01-08 48.20000 34.39000 107.03000 51.32000 76.22000 88.39000 36.97000   \n",
       "\n",
       "                EWU      XLB      XLE  ...      XLU      EPP      FXI  \\\n",
       "Date                                   ...                              \n",
       "2008-01-02 47.76000 41.30000 79.50000  ... 42.09000 51.17333 55.98333   \n",
       "2008-01-03 48.06000 42.05000 80.44000  ... 42.03000 51.29333 55.60000   \n",
       "2008-01-04 46.92000 40.78000 77.50000  ... 42.35000 49.85000 54.53667   \n",
       "2008-01-07 47.06000 40.22000 77.20000  ... 43.23000 50.41667 56.11667   \n",
       "2008-01-08 46.40000 39.60000 75.85000  ... 43.24000 49.56667 55.32667   \n",
       "\n",
       "                VGK      VPL       SPY      TLT      BND       CSJ       DIA  \n",
       "Date                                                                          \n",
       "2008-01-02 74.53000 67.31000 144.92999 94.38000 77.36000 101.40000 130.63000  \n",
       "2008-01-03 74.80000 67.50000 144.86000 94.25000 77.46000 101.52000 130.74001  \n",
       "2008-01-04 72.98000 65.77000 141.31000 94.27000 77.55000 101.65000 128.17000  \n",
       "2008-01-07 72.95000 65.65000 141.19000 94.68000 77.57000 101.72000 128.06000  \n",
       "2008-01-08 72.40000 65.36000 138.91000 94.57000 77.65000 101.74000 125.85000  \n",
       "\n",
       "[5 rows x 23 columns]"
      ]
     },
     "execution_count": 4,
     "metadata": {},
     "output_type": "execute_result"
    }
   ],
   "source": [
    "stock_prices.head()"
   ]
  },
  {
   "cell_type": "markdown",
   "metadata": {},
   "source": [
    "## Question-16.1"
   ]
  },
  {
   "cell_type": "markdown",
   "metadata": {},
   "source": [
    "### Given the PnL series on N investment strategies:\n",
    "### (a) Align them to the average frequency of their bets (e.g., weekly observations for strategies that trade on a weekly basis). Hint: This kind of data alignment is sometimes called “downsampling.”"
   ]
  },
  {
   "cell_type": "markdown",
   "metadata": {},
   "source": [
    "Using, the **resample()** function in pandas, we can do the required downsampling. 'W' parameter refers to Weekly resampling"
   ]
  },
  {
   "cell_type": "code",
   "execution_count": 5,
   "metadata": {},
   "outputs": [],
   "source": [
    "stock_prices_downsampled = stock_prices.resample('W').last()"
   ]
  },
  {
   "cell_type": "code",
   "execution_count": 6,
   "metadata": {},
   "outputs": [
    {
     "data": {
      "text/html": [
       "<div>\n",
       "<style scoped>\n",
       "    .dataframe tbody tr th:only-of-type {\n",
       "        vertical-align: middle;\n",
       "    }\n",
       "\n",
       "    .dataframe tbody tr th {\n",
       "        vertical-align: top;\n",
       "    }\n",
       "\n",
       "    .dataframe thead th {\n",
       "        text-align: right;\n",
       "    }\n",
       "</style>\n",
       "<table border=\"1\" class=\"dataframe\">\n",
       "  <thead>\n",
       "    <tr style=\"text-align: right;\">\n",
       "      <th></th>\n",
       "      <th>EEM</th>\n",
       "      <th>EWG</th>\n",
       "      <th>TIP</th>\n",
       "      <th>EWJ</th>\n",
       "      <th>EFA</th>\n",
       "      <th>IEF</th>\n",
       "      <th>EWQ</th>\n",
       "      <th>EWU</th>\n",
       "      <th>XLB</th>\n",
       "      <th>XLE</th>\n",
       "      <th>...</th>\n",
       "      <th>XLU</th>\n",
       "      <th>EPP</th>\n",
       "      <th>FXI</th>\n",
       "      <th>VGK</th>\n",
       "      <th>VPL</th>\n",
       "      <th>SPY</th>\n",
       "      <th>TLT</th>\n",
       "      <th>BND</th>\n",
       "      <th>CSJ</th>\n",
       "      <th>DIA</th>\n",
       "    </tr>\n",
       "    <tr>\n",
       "      <th>Date</th>\n",
       "      <th></th>\n",
       "      <th></th>\n",
       "      <th></th>\n",
       "      <th></th>\n",
       "      <th></th>\n",
       "      <th></th>\n",
       "      <th></th>\n",
       "      <th></th>\n",
       "      <th></th>\n",
       "      <th></th>\n",
       "      <th></th>\n",
       "      <th></th>\n",
       "      <th></th>\n",
       "      <th></th>\n",
       "      <th></th>\n",
       "      <th></th>\n",
       "      <th></th>\n",
       "      <th></th>\n",
       "      <th></th>\n",
       "      <th></th>\n",
       "      <th></th>\n",
       "    </tr>\n",
       "  </thead>\n",
       "  <tbody>\n",
       "    <tr>\n",
       "      <th>2008-01-06</th>\n",
       "      <td>48.22333</td>\n",
       "      <td>34.60000</td>\n",
       "      <td>106.97000</td>\n",
       "      <td>51.76000</td>\n",
       "      <td>76.57000</td>\n",
       "      <td>88.04000</td>\n",
       "      <td>36.99000</td>\n",
       "      <td>46.92000</td>\n",
       "      <td>40.78000</td>\n",
       "      <td>77.50000</td>\n",
       "      <td>...</td>\n",
       "      <td>42.35000</td>\n",
       "      <td>49.85000</td>\n",
       "      <td>54.53667</td>\n",
       "      <td>72.98000</td>\n",
       "      <td>65.77000</td>\n",
       "      <td>141.31000</td>\n",
       "      <td>94.27000</td>\n",
       "      <td>77.55000</td>\n",
       "      <td>101.65000</td>\n",
       "      <td>128.17000</td>\n",
       "    </tr>\n",
       "    <tr>\n",
       "      <th>2008-01-13</th>\n",
       "      <td>48.95000</td>\n",
       "      <td>34.11000</td>\n",
       "      <td>107.26000</td>\n",
       "      <td>51.12000</td>\n",
       "      <td>75.16000</td>\n",
       "      <td>88.57000</td>\n",
       "      <td>36.46000</td>\n",
       "      <td>45.20000</td>\n",
       "      <td>39.98000</td>\n",
       "      <td>75.60000</td>\n",
       "      <td>...</td>\n",
       "      <td>43.43000</td>\n",
       "      <td>49.52333</td>\n",
       "      <td>56.66667</td>\n",
       "      <td>71.24000</td>\n",
       "      <td>65.11000</td>\n",
       "      <td>140.14999</td>\n",
       "      <td>94.20000</td>\n",
       "      <td>77.77000</td>\n",
       "      <td>102.19000</td>\n",
       "      <td>126.19000</td>\n",
       "    </tr>\n",
       "    <tr>\n",
       "      <th>2008-01-20</th>\n",
       "      <td>45.13334</td>\n",
       "      <td>32.23000</td>\n",
       "      <td>108.50000</td>\n",
       "      <td>50.00000</td>\n",
       "      <td>71.71000</td>\n",
       "      <td>89.61000</td>\n",
       "      <td>34.58000</td>\n",
       "      <td>43.24000</td>\n",
       "      <td>37.35000</td>\n",
       "      <td>68.90000</td>\n",
       "      <td>...</td>\n",
       "      <td>40.03000</td>\n",
       "      <td>46.31000</td>\n",
       "      <td>52.31333</td>\n",
       "      <td>67.49000</td>\n",
       "      <td>62.59000</td>\n",
       "      <td>132.06000</td>\n",
       "      <td>95.49000</td>\n",
       "      <td>78.28000</td>\n",
       "      <td>102.65000</td>\n",
       "      <td>120.57000</td>\n",
       "    </tr>\n",
       "    <tr>\n",
       "      <th>2008-01-27</th>\n",
       "      <td>44.45333</td>\n",
       "      <td>30.01000</td>\n",
       "      <td>109.20000</td>\n",
       "      <td>49.88000</td>\n",
       "      <td>70.69000</td>\n",
       "      <td>90.20000</td>\n",
       "      <td>33.09000</td>\n",
       "      <td>43.42000</td>\n",
       "      <td>38.44000</td>\n",
       "      <td>68.70000</td>\n",
       "      <td>...</td>\n",
       "      <td>38.18000</td>\n",
       "      <td>47.21333</td>\n",
       "      <td>49.61000</td>\n",
       "      <td>65.90000</td>\n",
       "      <td>63.02000</td>\n",
       "      <td>133.03999</td>\n",
       "      <td>95.95000</td>\n",
       "      <td>78.65000</td>\n",
       "      <td>103.37000</td>\n",
       "      <td>122.19000</td>\n",
       "    </tr>\n",
       "    <tr>\n",
       "      <th>2008-02-03</th>\n",
       "      <td>46.54000</td>\n",
       "      <td>31.45000</td>\n",
       "      <td>109.08000</td>\n",
       "      <td>51.32000</td>\n",
       "      <td>73.55000</td>\n",
       "      <td>89.94000</td>\n",
       "      <td>34.61000</td>\n",
       "      <td>44.92000</td>\n",
       "      <td>40.92000</td>\n",
       "      <td>71.35000</td>\n",
       "      <td>...</td>\n",
       "      <td>40.24000</td>\n",
       "      <td>48.98333</td>\n",
       "      <td>50.23333</td>\n",
       "      <td>69.04000</td>\n",
       "      <td>65.13000</td>\n",
       "      <td>139.58000</td>\n",
       "      <td>95.23000</td>\n",
       "      <td>78.31000</td>\n",
       "      <td>102.97000</td>\n",
       "      <td>127.43000</td>\n",
       "    </tr>\n",
       "  </tbody>\n",
       "</table>\n",
       "<p>5 rows × 23 columns</p>\n",
       "</div>"
      ],
      "text/plain": [
       "                EEM      EWG       TIP      EWJ      EFA      IEF      EWQ  \\\n",
       "Date                                                                         \n",
       "2008-01-06 48.22333 34.60000 106.97000 51.76000 76.57000 88.04000 36.99000   \n",
       "2008-01-13 48.95000 34.11000 107.26000 51.12000 75.16000 88.57000 36.46000   \n",
       "2008-01-20 45.13334 32.23000 108.50000 50.00000 71.71000 89.61000 34.58000   \n",
       "2008-01-27 44.45333 30.01000 109.20000 49.88000 70.69000 90.20000 33.09000   \n",
       "2008-02-03 46.54000 31.45000 109.08000 51.32000 73.55000 89.94000 34.61000   \n",
       "\n",
       "                EWU      XLB      XLE  ...      XLU      EPP      FXI  \\\n",
       "Date                                   ...                              \n",
       "2008-01-06 46.92000 40.78000 77.50000  ... 42.35000 49.85000 54.53667   \n",
       "2008-01-13 45.20000 39.98000 75.60000  ... 43.43000 49.52333 56.66667   \n",
       "2008-01-20 43.24000 37.35000 68.90000  ... 40.03000 46.31000 52.31333   \n",
       "2008-01-27 43.42000 38.44000 68.70000  ... 38.18000 47.21333 49.61000   \n",
       "2008-02-03 44.92000 40.92000 71.35000  ... 40.24000 48.98333 50.23333   \n",
       "\n",
       "                VGK      VPL       SPY      TLT      BND       CSJ       DIA  \n",
       "Date                                                                          \n",
       "2008-01-06 72.98000 65.77000 141.31000 94.27000 77.55000 101.65000 128.17000  \n",
       "2008-01-13 71.24000 65.11000 140.14999 94.20000 77.77000 102.19000 126.19000  \n",
       "2008-01-20 67.49000 62.59000 132.06000 95.49000 78.28000 102.65000 120.57000  \n",
       "2008-01-27 65.90000 63.02000 133.03999 95.95000 78.65000 103.37000 122.19000  \n",
       "2008-02-03 69.04000 65.13000 139.58000 95.23000 78.31000 102.97000 127.43000  \n",
       "\n",
       "[5 rows x 23 columns]"
      ]
     },
     "execution_count": 6,
     "metadata": {},
     "output_type": "execute_result"
    }
   ],
   "source": [
    "stock_prices_downsampled.head()"
   ]
  },
  {
   "cell_type": "markdown",
   "metadata": {},
   "source": [
    "To calculate the returns, the prices dataframe has to be indexed by date."
   ]
  },
  {
   "cell_type": "code",
   "execution_count": 7,
   "metadata": {},
   "outputs": [
    {
     "data": {
      "text/html": [
       "<div>\n",
       "<style scoped>\n",
       "    .dataframe tbody tr th:only-of-type {\n",
       "        vertical-align: middle;\n",
       "    }\n",
       "\n",
       "    .dataframe tbody tr th {\n",
       "        vertical-align: top;\n",
       "    }\n",
       "\n",
       "    .dataframe thead th {\n",
       "        text-align: right;\n",
       "    }\n",
       "</style>\n",
       "<table border=\"1\" class=\"dataframe\">\n",
       "  <thead>\n",
       "    <tr style=\"text-align: right;\">\n",
       "      <th></th>\n",
       "      <th>EEM</th>\n",
       "      <th>EWG</th>\n",
       "      <th>TIP</th>\n",
       "      <th>EWJ</th>\n",
       "      <th>EFA</th>\n",
       "      <th>IEF</th>\n",
       "      <th>EWQ</th>\n",
       "      <th>EWU</th>\n",
       "      <th>XLB</th>\n",
       "      <th>XLE</th>\n",
       "      <th>...</th>\n",
       "      <th>XLU</th>\n",
       "      <th>EPP</th>\n",
       "      <th>FXI</th>\n",
       "      <th>VGK</th>\n",
       "      <th>VPL</th>\n",
       "      <th>SPY</th>\n",
       "      <th>TLT</th>\n",
       "      <th>BND</th>\n",
       "      <th>CSJ</th>\n",
       "      <th>DIA</th>\n",
       "    </tr>\n",
       "    <tr>\n",
       "      <th>Date</th>\n",
       "      <th></th>\n",
       "      <th></th>\n",
       "      <th></th>\n",
       "      <th></th>\n",
       "      <th></th>\n",
       "      <th></th>\n",
       "      <th></th>\n",
       "      <th></th>\n",
       "      <th></th>\n",
       "      <th></th>\n",
       "      <th></th>\n",
       "      <th></th>\n",
       "      <th></th>\n",
       "      <th></th>\n",
       "      <th></th>\n",
       "      <th></th>\n",
       "      <th></th>\n",
       "      <th></th>\n",
       "      <th></th>\n",
       "      <th></th>\n",
       "      <th></th>\n",
       "    </tr>\n",
       "  </thead>\n",
       "  <tbody>\n",
       "    <tr>\n",
       "      <th>2008-01-13</th>\n",
       "      <td>0.01507</td>\n",
       "      <td>-0.01416</td>\n",
       "      <td>0.00271</td>\n",
       "      <td>-0.01236</td>\n",
       "      <td>-0.01841</td>\n",
       "      <td>0.00602</td>\n",
       "      <td>-0.01433</td>\n",
       "      <td>-0.03666</td>\n",
       "      <td>-0.01962</td>\n",
       "      <td>-0.02452</td>\n",
       "      <td>...</td>\n",
       "      <td>0.02550</td>\n",
       "      <td>-0.00655</td>\n",
       "      <td>0.03906</td>\n",
       "      <td>-0.02384</td>\n",
       "      <td>-0.01003</td>\n",
       "      <td>-0.00821</td>\n",
       "      <td>-0.00074</td>\n",
       "      <td>0.00284</td>\n",
       "      <td>0.00531</td>\n",
       "      <td>-0.01545</td>\n",
       "    </tr>\n",
       "    <tr>\n",
       "      <th>2008-01-20</th>\n",
       "      <td>-0.07797</td>\n",
       "      <td>-0.05512</td>\n",
       "      <td>0.01156</td>\n",
       "      <td>-0.02191</td>\n",
       "      <td>-0.04590</td>\n",
       "      <td>0.01174</td>\n",
       "      <td>-0.05156</td>\n",
       "      <td>-0.04336</td>\n",
       "      <td>-0.06578</td>\n",
       "      <td>-0.08862</td>\n",
       "      <td>...</td>\n",
       "      <td>-0.07829</td>\n",
       "      <td>-0.06489</td>\n",
       "      <td>-0.07682</td>\n",
       "      <td>-0.05264</td>\n",
       "      <td>-0.03870</td>\n",
       "      <td>-0.05772</td>\n",
       "      <td>0.01369</td>\n",
       "      <td>0.00656</td>\n",
       "      <td>0.00450</td>\n",
       "      <td>-0.04454</td>\n",
       "    </tr>\n",
       "    <tr>\n",
       "      <th>2008-01-27</th>\n",
       "      <td>-0.01507</td>\n",
       "      <td>-0.06888</td>\n",
       "      <td>0.00645</td>\n",
       "      <td>-0.00240</td>\n",
       "      <td>-0.01422</td>\n",
       "      <td>0.00658</td>\n",
       "      <td>-0.04309</td>\n",
       "      <td>0.00416</td>\n",
       "      <td>0.02918</td>\n",
       "      <td>-0.00290</td>\n",
       "      <td>...</td>\n",
       "      <td>-0.04622</td>\n",
       "      <td>0.01951</td>\n",
       "      <td>-0.05168</td>\n",
       "      <td>-0.02356</td>\n",
       "      <td>0.00687</td>\n",
       "      <td>0.00742</td>\n",
       "      <td>0.00482</td>\n",
       "      <td>0.00473</td>\n",
       "      <td>0.00701</td>\n",
       "      <td>0.01344</td>\n",
       "    </tr>\n",
       "    <tr>\n",
       "      <th>2008-02-03</th>\n",
       "      <td>0.04694</td>\n",
       "      <td>0.04798</td>\n",
       "      <td>-0.00110</td>\n",
       "      <td>0.02887</td>\n",
       "      <td>0.04046</td>\n",
       "      <td>-0.00288</td>\n",
       "      <td>0.04594</td>\n",
       "      <td>0.03455</td>\n",
       "      <td>0.06452</td>\n",
       "      <td>0.03857</td>\n",
       "      <td>...</td>\n",
       "      <td>0.05395</td>\n",
       "      <td>0.03749</td>\n",
       "      <td>0.01256</td>\n",
       "      <td>0.04765</td>\n",
       "      <td>0.03348</td>\n",
       "      <td>0.04916</td>\n",
       "      <td>-0.00750</td>\n",
       "      <td>-0.00432</td>\n",
       "      <td>-0.00387</td>\n",
       "      <td>0.04288</td>\n",
       "    </tr>\n",
       "    <tr>\n",
       "      <th>2008-02-10</th>\n",
       "      <td>-0.05243</td>\n",
       "      <td>-0.05342</td>\n",
       "      <td>-0.00422</td>\n",
       "      <td>-0.06781</td>\n",
       "      <td>-0.07084</td>\n",
       "      <td>-0.00322</td>\n",
       "      <td>-0.08003</td>\n",
       "      <td>-0.05744</td>\n",
       "      <td>-0.02664</td>\n",
       "      <td>-0.02102</td>\n",
       "      <td>...</td>\n",
       "      <td>-0.03082</td>\n",
       "      <td>-0.06791</td>\n",
       "      <td>-0.06005</td>\n",
       "      <td>-0.06793</td>\n",
       "      <td>-0.06940</td>\n",
       "      <td>-0.04664</td>\n",
       "      <td>-0.01607</td>\n",
       "      <td>-0.00613</td>\n",
       "      <td>0.00214</td>\n",
       "      <td>-0.04457</td>\n",
       "    </tr>\n",
       "  </tbody>\n",
       "</table>\n",
       "<p>5 rows × 23 columns</p>\n",
       "</div>"
      ],
      "text/plain": [
       "                EEM      EWG      TIP      EWJ      EFA      IEF      EWQ  \\\n",
       "Date                                                                        \n",
       "2008-01-13  0.01507 -0.01416  0.00271 -0.01236 -0.01841  0.00602 -0.01433   \n",
       "2008-01-20 -0.07797 -0.05512  0.01156 -0.02191 -0.04590  0.01174 -0.05156   \n",
       "2008-01-27 -0.01507 -0.06888  0.00645 -0.00240 -0.01422  0.00658 -0.04309   \n",
       "2008-02-03  0.04694  0.04798 -0.00110  0.02887  0.04046 -0.00288  0.04594   \n",
       "2008-02-10 -0.05243 -0.05342 -0.00422 -0.06781 -0.07084 -0.00322 -0.08003   \n",
       "\n",
       "                EWU      XLB      XLE  ...      XLU      EPP      FXI  \\\n",
       "Date                                   ...                              \n",
       "2008-01-13 -0.03666 -0.01962 -0.02452  ...  0.02550 -0.00655  0.03906   \n",
       "2008-01-20 -0.04336 -0.06578 -0.08862  ... -0.07829 -0.06489 -0.07682   \n",
       "2008-01-27  0.00416  0.02918 -0.00290  ... -0.04622  0.01951 -0.05168   \n",
       "2008-02-03  0.03455  0.06452  0.03857  ...  0.05395  0.03749  0.01256   \n",
       "2008-02-10 -0.05744 -0.02664 -0.02102  ... -0.03082 -0.06791 -0.06005   \n",
       "\n",
       "                VGK      VPL      SPY      TLT      BND      CSJ      DIA  \n",
       "Date                                                                       \n",
       "2008-01-13 -0.02384 -0.01003 -0.00821 -0.00074  0.00284  0.00531 -0.01545  \n",
       "2008-01-20 -0.05264 -0.03870 -0.05772  0.01369  0.00656  0.00450 -0.04454  \n",
       "2008-01-27 -0.02356  0.00687  0.00742  0.00482  0.00473  0.00701  0.01344  \n",
       "2008-02-03  0.04765  0.03348  0.04916 -0.00750 -0.00432 -0.00387  0.04288  \n",
       "2008-02-10 -0.06793 -0.06940 -0.04664 -0.01607 -0.00613  0.00214 -0.04457  \n",
       "\n",
       "[5 rows x 23 columns]"
      ]
     },
     "execution_count": 7,
     "metadata": {},
     "output_type": "execute_result"
    }
   ],
   "source": [
    "stock_returns = stock_prices_downsampled.pct_change().dropna(how='all')\n",
    "stock_returns.head()\n"
   ]
  },
  {
   "cell_type": "markdown",
   "metadata": {},
   "source": [
    "The pct_change() function calculates the percentage change with the previous day price for each asset. This gives us the returns for that asset for different time periods."
   ]
  },
  {
   "cell_type": "markdown",
   "metadata": {},
   "source": [
    "### (b) Compute the covariance of their returns, V"
   ]
  },
  {
   "cell_type": "code",
   "execution_count": 8,
   "metadata": {},
   "outputs": [],
   "source": [
    "V = stock_returns.cov()"
   ]
  },
  {
   "cell_type": "code",
   "execution_count": 9,
   "metadata": {},
   "outputs": [
    {
     "data": {
      "text/plain": [
       "<Figure size 504x504 with 0 Axes>"
      ]
     },
     "metadata": {},
     "output_type": "display_data"
    },
    {
     "data": {
      "image/png": "[encoded data removed]",
      "text/plain": [
       "<Figure size 720x720 with 4 Axes>"
      ]
     },
     "metadata": {
      "needs_background": "light"
     },
     "output_type": "display_data"
    }
   ],
   "source": [
    "plt.figure(figsize=(7, 7))\n",
    "sns.clustermap(V)\n",
    "plt.show()"
   ]
  },
  {
   "cell_type": "markdown",
   "metadata": {},
   "source": [
    "### (c) Identify the hierarchical clusters among the N strategies"
   ]
  },
  {
   "cell_type": "code",
   "execution_count": 10,
   "metadata": {},
   "outputs": [
    {
     "data": {
      "text/plain": [
       "array([[18.        , 22.        ,  0.10747657,  2.        ],\n",
       "       [ 4.        , 16.        ,  0.10917731,  2.        ],\n",
       "       [ 6.        , 24.        ,  0.12945876,  3.        ],\n",
       "       [ 1.        , 25.        ,  0.16024057,  4.        ],\n",
       "       [ 7.        , 26.        ,  0.16912907,  5.        ],\n",
       "       [ 3.        , 17.        ,  0.177188  ,  2.        ],\n",
       "       [27.        , 28.        ,  0.19544265,  7.        ],\n",
       "       [12.        , 23.        ,  0.20099293,  3.        ],\n",
       "       [14.        , 29.        ,  0.21063886,  8.        ],\n",
       "       [30.        , 31.        ,  0.21901211, 11.        ],\n",
       "       [ 0.        , 32.        ,  0.23045824, 12.        ],\n",
       "       [ 5.        , 19.        ,  0.23713254,  2.        ],\n",
       "       [ 8.        , 33.        ,  0.24357927, 13.        ],\n",
       "       [15.        , 35.        ,  0.24585138, 14.        ],\n",
       "       [10.        , 36.        ,  0.26179476, 15.        ],\n",
       "       [ 9.        , 37.        ,  0.26943771, 16.        ],\n",
       "       [11.        , 20.        ,  0.35366675,  2.        ],\n",
       "       [34.        , 39.        ,  0.37107351,  4.        ],\n",
       "       [ 2.        , 40.        ,  0.39989529,  5.        ],\n",
       "       [21.        , 41.        ,  0.40247425,  6.        ],\n",
       "       [13.        , 38.        ,  0.40663868, 17.        ],\n",
       "       [42.        , 43.        ,  0.58152293, 23.        ]])"
      ]
     },
     "execution_count": 10,
     "metadata": {},
     "output_type": "execute_result"
    }
   ],
   "source": [
    "correlation = stock_returns.corr()\n",
    "distances = np.sqrt((1 - correlation) / 2)\n",
    "clusters = linkage(squareform(distances), method=\"single\")\n",
    "clusters\n"
   ]
  },
  {
   "cell_type": "code",
   "execution_count": 11,
   "metadata": {},
   "outputs": [
    {
     "data": {
      "image/png": "[encoded data removed]",
      "text/plain": [
       "<Figure size 1080x360 with 1 Axes>"
      ]
     },
     "metadata": {
      "needs_background": "light"
     },
     "output_type": "display_data"
    }
   ],
   "source": [
    "columns = stock_returns.columns\n",
    "plt.figure(figsize=(15, 5))\n",
    "dendrogram(clusters, labels=columns)\n",
    "plt.xlabel('Tickers', fontsize=12)\n",
    "plt.ylabel('Cluster Leaves Distances', fontsize=12)\n",
    "plt.title('Hierarchical Clustering Dendrogram', fontsize=12)\n",
    "plt.show()\n"
   ]
  },
  {
   "cell_type": "markdown",
   "metadata": {},
   "source": [
    "### (d) Plot the clustered correlation matrix of the N strategies"
   ]
  },
  {
   "cell_type": "code",
   "execution_count": 12,
   "metadata": {},
   "outputs": [
    {
     "data": {
      "text/plain": [
       "<Figure size 504x504 with 0 Axes>"
      ]
     },
     "metadata": {},
     "output_type": "display_data"
    },
    {
     "data": {
      "image/png": "[encoded data removed]",
      "text/plain": [
       "<Figure size 720x720 with 4 Axes>"
      ]
     },
     "metadata": {
      "needs_background": "light"
     },
     "output_type": "display_data"
    }
   ],
   "source": [
    "plt.figure(figsize=(7, 7))\n",
    "sns.clustermap(stock_returns.corr())\n",
    "plt.show()"
   ]
  },
  {
   "cell_type": "markdown",
   "metadata": {},
   "source": [
    "## Question-16.2\n",
    "\n",
    "### Using the clustered covariance matrix V from exercise 1:"
   ]
  },
  {
   "cell_type": "markdown",
   "metadata": {},
   "source": [
    "Each class in mlfinlab's portfolio_optimisation module has an **allocate()** method which takes the raw stock prices, calculates the returns and finds the optimal weights. There is also an option to resample the prices and so we will simply pass the raw stock prices without any downsampling. For our case, we will specify 'W' for weekly resampling."
   ]
  },
  {
   "cell_type": "markdown",
   "metadata": {},
   "source": [
    "### (a) Compute the HRP allocations"
   ]
  },
  {
   "cell_type": "code",
   "execution_count": 13,
   "metadata": {},
   "outputs": [],
   "source": [
    "hrp = HierarchicalRiskParity()\n",
    "hrp.allocate(asset_prices=stock_prices, resample_by='W')\n",
    "hrp_weights = hrp.weights.sort_values(by=0, ascending=False, axis=1)\n"
   ]
  },
  {
   "cell_type": "code",
   "execution_count": 14,
   "metadata": {},
   "outputs": [
    {
     "data": {
      "text/html": [
       "<div>\n",
       "<style scoped>\n",
       "    .dataframe tbody tr th:only-of-type {\n",
       "        vertical-align: middle;\n",
       "    }\n",
       "\n",
       "    .dataframe tbody tr th {\n",
       "        vertical-align: top;\n",
       "    }\n",
       "\n",
       "    .dataframe thead th {\n",
       "        text-align: right;\n",
       "    }\n",
       "</style>\n",
       "<table border=\"1\" class=\"dataframe\">\n",
       "  <thead>\n",
       "    <tr style=\"text-align: right;\">\n",
       "      <th></th>\n",
       "      <th>BND</th>\n",
       "      <th>CSJ</th>\n",
       "      <th>TIP</th>\n",
       "      <th>IEF</th>\n",
       "      <th>LQD</th>\n",
       "      <th>XLU</th>\n",
       "      <th>TLT</th>\n",
       "      <th>DIA</th>\n",
       "      <th>XLE</th>\n",
       "      <th>XLB</th>\n",
       "      <th>...</th>\n",
       "      <th>EWJ</th>\n",
       "      <th>XLK</th>\n",
       "      <th>VPL</th>\n",
       "      <th>FXI</th>\n",
       "      <th>EEM</th>\n",
       "      <th>EWG</th>\n",
       "      <th>EFA</th>\n",
       "      <th>EWU</th>\n",
       "      <th>EPP</th>\n",
       "      <th>EWQ</th>\n",
       "    </tr>\n",
       "  </thead>\n",
       "  <tbody>\n",
       "    <tr>\n",
       "      <th>0</th>\n",
       "      <td>0.36356</td>\n",
       "      <td>0.27426</td>\n",
       "      <td>0.11938</td>\n",
       "      <td>0.08572</td>\n",
       "      <td>0.04817</td>\n",
       "      <td>0.02016</td>\n",
       "      <td>0.01346</td>\n",
       "      <td>0.00848</td>\n",
       "      <td>0.00792</td>\n",
       "      <td>0.00635</td>\n",
       "      <td>...</td>\n",
       "      <td>0.00456</td>\n",
       "      <td>0.00455</td>\n",
       "      <td>0.00442</td>\n",
       "      <td>0.00440</td>\n",
       "      <td>0.00436</td>\n",
       "      <td>0.00394</td>\n",
       "      <td>0.00316</td>\n",
       "      <td>0.00261</td>\n",
       "      <td>0.00228</td>\n",
       "      <td>0.00218</td>\n",
       "    </tr>\n",
       "  </tbody>\n",
       "</table>\n",
       "<p>1 rows × 23 columns</p>\n",
       "</div>"
      ],
      "text/plain": [
       "      BND     CSJ     TIP     IEF     LQD     XLU     TLT     DIA     XLE  \\\n",
       "0 0.36356 0.27426 0.11938 0.08572 0.04817 0.02016 0.01346 0.00848 0.00792   \n",
       "\n",
       "      XLB  ...     EWJ     XLK     VPL     FXI     EEM     EWG     EFA  \\\n",
       "0 0.00635  ... 0.00456 0.00455 0.00442 0.00440 0.00436 0.00394 0.00316   \n",
       "\n",
       "      EWU     EPP     EWQ  \n",
       "0 0.00261 0.00228 0.00218  \n",
       "\n",
       "[1 rows x 23 columns]"
      ]
     },
     "execution_count": 14,
     "metadata": {},
     "output_type": "execute_result"
    }
   ],
   "source": [
    "hrp_weights"
   ]
  },
  {
   "cell_type": "code",
   "execution_count": 15,
   "metadata": {},
   "outputs": [
    {
     "data": {
      "image/png": "[encoded data removed]",
      "text/plain": [
       "<Figure size 1080x360 with 1 Axes>"
      ]
     },
     "metadata": {
      "needs_background": "light"
     },
     "output_type": "display_data"
    }
   ],
   "source": [
    "plt.figure(figsize=(15, 5))\n",
    "plt.bar(hrp_weights.columns, hrp_weights.values[0])\n",
    "plt.xlabel('Tickers', fontsize=12)\n",
    "plt.ylabel('Weights', fontsize=12)\n",
    "plt.title('HRP Portfolio Weights', fontsize=12)\n",
    "plt.show()\n"
   ]
  },
  {
   "cell_type": "markdown",
   "metadata": {},
   "source": [
    "### (b) Compute the CLA allocations"
   ]
  },
  {
   "cell_type": "markdown",
   "metadata": {},
   "source": [
    "We will calculate the minimum variance (min_volatility) solution using CLA."
   ]
  },
  {
   "cell_type": "code",
   "execution_count": 16,
   "metadata": {},
   "outputs": [],
   "source": [
    "cla = CLA()\n",
    "cla.allocate(asset_prices=stock_prices, resample_by='W', solution='min_volatility')\n",
    "cla_weights = cla.weights.sort_values(by=0, ascending=False, axis=1)\n"
   ]
  },
  {
   "cell_type": "code",
   "execution_count": 17,
   "metadata": {},
   "outputs": [
    {
     "data": {
      "text/html": [
       "<div>\n",
       "<style scoped>\n",
       "    .dataframe tbody tr th:only-of-type {\n",
       "        vertical-align: middle;\n",
       "    }\n",
       "\n",
       "    .dataframe tbody tr th {\n",
       "        vertical-align: top;\n",
       "    }\n",
       "\n",
       "    .dataframe thead th {\n",
       "        text-align: right;\n",
       "    }\n",
       "</style>\n",
       "<table border=\"1\" class=\"dataframe\">\n",
       "  <thead>\n",
       "    <tr style=\"text-align: right;\">\n",
       "      <th></th>\n",
       "      <th>CSJ</th>\n",
       "      <th>EWQ</th>\n",
       "      <th>BND</th>\n",
       "      <th>EEM</th>\n",
       "      <th>XLK</th>\n",
       "      <th>TLT</th>\n",
       "      <th>SPY</th>\n",
       "      <th>VPL</th>\n",
       "      <th>VGK</th>\n",
       "      <th>FXI</th>\n",
       "      <th>...</th>\n",
       "      <th>EWG</th>\n",
       "      <th>XLF</th>\n",
       "      <th>XLE</th>\n",
       "      <th>XLB</th>\n",
       "      <th>EWU</th>\n",
       "      <th>IEF</th>\n",
       "      <th>EFA</th>\n",
       "      <th>EWJ</th>\n",
       "      <th>TIP</th>\n",
       "      <th>DIA</th>\n",
       "    </tr>\n",
       "  </thead>\n",
       "  <tbody>\n",
       "    <tr>\n",
       "      <th>0</th>\n",
       "      <td>0.72049</td>\n",
       "      <td>0.15989</td>\n",
       "      <td>0.11962</td>\n",
       "      <td>0.00000</td>\n",
       "      <td>0.00000</td>\n",
       "      <td>0.00000</td>\n",
       "      <td>0.00000</td>\n",
       "      <td>0.00000</td>\n",
       "      <td>0.00000</td>\n",
       "      <td>0.00000</td>\n",
       "      <td>...</td>\n",
       "      <td>0.00000</td>\n",
       "      <td>0.00000</td>\n",
       "      <td>0.00000</td>\n",
       "      <td>0.00000</td>\n",
       "      <td>0.00000</td>\n",
       "      <td>0.00000</td>\n",
       "      <td>0.00000</td>\n",
       "      <td>0.00000</td>\n",
       "      <td>0.00000</td>\n",
       "      <td>0.00000</td>\n",
       "    </tr>\n",
       "  </tbody>\n",
       "</table>\n",
       "<p>1 rows × 23 columns</p>\n",
       "</div>"
      ],
      "text/plain": [
       "      CSJ     EWQ     BND     EEM     XLK     TLT     SPY     VPL     VGK  \\\n",
       "0 0.72049 0.15989 0.11962 0.00000 0.00000 0.00000 0.00000 0.00000 0.00000   \n",
       "\n",
       "      FXI  ...     EWG     XLF     XLE     XLB     EWU     IEF     EFA  \\\n",
       "0 0.00000  ... 0.00000 0.00000 0.00000 0.00000 0.00000 0.00000 0.00000   \n",
       "\n",
       "      EWJ     TIP     DIA  \n",
       "0 0.00000 0.00000 0.00000  \n",
       "\n",
       "[1 rows x 23 columns]"
      ]
     },
     "execution_count": 17,
     "metadata": {},
     "output_type": "execute_result"
    }
   ],
   "source": [
    "cla_weights"
   ]
  },
  {
   "cell_type": "code",
   "execution_count": 18,
   "metadata": {},
   "outputs": [
    {
     "data": {
      "image/png": "[encoded data removed]",
      "text/plain": [
       "<Figure size 1080x360 with 1 Axes>"
      ]
     },
     "metadata": {
      "needs_background": "light"
     },
     "output_type": "display_data"
    }
   ],
   "source": [
    "plt.figure(figsize=(15, 5))\n",
    "plt.bar(cla_weights.columns, cla_weights.values[0])\n",
    "plt.xlabel('Tickers', fontsize=12)\n",
    "plt.ylabel('Weights', fontsize=12)\n",
    "plt.title('CLA Portfolio Weights (Minimum Variance Solution)', fontsize=12)\n",
    "plt.show()\n"
   ]
  },
  {
   "cell_type": "markdown",
   "metadata": {},
   "source": [
    "### Compute the IVP allocations"
   ]
  },
  {
   "cell_type": "code",
   "execution_count": 19,
   "metadata": {},
   "outputs": [],
   "source": [
    "mvo = MeanVarianceOptimisation()\n",
    "mvo.allocate(asset_prices=stock_prices, solution='inverse_variance', resample_by='W')\n",
    "ivp_weights = mvo.weights.sort_values(by=0, ascending=False, axis=1)\n"
   ]
  },
  {
   "cell_type": "code",
   "execution_count": 20,
   "metadata": {},
   "outputs": [
    {
     "data": {
      "text/html": [
       "<div>\n",
       "<style scoped>\n",
       "    .dataframe tbody tr th:only-of-type {\n",
       "        vertical-align: middle;\n",
       "    }\n",
       "\n",
       "    .dataframe tbody tr th {\n",
       "        vertical-align: top;\n",
       "    }\n",
       "\n",
       "    .dataframe thead th {\n",
       "        text-align: right;\n",
       "    }\n",
       "</style>\n",
       "<table border=\"1\" class=\"dataframe\">\n",
       "  <thead>\n",
       "    <tr style=\"text-align: right;\">\n",
       "      <th></th>\n",
       "      <th>CSJ</th>\n",
       "      <th>BND</th>\n",
       "      <th>TIP</th>\n",
       "      <th>IEF</th>\n",
       "      <th>LQD</th>\n",
       "      <th>TLT</th>\n",
       "      <th>XLU</th>\n",
       "      <th>DIA</th>\n",
       "      <th>SPY</th>\n",
       "      <th>EWJ</th>\n",
       "      <th>...</th>\n",
       "      <th>EWU</th>\n",
       "      <th>VGK</th>\n",
       "      <th>XLB</th>\n",
       "      <th>EPP</th>\n",
       "      <th>EWQ</th>\n",
       "      <th>XLE</th>\n",
       "      <th>EWG</th>\n",
       "      <th>EEM</th>\n",
       "      <th>FXI</th>\n",
       "      <th>XLF</th>\n",
       "    </tr>\n",
       "  </thead>\n",
       "  <tbody>\n",
       "    <tr>\n",
       "      <th>0</th>\n",
       "      <td>0.26693</td>\n",
       "      <td>0.21401</td>\n",
       "      <td>0.11619</td>\n",
       "      <td>0.11174</td>\n",
       "      <td>0.08931</td>\n",
       "      <td>0.02496</td>\n",
       "      <td>0.01838</td>\n",
       "      <td>0.01655</td>\n",
       "      <td>0.01428</td>\n",
       "      <td>0.01420</td>\n",
       "      <td>...</td>\n",
       "      <td>0.00947</td>\n",
       "      <td>0.00885</td>\n",
       "      <td>0.00875</td>\n",
       "      <td>0.00828</td>\n",
       "      <td>0.00751</td>\n",
       "      <td>0.00722</td>\n",
       "      <td>0.00698</td>\n",
       "      <td>0.00694</td>\n",
       "      <td>0.00607</td>\n",
       "      <td>0.00485</td>\n",
       "    </tr>\n",
       "  </tbody>\n",
       "</table>\n",
       "<p>1 rows × 23 columns</p>\n",
       "</div>"
      ],
      "text/plain": [
       "      CSJ     BND     TIP     IEF     LQD     TLT     XLU     DIA     SPY  \\\n",
       "0 0.26693 0.21401 0.11619 0.11174 0.08931 0.02496 0.01838 0.01655 0.01428   \n",
       "\n",
       "      EWJ  ...     EWU     VGK     XLB     EPP     EWQ     XLE     EWG  \\\n",
       "0 0.01420  ... 0.00947 0.00885 0.00875 0.00828 0.00751 0.00722 0.00698   \n",
       "\n",
       "      EEM     FXI     XLF  \n",
       "0 0.00694 0.00607 0.00485  \n",
       "\n",
       "[1 rows x 23 columns]"
      ]
     },
     "execution_count": 20,
     "metadata": {},
     "output_type": "execute_result"
    }
   ],
   "source": [
    "ivp_weights"
   ]
  },
  {
   "cell_type": "code",
   "execution_count": 21,
   "metadata": {},
   "outputs": [
    {
     "data": {
      "image/png": "[encoded data removed]",
      "text/plain": [
       "<Figure size 1080x360 with 1 Axes>"
      ]
     },
     "metadata": {
      "needs_background": "light"
     },
     "output_type": "display_data"
    }
   ],
   "source": [
    "plt.figure(figsize=(15, 5))\n",
    "plt.bar(ivp_weights.columns, ivp_weights.values[0])\n",
    "plt.xlabel('Tickers', fontsize=12)\n",
    "plt.ylabel('Weights', fontsize=12)\n",
    "plt.title('Inverse Variance Portfolio Weights', fontsize=12)\n",
    "plt.show()\n"
   ]
  },
  {
   "cell_type": "markdown",
   "metadata": {},
   "source": [
    "We observe a clear difference in the allocation strategies of the 3 algorithms:\n",
    "\n",
    "* CLA concentrates literally 99% of the holdings on the top-3 investments and assigns zero weight to all other assets. The reason behind CLA's extreme concentration is its goal of minimising the variance of the portfolio. This makes it very conservative in allocating weights and it places emphasis on only a few of the assets.\n",
    "\n",
    "* Inverse variance (IVP) has assigned non-zero weights to all the assets and except the top 5 holdings, its weight allocations are distributed almost uniformly.\n",
    "\n",
    "* HRP, on the other hand, tries to find a middle ground between CLA and IVP allocations. It places more emphasis on the top 5 holdings/assets just like IVP but assigns lesser values to the rest of the weights but not a uniform allocation.\n",
    "\n",
    "* Another important fact is that both the CLA and HRP weights have very little difference in their standard deviations, $\\sigma^{2}_{HRP} = 0.12$ and $\\sigma^{2}_{CLA} = 0.15$. However, CLA has discarded half of the investment universe in favor of a minor risk reduction while HRP did not. Since, CLA has placed its emphasis on only a few of the assets, it is prone to much more negative impact by random shocks than HRP - something which we will see in the next set of questions."
   ]
  },
  {
   "cell_type": "markdown",
   "metadata": {},
   "source": [
    "## Question-16.3"
   ]
  },
  {
   "cell_type": "markdown",
   "metadata": {},
   "source": [
    "### (a) Perform a spectral decomposition: VW=W$\\wedge$"
   ]
  },
  {
   "cell_type": "markdown",
   "metadata": {},
   "source": [
    "In the spectral decomposition above, **W refers to the eigenvectors matrix while $\\wedge$ denotes the eigenvalues matrix - a diagonal matrix with eigenvalues along the diagonal**"
   ]
  },
  {
   "cell_type": "code",
   "execution_count": 22,
   "metadata": {},
   "outputs": [],
   "source": [
    "N = stock_prices_downsampled.shape[1]\n"
   ]
  },
  {
   "cell_type": "code",
   "execution_count": 23,
   "metadata": {},
   "outputs": [],
   "source": [
    "eigenvalues, eigenvectors = np.linalg.eig(V)\n",
    "eigenvalues_matrix = np.identity(n=N) * eigenvalues\n"
   ]
  },
  {
   "cell_type": "markdown",
   "metadata": {},
   "source": [
    "### (b) Form an array $\\epsilon$ by drawing N random numbers from U[0, 1] distribution"
   ]
  },
  {
   "cell_type": "code",
   "execution_count": 24,
   "metadata": {},
   "outputs": [
    {
     "data": {
      "text/plain": [
       "array([0.37454012, 0.95071431, 0.73199394, 0.59865848, 0.15601864,\n",
       "       0.15599452, 0.05808361, 0.86617615, 0.60111501, 0.70807258,\n",
       "       0.02058449, 0.96990985, 0.83244264, 0.21233911, 0.18182497,\n",
       "       0.18340451, 0.30424224, 0.52475643, 0.43194502, 0.29122914,\n",
       "       0.61185289, 0.13949386, 0.29214465])"
      ]
     },
     "execution_count": 24,
     "metadata": {},
     "output_type": "execute_result"
    }
   ],
   "source": [
    "epsilon = np.random.uniform(low=0, high=1, size=N)\n",
    "epsilon\n"
   ]
  },
  {
   "cell_type": "markdown",
   "metadata": {},
   "source": [
    "### (c) Form an NxN matrix $\\wedge^{'}$, where $\\wedge^{'}_{n,n}=N\\epsilon_{n}\\wedge_{n,n}(\\sum\\epsilon_{n})^{-1}, n=1....N$"
   ]
  },
  {
   "cell_type": "code",
   "execution_count": 25,
   "metadata": {},
   "outputs": [],
   "source": [
    "eigenvalues_matrix_modified = (N * epsilon * eigenvalues_matrix) / np.sum(epsilon)\n"
   ]
  },
  {
   "cell_type": "markdown",
   "metadata": {},
   "source": [
    "### (d) Compute $V^{'}=W\\wedge^{'}W^{-1}$"
   ]
  },
  {
   "cell_type": "code",
   "execution_count": 26,
   "metadata": {},
   "outputs": [],
   "source": [
    "V_modified = eigenvectors @ eigenvalues_matrix_modified @ np.linalg.inv(eigenvectors)\n",
    "V_modified = pd.DataFrame(V_modified)\n",
    "V_modified.columns = V.columns\n",
    "V_modified.index = V.index\n"
   ]
  },
  {
   "cell_type": "code",
   "execution_count": 27,
   "metadata": {},
   "outputs": [
    {
     "data": {
      "image/png": "[encoded data removed]",
      "text/plain": [
       "<Figure size 720x720 with 4 Axes>"
      ]
     },
     "metadata": {
      "needs_background": "light"
     },
     "output_type": "display_data"
    }
   ],
   "source": [
    "sns.clustermap(V)\n",
    "plt.show()"
   ]
  },
  {
   "cell_type": "code",
   "execution_count": 28,
   "metadata": {},
   "outputs": [
    {
     "data": {
      "image/png": "[encoded data removed]",
      "text/plain": [
       "<Figure size 720x720 with 4 Axes>"
      ]
     },
     "metadata": {
      "needs_background": "light"
     },
     "output_type": "display_data"
    }
   ],
   "source": [
    "sns.clustermap(V_modified)\n",
    "plt.show()"
   ]
  },
  {
   "cell_type": "markdown",
   "metadata": {},
   "source": [
    "### (e) Repeat exercise 2, this time using $V^{'}$ as covariance matrix. What allocation method has been most impacted by the re-scaling of spectral variances?"
   ]
  },
  {
   "cell_type": "markdown",
   "metadata": {},
   "source": [
    "In each of the 3 sections below, we use modified versions of the original algorithms implemented in the package. The only change is that wherever **covariance matrix is calculated from the data using asset_returns.cov(), we will use V_modified.** Everything else remains the same. These modified code files are present in the same folder with the following names - **hrp_modified.py, cla_modified.py, mvo_modified.py**. Except the changed function, the classes inherit all the other functions as it is from the respective parent classes."
   ]
  },
  {
   "cell_type": "markdown",
   "metadata": {},
   "source": [
    "### (i) HRP"
   ]
  },
  {
   "cell_type": "code",
   "execution_count": 29,
   "metadata": {},
   "outputs": [],
   "source": [
    "hrp_modified = HierarchicalRiskParityModified()\n",
    "hrp_modified.allocate(asset_prices=stock_prices,\n",
    "                      resample_by='W',\n",
    "                      covariance=V_modified)\n",
    "hrp_modified_weights = hrp_modified.weights.sort_values(by=0, ascending=False, axis=1)\n"
   ]
  },
  {
   "cell_type": "code",
   "execution_count": 49,
   "metadata": {
    "scrolled": false
   },
   "outputs": [
    {
     "data": {
      "image/png": "[encoded data removed]",
      "text/plain": [
       "<Figure size 1080x576 with 1 Axes>"
      ]
     },
     "metadata": {
      "needs_background": "light"
     },
     "output_type": "display_data"
    }
   ],
   "source": [
    "fig = plt.figure(figsize=(15, 8))\n",
    "ax = fig.add_subplot(111)\n",
    "index = np.arange(N)\n",
    "width = 0.35\n",
    "ax.bar(index, hrp_weights[hrp_modified_weights.columns].values[0], width, label=\"Normal Covariance Matrix\")\n",
    "ax.bar(index + width, hrp_modified_weights.values[0], width, label=\"Rescaled Covariance Matrix\")\n",
    "ax.set_xticks(index + width / 2)\n",
    "ax.set_xticklabels(hrp_modified_weights.columns)\n",
    "plt.xlabel('Tickers', fontsize=12)\n",
    "plt.ylabel('Weights', fontsize=12)\n",
    "plt.title('Comparision of HRP Weights after Rescaling Covariances', fontsize=12)\n",
    "plt.legend(fontsize='large')\n",
    "plt.show()\n"
   ]
  },
  {
   "cell_type": "markdown",
   "metadata": {},
   "source": [
    "### (ii) CLA"
   ]
  },
  {
   "cell_type": "code",
   "execution_count": 33,
   "metadata": {},
   "outputs": [],
   "source": [
    "cla_modified = CLAModified()\n",
    "cla_modified.allocate(asset_prices=stock_prices_downsampled,\n",
    "                      solution='cla_turning_points',\n",
    "                      covariance=V_modified)\n"
   ]
  },
  {
   "cell_type": "code",
   "execution_count": 34,
   "metadata": {},
   "outputs": [],
   "source": [
    "cla_modified_weights = cla_modified.weights.mean(axis=0).reset_index()\n",
    "cla_modified_weights.index = cla_modified_weights['index']\n",
    "cla_modified_weights = cla_modified_weights.drop('index', 1)\n",
    "cla_modified_weights = cla_modified_weights.T\n",
    "cla_modified_weights = cla_modified_weights.sort_values(by=0, ascending=False, axis=1)\n"
   ]
  },
  {
   "cell_type": "code",
   "execution_count": 51,
   "metadata": {},
   "outputs": [
    {
     "data": {
      "image/png": "[encoded data removed]",
      "text/plain": [
       "<Figure size 1080x576 with 1 Axes>"
      ]
     },
     "metadata": {
      "needs_background": "light"
     },
     "output_type": "display_data"
    }
   ],
   "source": [
    "fig = plt.figure(figsize=(15, 8))\n",
    "ax = fig.add_subplot(111)\n",
    "index = np.arange(N)\n",
    "width = 0.35\n",
    "ax.bar(index, cla_weights[cla_modified_weights.columns].values[0], width, label='Normal Covariance Matrix')\n",
    "ax.bar(index + width, cla_modified_weights.values[0], width, label=\"Rescaled Covariance Matrix\")\n",
    "ax.set_xticks(index + width / 2)\n",
    "ax.set_xticklabels(cla_modified_weights.columns)\n",
    "plt.xlabel('Tickers', fontsize=12)\n",
    "plt.ylabel('Weights', fontsize=12)\n",
    "plt.title('Comparision of CLA Weights after Rescaling Covariances', fontsize=12)\n",
    "plt.legend(fontsize='large')\n",
    "plt.show()\n"
   ]
  },
  {
   "cell_type": "markdown",
   "metadata": {},
   "source": [
    "### (iii) IVP"
   ]
  },
  {
   "cell_type": "code",
   "execution_count": 54,
   "metadata": {},
   "outputs": [],
   "source": [
    "mvo_modified = MeanVarianceOptimisationModified()\n",
    "mvo_modified.allocate(asset_prices=stock_prices,\n",
    "                      covariance=V_modified,\n",
    "                      solution='inverse_variance',\n",
    "                      resample_by='W')\n",
    "ivp_modified_weights = mvo_modified.weights.sort_values(by=0, ascending=False, axis=1)\n"
   ]
  },
  {
   "cell_type": "code",
   "execution_count": 55,
   "metadata": {},
   "outputs": [
    {
     "data": {
      "image/png": "[encoded data removed]",
      "text/plain": [
       "<Figure size 1080x576 with 1 Axes>"
      ]
     },
     "metadata": {
      "needs_background": "light"
     },
     "output_type": "display_data"
    }
   ],
   "source": [
    "fig = plt.figure(figsize=(15, 8))\n",
    "ax = fig.add_subplot(111)\n",
    "index = np.arange(N)\n",
    "width = 0.35\n",
    "ax.bar(index, ivp_weights[ivp_modified_weights.columns].values[0], width, label='Normal Covariance Matrix')\n",
    "ax.bar(index + width, ivp_modified_weights.values[0], width, label=\"Rescaled Covariance Matrix\")\n",
    "ax.set_xticks(index + width / 2)\n",
    "ax.set_xticklabels(ivp_modified_weights.columns)\n",
    "plt.xlabel('Tickers', fontsize=12)\n",
    "plt.ylabel('Weights', fontsize=12)\n",
    "plt.title('Comparision of IVP Weights after Rescaling Covariances', fontsize=12)\n",
    "plt.legend(fontsize='large')\n",
    "plt.show()\n"
   ]
  },
  {
   "cell_type": "markdown",
   "metadata": {},
   "source": [
    "We observe that rescaling of the variances has led to a rebalancing of the portfolios for all the three strategies. Lets see the differences in the rebalancing:\n",
    "\n",
    "* HRP tries to rebalance the reduction in allocation of one affected investment across the other correlated investments in the cluster which were unaffected by the random shock. So, while allocation for BND goes down, the allocations for CSJ, IEF and LQD go up (These are in the same cluster as BND). At the same time, HRP also increases the allocations for other uncorrelated investments with lower variances.\n",
    "\n",
    "\n",
    "* CLA behaves very erratically to the rescaling. It has actually increased the allocations for BND while HRP reduced it. Due to such an erratic behaviour, CLA tends to be impacted more negatively than HRP when there are such random idiosyncratic shocks.\n",
    "\n",
    "\n",
    "* IVP tends to reduce the allocations for the affected investments and spread their change over the other investments which were unaffected. From the above graph, we see that it reduced allocations for CSJ and BND and then increased the allocations for the other investments irrespective of their correlations. This is because IVP only looks at the individual variances and does not take into account the covariances between 2 investments. This also makes it prone to negative impacts during such idiosyncratic shocks."
   ]
  },
  {
   "cell_type": "markdown",
   "metadata": {},
   "source": [
    "## Conclusion"
   ]
  },
  {
   "cell_type": "markdown",
   "metadata": {},
   "source": [
    "We saw the Hierarchical Risk Parity algorithm in action on a real data of stock prices and also compared it to other classic algorithms like CLA and IVP. Some key takeaways from the exercise were:\n",
    "\n",
    "* The HRP algorithm tries to allocate its weights in a stable manner - as a middle ground between CLA and IVP. \n",
    "\n",
    "\n",
    "* CLA tries to adopt a very conservative, risk-reduction approach and allocates its weights to the top few holdings while giving 0 importance to the other assets in the portfolio. This makes it very sensitive to random industry shocks. **Note that we are using CLA to find the minimum variance solution and these observations are based on that**\n",
    "\n",
    "\n",
    "* IVP tries to allocate uniformly and it does not take into account the covariance and correlations between investments. It focuses on the invidivual asset variances.\n",
    "\n",
    "\n",
    "* The last question actually confirms the previous points. Rescaling of covariance simulates an idiosyncratic shock in the industry where the covariances between the assets undergo a change which leads to a rebalancing of the portfolios across the 3 different strategies.\n",
    "    * CLA behaves very erratically and becomes prone to much negative impacts during such scenarios.\n",
    "    * HRP tries to rebalance in a stable manner taking into account the investments within the clusters of affected investments and also other uncorrelated investments outside the cluster.\n",
    "    * IVP ignores the covariances and focuses on the individual variances. It spreads the allocations across unaffected investments uniformly irrespective of their correlations.\n",
    "    \n",
    "* Another major difference between CLA and HRP is that the former involves calculating inverse of the covariance matrix while the latter does not. Hence, even small changes in the covariances (e.g. rescaling them) will have a significatn impact on CLA allocations as compared to HRP."
   ]
  }
 ],
 "metadata": {
  "celltoolbar": "Raw Cell Format",
  "kernelspec": {
   "display_name": "Python 3",
   "language": "python",
   "name": "python3"
  },
  "language_info": {
   "codemirror_mode": {
    "name": "ipython",
    "version": 3
   },
   "file_extension": ".py",
   "mimetype": "text/x-python",
   "name": "python",
   "nbconvert_exporter": "python",
   "pygments_lexer": "ipython3",
   "version": "3.6.1"
  }
 },
 "nbformat": 4,
 "nbformat_minor": 2
}
