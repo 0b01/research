{
 "cells": [
  {
   "cell_type": "markdown",
   "metadata": {},
   "source": [
    "* By: Illya Barziy\n",
    "* Email: illyabarziy@gmail.com\n",
    "* Reference: __Some contributions to the clustering of financial time series and applications to credit default swaps__ _by_ Gautier Marti"
   ]
  },
  {
   "cell_type": "markdown",
   "metadata": {},
   "source": [
    "## GPR and GNPR distances"
   ]
  },
  {
   "cell_type": "markdown",
   "metadata": {},
   "source": [
    "This description is based on the paper by _Gautier Marti_ __“Some contributions to the clustering of financial time series and applications to credit default swaps”__  [available here](https://www.researchgate.net/publication/322714557)."
   ]
  },
  {
   "cell_type": "markdown",
   "metadata": {},
   "source": [
    "### Classification of distances"
   ]
  },
  {
   "cell_type": "markdown",
   "metadata": {},
   "source": [
    "According to _Gautier Marti_:\n",
    "\n",
    "\"Many statistical distances exist to measure the dissimilarity of two random variables, and therefore two i.i.d. random processes. Such distances can be roughly classified in two\n",
    "families:\n",
    "\n",
    "1. distributional distances, ... which focus on dissimilarity between probability distributions and quantify divergences in marginal behaviours,\n",
    "\n",
    "2. dependence distances, such as the distance correlation or copula-based kernel dependency measures ..., which focus on the joint behaviours of random variables, generally ignoring their distribution properties.\n",
    "\n",
    "However, we may want to be able to discriminate random variables both on distribution and dependence. This can be motivated, for instance, from the study of financial assets returns: are two perfectly correlated random variables (assets returns), but one being normally distributed and the other one following a heavy-tailed distribution, similar?\n",
    "\n",
    "From risk perspective, the answer is no ..., hence the propounded distance of this article\"."
   ]
  },
  {
   "cell_type": "markdown",
   "metadata": {},
   "source": [
    "### GPR distance"
   ]
  },
  {
   "cell_type": "markdown",
   "metadata": {},
   "source": [
    "From __“Some contributions to the clustering of financial time series and applications to credit default swaps”__ :\n",
    "\n",
    "__Definition:__ (Distance $d_{\\Theta}$ between two random variables). Let $\\theta \\in [0, 1]$. Let $(X, Y) \\in \\nu^{2}$ , where $\\nu$ is the space of all continuous\n",
    "real-valued random variables. Let $G = (G_{X}, G_{Y})$, where $G_{X}$ and $G_{Y}$ are respectively $X$ and $Y$ marginal cdfs. We define the following distance\n",
    "\n",
    "$$d_{\\Theta}^{2}(X, Y) = \\Theta d_{1}^{2}(G_{X}(X), G_{Y}(Y)) + (1 - \\Theta) d_{0}^{2}(G_{X}, G_{Y})$$\n",
    "\n",
    "where\n",
    "\n",
    "$$d_{1}^{2}(G_{X}(X), G_{Y}(Y)) = 3 \\mathbb{E}[|G_{X}(X) - G_{Y}(Y)|^{2}]$$\n",
    "\n",
    "and\n",
    "\n",
    "$$d_{0}^{2}(G_{X}, G_{Y}) = \\frac{1}{2} \\int_{R} (\\sqrt{\\frac{d G_{X}}{d \\lambda}} - \\sqrt{\\frac{d G_{Y}}{d \\lambda}})^{2} d \\lambda$$"
   ]
  },
  {
   "cell_type": "markdown",
   "metadata": {},
   "source": [
    "__Example:__ (Distance $d_{\\Theta}$ between two Gaussians). Let $(X, Y)$ be a bivariate Gaussian vector, with $X \\sim \\mathcal{N}(\\mu_{X}, \\sigma_{X}^{2})$,\n",
    "$Y \\sim \\mathcal{N}(\\mu_{Y}, \\sigma_{Y}^{2})$ and $\\rho (X,Y)$. We obtain,\n",
    "\n",
    "$$d_{\\Theta}^{2}(X, Y) = \\Theta \\frac{1 - \\rho_{S}}{2} + (1 - \\Theta) (1 - \\sqrt{\\frac{2 \\sigma_{X} \\sigma_{Y}}{\\sigma_{X}^{2} + \\sigma_{Y}^{2}}} e^{ - \\frac{1}{4} \\frac{(\\mu_{X} - \\mu_{Y})^{2}}{\\sigma_{X}^{2} + \\sigma_{Y}^{2}}})$$\n",
    "\n",
    "The use of this distance is referenced as the generic parametric representation (GPR) approach.\n",
    "\n",
    "From the paper:\n",
    "\n",
    "\"GPR distance is a fast and good proxy for distance $d_{\\Theta}$ when the first two moments $\\mu$ and ${\\sigma}$ predominate. Nonetheless, for datasets which contain heavy-tailed distributions, GPR fails to capture this information\"."
   ]
  },
  {
   "cell_type": "markdown",
   "metadata": {},
   "source": [
    "__Property:__ Let $\\Theta \\in [0,1]$. The distance $d_{\\Theta}$verifies $0 \\le d_{\\Theta} \\le 1$.\n",
    "\n",
    "__Property:__ For $0 < \\Theta < 1$, $d_{\\Theta}$ is a metric.\n",
    "\n",
    "__Property:__ [Diffeomorphism](https://en.wikipedia.org/wiki/Diffeomorphism) invariance. Let $h: \\nu \\rightarrow \\nu$ be a diffeomorphism. Let $(X, Y) \\in \\nu^{2}$. Distance $d_{\\Theta}$ is invariant under diffeomorphism, i.e.\n",
    "\n",
    "$$d_{\\Theta}(h(X), h(Y)) = d_{\\Theta}(X, Y)$$"
   ]
  },
  {
   "cell_type": "markdown",
   "metadata": {},
   "source": [
    "### GNPR distance"
   ]
  },
  {
   "cell_type": "markdown",
   "metadata": {},
   "source": [
    "According to _Marti_:\n",
    "\n",
    "\"To apply the propounded distance $d_{\\Theta}$ on sampled data without parametric assumptions, we have to define its statistical estimate $\\tilde{d}_{\\Theta}$ working on realizations of the i.i.d. random variables.\n",
    "\n",
    "Distance $d_{1}$ working with continuous uniform distributions can be approximated by normalized rank statistics yielding to discrete uniform distributions.\n",
    "\n",
    "Distance $d_{0}$ working with densities can be approximated by using its discrete form working on histogram density estimates\"."
   ]
  },
  {
   "cell_type": "markdown",
   "metadata": {},
   "source": [
    "__Definition:__ (Empirical distance) Let $(X^{t})_{t=1}^{T}$ and $(Y^{t})_{t=1}^{T}$ be $T$ realizations of real-valued random variables $X, Y \\in \\nu$ respectively. An empirical distance between realizations of random variables can be defined by\n",
    "\n",
    "$$\\tilde{d}_{\\Theta}^{2}((X^{t})_{t=1}^{T}, (Y^{t})_{t=1}^{T}) \\stackrel{\\text{a.s.}}{=} \\Theta \\tilde{d}_{1}^{2} + (1 - \\Theta) \\tilde{d}_{0}^{2}$$\n",
    "\n",
    "where\n",
    "\n",
    "$$\\tilde{d}_{1}^{2} = \\frac{3}{T(T^{2} - 1)} \\sum_{t = 1}^{T} (X^{(t)} - Y^{(t)}) ^ {2}$$\n",
    "\n",
    "and\n",
    "\n",
    "$$\\tilde{d}_{0}^{2} = \\frac{1}{2} \\sum_{k = - \\infty}^{+ \\infty} (\\sqrt{g_{X}^{h}(hk)} - \\sqrt{g_{Y}^{h}(hk)})^{2}$$\n",
    "\n",
    "$h$ being here a suitable bandwidth, and $g_{X}^{h}(x) = \\frac{1}{T} \\sum_{t = 1}^{T} \\mathbf{1}(\\lfloor \\frac{x}{h} \\rfloor h \\le X^{t} < (\\lfloor \\frac{x}{h} \\rfloor + 1)h)$ being a density histogram estimating dpf $g_{X}$ from\n",
    "$(X^{t})_{t=1}^{T}$ , $T$ realization of a random variable $X \\in \\nu$.\n"
   ]
  },
  {
   "cell_type": "markdown",
   "metadata": {},
   "source": [
    "The use of this distance is referenced as the generic non-parametric representation (GNPR) approach.\n",
    "\n",
    "From the paper:\n",
    "\n",
    "\"To use effectively $d_{\\Theta}$ and its statistical estimate, it boils down to select a particular value for $\\Theta$. We suggest here an exploratory approach where one can test \n",
    "\n",
    "- (i) distribution information ($\\Theta = 0$),\n",
    "- (ii) dependence information ($\\Theta = 1$), and\n",
    "- (iii) a mix of both information ($\\Theta = 0.5$).\n",
    "\n",
    "Ideally, $\\Theta$ should reflect the balance of dependence and distribution information in the data.\n",
    "\n",
    "In a supervised setting, one could select an estimate $\\hat{\\Theta}$ of the right balance $\\Theta^{*}$ optimizing some loss function by techniques such as cross-validation. Yet, the lack of a clear loss function makes the estimation of $\\Theta^{*}$ difficult in an unsupervised setting\"."
   ]
  },
  {
   "cell_type": "markdown",
   "metadata": {},
   "source": [
    "## Usage of the algorithms"
   ]
  },
  {
   "cell_type": "markdown",
   "metadata": {},
   "source": [
    "This part shows how the GPR and the GNPR distances can be used to measure codependence between a set of stocks"
   ]
  },
  {
   "cell_type": "code",
   "execution_count": 1,
   "metadata": {},
   "outputs": [],
   "source": [
    "import mlfinlab as ml\n",
    "import pandas as pd\n",
    "import seaborn as sns"
   ]
  },
  {
   "cell_type": "code",
   "execution_count": 2,
   "metadata": {},
   "outputs": [
    {
     "data": {
      "text/html": [
       "<div>\n",
       "<style scoped>\n",
       "    .dataframe tbody tr th:only-of-type {\n",
       "        vertical-align: middle;\n",
       "    }\n",
       "\n",
       "    .dataframe tbody tr th {\n",
       "        vertical-align: top;\n",
       "    }\n",
       "\n",
       "    .dataframe thead th {\n",
       "        text-align: right;\n",
       "    }\n",
       "</style>\n",
       "<table border=\"1\" class=\"dataframe\">\n",
       "  <thead>\n",
       "    <tr style=\"text-align: right;\">\n",
       "      <th></th>\n",
       "      <th>EEM</th>\n",
       "      <th>EWG</th>\n",
       "      <th>TIP</th>\n",
       "      <th>EWJ</th>\n",
       "      <th>EFA</th>\n",
       "      <th>IEF</th>\n",
       "      <th>EWQ</th>\n",
       "      <th>EWU</th>\n",
       "      <th>XLB</th>\n",
       "      <th>XLE</th>\n",
       "    </tr>\n",
       "    <tr>\n",
       "      <th>Date</th>\n",
       "      <th></th>\n",
       "      <th></th>\n",
       "      <th></th>\n",
       "      <th></th>\n",
       "      <th></th>\n",
       "      <th></th>\n",
       "      <th></th>\n",
       "      <th></th>\n",
       "      <th></th>\n",
       "      <th></th>\n",
       "    </tr>\n",
       "  </thead>\n",
       "  <tbody>\n",
       "    <tr>\n",
       "      <th>2008-01-02</th>\n",
       "      <td>49.273335</td>\n",
       "      <td>35.389999</td>\n",
       "      <td>106.639999</td>\n",
       "      <td>52.919998</td>\n",
       "      <td>78.220001</td>\n",
       "      <td>87.629997</td>\n",
       "      <td>37.939999</td>\n",
       "      <td>47.759998</td>\n",
       "      <td>41.299999</td>\n",
       "      <td>79.500000</td>\n",
       "    </tr>\n",
       "    <tr>\n",
       "      <th>2008-01-03</th>\n",
       "      <td>49.716667</td>\n",
       "      <td>35.290001</td>\n",
       "      <td>107.000000</td>\n",
       "      <td>53.119999</td>\n",
       "      <td>78.349998</td>\n",
       "      <td>87.809998</td>\n",
       "      <td>37.919998</td>\n",
       "      <td>48.060001</td>\n",
       "      <td>42.049999</td>\n",
       "      <td>80.440002</td>\n",
       "    </tr>\n",
       "    <tr>\n",
       "      <th>2008-01-04</th>\n",
       "      <td>48.223331</td>\n",
       "      <td>34.599998</td>\n",
       "      <td>106.970001</td>\n",
       "      <td>51.759998</td>\n",
       "      <td>76.570000</td>\n",
       "      <td>88.040001</td>\n",
       "      <td>36.990002</td>\n",
       "      <td>46.919998</td>\n",
       "      <td>40.779999</td>\n",
       "      <td>77.500000</td>\n",
       "    </tr>\n",
       "    <tr>\n",
       "      <th>2008-01-07</th>\n",
       "      <td>48.576668</td>\n",
       "      <td>34.630001</td>\n",
       "      <td>106.949997</td>\n",
       "      <td>51.439999</td>\n",
       "      <td>76.650002</td>\n",
       "      <td>88.199997</td>\n",
       "      <td>37.259998</td>\n",
       "      <td>47.060001</td>\n",
       "      <td>40.220001</td>\n",
       "      <td>77.199997</td>\n",
       "    </tr>\n",
       "    <tr>\n",
       "      <th>2008-01-08</th>\n",
       "      <td>48.200001</td>\n",
       "      <td>34.389999</td>\n",
       "      <td>107.029999</td>\n",
       "      <td>51.320000</td>\n",
       "      <td>76.220001</td>\n",
       "      <td>88.389999</td>\n",
       "      <td>36.970001</td>\n",
       "      <td>46.400002</td>\n",
       "      <td>39.599998</td>\n",
       "      <td>75.849998</td>\n",
       "    </tr>\n",
       "  </tbody>\n",
       "</table>\n",
       "</div>"
      ],
      "text/plain": [
       "                  EEM        EWG         TIP        EWJ        EFA        IEF  \\\n",
       "Date                                                                            \n",
       "2008-01-02  49.273335  35.389999  106.639999  52.919998  78.220001  87.629997   \n",
       "2008-01-03  49.716667  35.290001  107.000000  53.119999  78.349998  87.809998   \n",
       "2008-01-04  48.223331  34.599998  106.970001  51.759998  76.570000  88.040001   \n",
       "2008-01-07  48.576668  34.630001  106.949997  51.439999  76.650002  88.199997   \n",
       "2008-01-08  48.200001  34.389999  107.029999  51.320000  76.220001  88.389999   \n",
       "\n",
       "                  EWQ        EWU        XLB        XLE  \n",
       "Date                                                    \n",
       "2008-01-02  37.939999  47.759998  41.299999  79.500000  \n",
       "2008-01-03  37.919998  48.060001  42.049999  80.440002  \n",
       "2008-01-04  36.990002  46.919998  40.779999  77.500000  \n",
       "2008-01-07  37.259998  47.060001  40.220001  77.199997  \n",
       "2008-01-08  36.970001  46.400002  39.599998  75.849998  "
      ]
     },
     "execution_count": 2,
     "metadata": {},
     "output_type": "execute_result"
    }
   ],
   "source": [
    "# Loading the dataset of stocks\n",
    "stocks = pd.read_csv('../../Sample-Data/stock_prices.csv')\n",
    "stocks.set_index('Date', inplace=True)\n",
    "stocks.index = pd.to_datetime(stocks.index)\n",
    "\n",
    "# Taking first 10 stocks for better output visualization\n",
    "stocks = stocks.iloc[:,0:10]\n",
    "stocks.head()"
   ]
  },
  {
   "cell_type": "code",
   "execution_count": 3,
   "metadata": {},
   "outputs": [
    {
     "data": {
      "text/html": [
       "<div>\n",
       "<style scoped>\n",
       "    .dataframe tbody tr th:only-of-type {\n",
       "        vertical-align: middle;\n",
       "    }\n",
       "\n",
       "    .dataframe tbody tr th {\n",
       "        vertical-align: top;\n",
       "    }\n",
       "\n",
       "    .dataframe thead th {\n",
       "        text-align: right;\n",
       "    }\n",
       "</style>\n",
       "<table border=\"1\" class=\"dataframe\">\n",
       "  <thead>\n",
       "    <tr style=\"text-align: right;\">\n",
       "      <th></th>\n",
       "      <th>EEM</th>\n",
       "      <th>EWG</th>\n",
       "      <th>TIP</th>\n",
       "      <th>EWJ</th>\n",
       "      <th>EFA</th>\n",
       "      <th>IEF</th>\n",
       "      <th>EWQ</th>\n",
       "      <th>EWU</th>\n",
       "      <th>XLB</th>\n",
       "      <th>XLE</th>\n",
       "    </tr>\n",
       "    <tr>\n",
       "      <th>Date</th>\n",
       "      <th></th>\n",
       "      <th></th>\n",
       "      <th></th>\n",
       "      <th></th>\n",
       "      <th></th>\n",
       "      <th></th>\n",
       "      <th></th>\n",
       "      <th></th>\n",
       "      <th></th>\n",
       "      <th></th>\n",
       "    </tr>\n",
       "  </thead>\n",
       "  <tbody>\n",
       "    <tr>\n",
       "      <th>2008-01-03</th>\n",
       "      <td>0.008997</td>\n",
       "      <td>-0.002826</td>\n",
       "      <td>0.003376</td>\n",
       "      <td>0.003779</td>\n",
       "      <td>0.001662</td>\n",
       "      <td>0.002054</td>\n",
       "      <td>-0.000527</td>\n",
       "      <td>0.006281</td>\n",
       "      <td>0.018160</td>\n",
       "      <td>0.011824</td>\n",
       "    </tr>\n",
       "    <tr>\n",
       "      <th>2008-01-04</th>\n",
       "      <td>-0.030037</td>\n",
       "      <td>-0.019552</td>\n",
       "      <td>-0.000280</td>\n",
       "      <td>-0.025602</td>\n",
       "      <td>-0.022719</td>\n",
       "      <td>0.002619</td>\n",
       "      <td>-0.024525</td>\n",
       "      <td>-0.023720</td>\n",
       "      <td>-0.030202</td>\n",
       "      <td>-0.036549</td>\n",
       "    </tr>\n",
       "    <tr>\n",
       "      <th>2008-01-07</th>\n",
       "      <td>0.007327</td>\n",
       "      <td>0.000867</td>\n",
       "      <td>-0.000187</td>\n",
       "      <td>-0.006182</td>\n",
       "      <td>0.001045</td>\n",
       "      <td>0.001817</td>\n",
       "      <td>0.007299</td>\n",
       "      <td>0.002984</td>\n",
       "      <td>-0.013732</td>\n",
       "      <td>-0.003871</td>\n",
       "    </tr>\n",
       "    <tr>\n",
       "      <th>2008-01-08</th>\n",
       "      <td>-0.007754</td>\n",
       "      <td>-0.006930</td>\n",
       "      <td>0.000748</td>\n",
       "      <td>-0.002333</td>\n",
       "      <td>-0.005610</td>\n",
       "      <td>0.002154</td>\n",
       "      <td>-0.007783</td>\n",
       "      <td>-0.014025</td>\n",
       "      <td>-0.015415</td>\n",
       "      <td>-0.017487</td>\n",
       "    </tr>\n",
       "    <tr>\n",
       "      <th>2008-01-09</th>\n",
       "      <td>0.032780</td>\n",
       "      <td>0.003199</td>\n",
       "      <td>-0.000747</td>\n",
       "      <td>0.021824</td>\n",
       "      <td>0.007216</td>\n",
       "      <td>-0.001584</td>\n",
       "      <td>0.002975</td>\n",
       "      <td>0.000431</td>\n",
       "      <td>0.006313</td>\n",
       "      <td>0.013184</td>\n",
       "    </tr>\n",
       "  </tbody>\n",
       "</table>\n",
       "</div>"
      ],
      "text/plain": [
       "                 EEM       EWG       TIP       EWJ       EFA       IEF  \\\n",
       "Date                                                                     \n",
       "2008-01-03  0.008997 -0.002826  0.003376  0.003779  0.001662  0.002054   \n",
       "2008-01-04 -0.030037 -0.019552 -0.000280 -0.025602 -0.022719  0.002619   \n",
       "2008-01-07  0.007327  0.000867 -0.000187 -0.006182  0.001045  0.001817   \n",
       "2008-01-08 -0.007754 -0.006930  0.000748 -0.002333 -0.005610  0.002154   \n",
       "2008-01-09  0.032780  0.003199 -0.000747  0.021824  0.007216 -0.001584   \n",
       "\n",
       "                 EWQ       EWU       XLB       XLE  \n",
       "Date                                                \n",
       "2008-01-03 -0.000527  0.006281  0.018160  0.011824  \n",
       "2008-01-04 -0.024525 -0.023720 -0.030202 -0.036549  \n",
       "2008-01-07  0.007299  0.002984 -0.013732 -0.003871  \n",
       "2008-01-08 -0.007783 -0.014025 -0.015415 -0.017487  \n",
       "2008-01-09  0.002975  0.000431  0.006313  0.013184  "
      ]
     },
     "execution_count": 3,
     "metadata": {},
     "output_type": "execute_result"
    }
   ],
   "source": [
    "# Calculating returns of a given dataset of stocks\n",
    "\n",
    "# Class containing needed function\n",
    "ret_est = ml.portfolio_optimization.ReturnsEstimation()\n",
    "\n",
    "# Calculating returns\n",
    "stocks_returns = ret_est.calculate_returns(stocks)\n",
    "stocks_returns.iloc[:,0:10].head()"
   ]
  },
  {
   "cell_type": "code",
   "execution_count": 4,
   "metadata": {},
   "outputs": [
    {
     "name": "stdout",
     "output_type": "stream",
     "text": [
      "GPR distance between EEM and EWG measuring a mix of distribution and dependence information is:  0.24303211776227326\n"
     ]
    }
   ],
   "source": [
    "# Calculating GPR distance between two tickers - EEM and EWG\n",
    "gpr_dist = ml.codependence.gpr_distance(stocks_returns['EEM'], stocks_returns['EWG'], theta=0.5)\n",
    "print('GPR distance between EEM and EWG measuring a mix of distribution and dependence information is: ', gpr_dist)"
   ]
  },
  {
   "cell_type": "code",
   "execution_count": 5,
   "metadata": {},
   "outputs": [
    {
     "name": "stdout",
     "output_type": "stream",
     "text": [
      "GPR distance between EEM and EWG measuring dependence information is:  0.33908616627992194\n"
     ]
    }
   ],
   "source": [
    "# Calculating GPR distance between two tickers - EEM and EWG using only dependence information\n",
    "gpr_dist = ml.codependence.gpr_distance(stocks_returns['EEM'], stocks_returns['EWG'], theta=1)\n",
    "print('GPR distance between EEM and EWG measuring dependence information is: ', gpr_dist)"
   ]
  },
  {
   "cell_type": "code",
   "execution_count": 6,
   "metadata": {},
   "outputs": [
    {
     "name": "stdout",
     "output_type": "stream",
     "text": [
      "GNPR distance between EEM and EWG measuring a mix of distribution and dependence information is:  0.04942613292915897\n"
     ]
    }
   ],
   "source": [
    "# Calculating GNPR distance between two tickers - EEM and EWG\n",
    "gpr_dist = ml.codependence.gnpr_distance(stocks_returns['EEM'], stocks_returns['EWG'], theta=0.5)\n",
    "print('GNPR distance between EEM and EWG measuring a mix of distribution and dependence information is: ', gpr_dist)"
   ]
  },
  {
   "cell_type": "code",
   "execution_count": 7,
   "metadata": {},
   "outputs": [
    {
     "name": "stdout",
     "output_type": "stream",
     "text": [
      "GNPR distance between EEM and EWG measuring distribution information is:  0.011284701054010133\n"
     ]
    }
   ],
   "source": [
    "# Calculating GNPR distance between two tickers - EEM and EWG using only distribution information and 0.1 width of bins\n",
    "gpr_dist = ml.codependence.gnpr_distance(stocks_returns['EEM'], stocks_returns['EWG'], theta=0, bandwidth=0.1)\n",
    "print('GNPR distance between EEM and EWG measuring distribution information is: ', gpr_dist)"
   ]
  },
  {
   "cell_type": "markdown",
   "metadata": {},
   "source": [
    "These codependence measures can also be used on the whole dataframes, the results will be codependence matrices."
   ]
  },
  {
   "cell_type": "code",
   "execution_count": 8,
   "metadata": {},
   "outputs": [
    {
     "name": "stdout",
     "output_type": "stream",
     "text": [
      "GPR distance matrix measuring a mix of distribution and dependence information:\n"
     ]
    },
    {
     "data": {
      "text/html": [
       "<div>\n",
       "<style scoped>\n",
       "    .dataframe tbody tr th:only-of-type {\n",
       "        vertical-align: middle;\n",
       "    }\n",
       "\n",
       "    .dataframe tbody tr th {\n",
       "        vertical-align: top;\n",
       "    }\n",
       "\n",
       "    .dataframe thead th {\n",
       "        text-align: right;\n",
       "    }\n",
       "</style>\n",
       "<table border=\"1\" class=\"dataframe\">\n",
       "  <thead>\n",
       "    <tr style=\"text-align: right;\">\n",
       "      <th></th>\n",
       "      <th>EEM</th>\n",
       "      <th>EWG</th>\n",
       "      <th>TIP</th>\n",
       "      <th>EWJ</th>\n",
       "      <th>EFA</th>\n",
       "      <th>IEF</th>\n",
       "      <th>EWQ</th>\n",
       "      <th>EWU</th>\n",
       "      <th>XLB</th>\n",
       "      <th>XLE</th>\n",
       "    </tr>\n",
       "  </thead>\n",
       "  <tbody>\n",
       "    <tr>\n",
       "      <th>EEM</th>\n",
       "      <td>0.000000</td>\n",
       "      <td>0.243032</td>\n",
       "      <td>6.917055e-01</td>\n",
       "      <td>3.080851e-01</td>\n",
       "      <td>2.167705e-01</td>\n",
       "      <td>0.723287</td>\n",
       "      <td>0.236127</td>\n",
       "      <td>0.238692</td>\n",
       "      <td>0.257452</td>\n",
       "      <td>2.641690e-01</td>\n",
       "    </tr>\n",
       "    <tr>\n",
       "      <th>EWG</th>\n",
       "      <td>0.243032</td>\n",
       "      <td>0.000000</td>\n",
       "      <td>6.834031e-01</td>\n",
       "      <td>3.000441e-01</td>\n",
       "      <td>1.501956e-01</td>\n",
       "      <td>0.711702</td>\n",
       "      <td>0.128455</td>\n",
       "      <td>0.206135</td>\n",
       "      <td>0.263928</td>\n",
       "      <td>2.838520e-01</td>\n",
       "    </tr>\n",
       "    <tr>\n",
       "      <th>TIP</th>\n",
       "      <td>0.691705</td>\n",
       "      <td>0.683403</td>\n",
       "      <td>7.450581e-09</td>\n",
       "      <td>6.484753e-01</td>\n",
       "      <td>6.659399e-01</td>\n",
       "      <td>0.246630</td>\n",
       "      <td>0.684698</td>\n",
       "      <td>0.669975</td>\n",
       "      <td>0.665189</td>\n",
       "      <td>6.800092e-01</td>\n",
       "    </tr>\n",
       "    <tr>\n",
       "      <th>EWJ</th>\n",
       "      <td>0.308085</td>\n",
       "      <td>0.300044</td>\n",
       "      <td>6.484753e-01</td>\n",
       "      <td>7.450581e-09</td>\n",
       "      <td>2.249911e-01</td>\n",
       "      <td>0.672096</td>\n",
       "      <td>0.294697</td>\n",
       "      <td>0.290073</td>\n",
       "      <td>0.313528</td>\n",
       "      <td>3.394935e-01</td>\n",
       "    </tr>\n",
       "    <tr>\n",
       "      <th>EFA</th>\n",
       "      <td>0.216770</td>\n",
       "      <td>0.150196</td>\n",
       "      <td>6.659399e-01</td>\n",
       "      <td>2.249911e-01</td>\n",
       "      <td>7.450581e-09</td>\n",
       "      <td>0.697111</td>\n",
       "      <td>0.128454</td>\n",
       "      <td>0.145634</td>\n",
       "      <td>0.233819</td>\n",
       "      <td>2.671068e-01</td>\n",
       "    </tr>\n",
       "    <tr>\n",
       "      <th>IEF</th>\n",
       "      <td>0.723287</td>\n",
       "      <td>0.711702</td>\n",
       "      <td>2.466302e-01</td>\n",
       "      <td>6.720957e-01</td>\n",
       "      <td>6.971110e-01</td>\n",
       "      <td>0.000000</td>\n",
       "      <td>0.712834</td>\n",
       "      <td>0.699468</td>\n",
       "      <td>0.697503</td>\n",
       "      <td>7.136660e-01</td>\n",
       "    </tr>\n",
       "    <tr>\n",
       "      <th>EWQ</th>\n",
       "      <td>0.236127</td>\n",
       "      <td>0.128455</td>\n",
       "      <td>6.846981e-01</td>\n",
       "      <td>2.946971e-01</td>\n",
       "      <td>1.284544e-01</td>\n",
       "      <td>0.712834</td>\n",
       "      <td>0.000000</td>\n",
       "      <td>0.187420</td>\n",
       "      <td>0.260472</td>\n",
       "      <td>2.757699e-01</td>\n",
       "    </tr>\n",
       "    <tr>\n",
       "      <th>EWU</th>\n",
       "      <td>0.238692</td>\n",
       "      <td>0.206135</td>\n",
       "      <td>6.699747e-01</td>\n",
       "      <td>2.900728e-01</td>\n",
       "      <td>1.456335e-01</td>\n",
       "      <td>0.699468</td>\n",
       "      <td>0.187420</td>\n",
       "      <td>0.000000</td>\n",
       "      <td>0.251571</td>\n",
       "      <td>2.735926e-01</td>\n",
       "    </tr>\n",
       "    <tr>\n",
       "      <th>XLB</th>\n",
       "      <td>0.257452</td>\n",
       "      <td>0.263928</td>\n",
       "      <td>6.651887e-01</td>\n",
       "      <td>3.135281e-01</td>\n",
       "      <td>2.338193e-01</td>\n",
       "      <td>0.697503</td>\n",
       "      <td>0.260472</td>\n",
       "      <td>0.251571</td>\n",
       "      <td>0.000000</td>\n",
       "      <td>2.350359e-01</td>\n",
       "    </tr>\n",
       "    <tr>\n",
       "      <th>XLE</th>\n",
       "      <td>0.264169</td>\n",
       "      <td>0.283852</td>\n",
       "      <td>6.800092e-01</td>\n",
       "      <td>3.394935e-01</td>\n",
       "      <td>2.671068e-01</td>\n",
       "      <td>0.713666</td>\n",
       "      <td>0.275770</td>\n",
       "      <td>0.273593</td>\n",
       "      <td>0.235036</td>\n",
       "      <td>7.450581e-09</td>\n",
       "    </tr>\n",
       "  </tbody>\n",
       "</table>\n",
       "</div>"
      ],
      "text/plain": [
       "          EEM       EWG           TIP           EWJ           EFA       IEF  \\\n",
       "EEM  0.000000  0.243032  6.917055e-01  3.080851e-01  2.167705e-01  0.723287   \n",
       "EWG  0.243032  0.000000  6.834031e-01  3.000441e-01  1.501956e-01  0.711702   \n",
       "TIP  0.691705  0.683403  7.450581e-09  6.484753e-01  6.659399e-01  0.246630   \n",
       "EWJ  0.308085  0.300044  6.484753e-01  7.450581e-09  2.249911e-01  0.672096   \n",
       "EFA  0.216770  0.150196  6.659399e-01  2.249911e-01  7.450581e-09  0.697111   \n",
       "IEF  0.723287  0.711702  2.466302e-01  6.720957e-01  6.971110e-01  0.000000   \n",
       "EWQ  0.236127  0.128455  6.846981e-01  2.946971e-01  1.284544e-01  0.712834   \n",
       "EWU  0.238692  0.206135  6.699747e-01  2.900728e-01  1.456335e-01  0.699468   \n",
       "XLB  0.257452  0.263928  6.651887e-01  3.135281e-01  2.338193e-01  0.697503   \n",
       "XLE  0.264169  0.283852  6.800092e-01  3.394935e-01  2.671068e-01  0.713666   \n",
       "\n",
       "          EWQ       EWU       XLB           XLE  \n",
       "EEM  0.236127  0.238692  0.257452  2.641690e-01  \n",
       "EWG  0.128455  0.206135  0.263928  2.838520e-01  \n",
       "TIP  0.684698  0.669975  0.665189  6.800092e-01  \n",
       "EWJ  0.294697  0.290073  0.313528  3.394935e-01  \n",
       "EFA  0.128454  0.145634  0.233819  2.671068e-01  \n",
       "IEF  0.712834  0.699468  0.697503  7.136660e-01  \n",
       "EWQ  0.000000  0.187420  0.260472  2.757699e-01  \n",
       "EWU  0.187420  0.000000  0.251571  2.735926e-01  \n",
       "XLB  0.260472  0.251571  0.000000  2.350359e-01  \n",
       "XLE  0.275770  0.273593  0.235036  7.450581e-09  "
      ]
     },
     "execution_count": 8,
     "metadata": {},
     "output_type": "execute_result"
    }
   ],
   "source": [
    "# Calculating GPR distance between all stocks with Θ = 0.5\n",
    "gpr_matrix = ml.codependence.get_dependence_matrix(stocks_returns, dependence_method='gpr_distance',theta=0.5)\n",
    "\n",
    "print('GPR distance matrix measuring a mix of distribution and dependence information:')\n",
    "gpr_matrix"
   ]
  },
  {
   "cell_type": "code",
   "execution_count": 9,
   "metadata": {},
   "outputs": [
    {
     "name": "stdout",
     "output_type": "stream",
     "text": [
      "GNPR distance matrix measuring distribution information:\n"
     ]
    },
    {
     "data": {
      "text/html": [
       "<div>\n",
       "<style scoped>\n",
       "    .dataframe tbody tr th:only-of-type {\n",
       "        vertical-align: middle;\n",
       "    }\n",
       "\n",
       "    .dataframe tbody tr th {\n",
       "        vertical-align: top;\n",
       "    }\n",
       "\n",
       "    .dataframe thead th {\n",
       "        text-align: right;\n",
       "    }\n",
       "</style>\n",
       "<table border=\"1\" class=\"dataframe\">\n",
       "  <thead>\n",
       "    <tr style=\"text-align: right;\">\n",
       "      <th></th>\n",
       "      <th>EEM</th>\n",
       "      <th>EWG</th>\n",
       "      <th>TIP</th>\n",
       "      <th>EWJ</th>\n",
       "      <th>EFA</th>\n",
       "      <th>IEF</th>\n",
       "      <th>EWQ</th>\n",
       "      <th>EWU</th>\n",
       "      <th>XLB</th>\n",
       "      <th>XLE</th>\n",
       "    </tr>\n",
       "  </thead>\n",
       "  <tbody>\n",
       "    <tr>\n",
       "      <th>EEM</th>\n",
       "      <td>0.000000</td>\n",
       "      <td>0.069899</td>\n",
       "      <td>0.433256</td>\n",
       "      <td>0.103842</td>\n",
       "      <td>0.092078</td>\n",
       "      <td>0.423029</td>\n",
       "      <td>0.062548</td>\n",
       "      <td>0.083680</td>\n",
       "      <td>0.074167</td>\n",
       "      <td>0.081416</td>\n",
       "    </tr>\n",
       "    <tr>\n",
       "      <th>EWG</th>\n",
       "      <td>0.069899</td>\n",
       "      <td>0.000000</td>\n",
       "      <td>0.425756</td>\n",
       "      <td>0.092746</td>\n",
       "      <td>0.077320</td>\n",
       "      <td>0.414321</td>\n",
       "      <td>0.050507</td>\n",
       "      <td>0.070496</td>\n",
       "      <td>0.066776</td>\n",
       "      <td>0.070756</td>\n",
       "    </tr>\n",
       "    <tr>\n",
       "      <th>TIP</th>\n",
       "      <td>0.433256</td>\n",
       "      <td>0.425756</td>\n",
       "      <td>0.000000</td>\n",
       "      <td>0.381877</td>\n",
       "      <td>0.367906</td>\n",
       "      <td>0.048427</td>\n",
       "      <td>0.442332</td>\n",
       "      <td>0.365841</td>\n",
       "      <td>0.409336</td>\n",
       "      <td>0.436058</td>\n",
       "    </tr>\n",
       "    <tr>\n",
       "      <th>EWJ</th>\n",
       "      <td>0.103842</td>\n",
       "      <td>0.092746</td>\n",
       "      <td>0.381877</td>\n",
       "      <td>0.000000</td>\n",
       "      <td>0.049444</td>\n",
       "      <td>0.361378</td>\n",
       "      <td>0.105416</td>\n",
       "      <td>0.065798</td>\n",
       "      <td>0.074869</td>\n",
       "      <td>0.099113</td>\n",
       "    </tr>\n",
       "    <tr>\n",
       "      <th>EFA</th>\n",
       "      <td>0.092078</td>\n",
       "      <td>0.077320</td>\n",
       "      <td>0.367906</td>\n",
       "      <td>0.049444</td>\n",
       "      <td>0.000000</td>\n",
       "      <td>0.356521</td>\n",
       "      <td>0.091514</td>\n",
       "      <td>0.043490</td>\n",
       "      <td>0.059416</td>\n",
       "      <td>0.092205</td>\n",
       "    </tr>\n",
       "    <tr>\n",
       "      <th>IEF</th>\n",
       "      <td>0.423029</td>\n",
       "      <td>0.414321</td>\n",
       "      <td>0.048427</td>\n",
       "      <td>0.361378</td>\n",
       "      <td>0.356521</td>\n",
       "      <td>0.000000</td>\n",
       "      <td>0.431011</td>\n",
       "      <td>0.359146</td>\n",
       "      <td>0.392288</td>\n",
       "      <td>0.421631</td>\n",
       "    </tr>\n",
       "    <tr>\n",
       "      <th>EWQ</th>\n",
       "      <td>0.062548</td>\n",
       "      <td>0.050507</td>\n",
       "      <td>0.442332</td>\n",
       "      <td>0.105416</td>\n",
       "      <td>0.091514</td>\n",
       "      <td>0.431011</td>\n",
       "      <td>0.000000</td>\n",
       "      <td>0.078910</td>\n",
       "      <td>0.070127</td>\n",
       "      <td>0.064721</td>\n",
       "    </tr>\n",
       "    <tr>\n",
       "      <th>EWU</th>\n",
       "      <td>0.083680</td>\n",
       "      <td>0.070496</td>\n",
       "      <td>0.365841</td>\n",
       "      <td>0.065798</td>\n",
       "      <td>0.043490</td>\n",
       "      <td>0.359146</td>\n",
       "      <td>0.078910</td>\n",
       "      <td>0.000000</td>\n",
       "      <td>0.055026</td>\n",
       "      <td>0.085241</td>\n",
       "    </tr>\n",
       "    <tr>\n",
       "      <th>XLB</th>\n",
       "      <td>0.074167</td>\n",
       "      <td>0.066776</td>\n",
       "      <td>0.409336</td>\n",
       "      <td>0.074869</td>\n",
       "      <td>0.059416</td>\n",
       "      <td>0.392288</td>\n",
       "      <td>0.070127</td>\n",
       "      <td>0.055026</td>\n",
       "      <td>0.000000</td>\n",
       "      <td>0.072491</td>\n",
       "    </tr>\n",
       "    <tr>\n",
       "      <th>XLE</th>\n",
       "      <td>0.081416</td>\n",
       "      <td>0.070756</td>\n",
       "      <td>0.436058</td>\n",
       "      <td>0.099113</td>\n",
       "      <td>0.092205</td>\n",
       "      <td>0.421631</td>\n",
       "      <td>0.064721</td>\n",
       "      <td>0.085241</td>\n",
       "      <td>0.072491</td>\n",
       "      <td>0.000000</td>\n",
       "    </tr>\n",
       "  </tbody>\n",
       "</table>\n",
       "</div>"
      ],
      "text/plain": [
       "          EEM       EWG       TIP       EWJ       EFA       IEF       EWQ  \\\n",
       "EEM  0.000000  0.069899  0.433256  0.103842  0.092078  0.423029  0.062548   \n",
       "EWG  0.069899  0.000000  0.425756  0.092746  0.077320  0.414321  0.050507   \n",
       "TIP  0.433256  0.425756  0.000000  0.381877  0.367906  0.048427  0.442332   \n",
       "EWJ  0.103842  0.092746  0.381877  0.000000  0.049444  0.361378  0.105416   \n",
       "EFA  0.092078  0.077320  0.367906  0.049444  0.000000  0.356521  0.091514   \n",
       "IEF  0.423029  0.414321  0.048427  0.361378  0.356521  0.000000  0.431011   \n",
       "EWQ  0.062548  0.050507  0.442332  0.105416  0.091514  0.431011  0.000000   \n",
       "EWU  0.083680  0.070496  0.365841  0.065798  0.043490  0.359146  0.078910   \n",
       "XLB  0.074167  0.066776  0.409336  0.074869  0.059416  0.392288  0.070127   \n",
       "XLE  0.081416  0.070756  0.436058  0.099113  0.092205  0.421631  0.064721   \n",
       "\n",
       "          EWU       XLB       XLE  \n",
       "EEM  0.083680  0.074167  0.081416  \n",
       "EWG  0.070496  0.066776  0.070756  \n",
       "TIP  0.365841  0.409336  0.436058  \n",
       "EWJ  0.065798  0.074869  0.099113  \n",
       "EFA  0.043490  0.059416  0.092205  \n",
       "IEF  0.359146  0.392288  0.421631  \n",
       "EWQ  0.078910  0.070127  0.064721  \n",
       "EWU  0.000000  0.055026  0.085241  \n",
       "XLB  0.055026  0.000000  0.072491  \n",
       "XLE  0.085241  0.072491  0.000000  "
      ]
     },
     "execution_count": 9,
     "metadata": {},
     "output_type": "execute_result"
    }
   ],
   "source": [
    "# Calculating GNPR distance between all stocks with Θ = 1\n",
    "gnpr_matrix_dep = ml.codependence.get_dependence_matrix(stocks_returns, dependence_method='gnpr_distance',theta=1)\n",
    "\n",
    "# Calculating GNPR distance between all stocks with Θ = 0.5\n",
    "gnpr_matrix_mix = ml.codependence.get_dependence_matrix(stocks_returns, dependence_method='gnpr_distance',theta=0.5)\n",
    "\n",
    "# Calculating GNPR distance between all stocks with Θ = 0\n",
    "gnpr_matrix_dist = ml.codependence.get_dependence_matrix(stocks_returns, dependence_method='gnpr_distance',theta=0)\n",
    "\n",
    "print('GNPR distance matrix measuring distribution information:')\n",
    "gnpr_matrix_dist"
   ]
  },
  {
   "cell_type": "markdown",
   "metadata": {},
   "source": [
    "### Heatmap of GNPR distribution information distance"
   ]
  },
  {
   "cell_type": "code",
   "execution_count": 10,
   "metadata": {},
   "outputs": [
    {
     "data": {
      "text/plain": [
       "<matplotlib.axes._subplots.AxesSubplot at 0x227c341f0f0>"
      ]
     },
     "execution_count": 10,
     "metadata": {},
     "output_type": "execute_result"
    },
    {
     "data": {
      "image/png": "[encoded data removed]",
      "text/plain": [
       "<Figure size 432x288 with 2 Axes>"
      ]
     },
     "metadata": {
      "needs_background": "light"
     },
     "output_type": "display_data"
    }
   ],
   "source": [
    "sns.heatmap(gnpr_matrix_dist)"
   ]
  },
  {
   "cell_type": "markdown",
   "metadata": {},
   "source": [
    "### Heatmap of GNPR mix of distribution and information distance"
   ]
  },
  {
   "cell_type": "code",
   "execution_count": 11,
   "metadata": {},
   "outputs": [
    {
     "data": {
      "text/plain": [
       "<matplotlib.axes._subplots.AxesSubplot at 0x227c5590588>"
      ]
     },
     "execution_count": 11,
     "metadata": {},
     "output_type": "execute_result"
    },
    {
     "data": {
      "image/png": "[encoded data removed]",
      "text/plain": [
       "<Figure size 432x288 with 2 Axes>"
      ]
     },
     "metadata": {
      "needs_background": "light"
     },
     "output_type": "display_data"
    }
   ],
   "source": [
    "sns.heatmap(gnpr_matrix_mix)"
   ]
  },
  {
   "cell_type": "markdown",
   "metadata": {},
   "source": [
    "### Heatmap of GNPR dependence information distance"
   ]
  },
  {
   "cell_type": "code",
   "execution_count": 12,
   "metadata": {},
   "outputs": [
    {
     "data": {
      "text/plain": [
       "<matplotlib.axes._subplots.AxesSubplot at 0x227c565ebe0>"
      ]
     },
     "execution_count": 12,
     "metadata": {},
     "output_type": "execute_result"
    },
    {
     "data": {
      "image/png": "[encoded data removed]",
      "text/plain": [
       "<Figure size 432x288 with 2 Axes>"
      ]
     },
     "metadata": {
      "needs_background": "light"
     },
     "output_type": "display_data"
    }
   ],
   "source": [
    "sns.heatmap(gnpr_matrix_dep)"
   ]
  },
  {
   "cell_type": "markdown",
   "metadata": {},
   "source": [
    "As seen from the heat maps of GNPR distance matrices, distribution and information distances show different types of codependency. However, when using a mixed approach with $\\Theta = 0.5$ the distribution information part is too high, which makes the dependence information adjustment hardly visible, so for a balanced output one may want to increase $\\Theta$ in this particular example. "
   ]
  },
  {
   "cell_type": "markdown",
   "metadata": {},
   "source": [
    "## Conclusion"
   ]
  },
  {
   "cell_type": "markdown",
   "metadata": {},
   "source": [
    "This notebook describes the GPR and the GNPR distances how they may be used in real-life applications.  \n",
    "\n",
    "These novel distances were originally presented by the _Gautier Marti_ in the work __“Some contributions to the clustering of financial time series and applications to credit default swaps”__  [available here](https://www.researchgate.net/publication/322714557).\n",
    "\n",
    "Key takeaways from the notebook:\n",
    "- Distances can be roughly classified in two families:\n",
    "  - Distributional distances, which focus on dissimilarity between probability distributions and quantify divergences in marginal behaviours.\n",
    "  - Dependence distances, which focus on the joint behaviours of random variables, generally ignoring their distribution properties.\n",
    "- Distance $d_{\\Theta}$ between two random variables allows to discriminate random variables both on distribution and dependence.\n",
    "- Distance $d_{\\Theta}$ is a metric that falls in range $[0, 1]$.\n",
    "- GPR distance is a fast and good proxy for distance $d_{\\Theta}$ between two Gaussians.\n",
    "- GNPR distance is a proxy for distance $d_{\\Theta}$ that works on i.i.d. random variables, it requires a declared width of bins for values discretization.\n",
    "- $d_{\\Theta}$ should be chosen to reflect the balance of dependence and distribution information in the data."
   ]
  }
 ],
 "metadata": {
  "kernelspec": {
   "display_name": "mlfinlab",
   "language": "python",
   "name": "mlfinlab"
  },
  "language_info": {
   "codemirror_mode": {
    "name": "ipython",
    "version": 3
   },
   "file_extension": ".py",
   "mimetype": "text/x-python",
   "name": "python",
   "nbconvert_exporter": "python",
   "pygments_lexer": "ipython3",
   "version": "3.6.10"
  }
 },
 "nbformat": 4,
 "nbformat_minor": 4
}
