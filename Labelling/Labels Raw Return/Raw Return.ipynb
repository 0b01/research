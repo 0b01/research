{
 "cells": [
  {
   "cell_type": "markdown",
   "metadata": {},
   "source": [
    "# Labeling: Raw Returns\n",
    "\n",
    "![image_example](img/Raw_returns_distribution.png)\n",
    "_*Fig. 1:*_ Distribution of daily logarithmic returns for MSFT between Jan 2010 and May 2020.\n",
    "\n",
    "\n",
    "## Abstract\n",
    "\n",
    "Labeling data by raw returns is the most simple and basic method of labeling financial data for machine learning. Raw returns can be calculated either on a percentage or logarithmic basis. Using returns rather than raw prices is usually preferred for financial data analysis due to returns being automatically scaled with respect to the underlying. Additionally, unlike prices, returns can be negative, which carries a statistically distinct meaning compared to positive values.\n",
    "\n",
    "\n",
    "## How it works\n",
    "\n",
    "The percentage raw return for an observation with\n",
    "price $p_t$ at time $t$ relative to its price at time $t-1$ is as follows:\n",
    "\n",
    "$$\n",
    "    r_t = \\frac{p_{t}}{p_{t-1}} - 1\n",
    "$$\n",
    "\n",
    "In the logarithmic case:\n",
    "\n",
    "$$\n",
    "    r_t = \\log \\frac{p_{t}}{p_{t-1}}\n",
    "$$\n",
    "\n",
    "Returns can also be calculated relative to multiple ticks prior to the observation, instead of just one. If desired, the labels\n",
    "can be given as a sign of the return, rather than the magnitude. In this case:\n",
    "\n",
    "$$\n",
    "     \\begin{equation}\n",
    "     \\begin{split}\n",
    "       L_{t} = \\begin{cases}\n",
    "       -1 &\\ \\text{if} \\ \\ r_t < 0\\\\\n",
    "       0 &\\ \\text{if} \\ \\ r_t = 0\\\\\n",
    "       1 &\\ \\text{if} \\ \\ r_t > 0\n",
    "       \\end{cases}\n",
    "     \\end{split}\n",
    "     \\end{equation}\n",
    "$$\n",
    "---\n",
    "## Examples of use"
   ]
  },
  {
   "cell_type": "code",
   "execution_count": 1,
   "metadata": {},
   "outputs": [],
   "source": [
    "import numpy as np\n",
    "import pandas as pd\n",
    "import yfinance as yf\n",
    "\n",
    "from mlfinlab.labeling import raw_return\n",
    "\n",
    "import matplotlib.pyplot as plt"
   ]
  },
  {
   "cell_type": "code",
   "execution_count": 2,
   "metadata": {},
   "outputs": [
    {
     "data": {
      "text/plain": [
       "Date\n",
       "2010-01-04    24.23\n",
       "2010-01-05    24.23\n",
       "2010-01-06    24.09\n",
       "2010-01-07    23.84\n",
       "2010-01-08    24.00\n",
       "Name: Close, dtype: float64"
      ]
     },
     "execution_count": 2,
     "metadata": {},
     "output_type": "execute_result"
    }
   ],
   "source": [
    "# Load price data\n",
    "msft = yf.Ticker('MSFT')\n",
    "msft_df = msft.history(start='2010-1-1', end ='2020-5-18')\n",
    "\n",
    "# Subset closing prices\n",
    "close = msft_df['Close']\n",
    "close.head()"
   ]
  },
  {
   "cell_type": "markdown",
   "metadata": {},
   "source": [
    "We can plot the distribution of logarithmic returns for MSFT stock from 2010-2020."
   ]
  },
  {
   "cell_type": "code",
   "execution_count": 3,
   "metadata": {},
   "outputs": [
    {
     "data": {
      "text/plain": [
       "Text(0.5, 0, 'Daily Log Return')"
      ]
     },
     "execution_count": 3,
     "metadata": {},
     "output_type": "execute_result"
    },
    {
     "data": {
      "image/png": "[encoded data removed]",
      "text/plain": [
       "<Figure size 432x288 with 1 Axes>"
      ]
     },
     "metadata": {
      "needs_background": "light"
     },
     "output_type": "display_data"
    }
   ],
   "source": [
    "returns1 = raw_return(close, logarithmic=True)\n",
    "ax = returns1.hist(bins=100)\n",
    "ax.set_title(\"Distribution of Daily Log Returns on MSFT From 2010-2020\")\n",
    "ax.set_ylabel(\"frequency\")\n",
    "ax.set_xlabel(\"Daily Log Return\")"
   ]
  },
  {
   "cell_type": "markdown",
   "metadata": {},
   "source": [
    "We can also get categorical labels. Note that because on a few days the price did not change at all, np.sign gives a warning for zero values, but this is not actually an error."
   ]
  },
  {
   "cell_type": "code",
   "execution_count": 4,
   "metadata": {},
   "outputs": [
    {
     "data": {
      "text/plain": [
       " 1.0    1358\n",
       "-1.0    1219\n",
       " 0.0      32\n",
       "Name: Close, dtype: int64"
      ]
     },
     "execution_count": 4,
     "metadata": {},
     "output_type": "execute_result"
    }
   ],
   "source": [
    "returns2 = raw_return(close, logarithmic=True, binary=True)\n",
    "returns2.value_counts()"
   ]
  },
  {
   "cell_type": "markdown",
   "metadata": {},
   "source": [
    "We can see that over this time period, MSFT had a positive daily return about 52% of the time and a negative daily return about 47% of the time."
   ]
  },
  {
   "cell_type": "markdown",
   "metadata": {},
   "source": [
    "### Error Handling"
   ]
  },
  {
   "cell_type": "markdown",
   "metadata": {},
   "source": [
    "The lookback period is the number of ticks to look back when calculating the return of each observation, which is set to 1 by default. If the lookback is greater than the number of rows in the data, a warning is given and all labels will be NaN."
   ]
  },
  {
   "cell_type": "code",
   "execution_count": 5,
   "metadata": {},
   "outputs": [
    {
     "name": "stderr",
     "output_type": "stream",
     "text": [
      "c:\\users\\ruifan\\mlfinlab\\mlfinlab\\labeling\\raw_return.py:31: UserWarning: lookback period is greater than the length of the Series. All labels will be NaN.\n",
      "  UserWarning)\n"
     ]
    },
    {
     "data": {
      "text/plain": [
       "Date\n",
       "2010-01-04   NaN\n",
       "2010-01-05   NaN\n",
       "2010-01-06   NaN\n",
       "2010-01-07   NaN\n",
       "2010-01-08   NaN\n",
       "2010-01-11   NaN\n",
       "2010-01-12   NaN\n",
       "2010-01-13   NaN\n",
       "2010-01-14   NaN\n",
       "2010-01-15   NaN\n",
       "Name: Close, dtype: float64"
      ]
     },
     "execution_count": 5,
     "metadata": {},
     "output_type": "execute_result"
    }
   ],
   "source": [
    "raw_return(close[:10], lookback=999)"
   ]
  },
  {
   "cell_type": "markdown",
   "metadata": {},
   "source": [
    "---\n",
    "## Conclusion"
   ]
  },
  {
   "cell_type": "markdown",
   "metadata": {},
   "source": [
    "This notebook presents the raw returns labeling method, which is the most basic and ubiquitous method used in financial data analysis. In this method, the return for an asset on a given day is calculated as a ratio of the asset's price on that day to the price on the previous day(s). This labeling method is a precursor to almost kind of financial analysis and is itself the first step in many other more complicated labeling techniques."
   ]
  },
  {
   "cell_type": "markdown",
   "metadata": {},
   "source": [
    "## References"
   ]
  },
  {
   "cell_type": "markdown",
   "metadata": {},
   "source": [
    "Coqueret, G. and Guida, T., 2020. Machine Learning For Factor Investing."
   ]
  }
 ],
 "metadata": {
  "kernelspec": {
   "display_name": "Python 3",
   "language": "python",
   "name": "python3"
  },
  "language_info": {
   "codemirror_mode": {
    "name": "ipython",
    "version": 3
   },
   "file_extension": ".py",
   "mimetype": "text/x-python",
   "name": "python",
   "nbconvert_exporter": "python",
   "pygments_lexer": "ipython3",
   "version": "3.7.4"
  }
 },
 "nbformat": 4,
 "nbformat_minor": 2
}
