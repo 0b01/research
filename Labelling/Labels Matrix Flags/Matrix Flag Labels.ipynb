{
 "cells": [
  {
   "cell_type": "code",
   "execution_count": 1,
   "metadata": {},
   "outputs": [],
   "source": [
    "import pandas as pd\n",
    "import numpy as np\n",
    "import matplotlib.pyplot as plt\n",
    "from pandas.plotting import register_matplotlib_converters\n",
    "register_matplotlib_converters()\n",
    "\n",
    "import yfinance as yf\n",
    "\n",
    "from mlfinlab.labeling.matrix_flags import MatrixFlagLabels"
   ]
  },
  {
   "cell_type": "markdown",
   "metadata": {},
   "source": [
    "# Labeling: Matrix Flags\n",
    "\n",
    "\n",
    "## Abstract \n",
    "\n",
    "The matrix flag labeling method is a multistep labeling method meant to match a data window of price data for a single stock with a template. In the literature, the template presented is a bull flag 10 by 10 template, with the first 7 columns representing the consolidation following an initial price surge, and the final 3 represent the breakout. Each column of the template corresponds to a chronological tenth of the data, and each row corresponds to a decile relative to the entire data window. Each element contains the proportion of points in each tenth that corresponds to the appropriate decile given by row. Once the data has been transformed this way, it is multiplied element-wise with the template, and the resulting matrix's sum of sum of columns is the scalar value denoting total fit for the day. The higher the fit, the better match with the template pattern.\n",
    "\n",
    "## Introduction \n",
    "\n",
    "Labeling price data according to a template to identify patterns in price changes is featured in the following paper:\n",
    "[\"Stock market trading rule based on pattern recognition and technical analysis: Forecasting the DJIA index with intraday data.\"](https://www.sciencedirect.com/science/article/abs/pii/S0957417415002110), by Cervelló-Royo et al., 2015.\n",
    "\n",
    "This method was originally introduced in [Stock market trading rule discovery\n",
    "using technical charting heuristics.](http://chart-patterns.technicalanalysis.org.uk/LMPR02.pdf), by Leigh et al., 2002, which describes this method in more detail.\n",
    "\n",
    "A bull flag occurs when a stock's price rapidly increases, followed by a downwards trending consolidation period, followed by a breakout increase in price legitimizing and increasing on the original increase. As defined, \"A bull flag pattern is a horizontal or downward sloping flag of consolidation followed by a sharp rise in the positive direction, the breakout.\" [Leigh et al. 2002]. Being able to identify the early stages of the breakout process can lead to a profitable strategy of buying the breakout and then selling some number of days later, when the price has theoretically stabilized again.\n",
    "\n",
    "Cervelló-Royo et al. expand on Leigh et al.'s work by proposing a new bull flag pattern which ameliorates some weaknesses in Leigh's original template, such as the possibility of false positives given the path the stock took. Additionally, he applies this bull flag labeling method to intraday candlestick data, rather than just closing prices.\n",
    "\n",
    "## How it works\n",
    "\n",
    "The bull flag labeling pattern requires the use of a template to match the price data to. Below is an example bull flag\n",
    "template originally used by Leigh et al. in 2002, and mentioned by Cervelló-Royo et al.\n",
    "\n",
    "![image_example](img/bull_flag_template.png)\n",
    "_*Fig. 1:*_ Original bull flag template. First 7 columns represend the consolidation while the last 3 represent breakout.\n",
    "\n",
    "To find the template fitting value for a given day, the relevant data window consists of the day's price and prices of a number of preceding days. The data window is split into 10 buckets each containing a chronological tenth of\n",
    "the data window. Decile cutoffs for prices in the entire data window are found. Each bucket is translated to a column with 10 elements, such that the topmost element is the proportions of prices in the bucket that is in the top decile in the entire data window, the second element is the proportion in the second decile, and so on until the tenth element is the proportion in the bottom decile. Thus, a column is generated for each of 10 buckets of the data. The columns are then put together chronologically such that the first column is on the left and last column is on the right in the resulting 10 by 10 matrix. The matrix is then multiplied element-wise by the template matrix, and all columns are summed. The sum of all columns, finally, is the fit value for the day. If desired, the user can specify a threshold to determine positive and negative classes. The value of the threshold depends on how strict of a classifier the user desires, and the allowable values based on the template matrix.\n",
    "\n",
    "WE illustrate this with a simple example. Suppose we have the following data window of 20 prices \\[100, 102, ..., 118, 120, 118, ..., 104, 102\\]. The decile cutoffs are then \\[102, 104, ..., 120\\]. Note that these cutoffs are right inclusive, so a value of 102 would fit into the (100, 102) percentile. We split the data into ten chronological subsets such that the first subset is \\[100, 102\\]. 100% of elements in the first subset fall into the lowest decile, so the corresponding column would be \\[0, 0, 0, 0, 0, 0, 0, 0, 0, 1\\]. The second subset is \\[104, 106\\], of which 1 out of 2 is in the 2nd decile, and the other is in the 3rd decile, so the column would be \\[0, 0, 0, 0, 0, 0, 0, 0.5, 0.5, 0\\]. This is done until the entire 10 by 10 matrix is generated. This matrix is then multiplied element-wise by the template, and resulting values are summed to get the total template fit. The higher the fit, the better match to the template. Using the template shown above, the highest possible fit is 10.\n",
    "\n",
    "---\n",
    "## Examples of use"
   ]
  },
  {
   "cell_type": "code",
   "execution_count": 2,
   "metadata": {},
   "outputs": [
    {
     "data": {
      "text/plain": [
       "Date\n",
       "2019-01-02    243.03\n",
       "2019-01-03    237.23\n",
       "2019-01-04    245.17\n",
       "2019-01-07    247.11\n",
       "2019-01-08    249.43\n",
       "Name: Close, dtype: float64"
      ]
     },
     "execution_count": 2,
     "metadata": {},
     "output_type": "execute_result"
    }
   ],
   "source": [
    "# Load price data. This method works on price data for a single stock, so a pd.Series must be used.\n",
    "msft = yf.Ticker('SPY')\n",
    "msft_df = msft.history(start='2019-1-1', end ='2020-5-18')\n",
    "\n",
    "close = msft_df['Close']\n",
    "close.head()"
   ]
  },
  {
   "cell_type": "markdown",
   "metadata": {},
   "source": [
    "Visualizing the data."
   ]
  },
  {
   "cell_type": "code",
   "execution_count": 3,
   "metadata": {},
   "outputs": [
    {
     "data": {
      "text/plain": [
       "Text(0.5, 0, 'Date')"
      ]
     },
     "execution_count": 3,
     "metadata": {},
     "output_type": "execute_result"
    },
    {
     "data": {
      "image/png": "[encoded data removed]",
      "text/plain": [
       "<Figure size 432x288 with 1 Axes>"
      ]
     },
     "metadata": {
      "needs_background": "light"
     },
     "output_type": "display_data"
    }
   ],
   "source": [
    "fig, ax = plt.subplots()\n",
    "ax = plt.plot(close)\n",
    "fig.autofmt_xdate()\n",
    "plt.title('MSFT Stock Price')\n",
    "plt.xlabel('Date')"
   ]
  },
  {
   "cell_type": "markdown",
   "metadata": {},
   "source": [
    "## Getting scores"
   ]
  },
  {
   "cell_type": "code",
   "execution_count": 4,
   "metadata": {},
   "outputs": [
    {
     "data": {
      "text/plain": [
       "Date\n",
       "2019-03-01   -2.375\n",
       "2019-03-04   -2.000\n",
       "2019-03-05   -2.375\n",
       "2019-03-06   -2.375\n",
       "2019-03-07   -2.500\n",
       "              ...  \n",
       "2020-05-11   -2.750\n",
       "2020-05-12   -2.500\n",
       "2020-05-13   -2.500\n",
       "2020-05-14   -2.250\n",
       "2020-05-15   -2.750\n",
       "Length: 306, dtype: float64"
      ]
     },
     "execution_count": 4,
     "metadata": {},
     "output_type": "execute_result"
    }
   ],
   "source": [
    "# We will use a window of 40.\n",
    "window1 = 40\n",
    "Flags = MatrixFlagLabels(data=close, window=window1)\n",
    "Flags.apply_labeling_matrix()"
   ]
  },
  {
   "cell_type": "markdown",
   "metadata": {},
   "source": [
    "The higher the fit value for the day, the better the prices in the window preceding match the bull flag template. For categorical labels, we can use a threshold. Daily fits above the threshold will return a positive label."
   ]
  },
  {
   "cell_type": "code",
   "execution_count": 5,
   "metadata": {},
   "outputs": [
    {
     "data": {
      "text/plain": [
       "-1    271\n",
       " 1     35\n",
       "dtype: int64"
      ]
     },
     "execution_count": 5,
     "metadata": {},
     "output_type": "execute_result"
    }
   ],
   "source": [
    "# Use threshold of 3.\n",
    "categorical = Flags.apply_labeling_matrix(threshold=3)\n",
    "categorical.value_counts()"
   ]
  },
  {
   "cell_type": "markdown",
   "metadata": {},
   "source": [
    "## Impact of window size"
   ]
  },
  {
   "cell_type": "markdown",
   "metadata": {},
   "source": [
    "We can visualize the points which get identified as being part of a bull flag pattern. The positive class marked on the figure match visually what a bull flag can look like. However, it's important to use the appropriate window relative to the timescale of price movements in the underlying; using too large or small of a window may result in missed labels."
   ]
  },
  {
   "cell_type": "code",
   "execution_count": 6,
   "metadata": {},
   "outputs": [
    {
     "data": {
      "text/plain": [
       "Text(0.5, 1.0, 'Window = 40 days')"
      ]
     },
     "execution_count": 6,
     "metadata": {},
     "output_type": "execute_result"
    },
    {
     "data": {
      "image/png": "[encoded data removed]",
      "text/plain": [
       "<Figure size 432x288 with 1 Axes>"
      ]
     },
     "metadata": {
      "needs_background": "light"
     },
     "output_type": "display_data"
    }
   ],
   "source": [
    "positives = close[window1:][categorical==1]\n",
    "\n",
    "fig, ax = plt.subplots()\n",
    "ax = plt.plot(close)\n",
    "plt.scatter(positives.index, positives, color='g')\n",
    "fig.autofmt_xdate()\n",
    "plt.title('Window = 40 days')"
   ]
  },
  {
   "cell_type": "markdown",
   "metadata": {},
   "source": [
    "Here are similar visualizations for varying window sizes."
   ]
  },
  {
   "cell_type": "code",
   "execution_count": 7,
   "metadata": {},
   "outputs": [
    {
     "data": {
      "text/plain": [
       "Text(0.5, 1.0, 'Window = 10 days')"
      ]
     },
     "execution_count": 7,
     "metadata": {},
     "output_type": "execute_result"
    },
    {
     "data": {
      "image/png": "[encoded data removed]",
      "text/plain": [
       "<Figure size 432x288 with 1 Axes>"
      ]
     },
     "metadata": {
      "needs_background": "light"
     },
     "output_type": "display_data"
    }
   ],
   "source": [
    "Flags2 = MatrixFlagLabels(data=close, window=10)\n",
    "categorical2 = Flags2.apply_labeling_matrix(threshold=3)\n",
    "positives2 = close[10:][categorical2==1]\n",
    "fig, ax = plt.subplots()\n",
    "ax = plt.plot(close)\n",
    "plt.scatter(positives2.index, positives2, color='g')\n",
    "fig.autofmt_xdate()\n",
    "plt.title('Window = 10 days')"
   ]
  },
  {
   "cell_type": "code",
   "execution_count": 8,
   "metadata": {},
   "outputs": [
    {
     "data": {
      "text/plain": [
       "Text(0.5, 1.0, 'Window = 80 days')"
      ]
     },
     "execution_count": 8,
     "metadata": {},
     "output_type": "execute_result"
    },
    {
     "data": {
      "image/png": "[encoded data removed]",
      "text/plain": [
       "<Figure size 432x288 with 1 Axes>"
      ]
     },
     "metadata": {
      "needs_background": "light"
     },
     "output_type": "display_data"
    }
   ],
   "source": [
    "Flags3 = MatrixFlagLabels(data=close, window=80)\n",
    "categorical3 = Flags3.apply_labeling_matrix(threshold=3)\n",
    "positives3 = close[80:][categorical3==1]\n",
    "fig, ax = plt.subplots()\n",
    "ax = plt.plot(close)\n",
    "plt.scatter(positives3.index, positives3, color='g')\n",
    "fig.autofmt_xdate()\n",
    "plt.title('Window = 80 days')"
   ]
  },
  {
   "cell_type": "markdown",
   "metadata": {},
   "source": [
    "As we can see, having a shorter window results in identifying short term, more granular bull flags, while missing longer term trends. Having a longer window identifies longer term bull trends, but misses shorter term prices movements."
   ]
  },
  {
   "cell_type": "markdown",
   "metadata": {},
   "source": [
    "## Setting custom template"
   ]
  },
  {
   "cell_type": "markdown",
   "metadata": {},
   "source": [
    "The default template is the one used by Leigh et al. However, there are some weaknesses with that template, in that false positives are possible depending on the path of prices \\[Cervello-Royo et al., 2015\\]. Referring to the template above, is is possible to trace the +1 values through the first 8 columns, and then rather than breaking out, trace the 0, and -2 values in the final 2 columns. This results in a very high fit value of 6, which should indicate a strong bull flag, but this is clearly a false positive. Cervelló-Royo et al. propose another template, which would ameliorate this problem. This template is likely only appropriate for intraday data, as it is too strict, with only 1 positive cell, to be used on close prices, which would demonstrate more local randomness."
   ]
  },
  {
   "cell_type": "code",
   "execution_count": 9,
   "metadata": {},
   "outputs": [],
   "source": [
    "# Cervelló-Royo's template\n",
    "new_template = pd.DataFrame([[0, 0, 0, 0, 0, 0, 0, 0, 0, 0],\n",
    "                            [0, 0, 0, 0, 0, 0, 0, 0, 0, 0],\n",
    "                            [0, 0, 0, 0, 0, 0, 0, 0, 0, 0],\n",
    "                            [0, 0, 0, 0, -1, -1, -1, -1, -1, -1],\n",
    "                            [0, 0, 0, -1, -2, -2, -2, -2, -2, -2],\n",
    "                            [0, 0, -1, -3, -3, -3, -3, -3, -3, -3],\n",
    "                            [0, -1, -3, -5, -5, -5, -5, -5, -5, -5],\n",
    "                            [0, -1, -5, -5, -5, -5, -5, -5, -5, -5],\n",
    "                            [0, -1, -5, -5, -5, -5, -5, -5, -5, -5],\n",
    "                            [5, -1, -5, -5, -5, -5, -5, -5, -5, -5]])"
   ]
  },
  {
   "cell_type": "code",
   "execution_count": 10,
   "metadata": {},
   "outputs": [
    {
     "data": {
      "text/html": [
       "<div>\n",
       "<style scoped>\n",
       "    .dataframe tbody tr th:only-of-type {\n",
       "        vertical-align: middle;\n",
       "    }\n",
       "\n",
       "    .dataframe tbody tr th {\n",
       "        vertical-align: top;\n",
       "    }\n",
       "\n",
       "    .dataframe thead th {\n",
       "        text-align: right;\n",
       "    }\n",
       "</style>\n",
       "<table border=\"1\" class=\"dataframe\">\n",
       "  <thead>\n",
       "    <tr style=\"text-align: right;\">\n",
       "      <th></th>\n",
       "      <th>0</th>\n",
       "      <th>1</th>\n",
       "      <th>2</th>\n",
       "      <th>3</th>\n",
       "      <th>4</th>\n",
       "      <th>5</th>\n",
       "      <th>6</th>\n",
       "      <th>7</th>\n",
       "      <th>8</th>\n",
       "      <th>9</th>\n",
       "    </tr>\n",
       "  </thead>\n",
       "  <tbody>\n",
       "    <tr>\n",
       "      <th>0</th>\n",
       "      <td>0</td>\n",
       "      <td>0</td>\n",
       "      <td>0</td>\n",
       "      <td>0</td>\n",
       "      <td>0</td>\n",
       "      <td>0</td>\n",
       "      <td>0</td>\n",
       "      <td>0</td>\n",
       "      <td>0</td>\n",
       "      <td>0</td>\n",
       "    </tr>\n",
       "    <tr>\n",
       "      <th>1</th>\n",
       "      <td>0</td>\n",
       "      <td>0</td>\n",
       "      <td>0</td>\n",
       "      <td>0</td>\n",
       "      <td>0</td>\n",
       "      <td>0</td>\n",
       "      <td>0</td>\n",
       "      <td>0</td>\n",
       "      <td>0</td>\n",
       "      <td>0</td>\n",
       "    </tr>\n",
       "    <tr>\n",
       "      <th>2</th>\n",
       "      <td>0</td>\n",
       "      <td>0</td>\n",
       "      <td>0</td>\n",
       "      <td>0</td>\n",
       "      <td>0</td>\n",
       "      <td>0</td>\n",
       "      <td>0</td>\n",
       "      <td>0</td>\n",
       "      <td>0</td>\n",
       "      <td>0</td>\n",
       "    </tr>\n",
       "    <tr>\n",
       "      <th>3</th>\n",
       "      <td>0</td>\n",
       "      <td>0</td>\n",
       "      <td>0</td>\n",
       "      <td>0</td>\n",
       "      <td>-1</td>\n",
       "      <td>-1</td>\n",
       "      <td>-1</td>\n",
       "      <td>-1</td>\n",
       "      <td>-1</td>\n",
       "      <td>-1</td>\n",
       "    </tr>\n",
       "    <tr>\n",
       "      <th>4</th>\n",
       "      <td>0</td>\n",
       "      <td>0</td>\n",
       "      <td>0</td>\n",
       "      <td>-1</td>\n",
       "      <td>-2</td>\n",
       "      <td>-2</td>\n",
       "      <td>-2</td>\n",
       "      <td>-2</td>\n",
       "      <td>-2</td>\n",
       "      <td>-2</td>\n",
       "    </tr>\n",
       "    <tr>\n",
       "      <th>5</th>\n",
       "      <td>0</td>\n",
       "      <td>0</td>\n",
       "      <td>-1</td>\n",
       "      <td>-3</td>\n",
       "      <td>-3</td>\n",
       "      <td>-3</td>\n",
       "      <td>-3</td>\n",
       "      <td>-3</td>\n",
       "      <td>-3</td>\n",
       "      <td>-3</td>\n",
       "    </tr>\n",
       "    <tr>\n",
       "      <th>6</th>\n",
       "      <td>0</td>\n",
       "      <td>-1</td>\n",
       "      <td>-3</td>\n",
       "      <td>-5</td>\n",
       "      <td>-5</td>\n",
       "      <td>-5</td>\n",
       "      <td>-5</td>\n",
       "      <td>-5</td>\n",
       "      <td>-5</td>\n",
       "      <td>-5</td>\n",
       "    </tr>\n",
       "    <tr>\n",
       "      <th>7</th>\n",
       "      <td>0</td>\n",
       "      <td>-1</td>\n",
       "      <td>-5</td>\n",
       "      <td>-5</td>\n",
       "      <td>-5</td>\n",
       "      <td>-5</td>\n",
       "      <td>-5</td>\n",
       "      <td>-5</td>\n",
       "      <td>-5</td>\n",
       "      <td>-5</td>\n",
       "    </tr>\n",
       "    <tr>\n",
       "      <th>8</th>\n",
       "      <td>0</td>\n",
       "      <td>-1</td>\n",
       "      <td>-5</td>\n",
       "      <td>-5</td>\n",
       "      <td>-5</td>\n",
       "      <td>-5</td>\n",
       "      <td>-5</td>\n",
       "      <td>-5</td>\n",
       "      <td>-5</td>\n",
       "      <td>-5</td>\n",
       "    </tr>\n",
       "    <tr>\n",
       "      <th>9</th>\n",
       "      <td>5</td>\n",
       "      <td>-1</td>\n",
       "      <td>-5</td>\n",
       "      <td>-5</td>\n",
       "      <td>-5</td>\n",
       "      <td>-5</td>\n",
       "      <td>-5</td>\n",
       "      <td>-5</td>\n",
       "      <td>-5</td>\n",
       "      <td>-5</td>\n",
       "    </tr>\n",
       "  </tbody>\n",
       "</table>\n",
       "</div>"
      ],
      "text/plain": [
       "   0  1  2  3  4  5  6  7  8  9\n",
       "0  0  0  0  0  0  0  0  0  0  0\n",
       "1  0  0  0  0  0  0  0  0  0  0\n",
       "2  0  0  0  0  0  0  0  0  0  0\n",
       "3  0  0  0  0 -1 -1 -1 -1 -1 -1\n",
       "4  0  0  0 -1 -2 -2 -2 -2 -2 -2\n",
       "5  0  0 -1 -3 -3 -3 -3 -3 -3 -3\n",
       "6  0 -1 -3 -5 -5 -5 -5 -5 -5 -5\n",
       "7  0 -1 -5 -5 -5 -5 -5 -5 -5 -5\n",
       "8  0 -1 -5 -5 -5 -5 -5 -5 -5 -5\n",
       "9  5 -1 -5 -5 -5 -5 -5 -5 -5 -5"
      ]
     },
     "execution_count": 10,
     "metadata": {},
     "output_type": "execute_result"
    }
   ],
   "source": [
    "Flags4 = MatrixFlagLabels(data=close, window=30)\n",
    "Flags4.set_template(new_template)\n",
    "Flags4.template"
   ]
  },
  {
   "cell_type": "markdown",
   "metadata": {},
   "source": [
    "## Bear instead of bull flags"
   ]
  },
  {
   "cell_type": "markdown",
   "metadata": {},
   "source": [
    "Let's stick to the original template, but flip it horizontally to create the bear flag template instead."
   ]
  },
  {
   "cell_type": "code",
   "execution_count": 11,
   "metadata": {},
   "outputs": [
    {
     "data": {
      "text/html": [
       "<div>\n",
       "<style scoped>\n",
       "    .dataframe tbody tr th:only-of-type {\n",
       "        vertical-align: middle;\n",
       "    }\n",
       "\n",
       "    .dataframe tbody tr th {\n",
       "        vertical-align: top;\n",
       "    }\n",
       "\n",
       "    .dataframe thead th {\n",
       "        text-align: right;\n",
       "    }\n",
       "</style>\n",
       "<table border=\"1\" class=\"dataframe\">\n",
       "  <thead>\n",
       "    <tr style=\"text-align: right;\">\n",
       "      <th></th>\n",
       "      <th>0</th>\n",
       "      <th>1</th>\n",
       "      <th>2</th>\n",
       "      <th>3</th>\n",
       "      <th>4</th>\n",
       "      <th>5</th>\n",
       "      <th>6</th>\n",
       "      <th>7</th>\n",
       "      <th>8</th>\n",
       "      <th>9</th>\n",
       "    </tr>\n",
       "  </thead>\n",
       "  <tbody>\n",
       "    <tr>\n",
       "      <th>0</th>\n",
       "      <td>-1.0</td>\n",
       "      <td>-1.0</td>\n",
       "      <td>-1.0</td>\n",
       "      <td>-1.0</td>\n",
       "      <td>-1.0</td>\n",
       "      <td>0.0</td>\n",
       "      <td>0.5</td>\n",
       "      <td>0.5</td>\n",
       "      <td>-2.0</td>\n",
       "      <td>-2.5</td>\n",
       "    </tr>\n",
       "    <tr>\n",
       "      <th>1</th>\n",
       "      <td>-1.0</td>\n",
       "      <td>-1.0</td>\n",
       "      <td>-1.0</td>\n",
       "      <td>-0.5</td>\n",
       "      <td>0.0</td>\n",
       "      <td>0.5</td>\n",
       "      <td>1.0</td>\n",
       "      <td>1.0</td>\n",
       "      <td>0.0</td>\n",
       "      <td>-2.0</td>\n",
       "    </tr>\n",
       "    <tr>\n",
       "      <th>2</th>\n",
       "      <td>-0.5</td>\n",
       "      <td>-1.0</td>\n",
       "      <td>0.0</td>\n",
       "      <td>0.0</td>\n",
       "      <td>0.5</td>\n",
       "      <td>1.0</td>\n",
       "      <td>1.0</td>\n",
       "      <td>1.0</td>\n",
       "      <td>1.0</td>\n",
       "      <td>0.0</td>\n",
       "    </tr>\n",
       "    <tr>\n",
       "      <th>3</th>\n",
       "      <td>-0.5</td>\n",
       "      <td>0.0</td>\n",
       "      <td>0.0</td>\n",
       "      <td>0.5</td>\n",
       "      <td>1.0</td>\n",
       "      <td>1.0</td>\n",
       "      <td>0.5</td>\n",
       "      <td>0.5</td>\n",
       "      <td>1.0</td>\n",
       "      <td>1.0</td>\n",
       "    </tr>\n",
       "    <tr>\n",
       "      <th>4</th>\n",
       "      <td>0.0</td>\n",
       "      <td>0.0</td>\n",
       "      <td>0.5</td>\n",
       "      <td>1.0</td>\n",
       "      <td>1.0</td>\n",
       "      <td>0.5</td>\n",
       "      <td>0.0</td>\n",
       "      <td>0.0</td>\n",
       "      <td>1.0</td>\n",
       "      <td>1.0</td>\n",
       "    </tr>\n",
       "    <tr>\n",
       "      <th>5</th>\n",
       "      <td>0.0</td>\n",
       "      <td>0.5</td>\n",
       "      <td>1.0</td>\n",
       "      <td>1.0</td>\n",
       "      <td>0.5</td>\n",
       "      <td>0.0</td>\n",
       "      <td>0.0</td>\n",
       "      <td>0.0</td>\n",
       "      <td>0.5</td>\n",
       "      <td>1.0</td>\n",
       "    </tr>\n",
       "    <tr>\n",
       "      <th>6</th>\n",
       "      <td>0.5</td>\n",
       "      <td>1.0</td>\n",
       "      <td>1.0</td>\n",
       "      <td>0.5</td>\n",
       "      <td>0.0</td>\n",
       "      <td>-0.5</td>\n",
       "      <td>-0.5</td>\n",
       "      <td>-0.5</td>\n",
       "      <td>0.0</td>\n",
       "      <td>1.0</td>\n",
       "    </tr>\n",
       "    <tr>\n",
       "      <th>7</th>\n",
       "      <td>1.0</td>\n",
       "      <td>1.0</td>\n",
       "      <td>0.5</td>\n",
       "      <td>0.0</td>\n",
       "      <td>-0.5</td>\n",
       "      <td>-0.5</td>\n",
       "      <td>-0.5</td>\n",
       "      <td>-0.5</td>\n",
       "      <td>0.0</td>\n",
       "      <td>0.5</td>\n",
       "    </tr>\n",
       "    <tr>\n",
       "      <th>8</th>\n",
       "      <td>1.0</td>\n",
       "      <td>0.5</td>\n",
       "      <td>0.0</td>\n",
       "      <td>-0.5</td>\n",
       "      <td>-1.0</td>\n",
       "      <td>-1.0</td>\n",
       "      <td>-1.0</td>\n",
       "      <td>-1.0</td>\n",
       "      <td>-0.5</td>\n",
       "      <td>0.0</td>\n",
       "    </tr>\n",
       "    <tr>\n",
       "      <th>9</th>\n",
       "      <td>0.5</td>\n",
       "      <td>0.0</td>\n",
       "      <td>-1.0</td>\n",
       "      <td>-1.0</td>\n",
       "      <td>-1.0</td>\n",
       "      <td>-1.0</td>\n",
       "      <td>-1.0</td>\n",
       "      <td>-1.0</td>\n",
       "      <td>-1.0</td>\n",
       "      <td>0.0</td>\n",
       "    </tr>\n",
       "  </tbody>\n",
       "</table>\n",
       "</div>"
      ],
      "text/plain": [
       "     0    1    2    3    4    5    6    7    8    9\n",
       "0 -1.0 -1.0 -1.0 -1.0 -1.0  0.0  0.5  0.5 -2.0 -2.5\n",
       "1 -1.0 -1.0 -1.0 -0.5  0.0  0.5  1.0  1.0  0.0 -2.0\n",
       "2 -0.5 -1.0  0.0  0.0  0.5  1.0  1.0  1.0  1.0  0.0\n",
       "3 -0.5  0.0  0.0  0.5  1.0  1.0  0.5  0.5  1.0  1.0\n",
       "4  0.0  0.0  0.5  1.0  1.0  0.5  0.0  0.0  1.0  1.0\n",
       "5  0.0  0.5  1.0  1.0  0.5  0.0  0.0  0.0  0.5  1.0\n",
       "6  0.5  1.0  1.0  0.5  0.0 -0.5 -0.5 -0.5  0.0  1.0\n",
       "7  1.0  1.0  0.5  0.0 -0.5 -0.5 -0.5 -0.5  0.0  0.5\n",
       "8  1.0  0.5  0.0 -0.5 -1.0 -1.0 -1.0 -1.0 -0.5  0.0\n",
       "9  0.5  0.0 -1.0 -1.0 -1.0 -1.0 -1.0 -1.0 -1.0  0.0"
      ]
     },
     "execution_count": 11,
     "metadata": {},
     "output_type": "execute_result"
    }
   ],
   "source": [
    "window5=40\n",
    "Flags5 = MatrixFlagLabels(data=close, window=window5)\n",
    "bear_template = pd.DataFrame(np.flip(np.array(Flags5.template), axis=0))\n",
    "Flags5.set_template(bear_template)\n",
    "Flags5.template"
   ]
  },
  {
   "cell_type": "code",
   "execution_count": 12,
   "metadata": {},
   "outputs": [
    {
     "data": {
      "text/plain": [
       "Text(0.5, 1.0, 'Window = 40 days, Bear flags')"
      ]
     },
     "execution_count": 12,
     "metadata": {},
     "output_type": "execute_result"
    },
    {
     "data": {
      "image/png": "[encoded data removed]",
      "text/plain": [
       "<Figure size 432x288 with 1 Axes>"
      ]
     },
     "metadata": {
      "needs_background": "light"
     },
     "output_type": "display_data"
    }
   ],
   "source": [
    "categorical5 = Flags5.apply_labeling_matrix(threshold=3)\n",
    "positives5 = close[window5:][categorical5==1]\n",
    "fig, ax = plt.subplots()\n",
    "ax = plt.plot(close)\n",
    "plt.scatter(positives5.index, positives5, color='g')\n",
    "fig.autofmt_xdate()\n",
    "plt.title('Window = 40 days, Bear flags')"
   ]
  },
  {
   "cell_type": "markdown",
   "metadata": {},
   "source": [
    "## Error Handling"
   ]
  },
  {
   "cell_type": "markdown",
   "metadata": {},
   "source": [
    "When initializing the class, note that the length of data series must be at least 10, window must be at least 10, length of data cannot be less than the window, and the data must be a pd.Series."
   ]
  },
  {
   "cell_type": "code",
   "execution_count": 13,
   "metadata": {},
   "outputs": [
    {
     "name": "stdout",
     "output_type": "stream",
     "text": [
      "Length of data must be at least 10.\n",
      "Window must be at least 10.\n",
      "Window cannot be greater than length of data.\n",
      "Data must be pd.Series.\n"
     ]
    }
   ],
   "source": [
    "try:\n",
    "    MatrixFlagLabels(close[0:7], window=30)\n",
    "except Exception as exc:\n",
    "    print(exc)\n",
    "\n",
    "try:\n",
    "    MatrixFlagLabels(close[0:50], window=5)\n",
    "except Exception as exc:\n",
    "    print(exc)\n",
    "    \n",
    "try:\n",
    "    MatrixFlagLabels(close[0:30], window=100)\n",
    "except Exception as exc:\n",
    "    print(exc)\n",
    "\n",
    "try:\n",
    "    MatrixFlagLabels([1, 2, 3, 4, 5, 6, 7, 8, 9, 10, 11, 12], window=10)\n",
    "except Exception as exc:\n",
    "    print(exc)   "
   ]
  },
  {
   "cell_type": "markdown",
   "metadata": {},
   "source": [
    "When setting a new template, the template must be a 10 by 10 matrix without any NaN values."
   ]
  },
  {
   "cell_type": "code",
   "execution_count": 14,
   "metadata": {},
   "outputs": [],
   "source": [
    "wrong_shape = pd.DataFrame(np.random.randint(-3, 3, size=(9, 10)))\n",
    "right_shape_with_nan = pd.DataFrame(np.random.randint(-3, 3, size=(10, 10)))\n",
    "right_shape_with_nan.iloc[2,2] = np.nan"
   ]
  },
  {
   "cell_type": "code",
   "execution_count": 15,
   "metadata": {},
   "outputs": [
    {
     "name": "stdout",
     "output_type": "stream",
     "text": [
      "Template must be 10 by 10.\n",
      "No NaN values allowed in template.\n"
     ]
    }
   ],
   "source": [
    "flags_error = MatrixFlagLabels(close[0:50], 10)\n",
    "                              \n",
    "try:\n",
    "    flags_error.set_template(wrong_shape)\n",
    "except Exception as exc:\n",
    "    print(exc)\n",
    "\n",
    "try:\n",
    "    flags_error.set_template(right_shape_with_nan)\n",
    "except Exception as exc:\n",
    "    print(exc)"
   ]
  },
  {
   "cell_type": "markdown",
   "metadata": {},
   "source": [
    "---\n",
    "## Conclusion"
   ]
  },
  {
   "cell_type": "markdown",
   "metadata": {},
   "source": [
    "This notebook demonstrates the method of applying a template matrix to data for labeling, which works on price data, where the label for a given day depends on price for the day and the preceding window number of prices. In this method:\n",
    "\n",
    "- Decile cutoffs are calculated for the entire data window.\n",
    "- The data window is split into 10 chronological sub-windows. Each point is mapped to its decile cutoff.\n",
    "- Columns are generated, with each of 10 sub-windows representing a column. The proportion of points in each sub-window in each decile is put in the column, with the top element corresponding to the highest decile and so in until the last element is the proportion in the lowest decile. Thus, a 10 by 10 matrix is generated.\n",
    " - The matrix is multiplied element-wise with the template, and the sum of sum of columns is found to get the fit value for the day.\n",
    "\n",
    "This method depends on the user knowing the correct template to use, as well as understanding the time scale of the data when setting a window. Windows which are small will catch granular changes, but not longer term trends, while large windows will capture long term trends but not small changes."
   ]
  },
  {
   "cell_type": "markdown",
   "metadata": {},
   "source": [
    "## References"
   ]
  },
  {
   "cell_type": "markdown",
   "metadata": {},
   "source": [
    "1. Cervelló-Royo, R., Guijarro, F. and Michniuk, K., 2015. Stock market trading rule based on pattern recognition and technical analysis: Forecasting the DJIA index with intraday data. Expert Systems with Applications, 42(14), pp.5963-5975.\n",
    "2. Leigh, W., Modani, N., Purvis, R. and Roberts, T., 2002. Stock market trading rule discovery using technical charting heuristics. Expert Systems with Applications, 23(2), pp.155-159."
   ]
  }
 ],
 "metadata": {
  "kernelspec": {
   "display_name": "Python 3",
   "language": "python",
   "name": "python3"
  },
  "language_info": {
   "codemirror_mode": {
    "name": "ipython",
    "version": 3
   },
   "file_extension": ".py",
   "mimetype": "text/x-python",
   "name": "python",
   "nbconvert_exporter": "python",
   "pygments_lexer": "ipython3",
   "version": "3.7.4"
  }
 },
 "nbformat": 4,
 "nbformat_minor": 2
}
