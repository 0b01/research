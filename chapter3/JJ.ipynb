{
 "cells": [
  {
   "cell_type": "markdown",
   "metadata": {},
   "source": [
    "# Chapter 3 Questions"
   ]
  },
  {
   "cell_type": "markdown",
   "metadata": {},
   "source": [
    "#### 3.1 Form dollar bars for E-mini S&P 500 futures:\n",
    "1. Apply a symmetric CUSUM filter (Chapter 2, Section 2.5.2.1) where the threshold is the standard deviation of daily returns (Snippet 3.1).\n",
    "2. Use Snippet 3.4 on a pandas series t1, where numDays=1.\n",
    "3. On those sampled features, apply the triple-barrier method, where ptSl=[1,1] and t1 is the series you created in point 1.b.\n",
    "4. Apply getBins to generate the labels."
   ]
  },
  {
   "cell_type": "code",
   "execution_count": 4,
   "metadata": {},
   "outputs": [],
   "source": [
    "import numpy as np\n",
    "import pandas as pd\n",
    "\n",
    "from mlfinlab.corefns.core_functions import CoreFunctions\n",
    "\n",
    "import matplotlib.pyplot as plt\n",
    "%matplotlib inline"
   ]
  },
  {
   "cell_type": "code",
   "execution_count": 5,
   "metadata": {},
   "outputs": [],
   "source": [
    "# Read in data\n",
    "data = pd.read_csv('official_data/dollar_bars.csv', nrows=20000)\n",
    "data.index = pd.to_datetime(data['date_time'])\n",
    "data = data.drop('date_time', axis=1)"
   ]
  },
  {
   "cell_type": "code",
   "execution_count": 7,
   "metadata": {},
   "outputs": [
    {
     "data": {
      "text/html": [
       "<div>\n",
       "<style scoped>\n",
       "    .dataframe tbody tr th:only-of-type {\n",
       "        vertical-align: middle;\n",
       "    }\n",
       "\n",
       "    .dataframe tbody tr th {\n",
       "        vertical-align: top;\n",
       "    }\n",
       "\n",
       "    .dataframe thead th {\n",
       "        text-align: right;\n",
       "    }\n",
       "</style>\n",
       "<table border=\"1\" class=\"dataframe\">\n",
       "  <thead>\n",
       "    <tr style=\"text-align: right;\">\n",
       "      <th></th>\n",
       "      <th>open</th>\n",
       "      <th>high</th>\n",
       "      <th>low</th>\n",
       "      <th>close</th>\n",
       "      <th>cum_vol</th>\n",
       "      <th>cum_dollar</th>\n",
       "      <th>cum_ticks</th>\n",
       "    </tr>\n",
       "    <tr>\n",
       "      <th>date_time</th>\n",
       "      <th></th>\n",
       "      <th></th>\n",
       "      <th></th>\n",
       "      <th></th>\n",
       "      <th></th>\n",
       "      <th></th>\n",
       "      <th></th>\n",
       "    </tr>\n",
       "  </thead>\n",
       "  <tbody>\n",
       "    <tr>\n",
       "      <th>2011-07-31 23:31:58.810</th>\n",
       "      <td>1306.00</td>\n",
       "      <td>1308.75</td>\n",
       "      <td>1301.75</td>\n",
       "      <td>1305.75</td>\n",
       "      <td>53658</td>\n",
       "      <td>70035704.75</td>\n",
       "      <td>14115</td>\n",
       "    </tr>\n",
       "    <tr>\n",
       "      <th>2011-08-01 02:55:17.443</th>\n",
       "      <td>1305.75</td>\n",
       "      <td>1309.50</td>\n",
       "      <td>1304.00</td>\n",
       "      <td>1306.50</td>\n",
       "      <td>53552</td>\n",
       "      <td>70006277.00</td>\n",
       "      <td>15422</td>\n",
       "    </tr>\n",
       "    <tr>\n",
       "      <th>2011-08-01 07:25:56.319</th>\n",
       "      <td>1306.75</td>\n",
       "      <td>1309.75</td>\n",
       "      <td>1304.75</td>\n",
       "      <td>1305.00</td>\n",
       "      <td>53543</td>\n",
       "      <td>70000901.00</td>\n",
       "      <td>14727</td>\n",
       "    </tr>\n",
       "    <tr>\n",
       "      <th>2011-08-01 08:33:10.903</th>\n",
       "      <td>1305.00</td>\n",
       "      <td>1305.00</td>\n",
       "      <td>1299.00</td>\n",
       "      <td>1300.00</td>\n",
       "      <td>53830</td>\n",
       "      <td>70094217.75</td>\n",
       "      <td>14987</td>\n",
       "    </tr>\n",
       "    <tr>\n",
       "      <th>2011-08-01 10:51:41.842</th>\n",
       "      <td>1300.00</td>\n",
       "      <td>1307.75</td>\n",
       "      <td>1299.00</td>\n",
       "      <td>1307.75</td>\n",
       "      <td>53734</td>\n",
       "      <td>70033006.25</td>\n",
       "      <td>14499</td>\n",
       "    </tr>\n",
       "  </tbody>\n",
       "</table>\n",
       "</div>"
      ],
      "text/plain": [
       "                            open     high      low    close  cum_vol  \\\n",
       "date_time                                                              \n",
       "2011-07-31 23:31:58.810  1306.00  1308.75  1301.75  1305.75    53658   \n",
       "2011-08-01 02:55:17.443  1305.75  1309.50  1304.00  1306.50    53552   \n",
       "2011-08-01 07:25:56.319  1306.75  1309.75  1304.75  1305.00    53543   \n",
       "2011-08-01 08:33:10.903  1305.00  1305.00  1299.00  1300.00    53830   \n",
       "2011-08-01 10:51:41.842  1300.00  1307.75  1299.00  1307.75    53734   \n",
       "\n",
       "                          cum_dollar  cum_ticks  \n",
       "date_time                                        \n",
       "2011-07-31 23:31:58.810  70035704.75      14115  \n",
       "2011-08-01 02:55:17.443  70006277.00      15422  \n",
       "2011-08-01 07:25:56.319  70000901.00      14727  \n",
       "2011-08-01 08:33:10.903  70094217.75      14987  \n",
       "2011-08-01 10:51:41.842  70033006.25      14499  "
      ]
     },
     "execution_count": 7,
     "metadata": {},
     "output_type": "execute_result"
    }
   ],
   "source": [
    "data.head()"
   ]
  },
  {
   "cell_type": "markdown",
   "metadata": {},
   "source": [
    "**Apply a symmetric CUSUM filter (Chapter 2, Section 2.5.2.1) where the threshold is the standard deviation of daily returns (Snippet 3.1).**"
   ]
  },
  {
   "cell_type": "code",
   "execution_count": 8,
   "metadata": {},
   "outputs": [
    {
     "name": "stdout",
     "output_type": "stream",
     "text": [
      "Calculating daily volatility for dynamic thresholds\n"
     ]
    }
   ],
   "source": [
    "# Compute daily volatility\n",
    "vol = CoreFunctions.get_daily_vol(close=data['close'], lookback=100)"
   ]
  },
  {
   "cell_type": "code",
   "execution_count": 9,
   "metadata": {},
   "outputs": [
    {
     "data": {
      "image/png": "[encoded data removed]",
      "text/plain": [
       "<Figure size 1008x504 with 1 Axes>"
      ]
     },
     "metadata": {
      "needs_background": "light"
     },
     "output_type": "display_data"
    }
   ],
   "source": [
    "vol.plot(figsize=(14, 7), title='Volatility as caclulated by de Prado')\n",
    "plt.show()"
   ]
  },
  {
   "cell_type": "code",
   "execution_count": 10,
   "metadata": {},
   "outputs": [
    {
     "name": "stdout",
     "output_type": "stream",
     "text": [
      "Applying Symmetric CUSUM filter.\n"
     ]
    },
    {
     "name": "stderr",
     "output_type": "stream",
     "text": [
      "100%|███████████████████████████████████████████████████████████████████████████████| 19998/19998 [00:02<00:00, 6965.12it/s]\n"
     ]
    }
   ],
   "source": [
    "# Apply Symmetric CUSUM Filter and get timestamps for events\n",
    "# Note: Only the CUSUM filter needs a point estimate for volatility\n",
    "cusum_events = CoreFunctions.get_t_events(data['close'], threshold=vol.mean())"
   ]
  },
  {
   "cell_type": "markdown",
   "metadata": {},
   "source": [
    "**Use Snippet 3.4 on a pandas series t1, where numDays=1.**"
   ]
  },
  {
   "cell_type": "code",
   "execution_count": 11,
   "metadata": {},
   "outputs": [
    {
     "data": {
      "text/plain": [
       "2011-08-01 13:46:23.650   2011-08-02 13:50:40.053\n",
       "2011-08-01 14:01:38.747   2011-08-02 14:04:29.869\n",
       "2011-08-01 15:38:23.090   2011-08-02 15:49:00.114\n",
       "2011-08-01 19:25:42.891   2011-08-02 19:26:07.927\n",
       "2011-08-02 07:31:03.237   2011-08-03 08:02:36.120\n",
       "Name: date_time, dtype: datetime64[ns]"
      ]
     },
     "execution_count": 11,
     "metadata": {},
     "output_type": "execute_result"
    }
   ],
   "source": [
    "# Compute vertical barrier\n",
    "vertical_barriers = CoreFunctions.add_vertical_barrier(cusum_events, data['close'])\n",
    "vertical_barriers.head()"
   ]
  },
  {
   "cell_type": "markdown",
   "metadata": {},
   "source": [
    "**On those sampled features, apply the triple-barrier method, where ptSl=[1,1] and t1 is the series you created in point 1.b.**"
   ]
  },
  {
   "cell_type": "code",
   "execution_count": 12,
   "metadata": {},
   "outputs": [
    {
     "name": "stderr",
     "output_type": "stream",
     "text": [
      "D:\\Documents\\WQU\\Courses\\14 - Capstone 690\\cs\\chapter3\\mlfinlab\\corefns\\core_functions.py:182: FutureWarning: \n",
      "Passing list-likes to .loc or [] with any missing label will raise\n",
      "KeyError in the future, you can use .reindex() as an alternative.\n",
      "\n",
      "See the documentation here:\n",
      "https://pandas.pydata.org/pandas-docs/stable/indexing.html#deprecate-loc-reindex-listlike\n",
      "  target = target.loc[t_events]\n"
     ]
    }
   ],
   "source": [
    "triple_barrier_events = CoreFunctions.get_events(close=data['close'],\n",
    "                                  t_events=cusum_events,\n",
    "                                  pt_sl=[1, 1],\n",
    "                                  target=vol,\n",
    "                                  min_ret=0.01,\n",
    "                                  num_threads=1,\n",
    "                                  vertical_barrier_times=vertical_barriers,\n",
    "                                  side=None)"
   ]
  },
  {
   "cell_type": "code",
   "execution_count": 13,
   "metadata": {},
   "outputs": [
    {
     "data": {
      "text/html": [
       "<div>\n",
       "<style scoped>\n",
       "    .dataframe tbody tr th:only-of-type {\n",
       "        vertical-align: middle;\n",
       "    }\n",
       "\n",
       "    .dataframe tbody tr th {\n",
       "        vertical-align: top;\n",
       "    }\n",
       "\n",
       "    .dataframe thead th {\n",
       "        text-align: right;\n",
       "    }\n",
       "</style>\n",
       "<table border=\"1\" class=\"dataframe\">\n",
       "  <thead>\n",
       "    <tr style=\"text-align: right;\">\n",
       "      <th></th>\n",
       "      <th>t1</th>\n",
       "      <th>trgt</th>\n",
       "    </tr>\n",
       "  </thead>\n",
       "  <tbody>\n",
       "    <tr>\n",
       "      <th>2011-08-04 01:57:00.466</th>\n",
       "      <td>2011-08-04 10:27:24.326</td>\n",
       "      <td>0.011060</td>\n",
       "    </tr>\n",
       "    <tr>\n",
       "      <th>2011-08-04 09:53:01.844</th>\n",
       "      <td>2011-08-04 13:50:40.606</td>\n",
       "      <td>0.011529</td>\n",
       "    </tr>\n",
       "    <tr>\n",
       "      <th>2011-08-04 12:43:40.327</th>\n",
       "      <td>2011-08-04 15:01:19.020</td>\n",
       "      <td>0.010884</td>\n",
       "    </tr>\n",
       "    <tr>\n",
       "      <th>2011-08-04 19:30:23.101</th>\n",
       "      <td>2011-08-05 06:36:24.009</td>\n",
       "      <td>0.010586</td>\n",
       "    </tr>\n",
       "    <tr>\n",
       "      <th>2011-08-04 19:53:02.682</th>\n",
       "      <td>2011-08-05 12:30:19.803</td>\n",
       "      <td>0.012946</td>\n",
       "    </tr>\n",
       "  </tbody>\n",
       "</table>\n",
       "</div>"
      ],
      "text/plain": [
       "                                             t1      trgt\n",
       "2011-08-04 01:57:00.466 2011-08-04 10:27:24.326  0.011060\n",
       "2011-08-04 09:53:01.844 2011-08-04 13:50:40.606  0.011529\n",
       "2011-08-04 12:43:40.327 2011-08-04 15:01:19.020  0.010884\n",
       "2011-08-04 19:30:23.101 2011-08-05 06:36:24.009  0.010586\n",
       "2011-08-04 19:53:02.682 2011-08-05 12:30:19.803  0.012946"
      ]
     },
     "execution_count": 13,
     "metadata": {},
     "output_type": "execute_result"
    }
   ],
   "source": [
    "triple_barrier_events.head()"
   ]
  },
  {
   "cell_type": "code",
   "execution_count": 14,
   "metadata": {},
   "outputs": [],
   "source": [
    "labels = CoreFunctions.get_bins(triple_barrier_events, data['close'])"
   ]
  },
  {
   "cell_type": "code",
   "execution_count": 15,
   "metadata": {},
   "outputs": [
    {
     "data": {
      "text/html": [
       "<div>\n",
       "<style scoped>\n",
       "    .dataframe tbody tr th:only-of-type {\n",
       "        vertical-align: middle;\n",
       "    }\n",
       "\n",
       "    .dataframe tbody tr th {\n",
       "        vertical-align: top;\n",
       "    }\n",
       "\n",
       "    .dataframe thead th {\n",
       "        text-align: right;\n",
       "    }\n",
       "</style>\n",
       "<table border=\"1\" class=\"dataframe\">\n",
       "  <thead>\n",
       "    <tr style=\"text-align: right;\">\n",
       "      <th></th>\n",
       "      <th>ret</th>\n",
       "      <th>trgt</th>\n",
       "      <th>bin</th>\n",
       "    </tr>\n",
       "  </thead>\n",
       "  <tbody>\n",
       "    <tr>\n",
       "      <th>2011-08-04 01:57:00.466</th>\n",
       "      <td>-0.016254</td>\n",
       "      <td>0.011060</td>\n",
       "      <td>-1</td>\n",
       "    </tr>\n",
       "    <tr>\n",
       "      <th>2011-08-04 09:53:01.844</th>\n",
       "      <td>-0.012014</td>\n",
       "      <td>0.011529</td>\n",
       "      <td>-1</td>\n",
       "    </tr>\n",
       "    <tr>\n",
       "      <th>2011-08-04 12:43:40.327</th>\n",
       "      <td>-0.011109</td>\n",
       "      <td>0.010884</td>\n",
       "      <td>-1</td>\n",
       "    </tr>\n",
       "    <tr>\n",
       "      <th>2011-08-04 19:30:23.101</th>\n",
       "      <td>-0.012435</td>\n",
       "      <td>0.010586</td>\n",
       "      <td>-1</td>\n",
       "    </tr>\n",
       "    <tr>\n",
       "      <th>2011-08-04 19:53:02.682</th>\n",
       "      <td>0.014829</td>\n",
       "      <td>0.012946</td>\n",
       "      <td>1</td>\n",
       "    </tr>\n",
       "  </tbody>\n",
       "</table>\n",
       "</div>"
      ],
      "text/plain": [
       "                              ret      trgt  bin\n",
       "2011-08-04 01:57:00.466 -0.016254  0.011060   -1\n",
       "2011-08-04 09:53:01.844 -0.012014  0.011529   -1\n",
       "2011-08-04 12:43:40.327 -0.011109  0.010884   -1\n",
       "2011-08-04 19:30:23.101 -0.012435  0.010586   -1\n",
       "2011-08-04 19:53:02.682  0.014829  0.012946    1"
      ]
     },
     "execution_count": 15,
     "metadata": {},
     "output_type": "execute_result"
    }
   ],
   "source": [
    "labels.head()"
   ]
  },
  {
   "cell_type": "code",
   "execution_count": 16,
   "metadata": {},
   "outputs": [
    {
     "data": {
      "text/plain": [
       " 0    201\n",
       " 1    175\n",
       "-1    136\n",
       "Name: bin, dtype: int64"
      ]
     },
     "execution_count": 16,
     "metadata": {},
     "output_type": "execute_result"
    }
   ],
   "source": [
    "labels['bin'].value_counts()"
   ]
  },
  {
   "cell_type": "markdown",
   "metadata": {},
   "source": [
    "---\n",
    "#### 3.2 From exercise 1, use Snippet 3.8 to drop rare labels."
   ]
  },
  {
   "cell_type": "code",
   "execution_count": 17,
   "metadata": {},
   "outputs": [],
   "source": [
    "clean_labels = CoreFunctions.drop_labels(labels)"
   ]
  },
  {
   "cell_type": "code",
   "execution_count": 18,
   "metadata": {},
   "outputs": [
    {
     "name": "stdout",
     "output_type": "stream",
     "text": [
      "(512, 3)\n",
      "(512, 3)\n"
     ]
    }
   ],
   "source": [
    "print(labels.shape)\n",
    "print(clean_labels.shape)"
   ]
  },
  {
   "cell_type": "markdown",
   "metadata": {},
   "source": [
    "---\n",
    "#### 3.3 Adjust the getBins function (Snippet 3.5) to return a 0 whenever the vertical barrier is the one touched first.\n",
    "This change was made inside the module CoreFunctions."
   ]
  },
  {
   "cell_type": "markdown",
   "metadata": {},
   "source": [
    "---\n",
    "#### 3.4 Develop a trend-following strategy based on a popular technical analysis statistic (e.g., crossing moving averages). For each observation, themodel suggests a side, but not a size of the bet.\n",
    "\n",
    "1. Derive meta-labels for pt_sl = [1,2] and t1 where num_days=1. Use as trgt the daily standard deviation as computed by Snippet 3.1.\n",
    "2. Train a random forest to decide whether to trade or not. Note: The decision is whether to trade or not, {0,1}, since the underllying model (the crossing moveing average has decided the side{-1, 1})"
   ]
  },
  {
   "cell_type": "code",
   "execution_count": 21,
   "metadata": {},
   "outputs": [
    {
     "name": "stdout",
     "output_type": "stream",
     "text": [
      "20000\n"
     ]
    },
    {
     "data": {
      "text/plain": [
       "date_time\n",
       "2011-07-31 23:31:58.810    1305.75\n",
       "2011-08-01 02:55:17.443    1306.50\n",
       "2011-08-01 07:25:56.319    1305.00\n",
       "2011-08-01 08:33:10.903    1300.00\n",
       "2011-08-01 10:51:41.842    1307.75\n",
       "Name: close, dtype: float64"
      ]
     },
     "execution_count": 21,
     "metadata": {},
     "output_type": "execute_result"
    }
   ],
   "source": [
    "close_prices = data['close']\n",
    "print(len(close_prices))\n",
    "close_prices.head()"
   ]
  },
  {
   "cell_type": "markdown",
   "metadata": {},
   "source": [
    "Define the window size for crossover lines"
   ]
  },
  {
   "cell_type": "code",
   "execution_count": 28,
   "metadata": {},
   "outputs": [],
   "source": [
    "short_window = 3\n",
    "long_window = 7"
   ]
  },
  {
   "cell_type": "markdown",
   "metadata": {},
   "source": [
    "Create a data frame with the close prices and the rolling moving averages"
   ]
  },
  {
   "cell_type": "code",
   "execution_count": 40,
   "metadata": {},
   "outputs": [
    {
     "data": {
      "text/html": [
       "<div>\n",
       "<style scoped>\n",
       "    .dataframe tbody tr th:only-of-type {\n",
       "        vertical-align: middle;\n",
       "    }\n",
       "\n",
       "    .dataframe tbody tr th {\n",
       "        vertical-align: top;\n",
       "    }\n",
       "\n",
       "    .dataframe thead th {\n",
       "        text-align: right;\n",
       "    }\n",
       "</style>\n",
       "<table border=\"1\" class=\"dataframe\">\n",
       "  <thead>\n",
       "    <tr style=\"text-align: right;\">\n",
       "      <th></th>\n",
       "      <th>price</th>\n",
       "      <th>short_ma</th>\n",
       "      <th>long_ma</th>\n",
       "      <th>signal</th>\n",
       "    </tr>\n",
       "    <tr>\n",
       "      <th>date_time</th>\n",
       "      <th></th>\n",
       "      <th></th>\n",
       "      <th></th>\n",
       "      <th></th>\n",
       "    </tr>\n",
       "  </thead>\n",
       "  <tbody>\n",
       "    <tr>\n",
       "      <th>2011-07-31 23:31:58.810</th>\n",
       "      <td>1305.75</td>\n",
       "      <td>1305.750000</td>\n",
       "      <td>1305.750000</td>\n",
       "      <td>0.0</td>\n",
       "    </tr>\n",
       "    <tr>\n",
       "      <th>2011-08-01 02:55:17.443</th>\n",
       "      <td>1306.50</td>\n",
       "      <td>1306.178571</td>\n",
       "      <td>1306.150000</td>\n",
       "      <td>0.0</td>\n",
       "    </tr>\n",
       "    <tr>\n",
       "      <th>2011-08-01 07:25:56.319</th>\n",
       "      <td>1305.00</td>\n",
       "      <td>1305.668919</td>\n",
       "      <td>1305.714497</td>\n",
       "      <td>0.0</td>\n",
       "    </tr>\n",
       "    <tr>\n",
       "      <th>2011-08-01 08:33:10.903</th>\n",
       "      <td>1300.00</td>\n",
       "      <td>1303.595714</td>\n",
       "      <td>1303.988348</td>\n",
       "      <td>0.0</td>\n",
       "    </tr>\n",
       "    <tr>\n",
       "      <th>2011-08-01 10:51:41.842</th>\n",
       "      <td>1307.75</td>\n",
       "      <td>1304.957426</td>\n",
       "      <td>1304.953684</td>\n",
       "      <td>0.0</td>\n",
       "    </tr>\n",
       "    <tr>\n",
       "      <th>2011-08-01 12:10:26.542</th>\n",
       "      <td>1303.50</td>\n",
       "      <td>1304.514182</td>\n",
       "      <td>1304.624023</td>\n",
       "      <td>0.0</td>\n",
       "    </tr>\n",
       "    <tr>\n",
       "      <th>2011-08-01 13:05:38.802</th>\n",
       "      <td>1302.00</td>\n",
       "      <td>1303.788811</td>\n",
       "      <td>1304.083927</td>\n",
       "      <td>0.0</td>\n",
       "    </tr>\n",
       "    <tr>\n",
       "      <th>2011-08-01 13:30:25.769</th>\n",
       "      <td>1303.50</td>\n",
       "      <td>1303.708576</td>\n",
       "      <td>1303.972726</td>\n",
       "      <td>0.0</td>\n",
       "    </tr>\n",
       "    <tr>\n",
       "      <th>2011-08-01 13:34:11.222</th>\n",
       "      <td>1302.75</td>\n",
       "      <td>1303.449477</td>\n",
       "      <td>1303.754177</td>\n",
       "      <td>0.0</td>\n",
       "    </tr>\n",
       "    <tr>\n",
       "      <th>2011-08-01 13:36:46.215</th>\n",
       "      <td>1299.00</td>\n",
       "      <td>1302.270729</td>\n",
       "      <td>1302.947755</td>\n",
       "      <td>0.0</td>\n",
       "    </tr>\n",
       "    <tr>\n",
       "      <th>2011-08-01 13:41:09.288</th>\n",
       "      <td>1297.00</td>\n",
       "      <td>1300.894940</td>\n",
       "      <td>1301.981971</td>\n",
       "      <td>0.0</td>\n",
       "    </tr>\n",
       "    <tr>\n",
       "      <th>2011-08-01 13:46:23.650</th>\n",
       "      <td>1295.75</td>\n",
       "      <td>1299.566629</td>\n",
       "      <td>1301.006497</td>\n",
       "      <td>0.0</td>\n",
       "    </tr>\n",
       "    <tr>\n",
       "      <th>2011-08-01 13:50:55.799</th>\n",
       "      <td>1293.25</td>\n",
       "      <td>1297.949042</td>\n",
       "      <td>1299.829501</td>\n",
       "      <td>0.0</td>\n",
       "    </tr>\n",
       "    <tr>\n",
       "      <th>2011-08-01 13:56:56.220</th>\n",
       "      <td>1292.25</td>\n",
       "      <td>1296.498435</td>\n",
       "      <td>1298.709320</td>\n",
       "      <td>0.0</td>\n",
       "    </tr>\n",
       "    <tr>\n",
       "      <th>2011-08-01 14:00:21.448</th>\n",
       "      <td>1286.75</td>\n",
       "      <td>1294.028317</td>\n",
       "      <td>1296.981227</td>\n",
       "      <td>0.0</td>\n",
       "    </tr>\n",
       "    <tr>\n",
       "      <th>2011-08-01 14:01:38.747</th>\n",
       "      <td>1284.50</td>\n",
       "      <td>1291.622121</td>\n",
       "      <td>1295.212211</td>\n",
       "      <td>0.0</td>\n",
       "    </tr>\n",
       "    <tr>\n",
       "      <th>2011-08-01 14:03:22.782</th>\n",
       "      <td>1279.00</td>\n",
       "      <td>1288.442691</td>\n",
       "      <td>1292.952207</td>\n",
       "      <td>0.0</td>\n",
       "    </tr>\n",
       "    <tr>\n",
       "      <th>2011-08-01 14:04:31.604</th>\n",
       "      <td>1276.00</td>\n",
       "      <td>1285.314382</td>\n",
       "      <td>1290.622595</td>\n",
       "      <td>0.0</td>\n",
       "    </tr>\n",
       "    <tr>\n",
       "      <th>2011-08-01 14:06:25.239</th>\n",
       "      <td>1279.75</td>\n",
       "      <td>1283.917380</td>\n",
       "      <td>1289.146791</td>\n",
       "      <td>0.0</td>\n",
       "    </tr>\n",
       "    <tr>\n",
       "      <th>2011-08-01 14:09:04.277</th>\n",
       "      <td>1283.00</td>\n",
       "      <td>1283.687305</td>\n",
       "      <td>1288.321312</td>\n",
       "      <td>0.0</td>\n",
       "    </tr>\n",
       "  </tbody>\n",
       "</table>\n",
       "</div>"
      ],
      "text/plain": [
       "                           price     short_ma      long_ma  signal\n",
       "date_time                                                         \n",
       "2011-07-31 23:31:58.810  1305.75  1305.750000  1305.750000     0.0\n",
       "2011-08-01 02:55:17.443  1306.50  1306.178571  1306.150000     0.0\n",
       "2011-08-01 07:25:56.319  1305.00  1305.668919  1305.714497     0.0\n",
       "2011-08-01 08:33:10.903  1300.00  1303.595714  1303.988348     0.0\n",
       "2011-08-01 10:51:41.842  1307.75  1304.957426  1304.953684     0.0\n",
       "2011-08-01 12:10:26.542  1303.50  1304.514182  1304.624023     0.0\n",
       "2011-08-01 13:05:38.802  1302.00  1303.788811  1304.083927     0.0\n",
       "2011-08-01 13:30:25.769  1303.50  1303.708576  1303.972726     0.0\n",
       "2011-08-01 13:34:11.222  1302.75  1303.449477  1303.754177     0.0\n",
       "2011-08-01 13:36:46.215  1299.00  1302.270729  1302.947755     0.0\n",
       "2011-08-01 13:41:09.288  1297.00  1300.894940  1301.981971     0.0\n",
       "2011-08-01 13:46:23.650  1295.75  1299.566629  1301.006497     0.0\n",
       "2011-08-01 13:50:55.799  1293.25  1297.949042  1299.829501     0.0\n",
       "2011-08-01 13:56:56.220  1292.25  1296.498435  1298.709320     0.0\n",
       "2011-08-01 14:00:21.448  1286.75  1294.028317  1296.981227     0.0\n",
       "2011-08-01 14:01:38.747  1284.50  1291.622121  1295.212211     0.0\n",
       "2011-08-01 14:03:22.782  1279.00  1288.442691  1292.952207     0.0\n",
       "2011-08-01 14:04:31.604  1276.00  1285.314382  1290.622595     0.0\n",
       "2011-08-01 14:06:25.239  1279.75  1283.917380  1289.146791     0.0\n",
       "2011-08-01 14:09:04.277  1283.00  1283.687305  1288.321312     0.0"
      ]
     },
     "execution_count": 40,
     "metadata": {},
     "output_type": "execute_result"
    }
   ],
   "source": [
    "signal_df = (pd.DataFrame()\n",
    "             .assign(price=close_prices)\n",
    "             .assign(short_ma=close_prices.ewm(short_window).mean())\n",
    "             .assign(long_ma=close_prices.ewm(long_window).mean())\n",
    "            )\n",
    "signal_df['signal'] = 0.\n",
    "signal_df.head(20)"
   ]
  },
  {
   "cell_type": "markdown",
   "metadata": {},
   "source": [
    "Create a signal when the short MA crosses over the long MA.\n",
    "Ensure that this is done for the period that is larger than the shortest MA window"
   ]
  },
  {
   "cell_type": "code",
   "execution_count": 48,
   "metadata": {},
   "outputs": [],
   "source": [
    "def get_up_crosses(df):\n",
    "    crit1 = df.short_ma.shift(1) < df.long_ma.shift(1)  # previous value was below\n",
    "    crit2 = df.short_ma > df.long_ma  # this value is above\n",
    "    return df.short_ma[(crit1) & (crit2)]\n",
    "\n",
    "def get_down_crosses(df):\n",
    "    crit1 = df.short_ma.shift(1) > df.long_ma.shift(1)  # previous value was above\n",
    "    crit2 = df.short_ma < df.long_ma  # this value is below\n",
    "    return df.short_ma[(crit1) & (crit2)]\n",
    "\n",
    "def create_side_series(up, down):\n",
    "    # indices for the up signal\n",
    "    up_points = pd.Series(1, index=up.index)\n",
    "\n",
    "    # indices for the down signal\n",
    "    down_points = pd.Series(-1, index=down.index)\n",
    "    \n",
    "    side = pd.concat([up_points, down_points]).sort_index()\n",
    "    return side"
   ]
  },
  {
   "cell_type": "code",
   "execution_count": 39,
   "metadata": {},
   "outputs": [
    {
     "data": {
      "text/plain": [
       "date_time\n",
       "2011-08-01 10:51:41.842    1304.957426\n",
       "2011-08-01 19:07:22.748    1276.955613\n",
       "2011-08-02 13:58:04.741    1276.133557\n",
       "2011-08-03 13:07:43.154    1252.345743\n",
       "2011-08-03 15:17:23.195    1241.700169\n",
       "Name: short_ma, dtype: float64"
      ]
     },
     "execution_count": 39,
     "metadata": {},
     "output_type": "execute_result"
    }
   ],
   "source": [
    "up = get_up_crosses(signal_df)\n",
    "down = get_down_crosses(signal_df)\n",
    "print(up.head())"
   ]
  },
  {
   "cell_type": "markdown",
   "metadata": {},
   "source": [
    "Compute side"
   ]
  },
  {
   "cell_type": "code",
   "execution_count": 50,
   "metadata": {},
   "outputs": [
    {
     "name": "stdout",
     "output_type": "stream",
     "text": [
      " 1    603\n",
      "-1    603\n",
      "dtype: int64\n",
      "date_time\n",
      "2011-08-01 07:25:56.319   -1\n",
      "2011-08-01 10:51:41.842    1\n",
      "2011-08-01 12:10:26.542   -1\n",
      "2011-08-01 19:07:22.748    1\n",
      "2011-08-02 07:31:03.237   -1\n",
      "2011-08-02 13:58:04.741    1\n",
      "2011-08-02 14:27:55.423   -1\n",
      "2011-08-03 13:07:43.154    1\n",
      "2011-08-03 13:31:30.677   -1\n",
      "2011-08-03 15:17:23.195    1\n",
      "dtype: int64\n"
     ]
    }
   ],
   "source": [
    "side = create_side_series(up, down)\n",
    "print(side.value_counts())\n",
    "print(side.head(10))"
   ]
  },
  {
   "cell_type": "code",
   "execution_count": 51,
   "metadata": {},
   "outputs": [
    {
     "data": {
      "text/plain": [
       "<matplotlib.legend.Legend at 0xd0e8b38>"
      ]
     },
     "execution_count": 51,
     "metadata": {},
     "output_type": "execute_result"
    },
    {
     "data": {
      "image/png": "[encoded data removed]",
      "text/plain": [
       "<Figure size 792x576 with 1 Axes>"
      ]
     },
     "metadata": {
      "needs_background": "light"
     },
     "output_type": "display_data"
    }
   ],
   "source": [
    "max_value = np.max(signal_df.price)\n",
    "min_value = np.min(signal_df.price)\n",
    "\n",
    "f, ax = plt.subplots(figsize=(11,8))\n",
    "\n",
    "signal_df.loc['2011':].plot(ax=ax, alpha=.5)\n",
    "up.loc['2011':].plot(ax=ax,ls='',marker='^', markersize=7,\n",
    "                     alpha=0.75, label='upcross', color='g')\n",
    "down.loc['2011':].plot(ax=ax,ls='',marker='v', markersize=7, \n",
    "                       alpha=0.75, label='downcross', color='r')\n",
    "plt.ylim(min_value, max_value)\n",
    "ax.legend()"
   ]
  },
  {
   "cell_type": "code",
   "execution_count": 35,
   "metadata": {},
   "outputs": [
    {
     "data": {
      "text/html": [
       "<div>\n",
       "<style scoped>\n",
       "    .dataframe tbody tr th:only-of-type {\n",
       "        vertical-align: middle;\n",
       "    }\n",
       "\n",
       "    .dataframe tbody tr th {\n",
       "        vertical-align: top;\n",
       "    }\n",
       "\n",
       "    .dataframe thead th {\n",
       "        text-align: right;\n",
       "    }\n",
       "</style>\n",
       "<table border=\"1\" class=\"dataframe\">\n",
       "  <thead>\n",
       "    <tr style=\"text-align: right;\">\n",
       "      <th></th>\n",
       "      <th>price</th>\n",
       "      <th>short_ma</th>\n",
       "      <th>long_ma</th>\n",
       "      <th>signal</th>\n",
       "    </tr>\n",
       "    <tr>\n",
       "      <th>date_time</th>\n",
       "      <th></th>\n",
       "      <th></th>\n",
       "      <th></th>\n",
       "      <th></th>\n",
       "    </tr>\n",
       "  </thead>\n",
       "  <tbody>\n",
       "    <tr>\n",
       "      <th>2011-07-31 23:31:58.810</th>\n",
       "      <td>1305.75</td>\n",
       "      <td>1305.750000</td>\n",
       "      <td>1305.750000</td>\n",
       "      <td>0.0</td>\n",
       "    </tr>\n",
       "    <tr>\n",
       "      <th>2011-08-01 02:55:17.443</th>\n",
       "      <td>1306.50</td>\n",
       "      <td>1306.178571</td>\n",
       "      <td>1306.150000</td>\n",
       "      <td>0.0</td>\n",
       "    </tr>\n",
       "    <tr>\n",
       "      <th>2011-08-01 07:25:56.319</th>\n",
       "      <td>1305.00</td>\n",
       "      <td>1305.668919</td>\n",
       "      <td>1305.714497</td>\n",
       "      <td>0.0</td>\n",
       "    </tr>\n",
       "    <tr>\n",
       "      <th>2011-08-01 08:33:10.903</th>\n",
       "      <td>1300.00</td>\n",
       "      <td>1303.595714</td>\n",
       "      <td>1303.988348</td>\n",
       "      <td>0.0</td>\n",
       "    </tr>\n",
       "    <tr>\n",
       "      <th>2011-08-01 10:51:41.842</th>\n",
       "      <td>1307.75</td>\n",
       "      <td>1304.957426</td>\n",
       "      <td>1304.953684</td>\n",
       "      <td>1.0</td>\n",
       "    </tr>\n",
       "    <tr>\n",
       "      <th>2011-08-01 12:10:26.542</th>\n",
       "      <td>1303.50</td>\n",
       "      <td>1304.514182</td>\n",
       "      <td>1304.624023</td>\n",
       "      <td>0.0</td>\n",
       "    </tr>\n",
       "    <tr>\n",
       "      <th>2011-08-01 13:05:38.802</th>\n",
       "      <td>1302.00</td>\n",
       "      <td>1303.788811</td>\n",
       "      <td>1304.083927</td>\n",
       "      <td>0.0</td>\n",
       "    </tr>\n",
       "    <tr>\n",
       "      <th>2011-08-01 13:30:25.769</th>\n",
       "      <td>1303.50</td>\n",
       "      <td>1303.708576</td>\n",
       "      <td>1303.972726</td>\n",
       "      <td>0.0</td>\n",
       "    </tr>\n",
       "    <tr>\n",
       "      <th>2011-08-01 13:34:11.222</th>\n",
       "      <td>1302.75</td>\n",
       "      <td>1303.449477</td>\n",
       "      <td>1303.754177</td>\n",
       "      <td>0.0</td>\n",
       "    </tr>\n",
       "    <tr>\n",
       "      <th>2011-08-01 13:36:46.215</th>\n",
       "      <td>1299.00</td>\n",
       "      <td>1302.270729</td>\n",
       "      <td>1302.947755</td>\n",
       "      <td>0.0</td>\n",
       "    </tr>\n",
       "    <tr>\n",
       "      <th>2011-08-01 13:41:09.288</th>\n",
       "      <td>1297.00</td>\n",
       "      <td>1300.894940</td>\n",
       "      <td>1301.981971</td>\n",
       "      <td>0.0</td>\n",
       "    </tr>\n",
       "    <tr>\n",
       "      <th>2011-08-01 13:46:23.650</th>\n",
       "      <td>1295.75</td>\n",
       "      <td>1299.566629</td>\n",
       "      <td>1301.006497</td>\n",
       "      <td>0.0</td>\n",
       "    </tr>\n",
       "    <tr>\n",
       "      <th>2011-08-01 13:50:55.799</th>\n",
       "      <td>1293.25</td>\n",
       "      <td>1297.949042</td>\n",
       "      <td>1299.829501</td>\n",
       "      <td>0.0</td>\n",
       "    </tr>\n",
       "    <tr>\n",
       "      <th>2011-08-01 13:56:56.220</th>\n",
       "      <td>1292.25</td>\n",
       "      <td>1296.498435</td>\n",
       "      <td>1298.709320</td>\n",
       "      <td>0.0</td>\n",
       "    </tr>\n",
       "    <tr>\n",
       "      <th>2011-08-01 14:00:21.448</th>\n",
       "      <td>1286.75</td>\n",
       "      <td>1294.028317</td>\n",
       "      <td>1296.981227</td>\n",
       "      <td>0.0</td>\n",
       "    </tr>\n",
       "    <tr>\n",
       "      <th>2011-08-01 14:01:38.747</th>\n",
       "      <td>1284.50</td>\n",
       "      <td>1291.622121</td>\n",
       "      <td>1295.212211</td>\n",
       "      <td>0.0</td>\n",
       "    </tr>\n",
       "    <tr>\n",
       "      <th>2011-08-01 14:03:22.782</th>\n",
       "      <td>1279.00</td>\n",
       "      <td>1288.442691</td>\n",
       "      <td>1292.952207</td>\n",
       "      <td>0.0</td>\n",
       "    </tr>\n",
       "    <tr>\n",
       "      <th>2011-08-01 14:04:31.604</th>\n",
       "      <td>1276.00</td>\n",
       "      <td>1285.314382</td>\n",
       "      <td>1290.622595</td>\n",
       "      <td>0.0</td>\n",
       "    </tr>\n",
       "    <tr>\n",
       "      <th>2011-08-01 14:06:25.239</th>\n",
       "      <td>1279.75</td>\n",
       "      <td>1283.917380</td>\n",
       "      <td>1289.146791</td>\n",
       "      <td>0.0</td>\n",
       "    </tr>\n",
       "    <tr>\n",
       "      <th>2011-08-01 14:09:04.277</th>\n",
       "      <td>1283.00</td>\n",
       "      <td>1283.687305</td>\n",
       "      <td>1288.321312</td>\n",
       "      <td>0.0</td>\n",
       "    </tr>\n",
       "  </tbody>\n",
       "</table>\n",
       "</div>"
      ],
      "text/plain": [
       "                           price     short_ma      long_ma  signal\n",
       "date_time                                                         \n",
       "2011-07-31 23:31:58.810  1305.75  1305.750000  1305.750000     0.0\n",
       "2011-08-01 02:55:17.443  1306.50  1306.178571  1306.150000     0.0\n",
       "2011-08-01 07:25:56.319  1305.00  1305.668919  1305.714497     0.0\n",
       "2011-08-01 08:33:10.903  1300.00  1303.595714  1303.988348     0.0\n",
       "2011-08-01 10:51:41.842  1307.75  1304.957426  1304.953684     1.0\n",
       "2011-08-01 12:10:26.542  1303.50  1304.514182  1304.624023     0.0\n",
       "2011-08-01 13:05:38.802  1302.00  1303.788811  1304.083927     0.0\n",
       "2011-08-01 13:30:25.769  1303.50  1303.708576  1303.972726     0.0\n",
       "2011-08-01 13:34:11.222  1302.75  1303.449477  1303.754177     0.0\n",
       "2011-08-01 13:36:46.215  1299.00  1302.270729  1302.947755     0.0\n",
       "2011-08-01 13:41:09.288  1297.00  1300.894940  1301.981971     0.0\n",
       "2011-08-01 13:46:23.650  1295.75  1299.566629  1301.006497     0.0\n",
       "2011-08-01 13:50:55.799  1293.25  1297.949042  1299.829501     0.0\n",
       "2011-08-01 13:56:56.220  1292.25  1296.498435  1298.709320     0.0\n",
       "2011-08-01 14:00:21.448  1286.75  1294.028317  1296.981227     0.0\n",
       "2011-08-01 14:01:38.747  1284.50  1291.622121  1295.212211     0.0\n",
       "2011-08-01 14:03:22.782  1279.00  1288.442691  1292.952207     0.0\n",
       "2011-08-01 14:04:31.604  1276.00  1285.314382  1290.622595     0.0\n",
       "2011-08-01 14:06:25.239  1279.75  1283.917380  1289.146791     0.0\n",
       "2011-08-01 14:09:04.277  1283.00  1283.687305  1288.321312     0.0"
      ]
     },
     "execution_count": 35,
     "metadata": {},
     "output_type": "execute_result"
    }
   ],
   "source": [
    "signal_df.head(20)"
   ]
  },
  {
   "cell_type": "markdown",
   "metadata": {},
   "source": [
    "On those sampled features, apply the triple-barrier method, where ptSl=[1,2] and t1 earlier"
   ]
  },
  {
   "cell_type": "code",
   "execution_count": 72,
   "metadata": {},
   "outputs": [
    {
     "name": "stderr",
     "output_type": "stream",
     "text": [
      "D:\\Documents\\WQU\\Courses\\14 - Capstone 690\\cs\\chapter3\\mlfinlab\\corefns\\core_functions.py:182: FutureWarning: \n",
      "Passing list-likes to .loc or [] with any missing label will raise\n",
      "KeyError in the future, you can use .reindex() as an alternative.\n",
      "\n",
      "See the documentation here:\n",
      "https://pandas.pydata.org/pandas-docs/stable/indexing.html#deprecate-loc-reindex-listlike\n",
      "  target = target.loc[t_events]\n",
      "D:\\Documents\\WQU\\Courses\\14 - Capstone 690\\cs\\chapter3\\mlfinlab\\corefns\\core_functions.py:194: FutureWarning: \n",
      "Passing list-likes to .loc or [] with any missing label will raise\n",
      "KeyError in the future, you can use .reindex() as an alternative.\n",
      "\n",
      "See the documentation here:\n",
      "https://pandas.pydata.org/pandas-docs/stable/indexing.html#deprecate-loc-reindex-listlike\n",
      "  side_ = side.loc[target.index]\n"
     ]
    }
   ],
   "source": [
    "# Compute daily volatility\n",
    "# vol = CoreFunctions.get_daily_vol(close=close_prices, lookback=100)\n",
    "\n",
    "# Apply Symmetric CUSUM Filter and get timestamps for events\n",
    "# cusum_events = CoreFunctions.get_t_events(close_prices, threshold=vol.mean())\n",
    "\n",
    "# Compute vertical barrier\n",
    "# vertical_barriers = CoreFunctions.add_vertical_barrier(cusum_events, close_prices)\n",
    "\n",
    "ma_events = CoreFunctions.get_events(close_prices,                                     \n",
    "                                     t_events=cusum_events,\n",
    "                                     pt_sl=[1, 2],\n",
    "                                     target=vol,\n",
    "                                     min_ret=0.01,\n",
    "                                     num_threads=1,\n",
    "                                     vertical_barrier_times=vertical_barriers,\n",
    "                                     side=side)\n"
   ]
  },
  {
   "cell_type": "code",
   "execution_count": 73,
   "metadata": {},
   "outputs": [
    {
     "name": "stdout",
     "output_type": "stream",
     "text": [
      "                         side                      t1      trgt\n",
      "2011-08-04 01:57:00.466   NaN 2011-08-05 03:04:02.365  0.011060\n",
      "2011-08-04 09:53:01.844   NaN 2011-08-05 10:40:27.497  0.011529\n",
      "2011-08-04 12:43:40.327   NaN 2011-08-05 12:47:59.454  0.010884\n",
      "2011-08-04 19:30:23.101   NaN 2011-08-05 19:31:31.852  0.010586\n",
      "2011-08-04 19:53:02.682   NaN 2011-08-05 19:55:20.902  0.012946\n",
      "-1.0    26\n",
      " 1.0    26\n",
      "Name: side, dtype: int64\n"
     ]
    }
   ],
   "source": [
    "print(ma_events.head())\n",
    "print(ma_events.side.value_counts())"
   ]
  },
  {
   "cell_type": "code",
   "execution_count": 74,
   "metadata": {},
   "outputs": [
    {
     "name": "stdout",
     "output_type": "stream",
     "text": [
      "                         side                      t1      trgt\n",
      "2011-08-05 12:30:19.803   1.0 2011-08-05 15:51:03.471  0.015896\n",
      "2011-08-05 14:26:25.267   1.0 2011-08-05 15:57:57.407  0.012784\n",
      "2011-08-05 14:46:02.504  -1.0 2011-08-05 15:51:03.471  0.012299\n",
      "2011-08-05 19:05:26.371  -1.0 2011-08-07 22:01:50.370  0.011735\n",
      "2011-08-08 19:16:11.723   1.0 2011-08-08 23:56:13.676  0.014773\n",
      "-1.0    26\n",
      " 1.0    26\n",
      "Name: side, dtype: int64\n"
     ]
    }
   ],
   "source": [
    "ma_events.dropna(inplace=True)\n",
    "print(ma_events.head())\n",
    "print(ma_events.side.value_counts())"
   ]
  },
  {
   "cell_type": "code",
   "execution_count": 75,
   "metadata": {},
   "outputs": [],
   "source": [
    "labels = CoreFunctions.get_bins(ma_events, close_prices)"
   ]
  },
  {
   "cell_type": "code",
   "execution_count": 76,
   "metadata": {},
   "outputs": [
    {
     "name": "stdout",
     "output_type": "stream",
     "text": [
      "                              ret      trgt  bin\n",
      "2011-08-05 12:30:19.803 -0.032929  0.015896    0\n",
      "2011-08-05 14:26:25.267 -0.031204  0.012784    0\n",
      "2011-08-05 14:46:02.504  0.013644  0.012299    1\n",
      "2011-08-05 19:05:26.371  0.023051  0.011735    1\n",
      "2011-08-08 19:16:11.723 -0.035371  0.014773    0\n"
     ]
    }
   ],
   "source": [
    "print(labels.head())"
   ]
  },
  {
   "cell_type": "markdown",
   "metadata": {},
   "source": [
    "(3.4b) Train a random forest to decide whether to trade or not (i.e 1 or 0 respectively) since the earlier model has decided the side (-1 or 1) "
   ]
  },
  {
   "cell_type": "code",
   "execution_count": 77,
   "metadata": {},
   "outputs": [],
   "source": [
    "from sklearn.ensemble import RandomForestClassifier\n",
    "from sklearn.model_selection import train_test_split\n",
    "from sklearn.metrics import roc_curve, classification_report"
   ]
  },
  {
   "cell_type": "code",
   "execution_count": 83,
   "metadata": {},
   "outputs": [
    {
     "name": "stderr",
     "output_type": "stream",
     "text": [
      "C:\\Users\\Asingh\\Anaconda3\\envs\\p36\\lib\\site-packages\\ipykernel_launcher.py:11: DataConversionWarning: A column-vector y was passed when a 1d array was expected. Please change the shape of y to (n_samples,), for example using ravel().\n",
      "  # This is added back by InteractiveShellApp.init_path()\n",
      "C:\\Users\\Asingh\\Anaconda3\\envs\\p36\\lib\\site-packages\\sklearn\\metrics\\classification.py:1143: UndefinedMetricWarning: Precision and F-score are ill-defined and being set to 0.0 in labels with no predicted samples.\n",
      "  'precision', 'predicted', average, warn_for)\n"
     ]
    },
    {
     "name": "stdout",
     "output_type": "stream",
     "text": [
      "              precision    recall  f1-score   support\n",
      "\n",
      "           0       0.69      1.00      0.82        18\n",
      "           1       0.00      0.00      0.00         8\n",
      "\n",
      "   micro avg       0.69      0.69      0.69        26\n",
      "   macro avg       0.35      0.50      0.41        26\n",
      "weighted avg       0.48      0.69      0.57        26\n",
      "\n"
     ]
    },
    {
     "data": {
      "image/png": "[encoded data removed]",
      "text/plain": [
       "<Figure size 432x288 with 1 Axes>"
      ]
     },
     "metadata": {
      "needs_background": "light"
     },
     "output_type": "display_data"
    }
   ],
   "source": [
    "X = ma_events.side.to_frame()\n",
    "y = labels.bin.to_frame()\n",
    "\n",
    "X_train, X_test, y_train, y_test = train_test_split(X, y, test_size=0.5, shuffle=False)\n",
    "\n",
    "n_estimator = 10_000\n",
    "c_random_state = 777\n",
    "\n",
    "rf = RandomForestClassifier(max_depth=2, n_estimators=n_estimator,\n",
    "                            criterion='entropy', random_state=c_random_state)\n",
    "rf.fit(X_train, y_train)\n",
    "# The random forest model by itself\n",
    "y_pred_rf = rf.predict_proba(X_test)[:, 1]\n",
    "y_pred = rf.predict(X_test)\n",
    "fpr_rf, tpr_rf, _ = roc_curve(y_test, y_pred_rf)\n",
    "print(classification_report(y_test, y_pred))\n",
    "\n",
    "plt.figure(1)\n",
    "plt.plot([0, 1], [0, 1], 'k--')\n",
    "plt.plot(fpr_rf, tpr_rf, label='RF')\n",
    "plt.xlabel('False positive rate')\n",
    "plt.ylabel('True positive rate')\n",
    "plt.title('ROC curve')\n",
    "plt.legend(loc='best')\n",
    "plt.show()\n"
   ]
  }
 ],
 "metadata": {
  "kernelspec": {
   "display_name": "Python 3",
   "language": "python",
   "name": "python3"
  },
  "language_info": {
   "codemirror_mode": {
    "name": "ipython",
    "version": 3
   },
   "file_extension": ".py",
   "mimetype": "text/x-python",
   "name": "python",
   "nbconvert_exporter": "python",
   "pygments_lexer": "ipython3",
   "version": "3.6.7"
  }
 },
 "nbformat": 4,
 "nbformat_minor": 2
}
