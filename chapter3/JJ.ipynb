{
 "cells": [
  {
   "cell_type": "markdown",
   "metadata": {},
   "source": [
    "# Chapter 3 Questions"
   ]
  },
  {
   "cell_type": "markdown",
   "metadata": {},
   "source": [
    "#### 3.1 Form dollar bars for E-mini S&P 500 futures:\n",
    "1. Apply a symmetric CUSUM filter (Chapter 2, Section 2.5.2.1) where the threshold is the standard deviation of daily returns (Snippet 3.1).\n",
    "2. Use Snippet 3.4 on a pandas series t1, where numDays=1.\n",
    "3. On those sampled features, apply the triple-barrier method, where ptSl=[1,1] and t1 is the series you created in point 1.b.\n",
    "4. Apply getBins to generate the labels."
   ]
  },
  {
   "cell_type": "code",
   "execution_count": 2,
   "metadata": {},
   "outputs": [],
   "source": [
    "import numpy as np\n",
    "import pandas as pd\n",
    "# from pytictoc import TicToc\n",
    "import timeit\n",
    "\n",
    "from mlfinlab.corefns.core_functions import CoreFunctions\n",
    "from mlfinlab.fracdiff.fracdiff import frac_diff_ffd\n",
    "\n",
    "import matplotlib.pyplot as plt\n",
    "%matplotlib inline"
   ]
  },
  {
   "cell_type": "code",
   "execution_count": 3,
   "metadata": {},
   "outputs": [],
   "source": [
    "# Read in data\n",
    "data = pd.read_csv('official_data/dollar_bars.csv', nrows=20000)\n",
    "data.index = pd.to_datetime(data['date_time'])\n",
    "data = data.drop('date_time', axis=1)"
   ]
  },
  {
   "cell_type": "code",
   "execution_count": 4,
   "metadata": {},
   "outputs": [
    {
     "data": {
      "text/html": [
       "<div>\n",
       "<style scoped>\n",
       "    .dataframe tbody tr th:only-of-type {\n",
       "        vertical-align: middle;\n",
       "    }\n",
       "\n",
       "    .dataframe tbody tr th {\n",
       "        vertical-align: top;\n",
       "    }\n",
       "\n",
       "    .dataframe thead th {\n",
       "        text-align: right;\n",
       "    }\n",
       "</style>\n",
       "<table border=\"1\" class=\"dataframe\">\n",
       "  <thead>\n",
       "    <tr style=\"text-align: right;\">\n",
       "      <th></th>\n",
       "      <th>open</th>\n",
       "      <th>high</th>\n",
       "      <th>low</th>\n",
       "      <th>close</th>\n",
       "      <th>cum_vol</th>\n",
       "      <th>cum_dollar</th>\n",
       "      <th>cum_ticks</th>\n",
       "    </tr>\n",
       "    <tr>\n",
       "      <th>date_time</th>\n",
       "      <th></th>\n",
       "      <th></th>\n",
       "      <th></th>\n",
       "      <th></th>\n",
       "      <th></th>\n",
       "      <th></th>\n",
       "      <th></th>\n",
       "    </tr>\n",
       "  </thead>\n",
       "  <tbody>\n",
       "    <tr>\n",
       "      <th>2011-07-31 23:31:58.810</th>\n",
       "      <td>1306.00</td>\n",
       "      <td>1308.75</td>\n",
       "      <td>1301.75</td>\n",
       "      <td>1305.75</td>\n",
       "      <td>53658</td>\n",
       "      <td>70035704.75</td>\n",
       "      <td>14115</td>\n",
       "    </tr>\n",
       "    <tr>\n",
       "      <th>2011-08-01 02:55:17.443</th>\n",
       "      <td>1305.75</td>\n",
       "      <td>1309.50</td>\n",
       "      <td>1304.00</td>\n",
       "      <td>1306.50</td>\n",
       "      <td>53552</td>\n",
       "      <td>70006277.00</td>\n",
       "      <td>15422</td>\n",
       "    </tr>\n",
       "    <tr>\n",
       "      <th>2011-08-01 07:25:56.319</th>\n",
       "      <td>1306.75</td>\n",
       "      <td>1309.75</td>\n",
       "      <td>1304.75</td>\n",
       "      <td>1305.00</td>\n",
       "      <td>53543</td>\n",
       "      <td>70000901.00</td>\n",
       "      <td>14727</td>\n",
       "    </tr>\n",
       "    <tr>\n",
       "      <th>2011-08-01 08:33:10.903</th>\n",
       "      <td>1305.00</td>\n",
       "      <td>1305.00</td>\n",
       "      <td>1299.00</td>\n",
       "      <td>1300.00</td>\n",
       "      <td>53830</td>\n",
       "      <td>70094217.75</td>\n",
       "      <td>14987</td>\n",
       "    </tr>\n",
       "    <tr>\n",
       "      <th>2011-08-01 10:51:41.842</th>\n",
       "      <td>1300.00</td>\n",
       "      <td>1307.75</td>\n",
       "      <td>1299.00</td>\n",
       "      <td>1307.75</td>\n",
       "      <td>53734</td>\n",
       "      <td>70033006.25</td>\n",
       "      <td>14499</td>\n",
       "    </tr>\n",
       "  </tbody>\n",
       "</table>\n",
       "</div>"
      ],
      "text/plain": [
       "                            open     high      low    close  cum_vol  \\\n",
       "date_time                                                              \n",
       "2011-07-31 23:31:58.810  1306.00  1308.75  1301.75  1305.75    53658   \n",
       "2011-08-01 02:55:17.443  1305.75  1309.50  1304.00  1306.50    53552   \n",
       "2011-08-01 07:25:56.319  1306.75  1309.75  1304.75  1305.00    53543   \n",
       "2011-08-01 08:33:10.903  1305.00  1305.00  1299.00  1300.00    53830   \n",
       "2011-08-01 10:51:41.842  1300.00  1307.75  1299.00  1307.75    53734   \n",
       "\n",
       "                          cum_dollar  cum_ticks  \n",
       "date_time                                        \n",
       "2011-07-31 23:31:58.810  70035704.75      14115  \n",
       "2011-08-01 02:55:17.443  70006277.00      15422  \n",
       "2011-08-01 07:25:56.319  70000901.00      14727  \n",
       "2011-08-01 08:33:10.903  70094217.75      14987  \n",
       "2011-08-01 10:51:41.842  70033006.25      14499  "
      ]
     },
     "execution_count": 4,
     "metadata": {},
     "output_type": "execute_result"
    }
   ],
   "source": [
    "data.head()"
   ]
  },
  {
   "cell_type": "markdown",
   "metadata": {},
   "source": [
    "**Apply a symmetric CUSUM filter (Chapter 2, Section 2.5.2.1) where the threshold is the standard deviation of daily returns (Snippet 3.1).**"
   ]
  },
  {
   "cell_type": "code",
   "execution_count": 5,
   "metadata": {},
   "outputs": [
    {
     "name": "stdout",
     "output_type": "stream",
     "text": [
      "Calculating daily volatility for dynamic thresholds\n"
     ]
    }
   ],
   "source": [
    "# Compute daily volatility\n",
    "vol = CoreFunctions.get_daily_vol(close=data['close'], lookback=100)"
   ]
  },
  {
   "cell_type": "code",
   "execution_count": 6,
   "metadata": {},
   "outputs": [
    {
     "data": {
      "image/png": "[encoded data removed]",
      "text/plain": [
       "<Figure size 1008x504 with 1 Axes>"
      ]
     },
     "metadata": {
      "needs_background": "light"
     },
     "output_type": "display_data"
    }
   ],
   "source": [
    "vol.plot(figsize=(14, 7), title='Volatility as caclulated by de Prado')\n",
    "plt.show()"
   ]
  },
  {
   "cell_type": "code",
   "execution_count": 7,
   "metadata": {},
   "outputs": [
    {
     "name": "stdout",
     "output_type": "stream",
     "text": [
      "Applying Symmetric CUSUM filter.\n"
     ]
    },
    {
     "name": "stderr",
     "output_type": "stream",
     "text": [
      "100%|███████████████████████████████████████████████████████████████████████████████| 19998/19998 [00:02<00:00, 8809.68it/s]\n"
     ]
    }
   ],
   "source": [
    "# Apply Symmetric CUSUM Filter and get timestamps for events\n",
    "# Note: Only the CUSUM filter needs a point estimate for volatility\n",
    "cusum_events = CoreFunctions.get_t_events(data['close'], threshold=vol.mean())"
   ]
  },
  {
   "cell_type": "markdown",
   "metadata": {},
   "source": [
    "**Use Snippet 3.4 on a pandas series t1, where numDays=1.**"
   ]
  },
  {
   "cell_type": "code",
   "execution_count": 8,
   "metadata": {},
   "outputs": [
    {
     "data": {
      "text/plain": [
       "2011-08-01 13:46:23.650   2011-08-02 13:50:40.053\n",
       "2011-08-01 14:01:38.747   2011-08-02 14:04:29.869\n",
       "2011-08-01 15:38:23.090   2011-08-02 15:49:00.114\n",
       "2011-08-01 19:25:42.891   2011-08-02 19:26:07.927\n",
       "2011-08-02 07:31:03.237   2011-08-03 08:02:36.120\n",
       "Name: date_time, dtype: datetime64[ns]"
      ]
     },
     "execution_count": 8,
     "metadata": {},
     "output_type": "execute_result"
    }
   ],
   "source": [
    "# Compute vertical barrier\n",
    "vertical_barriers = CoreFunctions.add_vertical_barrier(cusum_events, data['close'])\n",
    "vertical_barriers.head()"
   ]
  },
  {
   "cell_type": "markdown",
   "metadata": {},
   "source": [
    "**On those sampled features, apply the triple-barrier method, where ptSl=[1,1] and t1 is the series you created in point 1.b.**"
   ]
  },
  {
   "cell_type": "code",
   "execution_count": 9,
   "metadata": {},
   "outputs": [
    {
     "name": "stderr",
     "output_type": "stream",
     "text": [
      "D:\\Documents\\WQU\\Courses\\14 - Capstone 690\\cs\\chapter3\\mlfinlab\\corefns\\core_functions.py:205: FutureWarning: \n",
      "Passing list-likes to .loc or [] with any missing label will raise\n",
      "KeyError in the future, you can use .reindex() as an alternative.\n",
      "\n",
      "See the documentation here:\n",
      "https://pandas.pydata.org/pandas-docs/stable/indexing.html#deprecate-loc-reindex-listlike\n",
      "  target = target.loc[t_events]\n"
     ]
    }
   ],
   "source": [
    "triple_barrier_events = CoreFunctions.get_events(close=data['close'],\n",
    "                                  t_events=cusum_events,\n",
    "                                  pt_sl=[1, 1],\n",
    "                                  target=vol,\n",
    "                                  min_ret=0.01,\n",
    "                                  num_threads=1,\n",
    "                                  vertical_barrier_times=vertical_barriers,\n",
    "                                  side=None)"
   ]
  },
  {
   "cell_type": "code",
   "execution_count": 10,
   "metadata": {},
   "outputs": [
    {
     "data": {
      "text/html": [
       "<div>\n",
       "<style scoped>\n",
       "    .dataframe tbody tr th:only-of-type {\n",
       "        vertical-align: middle;\n",
       "    }\n",
       "\n",
       "    .dataframe tbody tr th {\n",
       "        vertical-align: top;\n",
       "    }\n",
       "\n",
       "    .dataframe thead th {\n",
       "        text-align: right;\n",
       "    }\n",
       "</style>\n",
       "<table border=\"1\" class=\"dataframe\">\n",
       "  <thead>\n",
       "    <tr style=\"text-align: right;\">\n",
       "      <th></th>\n",
       "      <th>t1</th>\n",
       "      <th>trgt</th>\n",
       "    </tr>\n",
       "  </thead>\n",
       "  <tbody>\n",
       "    <tr>\n",
       "      <th>2011-08-04 01:57:00.466</th>\n",
       "      <td>2011-08-04 10:27:24.326</td>\n",
       "      <td>0.011060</td>\n",
       "    </tr>\n",
       "    <tr>\n",
       "      <th>2011-08-04 09:53:01.844</th>\n",
       "      <td>2011-08-04 13:50:40.606</td>\n",
       "      <td>0.011529</td>\n",
       "    </tr>\n",
       "    <tr>\n",
       "      <th>2011-08-04 12:43:40.327</th>\n",
       "      <td>2011-08-04 15:01:19.020</td>\n",
       "      <td>0.010884</td>\n",
       "    </tr>\n",
       "    <tr>\n",
       "      <th>2011-08-04 19:30:23.101</th>\n",
       "      <td>2011-08-05 06:36:24.009</td>\n",
       "      <td>0.010586</td>\n",
       "    </tr>\n",
       "    <tr>\n",
       "      <th>2011-08-04 19:53:02.682</th>\n",
       "      <td>2011-08-05 12:30:19.803</td>\n",
       "      <td>0.012946</td>\n",
       "    </tr>\n",
       "  </tbody>\n",
       "</table>\n",
       "</div>"
      ],
      "text/plain": [
       "                                             t1      trgt\n",
       "2011-08-04 01:57:00.466 2011-08-04 10:27:24.326  0.011060\n",
       "2011-08-04 09:53:01.844 2011-08-04 13:50:40.606  0.011529\n",
       "2011-08-04 12:43:40.327 2011-08-04 15:01:19.020  0.010884\n",
       "2011-08-04 19:30:23.101 2011-08-05 06:36:24.009  0.010586\n",
       "2011-08-04 19:53:02.682 2011-08-05 12:30:19.803  0.012946"
      ]
     },
     "execution_count": 10,
     "metadata": {},
     "output_type": "execute_result"
    }
   ],
   "source": [
    "triple_barrier_events.head()"
   ]
  },
  {
   "cell_type": "code",
   "execution_count": 11,
   "metadata": {},
   "outputs": [],
   "source": [
    "labels = CoreFunctions.get_bins(triple_barrier_events, data['close'])"
   ]
  },
  {
   "cell_type": "code",
   "execution_count": 12,
   "metadata": {},
   "outputs": [
    {
     "data": {
      "text/html": [
       "<div>\n",
       "<style scoped>\n",
       "    .dataframe tbody tr th:only-of-type {\n",
       "        vertical-align: middle;\n",
       "    }\n",
       "\n",
       "    .dataframe tbody tr th {\n",
       "        vertical-align: top;\n",
       "    }\n",
       "\n",
       "    .dataframe thead th {\n",
       "        text-align: right;\n",
       "    }\n",
       "</style>\n",
       "<table border=\"1\" class=\"dataframe\">\n",
       "  <thead>\n",
       "    <tr style=\"text-align: right;\">\n",
       "      <th></th>\n",
       "      <th>ret</th>\n",
       "      <th>trgt</th>\n",
       "      <th>bin</th>\n",
       "    </tr>\n",
       "  </thead>\n",
       "  <tbody>\n",
       "    <tr>\n",
       "      <th>2011-08-04 01:57:00.466</th>\n",
       "      <td>-0.016254</td>\n",
       "      <td>0.011060</td>\n",
       "      <td>-1</td>\n",
       "    </tr>\n",
       "    <tr>\n",
       "      <th>2011-08-04 09:53:01.844</th>\n",
       "      <td>-0.012014</td>\n",
       "      <td>0.011529</td>\n",
       "      <td>-1</td>\n",
       "    </tr>\n",
       "    <tr>\n",
       "      <th>2011-08-04 12:43:40.327</th>\n",
       "      <td>-0.011109</td>\n",
       "      <td>0.010884</td>\n",
       "      <td>-1</td>\n",
       "    </tr>\n",
       "    <tr>\n",
       "      <th>2011-08-04 19:30:23.101</th>\n",
       "      <td>-0.012435</td>\n",
       "      <td>0.010586</td>\n",
       "      <td>-1</td>\n",
       "    </tr>\n",
       "    <tr>\n",
       "      <th>2011-08-04 19:53:02.682</th>\n",
       "      <td>0.014829</td>\n",
       "      <td>0.012946</td>\n",
       "      <td>1</td>\n",
       "    </tr>\n",
       "  </tbody>\n",
       "</table>\n",
       "</div>"
      ],
      "text/plain": [
       "                              ret      trgt  bin\n",
       "2011-08-04 01:57:00.466 -0.016254  0.011060   -1\n",
       "2011-08-04 09:53:01.844 -0.012014  0.011529   -1\n",
       "2011-08-04 12:43:40.327 -0.011109  0.010884   -1\n",
       "2011-08-04 19:30:23.101 -0.012435  0.010586   -1\n",
       "2011-08-04 19:53:02.682  0.014829  0.012946    1"
      ]
     },
     "execution_count": 12,
     "metadata": {},
     "output_type": "execute_result"
    }
   ],
   "source": [
    "labels.head()"
   ]
  },
  {
   "cell_type": "code",
   "execution_count": 13,
   "metadata": {},
   "outputs": [
    {
     "data": {
      "text/plain": [
       " 0    201\n",
       " 1    175\n",
       "-1    136\n",
       "Name: bin, dtype: int64"
      ]
     },
     "execution_count": 13,
     "metadata": {},
     "output_type": "execute_result"
    }
   ],
   "source": [
    "labels['bin'].value_counts()"
   ]
  },
  {
   "cell_type": "markdown",
   "metadata": {},
   "source": [
    "---\n",
    "#### 3.2 From exercise 1, use Snippet 3.8 to drop rare labels."
   ]
  },
  {
   "cell_type": "code",
   "execution_count": 14,
   "metadata": {},
   "outputs": [],
   "source": [
    "clean_labels = CoreFunctions.drop_labels(labels)"
   ]
  },
  {
   "cell_type": "code",
   "execution_count": 15,
   "metadata": {},
   "outputs": [
    {
     "name": "stdout",
     "output_type": "stream",
     "text": [
      "(512, 3)\n",
      "(512, 3)\n"
     ]
    }
   ],
   "source": [
    "print(labels.shape)\n",
    "print(clean_labels.shape)"
   ]
  },
  {
   "cell_type": "markdown",
   "metadata": {},
   "source": [
    "---\n",
    "#### 3.3 Adjust the getBins function (Snippet 3.5) to return a 0 whenever the vertical barrier is the one touched first.\n",
    "This change was made inside the module CoreFunctions."
   ]
  },
  {
   "cell_type": "markdown",
   "metadata": {},
   "source": [
    "---\n",
    "#### 3.4 Develop a trend-following strategy based on a popular technical analysis statistic (e.g., crossing moving averages). For each observation, themodel suggests a side, but not a size of the bet.\n",
    "\n",
    "1. Derive meta-labels for pt_sl = [1,2] and t1 where num_days=1. Use as trgt the daily standard deviation as computed by Snippet 3.1.\n",
    "2. Train a random forest to decide whether to trade or not. Note: The decision is whether to trade or not, {0,1}, since the underllying model (the crossing moveing average has decided the side{-1, 1})"
   ]
  },
  {
   "cell_type": "markdown",
   "metadata": {},
   "source": [
    "First, Build a simple moving average crossover strateggy"
   ]
  },
  {
   "cell_type": "code",
   "execution_count": 16,
   "metadata": {},
   "outputs": [
    {
     "name": "stdout",
     "output_type": "stream",
     "text": [
      "20000\n"
     ]
    },
    {
     "data": {
      "text/plain": [
       "date_time\n",
       "2011-07-31 23:31:58.810    1305.75\n",
       "2011-08-01 02:55:17.443    1306.50\n",
       "2011-08-01 07:25:56.319    1305.00\n",
       "2011-08-01 08:33:10.903    1300.00\n",
       "2011-08-01 10:51:41.842    1307.75\n",
       "Name: close, dtype: float64"
      ]
     },
     "execution_count": 16,
     "metadata": {},
     "output_type": "execute_result"
    }
   ],
   "source": [
    "close_prices = data['close']\n",
    "print(len(close_prices))\n",
    "close_prices.head()"
   ]
  },
  {
   "cell_type": "markdown",
   "metadata": {},
   "source": [
    "Define the window size for crossover lines"
   ]
  },
  {
   "cell_type": "code",
   "execution_count": 17,
   "metadata": {},
   "outputs": [],
   "source": [
    "fast_window = 20\n",
    "slow_window = 50"
   ]
  },
  {
   "cell_type": "markdown",
   "metadata": {},
   "source": [
    "Create a data frame with the close prices and the rolling moving averages"
   ]
  },
  {
   "cell_type": "code",
   "execution_count": 18,
   "metadata": {},
   "outputs": [
    {
     "data": {
      "text/html": [
       "<div>\n",
       "<style scoped>\n",
       "    .dataframe tbody tr th:only-of-type {\n",
       "        vertical-align: middle;\n",
       "    }\n",
       "\n",
       "    .dataframe tbody tr th {\n",
       "        vertical-align: top;\n",
       "    }\n",
       "\n",
       "    .dataframe thead th {\n",
       "        text-align: right;\n",
       "    }\n",
       "</style>\n",
       "<table border=\"1\" class=\"dataframe\">\n",
       "  <thead>\n",
       "    <tr style=\"text-align: right;\">\n",
       "      <th></th>\n",
       "      <th>close</th>\n",
       "      <th>fast_ma</th>\n",
       "      <th>slow_ma</th>\n",
       "      <th>side</th>\n",
       "    </tr>\n",
       "    <tr>\n",
       "      <th>date_time</th>\n",
       "      <th></th>\n",
       "      <th></th>\n",
       "      <th></th>\n",
       "      <th></th>\n",
       "    </tr>\n",
       "  </thead>\n",
       "  <tbody>\n",
       "    <tr>\n",
       "      <th>2011-07-31 23:31:58.810</th>\n",
       "      <td>1305.75</td>\n",
       "      <td>1305.7500</td>\n",
       "      <td>1305.7500</td>\n",
       "      <td>0.0</td>\n",
       "    </tr>\n",
       "    <tr>\n",
       "      <th>2011-08-01 02:55:17.443</th>\n",
       "      <td>1306.50</td>\n",
       "      <td>1306.1250</td>\n",
       "      <td>1306.1250</td>\n",
       "      <td>0.0</td>\n",
       "    </tr>\n",
       "    <tr>\n",
       "      <th>2011-08-01 07:25:56.319</th>\n",
       "      <td>1305.00</td>\n",
       "      <td>1305.7500</td>\n",
       "      <td>1305.7500</td>\n",
       "      <td>0.0</td>\n",
       "    </tr>\n",
       "    <tr>\n",
       "      <th>2011-08-01 08:33:10.903</th>\n",
       "      <td>1300.00</td>\n",
       "      <td>1304.3125</td>\n",
       "      <td>1304.3125</td>\n",
       "      <td>0.0</td>\n",
       "    </tr>\n",
       "    <tr>\n",
       "      <th>2011-08-01 10:51:41.842</th>\n",
       "      <td>1307.75</td>\n",
       "      <td>1305.0000</td>\n",
       "      <td>1305.0000</td>\n",
       "      <td>0.0</td>\n",
       "    </tr>\n",
       "  </tbody>\n",
       "</table>\n",
       "</div>"
      ],
      "text/plain": [
       "                           close    fast_ma    slow_ma  side\n",
       "date_time                                                   \n",
       "2011-07-31 23:31:58.810  1305.75  1305.7500  1305.7500   0.0\n",
       "2011-08-01 02:55:17.443  1306.50  1306.1250  1306.1250   0.0\n",
       "2011-08-01 07:25:56.319  1305.00  1305.7500  1305.7500   0.0\n",
       "2011-08-01 08:33:10.903  1300.00  1304.3125  1304.3125   0.0\n",
       "2011-08-01 10:51:41.842  1307.75  1305.0000  1305.0000   0.0"
      ]
     },
     "execution_count": 18,
     "metadata": {},
     "output_type": "execute_result"
    }
   ],
   "source": [
    "signal_df = close_prices.to_frame()\n",
    "signal_df['fast_ma'] = signal_df['close'].rolling(window=fast_window, min_periods=1, center=False).mean()\n",
    "signal_df['slow_ma'] = signal_df['close'].rolling(window=slow_window, min_periods=1, center=False).mean()\n",
    "signal_df['side'] = 0.0\n",
    "signal_df.head()\n"
   ]
  },
  {
   "cell_type": "markdown",
   "metadata": {},
   "source": [
    "Create a side when the short MA crosses over the long MA. Ensure that this is done for the period that is larger than the shortest MA window\n"
   ]
  },
  {
   "cell_type": "code",
   "execution_count": 19,
   "metadata": {},
   "outputs": [
    {
     "name": "stdout",
     "output_type": "stream",
     "text": [
      " 1.0    10742\n",
      "-1.0     9238\n",
      " 0.0       20\n",
      "Name: side, dtype: int64\n"
     ]
    }
   ],
   "source": [
    "# compute sides\n",
    "signal_df['side'][fast_window:] = np.where(signal_df['fast_ma'][fast_window:] >= \n",
    "                                           signal_df['slow_ma'][fast_window:], 1.0, -1.0) \n",
    "\n",
    "print(signal_df.side.value_counts())"
   ]
  },
  {
   "cell_type": "markdown",
   "metadata": {},
   "source": [
    "The few 0.0 labels are a result of NaNs"
   ]
  },
  {
   "cell_type": "code",
   "execution_count": 20,
   "metadata": {},
   "outputs": [
    {
     "name": "stdout",
     "output_type": "stream",
     "text": [
      "                           close    fast_ma    slow_ma  side\n",
      "date_time                                                   \n",
      "2011-07-31 23:31:58.810  1305.75  1305.7500  1305.7500   0.0\n",
      "2011-08-01 02:55:17.443  1306.50  1306.1250  1306.1250   0.0\n",
      "2011-08-01 07:25:56.319  1305.00  1305.7500  1305.7500   0.0\n",
      "2011-08-01 08:33:10.903  1300.00  1304.3125  1304.3125   0.0\n",
      "2011-08-01 10:51:41.842  1307.75  1305.0000  1305.0000   0.0\n",
      "                           close    fast_ma   slow_ma  side\n",
      "date_time                                                  \n",
      "2013-08-30 19:59:51.155  1630.75  1630.6625  1633.805  -1.0\n",
      "2013-08-30 19:59:59.085  1629.25  1630.5875  1633.610  -1.0\n",
      "2013-08-30 20:00:02.187  1631.00  1630.5750  1633.400  -1.0\n",
      "2013-08-30 20:02:23.500  1632.25  1630.6375  1633.230  -1.0\n",
      "2013-08-30 20:34:18.899  1631.75  1630.6500  1633.070  -1.0\n"
     ]
    }
   ],
   "source": [
    "print(signal_df.head())\n",
    "print(signal_df.tail())"
   ]
  },
  {
   "cell_type": "code",
   "execution_count": 21,
   "metadata": {},
   "outputs": [],
   "source": [
    "# extract side as a series\n",
    "side = signal_df['side']"
   ]
  },
  {
   "cell_type": "markdown",
   "metadata": {},
   "source": [
    "On those sampled features, apply the triple-barrier method, where ptSl=[1,2] and t1 earlier"
   ]
  },
  {
   "cell_type": "code",
   "execution_count": 22,
   "metadata": {},
   "outputs": [],
   "source": [
    "ma_events = CoreFunctions.get_events(close_prices,                                     \n",
    "                                     t_events=cusum_events,\n",
    "                                     pt_sl=[1, 2],\n",
    "                                     target=vol,\n",
    "                                     min_ret=0.01,\n",
    "                                     num_threads=1,\n",
    "                                     vertical_barrier_times=vertical_barriers,\n",
    "                                     side=side)\n"
   ]
  },
  {
   "cell_type": "code",
   "execution_count": 23,
   "metadata": {},
   "outputs": [
    {
     "name": "stdout",
     "output_type": "stream",
     "text": [
      "                         side                      t1      trgt\n",
      "2011-08-04 01:57:00.466   1.0 2011-08-04 14:12:16.878  0.011060\n",
      "2011-08-04 09:53:01.844   1.0 2011-08-04 15:43:40.842  0.011529\n",
      "2011-08-04 12:43:40.327   1.0 2011-08-04 18:27:50.147  0.010884\n",
      "2011-08-04 19:30:23.101  -1.0 2011-08-05 06:36:24.009  0.010586\n",
      "2011-08-04 19:53:02.682  -1.0 2011-08-05 15:16:11.831  0.012946\n",
      "\n",
      " 1.0    257\n",
      "-1.0    255\n",
      "Name: side, dtype: int64\n"
     ]
    }
   ],
   "source": [
    "print(ma_events.head())\n",
    "print('')\n",
    "print(ma_events.side.value_counts())"
   ]
  },
  {
   "cell_type": "code",
   "execution_count": 24,
   "metadata": {},
   "outputs": [],
   "source": [
    "labels = CoreFunctions.get_bins(ma_events, close_prices)"
   ]
  },
  {
   "cell_type": "code",
   "execution_count": 25,
   "metadata": {},
   "outputs": [
    {
     "name": "stdout",
     "output_type": "stream",
     "text": [
      "                              ret      trgt  bin\n",
      "2011-08-04 01:57:00.466 -0.022597  0.011060    0\n",
      "2011-08-04 09:53:01.844 -0.023228  0.011529    0\n",
      "2011-08-04 12:43:40.327 -0.022824  0.010884    0\n",
      "2011-08-04 19:30:23.101  0.012435  0.010586    1\n",
      "2011-08-04 19:53:02.682  0.014620  0.012946    1\n"
     ]
    },
    {
     "data": {
      "text/plain": [
       "0    334\n",
       "1    178\n",
       "Name: bin, dtype: int64"
      ]
     },
     "execution_count": 25,
     "metadata": {},
     "output_type": "execute_result"
    }
   ],
   "source": [
    "print(labels.head())\n",
    "labels.bin.value_counts()"
   ]
  },
  {
   "cell_type": "markdown",
   "metadata": {},
   "source": [
    "(3.4b) Train a random forest to decide whether to trade or not (i.e 1 or 0 respectively) since the earlier model has decided the side (-1 or 1) "
   ]
  },
  {
   "cell_type": "code",
   "execution_count": 26,
   "metadata": {},
   "outputs": [],
   "source": [
    "from sklearn.ensemble import RandomForestClassifier\n",
    "from sklearn.model_selection import train_test_split\n",
    "from sklearn.metrics import roc_curve, classification_report, confusion_matrix"
   ]
  },
  {
   "cell_type": "code",
   "execution_count": 27,
   "metadata": {},
   "outputs": [
    {
     "name": "stdout",
     "output_type": "stream",
     "text": [
      "Calculating Daily AutoCorr\n"
     ]
    }
   ],
   "source": [
    "# compute auto-correlation\n",
    "auto_corr = CoreFunctions.get_autocorr(close_prices)"
   ]
  },
  {
   "cell_type": "code",
   "execution_count": 28,
   "metadata": {},
   "outputs": [
    {
     "data": {
      "text/plain": [
       "19945"
      ]
     },
     "execution_count": 28,
     "metadata": {},
     "output_type": "execute_result"
    }
   ],
   "source": [
    "len(auto_corr)"
   ]
  },
  {
   "cell_type": "code",
   "execution_count": 29,
   "metadata": {},
   "outputs": [
    {
     "name": "stdout",
     "output_type": "stream",
     "text": [
      "ADF Statistic: 3.516000\n",
      "p-value: 0.007574\n",
      "Critical values:\n",
      "\t1%: -3.431\n",
      "\t5%: -2.862\n",
      "\t10%: -2.567\n"
     ]
    },
    {
     "data": {
      "text/plain": [
       "date_time\n",
       "2013-08-30 19:59:51.155    0.288143\n",
       "2013-08-30 19:59:59.085    0.287063\n",
       "2013-08-30 20:00:02.187    0.288437\n",
       "2013-08-30 20:02:23.500    0.288869\n",
       "2013-08-30 20:34:18.899    0.288184\n",
       "Name: fracdiff, dtype: float64"
      ]
     },
     "execution_count": 29,
     "metadata": {},
     "output_type": "execute_result"
    }
   ],
   "source": [
    "# compute fractionally differentiated prices\n",
    "from statsmodels.tsa.stattools import adfuller\n",
    "\n",
    "fracs = frac_diff_ffd(close_prices.apply(np.log), differencing_amt=0.39, threshold=1e-5)\n",
    "result = adfuller(fracs, maxlag=2, regression='C', autolag='AIC', store=False, regresults=False)\n",
    "print('ADF Statistic: %f' % abs(round(result[0], 3)))\n",
    "print('p-value: %f' % result[1])\n",
    "print('Critical values:')\n",
    "for k, v in result[4].items():\n",
    "    print('\\t%s: %.3f' % (k, v))\n",
    "\n",
    "frac_df = pd.Series(index=close_prices.index, data=fracs).rename('fracdiff')\n",
    "frac_df.tail()"
   ]
  },
  {
   "cell_type": "code",
   "execution_count": 30,
   "metadata": {},
   "outputs": [
    {
     "data": {
      "text/plain": [
       "(512, 3)"
      ]
     },
     "execution_count": 30,
     "metadata": {},
     "output_type": "execute_result"
    }
   ],
   "source": [
    "ma_events.shape"
   ]
  },
  {
   "cell_type": "code",
   "execution_count": 31,
   "metadata": {},
   "outputs": [
    {
     "data": {
      "text/plain": [
       "(512, 3)"
      ]
     },
     "execution_count": 31,
     "metadata": {},
     "output_type": "execute_result"
    }
   ],
   "source": [
    "labels.shape"
   ]
  },
  {
   "cell_type": "code",
   "execution_count": 32,
   "metadata": {},
   "outputs": [
    {
     "data": {
      "text/plain": [
       "(19945,)"
      ]
     },
     "execution_count": 32,
     "metadata": {},
     "output_type": "execute_result"
    }
   ],
   "source": [
    "auto_corr.shape"
   ]
  },
  {
   "cell_type": "code",
   "execution_count": 33,
   "metadata": {},
   "outputs": [
    {
     "name": "stdout",
     "output_type": "stream",
     "text": [
      "                             trgt  side  autocorr    fast_ma   slow_ma  \\\n",
      "2013-06-21 07:09:37.942  0.011954  -1.0  0.975765  1583.0875  1590.175   \n",
      "2013-06-21 14:31:34.774  0.011097   1.0  0.968678  1589.8500  1587.230   \n",
      "2013-06-24 03:22:10.088  0.010504   1.0  0.981188  1584.6750  1581.755   \n",
      "2013-06-25 19:33:49.301  0.011368   1.0  0.979041  1579.4250  1576.015   \n",
      "2013-06-26 12:26:25.424  0.010686   1.0  0.980111  1582.3500  1578.950   \n",
      "\n",
      "                         fracdiff  \n",
      "2013-06-21 07:09:37.942  0.290053  \n",
      "2013-06-21 14:31:34.774  0.283423  \n",
      "2013-06-24 03:22:10.088  0.281016  \n",
      "2013-06-25 19:33:49.301  0.289833  \n",
      "2013-06-26 12:26:25.424  0.291114  \n"
     ]
    }
   ],
   "source": [
    "# Create feature matrix\n",
    "X = pd.DataFrame(labels['trgt'])\n",
    "X['side'] = [ma_events['side'][x] for x in X.index]\n",
    "X['autocorr'] = [auto_corr[x] for x in X.index]\n",
    "X['fast_ma'] = [signal_df['fast_ma'][x] for x in X.index]\n",
    "X['slow_ma'] = [signal_df['slow_ma'][x] for x in X.index]\n",
    "X['fracdiff'] = [frac_df[x] for x in X.index]\n",
    "print(X.tail())"
   ]
  },
  {
   "cell_type": "code",
   "execution_count": 34,
   "metadata": {},
   "outputs": [],
   "source": [
    "# extract y values\n",
    "y = labels.bin.to_frame()"
   ]
  },
  {
   "cell_type": "code",
   "execution_count": 35,
   "metadata": {},
   "outputs": [
    {
     "name": "stdout",
     "output_type": "stream",
     "text": [
      "(512, 6)\n",
      "(512, 1)\n"
     ]
    }
   ],
   "source": [
    "print(X.shape)\n",
    "print(y.shape)"
   ]
  },
  {
   "cell_type": "code",
   "execution_count": 36,
   "metadata": {},
   "outputs": [],
   "source": [
    "X_train, X_test, y_train, y_test = train_test_split(X, y, test_size=0.2, shuffle=False)"
   ]
  },
  {
   "cell_type": "code",
   "execution_count": 37,
   "metadata": {},
   "outputs": [
    {
     "name": "stdout",
     "output_type": "stream",
     "text": [
      "(409, 6)\n",
      "(409, 1)\n"
     ]
    }
   ],
   "source": [
    "print(X_train.shape)\n",
    "print(y_train.shape)"
   ]
  },
  {
   "cell_type": "code",
   "execution_count": 38,
   "metadata": {},
   "outputs": [
    {
     "data": {
      "text/plain": [
       "RandomForestClassifier(bootstrap=True, class_weight=None, criterion='entropy',\n",
       "            max_depth=5, max_features='auto', max_leaf_nodes=None,\n",
       "            min_impurity_decrease=0.0, min_impurity_split=None,\n",
       "            min_samples_leaf=1, min_samples_split=2,\n",
       "            min_weight_fraction_leaf=0.0, n_estimators=10000, n_jobs=None,\n",
       "            oob_score=False, random_state=42, verbose=0, warm_start=False)"
      ]
     },
     "execution_count": 38,
     "metadata": {},
     "output_type": "execute_result"
    }
   ],
   "source": [
    "n_estimator = 10000\n",
    "c_random_state = 42\n",
    "\n",
    "rf = RandomForestClassifier(max_depth=5, n_estimators=n_estimator,\n",
    "                            criterion='entropy', random_state=c_random_state)\n",
    "rf.fit(X_train, y_train.values.ravel())"
   ]
  },
  {
   "cell_type": "markdown",
   "metadata": {},
   "source": [
    "### Performance: Training"
   ]
  },
  {
   "cell_type": "code",
   "execution_count": 39,
   "metadata": {},
   "outputs": [
    {
     "name": "stdout",
     "output_type": "stream",
     "text": [
      "              precision    recall  f1-score   support\n",
      "\n",
      "           0       0.74      0.98      0.84       252\n",
      "           1       0.92      0.46      0.61       157\n",
      "\n",
      "   micro avg       0.78      0.78      0.78       409\n",
      "   macro avg       0.83      0.72      0.73       409\n",
      "weighted avg       0.81      0.78      0.76       409\n",
      "\n",
      "Confusion Matrix\n",
      "[[246   6]\n",
      " [ 85  72]]\n"
     ]
    },
    {
     "data": {
      "image/png": "[encoded data removed]",
      "text/plain": [
       "<Figure size 432x288 with 1 Axes>"
      ]
     },
     "metadata": {
      "needs_background": "light"
     },
     "output_type": "display_data"
    }
   ],
   "source": [
    "# Performance Metrics\n",
    "y_pred_rf = rf.predict_proba(X_train)[:, 1]\n",
    "y_pred = rf.predict(X_train)\n",
    "fpr_rf, tpr_rf, _ = roc_curve(y_train, y_pred_rf)\n",
    "print(classification_report(y_train, y_pred))\n",
    "\n",
    "print(\"Confusion Matrix\")\n",
    "print(confusion_matrix(y_train, y_pred))\n",
    "\n",
    "plt.figure(1)\n",
    "plt.plot([0, 1], [0, 1], 'k--')\n",
    "plt.plot(fpr_rf, tpr_rf, label='RF')\n",
    "plt.xlabel('False positive rate')\n",
    "plt.ylabel('True positive rate')\n",
    "plt.title('ROC curve')\n",
    "plt.legend(loc='best')\n",
    "plt.show()"
   ]
  },
  {
   "cell_type": "markdown",
   "metadata": {},
   "source": [
    "### Performance: Test"
   ]
  },
  {
   "cell_type": "code",
   "execution_count": 40,
   "metadata": {},
   "outputs": [
    {
     "name": "stdout",
     "output_type": "stream",
     "text": [
      "              precision    recall  f1-score   support\n",
      "\n",
      "           0       0.81      0.96      0.88        82\n",
      "           1       0.40      0.10      0.15        21\n",
      "\n",
      "   micro avg       0.79      0.79      0.79       103\n",
      "   macro avg       0.60      0.53      0.52       103\n",
      "weighted avg       0.72      0.79      0.73       103\n",
      "\n",
      "Confusion Matrix\n",
      "[[79  3]\n",
      " [19  2]]\n"
     ]
    },
    {
     "data": {
      "image/png": "[encoded data removed]",
      "text/plain": [
       "<Figure size 432x288 with 1 Axes>"
      ]
     },
     "metadata": {
      "needs_background": "light"
     },
     "output_type": "display_data"
    }
   ],
   "source": [
    "# Performance Metrics\n",
    "y_pred_rf = rf.predict_proba(X_test)[:, 1]\n",
    "y_pred = rf.predict(X_test)\n",
    "fpr_rf, tpr_rf, _ = roc_curve(y_test, y_pred_rf)\n",
    "print(classification_report(y_test, y_pred))\n",
    "\n",
    "print(\"Confusion Matrix\")\n",
    "print(confusion_matrix(y_test, y_pred))\n",
    "\n",
    "plt.figure(1)\n",
    "plt.plot([0, 1], [0, 1], 'k--')\n",
    "plt.plot(fpr_rf, tpr_rf, label='RF')\n",
    "plt.xlabel('False positive rate')\n",
    "plt.ylabel('True positive rate')\n",
    "plt.title('ROC curve')\n",
    "plt.legend(loc='best')\n",
    "plt.show()"
   ]
  },
  {
   "cell_type": "markdown",
   "metadata": {},
   "source": [
    "Bollinger Band Mean Reverting Strategy"
   ]
  },
  {
   "cell_type": "code",
   "execution_count": 41,
   "metadata": {},
   "outputs": [],
   "source": [
    "def bbands(close_prices, window, no_of_stdev):\n",
    "    rolling_mean = close_prices.rolling(window=window).mean()\n",
    "    rolling_std = close_prices.rolling(window=window).std()\n",
    "    # rolling_mean = close_prices.ewm(span=window).mean()\n",
    "    # rolling_std = close_prices.ewm(span=window).std()\n",
    "    \n",
    "    upper_band = rolling_mean + (rolling_std * no_of_stdev)\n",
    "    lower_band = rolling_mean - (rolling_std * no_of_stdev)\n",
    "    \n",
    "    return rolling_mean, upper_band, lower_band\n"
   ]
  },
  {
   "cell_type": "code",
   "execution_count": 61,
   "metadata": {},
   "outputs": [],
   "source": [
    "window = 50\n",
    "rolling_mean, upper_band, lower_band = bbands(close_prices, window, no_of_stdev=2)"
   ]
  },
  {
   "cell_type": "code",
   "execution_count": 62,
   "metadata": {},
   "outputs": [
    {
     "name": "stdout",
     "output_type": "stream",
     "text": [
      "date_time\n",
      "2013-08-30 19:59:51.155    1633.805\n",
      "2013-08-30 19:59:59.085    1633.610\n",
      "2013-08-30 20:00:02.187    1633.400\n",
      "2013-08-30 20:02:23.500    1633.230\n",
      "2013-08-30 20:34:18.899    1633.070\n",
      "Name: close, dtype: float64\n",
      "date_time\n",
      "2013-08-30 19:59:51.155    1641.771313\n",
      "2013-08-30 19:59:59.085    1641.534491\n",
      "2013-08-30 20:00:02.187    1641.021800\n",
      "2013-08-30 20:02:23.500    1640.556107\n",
      "2013-08-30 20:34:18.899    1640.160551\n",
      "Name: close, dtype: float64\n",
      "date_time\n",
      "2013-08-30 19:59:51.155    1625.838687\n",
      "2013-08-30 19:59:59.085    1625.685509\n",
      "2013-08-30 20:00:02.187    1625.778200\n",
      "2013-08-30 20:02:23.500    1625.903893\n",
      "2013-08-30 20:34:18.899    1625.979449\n",
      "Name: close, dtype: float64\n"
     ]
    }
   ],
   "source": [
    "print(rolling_mean.tail())\n",
    "print(upper_band.tail())\n",
    "print(lower_band.tail())"
   ]
  },
  {
   "cell_type": "code",
   "execution_count": 63,
   "metadata": {},
   "outputs": [],
   "source": [
    "# source: https://github.com/Crypto-toolbox/pandas-technical-indicators/blob/master/technical_indicators.py\n",
    "def relative_strength_index(df, n):\n",
    "    \"\"\"Calculate Relative Strength Index(RSI) for given data.\n",
    "    \n",
    "    :param df: pandas.DataFrame\n",
    "    :param n: \n",
    "    :return: pandas.DataFrame\n",
    "    \"\"\"\n",
    "    i = 0\n",
    "    UpI = [0]\n",
    "    DoI = [0]\n",
    "    while i + 1 <= df.index[-1]:\n",
    "        UpMove = df.loc[i + 1, 'high'] - df.loc[i, 'high']\n",
    "        DoMove = df.loc[i, 'low'] - df.loc[i + 1, 'low']\n",
    "        if UpMove > DoMove and UpMove > 0:\n",
    "            UpD = UpMove\n",
    "        else:\n",
    "            UpD = 0\n",
    "        UpI.append(UpD)\n",
    "        if DoMove > UpMove and DoMove > 0:\n",
    "            DoD = DoMove\n",
    "        else:\n",
    "            DoD = 0\n",
    "        DoI.append(DoD)\n",
    "        i = i + 1\n",
    "    UpI = pd.Series(UpI)\n",
    "    DoI = pd.Series(DoI)\n",
    "    PosDI = pd.Series(UpI.ewm(span=n, min_periods=n).mean())\n",
    "    NegDI = pd.Series(DoI.ewm(span=n, min_periods=n).mean())\n",
    "    RSI = pd.Series(round(PosDI * 100. / (PosDI + NegDI)), name='RSI_' + str(n))\n",
    "    # df = df.join(RSI)\n",
    "    return RSI\n"
   ]
  },
  {
   "cell_type": "code",
   "execution_count": 64,
   "metadata": {},
   "outputs": [
    {
     "data": {
      "text/plain": [
       "19995    50.0\n",
       "19996    44.0\n",
       "19997    42.0\n",
       "19998    48.0\n",
       "19999    56.0\n",
       "Name: RSI_14, dtype: float64"
      ]
     },
     "execution_count": 64,
     "metadata": {},
     "output_type": "execute_result"
    }
   ],
   "source": [
    "data.tail()\n",
    "data_df = data.copy(deep=True).reset_index()\n",
    "rsi_df = relative_strength_index(data_df, 14)\n",
    "rsi_df.tail()"
   ]
  },
  {
   "cell_type": "code",
   "execution_count": 65,
   "metadata": {},
   "outputs": [
    {
     "data": {
      "text/html": [
       "<div>\n",
       "<style scoped>\n",
       "    .dataframe tbody tr th:only-of-type {\n",
       "        vertical-align: middle;\n",
       "    }\n",
       "\n",
       "    .dataframe tbody tr th {\n",
       "        vertical-align: top;\n",
       "    }\n",
       "\n",
       "    .dataframe thead th {\n",
       "        text-align: right;\n",
       "    }\n",
       "</style>\n",
       "<table border=\"1\" class=\"dataframe\">\n",
       "  <thead>\n",
       "    <tr style=\"text-align: right;\">\n",
       "      <th></th>\n",
       "      <th>close</th>\n",
       "      <th>avg</th>\n",
       "      <th>upper</th>\n",
       "      <th>lower</th>\n",
       "      <th>rsi</th>\n",
       "      <th>side</th>\n",
       "    </tr>\n",
       "    <tr>\n",
       "      <th>date_time</th>\n",
       "      <th></th>\n",
       "      <th></th>\n",
       "      <th></th>\n",
       "      <th></th>\n",
       "      <th></th>\n",
       "      <th></th>\n",
       "    </tr>\n",
       "  </thead>\n",
       "  <tbody>\n",
       "    <tr>\n",
       "      <th>2013-08-30 19:59:51.155</th>\n",
       "      <td>1630.75</td>\n",
       "      <td>1633.805</td>\n",
       "      <td>1641.771313</td>\n",
       "      <td>1625.838687</td>\n",
       "      <td>50.0</td>\n",
       "      <td>0.0</td>\n",
       "    </tr>\n",
       "    <tr>\n",
       "      <th>2013-08-30 19:59:59.085</th>\n",
       "      <td>1629.25</td>\n",
       "      <td>1633.610</td>\n",
       "      <td>1641.534491</td>\n",
       "      <td>1625.685509</td>\n",
       "      <td>44.0</td>\n",
       "      <td>0.0</td>\n",
       "    </tr>\n",
       "    <tr>\n",
       "      <th>2013-08-30 20:00:02.187</th>\n",
       "      <td>1631.00</td>\n",
       "      <td>1633.400</td>\n",
       "      <td>1641.021800</td>\n",
       "      <td>1625.778200</td>\n",
       "      <td>42.0</td>\n",
       "      <td>0.0</td>\n",
       "    </tr>\n",
       "    <tr>\n",
       "      <th>2013-08-30 20:02:23.500</th>\n",
       "      <td>1632.25</td>\n",
       "      <td>1633.230</td>\n",
       "      <td>1640.556107</td>\n",
       "      <td>1625.903893</td>\n",
       "      <td>48.0</td>\n",
       "      <td>0.0</td>\n",
       "    </tr>\n",
       "    <tr>\n",
       "      <th>2013-08-30 20:34:18.899</th>\n",
       "      <td>1631.75</td>\n",
       "      <td>1633.070</td>\n",
       "      <td>1640.160551</td>\n",
       "      <td>1625.979449</td>\n",
       "      <td>56.0</td>\n",
       "      <td>0.0</td>\n",
       "    </tr>\n",
       "  </tbody>\n",
       "</table>\n",
       "</div>"
      ],
      "text/plain": [
       "                           close       avg        upper        lower   rsi  \\\n",
       "date_time                                                                    \n",
       "2013-08-30 19:59:51.155  1630.75  1633.805  1641.771313  1625.838687  50.0   \n",
       "2013-08-30 19:59:59.085  1629.25  1633.610  1641.534491  1625.685509  44.0   \n",
       "2013-08-30 20:00:02.187  1631.00  1633.400  1641.021800  1625.778200  42.0   \n",
       "2013-08-30 20:02:23.500  1632.25  1633.230  1640.556107  1625.903893  48.0   \n",
       "2013-08-30 20:34:18.899  1631.75  1633.070  1640.160551  1625.979449  56.0   \n",
       "\n",
       "                         side  \n",
       "date_time                      \n",
       "2013-08-30 19:59:51.155   0.0  \n",
       "2013-08-30 19:59:59.085   0.0  \n",
       "2013-08-30 20:00:02.187   0.0  \n",
       "2013-08-30 20:02:23.500   0.0  \n",
       "2013-08-30 20:34:18.899   0.0  "
      ]
     },
     "execution_count": 65,
     "metadata": {},
     "output_type": "execute_result"
    }
   ],
   "source": [
    "# create the data frame\n",
    "signal_df = close_prices.to_frame()\n",
    "signal_df['avg'] = rolling_mean\n",
    "signal_df['upper'] = upper_band\n",
    "signal_df['lower'] = lower_band\n",
    "signal_df['rsi'] = pd.Series(data=rsi_df.values, index=signal_df.index)\n",
    "signal_df['side'] = 0.0\n",
    "\n",
    "signal_df.tail()"
   ]
  },
  {
   "cell_type": "code",
   "execution_count": 66,
   "metadata": {},
   "outputs": [
    {
     "data": {
      "text/html": [
       "<div>\n",
       "<style scoped>\n",
       "    .dataframe tbody tr th:only-of-type {\n",
       "        vertical-align: middle;\n",
       "    }\n",
       "\n",
       "    .dataframe tbody tr th {\n",
       "        vertical-align: top;\n",
       "    }\n",
       "\n",
       "    .dataframe thead th {\n",
       "        text-align: right;\n",
       "    }\n",
       "</style>\n",
       "<table border=\"1\" class=\"dataframe\">\n",
       "  <thead>\n",
       "    <tr style=\"text-align: right;\">\n",
       "      <th></th>\n",
       "      <th>close</th>\n",
       "      <th>avg</th>\n",
       "      <th>upper</th>\n",
       "      <th>lower</th>\n",
       "      <th>rsi</th>\n",
       "      <th>side</th>\n",
       "      <th>short_entry</th>\n",
       "      <th>long_entry</th>\n",
       "      <th>short_exit</th>\n",
       "      <th>long_exit</th>\n",
       "    </tr>\n",
       "    <tr>\n",
       "      <th>date_time</th>\n",
       "      <th></th>\n",
       "      <th></th>\n",
       "      <th></th>\n",
       "      <th></th>\n",
       "      <th></th>\n",
       "      <th></th>\n",
       "      <th></th>\n",
       "      <th></th>\n",
       "      <th></th>\n",
       "      <th></th>\n",
       "    </tr>\n",
       "  </thead>\n",
       "  <tbody>\n",
       "    <tr>\n",
       "      <th>2013-08-30 19:59:51.155</th>\n",
       "      <td>1630.75</td>\n",
       "      <td>1633.805</td>\n",
       "      <td>1641.771313</td>\n",
       "      <td>1625.838687</td>\n",
       "      <td>50.0</td>\n",
       "      <td>0.0</td>\n",
       "      <td>0</td>\n",
       "      <td>0</td>\n",
       "      <td>1</td>\n",
       "      <td>0</td>\n",
       "    </tr>\n",
       "    <tr>\n",
       "      <th>2013-08-30 19:59:59.085</th>\n",
       "      <td>1629.25</td>\n",
       "      <td>1633.610</td>\n",
       "      <td>1641.534491</td>\n",
       "      <td>1625.685509</td>\n",
       "      <td>44.0</td>\n",
       "      <td>0.0</td>\n",
       "      <td>0</td>\n",
       "      <td>0</td>\n",
       "      <td>1</td>\n",
       "      <td>0</td>\n",
       "    </tr>\n",
       "    <tr>\n",
       "      <th>2013-08-30 20:00:02.187</th>\n",
       "      <td>1631.00</td>\n",
       "      <td>1633.400</td>\n",
       "      <td>1641.021800</td>\n",
       "      <td>1625.778200</td>\n",
       "      <td>42.0</td>\n",
       "      <td>0.0</td>\n",
       "      <td>0</td>\n",
       "      <td>0</td>\n",
       "      <td>1</td>\n",
       "      <td>0</td>\n",
       "    </tr>\n",
       "    <tr>\n",
       "      <th>2013-08-30 20:02:23.500</th>\n",
       "      <td>1632.25</td>\n",
       "      <td>1633.230</td>\n",
       "      <td>1640.556107</td>\n",
       "      <td>1625.903893</td>\n",
       "      <td>48.0</td>\n",
       "      <td>0.0</td>\n",
       "      <td>0</td>\n",
       "      <td>0</td>\n",
       "      <td>1</td>\n",
       "      <td>0</td>\n",
       "    </tr>\n",
       "    <tr>\n",
       "      <th>2013-08-30 20:34:18.899</th>\n",
       "      <td>1631.75</td>\n",
       "      <td>1633.070</td>\n",
       "      <td>1640.160551</td>\n",
       "      <td>1625.979449</td>\n",
       "      <td>56.0</td>\n",
       "      <td>0.0</td>\n",
       "      <td>0</td>\n",
       "      <td>0</td>\n",
       "      <td>1</td>\n",
       "      <td>0</td>\n",
       "    </tr>\n",
       "  </tbody>\n",
       "</table>\n",
       "</div>"
      ],
      "text/plain": [
       "                           close       avg        upper        lower   rsi  \\\n",
       "date_time                                                                    \n",
       "2013-08-30 19:59:51.155  1630.75  1633.805  1641.771313  1625.838687  50.0   \n",
       "2013-08-30 19:59:59.085  1629.25  1633.610  1641.534491  1625.685509  44.0   \n",
       "2013-08-30 20:00:02.187  1631.00  1633.400  1641.021800  1625.778200  42.0   \n",
       "2013-08-30 20:02:23.500  1632.25  1633.230  1640.556107  1625.903893  48.0   \n",
       "2013-08-30 20:34:18.899  1631.75  1633.070  1640.160551  1625.979449  56.0   \n",
       "\n",
       "                         side  short_entry  long_entry  short_exit  long_exit  \n",
       "date_time                                                                      \n",
       "2013-08-30 19:59:51.155   0.0            0           0           1          0  \n",
       "2013-08-30 19:59:59.085   0.0            0           0           1          0  \n",
       "2013-08-30 20:00:02.187   0.0            0           0           1          0  \n",
       "2013-08-30 20:02:23.500   0.0            0           0           1          0  \n",
       "2013-08-30 20:34:18.899   0.0            0           0           1          0  "
      ]
     },
     "execution_count": 66,
     "metadata": {},
     "output_type": "execute_result"
    }
   ],
   "source": [
    "# add the entry and exit points for longs and shorts\n",
    "# ref: https://www.babypips.com/trading/system-rules-short-term-bollinger-reversion-strategy\n",
    "\n",
    "signal_df['short_entry'] = [1 if signal_df['close'][x] >= signal_df['upper'][x] else 0 \n",
    "                            for x in range(0, len(signal_df))]\n",
    "\n",
    "signal_df['long_entry'] = [1 if signal_df['close'][x] <= signal_df['lower'][x] else 0 \n",
    "                           for x in range(0, len(signal_df))]\n",
    "\n",
    "signal_df['short_exit'] = [1 if signal_df['close'][x] < signal_df['avg'][x] else 0 \n",
    "                           for x in range(0, len(signal_df))]\n",
    "\n",
    "signal_df['long_exit'] = [1 if signal_df['close'][x] > signal_df['avg'][x] else 0 \n",
    "                          for x in range(0, len(signal_df))]\n",
    "\n",
    "\n",
    "signal_df.tail()"
   ]
  },
  {
   "cell_type": "code",
   "execution_count": 67,
   "metadata": {},
   "outputs": [],
   "source": [
    "# from pytictoc import TicToc"
   ]
  },
  {
   "cell_type": "code",
   "execution_count": 83,
   "metadata": {},
   "outputs": [
    {
     "name": "stderr",
     "output_type": "stream",
     "text": [
      "C:\\Users\\Asingh\\Anaconda3\\lib\\site-packages\\ipykernel_launcher.py:31: SettingWithCopyWarning: \n",
      "A value is trying to be set on a copy of a slice from a DataFrame\n",
      "\n",
      "See the caveats in the documentation: http://pandas.pydata.org/pandas-docs/stable/indexing.html#indexing-view-versus-copy\n",
      "C:\\Users\\Asingh\\Anaconda3\\lib\\site-packages\\ipykernel_launcher.py:15: SettingWithCopyWarning: \n",
      "A value is trying to be set on a copy of a slice from a DataFrame\n",
      "\n",
      "See the caveats in the documentation: http://pandas.pydata.org/pandas-docs/stable/indexing.html#indexing-view-versus-copy\n",
      "  from ipykernel import kernelapp as app\n",
      "C:\\Users\\Asingh\\Anaconda3\\lib\\site-packages\\ipykernel_launcher.py:27: SettingWithCopyWarning: \n",
      "A value is trying to be set on a copy of a slice from a DataFrame\n",
      "\n",
      "See the caveats in the documentation: http://pandas.pydata.org/pandas-docs/stable/indexing.html#indexing-view-versus-copy\n",
      "C:\\Users\\Asingh\\Anaconda3\\lib\\site-packages\\ipykernel_launcher.py:22: SettingWithCopyWarning: \n",
      "A value is trying to be set on a copy of a slice from a DataFrame\n",
      "\n",
      "See the caveats in the documentation: http://pandas.pydata.org/pandas-docs/stable/indexing.html#indexing-view-versus-copy\n"
     ]
    },
    {
     "name": "stdout",
     "output_type": "stream",
     "text": [
      "507.962803556\n"
     ]
    }
   ],
   "source": [
    "# determine side\n",
    "start_time = timeit.default_timer()\n",
    "curr_state = None\n",
    "c_long = 1\n",
    "c_short = -1\n",
    "\n",
    "for i in signal_df.index:\n",
    "    if curr_state == c_long:\n",
    "        \n",
    "        if signal_df['long_exit'][i] == 1:\n",
    "            curr_state = None\n",
    "        else:\n",
    "            signal_df['side'][i] = c_long\n",
    "    \n",
    "    elif curr_state == c_short:\n",
    "        \n",
    "        if signal_df['short_exit'][i] == 1:\n",
    "            curr_state = None\n",
    "        else:\n",
    "            signal_df['side'][i] = c_short\n",
    " \n",
    "    elif curr_state is None:\n",
    "        if signal_df['short_entry'][i] == 1:\n",
    "            curr_state = c_short\n",
    "            signal_df['side'][i] = c_short\n",
    "        \n",
    "        elif signal_df['long_entry'][i] == 1:\n",
    "            curr_state = c_long\n",
    "            signal_df['side'][i] = c_long\n",
    "         \n",
    "print(timeit.default_timer() - start_time)\n"
   ]
  },
  {
   "cell_type": "code",
   "execution_count": 81,
   "metadata": {},
   "outputs": [
    {
     "data": {
      "text/plain": [
       " 0.0    19929\n",
       " 1.0       69\n",
       "-1.0        2\n",
       "Name: side, dtype: int64"
      ]
     },
     "execution_count": 81,
     "metadata": {},
     "output_type": "execute_result"
    }
   ],
   "source": [
    "signal_df['side'].value_counts()"
   ]
  },
  {
   "cell_type": "code",
   "execution_count": 70,
   "metadata": {},
   "outputs": [
    {
     "name": "stderr",
     "output_type": "stream",
     "text": [
      "D:\\Documents\\WQU\\Courses\\14 - Capstone 690\\cs\\chapter3\\mlfinlab\\corefns\\core_functions.py:205: FutureWarning: \n",
      "Passing list-likes to .loc or [] with any missing label will raise\n",
      "KeyError in the future, you can use .reindex() as an alternative.\n",
      "\n",
      "See the documentation here:\n",
      "https://pandas.pydata.org/pandas-docs/stable/indexing.html#deprecate-loc-reindex-listlike\n",
      "  target = target.loc[t_events]\n"
     ]
    }
   ],
   "source": [
    "# extract side as a series \n",
    "side = signal_df['side']\n",
    "bb_events = CoreFunctions.get_events(close_prices,                                     \n",
    "                                     t_events=cusum_events,\n",
    "                                     pt_sl=[0, 2],\n",
    "                                     target=vol,\n",
    "                                     min_ret=0.01,\n",
    "                                     num_threads=1,\n",
    "                                     vertical_barrier_times=vertical_barriers,\n",
    "                                     side=side)\n"
   ]
  },
  {
   "cell_type": "code",
   "execution_count": 71,
   "metadata": {},
   "outputs": [
    {
     "data": {
      "text/plain": [
       "0.0    512\n",
       "Name: side, dtype: int64"
      ]
     },
     "execution_count": 71,
     "metadata": {},
     "output_type": "execute_result"
    }
   ],
   "source": [
    "bb_events.tail()\n",
    "bb_events.side.value_counts()"
   ]
  },
  {
   "cell_type": "code",
   "execution_count": 72,
   "metadata": {},
   "outputs": [],
   "source": [
    "labels = CoreFunctions.get_bins(bb_events, close_prices)"
   ]
  },
  {
   "cell_type": "code",
   "execution_count": 73,
   "metadata": {},
   "outputs": [
    {
     "name": "stdout",
     "output_type": "stream",
     "text": [
      "                         ret      trgt  bin\n",
      "2011-08-04 01:57:00.466 -0.0  0.011060    0\n",
      "2011-08-04 09:53:01.844 -0.0  0.011529    0\n",
      "2011-08-04 12:43:40.327 -0.0  0.010884    0\n",
      "2011-08-04 19:30:23.101 -0.0  0.010586    0\n",
      "2011-08-04 19:53:02.682  0.0  0.012946    0\n"
     ]
    },
    {
     "data": {
      "text/plain": [
       "0    512\n",
       "Name: bin, dtype: int64"
      ]
     },
     "execution_count": 73,
     "metadata": {},
     "output_type": "execute_result"
    }
   ],
   "source": [
    "print(labels.head())\n",
    "labels.bin.value_counts()"
   ]
  },
  {
   "cell_type": "code",
   "execution_count": 74,
   "metadata": {},
   "outputs": [
    {
     "data": {
      "text/plain": [
       "date_time\n",
       "2013-08-30 19:59:51.155    0.288143\n",
       "2013-08-30 19:59:59.085    0.287063\n",
       "2013-08-30 20:00:02.187    0.288437\n",
       "2013-08-30 20:02:23.500    0.288869\n",
       "2013-08-30 20:34:18.899    0.288184\n",
       "Name: fracdiff, dtype: float64"
      ]
     },
     "execution_count": 74,
     "metadata": {},
     "output_type": "execute_result"
    }
   ],
   "source": [
    "frac_df.tail()"
   ]
  },
  {
   "cell_type": "code",
   "execution_count": 75,
   "metadata": {},
   "outputs": [
    {
     "name": "stdout",
     "output_type": "stream",
     "text": [
      "                             trgt  side  autocorr        upper        lower  \\\n",
      "2013-06-21 07:09:37.942  0.011954   0.0  0.975765  1604.295925  1576.054075   \n",
      "2013-06-21 14:31:34.774  0.011097   0.0  0.968678  1597.045045  1577.414955   \n",
      "2013-06-24 03:22:10.088  0.010504   0.0  0.981188  1591.878971  1571.631029   \n",
      "2013-06-25 19:33:49.301  0.011368   0.0  0.979041  1585.680006  1566.349994   \n",
      "2013-06-26 12:26:25.424  0.010686   0.0  0.980111  1588.511829  1569.388171   \n",
      "\n",
      "                         fracdiff  \n",
      "2013-06-21 07:09:37.942  0.290053  \n",
      "2013-06-21 14:31:34.774  0.283423  \n",
      "2013-06-24 03:22:10.088  0.281016  \n",
      "2013-06-25 19:33:49.301  0.289833  \n",
      "2013-06-26 12:26:25.424  0.291114  \n"
     ]
    }
   ],
   "source": [
    "# Create feature matrix\n",
    "X = pd.DataFrame(labels['trgt'])\n",
    "X['side'] = [bb_events['side'][x] for x in X.index]\n",
    "X['autocorr'] = [auto_corr[x] for x in X.index]\n",
    "X['upper'] = [signal_df['upper'][x] for x in X.index]\n",
    "X['lower'] = [signal_df['lower'][x] for x in X.index]\n",
    "X['fracdiff'] = [frac_df[x] for x in X.index]\n",
    "print(X.tail())"
   ]
  },
  {
   "cell_type": "code",
   "execution_count": 76,
   "metadata": {},
   "outputs": [],
   "source": [
    "# extract y values\n",
    "y = labels.bin.to_frame()"
   ]
  },
  {
   "cell_type": "code",
   "execution_count": 77,
   "metadata": {},
   "outputs": [],
   "source": [
    "X_train, X_test, y_train, y_test = train_test_split(X, y, test_size=0.2, shuffle=False)"
   ]
  },
  {
   "cell_type": "code",
   "execution_count": 78,
   "metadata": {},
   "outputs": [
    {
     "data": {
      "text/plain": [
       "RandomForestClassifier(bootstrap=True, class_weight=None, criterion='entropy',\n",
       "            max_depth=5, max_features='auto', max_leaf_nodes=None,\n",
       "            min_impurity_decrease=0.0, min_impurity_split=None,\n",
       "            min_samples_leaf=1, min_samples_split=2,\n",
       "            min_weight_fraction_leaf=0.0, n_estimators=10000, n_jobs=None,\n",
       "            oob_score=False, random_state=42, verbose=0, warm_start=False)"
      ]
     },
     "execution_count": 78,
     "metadata": {},
     "output_type": "execute_result"
    }
   ],
   "source": [
    "n_estimator = 10000\n",
    "c_random_state = 42\n",
    "\n",
    "rf = RandomForestClassifier(max_depth=5, n_estimators=n_estimator,\n",
    "                            criterion='entropy', random_state=c_random_state)\n",
    "rf.fit(X_train, y_train.values.ravel())"
   ]
  },
  {
   "cell_type": "markdown",
   "metadata": {},
   "source": [
    "Performance: Training"
   ]
  },
  {
   "cell_type": "code",
   "execution_count": 79,
   "metadata": {},
   "outputs": [
    {
     "ename": "IndexError",
     "evalue": "index 1 is out of bounds for axis 1 with size 1",
     "output_type": "error",
     "traceback": [
      "\u001b[1;31m---------------------------------------------------------------------------\u001b[0m",
      "\u001b[1;31mIndexError\u001b[0m                                Traceback (most recent call last)",
      "\u001b[1;32m<ipython-input-79-f5c24d1be06f>\u001b[0m in \u001b[0;36m<module>\u001b[1;34m\u001b[0m\n\u001b[0;32m      1\u001b[0m \u001b[1;31m# Performance Metrics\u001b[0m\u001b[1;33m\u001b[0m\u001b[1;33m\u001b[0m\u001b[1;33m\u001b[0m\u001b[0m\n\u001b[1;32m----> 2\u001b[1;33m \u001b[0my_pred_rf\u001b[0m \u001b[1;33m=\u001b[0m \u001b[0mrf\u001b[0m\u001b[1;33m.\u001b[0m\u001b[0mpredict_proba\u001b[0m\u001b[1;33m(\u001b[0m\u001b[0mX_train\u001b[0m\u001b[1;33m)\u001b[0m\u001b[1;33m[\u001b[0m\u001b[1;33m:\u001b[0m\u001b[1;33m,\u001b[0m \u001b[1;36m1\u001b[0m\u001b[1;33m]\u001b[0m\u001b[1;33m\u001b[0m\u001b[1;33m\u001b[0m\u001b[0m\n\u001b[0m\u001b[0;32m      3\u001b[0m \u001b[0my_pred\u001b[0m \u001b[1;33m=\u001b[0m \u001b[0mrf\u001b[0m\u001b[1;33m.\u001b[0m\u001b[0mpredict\u001b[0m\u001b[1;33m(\u001b[0m\u001b[0mX_train\u001b[0m\u001b[1;33m)\u001b[0m\u001b[1;33m\u001b[0m\u001b[1;33m\u001b[0m\u001b[0m\n\u001b[0;32m      4\u001b[0m \u001b[0mfpr_rf\u001b[0m\u001b[1;33m,\u001b[0m \u001b[0mtpr_rf\u001b[0m\u001b[1;33m,\u001b[0m \u001b[0m_\u001b[0m \u001b[1;33m=\u001b[0m \u001b[0mroc_curve\u001b[0m\u001b[1;33m(\u001b[0m\u001b[0my_train\u001b[0m\u001b[1;33m,\u001b[0m \u001b[0my_pred_rf\u001b[0m\u001b[1;33m)\u001b[0m\u001b[1;33m\u001b[0m\u001b[1;33m\u001b[0m\u001b[0m\n\u001b[0;32m      5\u001b[0m \u001b[0mprint\u001b[0m\u001b[1;33m(\u001b[0m\u001b[0mclassification_report\u001b[0m\u001b[1;33m(\u001b[0m\u001b[0my_train\u001b[0m\u001b[1;33m,\u001b[0m \u001b[0my_pred\u001b[0m\u001b[1;33m)\u001b[0m\u001b[1;33m)\u001b[0m\u001b[1;33m\u001b[0m\u001b[1;33m\u001b[0m\u001b[0m\n",
      "\u001b[1;31mIndexError\u001b[0m: index 1 is out of bounds for axis 1 with size 1"
     ]
    }
   ],
   "source": [
    "# Performance Metrics\n",
    "y_pred_rf = rf.predict_proba(X_train)[:, 1]\n",
    "y_pred = rf.predict(X_train)\n",
    "fpr_rf, tpr_rf, _ = roc_curve(y_train, y_pred_rf)\n",
    "print(classification_report(y_train, y_pred))\n",
    "\n",
    "print(\"Confusion Matrix\")\n",
    "print(confusion_matrix(y_train, y_pred))\n",
    "\n",
    "plt.figure(1)\n",
    "plt.plot([0, 1], [0, 1], 'k--')\n",
    "plt.plot(fpr_rf, tpr_rf, label='RF')\n",
    "plt.xlabel('False positive rate')\n",
    "plt.ylabel('True positive rate')\n",
    "plt.title('ROC curve')\n",
    "plt.legend(loc='best')\n",
    "plt.show()"
   ]
  },
  {
   "cell_type": "markdown",
   "metadata": {},
   "source": [
    "Performance: Test"
   ]
  },
  {
   "cell_type": "code",
   "execution_count": null,
   "metadata": {},
   "outputs": [],
   "source": [
    "# Performance Metrics\n",
    "y_pred_rf = rf.predict_proba(X_test)[:, 1]\n",
    "y_pred = rf.predict(X_test)\n",
    "fpr_rf, tpr_rf, _ = roc_curve(y_test, y_pred_rf)\n",
    "print(classification_report(y_test, y_pred))\n",
    "\n",
    "print(\"Confusion Matrix\")\n",
    "print(confusion_matrix(y_test, y_pred))\n",
    "\n",
    "plt.figure(1)\n",
    "plt.plot([0, 1], [0, 1], 'k--')\n",
    "plt.plot(fpr_rf, tpr_rf, label='RF')\n",
    "plt.xlabel('False positive rate')\n",
    "plt.ylabel('True positive rate')\n",
    "plt.title('ROC curve')\n",
    "plt.legend(loc='best')\n",
    "plt.show()"
   ]
  }
 ],
 "metadata": {
  "kernelspec": {
   "display_name": "Python 3",
   "language": "python",
   "name": "python3"
  },
  "language_info": {
   "codemirror_mode": {
    "name": "ipython",
    "version": 3
   },
   "file_extension": ".py",
   "mimetype": "text/x-python",
   "name": "python",
   "nbconvert_exporter": "python",
   "pygments_lexer": "ipython3",
   "version": "3.7.1"
  }
 },
 "nbformat": 4,
 "nbformat_minor": 2
}
